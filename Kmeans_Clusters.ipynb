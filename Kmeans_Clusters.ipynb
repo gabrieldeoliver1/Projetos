{
  "nbformat": 4,
  "nbformat_minor": 0,
  "metadata": {
    "colab": {
      "provenance": []
    },
    "kernelspec": {
      "name": "python3",
      "display_name": "Python 3"
    },
    "language_info": {
      "name": "python"
    }
  },
  "cells": [
    {
      "cell_type": "code",
      "execution_count": null,
      "metadata": {
        "id": "vCUaI3C47pCT"
      },
      "outputs": [],
      "source": [
        "import pandas as pd\n",
        "from sklearn.cluster import KMeans\n",
        "import seaborn as sns\n",
        "\n",
        "data_full = pd.read_csv('/datasets/cars_label.csv')\n",
        "\n",
        "data = data_full.drop(columns=['brand'])\n",
        "\n",
        "model = KMeans(n_clusters=3, random_state=12345)\n",
        "model.fit(data)\n",
        "centroids = pd.DataFrame(model.cluster_centers_, columns=data.columns)\n",
        "\n",
        "pairgrid = sns.pairplot(data_full, hue='brand', diag_kind='hist')\n",
        "pairgrid.data = centroids\n",
        "pairgrid.map_offdiag(func=sns.scatterplot, s=200, marker='*', color='red')"
      ]
    }
  ]
}