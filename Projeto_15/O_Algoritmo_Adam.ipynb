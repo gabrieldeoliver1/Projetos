{
  "nbformat": 4,
  "nbformat_minor": 0,
  "metadata": {
    "colab": {
      "provenance": []
    },
    "kernelspec": {
      "name": "python3",
      "display_name": "Python 3"
    },
    "language_info": {
      "name": "python"
    }
  },
  "cells": [
    {
      "cell_type": "code",
      "execution_count": null,
      "metadata": {
        "id": "xOzZOyVXHKeH"
      },
      "outputs": [],
      "source": [
        "from tensorflow.keras.datasets import fashion_mnist\n",
        "from tensorflow.keras.layers import Conv2D, MaxPooling2D, Flatten, Dense\n",
        "from tensorflow.keras.models import Sequential\n",
        "import numpy as np\n",
        "\n",
        "\n",
        "def load_train(path):\n",
        "    features_train = np.load(path + 'train_features.npy')\n",
        "    target_train = np.load(path + 'train_target.npy')\n",
        "    features_train = features_train.reshape(features_train.shape[0], 28, 28, 1) / 255.0\n",
        "    return features_train, target_train\n",
        "\n",
        "\n",
        "def create_model(input_shape):\n",
        "    model = Sequential()\n",
        "    model.add(Conv2D(6, kernel_size=(5, 5), padding='same', activation='tanh', input_shape=input_shape))\n",
        "    model.add(MaxPooling2D(pool_size=(2, 2)))\n",
        "    model.add(Conv2D(16, kernel_size=(5, 5), padding='valid', activation='tanh'))\n",
        "    model.add(MaxPooling2D(pool_size=(2, 2)))\n",
        "    model.add(Flatten())\n",
        "    model.add(Dense(120, activation='tanh'))\n",
        "    model.add(Dense(84, activation='tanh'))\n",
        "    model.add(Dense(10, activation='softmax'))\n",
        "    model.compile(optimizer='adam', loss='sparse_categorical_crossentropy', metrics=['acc'])\n",
        "    return model\n",
        "\n",
        "\n",
        "def train_model(model, train_data, test_data, batch_size=32, epochs=5, steps_per_epoch=None, validation_steps=None):\n",
        "    features_train, target_train = train_data\n",
        "    features_test, target_test = test_data\n",
        "    model.fit(features_train, target_train, validation_data=(features_test, target_test),\n",
        "              batch_size=batch_size, epochs=epochs, steps_per_epoch=steps_per_epoch,\n",
        "              validation_steps=validation_steps, verbose=2, shuffle=True)\n",
        "    return model"
      ]
    }
  ]
}