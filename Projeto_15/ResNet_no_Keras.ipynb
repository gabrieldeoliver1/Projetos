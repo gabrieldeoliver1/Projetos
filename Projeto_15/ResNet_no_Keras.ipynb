{
  "nbformat": 4,
  "nbformat_minor": 0,
  "metadata": {
    "colab": {
      "provenance": []
    },
    "kernelspec": {
      "name": "python3",
      "display_name": "Python 3"
    },
    "language_info": {
      "name": "python"
    }
  },
  "cells": [
    {
      "cell_type": "code",
      "execution_count": null,
      "metadata": {
        "id": "cnxIXkn_QgFz"
      },
      "outputs": [],
      "source": [
        "import tensorflow as tf\n",
        "from tensorflow.keras.models import Sequential\n",
        "from tensorflow.keras.layers import GlobalAveragePooling2D, Dense\n",
        "from tensorflow.keras.applications import ResNet50\n",
        "\n",
        "\n",
        "def load_train(path):\n",
        "    train_datagen = tf.keras.preprocessing.image.ImageDataGenerator(rescale=1/255)\n",
        "    train_data = train_datagen.flow_from_directory(\n",
        "        path,\n",
        "        target_size=(150, 150),\n",
        "        class_mode='sparse',\n",
        "        batch_size=16,\n",
        "        seed=123\n",
        "    )\n",
        "    return train_data\n",
        "\n",
        "def create_model(input_shape=(150, 150, 3)):\n",
        "    model = Sequential()\n",
        "    backbone = ResNet50(input_shape=(150, 150, 3), weights='imagenet', include_top=False)\n",
        "    model.add(backbone)\n",
        "    model.add(GlobalAveragePooling2D())\n",
        "    model.add(Dense(12, activation='softmax'))\n",
        "    model.compile(optimizer='adam', loss='sparse_categorical_crossentropy', metrics=['acc'])\n",
        "    return model\n",
        "\n",
        "def train_model(model, train_data, test_data, batch_size=None, epochs=7, steps_per_epoch=None, validation_steps=None):\n",
        "    if steps_per_epoch is None:\n",
        "        steps_per_epoch = len(train_data)\n",
        "    if validation_steps is None:\n",
        "        validation_steps = len(test_data)\n",
        "\n",
        "    model.fit(train_data,\n",
        "              validation_data=test_data,\n",
        "              batch_size=batch_size,\n",
        "              epochs=epochs,\n",
        "              steps_per_epoch=steps_per_epoch,\n",
        "              validation_steps=validation_steps,\n",
        "              verbose=2)\n",
        "\n",
        "    return model"
      ]
    }
  ]
}