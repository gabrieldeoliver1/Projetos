{
  "nbformat": 4,
  "nbformat_minor": 0,
  "metadata": {
    "colab": {
      "provenance": []
    },
    "kernelspec": {
      "name": "python3",
      "display_name": "Python 3"
    },
    "language_info": {
      "name": "python"
    }
  },
  "cells": [
    {
      "cell_type": "code",
      "source": [
        "\n",
        "from tensorflow.keras.datasets import fashion_mnist\n",
        "from tensorflow.keras.layers import Dense\n",
        "from tensorflow.keras.models import Sequential\n",
        "import numpy as np\n",
        "\n",
        "\n",
        "def load_train(path):\n",
        "    features_train = np.load(path + 'train_features.npy')\n",
        "    target_train = np.load(path + 'train_target.npy')\n",
        "    features_train = (\n",
        "        features_train.reshape(features_train.shape[0], 28 * 28) / 255.0\n",
        "    )\n",
        "    return features_train, target_train\n",
        "\n",
        "\n",
        "def create_model(input_shape):\n",
        "    model = Sequential()\n",
        "    model.add(Dense(64, input_shape=input_shape, activation='relu'))\n",
        "    model.add(Dense(32, input_shape=input_shape, activation='relu'))\n",
        "    model.add(Dense(32, input_shape=input_shape, activation='relu'))\n",
        "    model.add(Dense(10, input_shape=input_shape, activation='softmax'))\n",
        "    model.compile(\n",
        "        optimizer='adam',\n",
        "        loss='sparse_categorical_crossentropy',\n",
        "        metrics=['acc'],\n",
        "    )\n",
        "\n",
        "    return model\n",
        "\n",
        "\n",
        "def train_model(\n",
        "    model,\n",
        "    train_data,\n",
        "    test_data,\n",
        "    batch_size=32,\n",
        "    epochs=5,\n",
        "    steps_per_epoch=None,\n",
        "    validation_steps=None,\n",
        "):\n",
        "\n",
        "    features_train, target_train = train_data\n",
        "    features_test, target_test = test_data\n",
        "    model.fit(\n",
        "        features_train,\n",
        "        target_train,\n",
        "        validation_data=(features_test, target_test),\n",
        "        batch_size=batch_size,\n",
        "        epochs=epochs,\n",
        "        steps_per_epoch=steps_per_epoch,\n",
        "        validation_steps=validation_steps,\n",
        "        verbose=2,\n",
        "        shuffle=True,\n",
        "    )\n",
        "\n",
        "    return model\n"
      ],
      "metadata": {
        "id": "ZkEDQoSJkLa9"
      },
      "execution_count": null,
      "outputs": []
    }
  ]
}