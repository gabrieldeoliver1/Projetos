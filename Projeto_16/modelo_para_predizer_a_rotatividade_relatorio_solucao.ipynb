{
 "cells": [
  {
   "cell_type": "markdown",
   "metadata": {},
   "source": [
    "# Relatório da Solução"
   ]
  },
  {
   "cell_type": "markdown",
   "metadata": {},
   "source": [
    "Relatório no final do Jupyter Notebook com a solução. O líder da equipe irá verificá-lo. O código só será revisado pelo líder da equipe se houver pontos questionáveis."
   ]
  },
  {
   "cell_type": "markdown",
   "metadata": {},
   "source": [
    "## Quais passos do plano foram executados e quais foram pulados (explique por que)?"
   ]
  },
  {
   "cell_type": "markdown",
   "metadata": {},
   "source": [
    "R: Realizei o procedimento em quatro etapas distintas. Primeiramente, procedi com a exclusão e preenchimento de determinadas colunas, visando aprimorar a avaliação e otimização do nosso modelo. Em seguida, tomei medidas para garantir que não houvesse vazamento de dados, assegurando que nosso modelo não fosse enviesado. Para isso, separamos os dados em conjuntos de teste e treinamento.\n",
    "\n",
    "Posteriormente, apliquei a técnica de validação cruzada para estimar quão bem nosso modelo seria capaz de generalizar para dados não observados, proporcionando uma estimativa mais confiável do desempenho do mesmo. Por fim, realizei o treinamento do modelo utilizando o conjunto de dados de treinamento e o testamos com dados reais no conjunto de teste.\n",
    "\n",
    "Cabe ressaltar que todas essas etapas foram concluídas rigorosamente, sem qualquer omissão. Foi elaborado um plano estruturado e conciso, com o objetivo específico de criar um modelo eficiente para prever a rotatividade de nossos clientes, utilizando uma métrica AUROC."
   ]
  },
  {
   "cell_type": "markdown",
   "metadata": {},
   "source": [
    "## Quais dificuldades você encontrou e como conseguiu resolvê-las?"
   ]
  },
  {
   "cell_type": "markdown",
   "metadata": {},
   "source": [
    "R:Para assegurar uma estimativa mais confiável do desempenho do modelo, optei por empregar a validação cruzada. Trata-se de uma técnica sofisticada de avaliação de modelos de aprendizado de máquina, cujo propósito é estimar a capacidade de generalização do modelo para dados não observados. Essa etapa em particular representou o maior desafio durante o processo."
   ]
  },
  {
   "cell_type": "markdown",
   "metadata": {},
   "source": [
    "## Quais foram algumas das etapas principais de resolução da tarefa?"
   ]
  },
  {
   "cell_type": "markdown",
   "metadata": {},
   "source": [
    "R: Além de compreender o modelo de negócio da empresa, uma etapa crucial consistiu na implementação de medidas para evitar o vazamento de dados, garantindo assim que o nosso modelo não fosse enviesado e não produzisse uma solução irrealista para o projeto em questão."
   ]
  },
  {
   "cell_type": "markdown",
   "metadata": {},
   "source": [
    "## Qual é seu modelo final e qual pontuação de qualidade ele tem?"
   ]
  },
  {
   "cell_type": "markdown",
   "metadata": {},
   "source": [
    "R: Pipeline(steps=[('preprocessor',\n",
    "                 ColumnTransformer(transformers=[('cat',\n",
    "                                                  Pipeline(steps=[('imputer',\n",
    "                                                                   SimpleImputer(strategy='most_frequent')),\n",
    "                                                                  ('onehot',\n",
    "                                                                   OneHotEncoder())]),\n",
    "                                                  ['PaymentMethod',\n",
    "                                                   'InternetService',\n",
    "                                                   'OnlineSecurity',\n",
    "                                                   'OnlineBackup',\n",
    "                                                   'OnlineBackup',\n",
    "                                                   'DeviceProtection',\n",
    "                                                   'TechSupport', 'StreamingTV',\n",
    "                                                   'StreamingMovies', 'gender',\n",
    "                                                   'SeniorCitizen', 'Partner',\n",
    "                                                   'Dependents',\n",
    "                                                   'MultipleLines']),\n",
    "                                                 ('num',\n",
    "                                                  Pipeline(steps=[('imputer',\n",
    "                                                                   SimpleImputer()),\n",
    "                                                                  ('scaler',\n",
    "                                                                   StandardScaler())]),\n",
    "                                                  ['TotalCharges'])])),\n",
    "                ('classifier', LogisticRegression())])\n",
    "                "
   ]
  },
  {
   "cell_type": "markdown",
   "metadata": {},
   "source": [
    "y_pred = pipeline.predict_proba(X_test)[:, 1]"
   ]
  },
  {
   "cell_type": "markdown",
   "metadata": {},
   "source": [
    "auroc_score = roc_auc_score(y_test, y_pred)\n",
    "print(f'Pontuação AUROC no conjunto de dados de teste: {auroc_score}')"
   ]
  },
  {
   "cell_type": "markdown",
   "metadata": {},
   "source": [
    "Pontuação AUROC no conjunto de dados de teste: 0.8205149381619972"
   ]
  }
 ],
 "metadata": {
  "kernelspec": {
   "display_name": "Python 3 (ipykernel)",
   "language": "python",
   "name": "python3"
  },
  "language_info": {
   "codemirror_mode": {
    "name": "ipython",
    "version": 3
   },
   "file_extension": ".py",
   "mimetype": "text/x-python",
   "name": "python",
   "nbconvert_exporter": "python",
   "pygments_lexer": "ipython3",
   "version": "3.11.5"
  },
  "toc": {
   "base_numbering": 1,
   "nav_menu": {},
   "number_sections": true,
   "sideBar": true,
   "skip_h1_title": true,
   "title_cell": "Table of Contents",
   "title_sidebar": "Contents",
   "toc_cell": false,
   "toc_position": {},
   "toc_section_display": true,
   "toc_window_display": false
  }
 },
 "nbformat": 4,
 "nbformat_minor": 2
}
