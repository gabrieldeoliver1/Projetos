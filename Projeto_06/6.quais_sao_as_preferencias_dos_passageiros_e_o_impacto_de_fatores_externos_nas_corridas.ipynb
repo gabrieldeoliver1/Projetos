{
 "cells": [
  {
   "cell_type": "markdown",
   "id": "35aef11c-1bb5-40a0-a3b6-37be47c432fc",
   "metadata": {},
   "source": [
    "# Quais são as preferências dos passageiros e o impacto de fatores externos nas corridas ?"
   ]
  },
  {
   "cell_type": "markdown",
   "id": "1ecab8a9-eff0-4250-be2c-79108c56442c",
   "metadata": {},
   "source": [
    "# Contents <a id='back'></a>\n",
    "\n",
    "* [Introdução](#intro)\n",
    "* [Etapa 1. Visão geral dos dados](#data_review)\n",
    "    * [Primeiras conclusões](#data_review_conclusions)\n",
    "* [Etapa 2. Pré-processamento de dados](#data_preprocessing)\n",
    "    * [2.1 Duplicatas](#duplicates)\n",
    "    * [2.2 Conclusões intermediárias](#data_preprocessing_conclusions_intermediary)\n",
    "* [Etapa 3. Transformações dos dados](#tranforamation_data)\n",
    "* [Etapa 4. EDA](#eda)\n",
    "* [Etapa 5. Hipóteses](#hypothesys)\n",
    "* [Conclusões](#end)"
   ]
  },
  {
   "cell_type": "markdown",
   "id": "5e8ceabb-da2f-4388-8d3c-3baaa93eb039",
   "metadata": {},
   "source": [
    "## Introdução <a id='intro'></a>\n",
    "\n",
    "Foi conduzido um estudo de banco de dados para analisar os dados dos concorrentes e testar uma hipótese sobre o impacto do clima na frequência de corridas\n",
    "\n",
    "### Objetivo: \n",
    " - importar os arquivos\n",
    " - estudar os dados que eles contêm\n",
    " - verificar se os tipos de dados estão corretos\n",
    " - identificar os 10 principais bairros em termos de destinos\n",
    " - fazer gráficos: empresas de táxi e número de corridas, top 10 bairros por número de corridas em que esse bairro é destino\n",
    " - tirar conclusões com base em cada gráfico e explicar os resultados\n",
    " \n",
    " ### Etapas \n",
    "- `Os dados sobre o comportamento do usuário é armazenado no arquivo`  \n",
    "\n",
    "/datasets/project_sql_result_01.csv. contém os seguintes dados:\n",
    "- `trips_amount: o número de corridas para cada empresa de táxi de 15 a 16 de novembro de 2017.` \n",
    "\n",
    "\n",
    "/datasets/project_sql_result_04.csv. contém os seguintes dados:\n",
    "- `dropoff_location_name: bairros de Chicago onde as corridas terminaram`\n",
    "- `average_trips: o número médio de viagens que terminaram em cada bairro em novembro de 2017.` \n",
    "\n",
    "\n",
    "/datasets/project_sql_result_07.csv — o resultado da última consulta. \n",
    "\n",
    "Ele contém dados sobre viagens do Loop para o Aeroporto Internacional O'Hare. Lembre-se, estes são os valores dos campos da tabela:  \n",
    "- `start_ts`\n",
    "- `data e hora de coleta`\n",
    "- `weather_conditions`\n",
    "- `condições meteorológicas no momento em que a corrida começou`\n",
    "- `duration_seconds`\n",
    "- `duração da corrida em segundos`\n",
    "\n",
    "Primeiro, você avaliará a qualidade dos dados e ver se seus problemas são significativos. Depois, durante o pré-processamento de dados, você tentará dar conta dos problemas mais críticos problemas.\n",
    " \n",
    "O seu projeto consistirá em cinco etapas:\n",
    " 1. Visão geral dos dados\n",
    " 2. Pré-processamento de dados\n",
    " 3. Transformações dos dados\n",
    " 4. EDA\n",
    " 5. Teste as hipóteses:\n",
    "\"A duração média dos passeios do Loop para o Aeroporto Internacional O'Hare muda nos sábados chuvosos.\" \n",
    "Decida onde definir o nível de significância (alfa) por conta própria.\n",
    "Explique:\n",
    "como você formou as hipóteses nula e alternativa\n",
    "qual critério você usou para testar a hipótese e porque\n",
    "\n",
    "[Voltar ao Índice](#back)"
   ]
  },
  {
   "cell_type": "markdown",
   "id": "f3bc86d6-8b6c-4fe4-a8ba-e22cc8e032c5",
   "metadata": {},
   "source": [
    "## Etapa 1. Visão geral dos dados <a id='data_review'></a>\n",
    "\n",
    "Carregue os dados das consultas, explore-os e carregue bibliotecas que você acredita que são necessárias para o projeto."
   ]
  },
  {
   "cell_type": "code",
   "execution_count": 1,
   "id": "b9e6162a-e267-4824-b1b0-393f4ef24045",
   "metadata": {
    "tags": []
   },
   "outputs": [],
   "source": [
    "# Carregando todas as bibliotecas\n",
    "import pandas as pd\n",
    "import numpy as np\n",
    "import matplotlib.pyplot as plt\n",
    "from scipy import stats as st\n",
    "import seaborn as sns\n",
    "import statsmodels.api as sm\n",
    "import warnings\n",
    "warnings.filterwarnings('ignore')"
   ]
  },
  {
   "cell_type": "code",
   "execution_count": 2,
   "id": "a0a23134-e885-4b5e-a05f-3d0f2fa50e45",
   "metadata": {
    "tags": []
   },
   "outputs": [],
   "source": [
    "# Carregue o arquivo com os dados em um DataFrame\n",
    "df_company = pd.read_csv('C:/Users/gabri/Downloads/Corrigido/Projeto 6/project_sql_result_01.csv')\n",
    "df_location = pd.read_csv('C:/Users/gabri/Downloads/Corrigido/Projeto 6/project_sql_result_04.csv')\n",
    "df_weather = pd.read_csv('C:/Users/gabri/Downloads/Corrigido/Projeto 6/project_sql_result_07.csv')"
   ]
  },
  {
   "cell_type": "code",
   "execution_count": 3,
   "id": "e4a1d361-9aac-4c20-85c9-403280271de9",
   "metadata": {
    "tags": []
   },
   "outputs": [
    {
     "name": "stdout",
     "output_type": "stream",
     "text": [
      "df_company\n",
      "<class 'pandas.core.frame.DataFrame'>\n",
      "RangeIndex: 64 entries, 0 to 63\n",
      "Data columns (total 2 columns):\n",
      " #   Column        Non-Null Count  Dtype \n",
      "---  ------        --------------  ----- \n",
      " 0   company_name  64 non-null     object\n",
      " 1   trips_amount  64 non-null     int64 \n",
      "dtypes: int64(1), object(1)\n",
      "memory usage: 1.1+ KB\n",
      "None\n",
      "\n",
      "-------------------------------------------\n",
      "\n",
      "df_location\n",
      "<class 'pandas.core.frame.DataFrame'>\n",
      "RangeIndex: 94 entries, 0 to 93\n",
      "Data columns (total 2 columns):\n",
      " #   Column                 Non-Null Count  Dtype  \n",
      "---  ------                 --------------  -----  \n",
      " 0   dropoff_location_name  94 non-null     object \n",
      " 1   average_trips          94 non-null     float64\n",
      "dtypes: float64(1), object(1)\n",
      "memory usage: 1.6+ KB\n",
      "None\n",
      "\n",
      "-------------------------------------------\n",
      "\n",
      "df_weather\n",
      "<class 'pandas.core.frame.DataFrame'>\n",
      "RangeIndex: 1068 entries, 0 to 1067\n",
      "Data columns (total 3 columns):\n",
      " #   Column              Non-Null Count  Dtype  \n",
      "---  ------              --------------  -----  \n",
      " 0   start_ts            1068 non-null   object \n",
      " 1   weather_conditions  1068 non-null   object \n",
      " 2   duration_seconds    1068 non-null   float64\n",
      "dtypes: float64(1), object(2)\n",
      "memory usage: 25.2+ KB\n",
      "None\n",
      "\n",
      "-------------------------------------------\n",
      "\n"
     ]
    }
   ],
   "source": [
    "def print_dataframe_info(dataframes):\n",
    "    for df in dataframes:\n",
    "        df_name = [name for name, obj in globals().items() if obj is df][0]\n",
    "        print(df_name)\n",
    "        print(df.info())\n",
    "        print()\n",
    "        print('-------------------------------------------')\n",
    "        print()\n",
    "\n",
    "print_dataframe_info([df_company, df_location, df_weather])"
   ]
  },
  {
   "cell_type": "code",
   "execution_count": 4,
   "id": "457090f5-8a1e-4d75-b13d-4da5fbfc417a",
   "metadata": {
    "tags": []
   },
   "outputs": [
    {
     "data": {
      "text/html": [
       "<div>\n",
       "<style scoped>\n",
       "    .dataframe tbody tr th:only-of-type {\n",
       "        vertical-align: middle;\n",
       "    }\n",
       "\n",
       "    .dataframe tbody tr th {\n",
       "        vertical-align: top;\n",
       "    }\n",
       "\n",
       "    .dataframe thead th {\n",
       "        text-align: right;\n",
       "    }\n",
       "</style>\n",
       "<table border=\"1\" class=\"dataframe\">\n",
       "  <thead>\n",
       "    <tr style=\"text-align: right;\">\n",
       "      <th></th>\n",
       "      <th>company_name</th>\n",
       "      <th>trips_amount</th>\n",
       "    </tr>\n",
       "  </thead>\n",
       "  <tbody>\n",
       "    <tr>\n",
       "      <th>0</th>\n",
       "      <td>Flash Cab</td>\n",
       "      <td>19558</td>\n",
       "    </tr>\n",
       "    <tr>\n",
       "      <th>1</th>\n",
       "      <td>Taxi Affiliation Services</td>\n",
       "      <td>11422</td>\n",
       "    </tr>\n",
       "    <tr>\n",
       "      <th>2</th>\n",
       "      <td>Medallion Leasin</td>\n",
       "      <td>10367</td>\n",
       "    </tr>\n",
       "    <tr>\n",
       "      <th>3</th>\n",
       "      <td>Yellow Cab</td>\n",
       "      <td>9888</td>\n",
       "    </tr>\n",
       "    <tr>\n",
       "      <th>4</th>\n",
       "      <td>Taxi Affiliation Service Yellow</td>\n",
       "      <td>9299</td>\n",
       "    </tr>\n",
       "  </tbody>\n",
       "</table>\n",
       "</div>"
      ],
      "text/plain": [
       "                      company_name  trips_amount\n",
       "0                        Flash Cab         19558\n",
       "1        Taxi Affiliation Services         11422\n",
       "2                 Medallion Leasin         10367\n",
       "3                       Yellow Cab          9888\n",
       "4  Taxi Affiliation Service Yellow          9299"
      ]
     },
     "execution_count": 4,
     "metadata": {},
     "output_type": "execute_result"
    }
   ],
   "source": [
    "df_company.head()"
   ]
  },
  {
   "cell_type": "code",
   "execution_count": 5,
   "id": "987522bc-0ef1-4fe1-b7b0-642ebd312516",
   "metadata": {
    "tags": []
   },
   "outputs": [
    {
     "data": {
      "text/html": [
       "<div>\n",
       "<style scoped>\n",
       "    .dataframe tbody tr th:only-of-type {\n",
       "        vertical-align: middle;\n",
       "    }\n",
       "\n",
       "    .dataframe tbody tr th {\n",
       "        vertical-align: top;\n",
       "    }\n",
       "\n",
       "    .dataframe thead th {\n",
       "        text-align: right;\n",
       "    }\n",
       "</style>\n",
       "<table border=\"1\" class=\"dataframe\">\n",
       "  <thead>\n",
       "    <tr style=\"text-align: right;\">\n",
       "      <th></th>\n",
       "      <th>dropoff_location_name</th>\n",
       "      <th>average_trips</th>\n",
       "    </tr>\n",
       "  </thead>\n",
       "  <tbody>\n",
       "    <tr>\n",
       "      <th>0</th>\n",
       "      <td>Loop</td>\n",
       "      <td>10727.466667</td>\n",
       "    </tr>\n",
       "    <tr>\n",
       "      <th>1</th>\n",
       "      <td>River North</td>\n",
       "      <td>9523.666667</td>\n",
       "    </tr>\n",
       "    <tr>\n",
       "      <th>2</th>\n",
       "      <td>Streeterville</td>\n",
       "      <td>6664.666667</td>\n",
       "    </tr>\n",
       "    <tr>\n",
       "      <th>3</th>\n",
       "      <td>West Loop</td>\n",
       "      <td>5163.666667</td>\n",
       "    </tr>\n",
       "    <tr>\n",
       "      <th>4</th>\n",
       "      <td>O'Hare</td>\n",
       "      <td>2546.900000</td>\n",
       "    </tr>\n",
       "  </tbody>\n",
       "</table>\n",
       "</div>"
      ],
      "text/plain": [
       "  dropoff_location_name  average_trips\n",
       "0                  Loop   10727.466667\n",
       "1           River North    9523.666667\n",
       "2         Streeterville    6664.666667\n",
       "3             West Loop    5163.666667\n",
       "4                O'Hare    2546.900000"
      ]
     },
     "execution_count": 5,
     "metadata": {},
     "output_type": "execute_result"
    }
   ],
   "source": [
    "df_location.head()"
   ]
  },
  {
   "cell_type": "code",
   "execution_count": 6,
   "id": "73cf391b-5a72-40f8-91a0-1c94cd9c677e",
   "metadata": {
    "tags": []
   },
   "outputs": [
    {
     "data": {
      "text/html": [
       "<div>\n",
       "<style scoped>\n",
       "    .dataframe tbody tr th:only-of-type {\n",
       "        vertical-align: middle;\n",
       "    }\n",
       "\n",
       "    .dataframe tbody tr th {\n",
       "        vertical-align: top;\n",
       "    }\n",
       "\n",
       "    .dataframe thead th {\n",
       "        text-align: right;\n",
       "    }\n",
       "</style>\n",
       "<table border=\"1\" class=\"dataframe\">\n",
       "  <thead>\n",
       "    <tr style=\"text-align: right;\">\n",
       "      <th></th>\n",
       "      <th>start_ts</th>\n",
       "      <th>weather_conditions</th>\n",
       "      <th>duration_seconds</th>\n",
       "    </tr>\n",
       "  </thead>\n",
       "  <tbody>\n",
       "    <tr>\n",
       "      <th>0</th>\n",
       "      <td>2017-11-25 16:00:00</td>\n",
       "      <td>Good</td>\n",
       "      <td>2410.0</td>\n",
       "    </tr>\n",
       "    <tr>\n",
       "      <th>1</th>\n",
       "      <td>2017-11-25 14:00:00</td>\n",
       "      <td>Good</td>\n",
       "      <td>1920.0</td>\n",
       "    </tr>\n",
       "    <tr>\n",
       "      <th>2</th>\n",
       "      <td>2017-11-25 12:00:00</td>\n",
       "      <td>Good</td>\n",
       "      <td>1543.0</td>\n",
       "    </tr>\n",
       "    <tr>\n",
       "      <th>3</th>\n",
       "      <td>2017-11-04 10:00:00</td>\n",
       "      <td>Good</td>\n",
       "      <td>2512.0</td>\n",
       "    </tr>\n",
       "    <tr>\n",
       "      <th>4</th>\n",
       "      <td>2017-11-11 07:00:00</td>\n",
       "      <td>Good</td>\n",
       "      <td>1440.0</td>\n",
       "    </tr>\n",
       "  </tbody>\n",
       "</table>\n",
       "</div>"
      ],
      "text/plain": [
       "              start_ts weather_conditions  duration_seconds\n",
       "0  2017-11-25 16:00:00               Good            2410.0\n",
       "1  2017-11-25 14:00:00               Good            1920.0\n",
       "2  2017-11-25 12:00:00               Good            1543.0\n",
       "3  2017-11-04 10:00:00               Good            2512.0\n",
       "4  2017-11-11 07:00:00               Good            1440.0"
      ]
     },
     "execution_count": 6,
     "metadata": {},
     "output_type": "execute_result"
    }
   ],
   "source": [
    "df_weather.head()"
   ]
  },
  {
   "cell_type": "markdown",
   "id": "88a71c9f-7886-4a9e-9aaa-6f41269d2918",
   "metadata": {},
   "source": [
    "### Primeiras conclusões <a id='data_review_conclusions'></a> "
   ]
  },
  {
   "cell_type": "markdown",
   "id": "aa62ac10-396b-43c8-a143-8d71f94e3578",
   "metadata": {},
   "source": [
    "Não observamos a presença de valores ausentes em algumas colunas, e não identificamos nenhum erro relacionado ao estilo dessas colunas. A fim de garantir a integridade de nossa pesquisa, faremos uma investigação mais detalhada para lidar com essa situação."
   ]
  },
  {
   "cell_type": "markdown",
   "id": "6ec9d2cb-423c-4c03-84fa-8f6f0d9a94d9",
   "metadata": {
    "tags": []
   },
   "source": [
    "[Voltar ao Índice](#back)"
   ]
  },
  {
   "cell_type": "markdown",
   "id": "e5161d31-335e-4b55-a85c-ac5a4ac707cf",
   "metadata": {},
   "source": [
    "## Etapa 2. Pré-processar dados <a id='data_preprocessing'></a>"
   ]
  },
  {
   "cell_type": "markdown",
   "id": "ee97c603-7b7c-4c8c-ac41-1f4d3d56e009",
   "metadata": {},
   "source": [
    "### Duplicatas <a id='duplicates'></a>\n",
    "Encontrando de duplicatas óbvias na tabela usando um comando:"
   ]
  },
  {
   "cell_type": "code",
   "execution_count": 7,
   "id": "15239aff-f682-4bb3-8b16-1418fa2e00ca",
   "metadata": {
    "tags": []
   },
   "outputs": [],
   "source": [
    "dataframes_dict = {f\"df_{i}\": df for i, df in enumerate([df_company, df_location, df_weather])}"
   ]
  },
  {
   "cell_type": "code",
   "execution_count": 8,
   "id": "73496ac2-21d9-4f0f-b478-66abe33109bd",
   "metadata": {
    "tags": []
   },
   "outputs": [
    {
     "name": "stdout",
     "output_type": "stream",
     "text": [
      "DataFrame: df_0\n",
      "Valores duplicados: 0\n",
      "-------------------------------------------\n",
      "DataFrame: df_1\n",
      "Valores duplicados: 0\n",
      "-------------------------------------------\n",
      "DataFrame: df_2\n",
      "Valores duplicados: 197\n",
      "-------------------------------------------\n"
     ]
    }
   ],
   "source": [
    "for name, df in dataframes_dict.items():\n",
    "    duplicate_values = df.duplicated().sum()\n",
    "    print(f\"DataFrame: {name}\")\n",
    "    print(f\"Valores duplicados: {duplicate_values}\")\n",
    "    print('-------------------------------------------')"
   ]
  },
  {
   "cell_type": "code",
   "execution_count": 9,
   "id": "b85ab88e-a430-4252-8ad5-8f1906a9ba43",
   "metadata": {
    "tags": []
   },
   "outputs": [
    {
     "data": {
      "text/plain": [
       "18.44569288389513"
      ]
     },
     "execution_count": 9,
     "metadata": {},
     "output_type": "execute_result"
    }
   ],
   "source": [
    "#verificando porcentagem de duplicatas\n",
    "(df_weather.duplicated().sum() / df_weather.shape[0]) * 100"
   ]
  },
  {
   "cell_type": "code",
   "execution_count": 10,
   "id": "c368a8b3-ca19-4b27-9ae7-54fb7ebf165a",
   "metadata": {
    "tags": []
   },
   "outputs": [],
   "source": [
    "# removendo duplicatas óbvias\n",
    "df_weather = df_weather.drop_duplicates()"
   ]
  },
  {
   "cell_type": "markdown",
   "id": "9905c523-9cd3-436a-b7e2-52ae7c72c721",
   "metadata": {},
   "source": [
    "Em relação à tabela de weather, observamos que 18,5% dos dados estão duplicados. Essas duplicatas foram removidas. Quanto às demais tabelas, não foram identificadas duplicatas ou valores ausentes."
   ]
  },
  {
   "cell_type": "markdown",
   "id": "6ea6a42a-7215-4df9-84ad-c467f51ada4e",
   "metadata": {},
   "source": [
    "[Voltar ao Índice](#back)"
   ]
  },
  {
   "cell_type": "markdown",
   "id": "7173edcb-0b47-424d-9eeb-7b842542bea0",
   "metadata": {
    "tags": []
   },
   "source": [
    "### Conclusões intermediárias <a id='data_preprocessing_conclusions_intermediary'></a>"
   ]
  },
  {
   "cell_type": "markdown",
   "id": "e9b99a36-b531-4178-aaea-199826726b63",
   "metadata": {},
   "source": [
    "Após uma análise detalhada, constatamos que as demais colunas estão em conformidade com as expectativas. Agora, procederemos à verificação e correção dos tipos de dados presentes no conjunto de dados."
   ]
  },
  {
   "cell_type": "markdown",
   "id": "dea66f9e-3ca7-47e3-abfb-17ede0c978a9",
   "metadata": {},
   "source": [
    "## Etapa 3. Transformação de dados <a id='tranforamation_data'></a>\n",
    "Vamos examinar cada coluna para ver quais problemas podemos ter nelas."
   ]
  },
  {
   "cell_type": "code",
   "execution_count": 11,
   "id": "32532643-ee1b-495b-aaa0-78fedd8310d5",
   "metadata": {
    "tags": []
   },
   "outputs": [
    {
     "data": {
      "text/plain": [
       "array(['0118 - 42111 Godfrey S.Awir', '1085 - 72312 N and W Cab Co',\n",
       "       '1469 - 64126 Omar Jada', '2092 - 61288 Sbeih company',\n",
       "       '2192 - 73487 Zeymane Corp',\n",
       "       '2241 - 44667 - Felman Corp, Manuel Alonso', '24 Seven Taxi',\n",
       "       '2733 - 74600 Benny Jona', '2809 - 95474 C & D Cab Co Inc.',\n",
       "       '2823 - 73307 Lee Express Inc', '3011 - 66308 JBL Cab Inc.',\n",
       "       '303 Taxi', '3556 - 36214 RC Andrews Cab',\n",
       "       '3591 - 63480 Chuks Cab', '3620 - 52292 David K. Cab Corp.',\n",
       "       '3623 - 72222 Arrington Enterprises',\n",
       "       '3721 - Santamaria Express, Alvaro Santamaria',\n",
       "       '4053 - 40193 Adwar H. Nikola', '4615 - 83503 Tyrone Henderson',\n",
       "       '4623 - 27290 Jay Kim', '5 Star Taxi', '5006 - 39261 Salifu Bawa',\n",
       "       '5062 - 34841 Sam Mestas', '5074 - 54002 Ahzmi Inc',\n",
       "       '5874 - 73628 Sergey Cab Corp.', '5997 - 65283 AW Services Inc.',\n",
       "       '6057 - 24657 Richard Addo', '6574 - Babylon Express Inc.',\n",
       "       '6742 - 83735 Tasha ride inc', '6743 - 78771 Luhak Corp',\n",
       "       'American United', 'American United Taxi Affiliation',\n",
       "       'Blue Diamond', 'Blue Ribbon Taxi Association Inc.',\n",
       "       'Checker Taxi', 'Checker Taxi Affiliation',\n",
       "       'Chicago Carriage Cab Corp', 'Chicago Independents',\n",
       "       'Chicago Medallion Leasing INC', 'Chicago Medallion Management',\n",
       "       'Chicago Star Taxicab', 'Chicago Taxicab',\n",
       "       'Choice Taxi Association', 'City Service',\n",
       "       'Dispatch Taxi Affiliation', 'Flash Cab', 'Globe Taxi',\n",
       "       'Gold Coast Taxi', 'KOAM Taxi Association', 'Leonard Cab Co',\n",
       "       'Medallion Leasin', 'Metro Group', 'Metro Jet Taxi A',\n",
       "       'Norshore Cab', 'Nova Taxi Affiliation Llc',\n",
       "       'Patriot Taxi Dba Peace Taxi Associat', 'Service Taxi Association',\n",
       "       'Setare Inc', 'Star North Management LLC', 'Sun Taxi',\n",
       "       'Taxi Affiliation Service Yellow', 'Taxi Affiliation Services',\n",
       "       'Top Cab Affiliation', 'Yellow Cab'], dtype=object)"
      ]
     },
     "execution_count": 11,
     "metadata": {},
     "output_type": "execute_result"
    }
   ],
   "source": [
    "df_company['company_name'].sort_values().unique()"
   ]
  },
  {
   "cell_type": "code",
   "execution_count": 12,
   "id": "5289d8dc-1f75-4d09-9a70-64ccca60fabe",
   "metadata": {
    "tags": []
   },
   "outputs": [
    {
     "data": {
      "text/plain": [
       "array(['Albany Park', 'Andersonville', 'Archer Heights', 'Armour Square',\n",
       "       'Ashburn', 'Auburn Gresham', 'Austin', 'Avalon Park', 'Avondale',\n",
       "       'Belmont Cragin', 'Beverly', 'Boystown', 'Bridgeport',\n",
       "       'Brighton Park', 'Bucktown', 'Burnside', 'Calumet Heights',\n",
       "       'Chatham', 'Chicago Lawn', 'Chinatown', 'Clearing', 'Douglas',\n",
       "       'Dunning', 'East Side', 'East Village', 'Edgewater', 'Edison Park',\n",
       "       'Englewood', 'Fuller Park', 'Gage Park', 'Garfield Park',\n",
       "       'Garfield Ridge', 'Gold Coast', 'Grand Boulevard',\n",
       "       'Grand Crossing', 'Grant Park', 'Hegewisch', 'Hermosa',\n",
       "       'Humboldt Park', 'Hyde Park', 'Irving Park', 'Jackson Park',\n",
       "       'Jefferson Park', 'Kenwood', 'Lake View', 'Lincoln Park',\n",
       "       'Lincoln Square', 'Little Italy, UIC', 'Little Village',\n",
       "       'Logan Square', 'Loop', 'Lower West Side', 'Mckinley Park',\n",
       "       'Montclare', 'Morgan Park', 'Mount Greenwood', 'Museum Campus',\n",
       "       'Near South Side', 'New City', 'North Center', 'North Lawndale',\n",
       "       'North Park', 'Norwood Park', \"O'Hare\", 'Oakland', 'Old Town',\n",
       "       'Portage Park', 'Pullman', 'River North', 'Riverdale',\n",
       "       'Rogers Park', 'Roseland', 'Rush & Division',\n",
       "       'Sauganash,Forest Glen', 'Sheffield & DePaul', 'South Chicago',\n",
       "       'South Deering', 'South Shore', 'Streeterville',\n",
       "       'Ukrainian Village', 'Undef', 'United Center', 'Uptown',\n",
       "       'Washington Heights', 'Washington Park', 'West Elsdon',\n",
       "       'West Lawn', 'West Loop', 'West Pullman', 'West Ridge',\n",
       "       'West Town', 'Wicker Park', 'Woodlawn', 'Wrigleyville'],\n",
       "      dtype=object)"
      ]
     },
     "execution_count": 12,
     "metadata": {},
     "output_type": "execute_result"
    }
   ],
   "source": [
    "df_location['dropoff_location_name'].sort_values().unique()"
   ]
  },
  {
   "cell_type": "code",
   "execution_count": 13,
   "id": "f85970fa-a6c7-4d32-8135-1a232cfa56ca",
   "metadata": {
    "tags": []
   },
   "outputs": [
    {
     "data": {
      "text/plain": [
       "start_ts\n",
       "2017-11-11 10:00:00    35\n",
       "2017-11-04 12:00:00    34\n",
       "2017-11-04 14:00:00    34\n",
       "2017-11-11 12:00:00    32\n",
       "2017-11-04 16:00:00    29\n",
       "                       ..\n",
       "2017-11-18 03:00:00     1\n",
       "2017-11-04 02:00:00     1\n",
       "2017-11-18 00:00:00     1\n",
       "2017-11-04 22:00:00     1\n",
       "2017-11-18 20:00:00     1\n",
       "Name: count, Length: 81, dtype: int64"
      ]
     },
     "execution_count": 13,
     "metadata": {},
     "output_type": "execute_result"
    }
   ],
   "source": [
    "df_weather['start_ts'].value_counts()"
   ]
  },
  {
   "cell_type": "code",
   "execution_count": 14,
   "id": "b012e6a5-bc11-4c85-9484-7c344a39894f",
   "metadata": {
    "tags": []
   },
   "outputs": [
    {
     "data": {
      "text/plain": [
       "weather_conditions\n",
       "Good    723\n",
       "Bad     148\n",
       "Name: count, dtype: int64"
      ]
     },
     "execution_count": 14,
     "metadata": {},
     "output_type": "execute_result"
    }
   ],
   "source": [
    "df_weather['weather_conditions'].value_counts()"
   ]
  },
  {
   "cell_type": "code",
   "execution_count": 15,
   "id": "437731f0-94cc-46c1-ac6d-3b1805688e12",
   "metadata": {
    "tags": []
   },
   "outputs": [
    {
     "name": "stdout",
     "output_type": "stream",
     "text": [
      "df_company\n",
      "       trips_amount\n",
      "count     64.000000\n",
      "mean    2145.484375\n",
      "std     3812.310186\n",
      "min        2.000000\n",
      "25%       20.750000\n",
      "50%      178.500000\n",
      "75%     2106.500000\n",
      "max    19558.000000\n",
      "\n",
      "-------------------------------------------\n",
      "\n",
      "df_location\n",
      "       average_trips\n",
      "count      94.000000\n",
      "mean      599.953728\n",
      "std      1714.591098\n",
      "min         1.800000\n",
      "25%        14.266667\n",
      "50%        52.016667\n",
      "75%       298.858333\n",
      "max     10727.466667\n",
      "\n",
      "-------------------------------------------\n",
      "\n",
      "df_weather\n",
      "       duration_seconds\n",
      "count        871.000000\n",
      "mean        2096.308840\n",
      "std          782.274717\n",
      "min            0.000000\n",
      "25%         1440.000000\n",
      "50%         2015.000000\n",
      "75%         2584.000000\n",
      "max         7440.000000\n",
      "\n",
      "-------------------------------------------\n",
      "\n"
     ]
    }
   ],
   "source": [
    "def print_dataframe_describe(dataframes):\n",
    "    for df in dataframes:\n",
    "        df_name = [name for name, obj in globals().items() if obj is df][0]\n",
    "        print(df_name)\n",
    "        print(df.describe())\n",
    "        print()\n",
    "        print('-------------------------------------------')\n",
    "        print()\n",
    "\n",
    "print_dataframe_describe([df_company, df_location, df_weather])"
   ]
  },
  {
   "cell_type": "markdown",
   "id": "06047961-8820-4773-8c1e-f5a3079af766",
   "metadata": {},
   "source": [
    "Apenas a tabela df_weather apresenta valores incongruentes na coluna 'duration_seconds', como por exemplo, durações de viagem de 0 segundos e 60 segundos. No entanto, as demais colunas contêm valores corretos e estão em conformidade com as regras da boa prática de estilo."
   ]
  },
  {
   "cell_type": "markdown",
   "id": "1d199048-7890-45fd-9634-6e181c42c497",
   "metadata": {
    "tags": []
   },
   "source": [
    "Agora vamos excluir as corridas com duração menor a 0 segundos."
   ]
  },
  {
   "cell_type": "code",
   "execution_count": 16,
   "id": "e66e47a0-8273-4740-8eb8-0737de84a623",
   "metadata": {
    "tags": []
   },
   "outputs": [
    {
     "data": {
      "text/html": [
       "<div>\n",
       "<style scoped>\n",
       "    .dataframe tbody tr th:only-of-type {\n",
       "        vertical-align: middle;\n",
       "    }\n",
       "\n",
       "    .dataframe tbody tr th {\n",
       "        vertical-align: top;\n",
       "    }\n",
       "\n",
       "    .dataframe thead th {\n",
       "        text-align: right;\n",
       "    }\n",
       "</style>\n",
       "<table border=\"1\" class=\"dataframe\">\n",
       "  <thead>\n",
       "    <tr style=\"text-align: right;\">\n",
       "      <th></th>\n",
       "      <th>start_ts</th>\n",
       "      <th>weather_conditions</th>\n",
       "      <th>duration_seconds</th>\n",
       "    </tr>\n",
       "  </thead>\n",
       "  <tbody>\n",
       "    <tr>\n",
       "      <th>0</th>\n",
       "      <td>2017-11-25 16:00:00</td>\n",
       "      <td>Good</td>\n",
       "      <td>2410.0</td>\n",
       "    </tr>\n",
       "    <tr>\n",
       "      <th>1</th>\n",
       "      <td>2017-11-25 14:00:00</td>\n",
       "      <td>Good</td>\n",
       "      <td>1920.0</td>\n",
       "    </tr>\n",
       "    <tr>\n",
       "      <th>2</th>\n",
       "      <td>2017-11-25 12:00:00</td>\n",
       "      <td>Good</td>\n",
       "      <td>1543.0</td>\n",
       "    </tr>\n",
       "    <tr>\n",
       "      <th>3</th>\n",
       "      <td>2017-11-04 10:00:00</td>\n",
       "      <td>Good</td>\n",
       "      <td>2512.0</td>\n",
       "    </tr>\n",
       "    <tr>\n",
       "      <th>4</th>\n",
       "      <td>2017-11-11 07:00:00</td>\n",
       "      <td>Good</td>\n",
       "      <td>1440.0</td>\n",
       "    </tr>\n",
       "  </tbody>\n",
       "</table>\n",
       "</div>"
      ],
      "text/plain": [
       "              start_ts weather_conditions  duration_seconds\n",
       "0  2017-11-25 16:00:00               Good            2410.0\n",
       "1  2017-11-25 14:00:00               Good            1920.0\n",
       "2  2017-11-25 12:00:00               Good            1543.0\n",
       "3  2017-11-04 10:00:00               Good            2512.0\n",
       "4  2017-11-11 07:00:00               Good            1440.0"
      ]
     },
     "execution_count": 16,
     "metadata": {},
     "output_type": "execute_result"
    }
   ],
   "source": [
    "# excluir corridas com duração 0 segundo\n",
    "df_weather = df_weather[df_weather['duration_seconds']!= 0]\n",
    "df_weather.head(5)"
   ]
  },
  {
   "cell_type": "code",
   "execution_count": 17,
   "id": "3c30a15a-494c-41a2-9873-90d80981be1d",
   "metadata": {
    "tags": []
   },
   "outputs": [
    {
     "data": {
      "text/plain": [
       "count     865.000000\n",
       "mean     2110.849711\n",
       "std       765.162920\n",
       "min        60.000000\n",
       "25%      1454.000000\n",
       "50%      2037.000000\n",
       "75%      2591.000000\n",
       "max      7440.000000\n",
       "Name: duration_seconds, dtype: float64"
      ]
     },
     "execution_count": 17,
     "metadata": {},
     "output_type": "execute_result"
    }
   ],
   "source": [
    "df_weather['duration_seconds'].describe()"
   ]
  },
  {
   "cell_type": "markdown",
   "id": "3545f616-0998-4abd-8c5a-3e6d4a1535ca",
   "metadata": {},
   "source": [
    "Vamos proceder com a exclusão das corridas com duração de 100 segundos. Uma vez que 100 segundos equivale a menos de 2 minutos, consideramos que uma corrida tão rápida não é plausível."
   ]
  },
  {
   "cell_type": "code",
   "execution_count": 18,
   "id": "1d79d372-57f2-4767-9ace-8ad0a52aa242",
   "metadata": {
    "tags": []
   },
   "outputs": [
    {
     "data": {
      "text/html": [
       "<div>\n",
       "<style scoped>\n",
       "    .dataframe tbody tr th:only-of-type {\n",
       "        vertical-align: middle;\n",
       "    }\n",
       "\n",
       "    .dataframe tbody tr th {\n",
       "        vertical-align: top;\n",
       "    }\n",
       "\n",
       "    .dataframe thead th {\n",
       "        text-align: right;\n",
       "    }\n",
       "</style>\n",
       "<table border=\"1\" class=\"dataframe\">\n",
       "  <thead>\n",
       "    <tr style=\"text-align: right;\">\n",
       "      <th></th>\n",
       "      <th>start_ts</th>\n",
       "      <th>weather_conditions</th>\n",
       "      <th>duration_seconds</th>\n",
       "    </tr>\n",
       "  </thead>\n",
       "  <tbody>\n",
       "    <tr>\n",
       "      <th>0</th>\n",
       "      <td>2017-11-25 16:00:00</td>\n",
       "      <td>Good</td>\n",
       "      <td>2410.0</td>\n",
       "    </tr>\n",
       "    <tr>\n",
       "      <th>1</th>\n",
       "      <td>2017-11-25 14:00:00</td>\n",
       "      <td>Good</td>\n",
       "      <td>1920.0</td>\n",
       "    </tr>\n",
       "    <tr>\n",
       "      <th>2</th>\n",
       "      <td>2017-11-25 12:00:00</td>\n",
       "      <td>Good</td>\n",
       "      <td>1543.0</td>\n",
       "    </tr>\n",
       "    <tr>\n",
       "      <th>3</th>\n",
       "      <td>2017-11-04 10:00:00</td>\n",
       "      <td>Good</td>\n",
       "      <td>2512.0</td>\n",
       "    </tr>\n",
       "    <tr>\n",
       "      <th>4</th>\n",
       "      <td>2017-11-11 07:00:00</td>\n",
       "      <td>Good</td>\n",
       "      <td>1440.0</td>\n",
       "    </tr>\n",
       "  </tbody>\n",
       "</table>\n",
       "</div>"
      ],
      "text/plain": [
       "              start_ts weather_conditions  duration_seconds\n",
       "0  2017-11-25 16:00:00               Good            2410.0\n",
       "1  2017-11-25 14:00:00               Good            1920.0\n",
       "2  2017-11-25 12:00:00               Good            1543.0\n",
       "3  2017-11-04 10:00:00               Good            2512.0\n",
       "4  2017-11-11 07:00:00               Good            1440.0"
      ]
     },
     "execution_count": 18,
     "metadata": {},
     "output_type": "execute_result"
    }
   ],
   "source": [
    "df_weather = df_weather[df_weather['duration_seconds']> 100]\n",
    "df_weather.head(5)"
   ]
  },
  {
   "cell_type": "markdown",
   "id": "750ee716-afa2-475f-a359-78eccd705800",
   "metadata": {
    "tags": []
   },
   "source": [
    "### Corrigindo os tipos de dados"
   ]
  },
  {
   "cell_type": "markdown",
   "id": "b6865fd4-d1df-47ba-bf58-7b7dfeaff851",
   "metadata": {},
   "source": [
    "Vamos corrigir o tipo de dado da coluna 'start_ts' para datetime. As demais colunas já estão com o tipo de dado correto."
   ]
  },
  {
   "cell_type": "code",
   "execution_count": 20,
   "id": "ffa71deb-fa3c-4945-81b8-84a7926b668f",
   "metadata": {
    "tags": []
   },
   "outputs": [],
   "source": [
    "df_weather['start_ts'] = pd.to_datetime(df_weather['start_ts'], format='%Y-%m-%d %H:%M:%S')"
   ]
  },
  {
   "cell_type": "code",
   "execution_count": 21,
   "id": "35f755b7-9d31-4b1c-bd86-b6ea6db2da62",
   "metadata": {
    "tags": []
   },
   "outputs": [
    {
     "name": "stdout",
     "output_type": "stream",
     "text": [
      "<class 'pandas.core.frame.DataFrame'>\n",
      "Index: 864 entries, 0 to 1067\n",
      "Data columns (total 3 columns):\n",
      " #   Column              Non-Null Count  Dtype         \n",
      "---  ------              --------------  -----         \n",
      " 0   start_ts            864 non-null    datetime64[ns]\n",
      " 1   weather_conditions  864 non-null    object        \n",
      " 2   duration_seconds    864 non-null    float64       \n",
      "dtypes: datetime64[ns](1), float64(1), object(1)\n",
      "memory usage: 27.0+ KB\n"
     ]
    }
   ],
   "source": [
    "df_weather.info()"
   ]
  },
  {
   "cell_type": "code",
   "execution_count": 22,
   "id": "69b67040-478a-49c1-90cf-efba3ed815a2",
   "metadata": {
    "tags": []
   },
   "outputs": [
    {
     "data": {
      "text/html": [
       "<div>\n",
       "<style scoped>\n",
       "    .dataframe tbody tr th:only-of-type {\n",
       "        vertical-align: middle;\n",
       "    }\n",
       "\n",
       "    .dataframe tbody tr th {\n",
       "        vertical-align: top;\n",
       "    }\n",
       "\n",
       "    .dataframe thead th {\n",
       "        text-align: right;\n",
       "    }\n",
       "</style>\n",
       "<table border=\"1\" class=\"dataframe\">\n",
       "  <thead>\n",
       "    <tr style=\"text-align: right;\">\n",
       "      <th></th>\n",
       "      <th>start_ts</th>\n",
       "      <th>weather_conditions</th>\n",
       "      <th>duration_seconds</th>\n",
       "    </tr>\n",
       "  </thead>\n",
       "  <tbody>\n",
       "    <tr>\n",
       "      <th>0</th>\n",
       "      <td>2017-11-25 16:00:00</td>\n",
       "      <td>Good</td>\n",
       "      <td>2410.0</td>\n",
       "    </tr>\n",
       "    <tr>\n",
       "      <th>1</th>\n",
       "      <td>2017-11-25 14:00:00</td>\n",
       "      <td>Good</td>\n",
       "      <td>1920.0</td>\n",
       "    </tr>\n",
       "    <tr>\n",
       "      <th>2</th>\n",
       "      <td>2017-11-25 12:00:00</td>\n",
       "      <td>Good</td>\n",
       "      <td>1543.0</td>\n",
       "    </tr>\n",
       "    <tr>\n",
       "      <th>3</th>\n",
       "      <td>2017-11-04 10:00:00</td>\n",
       "      <td>Good</td>\n",
       "      <td>2512.0</td>\n",
       "    </tr>\n",
       "    <tr>\n",
       "      <th>4</th>\n",
       "      <td>2017-11-11 07:00:00</td>\n",
       "      <td>Good</td>\n",
       "      <td>1440.0</td>\n",
       "    </tr>\n",
       "  </tbody>\n",
       "</table>\n",
       "</div>"
      ],
      "text/plain": [
       "             start_ts weather_conditions  duration_seconds\n",
       "0 2017-11-25 16:00:00               Good            2410.0\n",
       "1 2017-11-25 14:00:00               Good            1920.0\n",
       "2 2017-11-25 12:00:00               Good            1543.0\n",
       "3 2017-11-04 10:00:00               Good            2512.0\n",
       "4 2017-11-11 07:00:00               Good            1440.0"
      ]
     },
     "execution_count": 22,
     "metadata": {},
     "output_type": "execute_result"
    }
   ],
   "source": [
    "df_weather.head(5)"
   ]
  },
  {
   "cell_type": "markdown",
   "id": "579a919f-9b49-4046-93fa-549e67903b48",
   "metadata": {},
   "source": [
    "Agora Podemos começar a nossa analise."
   ]
  },
  {
   "cell_type": "markdown",
   "id": "6fc9dc35-6ef9-482b-9fe3-1c9b20917538",
   "metadata": {
    "tags": []
   },
   "source": [
    "[Voltar ao Índice](#back)"
   ]
  },
  {
   "cell_type": "markdown",
   "id": "fa046a30-61ce-4643-8631-a583deff8fe4",
   "metadata": {},
   "source": [
    "## Etapa 4. EDA <a id='eda'></a>"
   ]
  },
  {
   "cell_type": "code",
   "execution_count": 23,
   "id": "ec727223-7c3d-4280-9301-1c7465473084",
   "metadata": {
    "tags": []
   },
   "outputs": [
    {
     "data": {
      "text/html": [
       "<div>\n",
       "<style scoped>\n",
       "    .dataframe tbody tr th:only-of-type {\n",
       "        vertical-align: middle;\n",
       "    }\n",
       "\n",
       "    .dataframe tbody tr th {\n",
       "        vertical-align: top;\n",
       "    }\n",
       "\n",
       "    .dataframe thead th {\n",
       "        text-align: right;\n",
       "    }\n",
       "</style>\n",
       "<table border=\"1\" class=\"dataframe\">\n",
       "  <thead>\n",
       "    <tr style=\"text-align: right;\">\n",
       "      <th></th>\n",
       "      <th>company_name</th>\n",
       "      <th>trips_amount</th>\n",
       "    </tr>\n",
       "  </thead>\n",
       "  <tbody>\n",
       "    <tr>\n",
       "      <th>0</th>\n",
       "      <td>Flash Cab</td>\n",
       "      <td>19558</td>\n",
       "    </tr>\n",
       "    <tr>\n",
       "      <th>1</th>\n",
       "      <td>Taxi Affiliation Services</td>\n",
       "      <td>11422</td>\n",
       "    </tr>\n",
       "    <tr>\n",
       "      <th>2</th>\n",
       "      <td>Medallion Leasin</td>\n",
       "      <td>10367</td>\n",
       "    </tr>\n",
       "    <tr>\n",
       "      <th>3</th>\n",
       "      <td>Yellow Cab</td>\n",
       "      <td>9888</td>\n",
       "    </tr>\n",
       "    <tr>\n",
       "      <th>4</th>\n",
       "      <td>Taxi Affiliation Service Yellow</td>\n",
       "      <td>9299</td>\n",
       "    </tr>\n",
       "    <tr>\n",
       "      <th>5</th>\n",
       "      <td>Chicago Carriage Cab Corp</td>\n",
       "      <td>9181</td>\n",
       "    </tr>\n",
       "    <tr>\n",
       "      <th>6</th>\n",
       "      <td>City Service</td>\n",
       "      <td>8448</td>\n",
       "    </tr>\n",
       "    <tr>\n",
       "      <th>7</th>\n",
       "      <td>Sun Taxi</td>\n",
       "      <td>7701</td>\n",
       "    </tr>\n",
       "    <tr>\n",
       "      <th>8</th>\n",
       "      <td>Star North Management LLC</td>\n",
       "      <td>7455</td>\n",
       "    </tr>\n",
       "    <tr>\n",
       "      <th>9</th>\n",
       "      <td>Blue Ribbon Taxi Association Inc.</td>\n",
       "      <td>5953</td>\n",
       "    </tr>\n",
       "  </tbody>\n",
       "</table>\n",
       "</div>"
      ],
      "text/plain": [
       "                        company_name  trips_amount\n",
       "0                          Flash Cab         19558\n",
       "1          Taxi Affiliation Services         11422\n",
       "2                   Medallion Leasin         10367\n",
       "3                         Yellow Cab          9888\n",
       "4    Taxi Affiliation Service Yellow          9299\n",
       "5          Chicago Carriage Cab Corp          9181\n",
       "6                       City Service          8448\n",
       "7                           Sun Taxi          7701\n",
       "8          Star North Management LLC          7455\n",
       "9  Blue Ribbon Taxi Association Inc.          5953"
      ]
     },
     "execution_count": 23,
     "metadata": {},
     "output_type": "execute_result"
    }
   ],
   "source": [
    "top_company = df_company.sort_values(by='trips_amount', ascending=False).head(10)\n",
    "top_company"
   ]
  },
  {
   "cell_type": "code",
   "execution_count": 24,
   "id": "e68e98d0-20cb-4183-a11a-c8c15b13a8f1",
   "metadata": {
    "tags": []
   },
   "outputs": [
    {
     "data": {
      "image/png": "[encoded data removed]",
      "text/plain": [
       "<Figure size 1500x800 with 1 Axes>"
      ]
     },
     "metadata": {},
     "output_type": "display_data"
    }
   ],
   "source": [
    "# Definindo o tamanho da figura do gráfico\n",
    "plt.figure(figsize=(15, 8))  \n",
    "# Criando um gráfico de barras usando Seaborn\n",
    "sns.barplot(data=top_company, x='company_name', y='trips_amount', palette='colorblind')  \n",
    "# Definindo  o título do gráfico\n",
    "plt.title('Top Empresas de Táxi')  \n",
    "# Definindo  o rótulo do eixo x\n",
    "plt.xlabel('Empresas de Táxi') \n",
    "# Definindo  o rótulo do eixo y\n",
    "plt.ylabel('Número de Corridas')  \n",
    "# Definindo a rotação do eixo y\n",
    "plt.xticks(rotation=45)\n",
    "# Exibindo o gráfico\n",
    "plt.show()  "
   ]
  },
  {
   "cell_type": "markdown",
   "id": "027722b1-5847-41eb-b44d-471ceb6b2c40",
   "metadata": {},
   "source": [
    "Podemos observar o top 10 de empresas de que mais fazem viagem de Táxi em Chicago, sendo a mais popular a empresa 'Flash Cab'."
   ]
  },
  {
   "cell_type": "code",
   "execution_count": 25,
   "id": "8377dedf-1f75-4300-b3fa-b4d6998f1490",
   "metadata": {
    "tags": []
   },
   "outputs": [
    {
     "data": {
      "text/html": [
       "<div>\n",
       "<style scoped>\n",
       "    .dataframe tbody tr th:only-of-type {\n",
       "        vertical-align: middle;\n",
       "    }\n",
       "\n",
       "    .dataframe tbody tr th {\n",
       "        vertical-align: top;\n",
       "    }\n",
       "\n",
       "    .dataframe thead th {\n",
       "        text-align: right;\n",
       "    }\n",
       "</style>\n",
       "<table border=\"1\" class=\"dataframe\">\n",
       "  <thead>\n",
       "    <tr style=\"text-align: right;\">\n",
       "      <th></th>\n",
       "      <th>dropoff_location_name</th>\n",
       "      <th>average_trips</th>\n",
       "    </tr>\n",
       "  </thead>\n",
       "  <tbody>\n",
       "    <tr>\n",
       "      <th>0</th>\n",
       "      <td>Loop</td>\n",
       "      <td>10727.466667</td>\n",
       "    </tr>\n",
       "    <tr>\n",
       "      <th>1</th>\n",
       "      <td>River North</td>\n",
       "      <td>9523.666667</td>\n",
       "    </tr>\n",
       "    <tr>\n",
       "      <th>2</th>\n",
       "      <td>Streeterville</td>\n",
       "      <td>6664.666667</td>\n",
       "    </tr>\n",
       "    <tr>\n",
       "      <th>3</th>\n",
       "      <td>West Loop</td>\n",
       "      <td>5163.666667</td>\n",
       "    </tr>\n",
       "    <tr>\n",
       "      <th>4</th>\n",
       "      <td>O'Hare</td>\n",
       "      <td>2546.900000</td>\n",
       "    </tr>\n",
       "    <tr>\n",
       "      <th>5</th>\n",
       "      <td>Lake View</td>\n",
       "      <td>2420.966667</td>\n",
       "    </tr>\n",
       "    <tr>\n",
       "      <th>6</th>\n",
       "      <td>Grant Park</td>\n",
       "      <td>2068.533333</td>\n",
       "    </tr>\n",
       "    <tr>\n",
       "      <th>7</th>\n",
       "      <td>Museum Campus</td>\n",
       "      <td>1510.000000</td>\n",
       "    </tr>\n",
       "    <tr>\n",
       "      <th>8</th>\n",
       "      <td>Gold Coast</td>\n",
       "      <td>1364.233333</td>\n",
       "    </tr>\n",
       "    <tr>\n",
       "      <th>9</th>\n",
       "      <td>Sheffield &amp; DePaul</td>\n",
       "      <td>1259.766667</td>\n",
       "    </tr>\n",
       "  </tbody>\n",
       "</table>\n",
       "</div>"
      ],
      "text/plain": [
       "  dropoff_location_name  average_trips\n",
       "0                  Loop   10727.466667\n",
       "1           River North    9523.666667\n",
       "2         Streeterville    6664.666667\n",
       "3             West Loop    5163.666667\n",
       "4                O'Hare    2546.900000\n",
       "5             Lake View    2420.966667\n",
       "6            Grant Park    2068.533333\n",
       "7         Museum Campus    1510.000000\n",
       "8            Gold Coast    1364.233333\n",
       "9    Sheffield & DePaul    1259.766667"
      ]
     },
     "execution_count": 25,
     "metadata": {},
     "output_type": "execute_result"
    }
   ],
   "source": [
    "top_location = df_location.sort_values(by='average_trips', ascending=False).head(10)\n",
    "top_location"
   ]
  },
  {
   "cell_type": "code",
   "execution_count": 26,
   "id": "4cff8528-78f5-412e-8ab9-82e8d211e674",
   "metadata": {
    "tags": []
   },
   "outputs": [
    {
     "data": {
      "image/png": "[encoded data removed]",
      "text/plain": [
       "<Figure size 1500x800 with 1 Axes>"
      ]
     },
     "metadata": {},
     "output_type": "display_data"
    }
   ],
   "source": [
    "# Definindo o tamanho da figura do gráfico\n",
    "plt.figure(figsize=(15, 8))\n",
    "# Criando um gráfico de barras usando Seaborn\n",
    "sns.barplot(data=top_location, x='dropoff_location_name', y='average_trips', palette='colorblind')\n",
    "# Definindo  o título do gráfico\n",
    "plt.title('Top Bairros de Destino de Táxi')\n",
    "# Definindo  o rótulo do eixo x\n",
    "plt.xlabel('Bairros de Destino')\n",
    "# Definindo  o rótulo do eixo y\n",
    "plt.ylabel('Número de Corridas')\n",
    "# Definindo a rotação do eixo y\n",
    "plt.xticks(rotation=45)\n",
    "# Exibindo o gráfico\n",
    "plt.show()\n"
   ]
  },
  {
   "cell_type": "markdown",
   "id": "ee7cbe7c-f941-4dd9-9588-e37b13f1086e",
   "metadata": {},
   "source": [
    "Podemos observar o top 10 de bairros de destinos que mais fazem viagem de Táxi em Chicago, sendo o bairro mais popular o 'Loop'."
   ]
  },
  {
   "cell_type": "code",
   "execution_count": 30,
   "id": "8183d57d-ea96-44df-97c6-5c6bbed20cfa",
   "metadata": {
    "tags": []
   },
   "outputs": [
    {
     "data": {
      "image/png": "[encoded data removed]",
      "text/plain": [
       "<Figure size 1500x1000 with 2 Axes>"
      ]
     },
     "metadata": {},
     "output_type": "display_data"
    }
   ],
   "source": [
    "good_weather_hourly_counts = df_weather[df_weather['weather_conditions'] == 'Good']['start_ts'].dt.hour.value_counts().sort_index()\n",
    "bad_weather_hourly_counts = df_weather[df_weather['weather_conditions'] == 'Bad']['start_ts'].dt.hour.value_counts().sort_index()\n",
    "\n",
    "# Configurando o tamanho dos subplots\n",
    "fig, axs = plt.subplots(2, figsize=(15, 10))\n",
    "\n",
    "# Plot para condições climáticas boas\n",
    "axs[0].plot(good_weather_hourly_counts.index, good_weather_hourly_counts.values, color='green')\n",
    "axs[0].set_title('Quantidade de Corridas por Hora do Dia - Condições Climáticas Boas')\n",
    "axs[0].set_xlabel('Hora do Dia')\n",
    "axs[0].set_ylabel('Quantidade de Corridas')\n",
    "\n",
    "# Plot para condições climáticas ruins\n",
    "axs[1].plot(bad_weather_hourly_counts.index, bad_weather_hourly_counts.values, color='purple')\n",
    "axs[1].set_title('Quantidade de Corridas por Hora do Dia - Condições Climáticas Ruins')\n",
    "axs[1].set_xlabel('Hora do Dia')\n",
    "axs[1].set_ylabel('Quantidade de Corridas')\n",
    "\n",
    "plt.show()"
   ]
  },
  {
   "cell_type": "markdown",
   "id": "5a6fba11-2f45-44cd-b0f5-5de9801a0c11",
   "metadata": {},
   "source": [
    "Neste código, estamos agrupando os dados por hora do dia e condições climáticas (boas e ruins) e contando a quantidade de corridas em cada hora. Em seguida, configuramos o tamanho dos subplots para acomodar dois gráficos, um para as condições climáticas boas e outro para as condições climáticas ruins.\n",
    "\n",
    "No primeiro gráfico, representamos a quantidade de corridas por hora do dia em condições climáticas boas, usando a cor verde para destacar os dados. O título do gráfico indica a informação visualizada, e os rótulos dos eixos x e y fornecem informações sobre os dados representados.\n",
    "\n",
    "No segundo gráfico, fazemos o mesmo para as condições climáticas ruins, utilizando a cor roxa para diferenciar os dados. Novamente, o título e os rótulos dos eixos fornecem informações contextuais sobre os dados apresentados.\n",
    "\n"
   ]
  },
  {
   "cell_type": "markdown",
   "id": "c66cdb9d-04ee-478d-937a-f5a0a72490cb",
   "metadata": {
    "tags": []
   },
   "source": [
    "[Voltar ao Índice](#back)"
   ]
  },
  {
   "cell_type": "markdown",
   "id": "2303509e-bddb-44b9-9151-08be04fb8e66",
   "metadata": {},
   "source": [
    "## Etapa 5. Hipóteses <a id='hypothesys'></a>"
   ]
  },
  {
   "cell_type": "markdown",
   "id": "d8413a82-6084-4ca4-9526-80baa4afd46c",
   "metadata": {},
   "source": [
    "### A duração média dos passeios do Loop para o Aeroporto Internacional O'Hare muda nos sábados chuvosos?\n",
    "Hipotese Nula H0: As medias dos passeios do Loop para o Aeroporto Internacional O'Hare entre dias 'Good' e 'Bad' são iguais.\n",
    "\n",
    "Hipotese Alternativa H1: As medias dos passeios do Loop para o Aeroporto Internacional O'Hare entre dias 'Good' e 'Bad' são diferentes."
   ]
  },
  {
   "cell_type": "code",
   "execution_count": 31,
   "id": "af61a7a0-8380-46df-ba89-8ff20be21070",
   "metadata": {
    "tags": []
   },
   "outputs": [
    {
     "data": {
      "text/html": [
       "<div>\n",
       "<style scoped>\n",
       "    .dataframe tbody tr th:only-of-type {\n",
       "        vertical-align: middle;\n",
       "    }\n",
       "\n",
       "    .dataframe tbody tr th {\n",
       "        vertical-align: top;\n",
       "    }\n",
       "\n",
       "    .dataframe thead th {\n",
       "        text-align: right;\n",
       "    }\n",
       "</style>\n",
       "<table border=\"1\" class=\"dataframe\">\n",
       "  <thead>\n",
       "    <tr style=\"text-align: right;\">\n",
       "      <th></th>\n",
       "      <th>start_ts</th>\n",
       "      <th>weather_conditions</th>\n",
       "      <th>duration_seconds</th>\n",
       "    </tr>\n",
       "  </thead>\n",
       "  <tbody>\n",
       "    <tr>\n",
       "      <th>0</th>\n",
       "      <td>2017-11-25 16:00:00</td>\n",
       "      <td>Good</td>\n",
       "      <td>2410.0</td>\n",
       "    </tr>\n",
       "    <tr>\n",
       "      <th>1</th>\n",
       "      <td>2017-11-25 14:00:00</td>\n",
       "      <td>Good</td>\n",
       "      <td>1920.0</td>\n",
       "    </tr>\n",
       "    <tr>\n",
       "      <th>2</th>\n",
       "      <td>2017-11-25 12:00:00</td>\n",
       "      <td>Good</td>\n",
       "      <td>1543.0</td>\n",
       "    </tr>\n",
       "    <tr>\n",
       "      <th>3</th>\n",
       "      <td>2017-11-04 10:00:00</td>\n",
       "      <td>Good</td>\n",
       "      <td>2512.0</td>\n",
       "    </tr>\n",
       "    <tr>\n",
       "      <th>4</th>\n",
       "      <td>2017-11-11 07:00:00</td>\n",
       "      <td>Good</td>\n",
       "      <td>1440.0</td>\n",
       "    </tr>\n",
       "    <tr>\n",
       "      <th>...</th>\n",
       "      <td>...</td>\n",
       "      <td>...</td>\n",
       "      <td>...</td>\n",
       "    </tr>\n",
       "    <tr>\n",
       "      <th>1056</th>\n",
       "      <td>2017-11-04 12:00:00</td>\n",
       "      <td>Good</td>\n",
       "      <td>3275.0</td>\n",
       "    </tr>\n",
       "    <tr>\n",
       "      <th>1057</th>\n",
       "      <td>2017-11-04 12:00:00</td>\n",
       "      <td>Good</td>\n",
       "      <td>2492.0</td>\n",
       "    </tr>\n",
       "    <tr>\n",
       "      <th>1059</th>\n",
       "      <td>2017-11-11 10:00:00</td>\n",
       "      <td>Good</td>\n",
       "      <td>1303.0</td>\n",
       "    </tr>\n",
       "    <tr>\n",
       "      <th>1060</th>\n",
       "      <td>2017-11-04 14:00:00</td>\n",
       "      <td>Good</td>\n",
       "      <td>2700.0</td>\n",
       "    </tr>\n",
       "    <tr>\n",
       "      <th>1064</th>\n",
       "      <td>2017-11-11 10:00:00</td>\n",
       "      <td>Good</td>\n",
       "      <td>1318.0</td>\n",
       "    </tr>\n",
       "  </tbody>\n",
       "</table>\n",
       "<p>716 rows × 3 columns</p>\n",
       "</div>"
      ],
      "text/plain": [
       "                start_ts weather_conditions  duration_seconds\n",
       "0    2017-11-25 16:00:00               Good            2410.0\n",
       "1    2017-11-25 14:00:00               Good            1920.0\n",
       "2    2017-11-25 12:00:00               Good            1543.0\n",
       "3    2017-11-04 10:00:00               Good            2512.0\n",
       "4    2017-11-11 07:00:00               Good            1440.0\n",
       "...                  ...                ...               ...\n",
       "1056 2017-11-04 12:00:00               Good            3275.0\n",
       "1057 2017-11-04 12:00:00               Good            2492.0\n",
       "1059 2017-11-11 10:00:00               Good            1303.0\n",
       "1060 2017-11-04 14:00:00               Good            2700.0\n",
       "1064 2017-11-11 10:00:00               Good            1318.0\n",
       "\n",
       "[716 rows x 3 columns]"
      ]
     },
     "execution_count": 31,
     "metadata": {},
     "output_type": "execute_result"
    }
   ],
   "source": [
    "df_weather_good = df_weather.query(\"weather_conditions == 'Good'\")\n",
    "df_weather_good"
   ]
  },
  {
   "cell_type": "code",
   "execution_count": 32,
   "id": "69a674b5-8fac-4ff7-a58b-0d812d67d2e1",
   "metadata": {
    "tags": []
   },
   "outputs": [
    {
     "data": {
      "text/html": [
       "<div>\n",
       "<style scoped>\n",
       "    .dataframe tbody tr th:only-of-type {\n",
       "        vertical-align: middle;\n",
       "    }\n",
       "\n",
       "    .dataframe tbody tr th {\n",
       "        vertical-align: top;\n",
       "    }\n",
       "\n",
       "    .dataframe thead th {\n",
       "        text-align: right;\n",
       "    }\n",
       "</style>\n",
       "<table border=\"1\" class=\"dataframe\">\n",
       "  <thead>\n",
       "    <tr style=\"text-align: right;\">\n",
       "      <th></th>\n",
       "      <th>start_ts</th>\n",
       "      <th>weather_conditions</th>\n",
       "      <th>duration_seconds</th>\n",
       "    </tr>\n",
       "  </thead>\n",
       "  <tbody>\n",
       "    <tr>\n",
       "      <th>6</th>\n",
       "      <td>2017-11-04 16:00:00</td>\n",
       "      <td>Bad</td>\n",
       "      <td>2969.0</td>\n",
       "    </tr>\n",
       "    <tr>\n",
       "      <th>30</th>\n",
       "      <td>2017-11-18 12:00:00</td>\n",
       "      <td>Bad</td>\n",
       "      <td>1980.0</td>\n",
       "    </tr>\n",
       "    <tr>\n",
       "      <th>34</th>\n",
       "      <td>2017-11-04 17:00:00</td>\n",
       "      <td>Bad</td>\n",
       "      <td>2460.0</td>\n",
       "    </tr>\n",
       "    <tr>\n",
       "      <th>51</th>\n",
       "      <td>2017-11-04 16:00:00</td>\n",
       "      <td>Bad</td>\n",
       "      <td>2760.0</td>\n",
       "    </tr>\n",
       "    <tr>\n",
       "      <th>52</th>\n",
       "      <td>2017-11-18 12:00:00</td>\n",
       "      <td>Bad</td>\n",
       "      <td>2460.0</td>\n",
       "    </tr>\n",
       "    <tr>\n",
       "      <th>...</th>\n",
       "      <td>...</td>\n",
       "      <td>...</td>\n",
       "      <td>...</td>\n",
       "    </tr>\n",
       "    <tr>\n",
       "      <th>1031</th>\n",
       "      <td>2017-11-18 12:00:00</td>\n",
       "      <td>Bad</td>\n",
       "      <td>2560.0</td>\n",
       "    </tr>\n",
       "    <tr>\n",
       "      <th>1032</th>\n",
       "      <td>2017-11-18 10:00:00</td>\n",
       "      <td>Bad</td>\n",
       "      <td>1908.0</td>\n",
       "    </tr>\n",
       "    <tr>\n",
       "      <th>1053</th>\n",
       "      <td>2017-11-18 12:00:00</td>\n",
       "      <td>Bad</td>\n",
       "      <td>2400.0</td>\n",
       "    </tr>\n",
       "    <tr>\n",
       "      <th>1061</th>\n",
       "      <td>2017-11-18 16:00:00</td>\n",
       "      <td>Bad</td>\n",
       "      <td>2186.0</td>\n",
       "    </tr>\n",
       "    <tr>\n",
       "      <th>1067</th>\n",
       "      <td>2017-11-04 16:00:00</td>\n",
       "      <td>Bad</td>\n",
       "      <td>2834.0</td>\n",
       "    </tr>\n",
       "  </tbody>\n",
       "</table>\n",
       "<p>148 rows × 3 columns</p>\n",
       "</div>"
      ],
      "text/plain": [
       "                start_ts weather_conditions  duration_seconds\n",
       "6    2017-11-04 16:00:00                Bad            2969.0\n",
       "30   2017-11-18 12:00:00                Bad            1980.0\n",
       "34   2017-11-04 17:00:00                Bad            2460.0\n",
       "51   2017-11-04 16:00:00                Bad            2760.0\n",
       "52   2017-11-18 12:00:00                Bad            2460.0\n",
       "...                  ...                ...               ...\n",
       "1031 2017-11-18 12:00:00                Bad            2560.0\n",
       "1032 2017-11-18 10:00:00                Bad            1908.0\n",
       "1053 2017-11-18 12:00:00                Bad            2400.0\n",
       "1061 2017-11-18 16:00:00                Bad            2186.0\n",
       "1067 2017-11-04 16:00:00                Bad            2834.0\n",
       "\n",
       "[148 rows x 3 columns]"
      ]
     },
     "execution_count": 32,
     "metadata": {},
     "output_type": "execute_result"
    }
   ],
   "source": [
    "df_weather_bad = df_weather.query(\"weather_conditions == 'Bad'\")\n",
    "df_weather_bad"
   ]
  },
  {
   "cell_type": "code",
   "execution_count": 33,
   "id": "3373cfef-d3a9-4d0c-ac0d-f26d53a75193",
   "metadata": {
    "tags": []
   },
   "outputs": [],
   "source": [
    "alpha = 0.05"
   ]
  },
  {
   "cell_type": "code",
   "execution_count": 34,
   "id": "0b0f03db-130d-4598-8809-14370dcf9d22",
   "metadata": {
    "tags": []
   },
   "outputs": [],
   "source": [
    "results_weather = st.ttest_ind(df_weather_good['duration_seconds'], df_weather_bad['duration_seconds'],equal_var = False)"
   ]
  },
  {
   "cell_type": "code",
   "execution_count": 35,
   "id": "db381fc6-7490-4e3b-a0b1-9259965865aa",
   "metadata": {
    "tags": []
   },
   "outputs": [
    {
     "name": "stdout",
     "output_type": "stream",
     "text": [
      "p-value: 3.437304741904334e-07\n"
     ]
    }
   ],
   "source": [
    "print('p-value:', results_weather.pvalue)"
   ]
  },
  {
   "cell_type": "code",
   "execution_count": 36,
   "id": "d7a1fa28-28db-47ef-8da7-ee885364b313",
   "metadata": {
    "tags": []
   },
   "outputs": [
    {
     "name": "stdout",
     "output_type": "stream",
     "text": [
      "Nós rejeitamos a hipótese nula\n"
     ]
    }
   ],
   "source": [
    "if results_weather.pvalue < alpha:\n",
    "    print(\"Nós rejeitamos a hipótese nula\")\n",
    "else:\n",
    "    print(\"Nós não podemos rejeitar a hipótese nula\")"
   ]
  },
  {
   "cell_type": "markdown",
   "id": "eca5c8be-1bf0-4f05-bdfc-2d78fbb66706",
   "metadata": {},
   "source": [
    "O valor-p nos diz que os valores da duração média dos passeios do Loop para o Aeroporto Internacional O'Hare muda nos sábados chuvosos,p-value: 3.437304741904334e-07 muito abaixo do nosso alpha que é 5%, concluimos que são diferentes, por isso nós rejeitamos a hipótese nula."
   ]
  },
  {
   "cell_type": "markdown",
   "id": "34d9a78c-6495-4d4f-a618-cacf6302dfc7",
   "metadata": {},
   "source": [
    "[Voltar ao Índice](#back)"
   ]
  },
  {
   "cell_type": "markdown",
   "id": "adef7e77-8edc-4284-9b24-4317bb15b045",
   "metadata": {},
   "source": [
    "## Conclusão geral <a id='end'></a>"
   ]
  },
  {
   "cell_type": "markdown",
   "id": "d4304791-2c42-428d-8d66-75cc0b23908b",
   "metadata": {},
   "source": [
    "\"Durante este projeto, realizamos a importação das bibliotecas 'pandas' e 'numpy', que são comumente utilizadas, bem como as bibliotecas 'matplotlib' e 'seaborn' para a construção de gráficos, visando uma melhor visualização e compreensão do problema em questão.\n",
    "\n",
    "Realizamos a coleta de dados a partir de fontes online, extraímos as informações e criamos nossos DataFrames. Utilizamos a linguagem SQL para filtrar e organizar os dados, visando uma preparação adequada para as etapas subsequentes.\n",
    "\n",
    "A etapa de pré-processamento de dados envolveu a padronização de estilos em cada coluna, a correção de valores incongruentes, o preenchimento de valores ausentes com base em estudos sobre outras colunas devidamente preenchidas, a verificação de duplicatas na base de dados e a realização de estudos para determinar as preferências dos passageiros e o impacto de fatores externos nas corridas.\n",
    "\n",
    "A partir da Análise Exploratória de Dados, pudemos concluir que a empresa mais popular é a Flash Cab e que o bairro com o maior número de viagens de destino é o Loop.\"\n",
    "\n",
    "Espero que esteja de acordo com o que você precisa!"
   ]
  },
  {
   "cell_type": "code",
   "execution_count": null,
   "id": "c252e107-d815-4b9c-be1a-a24256e60e3d",
   "metadata": {},
   "outputs": [],
   "source": []
  }
 ],
 "metadata": {
  "kernelspec": {
   "display_name": "Python 3 (ipykernel)",
   "language": "python",
   "name": "python3"
  },
  "language_info": {
   "codemirror_mode": {
    "name": "ipython",
    "version": 3
   },
   "file_extension": ".py",
   "mimetype": "text/x-python",
   "name": "python",
   "nbconvert_exporter": "python",
   "pygments_lexer": "ipython3",
   "version": "3.11.5"
  }
 },
 "nbformat": 4,
 "nbformat_minor": 5
}
