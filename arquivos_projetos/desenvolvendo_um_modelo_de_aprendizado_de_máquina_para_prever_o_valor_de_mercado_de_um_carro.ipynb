{
 "cells": [
  {
   "cell_type": "markdown",
   "metadata": {},
   "source": [
    "Olá, Gabriel!\n",
    "\n",
    "Meu nome é Ramon. Fico feliz em revisar seu projeto. Ao ao longo do texto farei algumas observações sobre melhorias no código e também farei comentários sobre suas percepções sobre o assunto. Estarei aberto a feedbacks e discussões sobre o tema.\n",
    "\n",
    "**Peço que mantenha e não altere os comentários que eu fizer por aqui para que possamos nos localizar posteriormente, ok?**\n",
    "\n",
    "Mais uma coisa, vamos utilizar um código de cores para você entender os meus feedbacks no seu notebook. Funciona assim:\n",
    "\n",
    "<div class=\"alert alert-block alert-success\">\n",
    "<b> Comentário do revisor: </b> <a class=\"tocSkip\"></a>\n",
    "\n",
    "Sucesso. Tudo foi feito corretamente.\n",
    "</div>\n",
    "\n",
    "<div class=\"alert alert-block alert-warning\">\n",
    "<b>Comentário do revisor: </b> <a class=\"tocSkip\"></a>\n",
    "\n",
    "Alerta não crítco, mas que pode ser corrigido para melhoria geral no seu código/análise\n",
    "</div>\n",
    "\n",
    "<div class=\"alert alert-block alert-danger\">\n",
    "\n",
    "<b>Comentário do revisor: </b> <a class=\"tocSkip\"></a>\n",
    "    \n",
    "Erro que precisa ser consertado, caso contrário seu projeto **não** será aceito.\n",
    "</div>\n",
    "\n",
    "Você pode me responder usando isso:\n",
    "<div class=\"alert alert-block alert-info\">\n",
    "<b>Resposta do Aluno.</b> <a class=\"tocSkip\"></a>\n",
    "</div>"
   ]
  },
  {
   "cell_type": "markdown",
   "metadata": {},
   "source": [
    "# Desenvolvendo um modelo de aprendizado de máquina para prever o valor de mercado de um carro."
   ]
  },
  {
   "cell_type": "markdown",
   "metadata": {},
   "source": [
    "O serviço de vendas de carros usados Rusty Bargain está desenvolvendo um aplicativo para atrair novos clientes. Nesse aplicativo, você pode descobrir rapidamente o valor de mercado do seu carro. Você tem acesso a dados históricos: especificações técnicas, versões de acabamento e preços. Você precisa construir o modelo para determinar o valor. \n",
    "\n",
    "Rusty Bargain está interessado em:\n",
    "\n",
    "- a qualidade da predição;\n",
    "- a velocidade da predição;\n",
    "- o tempo necessário para o treinamento"
   ]
  },
  {
   "cell_type": "markdown",
   "metadata": {},
   "source": [
    "## Preparação de Dados"
   ]
  },
  {
   "cell_type": "markdown",
   "metadata": {},
   "source": [
    "### Iniciação\n",
    "Carregue bibliotecas que você acredita que são necessárias para o projeto. Você pode perceber depois que você precisa de bibliotecas adicionais conforme você avança, o que é totalmente normal - apenas certifique-se de atualizar essa seção quando perceber isso."
   ]
  },
  {
   "cell_type": "code",
   "execution_count": 1,
   "metadata": {},
   "outputs": [],
   "source": [
    "import pandas as pd\n",
    "import numpy as np\n",
    "import matplotlib.pyplot as plt\n",
    "from scipy import stats as st\n",
    "import warnings\n",
    "warnings.filterwarnings(\"ignore\")"
   ]
  },
  {
   "cell_type": "code",
   "execution_count": 2,
   "metadata": {},
   "outputs": [],
   "source": [
    "# Carregue o arquivo com os dados em um DataFrame\n",
    "df = pd.read_csv('/datasets/car_data.csv')"
   ]
  },
  {
   "cell_type": "markdown",
   "metadata": {},
   "source": [
    "### Explore os dados iniciais\n",
    "\n",
    "\n",
    "\n",
    "#### Descrição de dados\n",
    "\n",
    "- `DateCrawled` — data em que o perfil foi baixado do banco de dados\n",
    "- `VehicleType` — tipo de carroçaria do veículo\n",
    "- `RegistrationYear` — ano de matrícula do veículo\n",
    "- `Gearbox` — tipo de caixa de transmissão\n",
    "- `Power` — potência (hp)\n",
    "- `Model` — modelo do veículo\n",
    "- `Mileage` — quilometragem (medida em km devido às especificidades regionais do conjunto de dados)\n",
    "- `RegistrationMonth` — mês de registro do veículo\n",
    "- `FuelType` — tipo de combustível\n",
    "- `Brand` — marca do veículo\n",
    "- `NotRepaired` — veículo reparado ou não\n",
    "- `DateCreated` — data de criação do perfil\n",
    "- `NumberOfPictures` — número de fotos do veículo\n",
    "- `PostalCode` — código postal do proprietário do perfil (usuário)\n",
    "- `LastSeen` — data da última atividade do usuário\n",
    "\n",
    "Objetivo\n",
    "\n",
    "- `Price` — preço (Euro)\n",
    "\n",
    "Agora vamos explorar nossos dados. Você vai querer ver quantas colunas e linhas ele tem, veja algumas linhas para verificar possíveis problemas com os dados."
   ]
  },
  {
   "cell_type": "code",
   "execution_count": 3,
   "metadata": {
    "scrolled": true
   },
   "outputs": [
    {
     "data": {
      "text/html": [
       "<div>\n",
       "<style scoped>\n",
       "    .dataframe tbody tr th:only-of-type {\n",
       "        vertical-align: middle;\n",
       "    }\n",
       "\n",
       "    .dataframe tbody tr th {\n",
       "        vertical-align: top;\n",
       "    }\n",
       "\n",
       "    .dataframe thead th {\n",
       "        text-align: right;\n",
       "    }\n",
       "</style>\n",
       "<table border=\"1\" class=\"dataframe\">\n",
       "  <thead>\n",
       "    <tr style=\"text-align: right;\">\n",
       "      <th></th>\n",
       "      <th>DateCrawled</th>\n",
       "      <th>Price</th>\n",
       "      <th>VehicleType</th>\n",
       "      <th>RegistrationYear</th>\n",
       "      <th>Gearbox</th>\n",
       "      <th>Power</th>\n",
       "      <th>Model</th>\n",
       "      <th>Mileage</th>\n",
       "      <th>RegistrationMonth</th>\n",
       "      <th>FuelType</th>\n",
       "      <th>Brand</th>\n",
       "      <th>NotRepaired</th>\n",
       "      <th>DateCreated</th>\n",
       "      <th>NumberOfPictures</th>\n",
       "      <th>PostalCode</th>\n",
       "      <th>LastSeen</th>\n",
       "    </tr>\n",
       "  </thead>\n",
       "  <tbody>\n",
       "    <tr>\n",
       "      <th>0</th>\n",
       "      <td>24/03/2016 11:52</td>\n",
       "      <td>480</td>\n",
       "      <td>NaN</td>\n",
       "      <td>1993</td>\n",
       "      <td>manual</td>\n",
       "      <td>0</td>\n",
       "      <td>golf</td>\n",
       "      <td>150000</td>\n",
       "      <td>0</td>\n",
       "      <td>petrol</td>\n",
       "      <td>volkswagen</td>\n",
       "      <td>NaN</td>\n",
       "      <td>24/03/2016 00:00</td>\n",
       "      <td>0</td>\n",
       "      <td>70435</td>\n",
       "      <td>07/04/2016 03:16</td>\n",
       "    </tr>\n",
       "    <tr>\n",
       "      <th>1</th>\n",
       "      <td>24/03/2016 10:58</td>\n",
       "      <td>18300</td>\n",
       "      <td>coupe</td>\n",
       "      <td>2011</td>\n",
       "      <td>manual</td>\n",
       "      <td>190</td>\n",
       "      <td>NaN</td>\n",
       "      <td>125000</td>\n",
       "      <td>5</td>\n",
       "      <td>gasoline</td>\n",
       "      <td>audi</td>\n",
       "      <td>yes</td>\n",
       "      <td>24/03/2016 00:00</td>\n",
       "      <td>0</td>\n",
       "      <td>66954</td>\n",
       "      <td>07/04/2016 01:46</td>\n",
       "    </tr>\n",
       "    <tr>\n",
       "      <th>2</th>\n",
       "      <td>14/03/2016 12:52</td>\n",
       "      <td>9800</td>\n",
       "      <td>suv</td>\n",
       "      <td>2004</td>\n",
       "      <td>auto</td>\n",
       "      <td>163</td>\n",
       "      <td>grand</td>\n",
       "      <td>125000</td>\n",
       "      <td>8</td>\n",
       "      <td>gasoline</td>\n",
       "      <td>jeep</td>\n",
       "      <td>NaN</td>\n",
       "      <td>14/03/2016 00:00</td>\n",
       "      <td>0</td>\n",
       "      <td>90480</td>\n",
       "      <td>05/04/2016 12:47</td>\n",
       "    </tr>\n",
       "    <tr>\n",
       "      <th>3</th>\n",
       "      <td>17/03/2016 16:54</td>\n",
       "      <td>1500</td>\n",
       "      <td>small</td>\n",
       "      <td>2001</td>\n",
       "      <td>manual</td>\n",
       "      <td>75</td>\n",
       "      <td>golf</td>\n",
       "      <td>150000</td>\n",
       "      <td>6</td>\n",
       "      <td>petrol</td>\n",
       "      <td>volkswagen</td>\n",
       "      <td>no</td>\n",
       "      <td>17/03/2016 00:00</td>\n",
       "      <td>0</td>\n",
       "      <td>91074</td>\n",
       "      <td>17/03/2016 17:40</td>\n",
       "    </tr>\n",
       "    <tr>\n",
       "      <th>4</th>\n",
       "      <td>31/03/2016 17:25</td>\n",
       "      <td>3600</td>\n",
       "      <td>small</td>\n",
       "      <td>2008</td>\n",
       "      <td>manual</td>\n",
       "      <td>69</td>\n",
       "      <td>fabia</td>\n",
       "      <td>90000</td>\n",
       "      <td>7</td>\n",
       "      <td>gasoline</td>\n",
       "      <td>skoda</td>\n",
       "      <td>no</td>\n",
       "      <td>31/03/2016 00:00</td>\n",
       "      <td>0</td>\n",
       "      <td>60437</td>\n",
       "      <td>06/04/2016 10:17</td>\n",
       "    </tr>\n",
       "  </tbody>\n",
       "</table>\n",
       "</div>"
      ],
      "text/plain": [
       "        DateCrawled  Price VehicleType  RegistrationYear Gearbox  Power  \\\n",
       "0  24/03/2016 11:52    480         NaN              1993  manual      0   \n",
       "1  24/03/2016 10:58  18300       coupe              2011  manual    190   \n",
       "2  14/03/2016 12:52   9800         suv              2004    auto    163   \n",
       "3  17/03/2016 16:54   1500       small              2001  manual     75   \n",
       "4  31/03/2016 17:25   3600       small              2008  manual     69   \n",
       "\n",
       "   Model  Mileage  RegistrationMonth  FuelType       Brand NotRepaired  \\\n",
       "0   golf   150000                  0    petrol  volkswagen         NaN   \n",
       "1    NaN   125000                  5  gasoline        audi         yes   \n",
       "2  grand   125000                  8  gasoline        jeep         NaN   \n",
       "3   golf   150000                  6    petrol  volkswagen          no   \n",
       "4  fabia    90000                  7  gasoline       skoda          no   \n",
       "\n",
       "        DateCreated  NumberOfPictures  PostalCode          LastSeen  \n",
       "0  24/03/2016 00:00                 0       70435  07/04/2016 03:16  \n",
       "1  24/03/2016 00:00                 0       66954  07/04/2016 01:46  \n",
       "2  14/03/2016 00:00                 0       90480  05/04/2016 12:47  \n",
       "3  17/03/2016 00:00                 0       91074  17/03/2016 17:40  \n",
       "4  31/03/2016 00:00                 0       60437  06/04/2016 10:17  "
      ]
     },
     "execution_count": 3,
     "metadata": {},
     "output_type": "execute_result"
    }
   ],
   "source": [
    "# vamos exibir as primeiras 5 linhas\n",
    "df.head(5)"
   ]
  },
  {
   "cell_type": "code",
   "execution_count": 4,
   "metadata": {},
   "outputs": [
    {
     "name": "stdout",
     "output_type": "stream",
     "text": [
      "<class 'pandas.core.frame.DataFrame'>\n",
      "RangeIndex: 354369 entries, 0 to 354368\n",
      "Data columns (total 16 columns):\n",
      " #   Column             Non-Null Count   Dtype \n",
      "---  ------             --------------   ----- \n",
      " 0   DateCrawled        354369 non-null  object\n",
      " 1   Price              354369 non-null  int64 \n",
      " 2   VehicleType        316879 non-null  object\n",
      " 3   RegistrationYear   354369 non-null  int64 \n",
      " 4   Gearbox            334536 non-null  object\n",
      " 5   Power              354369 non-null  int64 \n",
      " 6   Model              334664 non-null  object\n",
      " 7   Mileage            354369 non-null  int64 \n",
      " 8   RegistrationMonth  354369 non-null  int64 \n",
      " 9   FuelType           321474 non-null  object\n",
      " 10  Brand              354369 non-null  object\n",
      " 11  NotRepaired        283215 non-null  object\n",
      " 12  DateCreated        354369 non-null  object\n",
      " 13  NumberOfPictures   354369 non-null  int64 \n",
      " 14  PostalCode         354369 non-null  int64 \n",
      " 15  LastSeen           354369 non-null  object\n",
      "dtypes: int64(7), object(9)\n",
      "memory usage: 43.3+ MB\n"
     ]
    }
   ],
   "source": [
    "# Vamos ver quantas linhas e colunas nosso conjunto de dados tem\n",
    "df.info()"
   ]
  },
  {
   "cell_type": "code",
   "execution_count": 5,
   "metadata": {},
   "outputs": [
    {
     "data": {
      "text/plain": [
       "262"
      ]
     },
     "execution_count": 5,
     "metadata": {},
     "output_type": "execute_result"
    }
   ],
   "source": [
    "# Verificar Valores Duplicados\n",
    "df.duplicated().sum()"
   ]
  },
  {
   "cell_type": "code",
   "execution_count": 6,
   "metadata": {},
   "outputs": [],
   "source": [
    "# Aborde as duplicatas, se existirem\n",
    "df = df.drop_duplicates().reset_index(drop=True)"
   ]
  },
  {
   "cell_type": "code",
   "execution_count": 7,
   "metadata": {},
   "outputs": [
    {
     "data": {
      "text/plain": [
       "0"
      ]
     },
     "execution_count": 7,
     "metadata": {},
     "output_type": "execute_result"
    }
   ],
   "source": [
    "# Verificar Valores Duplicados\n",
    "df.duplicated().sum()"
   ]
  },
  {
   "cell_type": "code",
   "execution_count": 8,
   "metadata": {
    "scrolled": true
   },
   "outputs": [
    {
     "data": {
      "text/plain": [
       "DateCrawled              0\n",
       "Price                    0\n",
       "VehicleType          37484\n",
       "RegistrationYear         0\n",
       "Gearbox              19830\n",
       "Power                    0\n",
       "Model                19701\n",
       "Mileage                  0\n",
       "RegistrationMonth        0\n",
       "FuelType             32889\n",
       "Brand                    0\n",
       "NotRepaired          71145\n",
       "DateCreated              0\n",
       "NumberOfPictures         0\n",
       "PostalCode               0\n",
       "LastSeen                 0\n",
       "dtype: int64"
      ]
     },
     "execution_count": 8,
     "metadata": {},
     "output_type": "execute_result"
    }
   ],
   "source": [
    "# Verificar Valores Ausentes\n",
    "df.isna().sum()"
   ]
  },
  {
   "cell_type": "code",
   "execution_count": 9,
   "metadata": {
    "scrolled": false
   },
   "outputs": [
    {
     "data": {
      "text/plain": [
       "DateCrawled           0.000000\n",
       "Price                 0.000000\n",
       "VehicleType          10.585501\n",
       "RegistrationYear      0.000000\n",
       "Gearbox               5.600002\n",
       "Power                 0.000000\n",
       "Model                 5.563573\n",
       "Mileage               0.000000\n",
       "RegistrationMonth     0.000000\n",
       "FuelType              9.287871\n",
       "Brand                 0.000000\n",
       "NotRepaired          20.091385\n",
       "DateCreated           0.000000\n",
       "NumberOfPictures      0.000000\n",
       "PostalCode            0.000000\n",
       "LastSeen              0.000000\n",
       "dtype: float64"
      ]
     },
     "execution_count": 9,
     "metadata": {},
     "output_type": "execute_result"
    }
   ],
   "source": [
    "# Vamos calcular a porcentagem desses valores faltantes em relação com o nosso conjunto de dados\n",
    "(df.isnull().sum() / df.shape[0]) * 100"
   ]
  },
  {
   "cell_type": "markdown",
   "metadata": {},
   "source": [
    "Removemos os dados duplicados e analizamos os valores faltantes. "
   ]
  },
  {
   "cell_type": "markdown",
   "metadata": {},
   "source": [
    "### Transformação de dados\n",
    "Vamos examinar cada coluna para ver quais problemas podemos ter nelas."
   ]
  },
  {
   "cell_type": "code",
   "execution_count": 11,
   "metadata": {
    "scrolled": true
   },
   "outputs": [
    {
     "data": {
      "text/plain": [
       "44600     01/04/2016 00:06\n",
       "266156    01/04/2016 00:06\n",
       "157525    01/04/2016 00:06\n",
       "119430    01/04/2016 00:10\n",
       "122927    01/04/2016 00:25\n",
       "                ...       \n",
       "78331     31/03/2016 23:58\n",
       "344885    31/03/2016 23:58\n",
       "102481    31/03/2016 23:58\n",
       "59088     31/03/2016 23:58\n",
       "201452    31/03/2016 23:58\n",
       "Name: DateCrawled, Length: 354107, dtype: object"
      ]
     },
     "execution_count": 11,
     "metadata": {},
     "output_type": "execute_result"
    }
   ],
   "source": [
    "df['DateCrawled'].sort_values()"
   ]
  },
  {
   "cell_type": "code",
   "execution_count": 12,
   "metadata": {},
   "outputs": [
    {
     "data": {
      "text/plain": [
       "count    354107.000000\n",
       "mean       4416.433287\n",
       "std        4514.338584\n",
       "min           0.000000\n",
       "25%        1050.000000\n",
       "50%        2700.000000\n",
       "75%        6400.000000\n",
       "max       20000.000000\n",
       "Name: Price, dtype: float64"
      ]
     },
     "execution_count": 12,
     "metadata": {},
     "output_type": "execute_result"
    }
   ],
   "source": [
    "df['Price'].describe()"
   ]
  },
  {
   "cell_type": "code",
   "execution_count": 13,
   "metadata": {},
   "outputs": [
    {
     "data": {
      "text/plain": [
       "array(['bus', 'convertible', 'coupe', 'other', 'sedan', 'small', 'suv',\n",
       "       'wagon', nan], dtype=object)"
      ]
     },
     "execution_count": 13,
     "metadata": {},
     "output_type": "execute_result"
    }
   ],
   "source": [
    "df['VehicleType'].sort_values().unique()"
   ]
  },
  {
   "cell_type": "code",
   "execution_count": 14,
   "metadata": {},
   "outputs": [
    {
     "data": {
      "text/plain": [
       "array([1000, 1001, 1039, 1111, 1200, 1234, 1253, 1255, 1300, 1400, 1500,\n",
       "       1600, 1602, 1688, 1800, 1910, 1915, 1919, 1920, 1923, 1925, 1927,\n",
       "       1928, 1929, 1930, 1931, 1932, 1933, 1934, 1935, 1936, 1937, 1938,\n",
       "       1940, 1941, 1942, 1943, 1944, 1945, 1946, 1947, 1948, 1949, 1950,\n",
       "       1951, 1952, 1953, 1954, 1955, 1956, 1957, 1958, 1959, 1960, 1961,\n",
       "       1962, 1963, 1964, 1965, 1966, 1967, 1968, 1969, 1970, 1971, 1972,\n",
       "       1973, 1974, 1975, 1976, 1977, 1978, 1979, 1980, 1981, 1982, 1983,\n",
       "       1984, 1985, 1986, 1987, 1988, 1989, 1990, 1991, 1992, 1993, 1994,\n",
       "       1995, 1996, 1997, 1998, 1999, 2000, 2001, 2002, 2003, 2004, 2005,\n",
       "       2006, 2007, 2008, 2009, 2010, 2011, 2012, 2013, 2014, 2015, 2016,\n",
       "       2017, 2018, 2019, 2066, 2200, 2222, 2290, 2500, 2800, 2900, 3000,\n",
       "       3200, 3500, 3700, 3800, 4000, 4100, 4500, 4800, 5000, 5300, 5555,\n",
       "       5600, 5900, 5911, 6000, 6500, 7000, 7100, 7500, 7800, 8000, 8200,\n",
       "       8455, 8500, 8888, 9000, 9229, 9450, 9996, 9999])"
      ]
     },
     "execution_count": 14,
     "metadata": {},
     "output_type": "execute_result"
    }
   ],
   "source": [
    "df['RegistrationYear'].sort_values().unique()"
   ]
  },
  {
   "cell_type": "code",
   "execution_count": 15,
   "metadata": {},
   "outputs": [
    {
     "data": {
      "text/plain": [
       "array(['auto', 'manual', nan], dtype=object)"
      ]
     },
     "execution_count": 15,
     "metadata": {},
     "output_type": "execute_result"
    }
   ],
   "source": [
    "df['Gearbox'].sort_values().unique()"
   ]
  },
  {
   "cell_type": "code",
   "execution_count": 16,
   "metadata": {},
   "outputs": [
    {
     "data": {
      "text/plain": [
       "count    354107.000000\n",
       "mean        110.089651\n",
       "std         189.914972\n",
       "min           0.000000\n",
       "25%          69.000000\n",
       "50%         105.000000\n",
       "75%         143.000000\n",
       "max       20000.000000\n",
       "Name: Power, dtype: float64"
      ]
     },
     "execution_count": 16,
     "metadata": {},
     "output_type": "execute_result"
    }
   ],
   "source": [
    "df['Power'].describe()"
   ]
  },
  {
   "cell_type": "code",
   "execution_count": 17,
   "metadata": {},
   "outputs": [
    {
     "data": {
      "text/plain": [
       "array(['100', '145', '147', '156', '159', '1_reihe', '1er', '200',\n",
       "       '2_reihe', '300c', '3_reihe', '3er', '4_reihe', '500', '5_reihe',\n",
       "       '5er', '601', '6_reihe', '6er', '7er', '80', '850', '90', '900',\n",
       "       '9000', '911', 'a1', 'a2', 'a3', 'a4', 'a5', 'a6', 'a8',\n",
       "       'a_klasse', 'accord', 'agila', 'alhambra', 'almera', 'altea',\n",
       "       'amarok', 'antara', 'arosa', 'astra', 'auris', 'avensis', 'aveo',\n",
       "       'aygo', 'b_klasse', 'b_max', 'beetle', 'berlingo', 'bora',\n",
       "       'boxster', 'bravo', 'c1', 'c2', 'c3', 'c4', 'c5', 'c_klasse',\n",
       "       'c_max', 'c_reihe', 'caddy', 'calibra', 'captiva', 'carisma',\n",
       "       'carnival', 'cayenne', 'cc', 'ceed', 'charade', 'cherokee',\n",
       "       'citigo', 'civic', 'cl', 'clio', 'clk', 'clubman', 'colt', 'combo',\n",
       "       'cooper', 'cordoba', 'corolla', 'corsa', 'cr_reihe', 'croma',\n",
       "       'crossfire', 'cuore', 'cx_reihe', 'defender', 'delta', 'discovery',\n",
       "       'doblo', 'ducato', 'duster', 'e_klasse', 'elefantino', 'eos',\n",
       "       'escort', 'espace', 'exeo', 'fabia', 'fiesta', 'focus', 'forester',\n",
       "       'forfour', 'fortwo', 'fox', 'freelander', 'fusion', 'g_klasse',\n",
       "       'galant', 'galaxy', 'getz', 'gl', 'glk', 'golf', 'grand', 'i3',\n",
       "       'i_reihe', 'ibiza', 'impreza', 'insignia', 'jazz', 'jetta',\n",
       "       'jimny', 'juke', 'justy', 'ka', 'kadett', 'kaefer', 'kalina',\n",
       "       'kalos', 'kangoo', 'kappa', 'kuga', 'laguna', 'lancer', 'lanos',\n",
       "       'legacy', 'leon', 'lodgy', 'logan', 'lupo', 'lybra', 'm_klasse',\n",
       "       'm_reihe', 'materia', 'matiz', 'megane', 'meriva', 'micra', 'mii',\n",
       "       'modus', 'mondeo', 'move', 'musa', 'mustang', 'mx_reihe', 'navara',\n",
       "       'niva', 'note', 'nubira', 'octavia', 'omega', 'one', 'other',\n",
       "       'outlander', 'pajero', 'panda', 'passat', 'phaeton', 'picanto',\n",
       "       'polo', 'primera', 'ptcruiser', 'punto', 'q3', 'q5', 'q7',\n",
       "       'qashqai', 'r19', 'range_rover', 'range_rover_evoque',\n",
       "       'range_rover_sport', 'rangerover', 'rav', 'rio', 'roadster',\n",
       "       'roomster', 'rx_reihe', 's60', 's_klasse', 's_max', 's_type',\n",
       "       'samara', 'sandero', 'santa', 'scenic', 'scirocco', 'seicento',\n",
       "       'serie_1', 'serie_2', 'serie_3', 'sharan', 'signum', 'sirion',\n",
       "       'sl', 'slk', 'sorento', 'spark', 'spider', 'sportage', 'sprinter',\n",
       "       'stilo', 'superb', 'swift', 'terios', 'tigra', 'tiguan', 'toledo',\n",
       "       'touareg', 'touran', 'transit', 'transporter', 'tt', 'tucson',\n",
       "       'twingo', 'up', 'v40', 'v50', 'v60', 'v70', 'v_klasse', 'vectra',\n",
       "       'verso', 'viano', 'vito', 'vivaro', 'voyager', 'wrangler',\n",
       "       'x_reihe', 'x_trail', 'x_type', 'xc_reihe', 'yaris', 'yeti',\n",
       "       'ypsilon', 'z_reihe', 'zafira', nan], dtype=object)"
      ]
     },
     "execution_count": 17,
     "metadata": {},
     "output_type": "execute_result"
    }
   ],
   "source": [
    "df['Model'].sort_values().unique()"
   ]
  },
  {
   "cell_type": "code",
   "execution_count": 18,
   "metadata": {},
   "outputs": [
    {
     "data": {
      "text/plain": [
       "count    354107.000000\n",
       "mean     128211.811684\n",
       "std       37906.590101\n",
       "min        5000.000000\n",
       "25%      125000.000000\n",
       "50%      150000.000000\n",
       "75%      150000.000000\n",
       "max      150000.000000\n",
       "Name: Mileage, dtype: float64"
      ]
     },
     "execution_count": 18,
     "metadata": {},
     "output_type": "execute_result"
    }
   ],
   "source": [
    "df['Mileage'].describe()"
   ]
  },
  {
   "cell_type": "code",
   "execution_count": 19,
   "metadata": {},
   "outputs": [
    {
     "data": {
      "text/plain": [
       "array([ 0,  1,  2,  3,  4,  5,  6,  7,  8,  9, 10, 11, 12])"
      ]
     },
     "execution_count": 19,
     "metadata": {},
     "output_type": "execute_result"
    }
   ],
   "source": [
    "df['RegistrationMonth'].sort_values().unique()"
   ]
  },
  {
   "cell_type": "code",
   "execution_count": 20,
   "metadata": {},
   "outputs": [
    {
     "data": {
      "text/plain": [
       "array(['cng', 'electric', 'gasoline', 'hybrid', 'lpg', 'other', 'petrol',\n",
       "       nan], dtype=object)"
      ]
     },
     "execution_count": 20,
     "metadata": {},
     "output_type": "execute_result"
    }
   ],
   "source": [
    "df['FuelType'].sort_values().unique()"
   ]
  },
  {
   "cell_type": "code",
   "execution_count": 21,
   "metadata": {},
   "outputs": [
    {
     "data": {
      "text/plain": [
       "array(['alfa_romeo', 'audi', 'bmw', 'chevrolet', 'chrysler', 'citroen',\n",
       "       'dacia', 'daewoo', 'daihatsu', 'fiat', 'ford', 'honda', 'hyundai',\n",
       "       'jaguar', 'jeep', 'kia', 'lada', 'lancia', 'land_rover', 'mazda',\n",
       "       'mercedes_benz', 'mini', 'mitsubishi', 'nissan', 'opel', 'peugeot',\n",
       "       'porsche', 'renault', 'rover', 'saab', 'seat', 'skoda', 'smart',\n",
       "       'sonstige_autos', 'subaru', 'suzuki', 'toyota', 'trabant',\n",
       "       'volkswagen', 'volvo'], dtype=object)"
      ]
     },
     "execution_count": 21,
     "metadata": {},
     "output_type": "execute_result"
    }
   ],
   "source": [
    "df['Brand'].sort_values().unique()"
   ]
  },
  {
   "cell_type": "code",
   "execution_count": 22,
   "metadata": {},
   "outputs": [
    {
     "data": {
      "text/plain": [
       "array(['no', 'yes', nan], dtype=object)"
      ]
     },
     "execution_count": 22,
     "metadata": {},
     "output_type": "execute_result"
    }
   ],
   "source": [
    "df['NotRepaired'].sort_values().unique()"
   ]
  },
  {
   "cell_type": "code",
   "execution_count": 23,
   "metadata": {},
   "outputs": [
    {
     "data": {
      "text/plain": [
       "247165    01/02/2016 00:00\n",
       "293735    01/02/2016 00:00\n",
       "281833    01/02/2016 00:00\n",
       "201856    01/03/2016 00:00\n",
       "296916    01/03/2016 00:00\n",
       "                ...       \n",
       "319455    31/03/2016 00:00\n",
       "55814     31/03/2016 00:00\n",
       "185358    31/03/2016 00:00\n",
       "185419    31/03/2016 00:00\n",
       "218578    31/03/2016 00:00\n",
       "Name: DateCreated, Length: 354107, dtype: object"
      ]
     },
     "execution_count": 23,
     "metadata": {},
     "output_type": "execute_result"
    }
   ],
   "source": [
    "df['DateCreated'].sort_values()"
   ]
  },
  {
   "cell_type": "code",
   "execution_count": 24,
   "metadata": {},
   "outputs": [
    {
     "data": {
      "text/plain": [
       "count    354107.0\n",
       "mean          0.0\n",
       "std           0.0\n",
       "min           0.0\n",
       "25%           0.0\n",
       "50%           0.0\n",
       "75%           0.0\n",
       "max           0.0\n",
       "Name: NumberOfPictures, dtype: float64"
      ]
     },
     "execution_count": 24,
     "metadata": {},
     "output_type": "execute_result"
    }
   ],
   "source": [
    "df['NumberOfPictures'].describe()"
   ]
  },
  {
   "cell_type": "code",
   "execution_count": 25,
   "metadata": {},
   "outputs": [
    {
     "data": {
      "text/plain": [
       "array([ 1067,  1068,  1069, ..., 99994, 99996, 99998])"
      ]
     },
     "execution_count": 25,
     "metadata": {},
     "output_type": "execute_result"
    }
   ],
   "source": [
    "df['PostalCode'].sort_values().unique()"
   ]
  },
  {
   "cell_type": "code",
   "execution_count": 26,
   "metadata": {},
   "outputs": [
    {
     "data": {
      "text/plain": [
       "311229    01/04/2016 00:15\n",
       "300128    01/04/2016 00:15\n",
       "270029    01/04/2016 00:15\n",
       "84894     01/04/2016 00:15\n",
       "327905    01/04/2016 00:15\n",
       "                ...       \n",
       "15495     31/03/2016 23:47\n",
       "231071    31/03/2016 23:48\n",
       "36469     31/03/2016 23:50\n",
       "262530    31/03/2016 23:51\n",
       "72795     31/03/2016 23:54\n",
       "Name: LastSeen, Length: 354107, dtype: object"
      ]
     },
     "execution_count": 26,
     "metadata": {},
     "output_type": "execute_result"
    }
   ],
   "source": [
    "df['LastSeen'].sort_values()"
   ]
  },
  {
   "cell_type": "markdown",
   "metadata": {},
   "source": [
    "As colunas 'PostalCode' , 'LastSeen' , 'DateCrawled' e 'DateCreated', possuem valorem que não servem para nossa pesquisa por isso iremos retira-las. As colunas 'price' e 'power', possui alguns valores anormais, nos iremos retirar esses valores"
   ]
  },
  {
   "cell_type": "markdown",
   "metadata": {},
   "source": [
    "### Pré-processar dados "
   ]
  },
  {
   "cell_type": "code",
   "execution_count": 28,
   "metadata": {},
   "outputs": [
    {
     "data": {
      "text/plain": [
       "Index(['DateCrawled', 'Price', 'VehicleType', 'RegistrationYear', 'Gearbox',\n",
       "       'Power', 'Model', 'Mileage', 'RegistrationMonth', 'FuelType', 'Brand',\n",
       "       'NotRepaired', 'DateCreated', 'NumberOfPictures', 'PostalCode',\n",
       "       'LastSeen'],\n",
       "      dtype='object')"
      ]
     },
     "execution_count": 28,
     "metadata": {},
     "output_type": "execute_result"
    }
   ],
   "source": [
    "# a lista dos nomes das colunas na tabela df\n",
    "df.columns"
   ]
  },
  {
   "cell_type": "code",
   "execution_count": 29,
   "metadata": {},
   "outputs": [],
   "source": [
    "# renomeando colunas\n",
    "df = df.rename(str.lower, axis='columns')"
   ]
  },
  {
   "cell_type": "code",
   "execution_count": 30,
   "metadata": {
    "scrolled": true
   },
   "outputs": [
    {
     "data": {
      "text/plain": [
       "Index(['datecrawled', 'price', 'vehicletype', 'registrationyear', 'gearbox',\n",
       "       'power', 'model', 'mileage', 'registrationmonth', 'fueltype', 'brand',\n",
       "       'notrepaired', 'datecreated', 'numberofpictures', 'postalcode',\n",
       "       'lastseen'],\n",
       "      dtype='object')"
      ]
     },
     "execution_count": 30,
     "metadata": {},
     "output_type": "execute_result"
    }
   ],
   "source": [
    "# a lista dos nomes das colunas na tabela df\n",
    "df.columns"
   ]
  },
  {
   "cell_type": "code",
   "execution_count": 32,
   "metadata": {},
   "outputs": [],
   "source": [
    "#Deixando as colunas que realmentes influenciam nossa pesquisa\n",
    "df = df[['price','vehicletype','registrationyear','gearbox',\n",
    "       'power', 'model', 'mileage', 'registrationmonth', 'fueltype', 'brand',\n",
    "       'notrepaired']]"
   ]
  },
  {
   "cell_type": "code",
   "execution_count": 33,
   "metadata": {},
   "outputs": [],
   "source": [
    "#Retirando valores do Mês que correspondem a 0\n",
    "df = df.query(\"registrationmonth > 0\")"
   ]
  },
  {
   "cell_type": "code",
   "execution_count": 34,
   "metadata": {},
   "outputs": [],
   "source": [
    "#Subistituindo valores NAN de 'notrepaired' para 'unknownrepaired'\n",
    "df['notrepaired'].fillna('unknownrepaired',inplace=True )"
   ]
  },
  {
   "cell_type": "code",
   "execution_count": 35,
   "metadata": {},
   "outputs": [],
   "source": [
    "#Retirando outliers da coluna 'price' e power\n",
    "Q1_price = df['price'].quantile(0.25)\n",
    "Q3_price =df['price'].quantile(0.75)\n",
    "IQR_price = Q3_price - Q1_price\n",
    "limite_superior_price = Q3_price+(1.5*IQR_price)\n",
    "limite_inferior_price = Q1_price - (1.5 * IQR_price)"
   ]
  },
  {
   "cell_type": "code",
   "execution_count": 36,
   "metadata": {},
   "outputs": [],
   "source": [
    "Q1_power = df['power'].quantile(0.25)\n",
    "Q3_power =df['power'].quantile(0.75)\n",
    "IQR_power = Q3_power - Q1_power\n",
    "limite_superior_power = Q3_power+(1.5*IQR_power)\n",
    "limite_inferior_power = Q1_power - (1.5 * IQR_power)\n"
   ]
  },
  {
   "cell_type": "code",
   "execution_count": 37,
   "metadata": {},
   "outputs": [],
   "source": [
    "df_final = df[df['price'] > limite_inferior_price] \n",
    "df_final = df_final[df_final['price'] < limite_superior_price]\n",
    "df_final = df_final[df_final['power'] > limite_inferior_power] \n",
    "df_final = df_final[df_final['power'] < limite_superior_power]"
   ]
  },
  {
   "cell_type": "code",
   "execution_count": 38,
   "metadata": {},
   "outputs": [
    {
     "data": {
      "text/plain": [
       "count    296234.000000\n",
       "mean       4016.808277\n",
       "std        3648.408706\n",
       "min           0.000000\n",
       "25%        1200.000000\n",
       "50%        2790.000000\n",
       "75%        5950.000000\n",
       "max       15249.000000\n",
       "Name: price, dtype: float64"
      ]
     },
     "execution_count": 38,
     "metadata": {},
     "output_type": "execute_result"
    }
   ],
   "source": [
    "df_final['price'].describe()"
   ]
  },
  {
   "cell_type": "code",
   "execution_count": 39,
   "metadata": {},
   "outputs": [],
   "source": [
    "#valores abaixo do outliers sobstituindo com a média em preço\n",
    "dfpriceok = df_final.query(\"price > @Q1_price \")\n",
    "dfpriceok = dfpriceok.groupby(['vehicletype','registrationyear','gearbox','model'])['price'].mean()"
   ]
  },
  {
   "cell_type": "code",
   "execution_count": 40,
   "metadata": {},
   "outputs": [],
   "source": [
    "#valores abaixo do outliers sobstituindo com a média em potência\n",
    "dfpowerok = df_final.query(\"power > @Q1_power \")\n",
    "dfpowerok = dfpowerok.groupby(['vehicletype','registrationyear','gearbox','model'])['price'].mean()"
   ]
  },
  {
   "cell_type": "code",
   "execution_count": 41,
   "metadata": {
    "scrolled": true
   },
   "outputs": [],
   "source": [
    "def fill_price(row):\n",
    "    if row['price'] <  Q1_price :\n",
    "        return dfpriceok[row['price']]\n",
    "    return row['price']\n"
   ]
  },
  {
   "cell_type": "code",
   "execution_count": 42,
   "metadata": {},
   "outputs": [],
   "source": [
    "def fill_power(row):\n",
    "    if row['power'] <  Q1_power :\n",
    "        return dfpowerok[row['power']]\n",
    "    return row['power']"
   ]
  },
  {
   "cell_type": "markdown",
   "metadata": {},
   "source": [
    "<div class=\"alert alert-block alert-success\">\n",
    "<b> Comentário do revisor: </b> <a class=\"tocSkip\"></a>\n",
    "\n",
    "Correto. Uma estratégai mais rebuscada é levar em consideração o ano ou outras variáveis\n",
    "</div>"
   ]
  },
  {
   "cell_type": "code",
   "execution_count": 43,
   "metadata": {},
   "outputs": [],
   "source": [
    "df_final['price'] = df_final.apply(fill_price, axis=1)\n",
    "df_final['power'] = df_final.apply(fill_power, axis=1)"
   ]
  },
  {
   "cell_type": "code",
   "execution_count": 44,
   "metadata": {},
   "outputs": [
    {
     "data": {
      "text/plain": [
       "count    296234.000000\n",
       "mean       5690.894652\n",
       "std        3647.273691\n",
       "min        1250.000000\n",
       "25%        2500.000000\n",
       "50%        4812.500000\n",
       "75%        7999.000000\n",
       "max       15249.000000\n",
       "Name: price, dtype: float64"
      ]
     },
     "execution_count": 44,
     "metadata": {},
     "output_type": "execute_result"
    }
   ],
   "source": [
    "df_final['price'].describe()"
   ]
  },
  {
   "cell_type": "code",
   "execution_count": 45,
   "metadata": {},
   "outputs": [
    {
     "data": {
      "text/plain": [
       "count    296234.000000\n",
       "mean       1258.166519\n",
       "std        2429.866596\n",
       "min          75.000000\n",
       "25%         105.000000\n",
       "50%         140.000000\n",
       "75%         606.750000\n",
       "max       12400.000000\n",
       "Name: power, dtype: float64"
      ]
     },
     "execution_count": 45,
     "metadata": {},
     "output_type": "execute_result"
    }
   ],
   "source": [
    "df_final['power'].describe()"
   ]
  },
  {
   "cell_type": "code",
   "execution_count": 46,
   "metadata": {
    "scrolled": true
   },
   "outputs": [
    {
     "data": {
      "text/plain": [
       "price                0.000000\n",
       "vehicletype          7.405632\n",
       "registrationyear     0.000000\n",
       "gearbox              3.319335\n",
       "power                0.000000\n",
       "model                4.146384\n",
       "mileage              0.000000\n",
       "registrationmonth    0.000000\n",
       "fueltype             6.270718\n",
       "brand                0.000000\n",
       "notrepaired          0.000000\n",
       "dtype: float64"
      ]
     },
     "execution_count": 46,
     "metadata": {},
     "output_type": "execute_result"
    }
   ],
   "source": [
    "(df_final.isnull().sum() / df_final.shape[0]) * 100"
   ]
  },
  {
   "cell_type": "code",
   "execution_count": 47,
   "metadata": {},
   "outputs": [],
   "source": [
    "#como os valores dos valores faltantes são umastra pequena de todos os dados, por isso estão retirando\n",
    "df_final.dropna(inplace=True)"
   ]
  },
  {
   "cell_type": "code",
   "execution_count": 48,
   "metadata": {},
   "outputs": [
    {
     "data": {
      "text/plain": [
       "price                0.0\n",
       "vehicletype          0.0\n",
       "registrationyear     0.0\n",
       "gearbox              0.0\n",
       "power                0.0\n",
       "model                0.0\n",
       "mileage              0.0\n",
       "registrationmonth    0.0\n",
       "fueltype             0.0\n",
       "brand                0.0\n",
       "notrepaired          0.0\n",
       "dtype: float64"
      ]
     },
     "execution_count": 48,
     "metadata": {},
     "output_type": "execute_result"
    }
   ],
   "source": [
    "(df_final.isnull().sum() / df_final.shape[0]) * 100"
   ]
  },
  {
   "cell_type": "code",
   "execution_count": 49,
   "metadata": {
    "scrolled": false
   },
   "outputs": [
    {
     "name": "stdout",
     "output_type": "stream",
     "text": [
      "<class 'pandas.core.frame.DataFrame'>\n",
      "Int64Index: 251133 entries, 2 to 354106\n",
      "Data columns (total 11 columns):\n",
      " #   Column             Non-Null Count   Dtype  \n",
      "---  ------             --------------   -----  \n",
      " 0   price              251133 non-null  float64\n",
      " 1   vehicletype        251133 non-null  object \n",
      " 2   registrationyear   251133 non-null  int64  \n",
      " 3   gearbox            251133 non-null  object \n",
      " 4   power              251133 non-null  float64\n",
      " 5   model              251133 non-null  object \n",
      " 6   mileage            251133 non-null  int64  \n",
      " 7   registrationmonth  251133 non-null  int64  \n",
      " 8   fueltype           251133 non-null  object \n",
      " 9   brand              251133 non-null  object \n",
      " 10  notrepaired        251133 non-null  object \n",
      "dtypes: float64(2), int64(3), object(6)\n",
      "memory usage: 23.0+ MB\n"
     ]
    }
   ],
   "source": [
    "df_final.info()"
   ]
  },
  {
   "cell_type": "code",
   "execution_count": 50,
   "metadata": {
    "scrolled": true
   },
   "outputs": [
    {
     "data": {
      "text/html": [
       "<div>\n",
       "<style scoped>\n",
       "    .dataframe tbody tr th:only-of-type {\n",
       "        vertical-align: middle;\n",
       "    }\n",
       "\n",
       "    .dataframe tbody tr th {\n",
       "        vertical-align: top;\n",
       "    }\n",
       "\n",
       "    .dataframe thead th {\n",
       "        text-align: right;\n",
       "    }\n",
       "</style>\n",
       "<table border=\"1\" class=\"dataframe\">\n",
       "  <thead>\n",
       "    <tr style=\"text-align: right;\">\n",
       "      <th></th>\n",
       "      <th>price</th>\n",
       "      <th>vehicletype</th>\n",
       "      <th>registrationyear</th>\n",
       "      <th>gearbox</th>\n",
       "      <th>power</th>\n",
       "      <th>model</th>\n",
       "      <th>mileage</th>\n",
       "      <th>registrationmonth</th>\n",
       "      <th>fueltype</th>\n",
       "      <th>brand</th>\n",
       "      <th>notrepaired</th>\n",
       "    </tr>\n",
       "  </thead>\n",
       "  <tbody>\n",
       "    <tr>\n",
       "      <th>2</th>\n",
       "      <td>9800.0</td>\n",
       "      <td>suv</td>\n",
       "      <td>2004</td>\n",
       "      <td>auto</td>\n",
       "      <td>163.000000</td>\n",
       "      <td>grand</td>\n",
       "      <td>125000</td>\n",
       "      <td>8</td>\n",
       "      <td>gasoline</td>\n",
       "      <td>jeep</td>\n",
       "      <td>unknownrepaired</td>\n",
       "    </tr>\n",
       "    <tr>\n",
       "      <th>3</th>\n",
       "      <td>1500.0</td>\n",
       "      <td>small</td>\n",
       "      <td>2001</td>\n",
       "      <td>manual</td>\n",
       "      <td>75.000000</td>\n",
       "      <td>golf</td>\n",
       "      <td>150000</td>\n",
       "      <td>6</td>\n",
       "      <td>petrol</td>\n",
       "      <td>volkswagen</td>\n",
       "      <td>no</td>\n",
       "    </tr>\n",
       "    <tr>\n",
       "      <th>4</th>\n",
       "      <td>3600.0</td>\n",
       "      <td>small</td>\n",
       "      <td>2008</td>\n",
       "      <td>manual</td>\n",
       "      <td>2566.333333</td>\n",
       "      <td>fabia</td>\n",
       "      <td>90000</td>\n",
       "      <td>7</td>\n",
       "      <td>gasoline</td>\n",
       "      <td>skoda</td>\n",
       "      <td>no</td>\n",
       "    </tr>\n",
       "    <tr>\n",
       "      <th>5</th>\n",
       "      <td>4900.0</td>\n",
       "      <td>sedan</td>\n",
       "      <td>1995</td>\n",
       "      <td>manual</td>\n",
       "      <td>102.000000</td>\n",
       "      <td>3er</td>\n",
       "      <td>150000</td>\n",
       "      <td>10</td>\n",
       "      <td>petrol</td>\n",
       "      <td>bmw</td>\n",
       "      <td>yes</td>\n",
       "    </tr>\n",
       "    <tr>\n",
       "      <th>6</th>\n",
       "      <td>2200.0</td>\n",
       "      <td>convertible</td>\n",
       "      <td>2004</td>\n",
       "      <td>manual</td>\n",
       "      <td>109.000000</td>\n",
       "      <td>2_reihe</td>\n",
       "      <td>150000</td>\n",
       "      <td>8</td>\n",
       "      <td>petrol</td>\n",
       "      <td>peugeot</td>\n",
       "      <td>no</td>\n",
       "    </tr>\n",
       "    <tr>\n",
       "      <th>...</th>\n",
       "      <td>...</td>\n",
       "      <td>...</td>\n",
       "      <td>...</td>\n",
       "      <td>...</td>\n",
       "      <td>...</td>\n",
       "      <td>...</td>\n",
       "      <td>...</td>\n",
       "      <td>...</td>\n",
       "      <td>...</td>\n",
       "      <td>...</td>\n",
       "      <td>...</td>\n",
       "    </tr>\n",
       "    <tr>\n",
       "      <th>354100</th>\n",
       "      <td>3200.0</td>\n",
       "      <td>sedan</td>\n",
       "      <td>2004</td>\n",
       "      <td>manual</td>\n",
       "      <td>225.000000</td>\n",
       "      <td>leon</td>\n",
       "      <td>150000</td>\n",
       "      <td>5</td>\n",
       "      <td>petrol</td>\n",
       "      <td>seat</td>\n",
       "      <td>yes</td>\n",
       "    </tr>\n",
       "    <tr>\n",
       "      <th>354101</th>\n",
       "      <td>14990.0</td>\n",
       "      <td>bus</td>\n",
       "      <td>2000</td>\n",
       "      <td>manual</td>\n",
       "      <td>8000.000000</td>\n",
       "      <td>zafira</td>\n",
       "      <td>150000</td>\n",
       "      <td>3</td>\n",
       "      <td>petrol</td>\n",
       "      <td>opel</td>\n",
       "      <td>no</td>\n",
       "    </tr>\n",
       "    <tr>\n",
       "      <th>354104</th>\n",
       "      <td>12950.0</td>\n",
       "      <td>convertible</td>\n",
       "      <td>2000</td>\n",
       "      <td>auto</td>\n",
       "      <td>101.000000</td>\n",
       "      <td>fortwo</td>\n",
       "      <td>125000</td>\n",
       "      <td>3</td>\n",
       "      <td>petrol</td>\n",
       "      <td>smart</td>\n",
       "      <td>no</td>\n",
       "    </tr>\n",
       "    <tr>\n",
       "      <th>354105</th>\n",
       "      <td>9200.0</td>\n",
       "      <td>bus</td>\n",
       "      <td>1996</td>\n",
       "      <td>manual</td>\n",
       "      <td>102.000000</td>\n",
       "      <td>transporter</td>\n",
       "      <td>150000</td>\n",
       "      <td>3</td>\n",
       "      <td>gasoline</td>\n",
       "      <td>volkswagen</td>\n",
       "      <td>no</td>\n",
       "    </tr>\n",
       "    <tr>\n",
       "      <th>354106</th>\n",
       "      <td>3400.0</td>\n",
       "      <td>wagon</td>\n",
       "      <td>2002</td>\n",
       "      <td>manual</td>\n",
       "      <td>100.000000</td>\n",
       "      <td>golf</td>\n",
       "      <td>150000</td>\n",
       "      <td>6</td>\n",
       "      <td>gasoline</td>\n",
       "      <td>volkswagen</td>\n",
       "      <td>unknownrepaired</td>\n",
       "    </tr>\n",
       "  </tbody>\n",
       "</table>\n",
       "<p>251133 rows × 11 columns</p>\n",
       "</div>"
      ],
      "text/plain": [
       "          price  vehicletype  registrationyear gearbox        power  \\\n",
       "2        9800.0          suv              2004    auto   163.000000   \n",
       "3        1500.0        small              2001  manual    75.000000   \n",
       "4        3600.0        small              2008  manual  2566.333333   \n",
       "5        4900.0        sedan              1995  manual   102.000000   \n",
       "6        2200.0  convertible              2004  manual   109.000000   \n",
       "...         ...          ...               ...     ...          ...   \n",
       "354100   3200.0        sedan              2004  manual   225.000000   \n",
       "354101  14990.0          bus              2000  manual  8000.000000   \n",
       "354104  12950.0  convertible              2000    auto   101.000000   \n",
       "354105   9200.0          bus              1996  manual   102.000000   \n",
       "354106   3400.0        wagon              2002  manual   100.000000   \n",
       "\n",
       "              model  mileage  registrationmonth  fueltype       brand  \\\n",
       "2             grand   125000                  8  gasoline        jeep   \n",
       "3              golf   150000                  6    petrol  volkswagen   \n",
       "4             fabia    90000                  7  gasoline       skoda   \n",
       "5               3er   150000                 10    petrol         bmw   \n",
       "6           2_reihe   150000                  8    petrol     peugeot   \n",
       "...             ...      ...                ...       ...         ...   \n",
       "354100         leon   150000                  5    petrol        seat   \n",
       "354101       zafira   150000                  3    petrol        opel   \n",
       "354104       fortwo   125000                  3    petrol       smart   \n",
       "354105  transporter   150000                  3  gasoline  volkswagen   \n",
       "354106         golf   150000                  6  gasoline  volkswagen   \n",
       "\n",
       "            notrepaired  \n",
       "2       unknownrepaired  \n",
       "3                    no  \n",
       "4                    no  \n",
       "5                   yes  \n",
       "6                    no  \n",
       "...                 ...  \n",
       "354100              yes  \n",
       "354101               no  \n",
       "354104               no  \n",
       "354105               no  \n",
       "354106  unknownrepaired  \n",
       "\n",
       "[251133 rows x 11 columns]"
      ]
     },
     "execution_count": 50,
     "metadata": {},
     "output_type": "execute_result"
    }
   ],
   "source": [
    "df_final"
   ]
  },
  {
   "cell_type": "code",
   "execution_count": 51,
   "metadata": {
    "scrolled": true
   },
   "outputs": [
    {
     "data": {
      "text/plain": [
       "price                0.0\n",
       "vehicletype          0.0\n",
       "registrationyear     0.0\n",
       "gearbox              0.0\n",
       "power                0.0\n",
       "model                0.0\n",
       "mileage              0.0\n",
       "registrationmonth    0.0\n",
       "fueltype             0.0\n",
       "brand                0.0\n",
       "notrepaired          0.0\n",
       "dtype: float64"
      ]
     },
     "execution_count": 51,
     "metadata": {},
     "output_type": "execute_result"
    }
   ],
   "source": [
    "(df_final.isnull().sum() / df_final.shape[0]) * 100"
   ]
  },
  {
   "cell_type": "code",
   "execution_count": 52,
   "metadata": {},
   "outputs": [],
   "source": [
    "df_final = df_final.reset_index(drop=True)"
   ]
  },
  {
   "cell_type": "code",
   "execution_count": 53,
   "metadata": {},
   "outputs": [
    {
     "data": {
      "text/html": [
       "<div>\n",
       "<style scoped>\n",
       "    .dataframe tbody tr th:only-of-type {\n",
       "        vertical-align: middle;\n",
       "    }\n",
       "\n",
       "    .dataframe tbody tr th {\n",
       "        vertical-align: top;\n",
       "    }\n",
       "\n",
       "    .dataframe thead th {\n",
       "        text-align: right;\n",
       "    }\n",
       "</style>\n",
       "<table border=\"1\" class=\"dataframe\">\n",
       "  <thead>\n",
       "    <tr style=\"text-align: right;\">\n",
       "      <th></th>\n",
       "      <th>price</th>\n",
       "      <th>vehicletype</th>\n",
       "      <th>registrationyear</th>\n",
       "      <th>gearbox</th>\n",
       "      <th>power</th>\n",
       "      <th>model</th>\n",
       "      <th>mileage</th>\n",
       "      <th>registrationmonth</th>\n",
       "      <th>fueltype</th>\n",
       "      <th>brand</th>\n",
       "      <th>notrepaired</th>\n",
       "    </tr>\n",
       "  </thead>\n",
       "  <tbody>\n",
       "    <tr>\n",
       "      <th>0</th>\n",
       "      <td>9800.0</td>\n",
       "      <td>suv</td>\n",
       "      <td>2004</td>\n",
       "      <td>auto</td>\n",
       "      <td>163.000000</td>\n",
       "      <td>grand</td>\n",
       "      <td>125000</td>\n",
       "      <td>8</td>\n",
       "      <td>gasoline</td>\n",
       "      <td>jeep</td>\n",
       "      <td>unknownrepaired</td>\n",
       "    </tr>\n",
       "    <tr>\n",
       "      <th>1</th>\n",
       "      <td>1500.0</td>\n",
       "      <td>small</td>\n",
       "      <td>2001</td>\n",
       "      <td>manual</td>\n",
       "      <td>75.000000</td>\n",
       "      <td>golf</td>\n",
       "      <td>150000</td>\n",
       "      <td>6</td>\n",
       "      <td>petrol</td>\n",
       "      <td>volkswagen</td>\n",
       "      <td>no</td>\n",
       "    </tr>\n",
       "    <tr>\n",
       "      <th>2</th>\n",
       "      <td>3600.0</td>\n",
       "      <td>small</td>\n",
       "      <td>2008</td>\n",
       "      <td>manual</td>\n",
       "      <td>2566.333333</td>\n",
       "      <td>fabia</td>\n",
       "      <td>90000</td>\n",
       "      <td>7</td>\n",
       "      <td>gasoline</td>\n",
       "      <td>skoda</td>\n",
       "      <td>no</td>\n",
       "    </tr>\n",
       "    <tr>\n",
       "      <th>3</th>\n",
       "      <td>4900.0</td>\n",
       "      <td>sedan</td>\n",
       "      <td>1995</td>\n",
       "      <td>manual</td>\n",
       "      <td>102.000000</td>\n",
       "      <td>3er</td>\n",
       "      <td>150000</td>\n",
       "      <td>10</td>\n",
       "      <td>petrol</td>\n",
       "      <td>bmw</td>\n",
       "      <td>yes</td>\n",
       "    </tr>\n",
       "    <tr>\n",
       "      <th>4</th>\n",
       "      <td>2200.0</td>\n",
       "      <td>convertible</td>\n",
       "      <td>2004</td>\n",
       "      <td>manual</td>\n",
       "      <td>109.000000</td>\n",
       "      <td>2_reihe</td>\n",
       "      <td>150000</td>\n",
       "      <td>8</td>\n",
       "      <td>petrol</td>\n",
       "      <td>peugeot</td>\n",
       "      <td>no</td>\n",
       "    </tr>\n",
       "    <tr>\n",
       "      <th>...</th>\n",
       "      <td>...</td>\n",
       "      <td>...</td>\n",
       "      <td>...</td>\n",
       "      <td>...</td>\n",
       "      <td>...</td>\n",
       "      <td>...</td>\n",
       "      <td>...</td>\n",
       "      <td>...</td>\n",
       "      <td>...</td>\n",
       "      <td>...</td>\n",
       "      <td>...</td>\n",
       "    </tr>\n",
       "    <tr>\n",
       "      <th>251128</th>\n",
       "      <td>3200.0</td>\n",
       "      <td>sedan</td>\n",
       "      <td>2004</td>\n",
       "      <td>manual</td>\n",
       "      <td>225.000000</td>\n",
       "      <td>leon</td>\n",
       "      <td>150000</td>\n",
       "      <td>5</td>\n",
       "      <td>petrol</td>\n",
       "      <td>seat</td>\n",
       "      <td>yes</td>\n",
       "    </tr>\n",
       "    <tr>\n",
       "      <th>251129</th>\n",
       "      <td>14990.0</td>\n",
       "      <td>bus</td>\n",
       "      <td>2000</td>\n",
       "      <td>manual</td>\n",
       "      <td>8000.000000</td>\n",
       "      <td>zafira</td>\n",
       "      <td>150000</td>\n",
       "      <td>3</td>\n",
       "      <td>petrol</td>\n",
       "      <td>opel</td>\n",
       "      <td>no</td>\n",
       "    </tr>\n",
       "    <tr>\n",
       "      <th>251130</th>\n",
       "      <td>12950.0</td>\n",
       "      <td>convertible</td>\n",
       "      <td>2000</td>\n",
       "      <td>auto</td>\n",
       "      <td>101.000000</td>\n",
       "      <td>fortwo</td>\n",
       "      <td>125000</td>\n",
       "      <td>3</td>\n",
       "      <td>petrol</td>\n",
       "      <td>smart</td>\n",
       "      <td>no</td>\n",
       "    </tr>\n",
       "    <tr>\n",
       "      <th>251131</th>\n",
       "      <td>9200.0</td>\n",
       "      <td>bus</td>\n",
       "      <td>1996</td>\n",
       "      <td>manual</td>\n",
       "      <td>102.000000</td>\n",
       "      <td>transporter</td>\n",
       "      <td>150000</td>\n",
       "      <td>3</td>\n",
       "      <td>gasoline</td>\n",
       "      <td>volkswagen</td>\n",
       "      <td>no</td>\n",
       "    </tr>\n",
       "    <tr>\n",
       "      <th>251132</th>\n",
       "      <td>3400.0</td>\n",
       "      <td>wagon</td>\n",
       "      <td>2002</td>\n",
       "      <td>manual</td>\n",
       "      <td>100.000000</td>\n",
       "      <td>golf</td>\n",
       "      <td>150000</td>\n",
       "      <td>6</td>\n",
       "      <td>gasoline</td>\n",
       "      <td>volkswagen</td>\n",
       "      <td>unknownrepaired</td>\n",
       "    </tr>\n",
       "  </tbody>\n",
       "</table>\n",
       "<p>251133 rows × 11 columns</p>\n",
       "</div>"
      ],
      "text/plain": [
       "          price  vehicletype  registrationyear gearbox        power  \\\n",
       "0        9800.0          suv              2004    auto   163.000000   \n",
       "1        1500.0        small              2001  manual    75.000000   \n",
       "2        3600.0        small              2008  manual  2566.333333   \n",
       "3        4900.0        sedan              1995  manual   102.000000   \n",
       "4        2200.0  convertible              2004  manual   109.000000   \n",
       "...         ...          ...               ...     ...          ...   \n",
       "251128   3200.0        sedan              2004  manual   225.000000   \n",
       "251129  14990.0          bus              2000  manual  8000.000000   \n",
       "251130  12950.0  convertible              2000    auto   101.000000   \n",
       "251131   9200.0          bus              1996  manual   102.000000   \n",
       "251132   3400.0        wagon              2002  manual   100.000000   \n",
       "\n",
       "              model  mileage  registrationmonth  fueltype       brand  \\\n",
       "0             grand   125000                  8  gasoline        jeep   \n",
       "1              golf   150000                  6    petrol  volkswagen   \n",
       "2             fabia    90000                  7  gasoline       skoda   \n",
       "3               3er   150000                 10    petrol         bmw   \n",
       "4           2_reihe   150000                  8    petrol     peugeot   \n",
       "...             ...      ...                ...       ...         ...   \n",
       "251128         leon   150000                  5    petrol        seat   \n",
       "251129       zafira   150000                  3    petrol        opel   \n",
       "251130       fortwo   125000                  3    petrol       smart   \n",
       "251131  transporter   150000                  3  gasoline  volkswagen   \n",
       "251132         golf   150000                  6  gasoline  volkswagen   \n",
       "\n",
       "            notrepaired  \n",
       "0       unknownrepaired  \n",
       "1                    no  \n",
       "2                    no  \n",
       "3                   yes  \n",
       "4                    no  \n",
       "...                 ...  \n",
       "251128              yes  \n",
       "251129               no  \n",
       "251130               no  \n",
       "251131               no  \n",
       "251132  unknownrepaired  \n",
       "\n",
       "[251133 rows x 11 columns]"
      ]
     },
     "execution_count": 53,
     "metadata": {},
     "output_type": "execute_result"
    }
   ],
   "source": [
    "df_final"
   ]
  },
  {
   "cell_type": "markdown",
   "metadata": {},
   "source": [
    "## Treinamento do modelo"
   ]
  },
  {
   "cell_type": "code",
   "execution_count": 54,
   "metadata": {},
   "outputs": [],
   "source": [
    "from sklearn.model_selection import train_test_split\n",
    "from sklearn.ensemble import RandomForestClassifier\n",
    "from sklearn.metrics import accuracy_score\n",
    "from sklearn.preprocessing import OrdinalEncoder"
   ]
  },
  {
   "cell_type": "code",
   "execution_count": 55,
   "metadata": {},
   "outputs": [],
   "source": [
    "#Codificação de valores categóricos\n",
    "object_columns = df_final.select_dtypes(include='object')\n",
    "encoder = OrdinalEncoder()\n",
    "codification = pd.DataFrame(encoder.fit_transform(object_columns), columns=object_columns.columns)\n",
    "df_final[object_columns.columns] = codification"
   ]
  },
  {
   "cell_type": "code",
   "execution_count": 56,
   "metadata": {},
   "outputs": [],
   "source": [
    "df_train_valid, df_test = train_test_split(df_final, test_size=0.2)\n",
    "df_train, df_valid = train_test_split(df_train_valid, test_size=0.25)"
   ]
  },
  {
   "cell_type": "code",
   "execution_count": 57,
   "metadata": {},
   "outputs": [],
   "source": [
    "features_train = df_train.drop(['price'], axis=1)\n",
    "target_train = df_train['price']\n",
    "features_valid = df_valid.drop(['price'], axis=1)\n",
    "target_valid = df_valid['price']\n",
    "features_test = df_test.drop(['price'], axis=1)\n",
    "target_test = df_test['price']"
   ]
  },
  {
   "cell_type": "markdown",
   "metadata": {},
   "source": [
    "### LightGBM"
   ]
  },
  {
   "cell_type": "code",
   "execution_count": 91,
   "metadata": {},
   "outputs": [],
   "source": [
    "import timeit\n",
    "from sklearn.model_selection import GridSearchCV\n",
    "import lightgbm as lgb"
   ]
  },
  {
   "cell_type": "code",
   "execution_count": 92,
   "metadata": {},
   "outputs": [],
   "source": [
    "params = {\n",
    "    'task': 'train', \n",
    "    'boosting': 'gbdt',\n",
    "    'objective': 'regression',\n",
    "    'metric': 'root_mean_squared_error',\n",
    "    'num_leaves': 10,\n",
    "    'learning_rate':0.05,\n",
    "    'feature_fraction':0.5,\n",
    "    'random_state': 12345,\n",
    "    'verbose':-1\n",
    "}"
   ]
  },
  {
   "cell_type": "code",
   "execution_count": 93,
   "metadata": {},
   "outputs": [],
   "source": [
    "lgb_train = lgb.Dataset(features_train, target_train)\n",
    "lgb_eval = lgb.Dataset(features_valid, target_valid, reference=lgb_train)"
   ]
  },
  {
   "cell_type": "code",
   "execution_count": 94,
   "metadata": {
    "scrolled": true
   },
   "outputs": [
    {
     "name": "stdout",
     "output_type": "stream",
     "text": [
      "[1]\tvalid_0's rmse: 3625.23\n",
      "Training until validation scores don't improve for 30 rounds\n",
      "[2]\tvalid_0's rmse: 3610.49\n",
      "[3]\tvalid_0's rmse: 3596.97\n",
      "[4]\tvalid_0's rmse: 3560.11\n",
      "[5]\tvalid_0's rmse: 3535.26\n",
      "[6]\tvalid_0's rmse: 3511.14\n",
      "[7]\tvalid_0's rmse: 3505.36\n",
      "[8]\tvalid_0's rmse: 3471.25\n",
      "[9]\tvalid_0's rmse: 3456.24\n",
      "[10]\tvalid_0's rmse: 3419.38\n",
      "[11]\tvalid_0's rmse: 3388.56\n",
      "[12]\tvalid_0's rmse: 3384.49\n",
      "[13]\tvalid_0's rmse: 3353.44\n",
      "[14]\tvalid_0's rmse: 3345.99\n",
      "[15]\tvalid_0's rmse: 3321.44\n",
      "[16]\tvalid_0's rmse: 3312.56\n",
      "[17]\tvalid_0's rmse: 3289.66\n",
      "[18]\tvalid_0's rmse: 3264.84\n",
      "[19]\tvalid_0's rmse: 3258.51\n",
      "[20]\tvalid_0's rmse: 3235\n",
      "[21]\tvalid_0's rmse: 3231.78\n",
      "[22]\tvalid_0's rmse: 3218.4\n",
      "[23]\tvalid_0's rmse: 3201.98\n",
      "[24]\tvalid_0's rmse: 3195.72\n",
      "[25]\tvalid_0's rmse: 3192.99\n",
      "[26]\tvalid_0's rmse: 3176.58\n",
      "[27]\tvalid_0's rmse: 3157.8\n",
      "[28]\tvalid_0's rmse: 3148.58\n",
      "[29]\tvalid_0's rmse: 3133.5\n",
      "[30]\tvalid_0's rmse: 3128.92\n",
      "[31]\tvalid_0's rmse: 3114.66\n",
      "[32]\tvalid_0's rmse: 3107.36\n",
      "[33]\tvalid_0's rmse: 3095.07\n",
      "[34]\tvalid_0's rmse: 3091.45\n",
      "[35]\tvalid_0's rmse: 3089.55\n",
      "[36]\tvalid_0's rmse: 3086.59\n",
      "[37]\tvalid_0's rmse: 3077.81\n",
      "[38]\tvalid_0's rmse: 3071.73\n",
      "[39]\tvalid_0's rmse: 3070.3\n",
      "[40]\tvalid_0's rmse: 3060.7\n",
      "[41]\tvalid_0's rmse: 3058.93\n",
      "[42]\tvalid_0's rmse: 3056.71\n",
      "[43]\tvalid_0's rmse: 3046.39\n",
      "[44]\tvalid_0's rmse: 3043.6\n",
      "[45]\tvalid_0's rmse: 3035.55\n",
      "[46]\tvalid_0's rmse: 3027.87\n",
      "[47]\tvalid_0's rmse: 3019.73\n",
      "[48]\tvalid_0's rmse: 3012.66\n",
      "[49]\tvalid_0's rmse: 3006.65\n",
      "[50]\tvalid_0's rmse: 3004.74\n",
      "[51]\tvalid_0's rmse: 2998.74\n",
      "[52]\tvalid_0's rmse: 2996.67\n",
      "[53]\tvalid_0's rmse: 2991.19\n",
      "[54]\tvalid_0's rmse: 2988.15\n",
      "[55]\tvalid_0's rmse: 2985.23\n",
      "[56]\tvalid_0's rmse: 2980.56\n",
      "[57]\tvalid_0's rmse: 2978.93\n",
      "[58]\tvalid_0's rmse: 2977.33\n",
      "[59]\tvalid_0's rmse: 2972.33\n",
      "[60]\tvalid_0's rmse: 2968.87\n",
      "[61]\tvalid_0's rmse: 2964.29\n",
      "[62]\tvalid_0's rmse: 2959.63\n",
      "[63]\tvalid_0's rmse: 2958.24\n",
      "[64]\tvalid_0's rmse: 2955.2\n",
      "[65]\tvalid_0's rmse: 2950.46\n",
      "[66]\tvalid_0's rmse: 2947.37\n",
      "[67]\tvalid_0's rmse: 2946.06\n",
      "[68]\tvalid_0's rmse: 2944.93\n",
      "[69]\tvalid_0's rmse: 2941.04\n",
      "[70]\tvalid_0's rmse: 2939.9\n",
      "[71]\tvalid_0's rmse: 2939\n",
      "[72]\tvalid_0's rmse: 2937.65\n",
      "[73]\tvalid_0's rmse: 2935.93\n",
      "[74]\tvalid_0's rmse: 2933.09\n",
      "[75]\tvalid_0's rmse: 2931.94\n",
      "[76]\tvalid_0's rmse: 2931.38\n",
      "[77]\tvalid_0's rmse: 2927.81\n",
      "[78]\tvalid_0's rmse: 2925.61\n",
      "[79]\tvalid_0's rmse: 2924.97\n",
      "[80]\tvalid_0's rmse: 2923.99\n",
      "[81]\tvalid_0's rmse: 2921.7\n",
      "[82]\tvalid_0's rmse: 2921\n",
      "[83]\tvalid_0's rmse: 2916.84\n",
      "[84]\tvalid_0's rmse: 2915.85\n",
      "[85]\tvalid_0's rmse: 2914.92\n",
      "[86]\tvalid_0's rmse: 2912.89\n",
      "[87]\tvalid_0's rmse: 2910.98\n",
      "[88]\tvalid_0's rmse: 2909.11\n",
      "[89]\tvalid_0's rmse: 2908.46\n",
      "[90]\tvalid_0's rmse: 2904.76\n",
      "[91]\tvalid_0's rmse: 2901.87\n",
      "[92]\tvalid_0's rmse: 2900.19\n",
      "[93]\tvalid_0's rmse: 2898.67\n",
      "[94]\tvalid_0's rmse: 2895.49\n",
      "[95]\tvalid_0's rmse: 2894.7\n",
      "[96]\tvalid_0's rmse: 2893.67\n",
      "[97]\tvalid_0's rmse: 2892.98\n",
      "[98]\tvalid_0's rmse: 2892.56\n",
      "[99]\tvalid_0's rmse: 2892.17\n",
      "[100]\tvalid_0's rmse: 2891.34\n",
      "Did not meet early stopping. Best iteration is:\n",
      "[100]\tvalid_0's rmse: 2891.34\n"
     ]
    }
   ],
   "source": [
    "modellightgbm = lgb.train(params,\n",
    "                 train_set=lgb_train,\n",
    "                 valid_sets=lgb_eval,\n",
    "                 early_stopping_rounds=30)"
   ]
  },
  {
   "cell_type": "code",
   "execution_count": 95,
   "metadata": {},
   "outputs": [],
   "source": [
    "predictions_valid_lgbm = modellightgbm.predict(features_valid)"
   ]
  },
  {
   "cell_type": "code",
   "execution_count": 61,
   "metadata": {},
   "outputs": [],
   "source": [
    "import math\n",
    "from sklearn.metrics import mean_squared_error as mse"
   ]
  },
  {
   "cell_type": "code",
   "execution_count": 96,
   "metadata": {},
   "outputs": [
    {
     "data": {
      "text/plain": [
       "2891.3403073908544"
      ]
     },
     "execution_count": 96,
     "metadata": {},
     "output_type": "execute_result"
    }
   ],
   "source": [
    "math.sqrt(mse(target_valid, predictions_valid_lgbm))"
   ]
  },
  {
   "cell_type": "code",
   "execution_count": 63,
   "metadata": {},
   "outputs": [
    {
     "name": "stdout",
     "output_type": "stream",
     "text": [
      "1.16 s ± 40 ms per loop (mean ± std. dev. of 7 runs, 1 loop each)\n"
     ]
    }
   ],
   "source": [
    "%%timeit\n",
    "# Tempo de predição do modelo Árvore de Decisão\n",
    "modellightgbm.predict(features_train)"
   ]
  },
  {
   "cell_type": "markdown",
   "metadata": {},
   "source": [
    "###  Árvore de Decisão\n"
   ]
  },
  {
   "cell_type": "code",
   "execution_count": 64,
   "metadata": {},
   "outputs": [],
   "source": [
    "from sklearn.tree import DecisionTreeRegressor\n",
    "from sklearn.metrics import mean_squared_error as mse"
   ]
  },
  {
   "cell_type": "code",
   "execution_count": 65,
   "metadata": {},
   "outputs": [
    {
     "name": "stdout",
     "output_type": "stream",
     "text": [
      "O melhor resultado REQM da Árvore de Decisão é com o hiperparâmetro max_depth de 11: 2813.075956370124\n"
     ]
    }
   ],
   "source": [
    "# Modelagem da Árvore de Decisão buscando o melhor hiperparâmetro.\n",
    "best_model_ad = None\n",
    "best_result = 10000\n",
    "best_depth = 0\n",
    "best_time = 0\n",
    "for depth in range(1, 50):\n",
    "    model_dcre = DecisionTreeRegressor(random_state=12345, max_depth=depth)\n",
    "    model_dcre.fit(features_train, target_train) \n",
    "    predictions_valid_dcre = model_dcre.predict(features_valid)\n",
    "    result = math.sqrt(mse(target_valid, predictions_valid_dcre))\n",
    "    if result < best_result:\n",
    "        best_model_dcre = model_dcre\n",
    "        best_result = result\n",
    "        best_depth = depth\n",
    "        \n",
    "\n",
    "print(f\"O melhor resultado REQM da Árvore de Decisão é com o hiperparâmetro max_depth de {best_depth}: {best_result}\")"
   ]
  },
  {
   "cell_type": "code",
   "execution_count": 66,
   "metadata": {},
   "outputs": [
    {
     "name": "stdout",
     "output_type": "stream",
     "text": [
      "25.8 ms ± 964 µs per loop (mean ± std. dev. of 7 runs, 10 loops each)\n"
     ]
    }
   ],
   "source": [
    "%%timeit\n",
    "# Tempo de predição do modelo Árvore de Decisão\n",
    "best_model_dcre.predict(features_train)"
   ]
  },
  {
   "cell_type": "markdown",
   "metadata": {},
   "source": [
    "### Floresta Aleatória"
   ]
  },
  {
   "cell_type": "code",
   "execution_count": 67,
   "metadata": {},
   "outputs": [],
   "source": [
    "from sklearn.ensemble import RandomForestRegressor"
   ]
  },
  {
   "cell_type": "code",
   "execution_count": 68,
   "metadata": {},
   "outputs": [
    {
     "name": "stdout",
     "output_type": "stream",
     "text": [
      "O melhor resultado de REQM da Floresta Aleatória é de: 2757.7108835398553 , com o hiperparâmetro n_estimators de: 40 e melhor depth de: 10\n"
     ]
    }
   ],
   "source": [
    "# Modelagem da Floresta Aleatória buscando o melhor hiperparâmetro.\n",
    "best_model = None\n",
    "best_result = 10000\n",
    "best_est = 0\n",
    "best_depth = 0\n",
    "for est in range(40, 51, 5):\n",
    "    for depth in range (10, 15, 5):\n",
    "        model_fare = RandomForestRegressor(random_state=12345, n_estimators=est, max_depth=depth)\n",
    "        model_fare.fit(features_train, target_train)\n",
    "        predictions_valid_fare = model_fare.predict(features_valid)\n",
    "        result = math.sqrt(mse(target_valid, predictions_valid_fare))\n",
    "        if result < best_result:\n",
    "            best_model_fare = model_fare\n",
    "            best_result = result\n",
    "            best_est = est\n",
    "            best_depth = depth\n",
    "\n",
    "print(\"O melhor resultado de REQM da Floresta Aleatória é de:\", best_result, \", com o hiperparâmetro n_estimators de:\", best_est, \"e melhor depth de:\", depth)"
   ]
  },
  {
   "cell_type": "markdown",
   "metadata": {},
   "source": [
    "<div class=\"alert alert-block alert-success\">\n",
    "<b> Comentário do revisor: </b> <a class=\"tocSkip\"></a>\n",
    "\n",
    "Correto. Em geral, utilizamos numero maior de estimadores. Profundidade de 15 é geralmente elevada. Pense que em cada nível h há 2^h nós se a árvore for binária e completa. Isso pode resultar em overfitting.\n",
    "</div>"
   ]
  },
  {
   "cell_type": "code",
   "execution_count": 69,
   "metadata": {},
   "outputs": [
    {
     "name": "stdout",
     "output_type": "stream",
     "text": [
      "692 ms ± 14.3 ms per loop (mean ± std. dev. of 7 runs, 1 loop each)\n"
     ]
    }
   ],
   "source": [
    "%%timeit\n",
    "# Tempo de execução do modelo Floresta Aleatória\n",
    "best_model_fare.predict(features_train)"
   ]
  },
  {
   "cell_type": "markdown",
   "metadata": {},
   "source": [
    "### Regressão Linear"
   ]
  },
  {
   "cell_type": "code",
   "execution_count": 70,
   "metadata": {},
   "outputs": [],
   "source": [
    "from sklearn.linear_model import LinearRegression"
   ]
  },
  {
   "cell_type": "code",
   "execution_count": 71,
   "metadata": {},
   "outputs": [],
   "source": [
    "model_lr = LinearRegression()\n",
    "model_lr.fit(features_train, target_train)\n",
    "predictions_valid_lr = model_lr.predict(features_valid)"
   ]
  },
  {
   "cell_type": "code",
   "execution_count": 72,
   "metadata": {},
   "outputs": [
    {
     "data": {
      "text/plain": [
       "3432.636784367167"
      ]
     },
     "execution_count": 72,
     "metadata": {},
     "output_type": "execute_result"
    }
   ],
   "source": [
    "math.sqrt(mse(target_valid, predictions_valid_lr))"
   ]
  },
  {
   "cell_type": "code",
   "execution_count": 73,
   "metadata": {},
   "outputs": [
    {
     "name": "stdout",
     "output_type": "stream",
     "text": [
      "21.7 ms ± 2.66 ms per loop (mean ± std. dev. of 7 runs, 10 loops each)\n"
     ]
    }
   ],
   "source": [
    "%%timeit\n",
    "# Tempo de execução do modelo Floresta Aleatória\n",
    "model_lr.predict(features_train)\n"
   ]
  },
  {
   "cell_type": "code",
   "execution_count": 76,
   "metadata": {},
   "outputs": [],
   "source": [
    "from xgboost import XGBRegressor \n",
    "from sklearn.pipeline import Pipeline"
   ]
  },
  {
   "cell_type": "code",
   "execution_count": 77,
   "metadata": {},
   "outputs": [
    {
     "name": "stdout",
     "output_type": "stream",
     "text": [
      "Fitting 10 folds for each of 27 candidates, totalling 270 fits\n",
      "[CV 1/10; 1/27] START xgb__learning_rate=0.2, xgb__max_depth=1, xgb__n_estimators=10\n",
      "[CV 1/10; 1/27] END xgb__learning_rate=0.2, xgb__max_depth=1, xgb__n_estimators=10; total time=   0.5s\n",
      "[CV 2/10; 1/27] START xgb__learning_rate=0.2, xgb__max_depth=1, xgb__n_estimators=10\n",
      "[CV 2/10; 1/27] END xgb__learning_rate=0.2, xgb__max_depth=1, xgb__n_estimators=10; total time=   0.5s\n",
      "[CV 3/10; 1/27] START xgb__learning_rate=0.2, xgb__max_depth=1, xgb__n_estimators=10\n",
      "[CV 3/10; 1/27] END xgb__learning_rate=0.2, xgb__max_depth=1, xgb__n_estimators=10; total time=   0.4s\n",
      "[CV 4/10; 1/27] START xgb__learning_rate=0.2, xgb__max_depth=1, xgb__n_estimators=10\n",
      "[CV 4/10; 1/27] END xgb__learning_rate=0.2, xgb__max_depth=1, xgb__n_estimators=10; total time=   0.5s\n",
      "[CV 5/10; 1/27] START xgb__learning_rate=0.2, xgb__max_depth=1, xgb__n_estimators=10\n",
      "[CV 5/10; 1/27] END xgb__learning_rate=0.2, xgb__max_depth=1, xgb__n_estimators=10; total time=   0.5s\n",
      "[CV 6/10; 1/27] START xgb__learning_rate=0.2, xgb__max_depth=1, xgb__n_estimators=10\n",
      "[CV 6/10; 1/27] END xgb__learning_rate=0.2, xgb__max_depth=1, xgb__n_estimators=10; total time=   0.5s\n",
      "[CV 7/10; 1/27] START xgb__learning_rate=0.2, xgb__max_depth=1, xgb__n_estimators=10\n",
      "[CV 7/10; 1/27] END xgb__learning_rate=0.2, xgb__max_depth=1, xgb__n_estimators=10; total time=   0.5s\n",
      "[CV 8/10; 1/27] START xgb__learning_rate=0.2, xgb__max_depth=1, xgb__n_estimators=10\n",
      "[CV 8/10; 1/27] END xgb__learning_rate=0.2, xgb__max_depth=1, xgb__n_estimators=10; total time=   0.5s\n",
      "[CV 9/10; 1/27] START xgb__learning_rate=0.2, xgb__max_depth=1, xgb__n_estimators=10\n",
      "[CV 9/10; 1/27] END xgb__learning_rate=0.2, xgb__max_depth=1, xgb__n_estimators=10; total time=   0.4s\n",
      "[CV 10/10; 1/27] START xgb__learning_rate=0.2, xgb__max_depth=1, xgb__n_estimators=10\n",
      "[CV 10/10; 1/27] END xgb__learning_rate=0.2, xgb__max_depth=1, xgb__n_estimators=10; total time=   0.5s\n",
      "[CV 1/10; 2/27] START xgb__learning_rate=0.2, xgb__max_depth=1, xgb__n_estimators=15\n",
      "[CV 1/10; 2/27] END xgb__learning_rate=0.2, xgb__max_depth=1, xgb__n_estimators=15; total time=   0.7s\n",
      "[CV 2/10; 2/27] START xgb__learning_rate=0.2, xgb__max_depth=1, xgb__n_estimators=15\n",
      "[CV 2/10; 2/27] END xgb__learning_rate=0.2, xgb__max_depth=1, xgb__n_estimators=15; total time=   0.6s\n",
      "[CV 3/10; 2/27] START xgb__learning_rate=0.2, xgb__max_depth=1, xgb__n_estimators=15\n",
      "[CV 3/10; 2/27] END xgb__learning_rate=0.2, xgb__max_depth=1, xgb__n_estimators=15; total time=   0.6s\n",
      "[CV 4/10; 2/27] START xgb__learning_rate=0.2, xgb__max_depth=1, xgb__n_estimators=15\n",
      "[CV 4/10; 2/27] END xgb__learning_rate=0.2, xgb__max_depth=1, xgb__n_estimators=15; total time=   0.7s\n",
      "[CV 5/10; 2/27] START xgb__learning_rate=0.2, xgb__max_depth=1, xgb__n_estimators=15\n",
      "[CV 5/10; 2/27] END xgb__learning_rate=0.2, xgb__max_depth=1, xgb__n_estimators=15; total time=   0.6s\n",
      "[CV 6/10; 2/27] START xgb__learning_rate=0.2, xgb__max_depth=1, xgb__n_estimators=15\n",
      "[CV 6/10; 2/27] END xgb__learning_rate=0.2, xgb__max_depth=1, xgb__n_estimators=15; total time=   0.6s\n",
      "[CV 7/10; 2/27] START xgb__learning_rate=0.2, xgb__max_depth=1, xgb__n_estimators=15\n",
      "[CV 7/10; 2/27] END xgb__learning_rate=0.2, xgb__max_depth=1, xgb__n_estimators=15; total time=   0.7s\n",
      "[CV 8/10; 2/27] START xgb__learning_rate=0.2, xgb__max_depth=1, xgb__n_estimators=15\n",
      "[CV 8/10; 2/27] END xgb__learning_rate=0.2, xgb__max_depth=1, xgb__n_estimators=15; total time=   0.6s\n",
      "[CV 9/10; 2/27] START xgb__learning_rate=0.2, xgb__max_depth=1, xgb__n_estimators=15\n",
      "[CV 9/10; 2/27] END xgb__learning_rate=0.2, xgb__max_depth=1, xgb__n_estimators=15; total time=   0.6s\n",
      "[CV 10/10; 2/27] START xgb__learning_rate=0.2, xgb__max_depth=1, xgb__n_estimators=15\n",
      "[CV 10/10; 2/27] END xgb__learning_rate=0.2, xgb__max_depth=1, xgb__n_estimators=15; total time=   0.7s\n",
      "[CV 1/10; 3/27] START xgb__learning_rate=0.2, xgb__max_depth=1, xgb__n_estimators=5\n",
      "[CV 1/10; 3/27] END xgb__learning_rate=0.2, xgb__max_depth=1, xgb__n_estimators=5; total time=   0.3s\n",
      "[CV 2/10; 3/27] START xgb__learning_rate=0.2, xgb__max_depth=1, xgb__n_estimators=5\n",
      "[CV 2/10; 3/27] END xgb__learning_rate=0.2, xgb__max_depth=1, xgb__n_estimators=5; total time=   0.3s\n",
      "[CV 3/10; 3/27] START xgb__learning_rate=0.2, xgb__max_depth=1, xgb__n_estimators=5\n",
      "[CV 3/10; 3/27] END xgb__learning_rate=0.2, xgb__max_depth=1, xgb__n_estimators=5; total time=   0.4s\n",
      "[CV 4/10; 3/27] START xgb__learning_rate=0.2, xgb__max_depth=1, xgb__n_estimators=5\n",
      "[CV 4/10; 3/27] END xgb__learning_rate=0.2, xgb__max_depth=1, xgb__n_estimators=5; total time=   0.3s\n",
      "[CV 5/10; 3/27] START xgb__learning_rate=0.2, xgb__max_depth=1, xgb__n_estimators=5\n",
      "[CV 5/10; 3/27] END xgb__learning_rate=0.2, xgb__max_depth=1, xgb__n_estimators=5; total time=   0.4s\n",
      "[CV 6/10; 3/27] START xgb__learning_rate=0.2, xgb__max_depth=1, xgb__n_estimators=5\n",
      "[CV 6/10; 3/27] END xgb__learning_rate=0.2, xgb__max_depth=1, xgb__n_estimators=5; total time=   0.3s\n",
      "[CV 7/10; 3/27] START xgb__learning_rate=0.2, xgb__max_depth=1, xgb__n_estimators=5\n",
      "[CV 7/10; 3/27] END xgb__learning_rate=0.2, xgb__max_depth=1, xgb__n_estimators=5; total time=   0.3s\n",
      "[CV 8/10; 3/27] START xgb__learning_rate=0.2, xgb__max_depth=1, xgb__n_estimators=5\n",
      "[CV 8/10; 3/27] END xgb__learning_rate=0.2, xgb__max_depth=1, xgb__n_estimators=5; total time=   0.4s\n",
      "[CV 9/10; 3/27] START xgb__learning_rate=0.2, xgb__max_depth=1, xgb__n_estimators=5\n",
      "[CV 9/10; 3/27] END xgb__learning_rate=0.2, xgb__max_depth=1, xgb__n_estimators=5; total time=   0.3s\n",
      "[CV 10/10; 3/27] START xgb__learning_rate=0.2, xgb__max_depth=1, xgb__n_estimators=5\n",
      "[CV 10/10; 3/27] END xgb__learning_rate=0.2, xgb__max_depth=1, xgb__n_estimators=5; total time=   0.3s\n",
      "[CV 1/10; 4/27] START xgb__learning_rate=0.2, xgb__max_depth=2, xgb__n_estimators=10\n",
      "[CV 1/10; 4/27] END xgb__learning_rate=0.2, xgb__max_depth=2, xgb__n_estimators=10; total time=   0.7s\n",
      "[CV 2/10; 4/27] START xgb__learning_rate=0.2, xgb__max_depth=2, xgb__n_estimators=10\n",
      "[CV 2/10; 4/27] END xgb__learning_rate=0.2, xgb__max_depth=2, xgb__n_estimators=10; total time=   0.7s\n",
      "[CV 3/10; 4/27] START xgb__learning_rate=0.2, xgb__max_depth=2, xgb__n_estimators=10\n",
      "[CV 3/10; 4/27] END xgb__learning_rate=0.2, xgb__max_depth=2, xgb__n_estimators=10; total time=   0.7s\n",
      "[CV 4/10; 4/27] START xgb__learning_rate=0.2, xgb__max_depth=2, xgb__n_estimators=10\n",
      "[CV 4/10; 4/27] END xgb__learning_rate=0.2, xgb__max_depth=2, xgb__n_estimators=10; total time=   0.7s\n",
      "[CV 5/10; 4/27] START xgb__learning_rate=0.2, xgb__max_depth=2, xgb__n_estimators=10\n",
      "[CV 5/10; 4/27] END xgb__learning_rate=0.2, xgb__max_depth=2, xgb__n_estimators=10; total time=   0.7s\n",
      "[CV 6/10; 4/27] START xgb__learning_rate=0.2, xgb__max_depth=2, xgb__n_estimators=10\n",
      "[CV 6/10; 4/27] END xgb__learning_rate=0.2, xgb__max_depth=2, xgb__n_estimators=10; total time=   0.7s\n",
      "[CV 7/10; 4/27] START xgb__learning_rate=0.2, xgb__max_depth=2, xgb__n_estimators=10\n",
      "[CV 7/10; 4/27] END xgb__learning_rate=0.2, xgb__max_depth=2, xgb__n_estimators=10; total time=   0.7s\n",
      "[CV 8/10; 4/27] START xgb__learning_rate=0.2, xgb__max_depth=2, xgb__n_estimators=10\n",
      "[CV 8/10; 4/27] END xgb__learning_rate=0.2, xgb__max_depth=2, xgb__n_estimators=10; total time=   0.7s\n",
      "[CV 9/10; 4/27] START xgb__learning_rate=0.2, xgb__max_depth=2, xgb__n_estimators=10\n",
      "[CV 9/10; 4/27] END xgb__learning_rate=0.2, xgb__max_depth=2, xgb__n_estimators=10; total time=   0.7s\n",
      "[CV 10/10; 4/27] START xgb__learning_rate=0.2, xgb__max_depth=2, xgb__n_estimators=10\n",
      "[CV 10/10; 4/27] END xgb__learning_rate=0.2, xgb__max_depth=2, xgb__n_estimators=10; total time=   0.7s\n",
      "[CV 1/10; 5/27] START xgb__learning_rate=0.2, xgb__max_depth=2, xgb__n_estimators=15\n",
      "[CV 1/10; 5/27] END xgb__learning_rate=0.2, xgb__max_depth=2, xgb__n_estimators=15; total time=   1.0s\n",
      "[CV 2/10; 5/27] START xgb__learning_rate=0.2, xgb__max_depth=2, xgb__n_estimators=15\n",
      "[CV 2/10; 5/27] END xgb__learning_rate=0.2, xgb__max_depth=2, xgb__n_estimators=15; total time=   1.0s\n",
      "[CV 3/10; 5/27] START xgb__learning_rate=0.2, xgb__max_depth=2, xgb__n_estimators=15\n",
      "[CV 3/10; 5/27] END xgb__learning_rate=0.2, xgb__max_depth=2, xgb__n_estimators=15; total time=   0.9s\n",
      "[CV 4/10; 5/27] START xgb__learning_rate=0.2, xgb__max_depth=2, xgb__n_estimators=15\n",
      "[CV 4/10; 5/27] END xgb__learning_rate=0.2, xgb__max_depth=2, xgb__n_estimators=15; total time=   1.0s\n",
      "[CV 5/10; 5/27] START xgb__learning_rate=0.2, xgb__max_depth=2, xgb__n_estimators=15\n",
      "[CV 5/10; 5/27] END xgb__learning_rate=0.2, xgb__max_depth=2, xgb__n_estimators=15; total time=   1.0s\n",
      "[CV 6/10; 5/27] START xgb__learning_rate=0.2, xgb__max_depth=2, xgb__n_estimators=15\n",
      "[CV 6/10; 5/27] END xgb__learning_rate=0.2, xgb__max_depth=2, xgb__n_estimators=15; total time=   0.9s\n",
      "[CV 7/10; 5/27] START xgb__learning_rate=0.2, xgb__max_depth=2, xgb__n_estimators=15\n",
      "[CV 7/10; 5/27] END xgb__learning_rate=0.2, xgb__max_depth=2, xgb__n_estimators=15; total time=   1.0s\n",
      "[CV 8/10; 5/27] START xgb__learning_rate=0.2, xgb__max_depth=2, xgb__n_estimators=15\n",
      "[CV 8/10; 5/27] END xgb__learning_rate=0.2, xgb__max_depth=2, xgb__n_estimators=15; total time=   1.0s\n",
      "[CV 9/10; 5/27] START xgb__learning_rate=0.2, xgb__max_depth=2, xgb__n_estimators=15\n",
      "[CV 9/10; 5/27] END xgb__learning_rate=0.2, xgb__max_depth=2, xgb__n_estimators=15; total time=   1.0s\n",
      "[CV 10/10; 5/27] START xgb__learning_rate=0.2, xgb__max_depth=2, xgb__n_estimators=15\n",
      "[CV 10/10; 5/27] END xgb__learning_rate=0.2, xgb__max_depth=2, xgb__n_estimators=15; total time=   0.9s\n",
      "[CV 1/10; 6/27] START xgb__learning_rate=0.2, xgb__max_depth=2, xgb__n_estimators=5\n",
      "[CV 1/10; 6/27] END xgb__learning_rate=0.2, xgb__max_depth=2, xgb__n_estimators=5; total time=   0.5s\n",
      "[CV 2/10; 6/27] START xgb__learning_rate=0.2, xgb__max_depth=2, xgb__n_estimators=5\n",
      "[CV 2/10; 6/27] END xgb__learning_rate=0.2, xgb__max_depth=2, xgb__n_estimators=5; total time=   0.4s\n",
      "[CV 3/10; 6/27] START xgb__learning_rate=0.2, xgb__max_depth=2, xgb__n_estimators=5\n",
      "[CV 3/10; 6/27] END xgb__learning_rate=0.2, xgb__max_depth=2, xgb__n_estimators=5; total time=   0.5s\n",
      "[CV 4/10; 6/27] START xgb__learning_rate=0.2, xgb__max_depth=2, xgb__n_estimators=5\n",
      "[CV 4/10; 6/27] END xgb__learning_rate=0.2, xgb__max_depth=2, xgb__n_estimators=5; total time=   0.4s\n",
      "[CV 5/10; 6/27] START xgb__learning_rate=0.2, xgb__max_depth=2, xgb__n_estimators=5\n",
      "[CV 5/10; 6/27] END xgb__learning_rate=0.2, xgb__max_depth=2, xgb__n_estimators=5; total time=   0.4s\n",
      "[CV 6/10; 6/27] START xgb__learning_rate=0.2, xgb__max_depth=2, xgb__n_estimators=5\n",
      "[CV 6/10; 6/27] END xgb__learning_rate=0.2, xgb__max_depth=2, xgb__n_estimators=5; total time=   0.5s\n",
      "[CV 7/10; 6/27] START xgb__learning_rate=0.2, xgb__max_depth=2, xgb__n_estimators=5\n",
      "[CV 7/10; 6/27] END xgb__learning_rate=0.2, xgb__max_depth=2, xgb__n_estimators=5; total time=   0.4s\n",
      "[CV 8/10; 6/27] START xgb__learning_rate=0.2, xgb__max_depth=2, xgb__n_estimators=5\n",
      "[CV 8/10; 6/27] END xgb__learning_rate=0.2, xgb__max_depth=2, xgb__n_estimators=5; total time=   0.4s\n",
      "[CV 9/10; 6/27] START xgb__learning_rate=0.2, xgb__max_depth=2, xgb__n_estimators=5\n",
      "[CV 9/10; 6/27] END xgb__learning_rate=0.2, xgb__max_depth=2, xgb__n_estimators=5; total time=   0.5s\n",
      "[CV 10/10; 6/27] START xgb__learning_rate=0.2, xgb__max_depth=2, xgb__n_estimators=5\n",
      "[CV 10/10; 6/27] END xgb__learning_rate=0.2, xgb__max_depth=2, xgb__n_estimators=5; total time=   0.4s\n",
      "[CV 1/10; 7/27] START xgb__learning_rate=0.2, xgb__max_depth=3, xgb__n_estimators=10\n",
      "[CV 1/10; 7/27] END xgb__learning_rate=0.2, xgb__max_depth=3, xgb__n_estimators=10; total time=   1.0s\n",
      "[CV 2/10; 7/27] START xgb__learning_rate=0.2, xgb__max_depth=3, xgb__n_estimators=10\n",
      "[CV 2/10; 7/27] END xgb__learning_rate=0.2, xgb__max_depth=3, xgb__n_estimators=10; total time=   1.0s\n",
      "[CV 3/10; 7/27] START xgb__learning_rate=0.2, xgb__max_depth=3, xgb__n_estimators=10\n",
      "[CV 3/10; 7/27] END xgb__learning_rate=0.2, xgb__max_depth=3, xgb__n_estimators=10; total time=   0.9s\n",
      "[CV 4/10; 7/27] START xgb__learning_rate=0.2, xgb__max_depth=3, xgb__n_estimators=10\n",
      "[CV 4/10; 7/27] END xgb__learning_rate=0.2, xgb__max_depth=3, xgb__n_estimators=10; total time=   1.0s\n",
      "[CV 5/10; 7/27] START xgb__learning_rate=0.2, xgb__max_depth=3, xgb__n_estimators=10\n",
      "[CV 5/10; 7/27] END xgb__learning_rate=0.2, xgb__max_depth=3, xgb__n_estimators=10; total time=   0.9s\n",
      "[CV 6/10; 7/27] START xgb__learning_rate=0.2, xgb__max_depth=3, xgb__n_estimators=10\n",
      "[CV 6/10; 7/27] END xgb__learning_rate=0.2, xgb__max_depth=3, xgb__n_estimators=10; total time=   1.0s\n",
      "[CV 7/10; 7/27] START xgb__learning_rate=0.2, xgb__max_depth=3, xgb__n_estimators=10\n",
      "[CV 7/10; 7/27] END xgb__learning_rate=0.2, xgb__max_depth=3, xgb__n_estimators=10; total time=   1.0s\n",
      "[CV 8/10; 7/27] START xgb__learning_rate=0.2, xgb__max_depth=3, xgb__n_estimators=10\n",
      "[CV 8/10; 7/27] END xgb__learning_rate=0.2, xgb__max_depth=3, xgb__n_estimators=10; total time=   0.9s\n",
      "[CV 9/10; 7/27] START xgb__learning_rate=0.2, xgb__max_depth=3, xgb__n_estimators=10\n",
      "[CV 9/10; 7/27] END xgb__learning_rate=0.2, xgb__max_depth=3, xgb__n_estimators=10; total time=   1.0s\n",
      "[CV 10/10; 7/27] START xgb__learning_rate=0.2, xgb__max_depth=3, xgb__n_estimators=10\n",
      "[CV 10/10; 7/27] END xgb__learning_rate=0.2, xgb__max_depth=3, xgb__n_estimators=10; total time=   0.9s\n",
      "[CV 1/10; 8/27] START xgb__learning_rate=0.2, xgb__max_depth=3, xgb__n_estimators=15\n",
      "[CV 1/10; 8/27] END xgb__learning_rate=0.2, xgb__max_depth=3, xgb__n_estimators=15; total time=   1.4s\n",
      "[CV 2/10; 8/27] START xgb__learning_rate=0.2, xgb__max_depth=3, xgb__n_estimators=15\n",
      "[CV 2/10; 8/27] END xgb__learning_rate=0.2, xgb__max_depth=3, xgb__n_estimators=15; total time=   1.3s\n",
      "[CV 3/10; 8/27] START xgb__learning_rate=0.2, xgb__max_depth=3, xgb__n_estimators=15\n",
      "[CV 3/10; 8/27] END xgb__learning_rate=0.2, xgb__max_depth=3, xgb__n_estimators=15; total time=   1.4s\n",
      "[CV 4/10; 8/27] START xgb__learning_rate=0.2, xgb__max_depth=3, xgb__n_estimators=15\n",
      "[CV 4/10; 8/27] END xgb__learning_rate=0.2, xgb__max_depth=3, xgb__n_estimators=15; total time=   1.4s\n",
      "[CV 5/10; 8/27] START xgb__learning_rate=0.2, xgb__max_depth=3, xgb__n_estimators=15\n",
      "[CV 5/10; 8/27] END xgb__learning_rate=0.2, xgb__max_depth=3, xgb__n_estimators=15; total time=   1.4s\n",
      "[CV 6/10; 8/27] START xgb__learning_rate=0.2, xgb__max_depth=3, xgb__n_estimators=15\n",
      "[CV 6/10; 8/27] END xgb__learning_rate=0.2, xgb__max_depth=3, xgb__n_estimators=15; total time=   1.4s\n",
      "[CV 7/10; 8/27] START xgb__learning_rate=0.2, xgb__max_depth=3, xgb__n_estimators=15\n",
      "[CV 7/10; 8/27] END xgb__learning_rate=0.2, xgb__max_depth=3, xgb__n_estimators=15; total time=   1.3s\n",
      "[CV 8/10; 8/27] START xgb__learning_rate=0.2, xgb__max_depth=3, xgb__n_estimators=15\n",
      "[CV 8/10; 8/27] END xgb__learning_rate=0.2, xgb__max_depth=3, xgb__n_estimators=15; total time=   1.4s\n",
      "[CV 9/10; 8/27] START xgb__learning_rate=0.2, xgb__max_depth=3, xgb__n_estimators=15\n",
      "[CV 9/10; 8/27] END xgb__learning_rate=0.2, xgb__max_depth=3, xgb__n_estimators=15; total time=   1.3s\n",
      "[CV 10/10; 8/27] START xgb__learning_rate=0.2, xgb__max_depth=3, xgb__n_estimators=15\n",
      "[CV 10/10; 8/27] END xgb__learning_rate=0.2, xgb__max_depth=3, xgb__n_estimators=15; total time=   1.4s\n",
      "[CV 1/10; 9/27] START xgb__learning_rate=0.2, xgb__max_depth=3, xgb__n_estimators=5\n",
      "[CV 1/10; 9/27] END xgb__learning_rate=0.2, xgb__max_depth=3, xgb__n_estimators=5; total time=   0.5s\n",
      "[CV 2/10; 9/27] START xgb__learning_rate=0.2, xgb__max_depth=3, xgb__n_estimators=5\n",
      "[CV 2/10; 9/27] END xgb__learning_rate=0.2, xgb__max_depth=3, xgb__n_estimators=5; total time=   0.6s\n",
      "[CV 3/10; 9/27] START xgb__learning_rate=0.2, xgb__max_depth=3, xgb__n_estimators=5\n",
      "[CV 3/10; 9/27] END xgb__learning_rate=0.2, xgb__max_depth=3, xgb__n_estimators=5; total time=   0.6s\n",
      "[CV 4/10; 9/27] START xgb__learning_rate=0.2, xgb__max_depth=3, xgb__n_estimators=5\n",
      "[CV 4/10; 9/27] END xgb__learning_rate=0.2, xgb__max_depth=3, xgb__n_estimators=5; total time=   0.5s\n",
      "[CV 5/10; 9/27] START xgb__learning_rate=0.2, xgb__max_depth=3, xgb__n_estimators=5\n",
      "[CV 5/10; 9/27] END xgb__learning_rate=0.2, xgb__max_depth=3, xgb__n_estimators=5; total time=   0.6s\n",
      "[CV 6/10; 9/27] START xgb__learning_rate=0.2, xgb__max_depth=3, xgb__n_estimators=5\n",
      "[CV 6/10; 9/27] END xgb__learning_rate=0.2, xgb__max_depth=3, xgb__n_estimators=5; total time=   0.6s\n",
      "[CV 7/10; 9/27] START xgb__learning_rate=0.2, xgb__max_depth=3, xgb__n_estimators=5\n",
      "[CV 7/10; 9/27] END xgb__learning_rate=0.2, xgb__max_depth=3, xgb__n_estimators=5; total time=   0.5s\n",
      "[CV 8/10; 9/27] START xgb__learning_rate=0.2, xgb__max_depth=3, xgb__n_estimators=5\n",
      "[CV 8/10; 9/27] END xgb__learning_rate=0.2, xgb__max_depth=3, xgb__n_estimators=5; total time=   0.6s\n",
      "[CV 9/10; 9/27] START xgb__learning_rate=0.2, xgb__max_depth=3, xgb__n_estimators=5\n",
      "[CV 9/10; 9/27] END xgb__learning_rate=0.2, xgb__max_depth=3, xgb__n_estimators=5; total time=   0.6s\n",
      "[CV 10/10; 9/27] START xgb__learning_rate=0.2, xgb__max_depth=3, xgb__n_estimators=5\n",
      "[CV 10/10; 9/27] END xgb__learning_rate=0.2, xgb__max_depth=3, xgb__n_estimators=5; total time=   0.5s\n",
      "[CV 1/10; 10/27] START xgb__learning_rate=0.3, xgb__max_depth=1, xgb__n_estimators=10\n",
      "[CV 1/10; 10/27] END xgb__learning_rate=0.3, xgb__max_depth=1, xgb__n_estimators=10; total time=   0.5s\n",
      "[CV 2/10; 10/27] START xgb__learning_rate=0.3, xgb__max_depth=1, xgb__n_estimators=10\n",
      "[CV 2/10; 10/27] END xgb__learning_rate=0.3, xgb__max_depth=1, xgb__n_estimators=10; total time=   0.5s\n",
      "[CV 3/10; 10/27] START xgb__learning_rate=0.3, xgb__max_depth=1, xgb__n_estimators=10\n",
      "[CV 3/10; 10/27] END xgb__learning_rate=0.3, xgb__max_depth=1, xgb__n_estimators=10; total time=   0.5s\n",
      "[CV 4/10; 10/27] START xgb__learning_rate=0.3, xgb__max_depth=1, xgb__n_estimators=10\n",
      "[CV 4/10; 10/27] END xgb__learning_rate=0.3, xgb__max_depth=1, xgb__n_estimators=10; total time=   0.5s\n",
      "[CV 5/10; 10/27] START xgb__learning_rate=0.3, xgb__max_depth=1, xgb__n_estimators=10\n",
      "[CV 5/10; 10/27] END xgb__learning_rate=0.3, xgb__max_depth=1, xgb__n_estimators=10; total time=   0.5s\n",
      "[CV 6/10; 10/27] START xgb__learning_rate=0.3, xgb__max_depth=1, xgb__n_estimators=10\n",
      "[CV 6/10; 10/27] END xgb__learning_rate=0.3, xgb__max_depth=1, xgb__n_estimators=10; total time=   0.5s\n",
      "[CV 7/10; 10/27] START xgb__learning_rate=0.3, xgb__max_depth=1, xgb__n_estimators=10\n",
      "[CV 7/10; 10/27] END xgb__learning_rate=0.3, xgb__max_depth=1, xgb__n_estimators=10; total time=   0.4s\n",
      "[CV 8/10; 10/27] START xgb__learning_rate=0.3, xgb__max_depth=1, xgb__n_estimators=10\n",
      "[CV 8/10; 10/27] END xgb__learning_rate=0.3, xgb__max_depth=1, xgb__n_estimators=10; total time=   0.5s\n",
      "[CV 9/10; 10/27] START xgb__learning_rate=0.3, xgb__max_depth=1, xgb__n_estimators=10\n",
      "[CV 9/10; 10/27] END xgb__learning_rate=0.3, xgb__max_depth=1, xgb__n_estimators=10; total time=   0.5s\n",
      "[CV 10/10; 10/27] START xgb__learning_rate=0.3, xgb__max_depth=1, xgb__n_estimators=10\n",
      "[CV 10/10; 10/27] END xgb__learning_rate=0.3, xgb__max_depth=1, xgb__n_estimators=10; total time=   0.5s\n",
      "[CV 1/10; 11/27] START xgb__learning_rate=0.3, xgb__max_depth=1, xgb__n_estimators=15\n",
      "[CV 1/10; 11/27] END xgb__learning_rate=0.3, xgb__max_depth=1, xgb__n_estimators=15; total time=   0.6s\n",
      "[CV 2/10; 11/27] START xgb__learning_rate=0.3, xgb__max_depth=1, xgb__n_estimators=15\n",
      "[CV 2/10; 11/27] END xgb__learning_rate=0.3, xgb__max_depth=1, xgb__n_estimators=15; total time=   0.7s\n",
      "[CV 3/10; 11/27] START xgb__learning_rate=0.3, xgb__max_depth=1, xgb__n_estimators=15\n",
      "[CV 3/10; 11/27] END xgb__learning_rate=0.3, xgb__max_depth=1, xgb__n_estimators=15; total time=   0.6s\n",
      "[CV 4/10; 11/27] START xgb__learning_rate=0.3, xgb__max_depth=1, xgb__n_estimators=15\n",
      "[CV 4/10; 11/27] END xgb__learning_rate=0.3, xgb__max_depth=1, xgb__n_estimators=15; total time=   0.6s\n",
      "[CV 5/10; 11/27] START xgb__learning_rate=0.3, xgb__max_depth=1, xgb__n_estimators=15\n",
      "[CV 5/10; 11/27] END xgb__learning_rate=0.3, xgb__max_depth=1, xgb__n_estimators=15; total time=   0.7s\n",
      "[CV 6/10; 11/27] START xgb__learning_rate=0.3, xgb__max_depth=1, xgb__n_estimators=15\n",
      "[CV 6/10; 11/27] END xgb__learning_rate=0.3, xgb__max_depth=1, xgb__n_estimators=15; total time=   0.6s\n",
      "[CV 7/10; 11/27] START xgb__learning_rate=0.3, xgb__max_depth=1, xgb__n_estimators=15\n",
      "[CV 7/10; 11/27] END xgb__learning_rate=0.3, xgb__max_depth=1, xgb__n_estimators=15; total time=   0.6s\n",
      "[CV 8/10; 11/27] START xgb__learning_rate=0.3, xgb__max_depth=1, xgb__n_estimators=15\n",
      "[CV 8/10; 11/27] END xgb__learning_rate=0.3, xgb__max_depth=1, xgb__n_estimators=15; total time=   0.7s\n",
      "[CV 9/10; 11/27] START xgb__learning_rate=0.3, xgb__max_depth=1, xgb__n_estimators=15\n",
      "[CV 9/10; 11/27] END xgb__learning_rate=0.3, xgb__max_depth=1, xgb__n_estimators=15; total time=   0.6s\n",
      "[CV 10/10; 11/27] START xgb__learning_rate=0.3, xgb__max_depth=1, xgb__n_estimators=15\n",
      "[CV 10/10; 11/27] END xgb__learning_rate=0.3, xgb__max_depth=1, xgb__n_estimators=15; total time=   0.6s\n",
      "[CV 1/10; 12/27] START xgb__learning_rate=0.3, xgb__max_depth=1, xgb__n_estimators=5\n",
      "[CV 1/10; 12/27] END xgb__learning_rate=0.3, xgb__max_depth=1, xgb__n_estimators=5; total time=   0.4s\n",
      "[CV 2/10; 12/27] START xgb__learning_rate=0.3, xgb__max_depth=1, xgb__n_estimators=5\n",
      "[CV 2/10; 12/27] END xgb__learning_rate=0.3, xgb__max_depth=1, xgb__n_estimators=5; total time=   0.3s\n",
      "[CV 3/10; 12/27] START xgb__learning_rate=0.3, xgb__max_depth=1, xgb__n_estimators=5\n",
      "[CV 3/10; 12/27] END xgb__learning_rate=0.3, xgb__max_depth=1, xgb__n_estimators=5; total time=   0.3s\n",
      "[CV 4/10; 12/27] START xgb__learning_rate=0.3, xgb__max_depth=1, xgb__n_estimators=5\n",
      "[CV 4/10; 12/27] END xgb__learning_rate=0.3, xgb__max_depth=1, xgb__n_estimators=5; total time=   0.4s\n",
      "[CV 5/10; 12/27] START xgb__learning_rate=0.3, xgb__max_depth=1, xgb__n_estimators=5\n",
      "[CV 5/10; 12/27] END xgb__learning_rate=0.3, xgb__max_depth=1, xgb__n_estimators=5; total time=   0.3s\n",
      "[CV 6/10; 12/27] START xgb__learning_rate=0.3, xgb__max_depth=1, xgb__n_estimators=5\n",
      "[CV 6/10; 12/27] END xgb__learning_rate=0.3, xgb__max_depth=1, xgb__n_estimators=5; total time=   0.4s\n",
      "[CV 7/10; 12/27] START xgb__learning_rate=0.3, xgb__max_depth=1, xgb__n_estimators=5\n",
      "[CV 7/10; 12/27] END xgb__learning_rate=0.3, xgb__max_depth=1, xgb__n_estimators=5; total time=   0.3s\n",
      "[CV 8/10; 12/27] START xgb__learning_rate=0.3, xgb__max_depth=1, xgb__n_estimators=5\n",
      "[CV 8/10; 12/27] END xgb__learning_rate=0.3, xgb__max_depth=1, xgb__n_estimators=5; total time=   0.3s\n",
      "[CV 9/10; 12/27] START xgb__learning_rate=0.3, xgb__max_depth=1, xgb__n_estimators=5\n",
      "[CV 9/10; 12/27] END xgb__learning_rate=0.3, xgb__max_depth=1, xgb__n_estimators=5; total time=   0.4s\n",
      "[CV 10/10; 12/27] START xgb__learning_rate=0.3, xgb__max_depth=1, xgb__n_estimators=5\n",
      "[CV 10/10; 12/27] END xgb__learning_rate=0.3, xgb__max_depth=1, xgb__n_estimators=5; total time=   0.3s\n",
      "[CV 1/10; 13/27] START xgb__learning_rate=0.3, xgb__max_depth=2, xgb__n_estimators=10\n",
      "[CV 1/10; 13/27] END xgb__learning_rate=0.3, xgb__max_depth=2, xgb__n_estimators=10; total time=   0.7s\n",
      "[CV 2/10; 13/27] START xgb__learning_rate=0.3, xgb__max_depth=2, xgb__n_estimators=10\n",
      "[CV 2/10; 13/27] END xgb__learning_rate=0.3, xgb__max_depth=2, xgb__n_estimators=10; total time=   0.7s\n",
      "[CV 3/10; 13/27] START xgb__learning_rate=0.3, xgb__max_depth=2, xgb__n_estimators=10\n",
      "[CV 3/10; 13/27] END xgb__learning_rate=0.3, xgb__max_depth=2, xgb__n_estimators=10; total time=   0.7s\n",
      "[CV 4/10; 13/27] START xgb__learning_rate=0.3, xgb__max_depth=2, xgb__n_estimators=10\n",
      "[CV 4/10; 13/27] END xgb__learning_rate=0.3, xgb__max_depth=2, xgb__n_estimators=10; total time=   0.7s\n",
      "[CV 5/10; 13/27] START xgb__learning_rate=0.3, xgb__max_depth=2, xgb__n_estimators=10\n",
      "[CV 5/10; 13/27] END xgb__learning_rate=0.3, xgb__max_depth=2, xgb__n_estimators=10; total time=   0.8s\n",
      "[CV 6/10; 13/27] START xgb__learning_rate=0.3, xgb__max_depth=2, xgb__n_estimators=10\n",
      "[CV 6/10; 13/27] END xgb__learning_rate=0.3, xgb__max_depth=2, xgb__n_estimators=10; total time=   0.7s\n",
      "[CV 7/10; 13/27] START xgb__learning_rate=0.3, xgb__max_depth=2, xgb__n_estimators=10\n",
      "[CV 7/10; 13/27] END xgb__learning_rate=0.3, xgb__max_depth=2, xgb__n_estimators=10; total time=   0.7s\n",
      "[CV 8/10; 13/27] START xgb__learning_rate=0.3, xgb__max_depth=2, xgb__n_estimators=10\n",
      "[CV 8/10; 13/27] END xgb__learning_rate=0.3, xgb__max_depth=2, xgb__n_estimators=10; total time=   0.7s\n",
      "[CV 9/10; 13/27] START xgb__learning_rate=0.3, xgb__max_depth=2, xgb__n_estimators=10\n",
      "[CV 9/10; 13/27] END xgb__learning_rate=0.3, xgb__max_depth=2, xgb__n_estimators=10; total time=   0.7s\n",
      "[CV 10/10; 13/27] START xgb__learning_rate=0.3, xgb__max_depth=2, xgb__n_estimators=10\n",
      "[CV 10/10; 13/27] END xgb__learning_rate=0.3, xgb__max_depth=2, xgb__n_estimators=10; total time=   0.7s\n",
      "[CV 1/10; 14/27] START xgb__learning_rate=0.3, xgb__max_depth=2, xgb__n_estimators=15\n",
      "[CV 1/10; 14/27] END xgb__learning_rate=0.3, xgb__max_depth=2, xgb__n_estimators=15; total time=   0.9s\n",
      "[CV 2/10; 14/27] START xgb__learning_rate=0.3, xgb__max_depth=2, xgb__n_estimators=15\n",
      "[CV 2/10; 14/27] END xgb__learning_rate=0.3, xgb__max_depth=2, xgb__n_estimators=15; total time=   1.0s\n",
      "[CV 3/10; 14/27] START xgb__learning_rate=0.3, xgb__max_depth=2, xgb__n_estimators=15\n",
      "[CV 3/10; 14/27] END xgb__learning_rate=0.3, xgb__max_depth=2, xgb__n_estimators=15; total time=   1.0s\n",
      "[CV 4/10; 14/27] START xgb__learning_rate=0.3, xgb__max_depth=2, xgb__n_estimators=15\n",
      "[CV 4/10; 14/27] END xgb__learning_rate=0.3, xgb__max_depth=2, xgb__n_estimators=15; total time=   1.0s\n",
      "[CV 5/10; 14/27] START xgb__learning_rate=0.3, xgb__max_depth=2, xgb__n_estimators=15\n",
      "[CV 5/10; 14/27] END xgb__learning_rate=0.3, xgb__max_depth=2, xgb__n_estimators=15; total time=   0.9s\n",
      "[CV 6/10; 14/27] START xgb__learning_rate=0.3, xgb__max_depth=2, xgb__n_estimators=15\n",
      "[CV 6/10; 14/27] END xgb__learning_rate=0.3, xgb__max_depth=2, xgb__n_estimators=15; total time=   1.0s\n",
      "[CV 7/10; 14/27] START xgb__learning_rate=0.3, xgb__max_depth=2, xgb__n_estimators=15\n",
      "[CV 7/10; 14/27] END xgb__learning_rate=0.3, xgb__max_depth=2, xgb__n_estimators=15; total time=   1.0s\n",
      "[CV 8/10; 14/27] START xgb__learning_rate=0.3, xgb__max_depth=2, xgb__n_estimators=15\n",
      "[CV 8/10; 14/27] END xgb__learning_rate=0.3, xgb__max_depth=2, xgb__n_estimators=15; total time=   1.0s\n",
      "[CV 9/10; 14/27] START xgb__learning_rate=0.3, xgb__max_depth=2, xgb__n_estimators=15\n",
      "[CV 9/10; 14/27] END xgb__learning_rate=0.3, xgb__max_depth=2, xgb__n_estimators=15; total time=   1.0s\n",
      "[CV 10/10; 14/27] START xgb__learning_rate=0.3, xgb__max_depth=2, xgb__n_estimators=15\n",
      "[CV 10/10; 14/27] END xgb__learning_rate=0.3, xgb__max_depth=2, xgb__n_estimators=15; total time=   1.0s\n",
      "[CV 1/10; 15/27] START xgb__learning_rate=0.3, xgb__max_depth=2, xgb__n_estimators=5\n",
      "[CV 1/10; 15/27] END xgb__learning_rate=0.3, xgb__max_depth=2, xgb__n_estimators=5; total time=   0.4s\n",
      "[CV 2/10; 15/27] START xgb__learning_rate=0.3, xgb__max_depth=2, xgb__n_estimators=5\n",
      "[CV 2/10; 15/27] END xgb__learning_rate=0.3, xgb__max_depth=2, xgb__n_estimators=5; total time=   0.5s\n",
      "[CV 3/10; 15/27] START xgb__learning_rate=0.3, xgb__max_depth=2, xgb__n_estimators=5\n",
      "[CV 3/10; 15/27] END xgb__learning_rate=0.3, xgb__max_depth=2, xgb__n_estimators=5; total time=   0.4s\n",
      "[CV 4/10; 15/27] START xgb__learning_rate=0.3, xgb__max_depth=2, xgb__n_estimators=5\n",
      "[CV 4/10; 15/27] END xgb__learning_rate=0.3, xgb__max_depth=2, xgb__n_estimators=5; total time=   0.4s\n",
      "[CV 5/10; 15/27] START xgb__learning_rate=0.3, xgb__max_depth=2, xgb__n_estimators=5\n",
      "[CV 5/10; 15/27] END xgb__learning_rate=0.3, xgb__max_depth=2, xgb__n_estimators=5; total time=   0.5s\n",
      "[CV 6/10; 15/27] START xgb__learning_rate=0.3, xgb__max_depth=2, xgb__n_estimators=5\n",
      "[CV 6/10; 15/27] END xgb__learning_rate=0.3, xgb__max_depth=2, xgb__n_estimators=5; total time=   0.4s\n",
      "[CV 7/10; 15/27] START xgb__learning_rate=0.3, xgb__max_depth=2, xgb__n_estimators=5\n",
      "[CV 7/10; 15/27] END xgb__learning_rate=0.3, xgb__max_depth=2, xgb__n_estimators=5; total time=   0.5s\n",
      "[CV 8/10; 15/27] START xgb__learning_rate=0.3, xgb__max_depth=2, xgb__n_estimators=5\n",
      "[CV 8/10; 15/27] END xgb__learning_rate=0.3, xgb__max_depth=2, xgb__n_estimators=5; total time=   0.4s\n",
      "[CV 9/10; 15/27] START xgb__learning_rate=0.3, xgb__max_depth=2, xgb__n_estimators=5\n",
      "[CV 9/10; 15/27] END xgb__learning_rate=0.3, xgb__max_depth=2, xgb__n_estimators=5; total time=   0.5s\n",
      "[CV 10/10; 15/27] START xgb__learning_rate=0.3, xgb__max_depth=2, xgb__n_estimators=5\n",
      "[CV 10/10; 15/27] END xgb__learning_rate=0.3, xgb__max_depth=2, xgb__n_estimators=5; total time=   0.4s\n",
      "[CV 1/10; 16/27] START xgb__learning_rate=0.3, xgb__max_depth=3, xgb__n_estimators=10\n",
      "[CV 1/10; 16/27] END xgb__learning_rate=0.3, xgb__max_depth=3, xgb__n_estimators=10; total time=   1.0s\n",
      "[CV 2/10; 16/27] START xgb__learning_rate=0.3, xgb__max_depth=3, xgb__n_estimators=10\n",
      "[CV 2/10; 16/27] END xgb__learning_rate=0.3, xgb__max_depth=3, xgb__n_estimators=10; total time=   0.9s\n",
      "[CV 3/10; 16/27] START xgb__learning_rate=0.3, xgb__max_depth=3, xgb__n_estimators=10\n",
      "[CV 3/10; 16/27] END xgb__learning_rate=0.3, xgb__max_depth=3, xgb__n_estimators=10; total time=   1.0s\n",
      "[CV 4/10; 16/27] START xgb__learning_rate=0.3, xgb__max_depth=3, xgb__n_estimators=10\n",
      "[CV 4/10; 16/27] END xgb__learning_rate=0.3, xgb__max_depth=3, xgb__n_estimators=10; total time=   0.9s\n",
      "[CV 5/10; 16/27] START xgb__learning_rate=0.3, xgb__max_depth=3, xgb__n_estimators=10\n",
      "[CV 5/10; 16/27] END xgb__learning_rate=0.3, xgb__max_depth=3, xgb__n_estimators=10; total time=   1.0s\n",
      "[CV 6/10; 16/27] START xgb__learning_rate=0.3, xgb__max_depth=3, xgb__n_estimators=10\n",
      "[CV 6/10; 16/27] END xgb__learning_rate=0.3, xgb__max_depth=3, xgb__n_estimators=10; total time=   0.9s\n",
      "[CV 7/10; 16/27] START xgb__learning_rate=0.3, xgb__max_depth=3, xgb__n_estimators=10\n",
      "[CV 7/10; 16/27] END xgb__learning_rate=0.3, xgb__max_depth=3, xgb__n_estimators=10; total time=   1.0s\n",
      "[CV 8/10; 16/27] START xgb__learning_rate=0.3, xgb__max_depth=3, xgb__n_estimators=10\n",
      "[CV 8/10; 16/27] END xgb__learning_rate=0.3, xgb__max_depth=3, xgb__n_estimators=10; total time=   0.9s\n",
      "[CV 9/10; 16/27] START xgb__learning_rate=0.3, xgb__max_depth=3, xgb__n_estimators=10\n",
      "[CV 9/10; 16/27] END xgb__learning_rate=0.3, xgb__max_depth=3, xgb__n_estimators=10; total time=   1.0s\n",
      "[CV 10/10; 16/27] START xgb__learning_rate=0.3, xgb__max_depth=3, xgb__n_estimators=10\n",
      "[CV 10/10; 16/27] END xgb__learning_rate=0.3, xgb__max_depth=3, xgb__n_estimators=10; total time=   0.9s\n",
      "[CV 1/10; 17/27] START xgb__learning_rate=0.3, xgb__max_depth=3, xgb__n_estimators=15\n",
      "[CV 1/10; 17/27] END xgb__learning_rate=0.3, xgb__max_depth=3, xgb__n_estimators=15; total time=   1.4s\n",
      "[CV 2/10; 17/27] START xgb__learning_rate=0.3, xgb__max_depth=3, xgb__n_estimators=15\n",
      "[CV 2/10; 17/27] END xgb__learning_rate=0.3, xgb__max_depth=3, xgb__n_estimators=15; total time=   1.4s\n",
      "[CV 3/10; 17/27] START xgb__learning_rate=0.3, xgb__max_depth=3, xgb__n_estimators=15\n",
      "[CV 3/10; 17/27] END xgb__learning_rate=0.3, xgb__max_depth=3, xgb__n_estimators=15; total time=   1.3s\n",
      "[CV 4/10; 17/27] START xgb__learning_rate=0.3, xgb__max_depth=3, xgb__n_estimators=15\n",
      "[CV 4/10; 17/27] END xgb__learning_rate=0.3, xgb__max_depth=3, xgb__n_estimators=15; total time=   1.4s\n",
      "[CV 5/10; 17/27] START xgb__learning_rate=0.3, xgb__max_depth=3, xgb__n_estimators=15\n",
      "[CV 5/10; 17/27] END xgb__learning_rate=0.3, xgb__max_depth=3, xgb__n_estimators=15; total time=   1.3s\n",
      "[CV 6/10; 17/27] START xgb__learning_rate=0.3, xgb__max_depth=3, xgb__n_estimators=15\n",
      "[CV 6/10; 17/27] END xgb__learning_rate=0.3, xgb__max_depth=3, xgb__n_estimators=15; total time=   1.4s\n",
      "[CV 7/10; 17/27] START xgb__learning_rate=0.3, xgb__max_depth=3, xgb__n_estimators=15\n",
      "[CV 7/10; 17/27] END xgb__learning_rate=0.3, xgb__max_depth=3, xgb__n_estimators=15; total time=   1.3s\n",
      "[CV 8/10; 17/27] START xgb__learning_rate=0.3, xgb__max_depth=3, xgb__n_estimators=15\n",
      "[CV 8/10; 17/27] END xgb__learning_rate=0.3, xgb__max_depth=3, xgb__n_estimators=15; total time=   1.3s\n",
      "[CV 9/10; 17/27] START xgb__learning_rate=0.3, xgb__max_depth=3, xgb__n_estimators=15\n",
      "[CV 9/10; 17/27] END xgb__learning_rate=0.3, xgb__max_depth=3, xgb__n_estimators=15; total time=   1.3s\n",
      "[CV 10/10; 17/27] START xgb__learning_rate=0.3, xgb__max_depth=3, xgb__n_estimators=15\n",
      "[CV 10/10; 17/27] END xgb__learning_rate=0.3, xgb__max_depth=3, xgb__n_estimators=15; total time=   1.4s\n",
      "[CV 1/10; 18/27] START xgb__learning_rate=0.3, xgb__max_depth=3, xgb__n_estimators=5\n",
      "[CV 1/10; 18/27] END xgb__learning_rate=0.3, xgb__max_depth=3, xgb__n_estimators=5; total time=   0.5s\n",
      "[CV 2/10; 18/27] START xgb__learning_rate=0.3, xgb__max_depth=3, xgb__n_estimators=5\n",
      "[CV 2/10; 18/27] END xgb__learning_rate=0.3, xgb__max_depth=3, xgb__n_estimators=5; total time=   0.6s\n",
      "[CV 3/10; 18/27] START xgb__learning_rate=0.3, xgb__max_depth=3, xgb__n_estimators=5\n",
      "[CV 3/10; 18/27] END xgb__learning_rate=0.3, xgb__max_depth=3, xgb__n_estimators=5; total time=   0.6s\n",
      "[CV 4/10; 18/27] START xgb__learning_rate=0.3, xgb__max_depth=3, xgb__n_estimators=5\n",
      "[CV 4/10; 18/27] END xgb__learning_rate=0.3, xgb__max_depth=3, xgb__n_estimators=5; total time=   0.5s\n",
      "[CV 5/10; 18/27] START xgb__learning_rate=0.3, xgb__max_depth=3, xgb__n_estimators=5\n",
      "[CV 5/10; 18/27] END xgb__learning_rate=0.3, xgb__max_depth=3, xgb__n_estimators=5; total time=   0.6s\n",
      "[CV 6/10; 18/27] START xgb__learning_rate=0.3, xgb__max_depth=3, xgb__n_estimators=5\n",
      "[CV 6/10; 18/27] END xgb__learning_rate=0.3, xgb__max_depth=3, xgb__n_estimators=5; total time=   0.5s\n",
      "[CV 7/10; 18/27] START xgb__learning_rate=0.3, xgb__max_depth=3, xgb__n_estimators=5\n",
      "[CV 7/10; 18/27] END xgb__learning_rate=0.3, xgb__max_depth=3, xgb__n_estimators=5; total time=   0.6s\n",
      "[CV 8/10; 18/27] START xgb__learning_rate=0.3, xgb__max_depth=3, xgb__n_estimators=5\n",
      "[CV 8/10; 18/27] END xgb__learning_rate=0.3, xgb__max_depth=3, xgb__n_estimators=5; total time=   0.6s\n",
      "[CV 9/10; 18/27] START xgb__learning_rate=0.3, xgb__max_depth=3, xgb__n_estimators=5\n",
      "[CV 9/10; 18/27] END xgb__learning_rate=0.3, xgb__max_depth=3, xgb__n_estimators=5; total time=   0.5s\n",
      "[CV 10/10; 18/27] START xgb__learning_rate=0.3, xgb__max_depth=3, xgb__n_estimators=5\n",
      "[CV 10/10; 18/27] END xgb__learning_rate=0.3, xgb__max_depth=3, xgb__n_estimators=5; total time=   0.6s\n",
      "[CV 1/10; 19/27] START xgb__learning_rate=0.4, xgb__max_depth=1, xgb__n_estimators=10\n",
      "[CV 1/10; 19/27] END xgb__learning_rate=0.4, xgb__max_depth=1, xgb__n_estimators=10; total time=   0.5s\n",
      "[CV 2/10; 19/27] START xgb__learning_rate=0.4, xgb__max_depth=1, xgb__n_estimators=10\n",
      "[CV 2/10; 19/27] END xgb__learning_rate=0.4, xgb__max_depth=1, xgb__n_estimators=10; total time=   0.5s\n",
      "[CV 3/10; 19/27] START xgb__learning_rate=0.4, xgb__max_depth=1, xgb__n_estimators=10\n",
      "[CV 3/10; 19/27] END xgb__learning_rate=0.4, xgb__max_depth=1, xgb__n_estimators=10; total time=   0.4s\n",
      "[CV 4/10; 19/27] START xgb__learning_rate=0.4, xgb__max_depth=1, xgb__n_estimators=10\n",
      "[CV 4/10; 19/27] END xgb__learning_rate=0.4, xgb__max_depth=1, xgb__n_estimators=10; total time=   0.5s\n",
      "[CV 5/10; 19/27] START xgb__learning_rate=0.4, xgb__max_depth=1, xgb__n_estimators=10\n",
      "[CV 5/10; 19/27] END xgb__learning_rate=0.4, xgb__max_depth=1, xgb__n_estimators=10; total time=   0.5s\n",
      "[CV 6/10; 19/27] START xgb__learning_rate=0.4, xgb__max_depth=1, xgb__n_estimators=10\n",
      "[CV 6/10; 19/27] END xgb__learning_rate=0.4, xgb__max_depth=1, xgb__n_estimators=10; total time=   0.5s\n",
      "[CV 7/10; 19/27] START xgb__learning_rate=0.4, xgb__max_depth=1, xgb__n_estimators=10\n",
      "[CV 7/10; 19/27] END xgb__learning_rate=0.4, xgb__max_depth=1, xgb__n_estimators=10; total time=   0.5s\n",
      "[CV 8/10; 19/27] START xgb__learning_rate=0.4, xgb__max_depth=1, xgb__n_estimators=10\n",
      "[CV 8/10; 19/27] END xgb__learning_rate=0.4, xgb__max_depth=1, xgb__n_estimators=10; total time=   0.5s\n",
      "[CV 9/10; 19/27] START xgb__learning_rate=0.4, xgb__max_depth=1, xgb__n_estimators=10\n",
      "[CV 9/10; 19/27] END xgb__learning_rate=0.4, xgb__max_depth=1, xgb__n_estimators=10; total time=   0.4s\n",
      "[CV 10/10; 19/27] START xgb__learning_rate=0.4, xgb__max_depth=1, xgb__n_estimators=10\n",
      "[CV 10/10; 19/27] END xgb__learning_rate=0.4, xgb__max_depth=1, xgb__n_estimators=10; total time=   0.5s\n",
      "[CV 1/10; 20/27] START xgb__learning_rate=0.4, xgb__max_depth=1, xgb__n_estimators=15\n",
      "[CV 1/10; 20/27] END xgb__learning_rate=0.4, xgb__max_depth=1, xgb__n_estimators=15; total time=   0.7s\n",
      "[CV 2/10; 20/27] START xgb__learning_rate=0.4, xgb__max_depth=1, xgb__n_estimators=15\n",
      "[CV 2/10; 20/27] END xgb__learning_rate=0.4, xgb__max_depth=1, xgb__n_estimators=15; total time=   0.6s\n",
      "[CV 3/10; 20/27] START xgb__learning_rate=0.4, xgb__max_depth=1, xgb__n_estimators=15\n",
      "[CV 3/10; 20/27] END xgb__learning_rate=0.4, xgb__max_depth=1, xgb__n_estimators=15; total time=   0.6s\n",
      "[CV 4/10; 20/27] START xgb__learning_rate=0.4, xgb__max_depth=1, xgb__n_estimators=15\n",
      "[CV 4/10; 20/27] END xgb__learning_rate=0.4, xgb__max_depth=1, xgb__n_estimators=15; total time=   0.7s\n",
      "[CV 5/10; 20/27] START xgb__learning_rate=0.4, xgb__max_depth=1, xgb__n_estimators=15\n",
      "[CV 5/10; 20/27] END xgb__learning_rate=0.4, xgb__max_depth=1, xgb__n_estimators=15; total time=   0.6s\n",
      "[CV 6/10; 20/27] START xgb__learning_rate=0.4, xgb__max_depth=1, xgb__n_estimators=15\n",
      "[CV 6/10; 20/27] END xgb__learning_rate=0.4, xgb__max_depth=1, xgb__n_estimators=15; total time=   0.7s\n",
      "[CV 7/10; 20/27] START xgb__learning_rate=0.4, xgb__max_depth=1, xgb__n_estimators=15\n",
      "[CV 7/10; 20/27] END xgb__learning_rate=0.4, xgb__max_depth=1, xgb__n_estimators=15; total time=   0.6s\n",
      "[CV 8/10; 20/27] START xgb__learning_rate=0.4, xgb__max_depth=1, xgb__n_estimators=15\n",
      "[CV 8/10; 20/27] END xgb__learning_rate=0.4, xgb__max_depth=1, xgb__n_estimators=15; total time=   0.6s\n",
      "[CV 9/10; 20/27] START xgb__learning_rate=0.4, xgb__max_depth=1, xgb__n_estimators=15\n",
      "[CV 9/10; 20/27] END xgb__learning_rate=0.4, xgb__max_depth=1, xgb__n_estimators=15; total time=   0.7s\n",
      "[CV 10/10; 20/27] START xgb__learning_rate=0.4, xgb__max_depth=1, xgb__n_estimators=15\n",
      "[CV 10/10; 20/27] END xgb__learning_rate=0.4, xgb__max_depth=1, xgb__n_estimators=15; total time=   0.6s\n",
      "[CV 1/10; 21/27] START xgb__learning_rate=0.4, xgb__max_depth=1, xgb__n_estimators=5\n",
      "[CV 1/10; 21/27] END xgb__learning_rate=0.4, xgb__max_depth=1, xgb__n_estimators=5; total time=   0.3s\n",
      "[CV 2/10; 21/27] START xgb__learning_rate=0.4, xgb__max_depth=1, xgb__n_estimators=5\n",
      "[CV 2/10; 21/27] END xgb__learning_rate=0.4, xgb__max_depth=1, xgb__n_estimators=5; total time=   0.4s\n",
      "[CV 3/10; 21/27] START xgb__learning_rate=0.4, xgb__max_depth=1, xgb__n_estimators=5\n",
      "[CV 3/10; 21/27] END xgb__learning_rate=0.4, xgb__max_depth=1, xgb__n_estimators=5; total time=   0.3s\n",
      "[CV 4/10; 21/27] START xgb__learning_rate=0.4, xgb__max_depth=1, xgb__n_estimators=5\n",
      "[CV 4/10; 21/27] END xgb__learning_rate=0.4, xgb__max_depth=1, xgb__n_estimators=5; total time=   0.3s\n",
      "[CV 5/10; 21/27] START xgb__learning_rate=0.4, xgb__max_depth=1, xgb__n_estimators=5\n",
      "[CV 5/10; 21/27] END xgb__learning_rate=0.4, xgb__max_depth=1, xgb__n_estimators=5; total time=   0.4s\n",
      "[CV 6/10; 21/27] START xgb__learning_rate=0.4, xgb__max_depth=1, xgb__n_estimators=5\n",
      "[CV 6/10; 21/27] END xgb__learning_rate=0.4, xgb__max_depth=1, xgb__n_estimators=5; total time=   0.3s\n",
      "[CV 7/10; 21/27] START xgb__learning_rate=0.4, xgb__max_depth=1, xgb__n_estimators=5\n",
      "[CV 7/10; 21/27] END xgb__learning_rate=0.4, xgb__max_depth=1, xgb__n_estimators=5; total time=   0.3s\n",
      "[CV 8/10; 21/27] START xgb__learning_rate=0.4, xgb__max_depth=1, xgb__n_estimators=5\n",
      "[CV 8/10; 21/27] END xgb__learning_rate=0.4, xgb__max_depth=1, xgb__n_estimators=5; total time=   0.4s\n",
      "[CV 9/10; 21/27] START xgb__learning_rate=0.4, xgb__max_depth=1, xgb__n_estimators=5\n",
      "[CV 9/10; 21/27] END xgb__learning_rate=0.4, xgb__max_depth=1, xgb__n_estimators=5; total time=   0.3s\n",
      "[CV 10/10; 21/27] START xgb__learning_rate=0.4, xgb__max_depth=1, xgb__n_estimators=5\n",
      "[CV 10/10; 21/27] END xgb__learning_rate=0.4, xgb__max_depth=1, xgb__n_estimators=5; total time=   0.3s\n",
      "[CV 1/10; 22/27] START xgb__learning_rate=0.4, xgb__max_depth=2, xgb__n_estimators=10\n",
      "[CV 1/10; 22/27] END xgb__learning_rate=0.4, xgb__max_depth=2, xgb__n_estimators=10; total time=   0.7s\n",
      "[CV 2/10; 22/27] START xgb__learning_rate=0.4, xgb__max_depth=2, xgb__n_estimators=10\n",
      "[CV 2/10; 22/27] END xgb__learning_rate=0.4, xgb__max_depth=2, xgb__n_estimators=10; total time=   0.7s\n",
      "[CV 3/10; 22/27] START xgb__learning_rate=0.4, xgb__max_depth=2, xgb__n_estimators=10\n",
      "[CV 3/10; 22/27] END xgb__learning_rate=0.4, xgb__max_depth=2, xgb__n_estimators=10; total time=   0.7s\n",
      "[CV 4/10; 22/27] START xgb__learning_rate=0.4, xgb__max_depth=2, xgb__n_estimators=10\n",
      "[CV 4/10; 22/27] END xgb__learning_rate=0.4, xgb__max_depth=2, xgb__n_estimators=10; total time=   0.7s\n",
      "[CV 5/10; 22/27] START xgb__learning_rate=0.4, xgb__max_depth=2, xgb__n_estimators=10\n",
      "[CV 5/10; 22/27] END xgb__learning_rate=0.4, xgb__max_depth=2, xgb__n_estimators=10; total time=   0.8s\n",
      "[CV 6/10; 22/27] START xgb__learning_rate=0.4, xgb__max_depth=2, xgb__n_estimators=10\n",
      "[CV 6/10; 22/27] END xgb__learning_rate=0.4, xgb__max_depth=2, xgb__n_estimators=10; total time=   0.7s\n",
      "[CV 7/10; 22/27] START xgb__learning_rate=0.4, xgb__max_depth=2, xgb__n_estimators=10\n",
      "[CV 7/10; 22/27] END xgb__learning_rate=0.4, xgb__max_depth=2, xgb__n_estimators=10; total time=   0.7s\n",
      "[CV 8/10; 22/27] START xgb__learning_rate=0.4, xgb__max_depth=2, xgb__n_estimators=10\n",
      "[CV 8/10; 22/27] END xgb__learning_rate=0.4, xgb__max_depth=2, xgb__n_estimators=10; total time=   0.7s\n",
      "[CV 9/10; 22/27] START xgb__learning_rate=0.4, xgb__max_depth=2, xgb__n_estimators=10\n",
      "[CV 9/10; 22/27] END xgb__learning_rate=0.4, xgb__max_depth=2, xgb__n_estimators=10; total time=   0.7s\n",
      "[CV 10/10; 22/27] START xgb__learning_rate=0.4, xgb__max_depth=2, xgb__n_estimators=10\n",
      "[CV 10/10; 22/27] END xgb__learning_rate=0.4, xgb__max_depth=2, xgb__n_estimators=10; total time=   0.7s\n",
      "[CV 1/10; 23/27] START xgb__learning_rate=0.4, xgb__max_depth=2, xgb__n_estimators=15\n",
      "[CV 1/10; 23/27] END xgb__learning_rate=0.4, xgb__max_depth=2, xgb__n_estimators=15; total time=   1.0s\n",
      "[CV 2/10; 23/27] START xgb__learning_rate=0.4, xgb__max_depth=2, xgb__n_estimators=15\n",
      "[CV 2/10; 23/27] END xgb__learning_rate=0.4, xgb__max_depth=2, xgb__n_estimators=15; total time=   1.0s\n",
      "[CV 3/10; 23/27] START xgb__learning_rate=0.4, xgb__max_depth=2, xgb__n_estimators=15\n",
      "[CV 3/10; 23/27] END xgb__learning_rate=0.4, xgb__max_depth=2, xgb__n_estimators=15; total time=   0.9s\n",
      "[CV 4/10; 23/27] START xgb__learning_rate=0.4, xgb__max_depth=2, xgb__n_estimators=15\n",
      "[CV 4/10; 23/27] END xgb__learning_rate=0.4, xgb__max_depth=2, xgb__n_estimators=15; total time=   1.0s\n",
      "[CV 5/10; 23/27] START xgb__learning_rate=0.4, xgb__max_depth=2, xgb__n_estimators=15\n",
      "[CV 5/10; 23/27] END xgb__learning_rate=0.4, xgb__max_depth=2, xgb__n_estimators=15; total time=   1.0s\n",
      "[CV 6/10; 23/27] START xgb__learning_rate=0.4, xgb__max_depth=2, xgb__n_estimators=15\n",
      "[CV 6/10; 23/27] END xgb__learning_rate=0.4, xgb__max_depth=2, xgb__n_estimators=15; total time=   0.9s\n",
      "[CV 7/10; 23/27] START xgb__learning_rate=0.4, xgb__max_depth=2, xgb__n_estimators=15\n",
      "[CV 7/10; 23/27] END xgb__learning_rate=0.4, xgb__max_depth=2, xgb__n_estimators=15; total time=   1.0s\n",
      "[CV 8/10; 23/27] START xgb__learning_rate=0.4, xgb__max_depth=2, xgb__n_estimators=15\n",
      "[CV 8/10; 23/27] END xgb__learning_rate=0.4, xgb__max_depth=2, xgb__n_estimators=15; total time=   0.9s\n",
      "[CV 9/10; 23/27] START xgb__learning_rate=0.4, xgb__max_depth=2, xgb__n_estimators=15\n",
      "[CV 9/10; 23/27] END xgb__learning_rate=0.4, xgb__max_depth=2, xgb__n_estimators=15; total time=   1.0s\n",
      "[CV 10/10; 23/27] START xgb__learning_rate=0.4, xgb__max_depth=2, xgb__n_estimators=15\n",
      "[CV 10/10; 23/27] END xgb__learning_rate=0.4, xgb__max_depth=2, xgb__n_estimators=15; total time=   0.9s\n",
      "[CV 1/10; 24/27] START xgb__learning_rate=0.4, xgb__max_depth=2, xgb__n_estimators=5\n",
      "[CV 1/10; 24/27] END xgb__learning_rate=0.4, xgb__max_depth=2, xgb__n_estimators=5; total time=   0.5s\n",
      "[CV 2/10; 24/27] START xgb__learning_rate=0.4, xgb__max_depth=2, xgb__n_estimators=5\n",
      "[CV 2/10; 24/27] END xgb__learning_rate=0.4, xgb__max_depth=2, xgb__n_estimators=5; total time=   0.4s\n",
      "[CV 3/10; 24/27] START xgb__learning_rate=0.4, xgb__max_depth=2, xgb__n_estimators=5\n",
      "[CV 3/10; 24/27] END xgb__learning_rate=0.4, xgb__max_depth=2, xgb__n_estimators=5; total time=   0.4s\n",
      "[CV 4/10; 24/27] START xgb__learning_rate=0.4, xgb__max_depth=2, xgb__n_estimators=5\n",
      "[CV 4/10; 24/27] END xgb__learning_rate=0.4, xgb__max_depth=2, xgb__n_estimators=5; total time=   0.5s\n",
      "[CV 5/10; 24/27] START xgb__learning_rate=0.4, xgb__max_depth=2, xgb__n_estimators=5\n",
      "[CV 5/10; 24/27] END xgb__learning_rate=0.4, xgb__max_depth=2, xgb__n_estimators=5; total time=   0.4s\n",
      "[CV 6/10; 24/27] START xgb__learning_rate=0.4, xgb__max_depth=2, xgb__n_estimators=5\n",
      "[CV 6/10; 24/27] END xgb__learning_rate=0.4, xgb__max_depth=2, xgb__n_estimators=5; total time=   0.4s\n",
      "[CV 7/10; 24/27] START xgb__learning_rate=0.4, xgb__max_depth=2, xgb__n_estimators=5\n",
      "[CV 7/10; 24/27] END xgb__learning_rate=0.4, xgb__max_depth=2, xgb__n_estimators=5; total time=   0.5s\n",
      "[CV 8/10; 24/27] START xgb__learning_rate=0.4, xgb__max_depth=2, xgb__n_estimators=5\n",
      "[CV 8/10; 24/27] END xgb__learning_rate=0.4, xgb__max_depth=2, xgb__n_estimators=5; total time=   0.4s\n",
      "[CV 9/10; 24/27] START xgb__learning_rate=0.4, xgb__max_depth=2, xgb__n_estimators=5\n",
      "[CV 9/10; 24/27] END xgb__learning_rate=0.4, xgb__max_depth=2, xgb__n_estimators=5; total time=   0.5s\n",
      "[CV 10/10; 24/27] START xgb__learning_rate=0.4, xgb__max_depth=2, xgb__n_estimators=5\n",
      "[CV 10/10; 24/27] END xgb__learning_rate=0.4, xgb__max_depth=2, xgb__n_estimators=5; total time=   0.4s\n",
      "[CV 1/10; 25/27] START xgb__learning_rate=0.4, xgb__max_depth=3, xgb__n_estimators=10\n",
      "[CV 1/10; 25/27] END xgb__learning_rate=0.4, xgb__max_depth=3, xgb__n_estimators=10; total time=   0.9s\n",
      "[CV 2/10; 25/27] START xgb__learning_rate=0.4, xgb__max_depth=3, xgb__n_estimators=10\n",
      "[CV 2/10; 25/27] END xgb__learning_rate=0.4, xgb__max_depth=3, xgb__n_estimators=10; total time=   1.0s\n",
      "[CV 3/10; 25/27] START xgb__learning_rate=0.4, xgb__max_depth=3, xgb__n_estimators=10\n",
      "[CV 3/10; 25/27] END xgb__learning_rate=0.4, xgb__max_depth=3, xgb__n_estimators=10; total time=   1.0s\n",
      "[CV 4/10; 25/27] START xgb__learning_rate=0.4, xgb__max_depth=3, xgb__n_estimators=10\n",
      "[CV 4/10; 25/27] END xgb__learning_rate=0.4, xgb__max_depth=3, xgb__n_estimators=10; total time=   0.9s\n",
      "[CV 5/10; 25/27] START xgb__learning_rate=0.4, xgb__max_depth=3, xgb__n_estimators=10\n",
      "[CV 5/10; 25/27] END xgb__learning_rate=0.4, xgb__max_depth=3, xgb__n_estimators=10; total time=   0.9s\n",
      "[CV 6/10; 25/27] START xgb__learning_rate=0.4, xgb__max_depth=3, xgb__n_estimators=10\n",
      "[CV 6/10; 25/27] END xgb__learning_rate=0.4, xgb__max_depth=3, xgb__n_estimators=10; total time=   1.0s\n",
      "[CV 7/10; 25/27] START xgb__learning_rate=0.4, xgb__max_depth=3, xgb__n_estimators=10\n",
      "[CV 7/10; 25/27] END xgb__learning_rate=0.4, xgb__max_depth=3, xgb__n_estimators=10; total time=   1.1s\n",
      "[CV 8/10; 25/27] START xgb__learning_rate=0.4, xgb__max_depth=3, xgb__n_estimators=10\n",
      "[CV 8/10; 25/27] END xgb__learning_rate=0.4, xgb__max_depth=3, xgb__n_estimators=10; total time=   1.0s\n",
      "[CV 9/10; 25/27] START xgb__learning_rate=0.4, xgb__max_depth=3, xgb__n_estimators=10\n",
      "[CV 9/10; 25/27] END xgb__learning_rate=0.4, xgb__max_depth=3, xgb__n_estimators=10; total time=   0.9s\n",
      "[CV 10/10; 25/27] START xgb__learning_rate=0.4, xgb__max_depth=3, xgb__n_estimators=10\n",
      "[CV 10/10; 25/27] END xgb__learning_rate=0.4, xgb__max_depth=3, xgb__n_estimators=10; total time=   1.0s\n",
      "[CV 1/10; 26/27] START xgb__learning_rate=0.4, xgb__max_depth=3, xgb__n_estimators=15\n",
      "[CV 1/10; 26/27] END xgb__learning_rate=0.4, xgb__max_depth=3, xgb__n_estimators=15; total time=   1.3s\n",
      "[CV 2/10; 26/27] START xgb__learning_rate=0.4, xgb__max_depth=3, xgb__n_estimators=15\n",
      "[CV 2/10; 26/27] END xgb__learning_rate=0.4, xgb__max_depth=3, xgb__n_estimators=15; total time=   1.3s\n",
      "[CV 3/10; 26/27] START xgb__learning_rate=0.4, xgb__max_depth=3, xgb__n_estimators=15\n",
      "[CV 3/10; 26/27] END xgb__learning_rate=0.4, xgb__max_depth=3, xgb__n_estimators=15; total time=   1.4s\n",
      "[CV 4/10; 26/27] START xgb__learning_rate=0.4, xgb__max_depth=3, xgb__n_estimators=15\n",
      "[CV 4/10; 26/27] END xgb__learning_rate=0.4, xgb__max_depth=3, xgb__n_estimators=15; total time=   1.3s\n",
      "[CV 5/10; 26/27] START xgb__learning_rate=0.4, xgb__max_depth=3, xgb__n_estimators=15\n",
      "[CV 5/10; 26/27] END xgb__learning_rate=0.4, xgb__max_depth=3, xgb__n_estimators=15; total time=   1.3s\n",
      "[CV 6/10; 26/27] START xgb__learning_rate=0.4, xgb__max_depth=3, xgb__n_estimators=15\n",
      "[CV 6/10; 26/27] END xgb__learning_rate=0.4, xgb__max_depth=3, xgb__n_estimators=15; total time=   1.4s\n",
      "[CV 7/10; 26/27] START xgb__learning_rate=0.4, xgb__max_depth=3, xgb__n_estimators=15\n",
      "[CV 7/10; 26/27] END xgb__learning_rate=0.4, xgb__max_depth=3, xgb__n_estimators=15; total time=   1.3s\n",
      "[CV 8/10; 26/27] START xgb__learning_rate=0.4, xgb__max_depth=3, xgb__n_estimators=15\n",
      "[CV 8/10; 26/27] END xgb__learning_rate=0.4, xgb__max_depth=3, xgb__n_estimators=15; total time=   1.4s\n",
      "[CV 9/10; 26/27] START xgb__learning_rate=0.4, xgb__max_depth=3, xgb__n_estimators=15\n",
      "[CV 9/10; 26/27] END xgb__learning_rate=0.4, xgb__max_depth=3, xgb__n_estimators=15; total time=   1.3s\n",
      "[CV 10/10; 26/27] START xgb__learning_rate=0.4, xgb__max_depth=3, xgb__n_estimators=15\n",
      "[CV 10/10; 26/27] END xgb__learning_rate=0.4, xgb__max_depth=3, xgb__n_estimators=15; total time=   1.3s\n",
      "[CV 1/10; 27/27] START xgb__learning_rate=0.4, xgb__max_depth=3, xgb__n_estimators=5\n",
      "[CV 1/10; 27/27] END xgb__learning_rate=0.4, xgb__max_depth=3, xgb__n_estimators=5; total time=   0.6s\n",
      "[CV 2/10; 27/27] START xgb__learning_rate=0.4, xgb__max_depth=3, xgb__n_estimators=5\n",
      "[CV 2/10; 27/27] END xgb__learning_rate=0.4, xgb__max_depth=3, xgb__n_estimators=5; total time=   0.6s\n",
      "[CV 3/10; 27/27] START xgb__learning_rate=0.4, xgb__max_depth=3, xgb__n_estimators=5\n",
      "[CV 3/10; 27/27] END xgb__learning_rate=0.4, xgb__max_depth=3, xgb__n_estimators=5; total time=   0.6s\n",
      "[CV 4/10; 27/27] START xgb__learning_rate=0.4, xgb__max_depth=3, xgb__n_estimators=5\n",
      "[CV 4/10; 27/27] END xgb__learning_rate=0.4, xgb__max_depth=3, xgb__n_estimators=5; total time=   0.5s\n",
      "[CV 5/10; 27/27] START xgb__learning_rate=0.4, xgb__max_depth=3, xgb__n_estimators=5\n",
      "[CV 5/10; 27/27] END xgb__learning_rate=0.4, xgb__max_depth=3, xgb__n_estimators=5; total time=   0.6s\n",
      "[CV 6/10; 27/27] START xgb__learning_rate=0.4, xgb__max_depth=3, xgb__n_estimators=5\n",
      "[CV 6/10; 27/27] END xgb__learning_rate=0.4, xgb__max_depth=3, xgb__n_estimators=5; total time=   0.5s\n",
      "[CV 7/10; 27/27] START xgb__learning_rate=0.4, xgb__max_depth=3, xgb__n_estimators=5\n",
      "[CV 7/10; 27/27] END xgb__learning_rate=0.4, xgb__max_depth=3, xgb__n_estimators=5; total time=   0.6s\n",
      "[CV 8/10; 27/27] START xgb__learning_rate=0.4, xgb__max_depth=3, xgb__n_estimators=5\n",
      "[CV 8/10; 27/27] END xgb__learning_rate=0.4, xgb__max_depth=3, xgb__n_estimators=5; total time=   0.6s\n",
      "[CV 9/10; 27/27] START xgb__learning_rate=0.4, xgb__max_depth=3, xgb__n_estimators=5\n",
      "[CV 9/10; 27/27] END xgb__learning_rate=0.4, xgb__max_depth=3, xgb__n_estimators=5; total time=   0.5s\n",
      "[CV 10/10; 27/27] START xgb__learning_rate=0.4, xgb__max_depth=3, xgb__n_estimators=5\n",
      "[CV 10/10; 27/27] END xgb__learning_rate=0.4, xgb__max_depth=3, xgb__n_estimators=5; total time=   0.6s\n"
     ]
    },
    {
     "data": {
      "text/plain": [
       "GridSearchCV(cv=10,\n",
       "             estimator=Pipeline(steps=[('xgb',\n",
       "                                        XGBRegressor(base_score=None,\n",
       "                                                     booster=None,\n",
       "                                                     colsample_bylevel=None,\n",
       "                                                     colsample_bynode=None,\n",
       "                                                     colsample_bytree=None,\n",
       "                                                     enable_categorical=False,\n",
       "                                                     gamma=None, gpu_id=None,\n",
       "                                                     importance_type=None,\n",
       "                                                     interaction_constraints=None,\n",
       "                                                     learning_rate=None,\n",
       "                                                     max_delta_step=None,\n",
       "                                                     max_depth=None,\n",
       "                                                     min_child_weight=None,\n",
       "                                                     missing=nan,\n",
       "                                                     mon...e,\n",
       "                                                     n_estimators=100,\n",
       "                                                     n_jobs=None, nthread=10,\n",
       "                                                     num_parallel_tree=None,\n",
       "                                                     predictor=None,\n",
       "                                                     random_state=None,\n",
       "                                                     reg_alpha=None,\n",
       "                                                     reg_lambda=None,\n",
       "                                                     scale_pos_weight=None,\n",
       "                                                     subsample=None,\n",
       "                                                     tree_method=None,\n",
       "                                                     validate_parameters=None,\n",
       "                                                     verbosity=None))]),\n",
       "             n_jobs=1,\n",
       "             param_grid={'xgb__learning_rate': [0.2, 0.3, 0.4],\n",
       "                         'xgb__max_depth': [1, 2, 3],\n",
       "                         'xgb__n_estimators': [10, 15, 5]},\n",
       "             verbose=10)"
      ]
     },
     "execution_count": 77,
     "metadata": {},
     "output_type": "execute_result"
    }
   ],
   "source": [
    "xgb_model  = XGBRegressor(nthread=10)\n",
    "clf = Pipeline([('xgb', xgb_model)])\n",
    "param_grid = {'xgb__max_depth': [1,2,3],    \n",
    "              'xgb__learning_rate': [0.2,0.3,0.4],  \n",
    "              'xgb__n_estimators': [10,15,5]   \n",
    "             }  \n",
    "\n",
    "model = GridSearchCV(estimator=clf, param_grid=param_grid, verbose=10, n_jobs=1, refit=True, cv=10)\n",
    "\n",
    "model.fit(features_train, target_train)"
   ]
  },
  {
   "cell_type": "code",
   "execution_count": 79,
   "metadata": {},
   "outputs": [],
   "source": [
    "predictions_valid_xgb = model.predict(features_valid)"
   ]
  },
  {
   "cell_type": "code",
   "execution_count": 81,
   "metadata": {},
   "outputs": [
    {
     "data": {
      "text/plain": [
       "2904.1016535395875"
      ]
     },
     "execution_count": 81,
     "metadata": {},
     "output_type": "execute_result"
    }
   ],
   "source": [
    "math.sqrt(mse(target_valid, predictions_valid_xgb))"
   ]
  },
  {
   "cell_type": "code",
   "execution_count": 82,
   "metadata": {},
   "outputs": [
    {
     "name": "stdout",
     "output_type": "stream",
     "text": [
      "106 ms ± 3.94 ms per loop (mean ± std. dev. of 7 runs, 10 loops each)\n"
     ]
    }
   ],
   "source": [
    "%%timeit\n",
    "# Tempo de predição do modelo Árvore de Decisão\n",
    "model.predict(features_train)"
   ]
  },
  {
   "cell_type": "markdown",
   "metadata": {},
   "source": [
    "## Conclusão"
   ]
  },
  {
   "cell_type": "markdown",
   "metadata": {},
   "source": [
    "Neste projeto, importamos bibliotecas como \"pandas\" e \"numpy\" que habitualmente já utilizamos e sklearn para criação do nosso modelo.\n",
    "\n",
    "Realizamos o pre-processamento, para que não tivesse acontecido algum problema na criação do nosso modelo. O modelo com melhor pontuação no **REQM** foi o Modelo Floresta Aletatória, enquanto o com pior desempenho foi o de Regressão Linear, Testamos o modelo de Árvore de Decisão e XG Boost.\n"
   ]
  },
  {
   "cell_type": "markdown",
   "metadata": {},
   "source": [
    "<div class=\"alert alert-block alert-success\">\n",
    "<b>Comentário Geral do Revisor</b> <a class=\"tocSkip\"></a>\n",
    "\n",
    "Obrigado por enviar seu projeto. \n",
    "    \n",
    "Parabéns, você fez um bom trabalho. No geral, você respondeu corretamente as questões.\n",
    "\n",
    "Como pontos fortes do projeto, destaco:\n",
    "- Código simples e eficiente\n",
    "- Analisou outliers, realizou imputação\n",
    "- Calibrou hiperparâmetros\n",
    "\n",
    "Desejo sucesso na jornada.\n",
    "Conte conosco. Lembre-se de que você pode tirar dúvidas comigo usando os comentários ou buscar ajuda de um tutor.\n",
    "\n",
    "</div>"
   ]
  },
  {
   "cell_type": "markdown",
   "metadata": {},
   "source": [
    "# Checklist"
   ]
  },
  {
   "cell_type": "markdown",
   "metadata": {},
   "source": [
    "Digite 'x' para verificar. Em seguida, pressione Shift + Enter."
   ]
  },
  {
   "cell_type": "markdown",
   "metadata": {},
   "source": [
    "- [x]  O Jupyter Notebook está aberto\n",
    "- [ ]  O código está livre de erros\n",
    "- [ ]  As células com o código foram organizadas em ordem de execução\n",
    "- [ ]  Os dados foram baixados e preparados\n",
    "- [ ]  Os modelos foram treinados\n",
    "- [ ]  A análise de velocidade e qualidade dos modelos foi realizada"
   ]
  }
 ],
 "metadata": {
  "kernelspec": {
   "display_name": "Python 3 (ipykernel)",
   "language": "python",
   "name": "python3"
  },
  "language_info": {
   "codemirror_mode": {
    "name": "ipython",
    "version": 3
   },
   "file_extension": ".py",
   "mimetype": "text/x-python",
   "name": "python",
   "nbconvert_exporter": "python",
   "pygments_lexer": "ipython3",
   "version": "3.9.5"
  },
  "toc": {
   "base_numbering": 1,
   "nav_menu": {},
   "number_sections": true,
   "sideBar": true,
   "skip_h1_title": true,
   "title_cell": "Table of Contents",
   "title_sidebar": "Contents",
   "toc_cell": false,
   "toc_position": {},
   "toc_section_display": true,
   "toc_window_display": false
  }
 },
 "nbformat": 4,
 "nbformat_minor": 2
}
