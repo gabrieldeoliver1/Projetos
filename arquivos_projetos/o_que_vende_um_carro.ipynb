{
 "cells": [
  {
   "cell_type": "markdown",
   "metadata": {},
   "source": [
    "<div style=\"border:solid green 2px; padding: 20px\"> \n",
    "Oi Gabriel, tudo bem? \n",
    "    \n",
    "Me chamo Lourenço, vou ser o corretor em português do seu projeto! Prazer em conhecê-lo! 🙌 \n",
    " \n",
    "Meus comentários irão seguir o seguinte padrão:\n",
    "\n",
    "<div class=\"alert alert-success\">\n",
    "    <b>Correto:</b> Cumpriu corretamente tudo que foi pedido\n",
    "</div>\n",
    "<div class=\"alert alert-warning\">\n",
    "    <b>Recomendação:</b> Existe espaço para melhoramento do código\n",
    "</div>\n",
    "<div class=\"alert alert-danger\">\n",
    "    <b>Precisa ser corrigido:</b> Esse tipo de comentário ocorre quando o código precisa de alguma mudança drástica. O projeto não pode ser aceito com comentários vermelhos.\n",
    "</div>\n",
    "    \n",
    "Por favor, não delete meus comentários :) Se tiver alguma pergunta, basta respondê-los a partir da célula:\n",
    "    \n",
    "<div class=\"alert alert-block alert-info\">\n",
    "    <b>Comentário do aluno:</b> Copie essa célula e mude o texto para responder aos meus comentários.\n",
    "</div>  "
   ]
  },
  {
   "cell_type": "markdown",
   "metadata": {},
   "source": [
    "<div class=\"alert alert-block alert-success\">\n",
    "<b>Comentário geral do corretor</b> <a class=\"tocSkip\"></a>\n",
    "\n",
    "Gabriel, primeiramente muito obrigado por enviar o seu projeto! Está claro para mim seu empenho em fazê-lo.\n",
    "    \n",
    "<br />\n",
    "    \n",
    "Seu projeto está **exemplar**!! Todas as questões foram magistralmente respondidas, seu código está claro e o seu raciocínio está bem embasado. Você fez uso correto de todas as principais técnicas envolvidas nesse projeto, parabéns! Por conta disso, seu projeto será **aprovado**!\n",
    "    \n",
    "<br />\n",
    "    \n",
    "Espero que você consiga manter esse ritmo nos próximos módulos e que o seu aprendizado continue sendo frutífero. Não hesite em contatar nossos **tutores** em caso de dúvidas. Um abraço!    \n",
    "    \n",
    "</div>"
   ]
  },
  {
   "cell_type": "markdown",
   "metadata": {},
   "source": [
    "# O que vende um carro?\n",
    "\n",
    "Você é analista na Lista de Eixo de Manivela. Centenas de propagandas gratuitas de veículos são publicadas no seu site todos os dias. Você precisa estudar os dados coletados nos últimos anos e determinar quais fatores influenciaram o preço de um veículo."
   ]
  },
  {
   "cell_type": "markdown",
   "metadata": {},
   "source": [
    "## Iniciação"
   ]
  },
  {
   "cell_type": "markdown",
   "metadata": {},
   "source": [
    "Carregue bibliotecas que você acredita que são necessárias para o projeto. Você pode perceber depois que você precisa de bibliotecas adicionais conforme você avança, o que é totalmente normal - apenas certifique-se de atualizar essa seção quando perceber isso."
   ]
  },
  {
   "cell_type": "code",
   "execution_count": 1,
   "metadata": {},
   "outputs": [],
   "source": [
    "# Carregando todas as bibliotecas\n",
    "import pandas as pd\n",
    "import numpy as np\n",
    "import matplotlib.pyplot as plt\n",
    "import seaborn as sns\n",
    "import statsmodels.api as sm\n",
    "import warnings\n",
    "warnings.filterwarnings('ignore')"
   ]
  },
  {
   "cell_type": "markdown",
   "metadata": {},
   "source": [
    "<div class=\"alert alert-block alert-success\">\n",
    "<b>Comentário do corretor</b> <a class=\"tocSkip\"></a>\n",
    "\n",
    "Sempre importante manter as bibliotecas organizadas!\n",
    "</div>"
   ]
  },
  {
   "cell_type": "markdown",
   "metadata": {},
   "source": [
    "### Carregue dados"
   ]
  },
  {
   "cell_type": "code",
   "execution_count": 2,
   "metadata": {},
   "outputs": [],
   "source": [
    "# Carregue o arquivo com os dados em um DataFrame\n",
    "df = pd.read_csv('/datasets/vehicles_us.csv')"
   ]
  },
  {
   "cell_type": "markdown",
   "metadata": {},
   "source": [
    "### Explore os dados iniciais"
   ]
  },
  {
   "cell_type": "markdown",
   "metadata": {},
   "source": [
    "O conjunto de dados contém os seguintes campos:\n",
    "- `price`\n",
    "- `model_year`\n",
    "- `model`\n",
    "- `condition`\n",
    "- `cylinders`\n",
    "- `fuel` — gasolina, diesel etc.\n",
    "- `odometer` — a quilometragem do veículo quando a propaganda foi publicada \n",
    "- `transmission`\n",
    "- `paint_color`\n",
    "- `is_4wd` — Se o veículo é 4 por 4 (tipo Booleano)\n",
    "- `date_posted` — a data que a propaganda foi publicada\n",
    "- `days_listed` — dias desde a publicação até a retirada\n",
    "\n",
    "Agora vamos explorar nossos dados e querer ver quantas colunas e linhas ele tem, veja algumas linhas para verificar possíveis problemas com os dados."
   ]
  },
  {
   "cell_type": "code",
   "execution_count": 3,
   "metadata": {},
   "outputs": [
    {
     "name": "stdout",
     "output_type": "stream",
     "text": [
      "<class 'pandas.core.frame.DataFrame'>\n",
      "RangeIndex: 51525 entries, 0 to 51524\n",
      "Data columns (total 13 columns):\n",
      " #   Column        Non-Null Count  Dtype  \n",
      "---  ------        --------------  -----  \n",
      " 0   price         51525 non-null  int64  \n",
      " 1   model_year    47906 non-null  float64\n",
      " 2   model         51525 non-null  object \n",
      " 3   condition     51525 non-null  object \n",
      " 4   cylinders     46265 non-null  float64\n",
      " 5   fuel          51525 non-null  object \n",
      " 6   odometer      43633 non-null  float64\n",
      " 7   transmission  51525 non-null  object \n",
      " 8   type          51525 non-null  object \n",
      " 9   paint_color   42258 non-null  object \n",
      " 10  is_4wd        25572 non-null  float64\n",
      " 11  date_posted   51525 non-null  object \n",
      " 12  days_listed   51525 non-null  int64  \n",
      "dtypes: float64(4), int64(2), object(7)\n",
      "memory usage: 5.1+ MB\n"
     ]
    },
    {
     "data": {
      "text/html": [
       "<div>\n",
       "<style scoped>\n",
       "    .dataframe tbody tr th:only-of-type {\n",
       "        vertical-align: middle;\n",
       "    }\n",
       "\n",
       "    .dataframe tbody tr th {\n",
       "        vertical-align: top;\n",
       "    }\n",
       "\n",
       "    .dataframe thead th {\n",
       "        text-align: right;\n",
       "    }\n",
       "</style>\n",
       "<table border=\"1\" class=\"dataframe\">\n",
       "  <thead>\n",
       "    <tr style=\"text-align: right;\">\n",
       "      <th></th>\n",
       "      <th>price</th>\n",
       "      <th>model_year</th>\n",
       "      <th>cylinders</th>\n",
       "      <th>odometer</th>\n",
       "      <th>is_4wd</th>\n",
       "      <th>days_listed</th>\n",
       "    </tr>\n",
       "  </thead>\n",
       "  <tbody>\n",
       "    <tr>\n",
       "      <th>count</th>\n",
       "      <td>51525.000000</td>\n",
       "      <td>47906.000000</td>\n",
       "      <td>46265.000000</td>\n",
       "      <td>43633.000000</td>\n",
       "      <td>25572.0</td>\n",
       "      <td>51525.00000</td>\n",
       "    </tr>\n",
       "    <tr>\n",
       "      <th>mean</th>\n",
       "      <td>12132.464920</td>\n",
       "      <td>2009.750470</td>\n",
       "      <td>6.125235</td>\n",
       "      <td>115553.461738</td>\n",
       "      <td>1.0</td>\n",
       "      <td>39.55476</td>\n",
       "    </tr>\n",
       "    <tr>\n",
       "      <th>std</th>\n",
       "      <td>10040.803015</td>\n",
       "      <td>6.282065</td>\n",
       "      <td>1.660360</td>\n",
       "      <td>65094.611341</td>\n",
       "      <td>0.0</td>\n",
       "      <td>28.20427</td>\n",
       "    </tr>\n",
       "    <tr>\n",
       "      <th>min</th>\n",
       "      <td>1.000000</td>\n",
       "      <td>1908.000000</td>\n",
       "      <td>3.000000</td>\n",
       "      <td>0.000000</td>\n",
       "      <td>1.0</td>\n",
       "      <td>0.00000</td>\n",
       "    </tr>\n",
       "    <tr>\n",
       "      <th>25%</th>\n",
       "      <td>5000.000000</td>\n",
       "      <td>2006.000000</td>\n",
       "      <td>4.000000</td>\n",
       "      <td>70000.000000</td>\n",
       "      <td>1.0</td>\n",
       "      <td>19.00000</td>\n",
       "    </tr>\n",
       "    <tr>\n",
       "      <th>50%</th>\n",
       "      <td>9000.000000</td>\n",
       "      <td>2011.000000</td>\n",
       "      <td>6.000000</td>\n",
       "      <td>113000.000000</td>\n",
       "      <td>1.0</td>\n",
       "      <td>33.00000</td>\n",
       "    </tr>\n",
       "    <tr>\n",
       "      <th>75%</th>\n",
       "      <td>16839.000000</td>\n",
       "      <td>2014.000000</td>\n",
       "      <td>8.000000</td>\n",
       "      <td>155000.000000</td>\n",
       "      <td>1.0</td>\n",
       "      <td>53.00000</td>\n",
       "    </tr>\n",
       "    <tr>\n",
       "      <th>max</th>\n",
       "      <td>375000.000000</td>\n",
       "      <td>2019.000000</td>\n",
       "      <td>12.000000</td>\n",
       "      <td>990000.000000</td>\n",
       "      <td>1.0</td>\n",
       "      <td>271.00000</td>\n",
       "    </tr>\n",
       "  </tbody>\n",
       "</table>\n",
       "</div>"
      ],
      "text/plain": [
       "               price    model_year     cylinders       odometer   is_4wd  \\\n",
       "count   51525.000000  47906.000000  46265.000000   43633.000000  25572.0   \n",
       "mean    12132.464920   2009.750470      6.125235  115553.461738      1.0   \n",
       "std     10040.803015      6.282065      1.660360   65094.611341      0.0   \n",
       "min         1.000000   1908.000000      3.000000       0.000000      1.0   \n",
       "25%      5000.000000   2006.000000      4.000000   70000.000000      1.0   \n",
       "50%      9000.000000   2011.000000      6.000000  113000.000000      1.0   \n",
       "75%     16839.000000   2014.000000      8.000000  155000.000000      1.0   \n",
       "max    375000.000000   2019.000000     12.000000  990000.000000      1.0   \n",
       "\n",
       "       days_listed  \n",
       "count  51525.00000  \n",
       "mean      39.55476  \n",
       "std       28.20427  \n",
       "min        0.00000  \n",
       "25%       19.00000  \n",
       "50%       33.00000  \n",
       "75%       53.00000  \n",
       "max      271.00000  "
      ]
     },
     "execution_count": 3,
     "metadata": {},
     "output_type": "execute_result"
    }
   ],
   "source": [
    "# imprima as informações gerais/resumidas sobre o DataFrame\n",
    "df.info()\n",
    "df.describe()\n"
   ]
  },
  {
   "cell_type": "code",
   "execution_count": 4,
   "metadata": {},
   "outputs": [
    {
     "data": {
      "text/html": [
       "<div>\n",
       "<style scoped>\n",
       "    .dataframe tbody tr th:only-of-type {\n",
       "        vertical-align: middle;\n",
       "    }\n",
       "\n",
       "    .dataframe tbody tr th {\n",
       "        vertical-align: top;\n",
       "    }\n",
       "\n",
       "    .dataframe thead th {\n",
       "        text-align: right;\n",
       "    }\n",
       "</style>\n",
       "<table border=\"1\" class=\"dataframe\">\n",
       "  <thead>\n",
       "    <tr style=\"text-align: right;\">\n",
       "      <th></th>\n",
       "      <th>price</th>\n",
       "      <th>model_year</th>\n",
       "      <th>model</th>\n",
       "      <th>condition</th>\n",
       "      <th>cylinders</th>\n",
       "      <th>fuel</th>\n",
       "      <th>odometer</th>\n",
       "      <th>transmission</th>\n",
       "      <th>type</th>\n",
       "      <th>paint_color</th>\n",
       "      <th>is_4wd</th>\n",
       "      <th>date_posted</th>\n",
       "      <th>days_listed</th>\n",
       "    </tr>\n",
       "  </thead>\n",
       "  <tbody>\n",
       "    <tr>\n",
       "      <th>0</th>\n",
       "      <td>9400</td>\n",
       "      <td>2011.0</td>\n",
       "      <td>bmw x5</td>\n",
       "      <td>good</td>\n",
       "      <td>6.0</td>\n",
       "      <td>gas</td>\n",
       "      <td>145000.0</td>\n",
       "      <td>automatic</td>\n",
       "      <td>SUV</td>\n",
       "      <td>NaN</td>\n",
       "      <td>1.0</td>\n",
       "      <td>2018-06-23</td>\n",
       "      <td>19</td>\n",
       "    </tr>\n",
       "    <tr>\n",
       "      <th>1</th>\n",
       "      <td>25500</td>\n",
       "      <td>NaN</td>\n",
       "      <td>ford f-150</td>\n",
       "      <td>good</td>\n",
       "      <td>6.0</td>\n",
       "      <td>gas</td>\n",
       "      <td>88705.0</td>\n",
       "      <td>automatic</td>\n",
       "      <td>pickup</td>\n",
       "      <td>white</td>\n",
       "      <td>1.0</td>\n",
       "      <td>2018-10-19</td>\n",
       "      <td>50</td>\n",
       "    </tr>\n",
       "    <tr>\n",
       "      <th>2</th>\n",
       "      <td>5500</td>\n",
       "      <td>2013.0</td>\n",
       "      <td>hyundai sonata</td>\n",
       "      <td>like new</td>\n",
       "      <td>4.0</td>\n",
       "      <td>gas</td>\n",
       "      <td>110000.0</td>\n",
       "      <td>automatic</td>\n",
       "      <td>sedan</td>\n",
       "      <td>red</td>\n",
       "      <td>NaN</td>\n",
       "      <td>2019-02-07</td>\n",
       "      <td>79</td>\n",
       "    </tr>\n",
       "    <tr>\n",
       "      <th>3</th>\n",
       "      <td>1500</td>\n",
       "      <td>2003.0</td>\n",
       "      <td>ford f-150</td>\n",
       "      <td>fair</td>\n",
       "      <td>8.0</td>\n",
       "      <td>gas</td>\n",
       "      <td>NaN</td>\n",
       "      <td>automatic</td>\n",
       "      <td>pickup</td>\n",
       "      <td>NaN</td>\n",
       "      <td>NaN</td>\n",
       "      <td>2019-03-22</td>\n",
       "      <td>9</td>\n",
       "    </tr>\n",
       "    <tr>\n",
       "      <th>4</th>\n",
       "      <td>14900</td>\n",
       "      <td>2017.0</td>\n",
       "      <td>chrysler 200</td>\n",
       "      <td>excellent</td>\n",
       "      <td>4.0</td>\n",
       "      <td>gas</td>\n",
       "      <td>80903.0</td>\n",
       "      <td>automatic</td>\n",
       "      <td>sedan</td>\n",
       "      <td>black</td>\n",
       "      <td>NaN</td>\n",
       "      <td>2019-04-02</td>\n",
       "      <td>28</td>\n",
       "    </tr>\n",
       "    <tr>\n",
       "      <th>5</th>\n",
       "      <td>14990</td>\n",
       "      <td>2014.0</td>\n",
       "      <td>chrysler 300</td>\n",
       "      <td>excellent</td>\n",
       "      <td>6.0</td>\n",
       "      <td>gas</td>\n",
       "      <td>57954.0</td>\n",
       "      <td>automatic</td>\n",
       "      <td>sedan</td>\n",
       "      <td>black</td>\n",
       "      <td>1.0</td>\n",
       "      <td>2018-06-20</td>\n",
       "      <td>15</td>\n",
       "    </tr>\n",
       "    <tr>\n",
       "      <th>6</th>\n",
       "      <td>12990</td>\n",
       "      <td>2015.0</td>\n",
       "      <td>toyota camry</td>\n",
       "      <td>excellent</td>\n",
       "      <td>4.0</td>\n",
       "      <td>gas</td>\n",
       "      <td>79212.0</td>\n",
       "      <td>automatic</td>\n",
       "      <td>sedan</td>\n",
       "      <td>white</td>\n",
       "      <td>NaN</td>\n",
       "      <td>2018-12-27</td>\n",
       "      <td>73</td>\n",
       "    </tr>\n",
       "    <tr>\n",
       "      <th>7</th>\n",
       "      <td>15990</td>\n",
       "      <td>2013.0</td>\n",
       "      <td>honda pilot</td>\n",
       "      <td>excellent</td>\n",
       "      <td>6.0</td>\n",
       "      <td>gas</td>\n",
       "      <td>109473.0</td>\n",
       "      <td>automatic</td>\n",
       "      <td>SUV</td>\n",
       "      <td>black</td>\n",
       "      <td>1.0</td>\n",
       "      <td>2019-01-07</td>\n",
       "      <td>68</td>\n",
       "    </tr>\n",
       "    <tr>\n",
       "      <th>8</th>\n",
       "      <td>11500</td>\n",
       "      <td>2012.0</td>\n",
       "      <td>kia sorento</td>\n",
       "      <td>excellent</td>\n",
       "      <td>4.0</td>\n",
       "      <td>gas</td>\n",
       "      <td>104174.0</td>\n",
       "      <td>automatic</td>\n",
       "      <td>SUV</td>\n",
       "      <td>NaN</td>\n",
       "      <td>1.0</td>\n",
       "      <td>2018-07-16</td>\n",
       "      <td>19</td>\n",
       "    </tr>\n",
       "    <tr>\n",
       "      <th>9</th>\n",
       "      <td>9200</td>\n",
       "      <td>2008.0</td>\n",
       "      <td>honda pilot</td>\n",
       "      <td>excellent</td>\n",
       "      <td>NaN</td>\n",
       "      <td>gas</td>\n",
       "      <td>147191.0</td>\n",
       "      <td>automatic</td>\n",
       "      <td>SUV</td>\n",
       "      <td>blue</td>\n",
       "      <td>1.0</td>\n",
       "      <td>2019-02-15</td>\n",
       "      <td>17</td>\n",
       "    </tr>\n",
       "  </tbody>\n",
       "</table>\n",
       "</div>"
      ],
      "text/plain": [
       "   price  model_year           model  condition  cylinders fuel  odometer  \\\n",
       "0   9400      2011.0          bmw x5       good        6.0  gas  145000.0   \n",
       "1  25500         NaN      ford f-150       good        6.0  gas   88705.0   \n",
       "2   5500      2013.0  hyundai sonata   like new        4.0  gas  110000.0   \n",
       "3   1500      2003.0      ford f-150       fair        8.0  gas       NaN   \n",
       "4  14900      2017.0    chrysler 200  excellent        4.0  gas   80903.0   \n",
       "5  14990      2014.0    chrysler 300  excellent        6.0  gas   57954.0   \n",
       "6  12990      2015.0    toyota camry  excellent        4.0  gas   79212.0   \n",
       "7  15990      2013.0     honda pilot  excellent        6.0  gas  109473.0   \n",
       "8  11500      2012.0     kia sorento  excellent        4.0  gas  104174.0   \n",
       "9   9200      2008.0     honda pilot  excellent        NaN  gas  147191.0   \n",
       "\n",
       "  transmission    type paint_color  is_4wd date_posted  days_listed  \n",
       "0    automatic     SUV         NaN     1.0  2018-06-23           19  \n",
       "1    automatic  pickup       white     1.0  2018-10-19           50  \n",
       "2    automatic   sedan         red     NaN  2019-02-07           79  \n",
       "3    automatic  pickup         NaN     NaN  2019-03-22            9  \n",
       "4    automatic   sedan       black     NaN  2019-04-02           28  \n",
       "5    automatic   sedan       black     1.0  2018-06-20           15  \n",
       "6    automatic   sedan       white     NaN  2018-12-27           73  \n",
       "7    automatic     SUV       black     1.0  2019-01-07           68  \n",
       "8    automatic     SUV         NaN     1.0  2018-07-16           19  \n",
       "9    automatic     SUV        blue     1.0  2019-02-15           17  "
      ]
     },
     "execution_count": 4,
     "metadata": {},
     "output_type": "execute_result"
    }
   ],
   "source": [
    "# imprima uma amostragem dos dados\n",
    "df.head(10)\n"
   ]
  },
  {
   "cell_type": "markdown",
   "metadata": {},
   "source": [
    "Percebemos que não há valores duplicados e algumas colunas estão com dados faltantes, utilizaremos a melhor forma, mas para isso precisamos investigar mais, para que isso não atrapalhe em nossa pesquisa."
   ]
  },
  {
   "cell_type": "code",
   "execution_count": 5,
   "metadata": {},
   "outputs": [
    {
     "data": {
      "text/plain": [
       "0"
      ]
     },
     "execution_count": 5,
     "metadata": {},
     "output_type": "execute_result"
    }
   ],
   "source": [
    "df.duplicated().sum()"
   ]
  },
  {
   "cell_type": "markdown",
   "metadata": {},
   "source": [
    "Há valores inconsistentes na coluna 'Price'. por exemplo: valor de um carro ser avaliado em 1 dolar."
   ]
  },
  {
   "cell_type": "code",
   "execution_count": 6,
   "metadata": {},
   "outputs": [
    {
     "data": {
      "text/plain": [
       "count     51525.000000\n",
       "mean      12132.464920\n",
       "std       10040.803015\n",
       "min           1.000000\n",
       "25%        5000.000000\n",
       "50%        9000.000000\n",
       "75%       16839.000000\n",
       "max      375000.000000\n",
       "Name: price, dtype: float64"
      ]
     },
     "execution_count": 6,
     "metadata": {},
     "output_type": "execute_result"
    }
   ],
   "source": [
    "df['price'].describe()"
   ]
  },
  {
   "cell_type": "markdown",
   "metadata": {},
   "source": [
    "Há valores faltantes nas seguintes colunas:'model_year' , 'cylinders' , 'odometer' ,'paint_color' ,'paint_color' ,'is_4wd'(sendo a maior em valores faltantes)."
   ]
  },
  {
   "cell_type": "code",
   "execution_count": 7,
   "metadata": {},
   "outputs": [
    {
     "data": {
      "text/plain": [
       "price               0\n",
       "model_year       3619\n",
       "model               0\n",
       "condition           0\n",
       "cylinders        5260\n",
       "fuel                0\n",
       "odometer         7892\n",
       "transmission        0\n",
       "type                0\n",
       "paint_color      9267\n",
       "is_4wd          25953\n",
       "date_posted         0\n",
       "days_listed         0\n",
       "dtype: int64"
      ]
     },
     "execution_count": 7,
     "metadata": {},
     "output_type": "execute_result"
    }
   ],
   "source": [
    "df.isna().sum()"
   ]
  },
  {
   "cell_type": "code",
   "execution_count": 8,
   "metadata": {},
   "outputs": [
    {
     "data": {
      "text/plain": [
       "price            0.000000\n",
       "model_year       7.023775\n",
       "model            0.000000\n",
       "condition        0.000000\n",
       "cylinders       10.208637\n",
       "fuel             0.000000\n",
       "odometer        15.316836\n",
       "transmission     0.000000\n",
       "type             0.000000\n",
       "paint_color     17.985444\n",
       "is_4wd          50.369723\n",
       "date_posted      0.000000\n",
       "days_listed      0.000000\n",
       "dtype: float64"
      ]
     },
     "execution_count": 8,
     "metadata": {},
     "output_type": "execute_result"
    }
   ],
   "source": [
    "(df.isnull().sum() / df.shape[0]) * 100"
   ]
  },
  {
   "cell_type": "markdown",
   "metadata": {},
   "source": [
    "<div class=\"alert alert-block alert-success\">\n",
    "<b>Comentário do corretor</b> <a class=\"tocSkip\"></a>\n",
    "\n",
    "Boas observações!\n",
    "</div>"
   ]
  },
  {
   "cell_type": "markdown",
   "metadata": {},
   "source": [
    "### Conclusões e próximos passos\n",
    "\n",
    "Na coluna 'is_4wd ' podemos notar 50% dos dados sobre o nosso dataFrame estão faltantes. Ela é uma coluna booleana, por essa razão, se um campo booleano contém apenas valores True ou False, é razoável presumir que valores ausentes são False.\n",
    "Em 'model_year', os valores faltantes correspondem a 7%, podemos substituir os valores ausente com a mediana de seus dados, correlacionando com a coluna 'model', sendo assim, não impactando na filtragem de dados."
   ]
  },
  {
   "cell_type": "markdown",
   "metadata": {},
   "source": [
    "<div class=\"alert alert-block alert-success\">\n",
    "<b>Comentário do corretor</b> <a class=\"tocSkip\"></a>\n",
    "\n",
    "Bem explicado e observado!\n",
    "</div>"
   ]
  },
  {
   "cell_type": "code",
   "execution_count": 9,
   "metadata": {
    "scrolled": true
   },
   "outputs": [
    {
     "data": {
      "text/html": [
       "<div>\n",
       "<style scoped>\n",
       "    .dataframe tbody tr th:only-of-type {\n",
       "        vertical-align: middle;\n",
       "    }\n",
       "\n",
       "    .dataframe tbody tr th {\n",
       "        vertical-align: top;\n",
       "    }\n",
       "\n",
       "    .dataframe thead th {\n",
       "        text-align: right;\n",
       "    }\n",
       "</style>\n",
       "<table border=\"1\" class=\"dataframe\">\n",
       "  <thead>\n",
       "    <tr style=\"text-align: right;\">\n",
       "      <th></th>\n",
       "      <th>price</th>\n",
       "      <th>model_year</th>\n",
       "      <th>model</th>\n",
       "      <th>condition</th>\n",
       "      <th>cylinders</th>\n",
       "      <th>fuel</th>\n",
       "      <th>odometer</th>\n",
       "      <th>transmission</th>\n",
       "      <th>type</th>\n",
       "      <th>paint_color</th>\n",
       "      <th>is_4wd</th>\n",
       "      <th>date_posted</th>\n",
       "      <th>days_listed</th>\n",
       "    </tr>\n",
       "  </thead>\n",
       "  <tbody>\n",
       "    <tr>\n",
       "      <th>2</th>\n",
       "      <td>5500</td>\n",
       "      <td>2013.0</td>\n",
       "      <td>hyundai sonata</td>\n",
       "      <td>like new</td>\n",
       "      <td>4.0</td>\n",
       "      <td>gas</td>\n",
       "      <td>110000.0</td>\n",
       "      <td>automatic</td>\n",
       "      <td>sedan</td>\n",
       "      <td>red</td>\n",
       "      <td>NaN</td>\n",
       "      <td>2019-02-07</td>\n",
       "      <td>79</td>\n",
       "    </tr>\n",
       "    <tr>\n",
       "      <th>3</th>\n",
       "      <td>1500</td>\n",
       "      <td>2003.0</td>\n",
       "      <td>ford f-150</td>\n",
       "      <td>fair</td>\n",
       "      <td>8.0</td>\n",
       "      <td>gas</td>\n",
       "      <td>NaN</td>\n",
       "      <td>automatic</td>\n",
       "      <td>pickup</td>\n",
       "      <td>NaN</td>\n",
       "      <td>NaN</td>\n",
       "      <td>2019-03-22</td>\n",
       "      <td>9</td>\n",
       "    </tr>\n",
       "    <tr>\n",
       "      <th>4</th>\n",
       "      <td>14900</td>\n",
       "      <td>2017.0</td>\n",
       "      <td>chrysler 200</td>\n",
       "      <td>excellent</td>\n",
       "      <td>4.0</td>\n",
       "      <td>gas</td>\n",
       "      <td>80903.0</td>\n",
       "      <td>automatic</td>\n",
       "      <td>sedan</td>\n",
       "      <td>black</td>\n",
       "      <td>NaN</td>\n",
       "      <td>2019-04-02</td>\n",
       "      <td>28</td>\n",
       "    </tr>\n",
       "    <tr>\n",
       "      <th>6</th>\n",
       "      <td>12990</td>\n",
       "      <td>2015.0</td>\n",
       "      <td>toyota camry</td>\n",
       "      <td>excellent</td>\n",
       "      <td>4.0</td>\n",
       "      <td>gas</td>\n",
       "      <td>79212.0</td>\n",
       "      <td>automatic</td>\n",
       "      <td>sedan</td>\n",
       "      <td>white</td>\n",
       "      <td>NaN</td>\n",
       "      <td>2018-12-27</td>\n",
       "      <td>73</td>\n",
       "    </tr>\n",
       "    <tr>\n",
       "      <th>11</th>\n",
       "      <td>8990</td>\n",
       "      <td>2012.0</td>\n",
       "      <td>honda accord</td>\n",
       "      <td>excellent</td>\n",
       "      <td>4.0</td>\n",
       "      <td>gas</td>\n",
       "      <td>111142.0</td>\n",
       "      <td>automatic</td>\n",
       "      <td>sedan</td>\n",
       "      <td>grey</td>\n",
       "      <td>NaN</td>\n",
       "      <td>2019-03-28</td>\n",
       "      <td>29</td>\n",
       "    </tr>\n",
       "    <tr>\n",
       "      <th>...</th>\n",
       "      <td>...</td>\n",
       "      <td>...</td>\n",
       "      <td>...</td>\n",
       "      <td>...</td>\n",
       "      <td>...</td>\n",
       "      <td>...</td>\n",
       "      <td>...</td>\n",
       "      <td>...</td>\n",
       "      <td>...</td>\n",
       "      <td>...</td>\n",
       "      <td>...</td>\n",
       "      <td>...</td>\n",
       "      <td>...</td>\n",
       "    </tr>\n",
       "    <tr>\n",
       "      <th>51520</th>\n",
       "      <td>9249</td>\n",
       "      <td>2013.0</td>\n",
       "      <td>nissan maxima</td>\n",
       "      <td>like new</td>\n",
       "      <td>6.0</td>\n",
       "      <td>gas</td>\n",
       "      <td>88136.0</td>\n",
       "      <td>automatic</td>\n",
       "      <td>sedan</td>\n",
       "      <td>black</td>\n",
       "      <td>NaN</td>\n",
       "      <td>2018-10-03</td>\n",
       "      <td>37</td>\n",
       "    </tr>\n",
       "    <tr>\n",
       "      <th>51521</th>\n",
       "      <td>2700</td>\n",
       "      <td>2002.0</td>\n",
       "      <td>honda civic</td>\n",
       "      <td>salvage</td>\n",
       "      <td>4.0</td>\n",
       "      <td>gas</td>\n",
       "      <td>181500.0</td>\n",
       "      <td>automatic</td>\n",
       "      <td>sedan</td>\n",
       "      <td>white</td>\n",
       "      <td>NaN</td>\n",
       "      <td>2018-11-14</td>\n",
       "      <td>22</td>\n",
       "    </tr>\n",
       "    <tr>\n",
       "      <th>51522</th>\n",
       "      <td>3950</td>\n",
       "      <td>2009.0</td>\n",
       "      <td>hyundai sonata</td>\n",
       "      <td>excellent</td>\n",
       "      <td>4.0</td>\n",
       "      <td>gas</td>\n",
       "      <td>128000.0</td>\n",
       "      <td>automatic</td>\n",
       "      <td>sedan</td>\n",
       "      <td>blue</td>\n",
       "      <td>NaN</td>\n",
       "      <td>2018-11-15</td>\n",
       "      <td>32</td>\n",
       "    </tr>\n",
       "    <tr>\n",
       "      <th>51523</th>\n",
       "      <td>7455</td>\n",
       "      <td>2013.0</td>\n",
       "      <td>toyota corolla</td>\n",
       "      <td>good</td>\n",
       "      <td>4.0</td>\n",
       "      <td>gas</td>\n",
       "      <td>139573.0</td>\n",
       "      <td>automatic</td>\n",
       "      <td>sedan</td>\n",
       "      <td>black</td>\n",
       "      <td>NaN</td>\n",
       "      <td>2018-07-02</td>\n",
       "      <td>71</td>\n",
       "    </tr>\n",
       "    <tr>\n",
       "      <th>51524</th>\n",
       "      <td>6300</td>\n",
       "      <td>2014.0</td>\n",
       "      <td>nissan altima</td>\n",
       "      <td>good</td>\n",
       "      <td>4.0</td>\n",
       "      <td>gas</td>\n",
       "      <td>NaN</td>\n",
       "      <td>automatic</td>\n",
       "      <td>sedan</td>\n",
       "      <td>NaN</td>\n",
       "      <td>NaN</td>\n",
       "      <td>2018-06-05</td>\n",
       "      <td>10</td>\n",
       "    </tr>\n",
       "  </tbody>\n",
       "</table>\n",
       "<p>25953 rows × 13 columns</p>\n",
       "</div>"
      ],
      "text/plain": [
       "       price  model_year           model  condition  cylinders fuel  odometer  \\\n",
       "2       5500      2013.0  hyundai sonata   like new        4.0  gas  110000.0   \n",
       "3       1500      2003.0      ford f-150       fair        8.0  gas       NaN   \n",
       "4      14900      2017.0    chrysler 200  excellent        4.0  gas   80903.0   \n",
       "6      12990      2015.0    toyota camry  excellent        4.0  gas   79212.0   \n",
       "11      8990      2012.0    honda accord  excellent        4.0  gas  111142.0   \n",
       "...      ...         ...             ...        ...        ...  ...       ...   \n",
       "51520   9249      2013.0   nissan maxima   like new        6.0  gas   88136.0   \n",
       "51521   2700      2002.0     honda civic    salvage        4.0  gas  181500.0   \n",
       "51522   3950      2009.0  hyundai sonata  excellent        4.0  gas  128000.0   \n",
       "51523   7455      2013.0  toyota corolla       good        4.0  gas  139573.0   \n",
       "51524   6300      2014.0   nissan altima       good        4.0  gas       NaN   \n",
       "\n",
       "      transmission    type paint_color  is_4wd date_posted  days_listed  \n",
       "2        automatic   sedan         red     NaN  2019-02-07           79  \n",
       "3        automatic  pickup         NaN     NaN  2019-03-22            9  \n",
       "4        automatic   sedan       black     NaN  2019-04-02           28  \n",
       "6        automatic   sedan       white     NaN  2018-12-27           73  \n",
       "11       automatic   sedan        grey     NaN  2019-03-28           29  \n",
       "...            ...     ...         ...     ...         ...          ...  \n",
       "51520    automatic   sedan       black     NaN  2018-10-03           37  \n",
       "51521    automatic   sedan       white     NaN  2018-11-14           22  \n",
       "51522    automatic   sedan        blue     NaN  2018-11-15           32  \n",
       "51523    automatic   sedan       black     NaN  2018-07-02           71  \n",
       "51524    automatic   sedan         NaN     NaN  2018-06-05           10  \n",
       "\n",
       "[25953 rows x 13 columns]"
      ]
     },
     "execution_count": 9,
     "metadata": {},
     "output_type": "execute_result"
    }
   ],
   "source": [
    "df[df['is_4wd'].isna()]"
   ]
  },
  {
   "cell_type": "code",
   "execution_count": 10,
   "metadata": {},
   "outputs": [
    {
     "data": {
      "text/plain": [
       "1.0    25572\n",
       "Name: is_4wd, dtype: int64"
      ]
     },
     "execution_count": 10,
     "metadata": {},
     "output_type": "execute_result"
    }
   ],
   "source": [
    "df['is_4wd'].value_counts()"
   ]
  },
  {
   "cell_type": "code",
   "execution_count": 11,
   "metadata": {},
   "outputs": [
    {
     "data": {
      "text/html": [
       "<div>\n",
       "<style scoped>\n",
       "    .dataframe tbody tr th:only-of-type {\n",
       "        vertical-align: middle;\n",
       "    }\n",
       "\n",
       "    .dataframe tbody tr th {\n",
       "        vertical-align: top;\n",
       "    }\n",
       "\n",
       "    .dataframe thead th {\n",
       "        text-align: right;\n",
       "    }\n",
       "</style>\n",
       "<table border=\"1\" class=\"dataframe\">\n",
       "  <thead>\n",
       "    <tr style=\"text-align: right;\">\n",
       "      <th></th>\n",
       "      <th>price</th>\n",
       "      <th>model_year</th>\n",
       "      <th>model</th>\n",
       "      <th>condition</th>\n",
       "      <th>cylinders</th>\n",
       "      <th>fuel</th>\n",
       "      <th>odometer</th>\n",
       "      <th>transmission</th>\n",
       "      <th>type</th>\n",
       "      <th>paint_color</th>\n",
       "      <th>is_4wd</th>\n",
       "      <th>date_posted</th>\n",
       "      <th>days_listed</th>\n",
       "    </tr>\n",
       "  </thead>\n",
       "  <tbody>\n",
       "    <tr>\n",
       "      <th>1</th>\n",
       "      <td>25500</td>\n",
       "      <td>NaN</td>\n",
       "      <td>ford f-150</td>\n",
       "      <td>good</td>\n",
       "      <td>6.0</td>\n",
       "      <td>gas</td>\n",
       "      <td>88705.0</td>\n",
       "      <td>automatic</td>\n",
       "      <td>pickup</td>\n",
       "      <td>white</td>\n",
       "      <td>1.0</td>\n",
       "      <td>2018-10-19</td>\n",
       "      <td>50</td>\n",
       "    </tr>\n",
       "    <tr>\n",
       "      <th>20</th>\n",
       "      <td>6990</td>\n",
       "      <td>NaN</td>\n",
       "      <td>chevrolet tahoe</td>\n",
       "      <td>excellent</td>\n",
       "      <td>8.0</td>\n",
       "      <td>gas</td>\n",
       "      <td>147485.0</td>\n",
       "      <td>automatic</td>\n",
       "      <td>SUV</td>\n",
       "      <td>silver</td>\n",
       "      <td>1.0</td>\n",
       "      <td>2018-08-05</td>\n",
       "      <td>28</td>\n",
       "    </tr>\n",
       "    <tr>\n",
       "      <th>65</th>\n",
       "      <td>12800</td>\n",
       "      <td>NaN</td>\n",
       "      <td>ford f-150</td>\n",
       "      <td>excellent</td>\n",
       "      <td>6.0</td>\n",
       "      <td>gas</td>\n",
       "      <td>108500.0</td>\n",
       "      <td>automatic</td>\n",
       "      <td>pickup</td>\n",
       "      <td>white</td>\n",
       "      <td>NaN</td>\n",
       "      <td>2018-09-23</td>\n",
       "      <td>15</td>\n",
       "    </tr>\n",
       "    <tr>\n",
       "      <th>69</th>\n",
       "      <td>7800</td>\n",
       "      <td>NaN</td>\n",
       "      <td>ford f-150</td>\n",
       "      <td>like new</td>\n",
       "      <td>8.0</td>\n",
       "      <td>gas</td>\n",
       "      <td>97510.0</td>\n",
       "      <td>automatic</td>\n",
       "      <td>truck</td>\n",
       "      <td>white</td>\n",
       "      <td>1.0</td>\n",
       "      <td>2019-02-20</td>\n",
       "      <td>39</td>\n",
       "    </tr>\n",
       "    <tr>\n",
       "      <th>72</th>\n",
       "      <td>3650</td>\n",
       "      <td>NaN</td>\n",
       "      <td>subaru impreza</td>\n",
       "      <td>excellent</td>\n",
       "      <td>NaN</td>\n",
       "      <td>gas</td>\n",
       "      <td>74000.0</td>\n",
       "      <td>automatic</td>\n",
       "      <td>sedan</td>\n",
       "      <td>blue</td>\n",
       "      <td>1.0</td>\n",
       "      <td>2018-08-07</td>\n",
       "      <td>60</td>\n",
       "    </tr>\n",
       "    <tr>\n",
       "      <th>...</th>\n",
       "      <td>...</td>\n",
       "      <td>...</td>\n",
       "      <td>...</td>\n",
       "      <td>...</td>\n",
       "      <td>...</td>\n",
       "      <td>...</td>\n",
       "      <td>...</td>\n",
       "      <td>...</td>\n",
       "      <td>...</td>\n",
       "      <td>...</td>\n",
       "      <td>...</td>\n",
       "      <td>...</td>\n",
       "      <td>...</td>\n",
       "    </tr>\n",
       "    <tr>\n",
       "      <th>51464</th>\n",
       "      <td>8890</td>\n",
       "      <td>NaN</td>\n",
       "      <td>ford f250 super duty</td>\n",
       "      <td>good</td>\n",
       "      <td>8.0</td>\n",
       "      <td>gas</td>\n",
       "      <td>135778.0</td>\n",
       "      <td>automatic</td>\n",
       "      <td>truck</td>\n",
       "      <td>red</td>\n",
       "      <td>1.0</td>\n",
       "      <td>2018-11-28</td>\n",
       "      <td>24</td>\n",
       "    </tr>\n",
       "    <tr>\n",
       "      <th>51465</th>\n",
       "      <td>34595</td>\n",
       "      <td>NaN</td>\n",
       "      <td>gmc yukon</td>\n",
       "      <td>excellent</td>\n",
       "      <td>8.0</td>\n",
       "      <td>gas</td>\n",
       "      <td>86456.0</td>\n",
       "      <td>automatic</td>\n",
       "      <td>SUV</td>\n",
       "      <td>silver</td>\n",
       "      <td>1.0</td>\n",
       "      <td>2019-04-18</td>\n",
       "      <td>13</td>\n",
       "    </tr>\n",
       "    <tr>\n",
       "      <th>51487</th>\n",
       "      <td>1495</td>\n",
       "      <td>NaN</td>\n",
       "      <td>ford f-150</td>\n",
       "      <td>fair</td>\n",
       "      <td>6.0</td>\n",
       "      <td>gas</td>\n",
       "      <td>15804.0</td>\n",
       "      <td>manual</td>\n",
       "      <td>truck</td>\n",
       "      <td>white</td>\n",
       "      <td>1.0</td>\n",
       "      <td>2018-09-18</td>\n",
       "      <td>56</td>\n",
       "    </tr>\n",
       "    <tr>\n",
       "      <th>51488</th>\n",
       "      <td>21900</td>\n",
       "      <td>NaN</td>\n",
       "      <td>chevrolet silverado 3500hd</td>\n",
       "      <td>excellent</td>\n",
       "      <td>8.0</td>\n",
       "      <td>diesel</td>\n",
       "      <td>203000.0</td>\n",
       "      <td>automatic</td>\n",
       "      <td>truck</td>\n",
       "      <td>white</td>\n",
       "      <td>1.0</td>\n",
       "      <td>2018-12-27</td>\n",
       "      <td>37</td>\n",
       "    </tr>\n",
       "    <tr>\n",
       "      <th>51508</th>\n",
       "      <td>4950</td>\n",
       "      <td>NaN</td>\n",
       "      <td>chrysler town &amp; country</td>\n",
       "      <td>excellent</td>\n",
       "      <td>6.0</td>\n",
       "      <td>gas</td>\n",
       "      <td>150000.0</td>\n",
       "      <td>automatic</td>\n",
       "      <td>mini-van</td>\n",
       "      <td>silver</td>\n",
       "      <td>NaN</td>\n",
       "      <td>2018-06-30</td>\n",
       "      <td>48</td>\n",
       "    </tr>\n",
       "  </tbody>\n",
       "</table>\n",
       "<p>3619 rows × 13 columns</p>\n",
       "</div>"
      ],
      "text/plain": [
       "       price  model_year                       model  condition  cylinders  \\\n",
       "1      25500         NaN                  ford f-150       good        6.0   \n",
       "20      6990         NaN             chevrolet tahoe  excellent        8.0   \n",
       "65     12800         NaN                  ford f-150  excellent        6.0   \n",
       "69      7800         NaN                  ford f-150   like new        8.0   \n",
       "72      3650         NaN              subaru impreza  excellent        NaN   \n",
       "...      ...         ...                         ...        ...        ...   \n",
       "51464   8890         NaN        ford f250 super duty       good        8.0   \n",
       "51465  34595         NaN                   gmc yukon  excellent        8.0   \n",
       "51487   1495         NaN                  ford f-150       fair        6.0   \n",
       "51488  21900         NaN  chevrolet silverado 3500hd  excellent        8.0   \n",
       "51508   4950         NaN     chrysler town & country  excellent        6.0   \n",
       "\n",
       "         fuel  odometer transmission      type paint_color  is_4wd  \\\n",
       "1         gas   88705.0    automatic    pickup       white     1.0   \n",
       "20        gas  147485.0    automatic       SUV      silver     1.0   \n",
       "65        gas  108500.0    automatic    pickup       white     NaN   \n",
       "69        gas   97510.0    automatic     truck       white     1.0   \n",
       "72        gas   74000.0    automatic     sedan        blue     1.0   \n",
       "...       ...       ...          ...       ...         ...     ...   \n",
       "51464     gas  135778.0    automatic     truck         red     1.0   \n",
       "51465     gas   86456.0    automatic       SUV      silver     1.0   \n",
       "51487     gas   15804.0       manual     truck       white     1.0   \n",
       "51488  diesel  203000.0    automatic     truck       white     1.0   \n",
       "51508     gas  150000.0    automatic  mini-van      silver     NaN   \n",
       "\n",
       "      date_posted  days_listed  \n",
       "1      2018-10-19           50  \n",
       "20     2018-08-05           28  \n",
       "65     2018-09-23           15  \n",
       "69     2019-02-20           39  \n",
       "72     2018-08-07           60  \n",
       "...           ...          ...  \n",
       "51464  2018-11-28           24  \n",
       "51465  2019-04-18           13  \n",
       "51487  2018-09-18           56  \n",
       "51488  2018-12-27           37  \n",
       "51508  2018-06-30           48  \n",
       "\n",
       "[3619 rows x 13 columns]"
      ]
     },
     "execution_count": 11,
     "metadata": {},
     "output_type": "execute_result"
    }
   ],
   "source": [
    "df[df['model_year'].isna()]"
   ]
  },
  {
   "cell_type": "code",
   "execution_count": 12,
   "metadata": {},
   "outputs": [
    {
     "data": {
      "text/html": [
       "<div>\n",
       "<style scoped>\n",
       "    .dataframe tbody tr th:only-of-type {\n",
       "        vertical-align: middle;\n",
       "    }\n",
       "\n",
       "    .dataframe tbody tr th {\n",
       "        vertical-align: top;\n",
       "    }\n",
       "\n",
       "    .dataframe thead th {\n",
       "        text-align: right;\n",
       "    }\n",
       "</style>\n",
       "<table border=\"1\" class=\"dataframe\">\n",
       "  <thead>\n",
       "    <tr style=\"text-align: right;\">\n",
       "      <th></th>\n",
       "      <th>price</th>\n",
       "      <th>model_year</th>\n",
       "      <th>model</th>\n",
       "      <th>condition</th>\n",
       "      <th>cylinders</th>\n",
       "      <th>fuel</th>\n",
       "      <th>odometer</th>\n",
       "      <th>transmission</th>\n",
       "      <th>type</th>\n",
       "      <th>paint_color</th>\n",
       "      <th>is_4wd</th>\n",
       "      <th>date_posted</th>\n",
       "      <th>days_listed</th>\n",
       "    </tr>\n",
       "  </thead>\n",
       "  <tbody>\n",
       "    <tr>\n",
       "      <th>9</th>\n",
       "      <td>9200</td>\n",
       "      <td>2008.0</td>\n",
       "      <td>honda pilot</td>\n",
       "      <td>excellent</td>\n",
       "      <td>NaN</td>\n",
       "      <td>gas</td>\n",
       "      <td>147191.0</td>\n",
       "      <td>automatic</td>\n",
       "      <td>SUV</td>\n",
       "      <td>blue</td>\n",
       "      <td>1.0</td>\n",
       "      <td>2019-02-15</td>\n",
       "      <td>17</td>\n",
       "    </tr>\n",
       "    <tr>\n",
       "      <th>36</th>\n",
       "      <td>10499</td>\n",
       "      <td>2013.0</td>\n",
       "      <td>chrysler 300</td>\n",
       "      <td>good</td>\n",
       "      <td>NaN</td>\n",
       "      <td>gas</td>\n",
       "      <td>88042.0</td>\n",
       "      <td>automatic</td>\n",
       "      <td>sedan</td>\n",
       "      <td>NaN</td>\n",
       "      <td>NaN</td>\n",
       "      <td>2018-05-05</td>\n",
       "      <td>22</td>\n",
       "    </tr>\n",
       "    <tr>\n",
       "      <th>37</th>\n",
       "      <td>7500</td>\n",
       "      <td>2005.0</td>\n",
       "      <td>toyota tacoma</td>\n",
       "      <td>good</td>\n",
       "      <td>NaN</td>\n",
       "      <td>gas</td>\n",
       "      <td>160000.0</td>\n",
       "      <td>automatic</td>\n",
       "      <td>pickup</td>\n",
       "      <td>NaN</td>\n",
       "      <td>NaN</td>\n",
       "      <td>2018-07-22</td>\n",
       "      <td>44</td>\n",
       "    </tr>\n",
       "    <tr>\n",
       "      <th>59</th>\n",
       "      <td>5200</td>\n",
       "      <td>2006.0</td>\n",
       "      <td>toyota highlander</td>\n",
       "      <td>good</td>\n",
       "      <td>NaN</td>\n",
       "      <td>gas</td>\n",
       "      <td>186000.0</td>\n",
       "      <td>automatic</td>\n",
       "      <td>SUV</td>\n",
       "      <td>green</td>\n",
       "      <td>NaN</td>\n",
       "      <td>2018-12-20</td>\n",
       "      <td>2</td>\n",
       "    </tr>\n",
       "    <tr>\n",
       "      <th>63</th>\n",
       "      <td>30000</td>\n",
       "      <td>1966.0</td>\n",
       "      <td>ford mustang</td>\n",
       "      <td>excellent</td>\n",
       "      <td>NaN</td>\n",
       "      <td>gas</td>\n",
       "      <td>51000.0</td>\n",
       "      <td>manual</td>\n",
       "      <td>convertible</td>\n",
       "      <td>red</td>\n",
       "      <td>NaN</td>\n",
       "      <td>2019-01-23</td>\n",
       "      <td>17</td>\n",
       "    </tr>\n",
       "    <tr>\n",
       "      <th>...</th>\n",
       "      <td>...</td>\n",
       "      <td>...</td>\n",
       "      <td>...</td>\n",
       "      <td>...</td>\n",
       "      <td>...</td>\n",
       "      <td>...</td>\n",
       "      <td>...</td>\n",
       "      <td>...</td>\n",
       "      <td>...</td>\n",
       "      <td>...</td>\n",
       "      <td>...</td>\n",
       "      <td>...</td>\n",
       "      <td>...</td>\n",
       "    </tr>\n",
       "    <tr>\n",
       "      <th>51429</th>\n",
       "      <td>3250</td>\n",
       "      <td>2004.0</td>\n",
       "      <td>toyota camry</td>\n",
       "      <td>good</td>\n",
       "      <td>NaN</td>\n",
       "      <td>gas</td>\n",
       "      <td>179412.0</td>\n",
       "      <td>automatic</td>\n",
       "      <td>sedan</td>\n",
       "      <td>NaN</td>\n",
       "      <td>NaN</td>\n",
       "      <td>2018-07-02</td>\n",
       "      <td>25</td>\n",
       "    </tr>\n",
       "    <tr>\n",
       "      <th>51442</th>\n",
       "      <td>28990</td>\n",
       "      <td>2018.0</td>\n",
       "      <td>ford f150</td>\n",
       "      <td>excellent</td>\n",
       "      <td>NaN</td>\n",
       "      <td>gas</td>\n",
       "      <td>10152.0</td>\n",
       "      <td>automatic</td>\n",
       "      <td>truck</td>\n",
       "      <td>white</td>\n",
       "      <td>1.0</td>\n",
       "      <td>2018-06-13</td>\n",
       "      <td>47</td>\n",
       "    </tr>\n",
       "    <tr>\n",
       "      <th>51460</th>\n",
       "      <td>5995</td>\n",
       "      <td>2007.0</td>\n",
       "      <td>ford fusion</td>\n",
       "      <td>excellent</td>\n",
       "      <td>NaN</td>\n",
       "      <td>gas</td>\n",
       "      <td>88977.0</td>\n",
       "      <td>manual</td>\n",
       "      <td>sedan</td>\n",
       "      <td>silver</td>\n",
       "      <td>NaN</td>\n",
       "      <td>2019-03-27</td>\n",
       "      <td>66</td>\n",
       "    </tr>\n",
       "    <tr>\n",
       "      <th>51477</th>\n",
       "      <td>6499</td>\n",
       "      <td>2007.0</td>\n",
       "      <td>acura tl</td>\n",
       "      <td>good</td>\n",
       "      <td>NaN</td>\n",
       "      <td>gas</td>\n",
       "      <td>112119.0</td>\n",
       "      <td>automatic</td>\n",
       "      <td>sedan</td>\n",
       "      <td>white</td>\n",
       "      <td>NaN</td>\n",
       "      <td>2018-06-22</td>\n",
       "      <td>28</td>\n",
       "    </tr>\n",
       "    <tr>\n",
       "      <th>51486</th>\n",
       "      <td>5895</td>\n",
       "      <td>2009.0</td>\n",
       "      <td>hyundai santa fe</td>\n",
       "      <td>excellent</td>\n",
       "      <td>NaN</td>\n",
       "      <td>gas</td>\n",
       "      <td>NaN</td>\n",
       "      <td>automatic</td>\n",
       "      <td>other</td>\n",
       "      <td>blue</td>\n",
       "      <td>NaN</td>\n",
       "      <td>2018-06-30</td>\n",
       "      <td>44</td>\n",
       "    </tr>\n",
       "  </tbody>\n",
       "</table>\n",
       "<p>5260 rows × 13 columns</p>\n",
       "</div>"
      ],
      "text/plain": [
       "       price  model_year              model  condition  cylinders fuel  \\\n",
       "9       9200      2008.0        honda pilot  excellent        NaN  gas   \n",
       "36     10499      2013.0       chrysler 300       good        NaN  gas   \n",
       "37      7500      2005.0      toyota tacoma       good        NaN  gas   \n",
       "59      5200      2006.0  toyota highlander       good        NaN  gas   \n",
       "63     30000      1966.0       ford mustang  excellent        NaN  gas   \n",
       "...      ...         ...                ...        ...        ...  ...   \n",
       "51429   3250      2004.0       toyota camry       good        NaN  gas   \n",
       "51442  28990      2018.0          ford f150  excellent        NaN  gas   \n",
       "51460   5995      2007.0        ford fusion  excellent        NaN  gas   \n",
       "51477   6499      2007.0           acura tl       good        NaN  gas   \n",
       "51486   5895      2009.0   hyundai santa fe  excellent        NaN  gas   \n",
       "\n",
       "       odometer transmission         type paint_color  is_4wd date_posted  \\\n",
       "9      147191.0    automatic          SUV        blue     1.0  2019-02-15   \n",
       "36      88042.0    automatic        sedan         NaN     NaN  2018-05-05   \n",
       "37     160000.0    automatic       pickup         NaN     NaN  2018-07-22   \n",
       "59     186000.0    automatic          SUV       green     NaN  2018-12-20   \n",
       "63      51000.0       manual  convertible         red     NaN  2019-01-23   \n",
       "...         ...          ...          ...         ...     ...         ...   \n",
       "51429  179412.0    automatic        sedan         NaN     NaN  2018-07-02   \n",
       "51442   10152.0    automatic        truck       white     1.0  2018-06-13   \n",
       "51460   88977.0       manual        sedan      silver     NaN  2019-03-27   \n",
       "51477  112119.0    automatic        sedan       white     NaN  2018-06-22   \n",
       "51486       NaN    automatic        other        blue     NaN  2018-06-30   \n",
       "\n",
       "       days_listed  \n",
       "9               17  \n",
       "36              22  \n",
       "37              44  \n",
       "59               2  \n",
       "63              17  \n",
       "...            ...  \n",
       "51429           25  \n",
       "51442           47  \n",
       "51460           66  \n",
       "51477           28  \n",
       "51486           44  \n",
       "\n",
       "[5260 rows x 13 columns]"
      ]
     },
     "execution_count": 12,
     "metadata": {},
     "output_type": "execute_result"
    }
   ],
   "source": [
    "df[df['cylinders'].isna()]"
   ]
  },
  {
   "cell_type": "code",
   "execution_count": 13,
   "metadata": {},
   "outputs": [
    {
     "data": {
      "text/html": [
       "<div>\n",
       "<style scoped>\n",
       "    .dataframe tbody tr th:only-of-type {\n",
       "        vertical-align: middle;\n",
       "    }\n",
       "\n",
       "    .dataframe tbody tr th {\n",
       "        vertical-align: top;\n",
       "    }\n",
       "\n",
       "    .dataframe thead th {\n",
       "        text-align: right;\n",
       "    }\n",
       "</style>\n",
       "<table border=\"1\" class=\"dataframe\">\n",
       "  <thead>\n",
       "    <tr style=\"text-align: right;\">\n",
       "      <th></th>\n",
       "      <th>price</th>\n",
       "      <th>model_year</th>\n",
       "      <th>model</th>\n",
       "      <th>condition</th>\n",
       "      <th>cylinders</th>\n",
       "      <th>fuel</th>\n",
       "      <th>odometer</th>\n",
       "      <th>transmission</th>\n",
       "      <th>type</th>\n",
       "      <th>paint_color</th>\n",
       "      <th>is_4wd</th>\n",
       "      <th>date_posted</th>\n",
       "      <th>days_listed</th>\n",
       "    </tr>\n",
       "  </thead>\n",
       "  <tbody>\n",
       "    <tr>\n",
       "      <th>3</th>\n",
       "      <td>1500</td>\n",
       "      <td>2003.0</td>\n",
       "      <td>ford f-150</td>\n",
       "      <td>fair</td>\n",
       "      <td>8.0</td>\n",
       "      <td>gas</td>\n",
       "      <td>NaN</td>\n",
       "      <td>automatic</td>\n",
       "      <td>pickup</td>\n",
       "      <td>NaN</td>\n",
       "      <td>NaN</td>\n",
       "      <td>2019-03-22</td>\n",
       "      <td>9</td>\n",
       "    </tr>\n",
       "    <tr>\n",
       "      <th>15</th>\n",
       "      <td>17990</td>\n",
       "      <td>2013.0</td>\n",
       "      <td>ram 1500</td>\n",
       "      <td>excellent</td>\n",
       "      <td>8.0</td>\n",
       "      <td>gas</td>\n",
       "      <td>NaN</td>\n",
       "      <td>automatic</td>\n",
       "      <td>pickup</td>\n",
       "      <td>red</td>\n",
       "      <td>1.0</td>\n",
       "      <td>2018-05-15</td>\n",
       "      <td>111</td>\n",
       "    </tr>\n",
       "    <tr>\n",
       "      <th>23</th>\n",
       "      <td>7500</td>\n",
       "      <td>2004.0</td>\n",
       "      <td>jeep wrangler</td>\n",
       "      <td>good</td>\n",
       "      <td>6.0</td>\n",
       "      <td>gas</td>\n",
       "      <td>NaN</td>\n",
       "      <td>automatic</td>\n",
       "      <td>SUV</td>\n",
       "      <td>red</td>\n",
       "      <td>1.0</td>\n",
       "      <td>2018-05-17</td>\n",
       "      <td>39</td>\n",
       "    </tr>\n",
       "    <tr>\n",
       "      <th>24</th>\n",
       "      <td>3950</td>\n",
       "      <td>2009.0</td>\n",
       "      <td>chrysler 200</td>\n",
       "      <td>excellent</td>\n",
       "      <td>4.0</td>\n",
       "      <td>gas</td>\n",
       "      <td>NaN</td>\n",
       "      <td>automatic</td>\n",
       "      <td>sedan</td>\n",
       "      <td>red</td>\n",
       "      <td>NaN</td>\n",
       "      <td>2018-06-11</td>\n",
       "      <td>40</td>\n",
       "    </tr>\n",
       "    <tr>\n",
       "      <th>25</th>\n",
       "      <td>11499</td>\n",
       "      <td>2017.0</td>\n",
       "      <td>chevrolet malibu</td>\n",
       "      <td>like new</td>\n",
       "      <td>4.0</td>\n",
       "      <td>gas</td>\n",
       "      <td>NaN</td>\n",
       "      <td>automatic</td>\n",
       "      <td>sedan</td>\n",
       "      <td>NaN</td>\n",
       "      <td>NaN</td>\n",
       "      <td>2018-07-26</td>\n",
       "      <td>43</td>\n",
       "    </tr>\n",
       "    <tr>\n",
       "      <th>...</th>\n",
       "      <td>...</td>\n",
       "      <td>...</td>\n",
       "      <td>...</td>\n",
       "      <td>...</td>\n",
       "      <td>...</td>\n",
       "      <td>...</td>\n",
       "      <td>...</td>\n",
       "      <td>...</td>\n",
       "      <td>...</td>\n",
       "      <td>...</td>\n",
       "      <td>...</td>\n",
       "      <td>...</td>\n",
       "      <td>...</td>\n",
       "    </tr>\n",
       "    <tr>\n",
       "      <th>51498</th>\n",
       "      <td>15900</td>\n",
       "      <td>2011.0</td>\n",
       "      <td>gmc sierra 1500</td>\n",
       "      <td>excellent</td>\n",
       "      <td>8.0</td>\n",
       "      <td>gas</td>\n",
       "      <td>NaN</td>\n",
       "      <td>automatic</td>\n",
       "      <td>truck</td>\n",
       "      <td>NaN</td>\n",
       "      <td>1.0</td>\n",
       "      <td>2019-01-25</td>\n",
       "      <td>69</td>\n",
       "    </tr>\n",
       "    <tr>\n",
       "      <th>51507</th>\n",
       "      <td>29500</td>\n",
       "      <td>2012.0</td>\n",
       "      <td>toyota tundra</td>\n",
       "      <td>good</td>\n",
       "      <td>8.0</td>\n",
       "      <td>gas</td>\n",
       "      <td>NaN</td>\n",
       "      <td>automatic</td>\n",
       "      <td>pickup</td>\n",
       "      <td>grey</td>\n",
       "      <td>1.0</td>\n",
       "      <td>2018-05-01</td>\n",
       "      <td>31</td>\n",
       "    </tr>\n",
       "    <tr>\n",
       "      <th>51516</th>\n",
       "      <td>8999</td>\n",
       "      <td>2011.0</td>\n",
       "      <td>jeep grand cherokee</td>\n",
       "      <td>good</td>\n",
       "      <td>6.0</td>\n",
       "      <td>gas</td>\n",
       "      <td>NaN</td>\n",
       "      <td>automatic</td>\n",
       "      <td>SUV</td>\n",
       "      <td>white</td>\n",
       "      <td>1.0</td>\n",
       "      <td>2018-11-01</td>\n",
       "      <td>51</td>\n",
       "    </tr>\n",
       "    <tr>\n",
       "      <th>51519</th>\n",
       "      <td>11750</td>\n",
       "      <td>2015.0</td>\n",
       "      <td>honda accord</td>\n",
       "      <td>excellent</td>\n",
       "      <td>4.0</td>\n",
       "      <td>gas</td>\n",
       "      <td>NaN</td>\n",
       "      <td>automatic</td>\n",
       "      <td>coupe</td>\n",
       "      <td>NaN</td>\n",
       "      <td>NaN</td>\n",
       "      <td>2018-11-24</td>\n",
       "      <td>89</td>\n",
       "    </tr>\n",
       "    <tr>\n",
       "      <th>51524</th>\n",
       "      <td>6300</td>\n",
       "      <td>2014.0</td>\n",
       "      <td>nissan altima</td>\n",
       "      <td>good</td>\n",
       "      <td>4.0</td>\n",
       "      <td>gas</td>\n",
       "      <td>NaN</td>\n",
       "      <td>automatic</td>\n",
       "      <td>sedan</td>\n",
       "      <td>NaN</td>\n",
       "      <td>NaN</td>\n",
       "      <td>2018-06-05</td>\n",
       "      <td>10</td>\n",
       "    </tr>\n",
       "  </tbody>\n",
       "</table>\n",
       "<p>7892 rows × 13 columns</p>\n",
       "</div>"
      ],
      "text/plain": [
       "       price  model_year                model  condition  cylinders fuel  \\\n",
       "3       1500      2003.0           ford f-150       fair        8.0  gas   \n",
       "15     17990      2013.0             ram 1500  excellent        8.0  gas   \n",
       "23      7500      2004.0        jeep wrangler       good        6.0  gas   \n",
       "24      3950      2009.0         chrysler 200  excellent        4.0  gas   \n",
       "25     11499      2017.0     chevrolet malibu   like new        4.0  gas   \n",
       "...      ...         ...                  ...        ...        ...  ...   \n",
       "51498  15900      2011.0      gmc sierra 1500  excellent        8.0  gas   \n",
       "51507  29500      2012.0        toyota tundra       good        8.0  gas   \n",
       "51516   8999      2011.0  jeep grand cherokee       good        6.0  gas   \n",
       "51519  11750      2015.0         honda accord  excellent        4.0  gas   \n",
       "51524   6300      2014.0        nissan altima       good        4.0  gas   \n",
       "\n",
       "       odometer transmission    type paint_color  is_4wd date_posted  \\\n",
       "3           NaN    automatic  pickup         NaN     NaN  2019-03-22   \n",
       "15          NaN    automatic  pickup         red     1.0  2018-05-15   \n",
       "23          NaN    automatic     SUV         red     1.0  2018-05-17   \n",
       "24          NaN    automatic   sedan         red     NaN  2018-06-11   \n",
       "25          NaN    automatic   sedan         NaN     NaN  2018-07-26   \n",
       "...         ...          ...     ...         ...     ...         ...   \n",
       "51498       NaN    automatic   truck         NaN     1.0  2019-01-25   \n",
       "51507       NaN    automatic  pickup        grey     1.0  2018-05-01   \n",
       "51516       NaN    automatic     SUV       white     1.0  2018-11-01   \n",
       "51519       NaN    automatic   coupe         NaN     NaN  2018-11-24   \n",
       "51524       NaN    automatic   sedan         NaN     NaN  2018-06-05   \n",
       "\n",
       "       days_listed  \n",
       "3                9  \n",
       "15             111  \n",
       "23              39  \n",
       "24              40  \n",
       "25              43  \n",
       "...            ...  \n",
       "51498           69  \n",
       "51507           31  \n",
       "51516           51  \n",
       "51519           89  \n",
       "51524           10  \n",
       "\n",
       "[7892 rows x 13 columns]"
      ]
     },
     "execution_count": 13,
     "metadata": {},
     "output_type": "execute_result"
    }
   ],
   "source": [
    "df[df['odometer'].isna()]"
   ]
  },
  {
   "cell_type": "code",
   "execution_count": 14,
   "metadata": {
    "scrolled": true
   },
   "outputs": [
    {
     "data": {
      "text/html": [
       "<div>\n",
       "<style scoped>\n",
       "    .dataframe tbody tr th:only-of-type {\n",
       "        vertical-align: middle;\n",
       "    }\n",
       "\n",
       "    .dataframe tbody tr th {\n",
       "        vertical-align: top;\n",
       "    }\n",
       "\n",
       "    .dataframe thead th {\n",
       "        text-align: right;\n",
       "    }\n",
       "</style>\n",
       "<table border=\"1\" class=\"dataframe\">\n",
       "  <thead>\n",
       "    <tr style=\"text-align: right;\">\n",
       "      <th></th>\n",
       "      <th>price</th>\n",
       "      <th>model_year</th>\n",
       "      <th>model</th>\n",
       "      <th>condition</th>\n",
       "      <th>cylinders</th>\n",
       "      <th>fuel</th>\n",
       "      <th>odometer</th>\n",
       "      <th>transmission</th>\n",
       "      <th>type</th>\n",
       "      <th>paint_color</th>\n",
       "      <th>is_4wd</th>\n",
       "      <th>date_posted</th>\n",
       "      <th>days_listed</th>\n",
       "    </tr>\n",
       "  </thead>\n",
       "  <tbody>\n",
       "    <tr>\n",
       "      <th>0</th>\n",
       "      <td>9400</td>\n",
       "      <td>2011.0</td>\n",
       "      <td>bmw x5</td>\n",
       "      <td>good</td>\n",
       "      <td>6.0</td>\n",
       "      <td>gas</td>\n",
       "      <td>145000.0</td>\n",
       "      <td>automatic</td>\n",
       "      <td>SUV</td>\n",
       "      <td>NaN</td>\n",
       "      <td>1.0</td>\n",
       "      <td>2018-06-23</td>\n",
       "      <td>19</td>\n",
       "    </tr>\n",
       "    <tr>\n",
       "      <th>3</th>\n",
       "      <td>1500</td>\n",
       "      <td>2003.0</td>\n",
       "      <td>ford f-150</td>\n",
       "      <td>fair</td>\n",
       "      <td>8.0</td>\n",
       "      <td>gas</td>\n",
       "      <td>NaN</td>\n",
       "      <td>automatic</td>\n",
       "      <td>pickup</td>\n",
       "      <td>NaN</td>\n",
       "      <td>NaN</td>\n",
       "      <td>2019-03-22</td>\n",
       "      <td>9</td>\n",
       "    </tr>\n",
       "    <tr>\n",
       "      <th>8</th>\n",
       "      <td>11500</td>\n",
       "      <td>2012.0</td>\n",
       "      <td>kia sorento</td>\n",
       "      <td>excellent</td>\n",
       "      <td>4.0</td>\n",
       "      <td>gas</td>\n",
       "      <td>104174.0</td>\n",
       "      <td>automatic</td>\n",
       "      <td>SUV</td>\n",
       "      <td>NaN</td>\n",
       "      <td>1.0</td>\n",
       "      <td>2018-07-16</td>\n",
       "      <td>19</td>\n",
       "    </tr>\n",
       "    <tr>\n",
       "      <th>12</th>\n",
       "      <td>18990</td>\n",
       "      <td>2012.0</td>\n",
       "      <td>ram 1500</td>\n",
       "      <td>excellent</td>\n",
       "      <td>8.0</td>\n",
       "      <td>gas</td>\n",
       "      <td>140742.0</td>\n",
       "      <td>automatic</td>\n",
       "      <td>pickup</td>\n",
       "      <td>NaN</td>\n",
       "      <td>1.0</td>\n",
       "      <td>2019-04-02</td>\n",
       "      <td>37</td>\n",
       "    </tr>\n",
       "    <tr>\n",
       "      <th>21</th>\n",
       "      <td>5250</td>\n",
       "      <td>2007.0</td>\n",
       "      <td>toyota rav4</td>\n",
       "      <td>good</td>\n",
       "      <td>6.0</td>\n",
       "      <td>gas</td>\n",
       "      <td>154000.0</td>\n",
       "      <td>automatic</td>\n",
       "      <td>SUV</td>\n",
       "      <td>NaN</td>\n",
       "      <td>NaN</td>\n",
       "      <td>2018-08-22</td>\n",
       "      <td>8</td>\n",
       "    </tr>\n",
       "    <tr>\n",
       "      <th>...</th>\n",
       "      <td>...</td>\n",
       "      <td>...</td>\n",
       "      <td>...</td>\n",
       "      <td>...</td>\n",
       "      <td>...</td>\n",
       "      <td>...</td>\n",
       "      <td>...</td>\n",
       "      <td>...</td>\n",
       "      <td>...</td>\n",
       "      <td>...</td>\n",
       "      <td>...</td>\n",
       "      <td>...</td>\n",
       "      <td>...</td>\n",
       "    </tr>\n",
       "    <tr>\n",
       "      <th>51502</th>\n",
       "      <td>7995</td>\n",
       "      <td>2011.0</td>\n",
       "      <td>chevrolet equinox</td>\n",
       "      <td>like new</td>\n",
       "      <td>4.0</td>\n",
       "      <td>gas</td>\n",
       "      <td>111088.0</td>\n",
       "      <td>automatic</td>\n",
       "      <td>SUV</td>\n",
       "      <td>NaN</td>\n",
       "      <td>NaN</td>\n",
       "      <td>2019-04-01</td>\n",
       "      <td>175</td>\n",
       "    </tr>\n",
       "    <tr>\n",
       "      <th>51503</th>\n",
       "      <td>6595</td>\n",
       "      <td>2011.0</td>\n",
       "      <td>chevrolet malibu</td>\n",
       "      <td>excellent</td>\n",
       "      <td>4.0</td>\n",
       "      <td>gas</td>\n",
       "      <td>100780.0</td>\n",
       "      <td>automatic</td>\n",
       "      <td>sedan</td>\n",
       "      <td>NaN</td>\n",
       "      <td>NaN</td>\n",
       "      <td>2019-02-27</td>\n",
       "      <td>73</td>\n",
       "    </tr>\n",
       "    <tr>\n",
       "      <th>51506</th>\n",
       "      <td>28900</td>\n",
       "      <td>2017.0</td>\n",
       "      <td>ford f150 supercrew cab xlt</td>\n",
       "      <td>good</td>\n",
       "      <td>6.0</td>\n",
       "      <td>gas</td>\n",
       "      <td>49225.0</td>\n",
       "      <td>automatic</td>\n",
       "      <td>pickup</td>\n",
       "      <td>NaN</td>\n",
       "      <td>1.0</td>\n",
       "      <td>2019-04-11</td>\n",
       "      <td>25</td>\n",
       "    </tr>\n",
       "    <tr>\n",
       "      <th>51519</th>\n",
       "      <td>11750</td>\n",
       "      <td>2015.0</td>\n",
       "      <td>honda accord</td>\n",
       "      <td>excellent</td>\n",
       "      <td>4.0</td>\n",
       "      <td>gas</td>\n",
       "      <td>NaN</td>\n",
       "      <td>automatic</td>\n",
       "      <td>coupe</td>\n",
       "      <td>NaN</td>\n",
       "      <td>NaN</td>\n",
       "      <td>2018-11-24</td>\n",
       "      <td>89</td>\n",
       "    </tr>\n",
       "    <tr>\n",
       "      <th>51524</th>\n",
       "      <td>6300</td>\n",
       "      <td>2014.0</td>\n",
       "      <td>nissan altima</td>\n",
       "      <td>good</td>\n",
       "      <td>4.0</td>\n",
       "      <td>gas</td>\n",
       "      <td>NaN</td>\n",
       "      <td>automatic</td>\n",
       "      <td>sedan</td>\n",
       "      <td>NaN</td>\n",
       "      <td>NaN</td>\n",
       "      <td>2018-06-05</td>\n",
       "      <td>10</td>\n",
       "    </tr>\n",
       "  </tbody>\n",
       "</table>\n",
       "<p>9267 rows × 13 columns</p>\n",
       "</div>"
      ],
      "text/plain": [
       "       price  model_year                        model  condition  cylinders  \\\n",
       "0       9400      2011.0                       bmw x5       good        6.0   \n",
       "3       1500      2003.0                   ford f-150       fair        8.0   \n",
       "8      11500      2012.0                  kia sorento  excellent        4.0   \n",
       "12     18990      2012.0                     ram 1500  excellent        8.0   \n",
       "21      5250      2007.0                  toyota rav4       good        6.0   \n",
       "...      ...         ...                          ...        ...        ...   \n",
       "51502   7995      2011.0            chevrolet equinox   like new        4.0   \n",
       "51503   6595      2011.0             chevrolet malibu  excellent        4.0   \n",
       "51506  28900      2017.0  ford f150 supercrew cab xlt       good        6.0   \n",
       "51519  11750      2015.0                 honda accord  excellent        4.0   \n",
       "51524   6300      2014.0                nissan altima       good        4.0   \n",
       "\n",
       "      fuel  odometer transmission    type paint_color  is_4wd date_posted  \\\n",
       "0      gas  145000.0    automatic     SUV         NaN     1.0  2018-06-23   \n",
       "3      gas       NaN    automatic  pickup         NaN     NaN  2019-03-22   \n",
       "8      gas  104174.0    automatic     SUV         NaN     1.0  2018-07-16   \n",
       "12     gas  140742.0    automatic  pickup         NaN     1.0  2019-04-02   \n",
       "21     gas  154000.0    automatic     SUV         NaN     NaN  2018-08-22   \n",
       "...    ...       ...          ...     ...         ...     ...         ...   \n",
       "51502  gas  111088.0    automatic     SUV         NaN     NaN  2019-04-01   \n",
       "51503  gas  100780.0    automatic   sedan         NaN     NaN  2019-02-27   \n",
       "51506  gas   49225.0    automatic  pickup         NaN     1.0  2019-04-11   \n",
       "51519  gas       NaN    automatic   coupe         NaN     NaN  2018-11-24   \n",
       "51524  gas       NaN    automatic   sedan         NaN     NaN  2018-06-05   \n",
       "\n",
       "       days_listed  \n",
       "0               19  \n",
       "3                9  \n",
       "8               19  \n",
       "12              37  \n",
       "21               8  \n",
       "...            ...  \n",
       "51502          175  \n",
       "51503           73  \n",
       "51506           25  \n",
       "51519           89  \n",
       "51524           10  \n",
       "\n",
       "[9267 rows x 13 columns]"
      ]
     },
     "execution_count": 14,
     "metadata": {},
     "output_type": "execute_result"
    }
   ],
   "source": [
    "df[df['paint_color'].isna()]"
   ]
  },
  {
   "cell_type": "markdown",
   "metadata": {},
   "source": [
    "## Cuide dos valores ausentes (se houver algum)"
   ]
  },
  {
   "cell_type": "markdown",
   "metadata": {},
   "source": [
    "Primeiro iremos substituir Nan em 'is_4wd' por '0' , as colunas 'model_year' e'cylinders' com dados faltante substituimos pela medianas para não afetasse tanto na nossa filtragem de dados, já na coluna 'odometer' substituimos pela mediana também mas porém existem dados são unicos e não conseguimos preencher com a médiana, pois são carros muito antigos presumimos que foram reformados, sendo assim tem a idade avançada porém seu odômetro é de um carro 0 km. Na coluna 'paint_color' não podemos presumir a cor do carro com base nas outras colunas, então preencheremos como desconhecido."
   ]
  },
  {
   "cell_type": "code",
   "execution_count": 15,
   "metadata": {},
   "outputs": [],
   "source": [
    "df['is_4wd'].fillna(0, inplace = True)"
   ]
  },
  {
   "cell_type": "code",
   "execution_count": 16,
   "metadata": {},
   "outputs": [],
   "source": [
    "df['model_year'].fillna(df.groupby('model')['model_year'].transform('median'), inplace=True)"
   ]
  },
  {
   "cell_type": "code",
   "execution_count": 17,
   "metadata": {},
   "outputs": [],
   "source": [
    "df[\"cylinders\"].fillna(df.groupby([\"model\",\"fuel\"])[\"cylinders\"].transform('median'), inplace=True)"
   ]
  },
  {
   "cell_type": "code",
   "execution_count": 18,
   "metadata": {},
   "outputs": [],
   "source": [
    "df[\"cylinders\"].fillna(df.groupby(\"model\")[\"cylinders\"].transform('median'), inplace=True)"
   ]
  },
  {
   "cell_type": "code",
   "execution_count": 19,
   "metadata": {},
   "outputs": [],
   "source": [
    "df[\"odometer\"].fillna(df.groupby([\"model_year\",\"type\"])[\"odometer\"].transform('median'), inplace=True)"
   ]
  },
  {
   "cell_type": "code",
   "execution_count": 20,
   "metadata": {},
   "outputs": [
    {
     "data": {
      "text/html": [
       "<div>\n",
       "<style scoped>\n",
       "    .dataframe tbody tr th:only-of-type {\n",
       "        vertical-align: middle;\n",
       "    }\n",
       "\n",
       "    .dataframe tbody tr th {\n",
       "        vertical-align: top;\n",
       "    }\n",
       "\n",
       "    .dataframe thead th {\n",
       "        text-align: right;\n",
       "    }\n",
       "</style>\n",
       "<table border=\"1\" class=\"dataframe\">\n",
       "  <thead>\n",
       "    <tr style=\"text-align: right;\">\n",
       "      <th></th>\n",
       "      <th>price</th>\n",
       "      <th>model_year</th>\n",
       "      <th>model</th>\n",
       "      <th>condition</th>\n",
       "      <th>cylinders</th>\n",
       "      <th>fuel</th>\n",
       "      <th>odometer</th>\n",
       "      <th>transmission</th>\n",
       "      <th>type</th>\n",
       "      <th>paint_color</th>\n",
       "      <th>is_4wd</th>\n",
       "      <th>date_posted</th>\n",
       "      <th>days_listed</th>\n",
       "    </tr>\n",
       "  </thead>\n",
       "  <tbody>\n",
       "    <tr>\n",
       "      <th>14583</th>\n",
       "      <td>750</td>\n",
       "      <td>1986.0</td>\n",
       "      <td>ford taurus</td>\n",
       "      <td>fair</td>\n",
       "      <td>6.0</td>\n",
       "      <td>gas</td>\n",
       "      <td>NaN</td>\n",
       "      <td>automatic</td>\n",
       "      <td>sedan</td>\n",
       "      <td>blue</td>\n",
       "      <td>0.0</td>\n",
       "      <td>2019-02-17</td>\n",
       "      <td>54</td>\n",
       "    </tr>\n",
       "    <tr>\n",
       "      <th>21421</th>\n",
       "      <td>4500</td>\n",
       "      <td>1974.0</td>\n",
       "      <td>chevrolet corvette</td>\n",
       "      <td>fair</td>\n",
       "      <td>8.0</td>\n",
       "      <td>gas</td>\n",
       "      <td>NaN</td>\n",
       "      <td>automatic</td>\n",
       "      <td>sedan</td>\n",
       "      <td>red</td>\n",
       "      <td>0.0</td>\n",
       "      <td>2018-12-15</td>\n",
       "      <td>18</td>\n",
       "    </tr>\n",
       "    <tr>\n",
       "      <th>25031</th>\n",
       "      <td>2300</td>\n",
       "      <td>1993.0</td>\n",
       "      <td>jeep wrangler</td>\n",
       "      <td>good</td>\n",
       "      <td>6.0</td>\n",
       "      <td>gas</td>\n",
       "      <td>NaN</td>\n",
       "      <td>manual</td>\n",
       "      <td>other</td>\n",
       "      <td>brown</td>\n",
       "      <td>1.0</td>\n",
       "      <td>2019-01-06</td>\n",
       "      <td>48</td>\n",
       "    </tr>\n",
       "    <tr>\n",
       "      <th>26850</th>\n",
       "      <td>10000</td>\n",
       "      <td>1976.0</td>\n",
       "      <td>chevrolet corvette</td>\n",
       "      <td>good</td>\n",
       "      <td>8.0</td>\n",
       "      <td>gas</td>\n",
       "      <td>NaN</td>\n",
       "      <td>automatic</td>\n",
       "      <td>coupe</td>\n",
       "      <td>white</td>\n",
       "      <td>0.0</td>\n",
       "      <td>2018-09-24</td>\n",
       "      <td>17</td>\n",
       "    </tr>\n",
       "    <tr>\n",
       "      <th>28009</th>\n",
       "      <td>65000</td>\n",
       "      <td>1960.0</td>\n",
       "      <td>chevrolet corvette</td>\n",
       "      <td>like new</td>\n",
       "      <td>8.0</td>\n",
       "      <td>gas</td>\n",
       "      <td>NaN</td>\n",
       "      <td>manual</td>\n",
       "      <td>coupe</td>\n",
       "      <td>NaN</td>\n",
       "      <td>0.0</td>\n",
       "      <td>2018-11-03</td>\n",
       "      <td>41</td>\n",
       "    </tr>\n",
       "    <tr>\n",
       "      <th>35617</th>\n",
       "      <td>20500</td>\n",
       "      <td>1970.0</td>\n",
       "      <td>chevrolet malibu</td>\n",
       "      <td>excellent</td>\n",
       "      <td>8.0</td>\n",
       "      <td>gas</td>\n",
       "      <td>NaN</td>\n",
       "      <td>automatic</td>\n",
       "      <td>sedan</td>\n",
       "      <td>yellow</td>\n",
       "      <td>0.0</td>\n",
       "      <td>2018-10-02</td>\n",
       "      <td>52</td>\n",
       "    </tr>\n",
       "    <tr>\n",
       "      <th>45694</th>\n",
       "      <td>18000</td>\n",
       "      <td>1929.0</td>\n",
       "      <td>ford f-150</td>\n",
       "      <td>good</td>\n",
       "      <td>8.0</td>\n",
       "      <td>gas</td>\n",
       "      <td>NaN</td>\n",
       "      <td>manual</td>\n",
       "      <td>other</td>\n",
       "      <td>silver</td>\n",
       "      <td>0.0</td>\n",
       "      <td>2018-11-18</td>\n",
       "      <td>59</td>\n",
       "    </tr>\n",
       "    <tr>\n",
       "      <th>45832</th>\n",
       "      <td>6000</td>\n",
       "      <td>1985.0</td>\n",
       "      <td>chevrolet suburban</td>\n",
       "      <td>good</td>\n",
       "      <td>8.0</td>\n",
       "      <td>gas</td>\n",
       "      <td>NaN</td>\n",
       "      <td>manual</td>\n",
       "      <td>SUV</td>\n",
       "      <td>blue</td>\n",
       "      <td>0.0</td>\n",
       "      <td>2018-05-30</td>\n",
       "      <td>123</td>\n",
       "    </tr>\n",
       "  </tbody>\n",
       "</table>\n",
       "</div>"
      ],
      "text/plain": [
       "       price  model_year               model  condition  cylinders fuel  \\\n",
       "14583    750      1986.0         ford taurus       fair        6.0  gas   \n",
       "21421   4500      1974.0  chevrolet corvette       fair        8.0  gas   \n",
       "25031   2300      1993.0       jeep wrangler       good        6.0  gas   \n",
       "26850  10000      1976.0  chevrolet corvette       good        8.0  gas   \n",
       "28009  65000      1960.0  chevrolet corvette   like new        8.0  gas   \n",
       "35617  20500      1970.0    chevrolet malibu  excellent        8.0  gas   \n",
       "45694  18000      1929.0          ford f-150       good        8.0  gas   \n",
       "45832   6000      1985.0  chevrolet suburban       good        8.0  gas   \n",
       "\n",
       "       odometer transmission   type paint_color  is_4wd date_posted  \\\n",
       "14583       NaN    automatic  sedan        blue     0.0  2019-02-17   \n",
       "21421       NaN    automatic  sedan         red     0.0  2018-12-15   \n",
       "25031       NaN       manual  other       brown     1.0  2019-01-06   \n",
       "26850       NaN    automatic  coupe       white     0.0  2018-09-24   \n",
       "28009       NaN       manual  coupe         NaN     0.0  2018-11-03   \n",
       "35617       NaN    automatic  sedan      yellow     0.0  2018-10-02   \n",
       "45694       NaN       manual  other      silver     0.0  2018-11-18   \n",
       "45832       NaN       manual    SUV        blue     0.0  2018-05-30   \n",
       "\n",
       "       days_listed  \n",
       "14583           54  \n",
       "21421           18  \n",
       "25031           48  \n",
       "26850           17  \n",
       "28009           41  \n",
       "35617           52  \n",
       "45694           59  \n",
       "45832          123  "
      ]
     },
     "execution_count": 20,
     "metadata": {},
     "output_type": "execute_result"
    }
   ],
   "source": [
    "df[df['odometer'].isna()]"
   ]
  },
  {
   "cell_type": "code",
   "execution_count": 21,
   "metadata": {},
   "outputs": [],
   "source": [
    " df['odometer'].fillna('0',inplace=True ) "
   ]
  },
  {
   "cell_type": "code",
   "execution_count": 22,
   "metadata": {},
   "outputs": [],
   "source": [
    "df['paint_color'].fillna('unknown',inplace=True )"
   ]
  },
  {
   "cell_type": "code",
   "execution_count": 23,
   "metadata": {},
   "outputs": [
    {
     "name": "stdout",
     "output_type": "stream",
     "text": [
      "<class 'pandas.core.frame.DataFrame'>\n",
      "RangeIndex: 51525 entries, 0 to 51524\n",
      "Data columns (total 13 columns):\n",
      " #   Column        Non-Null Count  Dtype  \n",
      "---  ------        --------------  -----  \n",
      " 0   price         51525 non-null  int64  \n",
      " 1   model_year    51525 non-null  float64\n",
      " 2   model         51525 non-null  object \n",
      " 3   condition     51525 non-null  object \n",
      " 4   cylinders     51525 non-null  float64\n",
      " 5   fuel          51525 non-null  object \n",
      " 6   odometer      51525 non-null  object \n",
      " 7   transmission  51525 non-null  object \n",
      " 8   type          51525 non-null  object \n",
      " 9   paint_color   51525 non-null  object \n",
      " 10  is_4wd        51525 non-null  float64\n",
      " 11  date_posted   51525 non-null  object \n",
      " 12  days_listed   51525 non-null  int64  \n",
      "dtypes: float64(3), int64(2), object(8)\n",
      "memory usage: 5.1+ MB\n"
     ]
    }
   ],
   "source": [
    "df.info()"
   ]
  },
  {
   "cell_type": "markdown",
   "metadata": {},
   "source": [
    "<div class=\"alert alert-block alert-success\">\n",
    "<b>Comentário do corretor</b> <a class=\"tocSkip\"></a>\n",
    "\n",
    "Ok!\n",
    "</div>"
   ]
  },
  {
   "cell_type": "markdown",
   "metadata": {},
   "source": [
    "## Corrija os tipos de dados"
   ]
  },
  {
   "cell_type": "markdown",
   "metadata": {},
   "source": [
    "Na coluna 'price' há carros custando menos de 200 dolares podemos pegar a mediana desses carros com dados semelhantes e substituir esses valores. Muito improvavel mesmo que seja sucata um carro que custe menos de 200 dolares. Conseguimos visualizar alguns valores em 'price' que estão muito elevados e fizemos uma analise nas demais colunas.Iremo mudar o tipo de dado da coluna 'date_posted' de object para datetime64[ns] e de 'odometer' de object para int."
   ]
  },
  {
   "cell_type": "code",
   "execution_count": 24,
   "metadata": {},
   "outputs": [
    {
     "data": {
      "text/plain": [
       "count     51525.000000\n",
       "mean      12132.464920\n",
       "std       10040.803015\n",
       "min           1.000000\n",
       "25%        5000.000000\n",
       "50%        9000.000000\n",
       "75%       16839.000000\n",
       "max      375000.000000\n",
       "Name: price, dtype: float64"
      ]
     },
     "execution_count": 24,
     "metadata": {},
     "output_type": "execute_result"
    }
   ],
   "source": [
    "df['price'].describe()"
   ]
  },
  {
   "cell_type": "code",
   "execution_count": 25,
   "metadata": {},
   "outputs": [
    {
     "data": {
      "text/html": [
       "<div>\n",
       "<style scoped>\n",
       "    .dataframe tbody tr th:only-of-type {\n",
       "        vertical-align: middle;\n",
       "    }\n",
       "\n",
       "    .dataframe tbody tr th {\n",
       "        vertical-align: top;\n",
       "    }\n",
       "\n",
       "    .dataframe thead th {\n",
       "        text-align: right;\n",
       "    }\n",
       "</style>\n",
       "<table border=\"1\" class=\"dataframe\">\n",
       "  <thead>\n",
       "    <tr style=\"text-align: right;\">\n",
       "      <th></th>\n",
       "      <th>price</th>\n",
       "      <th>model_year</th>\n",
       "      <th>model</th>\n",
       "      <th>condition</th>\n",
       "      <th>cylinders</th>\n",
       "      <th>fuel</th>\n",
       "      <th>odometer</th>\n",
       "      <th>transmission</th>\n",
       "      <th>type</th>\n",
       "      <th>paint_color</th>\n",
       "      <th>is_4wd</th>\n",
       "      <th>date_posted</th>\n",
       "      <th>days_listed</th>\n",
       "    </tr>\n",
       "  </thead>\n",
       "  <tbody>\n",
       "    <tr>\n",
       "      <th>405</th>\n",
       "      <td>1</td>\n",
       "      <td>2014.0</td>\n",
       "      <td>chevrolet camaro</td>\n",
       "      <td>excellent</td>\n",
       "      <td>6.0</td>\n",
       "      <td>gas</td>\n",
       "      <td>71310.0</td>\n",
       "      <td>automatic</td>\n",
       "      <td>coupe</td>\n",
       "      <td>unknown</td>\n",
       "      <td>0.0</td>\n",
       "      <td>2018-07-14</td>\n",
       "      <td>29</td>\n",
       "    </tr>\n",
       "    <tr>\n",
       "      <th>3063</th>\n",
       "      <td>1</td>\n",
       "      <td>1998.0</td>\n",
       "      <td>chevrolet silverado</td>\n",
       "      <td>good</td>\n",
       "      <td>8.0</td>\n",
       "      <td>gas</td>\n",
       "      <td>164000.0</td>\n",
       "      <td>automatic</td>\n",
       "      <td>pickup</td>\n",
       "      <td>unknown</td>\n",
       "      <td>1.0</td>\n",
       "      <td>2018-10-11</td>\n",
       "      <td>49</td>\n",
       "    </tr>\n",
       "    <tr>\n",
       "      <th>3808</th>\n",
       "      <td>1</td>\n",
       "      <td>2007.0</td>\n",
       "      <td>chevrolet tahoe</td>\n",
       "      <td>good</td>\n",
       "      <td>8.0</td>\n",
       "      <td>gas</td>\n",
       "      <td>200.0</td>\n",
       "      <td>automatic</td>\n",
       "      <td>SUV</td>\n",
       "      <td>red</td>\n",
       "      <td>0.0</td>\n",
       "      <td>2019-03-18</td>\n",
       "      <td>63</td>\n",
       "    </tr>\n",
       "    <tr>\n",
       "      <th>3902</th>\n",
       "      <td>1</td>\n",
       "      <td>1996.0</td>\n",
       "      <td>ford f-150</td>\n",
       "      <td>fair</td>\n",
       "      <td>8.0</td>\n",
       "      <td>gas</td>\n",
       "      <td>163000.0</td>\n",
       "      <td>manual</td>\n",
       "      <td>truck</td>\n",
       "      <td>white</td>\n",
       "      <td>0.0</td>\n",
       "      <td>2019-02-23</td>\n",
       "      <td>54</td>\n",
       "    </tr>\n",
       "    <tr>\n",
       "      <th>4140</th>\n",
       "      <td>1</td>\n",
       "      <td>2004.0</td>\n",
       "      <td>chevrolet silverado</td>\n",
       "      <td>excellent</td>\n",
       "      <td>8.0</td>\n",
       "      <td>diesel</td>\n",
       "      <td>83000.0</td>\n",
       "      <td>automatic</td>\n",
       "      <td>pickup</td>\n",
       "      <td>unknown</td>\n",
       "      <td>1.0</td>\n",
       "      <td>2019-02-04</td>\n",
       "      <td>14</td>\n",
       "    </tr>\n",
       "    <tr>\n",
       "      <th>...</th>\n",
       "      <td>...</td>\n",
       "      <td>...</td>\n",
       "      <td>...</td>\n",
       "      <td>...</td>\n",
       "      <td>...</td>\n",
       "      <td>...</td>\n",
       "      <td>...</td>\n",
       "      <td>...</td>\n",
       "      <td>...</td>\n",
       "      <td>...</td>\n",
       "      <td>...</td>\n",
       "      <td>...</td>\n",
       "      <td>...</td>\n",
       "    </tr>\n",
       "    <tr>\n",
       "      <th>49699</th>\n",
       "      <td>1</td>\n",
       "      <td>2007.0</td>\n",
       "      <td>chevrolet trailblazer</td>\n",
       "      <td>excellent</td>\n",
       "      <td>8.0</td>\n",
       "      <td>gas</td>\n",
       "      <td>147500.0</td>\n",
       "      <td>automatic</td>\n",
       "      <td>SUV</td>\n",
       "      <td>black</td>\n",
       "      <td>1.0</td>\n",
       "      <td>2018-08-06</td>\n",
       "      <td>28</td>\n",
       "    </tr>\n",
       "    <tr>\n",
       "      <th>49709</th>\n",
       "      <td>1</td>\n",
       "      <td>2010.0</td>\n",
       "      <td>ford f150</td>\n",
       "      <td>excellent</td>\n",
       "      <td>8.0</td>\n",
       "      <td>gas</td>\n",
       "      <td>139700.0</td>\n",
       "      <td>other</td>\n",
       "      <td>pickup</td>\n",
       "      <td>red</td>\n",
       "      <td>1.0</td>\n",
       "      <td>2019-03-11</td>\n",
       "      <td>18</td>\n",
       "    </tr>\n",
       "    <tr>\n",
       "      <th>50245</th>\n",
       "      <td>1</td>\n",
       "      <td>1986.0</td>\n",
       "      <td>chevrolet silverado</td>\n",
       "      <td>good</td>\n",
       "      <td>8.0</td>\n",
       "      <td>gas</td>\n",
       "      <td>93000.0</td>\n",
       "      <td>automatic</td>\n",
       "      <td>truck</td>\n",
       "      <td>red</td>\n",
       "      <td>1.0</td>\n",
       "      <td>2018-11-30</td>\n",
       "      <td>50</td>\n",
       "    </tr>\n",
       "    <tr>\n",
       "      <th>50393</th>\n",
       "      <td>1</td>\n",
       "      <td>2003.0</td>\n",
       "      <td>gmc sierra 2500hd</td>\n",
       "      <td>good</td>\n",
       "      <td>8.0</td>\n",
       "      <td>diesel</td>\n",
       "      <td>212300.0</td>\n",
       "      <td>automatic</td>\n",
       "      <td>pickup</td>\n",
       "      <td>black</td>\n",
       "      <td>1.0</td>\n",
       "      <td>2019-04-12</td>\n",
       "      <td>28</td>\n",
       "    </tr>\n",
       "    <tr>\n",
       "      <th>51256</th>\n",
       "      <td>1</td>\n",
       "      <td>2012.0</td>\n",
       "      <td>honda civic lx</td>\n",
       "      <td>excellent</td>\n",
       "      <td>4.0</td>\n",
       "      <td>gas</td>\n",
       "      <td>71262.0</td>\n",
       "      <td>automatic</td>\n",
       "      <td>sedan</td>\n",
       "      <td>blue</td>\n",
       "      <td>0.0</td>\n",
       "      <td>2018-05-06</td>\n",
       "      <td>53</td>\n",
       "    </tr>\n",
       "  </tbody>\n",
       "</table>\n",
       "<p>798 rows × 13 columns</p>\n",
       "</div>"
      ],
      "text/plain": [
       "       price  model_year                  model  condition  cylinders    fuel  \\\n",
       "405        1      2014.0       chevrolet camaro  excellent        6.0     gas   \n",
       "3063       1      1998.0    chevrolet silverado       good        8.0     gas   \n",
       "3808       1      2007.0        chevrolet tahoe       good        8.0     gas   \n",
       "3902       1      1996.0             ford f-150       fair        8.0     gas   \n",
       "4140       1      2004.0    chevrolet silverado  excellent        8.0  diesel   \n",
       "...      ...         ...                    ...        ...        ...     ...   \n",
       "49699      1      2007.0  chevrolet trailblazer  excellent        8.0     gas   \n",
       "49709      1      2010.0              ford f150  excellent        8.0     gas   \n",
       "50245      1      1986.0    chevrolet silverado       good        8.0     gas   \n",
       "50393      1      2003.0      gmc sierra 2500hd       good        8.0  diesel   \n",
       "51256      1      2012.0         honda civic lx  excellent        4.0     gas   \n",
       "\n",
       "       odometer transmission    type paint_color  is_4wd date_posted  \\\n",
       "405     71310.0    automatic   coupe     unknown     0.0  2018-07-14   \n",
       "3063   164000.0    automatic  pickup     unknown     1.0  2018-10-11   \n",
       "3808      200.0    automatic     SUV         red     0.0  2019-03-18   \n",
       "3902   163000.0       manual   truck       white     0.0  2019-02-23   \n",
       "4140    83000.0    automatic  pickup     unknown     1.0  2019-02-04   \n",
       "...         ...          ...     ...         ...     ...         ...   \n",
       "49699  147500.0    automatic     SUV       black     1.0  2018-08-06   \n",
       "49709  139700.0        other  pickup         red     1.0  2019-03-11   \n",
       "50245   93000.0    automatic   truck         red     1.0  2018-11-30   \n",
       "50393  212300.0    automatic  pickup       black     1.0  2019-04-12   \n",
       "51256   71262.0    automatic   sedan        blue     0.0  2018-05-06   \n",
       "\n",
       "       days_listed  \n",
       "405             29  \n",
       "3063            49  \n",
       "3808            63  \n",
       "3902            54  \n",
       "4140            14  \n",
       "...            ...  \n",
       "49699           28  \n",
       "49709           18  \n",
       "50245           50  \n",
       "50393           28  \n",
       "51256           53  \n",
       "\n",
       "[798 rows x 13 columns]"
      ]
     },
     "execution_count": 25,
     "metadata": {},
     "output_type": "execute_result"
    }
   ],
   "source": [
    "df.query(\"price == 1 \")"
   ]
  },
  {
   "cell_type": "code",
   "execution_count": 26,
   "metadata": {},
   "outputs": [
    {
     "data": {
      "text/html": [
       "<div>\n",
       "<style scoped>\n",
       "    .dataframe tbody tr th:only-of-type {\n",
       "        vertical-align: middle;\n",
       "    }\n",
       "\n",
       "    .dataframe tbody tr th {\n",
       "        vertical-align: top;\n",
       "    }\n",
       "\n",
       "    .dataframe thead th {\n",
       "        text-align: right;\n",
       "    }\n",
       "</style>\n",
       "<table border=\"1\" class=\"dataframe\">\n",
       "  <thead>\n",
       "    <tr style=\"text-align: right;\">\n",
       "      <th></th>\n",
       "      <th>price</th>\n",
       "      <th>model_year</th>\n",
       "      <th>model</th>\n",
       "      <th>condition</th>\n",
       "      <th>cylinders</th>\n",
       "      <th>fuel</th>\n",
       "      <th>odometer</th>\n",
       "      <th>transmission</th>\n",
       "      <th>type</th>\n",
       "      <th>paint_color</th>\n",
       "      <th>is_4wd</th>\n",
       "      <th>date_posted</th>\n",
       "      <th>days_listed</th>\n",
       "    </tr>\n",
       "  </thead>\n",
       "  <tbody>\n",
       "    <tr>\n",
       "      <th>33201</th>\n",
       "      <td>199</td>\n",
       "      <td>2015.0</td>\n",
       "      <td>nissan sentra</td>\n",
       "      <td>excellent</td>\n",
       "      <td>4.0</td>\n",
       "      <td>gas</td>\n",
       "      <td>120000.0</td>\n",
       "      <td>automatic</td>\n",
       "      <td>sedan</td>\n",
       "      <td>grey</td>\n",
       "      <td>0.0</td>\n",
       "      <td>2019-02-21</td>\n",
       "      <td>67</td>\n",
       "    </tr>\n",
       "    <tr>\n",
       "      <th>35142</th>\n",
       "      <td>199</td>\n",
       "      <td>2014.0</td>\n",
       "      <td>ford focus</td>\n",
       "      <td>excellent</td>\n",
       "      <td>4.0</td>\n",
       "      <td>gas</td>\n",
       "      <td>53000.0</td>\n",
       "      <td>automatic</td>\n",
       "      <td>sedan</td>\n",
       "      <td>white</td>\n",
       "      <td>0.0</td>\n",
       "      <td>2018-10-04</td>\n",
       "      <td>4</td>\n",
       "    </tr>\n",
       "    <tr>\n",
       "      <th>33818</th>\n",
       "      <td>199</td>\n",
       "      <td>2014.0</td>\n",
       "      <td>volkswagen passat</td>\n",
       "      <td>excellent</td>\n",
       "      <td>4.0</td>\n",
       "      <td>gas</td>\n",
       "      <td>61000.0</td>\n",
       "      <td>automatic</td>\n",
       "      <td>sedan</td>\n",
       "      <td>white</td>\n",
       "      <td>0.0</td>\n",
       "      <td>2018-05-21</td>\n",
       "      <td>75</td>\n",
       "    </tr>\n",
       "    <tr>\n",
       "      <th>15134</th>\n",
       "      <td>199</td>\n",
       "      <td>2018.0</td>\n",
       "      <td>toyota camry</td>\n",
       "      <td>excellent</td>\n",
       "      <td>4.0</td>\n",
       "      <td>gas</td>\n",
       "      <td>42114.0</td>\n",
       "      <td>automatic</td>\n",
       "      <td>SUV</td>\n",
       "      <td>unknown</td>\n",
       "      <td>0.0</td>\n",
       "      <td>2018-05-06</td>\n",
       "      <td>30</td>\n",
       "    </tr>\n",
       "    <tr>\n",
       "      <th>34762</th>\n",
       "      <td>199</td>\n",
       "      <td>2013.0</td>\n",
       "      <td>kia soul</td>\n",
       "      <td>excellent</td>\n",
       "      <td>4.0</td>\n",
       "      <td>gas</td>\n",
       "      <td>56924.0</td>\n",
       "      <td>automatic</td>\n",
       "      <td>hatchback</td>\n",
       "      <td>unknown</td>\n",
       "      <td>0.0</td>\n",
       "      <td>2018-06-06</td>\n",
       "      <td>30</td>\n",
       "    </tr>\n",
       "    <tr>\n",
       "      <th>...</th>\n",
       "      <td>...</td>\n",
       "      <td>...</td>\n",
       "      <td>...</td>\n",
       "      <td>...</td>\n",
       "      <td>...</td>\n",
       "      <td>...</td>\n",
       "      <td>...</td>\n",
       "      <td>...</td>\n",
       "      <td>...</td>\n",
       "      <td>...</td>\n",
       "      <td>...</td>\n",
       "      <td>...</td>\n",
       "      <td>...</td>\n",
       "    </tr>\n",
       "    <tr>\n",
       "      <th>13445</th>\n",
       "      <td>1</td>\n",
       "      <td>2018.0</td>\n",
       "      <td>nissan rogue</td>\n",
       "      <td>excellent</td>\n",
       "      <td>4.0</td>\n",
       "      <td>gas</td>\n",
       "      <td>24000.0</td>\n",
       "      <td>automatic</td>\n",
       "      <td>SUV</td>\n",
       "      <td>black</td>\n",
       "      <td>1.0</td>\n",
       "      <td>2018-11-12</td>\n",
       "      <td>52</td>\n",
       "    </tr>\n",
       "    <tr>\n",
       "      <th>13446</th>\n",
       "      <td>1</td>\n",
       "      <td>2015.0</td>\n",
       "      <td>toyota sienna</td>\n",
       "      <td>excellent</td>\n",
       "      <td>6.0</td>\n",
       "      <td>gas</td>\n",
       "      <td>45208.0</td>\n",
       "      <td>automatic</td>\n",
       "      <td>van</td>\n",
       "      <td>black</td>\n",
       "      <td>1.0</td>\n",
       "      <td>2018-11-30</td>\n",
       "      <td>54</td>\n",
       "    </tr>\n",
       "    <tr>\n",
       "      <th>13447</th>\n",
       "      <td>1</td>\n",
       "      <td>2014.0</td>\n",
       "      <td>honda odyssey</td>\n",
       "      <td>excellent</td>\n",
       "      <td>10.0</td>\n",
       "      <td>gas</td>\n",
       "      <td>74946.0</td>\n",
       "      <td>automatic</td>\n",
       "      <td>van</td>\n",
       "      <td>unknown</td>\n",
       "      <td>1.0</td>\n",
       "      <td>2018-05-08</td>\n",
       "      <td>43</td>\n",
       "    </tr>\n",
       "    <tr>\n",
       "      <th>13449</th>\n",
       "      <td>1</td>\n",
       "      <td>2018.0</td>\n",
       "      <td>dodge charger</td>\n",
       "      <td>excellent</td>\n",
       "      <td>8.0</td>\n",
       "      <td>gas</td>\n",
       "      <td>14245.0</td>\n",
       "      <td>automatic</td>\n",
       "      <td>sedan</td>\n",
       "      <td>black</td>\n",
       "      <td>1.0</td>\n",
       "      <td>2018-05-02</td>\n",
       "      <td>28</td>\n",
       "    </tr>\n",
       "    <tr>\n",
       "      <th>51256</th>\n",
       "      <td>1</td>\n",
       "      <td>2012.0</td>\n",
       "      <td>honda civic lx</td>\n",
       "      <td>excellent</td>\n",
       "      <td>4.0</td>\n",
       "      <td>gas</td>\n",
       "      <td>71262.0</td>\n",
       "      <td>automatic</td>\n",
       "      <td>sedan</td>\n",
       "      <td>blue</td>\n",
       "      <td>0.0</td>\n",
       "      <td>2018-05-06</td>\n",
       "      <td>53</td>\n",
       "    </tr>\n",
       "  </tbody>\n",
       "</table>\n",
       "<p>911 rows × 13 columns</p>\n",
       "</div>"
      ],
      "text/plain": [
       "       price  model_year              model  condition  cylinders fuel  \\\n",
       "33201    199      2015.0      nissan sentra  excellent        4.0  gas   \n",
       "35142    199      2014.0         ford focus  excellent        4.0  gas   \n",
       "33818    199      2014.0  volkswagen passat  excellent        4.0  gas   \n",
       "15134    199      2018.0       toyota camry  excellent        4.0  gas   \n",
       "34762    199      2013.0           kia soul  excellent        4.0  gas   \n",
       "...      ...         ...                ...        ...        ...  ...   \n",
       "13445      1      2018.0       nissan rogue  excellent        4.0  gas   \n",
       "13446      1      2015.0      toyota sienna  excellent        6.0  gas   \n",
       "13447      1      2014.0      honda odyssey  excellent       10.0  gas   \n",
       "13449      1      2018.0      dodge charger  excellent        8.0  gas   \n",
       "51256      1      2012.0     honda civic lx  excellent        4.0  gas   \n",
       "\n",
       "       odometer transmission       type paint_color  is_4wd date_posted  \\\n",
       "33201  120000.0    automatic      sedan        grey     0.0  2019-02-21   \n",
       "35142   53000.0    automatic      sedan       white     0.0  2018-10-04   \n",
       "33818   61000.0    automatic      sedan       white     0.0  2018-05-21   \n",
       "15134   42114.0    automatic        SUV     unknown     0.0  2018-05-06   \n",
       "34762   56924.0    automatic  hatchback     unknown     0.0  2018-06-06   \n",
       "...         ...          ...        ...         ...     ...         ...   \n",
       "13445   24000.0    automatic        SUV       black     1.0  2018-11-12   \n",
       "13446   45208.0    automatic        van       black     1.0  2018-11-30   \n",
       "13447   74946.0    automatic        van     unknown     1.0  2018-05-08   \n",
       "13449   14245.0    automatic      sedan       black     1.0  2018-05-02   \n",
       "51256   71262.0    automatic      sedan        blue     0.0  2018-05-06   \n",
       "\n",
       "       days_listed  \n",
       "33201           67  \n",
       "35142            4  \n",
       "33818           75  \n",
       "15134           30  \n",
       "34762           30  \n",
       "...            ...  \n",
       "13445           52  \n",
       "13446           54  \n",
       "13447           43  \n",
       "13449           28  \n",
       "51256           53  \n",
       "\n",
       "[911 rows x 13 columns]"
      ]
     },
     "execution_count": 26,
     "metadata": {},
     "output_type": "execute_result"
    }
   ],
   "source": [
    "df.query(\"price < 200 \").sort_values(by='price',ascending=False)"
   ]
  },
  {
   "cell_type": "code",
   "execution_count": 27,
   "metadata": {},
   "outputs": [
    {
     "data": {
      "text/plain": [
       "model              model_year  condition\n",
       "acura tl           1999.0      fair          1200.0\n",
       "                               good          2947.5\n",
       "                   2001.0      excellent     2300.0\n",
       "                               fair          1099.0\n",
       "                               good          3000.0\n",
       "                                             ...   \n",
       "volkswagen passat  2017.0      excellent    11500.0\n",
       "                               good         13000.0\n",
       "                               like new     16950.0\n",
       "                               new          16950.0\n",
       "                   2018.0      excellent    14500.0\n",
       "Name: price, Length: 5967, dtype: float64"
      ]
     },
     "execution_count": 27,
     "metadata": {},
     "output_type": "execute_result"
    }
   ],
   "source": [
    "df_median_price = df.groupby(['model','model_year','condition'])['price'].median()\n",
    "df_median_price"
   ]
  },
  {
   "cell_type": "code",
   "execution_count": 28,
   "metadata": {},
   "outputs": [],
   "source": [
    "def fill_price(row):\n",
    "    if row['price'] <  200 :\n",
    "        return df_median_price[row['price']]\n",
    "    return row['price']"
   ]
  },
  {
   "cell_type": "code",
   "execution_count": 29,
   "metadata": {},
   "outputs": [],
   "source": [
    "df['price'] = df.apply(fill_price, axis=1)"
   ]
  },
  {
   "cell_type": "code",
   "execution_count": 30,
   "metadata": {},
   "outputs": [
    {
     "data": {
      "text/html": [
       "<div>\n",
       "<style scoped>\n",
       "    .dataframe tbody tr th:only-of-type {\n",
       "        vertical-align: middle;\n",
       "    }\n",
       "\n",
       "    .dataframe tbody tr th {\n",
       "        vertical-align: top;\n",
       "    }\n",
       "\n",
       "    .dataframe thead th {\n",
       "        text-align: right;\n",
       "    }\n",
       "</style>\n",
       "<table border=\"1\" class=\"dataframe\">\n",
       "  <thead>\n",
       "    <tr style=\"text-align: right;\">\n",
       "      <th></th>\n",
       "      <th>price</th>\n",
       "      <th>model_year</th>\n",
       "      <th>model</th>\n",
       "      <th>condition</th>\n",
       "      <th>cylinders</th>\n",
       "      <th>fuel</th>\n",
       "      <th>odometer</th>\n",
       "      <th>transmission</th>\n",
       "      <th>type</th>\n",
       "      <th>paint_color</th>\n",
       "      <th>is_4wd</th>\n",
       "      <th>date_posted</th>\n",
       "      <th>days_listed</th>\n",
       "    </tr>\n",
       "  </thead>\n",
       "  <tbody>\n",
       "    <tr>\n",
       "      <th>11359</th>\n",
       "      <td>300000.0</td>\n",
       "      <td>2015.0</td>\n",
       "      <td>ram 2500</td>\n",
       "      <td>excellent</td>\n",
       "      <td>6.0</td>\n",
       "      <td>diesel</td>\n",
       "      <td>88500.0</td>\n",
       "      <td>automatic</td>\n",
       "      <td>truck</td>\n",
       "      <td>grey</td>\n",
       "      <td>1.0</td>\n",
       "      <td>2018-10-15</td>\n",
       "      <td>39</td>\n",
       "    </tr>\n",
       "    <tr>\n",
       "      <th>12504</th>\n",
       "      <td>375000.0</td>\n",
       "      <td>1999.0</td>\n",
       "      <td>nissan frontier</td>\n",
       "      <td>good</td>\n",
       "      <td>6.0</td>\n",
       "      <td>gas</td>\n",
       "      <td>115000.0</td>\n",
       "      <td>automatic</td>\n",
       "      <td>pickup</td>\n",
       "      <td>blue</td>\n",
       "      <td>1.0</td>\n",
       "      <td>2018-05-19</td>\n",
       "      <td>21</td>\n",
       "    </tr>\n",
       "  </tbody>\n",
       "</table>\n",
       "</div>"
      ],
      "text/plain": [
       "          price  model_year            model  condition  cylinders    fuel  \\\n",
       "11359  300000.0      2015.0         ram 2500  excellent        6.0  diesel   \n",
       "12504  375000.0      1999.0  nissan frontier       good        6.0     gas   \n",
       "\n",
       "       odometer transmission    type paint_color  is_4wd date_posted  \\\n",
       "11359   88500.0    automatic   truck        grey     1.0  2018-10-15   \n",
       "12504  115000.0    automatic  pickup        blue     1.0  2018-05-19   \n",
       "\n",
       "       days_listed  \n",
       "11359           39  \n",
       "12504           21  "
      ]
     },
     "execution_count": 30,
     "metadata": {},
     "output_type": "execute_result"
    }
   ],
   "source": [
    "df.query('price > 189000 ')"
   ]
  },
  {
   "cell_type": "code",
   "execution_count": 31,
   "metadata": {
    "scrolled": true
   },
   "outputs": [
    {
     "data": {
      "text/html": [
       "<div>\n",
       "<style scoped>\n",
       "    .dataframe tbody tr th:only-of-type {\n",
       "        vertical-align: middle;\n",
       "    }\n",
       "\n",
       "    .dataframe tbody tr th {\n",
       "        vertical-align: top;\n",
       "    }\n",
       "\n",
       "    .dataframe thead th {\n",
       "        text-align: right;\n",
       "    }\n",
       "</style>\n",
       "<table border=\"1\" class=\"dataframe\">\n",
       "  <thead>\n",
       "    <tr style=\"text-align: right;\">\n",
       "      <th></th>\n",
       "      <th>index</th>\n",
       "      <th>price</th>\n",
       "      <th>model_year</th>\n",
       "      <th>model</th>\n",
       "      <th>condition</th>\n",
       "      <th>cylinders</th>\n",
       "      <th>fuel</th>\n",
       "      <th>odometer</th>\n",
       "      <th>transmission</th>\n",
       "      <th>type</th>\n",
       "      <th>paint_color</th>\n",
       "      <th>is_4wd</th>\n",
       "      <th>date_posted</th>\n",
       "      <th>days_listed</th>\n",
       "    </tr>\n",
       "  </thead>\n",
       "  <tbody>\n",
       "    <tr>\n",
       "      <th>0</th>\n",
       "      <td>0</td>\n",
       "      <td>9400.0</td>\n",
       "      <td>2011.0</td>\n",
       "      <td>bmw x5</td>\n",
       "      <td>good</td>\n",
       "      <td>6.0</td>\n",
       "      <td>gas</td>\n",
       "      <td>145000.0</td>\n",
       "      <td>automatic</td>\n",
       "      <td>SUV</td>\n",
       "      <td>unknown</td>\n",
       "      <td>1.0</td>\n",
       "      <td>2018-06-23</td>\n",
       "      <td>19</td>\n",
       "    </tr>\n",
       "    <tr>\n",
       "      <th>1</th>\n",
       "      <td>1</td>\n",
       "      <td>25500.0</td>\n",
       "      <td>2011.0</td>\n",
       "      <td>ford f-150</td>\n",
       "      <td>good</td>\n",
       "      <td>6.0</td>\n",
       "      <td>gas</td>\n",
       "      <td>88705.0</td>\n",
       "      <td>automatic</td>\n",
       "      <td>pickup</td>\n",
       "      <td>white</td>\n",
       "      <td>1.0</td>\n",
       "      <td>2018-10-19</td>\n",
       "      <td>50</td>\n",
       "    </tr>\n",
       "    <tr>\n",
       "      <th>2</th>\n",
       "      <td>2</td>\n",
       "      <td>5500.0</td>\n",
       "      <td>2013.0</td>\n",
       "      <td>hyundai sonata</td>\n",
       "      <td>like new</td>\n",
       "      <td>4.0</td>\n",
       "      <td>gas</td>\n",
       "      <td>110000.0</td>\n",
       "      <td>automatic</td>\n",
       "      <td>sedan</td>\n",
       "      <td>red</td>\n",
       "      <td>0.0</td>\n",
       "      <td>2019-02-07</td>\n",
       "      <td>79</td>\n",
       "    </tr>\n",
       "    <tr>\n",
       "      <th>3</th>\n",
       "      <td>3</td>\n",
       "      <td>1500.0</td>\n",
       "      <td>2003.0</td>\n",
       "      <td>ford f-150</td>\n",
       "      <td>fair</td>\n",
       "      <td>8.0</td>\n",
       "      <td>gas</td>\n",
       "      <td>165025.0</td>\n",
       "      <td>automatic</td>\n",
       "      <td>pickup</td>\n",
       "      <td>unknown</td>\n",
       "      <td>0.0</td>\n",
       "      <td>2019-03-22</td>\n",
       "      <td>9</td>\n",
       "    </tr>\n",
       "    <tr>\n",
       "      <th>4</th>\n",
       "      <td>4</td>\n",
       "      <td>14900.0</td>\n",
       "      <td>2017.0</td>\n",
       "      <td>chrysler 200</td>\n",
       "      <td>excellent</td>\n",
       "      <td>4.0</td>\n",
       "      <td>gas</td>\n",
       "      <td>80903.0</td>\n",
       "      <td>automatic</td>\n",
       "      <td>sedan</td>\n",
       "      <td>black</td>\n",
       "      <td>0.0</td>\n",
       "      <td>2019-04-02</td>\n",
       "      <td>28</td>\n",
       "    </tr>\n",
       "    <tr>\n",
       "      <th>...</th>\n",
       "      <td>...</td>\n",
       "      <td>...</td>\n",
       "      <td>...</td>\n",
       "      <td>...</td>\n",
       "      <td>...</td>\n",
       "      <td>...</td>\n",
       "      <td>...</td>\n",
       "      <td>...</td>\n",
       "      <td>...</td>\n",
       "      <td>...</td>\n",
       "      <td>...</td>\n",
       "      <td>...</td>\n",
       "      <td>...</td>\n",
       "      <td>...</td>\n",
       "    </tr>\n",
       "    <tr>\n",
       "      <th>51515</th>\n",
       "      <td>51520</td>\n",
       "      <td>9249.0</td>\n",
       "      <td>2013.0</td>\n",
       "      <td>nissan maxima</td>\n",
       "      <td>like new</td>\n",
       "      <td>6.0</td>\n",
       "      <td>gas</td>\n",
       "      <td>88136.0</td>\n",
       "      <td>automatic</td>\n",
       "      <td>sedan</td>\n",
       "      <td>black</td>\n",
       "      <td>0.0</td>\n",
       "      <td>2018-10-03</td>\n",
       "      <td>37</td>\n",
       "    </tr>\n",
       "    <tr>\n",
       "      <th>51516</th>\n",
       "      <td>51521</td>\n",
       "      <td>2700.0</td>\n",
       "      <td>2002.0</td>\n",
       "      <td>honda civic</td>\n",
       "      <td>salvage</td>\n",
       "      <td>4.0</td>\n",
       "      <td>gas</td>\n",
       "      <td>181500.0</td>\n",
       "      <td>automatic</td>\n",
       "      <td>sedan</td>\n",
       "      <td>white</td>\n",
       "      <td>0.0</td>\n",
       "      <td>2018-11-14</td>\n",
       "      <td>22</td>\n",
       "    </tr>\n",
       "    <tr>\n",
       "      <th>51517</th>\n",
       "      <td>51522</td>\n",
       "      <td>3950.0</td>\n",
       "      <td>2009.0</td>\n",
       "      <td>hyundai sonata</td>\n",
       "      <td>excellent</td>\n",
       "      <td>4.0</td>\n",
       "      <td>gas</td>\n",
       "      <td>128000.0</td>\n",
       "      <td>automatic</td>\n",
       "      <td>sedan</td>\n",
       "      <td>blue</td>\n",
       "      <td>0.0</td>\n",
       "      <td>2018-11-15</td>\n",
       "      <td>32</td>\n",
       "    </tr>\n",
       "    <tr>\n",
       "      <th>51518</th>\n",
       "      <td>51523</td>\n",
       "      <td>7455.0</td>\n",
       "      <td>2013.0</td>\n",
       "      <td>toyota corolla</td>\n",
       "      <td>good</td>\n",
       "      <td>4.0</td>\n",
       "      <td>gas</td>\n",
       "      <td>139573.0</td>\n",
       "      <td>automatic</td>\n",
       "      <td>sedan</td>\n",
       "      <td>black</td>\n",
       "      <td>0.0</td>\n",
       "      <td>2018-07-02</td>\n",
       "      <td>71</td>\n",
       "    </tr>\n",
       "    <tr>\n",
       "      <th>51519</th>\n",
       "      <td>51524</td>\n",
       "      <td>6300.0</td>\n",
       "      <td>2014.0</td>\n",
       "      <td>nissan altima</td>\n",
       "      <td>good</td>\n",
       "      <td>4.0</td>\n",
       "      <td>gas</td>\n",
       "      <td>87385.0</td>\n",
       "      <td>automatic</td>\n",
       "      <td>sedan</td>\n",
       "      <td>unknown</td>\n",
       "      <td>0.0</td>\n",
       "      <td>2018-06-05</td>\n",
       "      <td>10</td>\n",
       "    </tr>\n",
       "  </tbody>\n",
       "</table>\n",
       "<p>51520 rows × 14 columns</p>\n",
       "</div>"
      ],
      "text/plain": [
       "       index    price  model_year           model  condition  cylinders fuel  \\\n",
       "0          0   9400.0      2011.0          bmw x5       good        6.0  gas   \n",
       "1          1  25500.0      2011.0      ford f-150       good        6.0  gas   \n",
       "2          2   5500.0      2013.0  hyundai sonata   like new        4.0  gas   \n",
       "3          3   1500.0      2003.0      ford f-150       fair        8.0  gas   \n",
       "4          4  14900.0      2017.0    chrysler 200  excellent        4.0  gas   \n",
       "...      ...      ...         ...             ...        ...        ...  ...   \n",
       "51515  51520   9249.0      2013.0   nissan maxima   like new        6.0  gas   \n",
       "51516  51521   2700.0      2002.0     honda civic    salvage        4.0  gas   \n",
       "51517  51522   3950.0      2009.0  hyundai sonata  excellent        4.0  gas   \n",
       "51518  51523   7455.0      2013.0  toyota corolla       good        4.0  gas   \n",
       "51519  51524   6300.0      2014.0   nissan altima       good        4.0  gas   \n",
       "\n",
       "       odometer transmission    type paint_color  is_4wd date_posted  \\\n",
       "0      145000.0    automatic     SUV     unknown     1.0  2018-06-23   \n",
       "1       88705.0    automatic  pickup       white     1.0  2018-10-19   \n",
       "2      110000.0    automatic   sedan         red     0.0  2019-02-07   \n",
       "3      165025.0    automatic  pickup     unknown     0.0  2019-03-22   \n",
       "4       80903.0    automatic   sedan       black     0.0  2019-04-02   \n",
       "...         ...          ...     ...         ...     ...         ...   \n",
       "51515   88136.0    automatic   sedan       black     0.0  2018-10-03   \n",
       "51516  181500.0    automatic   sedan       white     0.0  2018-11-14   \n",
       "51517  128000.0    automatic   sedan        blue     0.0  2018-11-15   \n",
       "51518  139573.0    automatic   sedan       black     0.0  2018-07-02   \n",
       "51519   87385.0    automatic   sedan     unknown     0.0  2018-06-05   \n",
       "\n",
       "       days_listed  \n",
       "0               19  \n",
       "1               50  \n",
       "2               79  \n",
       "3                9  \n",
       "4               28  \n",
       "...            ...  \n",
       "51515           37  \n",
       "51516           22  \n",
       "51517           32  \n",
       "51518           71  \n",
       "51519           10  \n",
       "\n",
       "[51520 rows x 14 columns]"
      ]
     },
     "execution_count": 31,
     "metadata": {},
     "output_type": "execute_result"
    }
   ],
   "source": [
    "df= df[df['price']> 200].reset_index()\n",
    "df"
   ]
  },
  {
   "cell_type": "code",
   "execution_count": 32,
   "metadata": {},
   "outputs": [
    {
     "data": {
      "text/html": [
       "<div>\n",
       "<style scoped>\n",
       "    .dataframe tbody tr th:only-of-type {\n",
       "        vertical-align: middle;\n",
       "    }\n",
       "\n",
       "    .dataframe tbody tr th {\n",
       "        vertical-align: top;\n",
       "    }\n",
       "\n",
       "    .dataframe thead th {\n",
       "        text-align: right;\n",
       "    }\n",
       "</style>\n",
       "<table border=\"1\" class=\"dataframe\">\n",
       "  <thead>\n",
       "    <tr style=\"text-align: right;\">\n",
       "      <th></th>\n",
       "      <th>index</th>\n",
       "      <th>price</th>\n",
       "      <th>model_year</th>\n",
       "      <th>cylinders</th>\n",
       "      <th>is_4wd</th>\n",
       "      <th>days_listed</th>\n",
       "    </tr>\n",
       "  </thead>\n",
       "  <tbody>\n",
       "    <tr>\n",
       "      <th>count</th>\n",
       "      <td>51520.000000</td>\n",
       "      <td>51520.000000</td>\n",
       "      <td>51520.000000</td>\n",
       "      <td>51520.000000</td>\n",
       "      <td>51520.000000</td>\n",
       "      <td>51520.000000</td>\n",
       "    </tr>\n",
       "    <tr>\n",
       "      <th>mean</th>\n",
       "      <td>25761.874670</td>\n",
       "      <td>12207.761083</td>\n",
       "      <td>2009.793915</td>\n",
       "      <td>6.123224</td>\n",
       "      <td>0.496312</td>\n",
       "      <td>39.553804</td>\n",
       "    </tr>\n",
       "    <tr>\n",
       "      <th>std</th>\n",
       "      <td>14874.647847</td>\n",
       "      <td>9995.676399</td>\n",
       "      <td>6.099084</td>\n",
       "      <td>1.658521</td>\n",
       "      <td>0.499991</td>\n",
       "      <td>28.200162</td>\n",
       "    </tr>\n",
       "    <tr>\n",
       "      <th>min</th>\n",
       "      <td>0.000000</td>\n",
       "      <td>204.000000</td>\n",
       "      <td>1908.000000</td>\n",
       "      <td>3.000000</td>\n",
       "      <td>0.000000</td>\n",
       "      <td>0.000000</td>\n",
       "    </tr>\n",
       "    <tr>\n",
       "      <th>25%</th>\n",
       "      <td>12879.750000</td>\n",
       "      <td>5000.000000</td>\n",
       "      <td>2007.000000</td>\n",
       "      <td>4.000000</td>\n",
       "      <td>0.000000</td>\n",
       "      <td>19.000000</td>\n",
       "    </tr>\n",
       "    <tr>\n",
       "      <th>50%</th>\n",
       "      <td>25761.500000</td>\n",
       "      <td>9000.000000</td>\n",
       "      <td>2011.000000</td>\n",
       "      <td>6.000000</td>\n",
       "      <td>0.000000</td>\n",
       "      <td>33.000000</td>\n",
       "    </tr>\n",
       "    <tr>\n",
       "      <th>75%</th>\n",
       "      <td>38644.250000</td>\n",
       "      <td>16900.000000</td>\n",
       "      <td>2014.000000</td>\n",
       "      <td>8.000000</td>\n",
       "      <td>1.000000</td>\n",
       "      <td>53.000000</td>\n",
       "    </tr>\n",
       "    <tr>\n",
       "      <th>max</th>\n",
       "      <td>51524.000000</td>\n",
       "      <td>375000.000000</td>\n",
       "      <td>2019.000000</td>\n",
       "      <td>12.000000</td>\n",
       "      <td>1.000000</td>\n",
       "      <td>271.000000</td>\n",
       "    </tr>\n",
       "  </tbody>\n",
       "</table>\n",
       "</div>"
      ],
      "text/plain": [
       "              index          price    model_year     cylinders        is_4wd  \\\n",
       "count  51520.000000   51520.000000  51520.000000  51520.000000  51520.000000   \n",
       "mean   25761.874670   12207.761083   2009.793915      6.123224      0.496312   \n",
       "std    14874.647847    9995.676399      6.099084      1.658521      0.499991   \n",
       "min        0.000000     204.000000   1908.000000      3.000000      0.000000   \n",
       "25%    12879.750000    5000.000000   2007.000000      4.000000      0.000000   \n",
       "50%    25761.500000    9000.000000   2011.000000      6.000000      0.000000   \n",
       "75%    38644.250000   16900.000000   2014.000000      8.000000      1.000000   \n",
       "max    51524.000000  375000.000000   2019.000000     12.000000      1.000000   \n",
       "\n",
       "        days_listed  \n",
       "count  51520.000000  \n",
       "mean      39.553804  \n",
       "std       28.200162  \n",
       "min        0.000000  \n",
       "25%       19.000000  \n",
       "50%       33.000000  \n",
       "75%       53.000000  \n",
       "max      271.000000  "
      ]
     },
     "execution_count": 32,
     "metadata": {},
     "output_type": "execute_result"
    }
   ],
   "source": [
    "df.describe()"
   ]
  },
  {
   "cell_type": "code",
   "execution_count": 33,
   "metadata": {},
   "outputs": [
    {
     "data": {
      "text/plain": [
       "2011.0    4017\n",
       "2013.0    3994\n",
       "2012.0    3982\n",
       "2014.0    3540\n",
       "2008.0    3462\n",
       "          ... \n",
       "1955.0       1\n",
       "1929.0       1\n",
       "1948.0       1\n",
       "1961.0       1\n",
       "1936.0       1\n",
       "Name: model_year, Length: 70, dtype: int64"
      ]
     },
     "execution_count": 33,
     "metadata": {},
     "output_type": "execute_result"
    }
   ],
   "source": [
    "df['model_year'].value_counts().sort_values(ascending=False)"
   ]
  },
  {
   "cell_type": "code",
   "execution_count": 34,
   "metadata": {},
   "outputs": [
    {
     "data": {
      "text/plain": [
       "ford f-150                           2796\n",
       "chevrolet silverado 1500             2171\n",
       "ram 1500                             1750\n",
       "chevrolet silverado                  1271\n",
       "jeep wrangler                        1119\n",
       "                                     ... \n",
       "ford f-250 super duty                 241\n",
       "acura tl                              236\n",
       "kia sorento                           236\n",
       "nissan murano                         235\n",
       "mercedes-benz benze sprinter 2500      41\n",
       "Name: model, Length: 100, dtype: int64"
      ]
     },
     "execution_count": 34,
     "metadata": {},
     "output_type": "execute_result"
    }
   ],
   "source": [
    "df['model'].value_counts().sort_values(ascending=False)"
   ]
  },
  {
   "cell_type": "code",
   "execution_count": 35,
   "metadata": {},
   "outputs": [
    {
     "data": {
      "text/plain": [
       "excellent    24771\n",
       "good         20145\n",
       "like new      4741\n",
       "fair          1605\n",
       "new            143\n",
       "salvage        115\n",
       "Name: condition, dtype: int64"
      ]
     },
     "execution_count": 35,
     "metadata": {},
     "output_type": "execute_result"
    }
   ],
   "source": [
    "df['condition'].value_counts().sort_values(ascending=False)"
   ]
  },
  {
   "cell_type": "code",
   "execution_count": 36,
   "metadata": {},
   "outputs": [
    {
     "data": {
      "text/plain": [
       "8.0     17764\n",
       "6.0     17381\n",
       "4.0     15494\n",
       "10.0      549\n",
       "5.0       295\n",
       "3.0        34\n",
       "12.0        2\n",
       "3.5         1\n",
       "Name: cylinders, dtype: int64"
      ]
     },
     "execution_count": 36,
     "metadata": {},
     "output_type": "execute_result"
    }
   ],
   "source": [
    "df['cylinders'].value_counts().sort_values(ascending=False)"
   ]
  },
  {
   "cell_type": "code",
   "execution_count": 37,
   "metadata": {},
   "outputs": [
    {
     "data": {
      "text/plain": [
       "gas         47283\n",
       "diesel       3714\n",
       "hybrid        409\n",
       "other         108\n",
       "electric        6\n",
       "Name: fuel, dtype: int64"
      ]
     },
     "execution_count": 37,
     "metadata": {},
     "output_type": "execute_result"
    }
   ],
   "source": [
    "df['fuel'].value_counts().sort_values(ascending=False)"
   ]
  },
  {
   "cell_type": "code",
   "execution_count": 38,
   "metadata": {},
   "outputs": [
    {
     "data": {
      "text/plain": [
       "count      51520.0\n",
       "unique     17854.0\n",
       "top       140000.0\n",
       "freq         324.0\n",
       "Name: odometer, dtype: float64"
      ]
     },
     "execution_count": 38,
     "metadata": {},
     "output_type": "execute_result"
    }
   ],
   "source": [
    "df['odometer'].describe()"
   ]
  },
  {
   "cell_type": "code",
   "execution_count": 39,
   "metadata": {},
   "outputs": [
    {
     "data": {
      "text/plain": [
       "automatic    46897\n",
       "manual        2829\n",
       "other         1794\n",
       "Name: transmission, dtype: int64"
      ]
     },
     "execution_count": 39,
     "metadata": {},
     "output_type": "execute_result"
    }
   ],
   "source": [
    "df['transmission'].value_counts().sort_values(ascending=False)"
   ]
  },
  {
   "cell_type": "code",
   "execution_count": 40,
   "metadata": {},
   "outputs": [
    {
     "data": {
      "text/plain": [
       "SUV            12403\n",
       "truck          12353\n",
       "sedan          12151\n",
       "pickup          6988\n",
       "coupe           2303\n",
       "wagon           1541\n",
       "mini-van        1161\n",
       "hatchback       1047\n",
       "van              633\n",
       "convertible      446\n",
       "other            256\n",
       "offroad          214\n",
       "bus               24\n",
       "Name: type, dtype: int64"
      ]
     },
     "execution_count": 40,
     "metadata": {},
     "output_type": "execute_result"
    }
   ],
   "source": [
    "df['type'].value_counts().sort_values(ascending=False)"
   ]
  },
  {
   "cell_type": "code",
   "execution_count": 41,
   "metadata": {},
   "outputs": [
    {
     "data": {
      "text/plain": [
       "white      10027\n",
       "unknown     9267\n",
       "black       7692\n",
       "silver      6243\n",
       "grey        5037\n",
       "blue        4475\n",
       "red         4419\n",
       "green       1396\n",
       "brown       1223\n",
       "custom      1153\n",
       "yellow       255\n",
       "orange       231\n",
       "purple       102\n",
       "Name: paint_color, dtype: int64"
      ]
     },
     "execution_count": 41,
     "metadata": {},
     "output_type": "execute_result"
    }
   ],
   "source": [
    "df['paint_color'].value_counts().sort_values(ascending=False)"
   ]
  },
  {
   "cell_type": "code",
   "execution_count": 42,
   "metadata": {},
   "outputs": [
    {
     "data": {
      "text/plain": [
       "0.0    25950\n",
       "1.0    25570\n",
       "Name: is_4wd, dtype: int64"
      ]
     },
     "execution_count": 42,
     "metadata": {},
     "output_type": "execute_result"
    }
   ],
   "source": [
    "df['is_4wd'].value_counts().sort_values(ascending=False)"
   ]
  },
  {
   "cell_type": "code",
   "execution_count": 43,
   "metadata": {},
   "outputs": [
    {
     "data": {
      "text/plain": [
       "2019-03-17    186\n",
       "2019-01-05    184\n",
       "2018-09-20    178\n",
       "2019-03-11    176\n",
       "2018-10-09    174\n",
       "             ... \n",
       "2018-06-18    119\n",
       "2018-07-04    118\n",
       "2018-06-08    117\n",
       "2019-01-11    117\n",
       "2019-01-04    116\n",
       "Name: date_posted, Length: 354, dtype: int64"
      ]
     },
     "execution_count": 43,
     "metadata": {},
     "output_type": "execute_result"
    }
   ],
   "source": [
    "df['date_posted'].value_counts().sort_values(ascending=False)"
   ]
  },
  {
   "cell_type": "code",
   "execution_count": 44,
   "metadata": {},
   "outputs": [
    {
     "data": {
      "text/plain": [
       "count    51520.000000\n",
       "mean        39.553804\n",
       "std         28.200162\n",
       "min          0.000000\n",
       "25%         19.000000\n",
       "50%         33.000000\n",
       "75%         53.000000\n",
       "max        271.000000\n",
       "Name: days_listed, dtype: float64"
      ]
     },
     "execution_count": 44,
     "metadata": {},
     "output_type": "execute_result"
    }
   ],
   "source": [
    "df['days_listed'].describe()"
   ]
  },
  {
   "cell_type": "markdown",
   "metadata": {},
   "source": [
    "<div class=\"alert alert-block alert-success\">\n",
    "<b>Comentário do corretor</b> <a class=\"tocSkip\"></a>\n",
    "\n",
    "Dados corrigidos corretamente!\n",
    "</div>"
   ]
  },
  {
   "cell_type": "markdown",
   "metadata": {},
   "source": [
    "## Enriqueça os dados"
   ]
  },
  {
   "cell_type": "markdown",
   "metadata": {},
   "source": [
    "Adicionamos a coluna 'age' que é a idade do veículo com base da diferença entre 'date_posted' data que a propaganda foi publicada,'days_listed' dias desde a publicação até a retirada, adicionamos a coluna 'age_km' que é a kilometragem anual desse veículo e substituimos o valores de 'condition' de string em valores de string por uma escala numérica: novo = 5 ,como novo = 4,excellente = 3, bom = 2, razoável = 1 e sucata = 0."
   ]
  },
  {
   "cell_type": "code",
   "execution_count": 45,
   "metadata": {},
   "outputs": [],
   "source": [
    "# Adicione valores data/hora para quando a propaganda estiver colocada\n",
    "df['date_posted'] = pd.to_datetime(df['date_posted'], format='%Y-%m-%d')"
   ]
  },
  {
   "cell_type": "code",
   "execution_count": 46,
   "metadata": {},
   "outputs": [
    {
     "data": {
      "text/plain": [
       "2019-03-17    186\n",
       "2019-01-05    184\n",
       "2018-09-20    178\n",
       "2019-03-11    176\n",
       "2018-10-09    174\n",
       "             ... \n",
       "2018-06-18    119\n",
       "2018-07-04    118\n",
       "2019-01-11    117\n",
       "2018-06-08    117\n",
       "2019-01-04    116\n",
       "Name: date_posted, Length: 354, dtype: int64"
      ]
     },
     "execution_count": 46,
     "metadata": {},
     "output_type": "execute_result"
    }
   ],
   "source": [
    "df['date_posted'].value_counts().sort_values(ascending=False)"
   ]
  },
  {
   "cell_type": "code",
   "execution_count": 47,
   "metadata": {},
   "outputs": [],
   "source": [
    "# Adicione a idade do veículo quando a propaganda for colocada\n",
    "df['age'] = (df['date_posted'].dt.year) - (df['model_year'])\n"
   ]
  },
  {
   "cell_type": "code",
   "execution_count": 48,
   "metadata": {
    "scrolled": true
   },
   "outputs": [],
   "source": [
    "df['odometer'] = df['odometer'].astype('int')"
   ]
  },
  {
   "cell_type": "code",
   "execution_count": 49,
   "metadata": {},
   "outputs": [],
   "source": [
    "df['age'] = df['age'].astype('int')"
   ]
  },
  {
   "cell_type": "code",
   "execution_count": 50,
   "metadata": {},
   "outputs": [],
   "source": [
    "# Adicione a quilometragem média por ano\n",
    "df['age_km'] = df['odometer'] / df['age'].where(df['age'] != 0, 1)"
   ]
  },
  {
   "cell_type": "code",
   "execution_count": 51,
   "metadata": {},
   "outputs": [],
   "source": [
    "df['age_km'] = df['age_km'].astype('int')"
   ]
  },
  {
   "cell_type": "code",
   "execution_count": 52,
   "metadata": {},
   "outputs": [
    {
     "data": {
      "text/plain": [
       "count     51520.000000\n",
       "mean      17748.582046\n",
       "std       12491.352203\n",
       "min           0.000000\n",
       "25%       10903.000000\n",
       "50%       15174.500000\n",
       "75%       21262.000000\n",
       "max      373200.000000\n",
       "Name: age_km, dtype: float64"
      ]
     },
     "execution_count": 52,
     "metadata": {},
     "output_type": "execute_result"
    }
   ],
   "source": [
    "df['age_km'].describe()"
   ]
  },
  {
   "cell_type": "code",
   "execution_count": 53,
   "metadata": {},
   "outputs": [],
   "source": [
    "# Isso deve ajudar a substituir os valores condicionais por alguma coisa que pode ser manipulada mais facilmente\n",
    "\n",
    "def fill_condition(row):\n",
    "    if row['condition'] == 'new':\n",
    "        return 5  # Veículo novo\n",
    "    if row['condition'] == 'like new':\n",
    "        return 4 # Veículo igual a novo\n",
    "    if row['condition'] == 'excellent':\n",
    "        return 3 # Veículo excelente\n",
    "    if row['condition'] == 'good':\n",
    "        return 2 # Veículo bom\n",
    "    if row['condition'] == 'fair':\n",
    "        return 1 # Veículo razoável\n",
    "    if row['condition'] == 'salvage':\n",
    "        return 0 # Sucata\n",
    "   \n"
   ]
  },
  {
   "cell_type": "code",
   "execution_count": null,
   "metadata": {},
   "outputs": [],
   "source": [
    "df['condition'] = df.apply(fill_condition, axis=1)"
   ]
  },
  {
   "cell_type": "code",
   "execution_count": 55,
   "metadata": {},
   "outputs": [
    {
     "data": {
      "text/plain": [
       "3    24771\n",
       "2    20145\n",
       "4     4741\n",
       "1     1605\n",
       "5      143\n",
       "0      115\n",
       "Name: condition, dtype: int64"
      ]
     },
     "execution_count": 55,
     "metadata": {},
     "output_type": "execute_result"
    }
   ],
   "source": [
    "df['condition'].value_counts()"
   ]
  },
  {
   "cell_type": "markdown",
   "metadata": {},
   "source": [
    "<div class=\"alert alert-block alert-success\">\n",
    "<b>Comentário do corretor</b> <a class=\"tocSkip\"></a>\n",
    "\n",
    "Ok!\n",
    "</div>"
   ]
  },
  {
   "cell_type": "markdown",
   "metadata": {},
   "source": [
    "## Verifique os dados limpos"
   ]
  },
  {
   "cell_type": "markdown",
   "metadata": {},
   "source": [
    "Pronto nosso DataFrame está pronto para fazer as nossas pesquisas."
   ]
  },
  {
   "cell_type": "code",
   "execution_count": 56,
   "metadata": {},
   "outputs": [
    {
     "name": "stdout",
     "output_type": "stream",
     "text": [
      "<class 'pandas.core.frame.DataFrame'>\n",
      "RangeIndex: 51520 entries, 0 to 51519\n",
      "Data columns (total 16 columns):\n",
      " #   Column        Non-Null Count  Dtype         \n",
      "---  ------        --------------  -----         \n",
      " 0   index         51520 non-null  int64         \n",
      " 1   price         51520 non-null  float64       \n",
      " 2   model_year    51520 non-null  float64       \n",
      " 3   model         51520 non-null  object        \n",
      " 4   condition     51520 non-null  int64         \n",
      " 5   cylinders     51520 non-null  float64       \n",
      " 6   fuel          51520 non-null  object        \n",
      " 7   odometer      51520 non-null  int64         \n",
      " 8   transmission  51520 non-null  object        \n",
      " 9   type          51520 non-null  object        \n",
      " 10  paint_color   51520 non-null  object        \n",
      " 11  is_4wd        51520 non-null  float64       \n",
      " 12  date_posted   51520 non-null  datetime64[ns]\n",
      " 13  days_listed   51520 non-null  int64         \n",
      " 14  age           51520 non-null  int64         \n",
      " 15  age_km        51520 non-null  int64         \n",
      "dtypes: datetime64[ns](1), float64(4), int64(6), object(5)\n",
      "memory usage: 6.3+ MB\n"
     ]
    }
   ],
   "source": [
    "# imprima as informações gerais/resumidas sobre o DataFrame\n",
    "\n",
    "df.info()"
   ]
  },
  {
   "cell_type": "code",
   "execution_count": 57,
   "metadata": {},
   "outputs": [
    {
     "data": {
      "text/html": [
       "<div>\n",
       "<style scoped>\n",
       "    .dataframe tbody tr th:only-of-type {\n",
       "        vertical-align: middle;\n",
       "    }\n",
       "\n",
       "    .dataframe tbody tr th {\n",
       "        vertical-align: top;\n",
       "    }\n",
       "\n",
       "    .dataframe thead th {\n",
       "        text-align: right;\n",
       "    }\n",
       "</style>\n",
       "<table border=\"1\" class=\"dataframe\">\n",
       "  <thead>\n",
       "    <tr style=\"text-align: right;\">\n",
       "      <th></th>\n",
       "      <th>index</th>\n",
       "      <th>price</th>\n",
       "      <th>model_year</th>\n",
       "      <th>model</th>\n",
       "      <th>condition</th>\n",
       "      <th>cylinders</th>\n",
       "      <th>fuel</th>\n",
       "      <th>odometer</th>\n",
       "      <th>transmission</th>\n",
       "      <th>type</th>\n",
       "      <th>paint_color</th>\n",
       "      <th>is_4wd</th>\n",
       "      <th>date_posted</th>\n",
       "      <th>days_listed</th>\n",
       "      <th>age</th>\n",
       "      <th>age_km</th>\n",
       "    </tr>\n",
       "  </thead>\n",
       "  <tbody>\n",
       "    <tr>\n",
       "      <th>0</th>\n",
       "      <td>0</td>\n",
       "      <td>9400.0</td>\n",
       "      <td>2011.0</td>\n",
       "      <td>bmw x5</td>\n",
       "      <td>2</td>\n",
       "      <td>6.0</td>\n",
       "      <td>gas</td>\n",
       "      <td>145000</td>\n",
       "      <td>automatic</td>\n",
       "      <td>SUV</td>\n",
       "      <td>unknown</td>\n",
       "      <td>1.0</td>\n",
       "      <td>2018-06-23</td>\n",
       "      <td>19</td>\n",
       "      <td>7</td>\n",
       "      <td>20714</td>\n",
       "    </tr>\n",
       "    <tr>\n",
       "      <th>1</th>\n",
       "      <td>1</td>\n",
       "      <td>25500.0</td>\n",
       "      <td>2011.0</td>\n",
       "      <td>ford f-150</td>\n",
       "      <td>2</td>\n",
       "      <td>6.0</td>\n",
       "      <td>gas</td>\n",
       "      <td>88705</td>\n",
       "      <td>automatic</td>\n",
       "      <td>pickup</td>\n",
       "      <td>white</td>\n",
       "      <td>1.0</td>\n",
       "      <td>2018-10-19</td>\n",
       "      <td>50</td>\n",
       "      <td>7</td>\n",
       "      <td>12672</td>\n",
       "    </tr>\n",
       "    <tr>\n",
       "      <th>2</th>\n",
       "      <td>2</td>\n",
       "      <td>5500.0</td>\n",
       "      <td>2013.0</td>\n",
       "      <td>hyundai sonata</td>\n",
       "      <td>4</td>\n",
       "      <td>4.0</td>\n",
       "      <td>gas</td>\n",
       "      <td>110000</td>\n",
       "      <td>automatic</td>\n",
       "      <td>sedan</td>\n",
       "      <td>red</td>\n",
       "      <td>0.0</td>\n",
       "      <td>2019-02-07</td>\n",
       "      <td>79</td>\n",
       "      <td>6</td>\n",
       "      <td>18333</td>\n",
       "    </tr>\n",
       "    <tr>\n",
       "      <th>3</th>\n",
       "      <td>3</td>\n",
       "      <td>1500.0</td>\n",
       "      <td>2003.0</td>\n",
       "      <td>ford f-150</td>\n",
       "      <td>1</td>\n",
       "      <td>8.0</td>\n",
       "      <td>gas</td>\n",
       "      <td>165025</td>\n",
       "      <td>automatic</td>\n",
       "      <td>pickup</td>\n",
       "      <td>unknown</td>\n",
       "      <td>0.0</td>\n",
       "      <td>2019-03-22</td>\n",
       "      <td>9</td>\n",
       "      <td>16</td>\n",
       "      <td>10314</td>\n",
       "    </tr>\n",
       "    <tr>\n",
       "      <th>4</th>\n",
       "      <td>4</td>\n",
       "      <td>14900.0</td>\n",
       "      <td>2017.0</td>\n",
       "      <td>chrysler 200</td>\n",
       "      <td>3</td>\n",
       "      <td>4.0</td>\n",
       "      <td>gas</td>\n",
       "      <td>80903</td>\n",
       "      <td>automatic</td>\n",
       "      <td>sedan</td>\n",
       "      <td>black</td>\n",
       "      <td>0.0</td>\n",
       "      <td>2019-04-02</td>\n",
       "      <td>28</td>\n",
       "      <td>2</td>\n",
       "      <td>40451</td>\n",
       "    </tr>\n",
       "  </tbody>\n",
       "</table>\n",
       "</div>"
      ],
      "text/plain": [
       "   index    price  model_year           model  condition  cylinders fuel  \\\n",
       "0      0   9400.0      2011.0          bmw x5          2        6.0  gas   \n",
       "1      1  25500.0      2011.0      ford f-150          2        6.0  gas   \n",
       "2      2   5500.0      2013.0  hyundai sonata          4        4.0  gas   \n",
       "3      3   1500.0      2003.0      ford f-150          1        8.0  gas   \n",
       "4      4  14900.0      2017.0    chrysler 200          3        4.0  gas   \n",
       "\n",
       "   odometer transmission    type paint_color  is_4wd date_posted  days_listed  \\\n",
       "0    145000    automatic     SUV     unknown     1.0  2018-06-23           19   \n",
       "1     88705    automatic  pickup       white     1.0  2018-10-19           50   \n",
       "2    110000    automatic   sedan         red     0.0  2019-02-07           79   \n",
       "3    165025    automatic  pickup     unknown     0.0  2019-03-22            9   \n",
       "4     80903    automatic   sedan       black     0.0  2019-04-02           28   \n",
       "\n",
       "   age  age_km  \n",
       "0    7   20714  \n",
       "1    7   12672  \n",
       "2    6   18333  \n",
       "3   16   10314  \n",
       "4    2   40451  "
      ]
     },
     "execution_count": 57,
     "metadata": {},
     "output_type": "execute_result"
    }
   ],
   "source": [
    "# imprima uma amostragem dos dados\n",
    "df.head(5)"
   ]
  },
  {
   "cell_type": "markdown",
   "metadata": {},
   "source": [
    "## Estude os parâmetros fundamentais\n",
    "\n",
    "Iremos fazer um histogramas das colunas do nosso DataFrame e identificar se os valores atípicos afetam a forma e a legibilidade dos histogramas\n",
    "\n",
    "Os parâmetros são\n",
    "- Preço\n",
    "- A idade do veículo quando a propaganda foi colocada\n",
    "- Quilometragem\n",
    "- Número de cilindros\n",
    "- Condição"
   ]
  },
  {
   "cell_type": "code",
   "execution_count": 58,
   "metadata": {},
   "outputs": [
    {
     "data": {
      "image/png": "[encoded data removed]",
      "text/plain": [
       "<Figure size 432x288 with 1 Axes>"
      ]
     },
     "metadata": {
      "needs_background": "light"
     },
     "output_type": "display_data"
    }
   ],
   "source": [
    "#Histograma 'price'\n",
    "df.hist('price');\n",
    "plt.ylabel('Contagem de Veículos');\n",
    "plt.xlabel('Preço');"
   ]
  },
  {
   "cell_type": "code",
   "execution_count": 59,
   "metadata": {
    "scrolled": false
   },
   "outputs": [
    {
     "data": {
      "image/png": "[encoded data removed]",
      "text/plain": [
       "<Figure size 432x288 with 1 Axes>"
      ]
     },
     "metadata": {
      "needs_background": "light"
     },
     "output_type": "display_data"
    }
   ],
   "source": [
    "#Histograma 'age'\n",
    "df.hist('age');\n",
    "plt.ylabel('Contagem de Veículos');\n",
    "plt.xlabel('Idade');"
   ]
  },
  {
   "cell_type": "code",
   "execution_count": 60,
   "metadata": {},
   "outputs": [
    {
     "data": {
      "image/png": "[encoded data removed]",
      "text/plain": [
       "<Figure size 432x288 with 1 Axes>"
      ]
     },
     "metadata": {
      "needs_background": "light"
     },
     "output_type": "display_data"
    }
   ],
   "source": [
    "#Histograma 'age_km'\n",
    "df.hist('age_km');\n",
    "plt.ylabel('Contagem de Veículos');\n",
    "plt.xlabel('Kilometragem');"
   ]
  },
  {
   "cell_type": "code",
   "execution_count": 61,
   "metadata": {},
   "outputs": [
    {
     "data": {
      "image/png": "[encoded data removed]",
      "text/plain": [
       "<Figure size 432x288 with 1 Axes>"
      ]
     },
     "metadata": {
      "needs_background": "light"
     },
     "output_type": "display_data"
    }
   ],
   "source": [
    "#Histograma 'cylinders'\n",
    "df.hist('cylinders');\n",
    "plt.ylabel('Contagem de Veículos');\n",
    "plt.xlabel('Número de Cilindros');"
   ]
  },
  {
   "cell_type": "code",
   "execution_count": 62,
   "metadata": {},
   "outputs": [
    {
     "data": {
      "image/png": "[encoded data removed]",
      "text/plain": [
       "<Figure size 432x288 with 1 Axes>"
      ]
     },
     "metadata": {
      "needs_background": "light"
     },
     "output_type": "display_data"
    }
   ],
   "source": [
    "#Histograma 'condition'\n",
    "df.hist('condition');\n",
    "plt.ylabel('Contagem de Veículos');\n",
    "plt.xlabel('Escala numérica da condição dos veículos');"
   ]
  },
  {
   "cell_type": "markdown",
   "metadata": {},
   "source": [
    "## Estude e cuide dos valores ausentes\n",
    "\n",
    "\n",
    "Existem 3 colunas com valores atipicos 'price' , 'age' e 'age_km'. Vamos determinar o limite inferior e superior, e armazenar em novo DataFrame sem 'outliers'."
   ]
  },
  {
   "cell_type": "code",
   "execution_count": 63,
   "metadata": {},
   "outputs": [],
   "source": [
    "# Determine o limite inferior para valores atípicos\n",
    "Q1_price = df['price'].quantile(0.25)\n",
    "Q1_age = df['age'].quantile(0.25)\n",
    "Q1_age_km = df['age_km'].quantile(0.25)"
   ]
  },
  {
   "cell_type": "code",
   "execution_count": 64,
   "metadata": {},
   "outputs": [],
   "source": [
    "# Determine o limite superior para valores atípicos\n",
    "Q3_price = df['price'].quantile(0.75)\n",
    "Q3_age = df['age'].quantile(0.75)\n",
    "Q3_age_km = df['age_km'].quantile(0.75)"
   ]
  },
  {
   "cell_type": "code",
   "execution_count": 65,
   "metadata": {},
   "outputs": [],
   "source": [
    "# Armazene os dados sem os valores atípicos em um DataFrame separado\n",
    "IQR_price = Q3_price - Q1_price\n",
    "IQR_age = Q3_age - Q1_age\n",
    "IQR_age_km = Q3_age_km - Q1_age_km\n",
    "\n",
    "\n",
    "limite_superior_price = Q3_price+(1.5*IQR_price)\n",
    "limite_superior_age = Q3_age+(1.5*IQR_age)\n",
    "limite_superior_age_km = Q3_age_km+(1.5*IQR_age_km)\n",
    "\n",
    "limite_inferior_price = Q1_price - (1.5 * IQR_price)\n",
    "limite_inferior_age = Q1_age - (1.5 * IQR_age)\n",
    "limite_inferior_age_km = Q1_age_km - (1.5 * IQR_age_km)\n"
   ]
  },
  {
   "cell_type": "code",
   "execution_count": 66,
   "metadata": {},
   "outputs": [],
   "source": [
    "df_limp = df[df['price'] > limite_inferior_price] \n",
    "df_limp = df_limp[df_limp['price'] < limite_superior_price]\n",
    "df_limp = df_limp[df_limp['age'] > limite_inferior_age] \n",
    "df_limp = df_limp[df_limp['age'] < limite_superior_age]\n",
    "df_limp = df_limp[df_limp['age_km'] > limite_inferior_age_km] \n",
    "df_limp = df_limp[df_limp['age_km'] < limite_superior_age_km]"
   ]
  },
  {
   "cell_type": "markdown",
   "metadata": {},
   "source": [
    "<div class=\"alert alert-block alert-success\">\n",
    "<b>Comentário do corretor</b> <a class=\"tocSkip\"></a>\n",
    "\n",
    "Ok!\n",
    "</div>"
   ]
  },
  {
   "cell_type": "markdown",
   "metadata": {},
   "source": [
    "## Estude os parâmetros fundamentais sem valores atípicos"
   ]
  },
  {
   "cell_type": "markdown",
   "metadata": {},
   "source": [
    "Em comparação com os histogramas anteriores, todas as colunas ficaram com os sem dados mais visiveis, sendo assim podemos dizer que mais de 12000 veículos valem 5000 dolares, mais de 10000 tem a idade de 9 anos , mais de 11000 tem ao menos 14000 km rodados, 16000 veículos tem 6 cilindros e 25000 veículos, metade do nosso DataFrame, estão em excelentes condições. "
   ]
  },
  {
   "cell_type": "code",
   "execution_count": 67,
   "metadata": {
    "scrolled": true
   },
   "outputs": [
    {
     "data": {
      "image/png": "[encoded data removed]",
      "text/plain": [
       "<Figure size 432x288 with 1 Axes>"
      ]
     },
     "metadata": {
      "needs_background": "light"
     },
     "output_type": "display_data"
    }
   ],
   "source": [
    "df_limp.hist('price');\n",
    "plt.ylabel('Contagem de Veículos');\n",
    "plt.xlabel('Preço');"
   ]
  },
  {
   "cell_type": "code",
   "execution_count": 68,
   "metadata": {
    "scrolled": false
   },
   "outputs": [
    {
     "data": {
      "image/png": "[encoded data removed]",
      "text/plain": [
       "<Figure size 432x288 with 1 Axes>"
      ]
     },
     "metadata": {
      "needs_background": "light"
     },
     "output_type": "display_data"
    }
   ],
   "source": [
    "df_limp.hist('age');\n",
    "plt.ylabel('Contagem de Veículos');\n",
    "plt.xlabel('Idade');"
   ]
  },
  {
   "cell_type": "code",
   "execution_count": 69,
   "metadata": {
    "scrolled": false
   },
   "outputs": [
    {
     "data": {
      "image/png": "[encoded data removed]",
      "text/plain": [
       "<Figure size 432x288 with 1 Axes>"
      ]
     },
     "metadata": {
      "needs_background": "light"
     },
     "output_type": "display_data"
    }
   ],
   "source": [
    "df_limp.hist('age_km');\n",
    "plt.ylabel('Contagem de Veículos');\n",
    "plt.xlabel('Kilometragem');"
   ]
  },
  {
   "cell_type": "code",
   "execution_count": 70,
   "metadata": {},
   "outputs": [
    {
     "data": {
      "image/png": "[encoded data removed]",
      "text/plain": [
       "<Figure size 432x288 with 1 Axes>"
      ]
     },
     "metadata": {
      "needs_background": "light"
     },
     "output_type": "display_data"
    }
   ],
   "source": [
    "df_limp.hist('cylinders');\n",
    "plt.ylabel('Contagem de Veículos');\n",
    "plt.xlabel('Número de Cilindros');"
   ]
  },
  {
   "cell_type": "code",
   "execution_count": 71,
   "metadata": {},
   "outputs": [
    {
     "data": {
      "image/png": "[encoded data removed]",
      "text/plain": [
       "<Figure size 432x288 with 1 Axes>"
      ]
     },
     "metadata": {
      "needs_background": "light"
     },
     "output_type": "display_data"
    }
   ],
   "source": [
    "df.hist('condition');\n",
    "plt.ylabel('Contagem de Veículos');\n",
    "plt.xlabel('Condição do Veículo');"
   ]
  },
  {
   "cell_type": "markdown",
   "metadata": {},
   "source": [
    "<div class=\"alert alert-block alert-success\">\n",
    "<b>Comentário do corretor</b> <a class=\"tocSkip\"></a>\n",
    "\n",
    "Ótimo!\n",
    "</div>"
   ]
  },
  {
   "cell_type": "markdown",
   "metadata": {},
   "source": [
    "## Tempo de vida das propagandas\n",
    "\n",
    "Analisando os histogramas a seguir, percebemos que a vida média das propagandas, tem sua máxima de 39 dias e depois vem em queda livre, sobrando algumas em 46 dias."
   ]
  },
  {
   "cell_type": "code",
   "execution_count": 72,
   "metadata": {
    "scrolled": true
   },
   "outputs": [
    {
     "data": {
      "image/png": "[encoded data removed]",
      "text/plain": [
       "<Figure size 576x432 with 1 Axes>"
      ]
     },
     "metadata": {
      "needs_background": "light"
     },
     "output_type": "display_data"
    }
   ],
   "source": [
    "avg_days_listed = df_limp.pivot_table(index='model',values='days_listed', aggfunc='mean')\n",
    "avg_days_listed.hist(bins=50, figsize=(8,6));\n",
    "plt.title('Média de dias do tempo de vida das propagandas')\n",
    "plt.xlabel('Média em dias');\n",
    "plt.ylabel('Automoveis');"
   ]
  },
  {
   "cell_type": "code",
   "execution_count": 73,
   "metadata": {},
   "outputs": [
    {
     "data": {
      "image/png": "[encoded data removed]",
      "text/plain": [
       "<Figure size 576x432 with 1 Axes>"
      ]
     },
     "metadata": {
      "needs_background": "light"
     },
     "output_type": "display_data"
    }
   ],
   "source": [
    "median_days_listed = df_limp.pivot_table(index='model',values='days_listed',aggfunc='median')\n",
    "avg_days_listed.hist(bins=50, figsize=(8,6));\n",
    "plt.title('Mediana de dias do tempo de vida das propagandas')\n",
    "plt.xlabel('Mediana em dias');\n",
    "plt.ylabel('Automoveis');"
   ]
  },
  {
   "cell_type": "code",
   "execution_count": 74,
   "metadata": {
    "scrolled": true
   },
   "outputs": [
    {
     "data": {
      "image/png": "[encoded data removed]",
      "text/plain": [
       "<Figure size 432x288 with 1 Axes>"
      ]
     },
     "metadata": {
      "needs_background": "light"
     },
     "output_type": "display_data"
    }
   ],
   "source": [
    "df_limp.hist('days_listed', bins=30);\n",
    "plt.title('Dias do tempo de vida das propagandas')\n",
    "plt.xlabel('Dias');\n",
    "plt.ylabel('Automoveis');"
   ]
  },
  {
   "cell_type": "markdown",
   "metadata": {},
   "source": [
    "<div class=\"alert alert-block alert-success\">\n",
    "<b>Comentário do corretor</b> <a class=\"tocSkip\"></a>\n",
    "\n",
    "Ok!\n",
    "</div>"
   ]
  },
  {
   "cell_type": "markdown",
   "metadata": {},
   "source": [
    "## Média de preços por cada tipo de veículo"
   ]
  },
  {
   "cell_type": "markdown",
   "metadata": {},
   "source": [
    "Podemos ver a dependência do número de propagandas em relação ao tipo de veículo e média de preço sobre o tipo de veículo. 'bus' e 'truck' estão entre os veículos mais caros e 'sedan' e 'hatchback' os mais baratos. 'sedan' e 'SUV' são os tipos de veículos com os maiores números de propapgadas."
   ]
  },
  {
   "cell_type": "code",
   "execution_count": 103,
   "metadata": {
    "scrolled": true
   },
   "outputs": [
    {
     "data": {
      "image/png": "[encoded data removed]",
      "text/plain": [
       "<Figure size 576x432 with 1 Axes>"
      ]
     },
     "metadata": {
      "needs_background": "light"
     },
     "output_type": "display_data"
    }
   ],
   "source": [
    "avg_price_type = df_limp.pivot_table(index='type', values='price',aggfunc='mean').sort_values(by='price',ascending=False)\n",
    "avg_price_type.plot(kind='bar',figsize=(8,6));\n",
    "plt.xlabel('Tipo do veículo');\n",
    "plt.ylabel('Média de Preço');\n",
    "plt.title('Preço Médio por tipo de veículo');"
   ]
  },
  {
   "cell_type": "code",
   "execution_count": 104,
   "metadata": {},
   "outputs": [
    {
     "data": {
      "image/png": "[encoded data removed]",
      "text/plain": [
       "<Figure size 576x432 with 1 Axes>"
      ]
     },
     "metadata": {
      "needs_background": "light"
     },
     "output_type": "display_data"
    }
   ],
   "source": [
    "avg_price_days_listed = df_limp.pivot_table(index='type', values='days_listed',aggfunc='count').sort_values(by='days_listed',ascending=False)\n",
    "avg_price_days_listed.plot(kind='bar',figsize=(8,6));\n",
    "plt.xlabel('Tipo do veículo');\n",
    "plt.ylabel('Contagem Propaganda');\n",
    "plt.title('Contagem de propagando por tipo de veículo');"
   ]
  },
  {
   "cell_type": "markdown",
   "metadata": {},
   "source": [
    "<div class=\"alert alert-block alert-success\">\n",
    "<b>Comentário do corretor</b> <a class=\"tocSkip\"></a>\n",
    "\n",
    "Ok!\n",
    "</div>"
   ]
  },
  {
   "cell_type": "markdown",
   "metadata": {},
   "source": [
    "## Fatores de preço"
   ]
  },
  {
   "cell_type": "markdown",
   "metadata": {},
   "source": [
    "Podemos analisar que idade, quilometragem, condição, tipo de transmissão influenciam diretamente no preço do veículo, porém a cor é apenas uma questão de gosto, pois não varia muito a questão do preço."
   ]
  },
  {
   "cell_type": "code",
   "execution_count": 95,
   "metadata": {},
   "outputs": [],
   "source": [
    "df_limp_suv = df_limp.query(\"type == 'SUV'\")\n",
    "df_limp_sedan = df_limp.query(\"type == 'sedan'\")"
   ]
  },
  {
   "cell_type": "code",
   "execution_count": 105,
   "metadata": {
    "scrolled": true
   },
   "outputs": [
    {
     "data": {
      "image/png": "[encoded data removed]",
      "text/plain": [
       "<Figure size 576x576 with 2 Axes>"
      ]
     },
     "metadata": {
      "needs_background": "light"
     },
     "output_type": "display_data"
    }
   ],
   "source": [
    "fig = plt.figure(figsize = (8,8))\n",
    "sns.heatmap(df_limp.corr());\n",
    "plt.title('Correlação');"
   ]
  },
  {
   "cell_type": "code",
   "execution_count": 78,
   "metadata": {
    "scrolled": false
   },
   "outputs": [
    {
     "data": {
      "image/png": "[encoded data removed]",
      "text/plain": [
       "<Figure size 432x288 with 1 Axes>"
      ]
     },
     "metadata": {
      "needs_background": "light"
     },
     "output_type": "display_data"
    }
   ],
   "source": [
    "df_limp_suv.plot(x='age', y='price', kind='scatter', alpha=0.03);\n",
    "plt.title('Correlação Preço X Idade do Veículo : Tipo SUV');\n",
    "plt.xlabel('Idade do veículo');\n",
    "plt.ylabel('Preço');"
   ]
  },
  {
   "cell_type": "code",
   "execution_count": 79,
   "metadata": {},
   "outputs": [
    {
     "data": {
      "image/png": "[encoded data removed]",
      "text/plain": [
       "<Figure size 432x288 with 1 Axes>"
      ]
     },
     "metadata": {
      "needs_background": "light"
     },
     "output_type": "display_data"
    }
   ],
   "source": [
    "df_limp_sedan.plot(x='age', y='price', kind='scatter', alpha=0.03);\n",
    "plt.title('Correlação Preço X Idade do Veículo : Tipo Sedan');\n",
    "plt.xlabel('Idade do veículo');\n",
    "plt.ylabel('Preço');"
   ]
  },
  {
   "cell_type": "code",
   "execution_count": 80,
   "metadata": {
    "scrolled": false
   },
   "outputs": [
    {
     "data": {
      "image/png": "[encoded data removed]",
      "text/plain": [
       "<Figure size 432x288 with 1 Axes>"
      ]
     },
     "metadata": {
      "needs_background": "light"
     },
     "output_type": "display_data"
    }
   ],
   "source": [
    "df_limp_suv.plot(x='age_km', y='price', kind='scatter', alpha=0.03);\n",
    "plt.title('Correlação Preço X Kilometragem; Tipo SUV');\n",
    "plt.xlabel('kilometragem do veículo');\n",
    "plt.ylabel('Preço');"
   ]
  },
  {
   "cell_type": "code",
   "execution_count": 81,
   "metadata": {},
   "outputs": [
    {
     "data": {
      "image/png": "[encoded data removed]",
      "text/plain": [
       "<Figure size 432x288 with 1 Axes>"
      ]
     },
     "metadata": {
      "needs_background": "light"
     },
     "output_type": "display_data"
    }
   ],
   "source": [
    "df_limp_sedan.plot(x='age_km', y='price', kind='scatter', alpha=0.03);\n",
    "plt.title('Correlação Preço X Kilometragem: Tipo Sedan');\n",
    "plt.xlabel('kilometragem do veículo');\n",
    "plt.ylabel('Preço');"
   ]
  },
  {
   "cell_type": "code",
   "execution_count": 82,
   "metadata": {
    "scrolled": false
   },
   "outputs": [
    {
     "data": {
      "image/png": "[encoded data removed]",
      "text/plain": [
       "<Figure size 432x288 with 1 Axes>"
      ]
     },
     "metadata": {
      "needs_background": "light"
     },
     "output_type": "display_data"
    }
   ],
   "source": [
    "df_limp_suv.plot(x='condition', y='price', kind='scatter', alpha=0.03)\n",
    "plt.title('Correlação Preço X Condição: Tipo SUV');\n",
    "plt.xlabel('Condição do veículo');\n",
    "plt.ylabel('Preço');"
   ]
  },
  {
   "cell_type": "code",
   "execution_count": 83,
   "metadata": {},
   "outputs": [
    {
     "data": {
      "image/png": "[encoded data removed]",
      "text/plain": [
       "<Figure size 432x288 with 1 Axes>"
      ]
     },
     "metadata": {
      "needs_background": "light"
     },
     "output_type": "display_data"
    }
   ],
   "source": [
    "df_limp_sedan.plot(x='condition', y='price', kind='scatter', alpha=0.03)\n",
    "plt.title('Correlação Preço X Condição: Tipo Sedan');\n",
    "plt.xlabel('Condição do veículo');\n",
    "plt.ylabel('Preço');"
   ]
  },
  {
   "cell_type": "code",
   "execution_count": 97,
   "metadata": {
    "scrolled": true
   },
   "outputs": [
    {
     "data": {
      "image/png": "[encoded data removed]",
      "text/plain": [
       "<Figure size 720x360 with 1 Axes>"
      ]
     },
     "metadata": {
      "needs_background": "light"
     },
     "output_type": "display_data"
    }
   ],
   "source": [
    "fig, ax = plt.subplots(figsize=(10,5))\n",
    "sns.boxplot(x='transmission', y='price', data=df_limp_suv)\n",
    "plt.title('Relação Preço X Transmissão: Tipo SUV');\n",
    "plt.xlabel('Transmissão');\n",
    "plt.ylabel('Preço');"
   ]
  },
  {
   "cell_type": "code",
   "execution_count": 98,
   "metadata": {},
   "outputs": [
    {
     "data": {
      "image/png": "[encoded data removed]",
      "text/plain": [
       "<Figure size 720x360 with 1 Axes>"
      ]
     },
     "metadata": {
      "needs_background": "light"
     },
     "output_type": "display_data"
    }
   ],
   "source": [
    "fig, ax = plt.subplots(figsize=(10,5))\n",
    "sns.boxplot(x='transmission', y='price', data=df_limp_sedan)\n",
    "plt.title('Relação Preço X Transmissão: Tipo Sedan');\n",
    "plt.xlabel('Transmissão');\n",
    "plt.ylabel('Preço');"
   ]
  },
  {
   "cell_type": "code",
   "execution_count": 86,
   "metadata": {
    "scrolled": false
   },
   "outputs": [
    {
     "data": {
      "image/png": "[encoded data removed]",
      "text/plain": [
       "<Figure size 1440x360 with 1 Axes>"
      ]
     },
     "metadata": {
      "needs_background": "light"
     },
     "output_type": "display_data"
    }
   ],
   "source": [
    "fig, ax = plt.subplots(figsize=(20,5))\n",
    "sns.boxplot(x='paint_color', y='price', data=df_limp_suv)\n",
    "plt.title('Preço X Cor do veículo: SUV');\n",
    "plt.xlabel('Cor do veículo');\n",
    "plt.ylabel('Preço');"
   ]
  },
  {
   "cell_type": "code",
   "execution_count": 87,
   "metadata": {},
   "outputs": [
    {
     "data": {
      "image/png": "[encoded data removed]",
      "text/plain": [
       "<Figure size 1440x360 with 1 Axes>"
      ]
     },
     "metadata": {
      "needs_background": "light"
     },
     "output_type": "display_data"
    }
   ],
   "source": [
    "fig, ax = plt.subplots(figsize=(20,5))\n",
    "sns.boxplot(x='paint_color', y='price', data=df_limp_sedan)\n",
    "plt.title('Preço X Cor do veículo: Sedan');\n",
    "plt.xlabel('Cor do veículo');\n",
    "plt.ylabel('Preço');"
   ]
  },
  {
   "cell_type": "markdown",
   "metadata": {},
   "source": [
    "## Conclusão geral\n",
    "\n",
    "Neste projeto, importamos bibliotecas como \"pandas\" e \"numpy\" que habitualmente já utilizamos, e \"matplotlib\" e \"seaborn\" para a construção de graficos para melhor visualização e entendimento do problema.\n",
    "\n",
    "Com base nos estudos realizamos o pré-processamento de dados,em cada coluna realizamos a padronização de estilos, modificamos valores incongruentes, substituimos valores ausentes com base em estudos sobre outras colunas com valores devidamente preenchidos, removemos as duplicatas de valores existente na base de dados,e realizamos o estudo os dados coletados nos últimos anos para determinar quais fatores influenciaram o preço de um veículo.\n",
    "\n",
    "Com base na Análise exploratória de dados,concluimos que diversos fatores influênciam no preço, como: o ano, já que carros mais novos custam mais. A condição do veículo indicam que quanto mais conservado ou novo, o preço tende a ser maior. A kilometragem, carros que tem menos kilometragem tendem a ser mais caros. Os tipos mais comum que são sedan e SUV. Em média Carros SUV sua transmissão manueal normalmente é mais cara, porem o sedan, a transmissão automatica é mais cara, já a cor depende uma questão de gosto, pois tem suas médias de preço bem parecidas."
   ]
  },
  {
   "cell_type": "markdown",
   "metadata": {},
   "source": [
    "<div class=\"alert alert-block alert-success\">\n",
    "<b>Comentário do corretor</b> <a class=\"tocSkip\"></a>\n",
    "\n",
    "Muito bom Gabriel!\n",
    "</div>"
   ]
  }
 ],
 "metadata": {
  "ExecuteTimeLog": [
   {
    "duration": 828,
    "start_time": "2021-11-16T09:21:11.304Z"
   },
   {
    "duration": 893,
    "start_time": "2021-11-16T09:21:17.728Z"
   },
   {
    "duration": 1150,
    "start_time": "2021-11-16T09:21:29.568Z"
   },
   {
    "duration": 3,
    "start_time": "2021-11-16T09:24:14.495Z"
   },
   {
    "duration": 120,
    "start_time": "2021-11-16T09:24:46.630Z"
   },
   {
    "duration": 3,
    "start_time": "2021-11-16T09:28:27.882Z"
   },
   {
    "duration": 4,
    "start_time": "2021-11-16T09:29:54.281Z"
   },
   {
    "duration": 3,
    "start_time": "2021-11-16T09:30:45.936Z"
   },
   {
    "duration": 4,
    "start_time": "2021-11-16T09:31:06.300Z"
   },
   {
    "duration": 113,
    "start_time": "2021-11-16T09:31:37.208Z"
   },
   {
    "duration": 143,
    "start_time": "2021-11-16T09:31:48.656Z"
   },
   {
    "duration": 98,
    "start_time": "2021-11-16T09:31:55.678Z"
   },
   {
    "duration": 3,
    "start_time": "2021-11-16T09:32:08.535Z"
   },
   {
    "duration": 111,
    "start_time": "2021-11-16T09:32:10.120Z"
   },
   {
    "duration": 3,
    "start_time": "2021-11-16T09:32:15.732Z"
   },
   {
    "duration": 4,
    "start_time": "2021-11-16T09:32:29.423Z"
   },
   {
    "duration": 3,
    "start_time": "2021-11-16T10:03:03.074Z"
   },
   {
    "duration": 3,
    "start_time": "2021-11-16T10:10:01.288Z"
   },
   {
    "duration": 3,
    "start_time": "2021-11-16T10:10:46.923Z"
   },
   {
    "duration": 121,
    "start_time": "2021-11-16T10:37:46.494Z"
   },
   {
    "duration": 125,
    "start_time": "2021-11-16T10:38:20.632Z"
   },
   {
    "duration": 112,
    "start_time": "2021-11-16T10:46:53.001Z"
   },
   {
    "duration": 110,
    "start_time": "2021-11-16T10:48:25.775Z"
   },
   {
    "duration": 3,
    "start_time": "2021-11-16T10:50:18.720Z"
   },
   {
    "duration": 4,
    "start_time": "2021-11-16T10:50:37.649Z"
   },
   {
    "duration": 2,
    "start_time": "2021-11-16T10:50:51.884Z"
   },
   {
    "duration": 3,
    "start_time": "2021-11-16T10:51:56.237Z"
   },
   {
    "duration": 101,
    "start_time": "2021-11-16T10:53:13.791Z"
   },
   {
    "duration": 3,
    "start_time": "2021-11-16T10:55:59.186Z"
   },
   {
    "duration": 3,
    "start_time": "2021-11-16T10:56:10.751Z"
   },
   {
    "duration": 3,
    "start_time": "2021-11-16T10:56:49.038Z"
   },
   {
    "duration": 3,
    "start_time": "2021-11-16T10:56:49.174Z"
   },
   {
    "duration": 4,
    "start_time": "2021-11-16T10:56:49.414Z"
   },
   {
    "duration": 3,
    "start_time": "2021-11-16T10:56:49.680Z"
   },
   {
    "duration": 3,
    "start_time": "2021-11-16T10:56:50.370Z"
   },
   {
    "duration": 114,
    "start_time": "2021-11-16T10:59:34.518Z"
   },
   {
    "duration": 3,
    "start_time": "2021-11-16T11:01:41.201Z"
   },
   {
    "duration": 116,
    "start_time": "2021-11-16T11:01:48.754Z"
   },
   {
    "duration": 3,
    "start_time": "2021-11-16T11:02:16.685Z"
   },
   {
    "duration": 3,
    "start_time": "2021-11-16T11:02:19.479Z"
   },
   {
    "duration": 3,
    "start_time": "2021-11-16T11:02:47.067Z"
   },
   {
    "duration": 3,
    "start_time": "2021-11-16T11:02:49.353Z"
   },
   {
    "duration": 3,
    "start_time": "2021-11-16T11:03:07.835Z"
   },
   {
    "duration": 3,
    "start_time": "2021-11-16T11:03:07.953Z"
   },
   {
    "duration": 112,
    "start_time": "2021-11-16T11:07:52.072Z"
   },
   {
    "duration": 187,
    "start_time": "2021-11-16T11:09:23.468Z"
   },
   {
    "duration": 4,
    "start_time": "2021-11-16T11:10:01.455Z"
   },
   {
    "duration": 3,
    "start_time": "2021-11-16T11:10:05.069Z"
   },
   {
    "duration": 4,
    "start_time": "2021-11-16T11:10:13.376Z"
   },
   {
    "duration": 3,
    "start_time": "2021-11-16T11:10:14.434Z"
   },
   {
    "duration": 3,
    "start_time": "2021-11-16T11:10:22.853Z"
   },
   {
    "duration": 4,
    "start_time": "2021-11-16T11:27:29.279Z"
   },
   {
    "duration": 4,
    "start_time": "2021-11-16T11:29:08.919Z"
   },
   {
    "duration": 118,
    "start_time": "2021-11-16T11:29:46.703Z"
   },
   {
    "duration": 437,
    "start_time": "2021-11-16T11:36:02.181Z"
   },
   {
    "duration": 157,
    "start_time": "2021-11-16T11:36:14.388Z"
   },
   {
    "duration": 207,
    "start_time": "2021-11-16T11:47:15.898Z"
   },
   {
    "duration": 3,
    "start_time": "2021-11-16T11:53:52.092Z"
   },
   {
    "duration": 3,
    "start_time": "2021-11-16T11:53:52.236Z"
   },
   {
    "duration": 3,
    "start_time": "2021-11-16T11:59:12.005Z"
   },
   {
    "duration": 112,
    "start_time": "2021-11-16T12:00:33.446Z"
   },
   {
    "duration": 3,
    "start_time": "2021-11-16T12:02:14.453Z"
   },
   {
    "duration": 3,
    "start_time": "2021-11-16T12:02:39.512Z"
   },
   {
    "duration": 106,
    "start_time": "2021-11-16T12:03:03.460Z"
   }
  ],
  "kernelspec": {
   "display_name": "Python 3 (ipykernel)",
   "language": "python",
   "name": "python3"
  },
  "language_info": {
   "codemirror_mode": {
    "name": "ipython",
    "version": 3
   },
   "file_extension": ".py",
   "mimetype": "text/x-python",
   "name": "python",
   "nbconvert_exporter": "python",
   "pygments_lexer": "ipython3",
   "version": "3.9.5"
  },
  "toc": {
   "base_numbering": 1,
   "nav_menu": {},
   "number_sections": true,
   "sideBar": true,
   "skip_h1_title": false,
   "title_cell": "Table of Contents",
   "title_sidebar": "Contents",
   "toc_cell": false,
   "toc_position": {},
   "toc_section_display": true,
   "toc_window_display": true
  }
 },
 "nbformat": 4,
 "nbformat_minor": 2
}
