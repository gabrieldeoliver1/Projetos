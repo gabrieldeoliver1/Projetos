{
 "cells": [
  {
   "cell_type": "markdown",
   "metadata": {},
   "source": [
    "Olá Gabriel!\n",
    "\n",
    "Meu nome é Ana Paula Araújo. Fico feliz em rever seu projeto hoje.\n",
    "\n",
    "Quando vejo um erro pela primeira vez, vou apenas apontá-lo. Vou deixar você encontrá-lo e consertá-lo. Também ao longo do texto farei algumas observações sobre melhorias no código e também farei comentários sobre suas percepções sobre o assunto. Estarei aberta a feedbacks e discussões sobre o tema.\n",
    "\n",
    "Você encontrará meus comentários abaixo - **por favor, não os mova, modifique ou exclua**.\n",
    "\n",
    "Você pode encontrar meus comentários em caixas verdes, amarelas ou vermelhas como esta:\n",
    "\n",
    "<div class=\"alert alert-block alert-success\">\n",
    "<b> Comentário do revisor: </b> <a class=\"tocSkip\"></a>\n",
    "\n",
    "Sucesso. Tudo foi feito corretamente.\n",
    "</div>\n",
    "\n",
    "<div class=\"alert alert-block alert-warning\">\n",
    "<b>Comentário do revisor: </b> <a class=\"tocSkip\"></a>\n",
    "\n",
    "Observações. Algumas recomendações.\n",
    "</div>\n",
    "\n",
    "<div class=\"alert alert-block alert-danger\">\n",
    "\n",
    "<b>Comentário do revisor: </b> <a class=\"tocSkip\"></a>\n",
    "    \n",
    "Precisa de correções. O bloqueio requer algumas correções. O trabalho não pode ser aceito com os comentários em vermelho.\n",
    "</div>\n",
    "\n",
    "Você pode me responder usando isso:\n",
    "\n",
    "<div class=\"alert alert-block alert-info\">\n",
    "<b>Resposta do Aluno: Realizei as devidas correções.</b> <a class=\"tocSkip\"></a>\n",
    "</div>"
   ]
  },
  {
   "cell_type": "markdown",
   "metadata": {},
   "source": [
    "<div class=\"alert alert-block alert-success\">\n",
    "<b> Comentário geral do revisor</b> <a class=\"tocSkip\"></a>\n",
    "\n",
    "Gabriel, obrigada por enviar seu projeto. Claramente voce se esforçou bastente e seu projeto esta muito bom! Destaco que você demostrou muito dominio no conteudo e usou métodos que ainda nem foram abordado. Parabens!\n",
    "\n",
    "A maioria das minhas observações foi em tom de sugestão para ajudá-lo em futuras aplicações, eles não significam que você fez algo errado, mas são coisas que quero destacar que podem ajudá-lo a desenvolver ainda mais suas habilidades. Gostei muito do seu código. Mas ainda existem alguns pontos que devem ser corrigidos antes da sua aprovação!\n",
    "Destaco os seguintes pontos\n",
    "\n",
    "<ul style=\"color:red\"> \n",
    "      <li> Acrecentar uma descrição do projeto com os objetivos. </li> \n",
    "     <li> O arquivo não foi aberto corretamente</li> \n",
    "     <li> Sugestao do uso do parametro normalize=True no método value_counts  </li> \n",
    "    <li> Justificar algumas decisoes, como o uso do limite de 14364 e sobre o genero 'XNA'  </li> \n",
    "    <li> Fazer a categorização para a coluna purpose  </li> \n",
    "    <li> Ajustar o calculo de inadimplencias  </li> \n",
    "\n",
    "</ul>\n",
    "\n",
    "Esses pontos destacados são mais elaborados ao decorrer de cada bloco. Cada problema com nosso código é uma chance para aprendermos algo novo.\n",
    "Boa sorte! :)\n",
    "\n",
    "\n",
    "    \n",
    "</div>"
   ]
  },
  {
   "cell_type": "markdown",
   "metadata": {},
   "source": [
    "<div class=\"alert alert-block alert-success\">\n",
    "<b> Comentário geral do revisor v.2</b> <a class=\"tocSkip\"></a>\n",
    "\n",
    "Gabriel obrigada por enviar seu projeto. Fiquei muito feliz com as suas alterações, obrigada pelo tempo dedicado para faze-las. E agora o seu trabalho esta perfeito e você está pronto para a nova sprint! \n",
    "    \n",
    "Eu risquei os meus comentários anteriores nas partes que voce modificou. E meus novos comentário estao marcados da seguinte forma:\n",
    "\n",
    "\n",
    "<b> Comentário do revisor v.2: </b> \n",
    "\n",
    " Obrigada e Boa sorte ;)"
   ]
  },
  {
   "cell_type": "markdown",
   "metadata": {
    "id": "wg9-2LXSrgM1"
   },
   "source": [
    "# Análise do risco de inadimplência dos mutuários\n",
    "\n",
    "Seu projeto é preparar um relatório para a divisão de empréstimos de um banco. Você precisará descobrir se o estado civil de um cliente e o número de filhos têm impacto sobre se ele deixará de pagar um empréstimo. O banco já tem alguns dados sobre a capacidade de crédito dos clientes.\n",
    "\n",
    "Seu relatório será considerado ao criar uma **pontuação de crédito** de um cliente em potencial. A **contagem de crédito** é usada para avaliar a capacidade de um devedor em potencial de pagar seu empréstimo.\n",
    "\n",
    "[Neste caderno, você recebe dicas e instruções breves e sugestões de raciocínio. Não os ignore, pois eles são projetados para te equipar com a estrutura do projeto e o ajudarão a analisar o que você está fazendo em um nível mais profundo. Antes de enviar seu projeto, certifique-se de remover todas as dicas e descrições fornecidas a você. Em vez disso, faça com que este relatório pareça que você está enviando para seus colegas de equipe para demonstrar suas descobertas - eles não devem saber que você teve qualquer ajuda externa nossa! Para ajudá-lo, colocamos as dicas que você deve remover entre colchetes.]\n",
    "\n",
    "[Antes de mergulhar na análise de seus dados, explique os propósitos do projeto e as hipóteses que você testará.]"
   ]
  },
  {
   "cell_type": "markdown",
   "metadata": {},
   "source": [
    "<div class=\"alert alert-block alert-warning\">\n",
    "<b> Comentário do revisor: </b> <a class=\"tocSkip\"></a>\n",
    "\n",
    "Sugiro descrever um pouco mais sobre o projeto e deixar claro qual o objetivo, como tambem a criação de um index. Você também pode deletar esses comentarios de apoio entre colchetes!\n",
    "    \n",
    "</div>"
   ]
  },
  {
   "cell_type": "markdown",
   "metadata": {
    "id": "OwZg5fWSrgM4"
   },
   "source": [
    "## Abra o arquivo de dados e veja as informações gerais.\n",
    "\n",
    "Comece importando as bibliotecas e carregando os dados. Você pode perceber que precisa de bibliotecas adicionais à medida que avança, o que é totalmente bom - apenas certifique-se de atualizar esta seção quando o fizer.\n"
   ]
  },
  {
   "cell_type": "code",
   "execution_count": 1,
   "metadata": {
    "id": "boFqI3HorgM5"
   },
   "outputs": [],
   "source": [
    "# Carregando todas as bibliotecas\n",
    "import pandas as pd\n"
   ]
  },
  {
   "cell_type": "code",
   "execution_count": 2,
   "metadata": {
    "id": "yLmgW0BnrgM6"
   },
   "outputs": [],
   "source": [
    "# Carregue os dados\n",
    "df = pd.read_csv('/datasets/credit_scoring_eng.csv')\n"
   ]
  },
  {
   "cell_type": "markdown",
   "metadata": {},
   "source": [
    "<div class=\"alert alert-block alert-danger\">\n",
    "<b> Comentário do revisor: </b> <a class=\"tocSkip\"></a>\n",
    "\n",
    "<s>O arquivo não foi aberto corretamente! É importante ajustar o caminho do arquivo!    \n",
    "</div>"
   ]
  },
  {
   "cell_type": "markdown",
   "metadata": {},
   "source": [
    "<div class=\"alert alert-block alert-success\">\n",
    "<b> Comentário do revisor v.2: </b> <a class=\"tocSkip\"></a>\n",
    "\n",
    "Otimo. O arquivo foi aberto corretamente!\n",
    "</div>"
   ]
  },
  {
   "cell_type": "markdown",
   "metadata": {
    "id": "bIuPU6qUrgM6"
   },
   "source": [
    "## Tarefa 1. Exploração de dados\n",
    "\n",
    "**Descrição dos dados**\n",
    "- `children` - o número de crianças na família\n",
    "- `days_employed` - experiência de trabalho em dias\n",
    "- `dob_years` - idade do cliente em anos\n",
    "- `education` - educação do cliente\n",
    "- `education_id` - identificador de educação\n",
    "- `family_status` - estado civil do cliente\n",
    "- `family_status_id` - identificador de estado civil\n",
    "- `gender` - gênero do cliente\n",
    "- `income_type` - tipo de emprego\n",
    "- `debt` - havia alguma dívida no pagamento do empréstimo\n",
    "- `total_income` - renda mensal\n",
    "- `purpose` - o objetivo de obter um empréstimo\n",
    "\n",
    "Agora vamos explorar nossos dados. Você vai querer ver quantas colunas e linhas ele tem, veja algumas linhas para verificar possíveis problemas com os dados."
   ]
  },
  {
   "cell_type": "code",
   "execution_count": 3,
   "metadata": {
    "colab": {
     "base_uri": "https://localhost:8080/"
    },
    "id": "Nbi-tXJ4rgM7",
    "outputId": "c1a93185-2306-490a-8e32-2ac4185fd2c2"
   },
   "outputs": [
    {
     "name": "stdout",
     "output_type": "stream",
     "text": [
      "<class 'pandas.core.frame.DataFrame'>\n",
      "RangeIndex: 21525 entries, 0 to 21524\n",
      "Data columns (total 12 columns):\n",
      " #   Column            Non-Null Count  Dtype  \n",
      "---  ------            --------------  -----  \n",
      " 0   children          21525 non-null  int64  \n",
      " 1   days_employed     19351 non-null  float64\n",
      " 2   dob_years         21525 non-null  int64  \n",
      " 3   education         21525 non-null  object \n",
      " 4   education_id      21525 non-null  int64  \n",
      " 5   family_status     21525 non-null  object \n",
      " 6   family_status_id  21525 non-null  int64  \n",
      " 7   gender            21525 non-null  object \n",
      " 8   income_type       21525 non-null  object \n",
      " 9   debt              21525 non-null  int64  \n",
      " 10  total_income      19351 non-null  float64\n",
      " 11  purpose           21525 non-null  object \n",
      "dtypes: float64(2), int64(5), object(5)\n",
      "memory usage: 2.0+ MB\n"
     ]
    }
   ],
   "source": [
    "# Vamos ver quantas linhas e colunas nosso conjunto de dados tem\n",
    "\n",
    "df.info()"
   ]
  },
  {
   "cell_type": "code",
   "execution_count": 4,
   "metadata": {
    "colab": {
     "base_uri": "https://localhost:8080/",
     "height": 598
    },
    "id": "eoS_6CH0rgM7",
    "outputId": "2af97950-e361-4edf-be5b-a1674d7d6441",
    "scrolled": true
   },
   "outputs": [
    {
     "data": {
      "text/html": [
       "<div>\n",
       "<style scoped>\n",
       "    .dataframe tbody tr th:only-of-type {\n",
       "        vertical-align: middle;\n",
       "    }\n",
       "\n",
       "    .dataframe tbody tr th {\n",
       "        vertical-align: top;\n",
       "    }\n",
       "\n",
       "    .dataframe thead th {\n",
       "        text-align: right;\n",
       "    }\n",
       "</style>\n",
       "<table border=\"1\" class=\"dataframe\">\n",
       "  <thead>\n",
       "    <tr style=\"text-align: right;\">\n",
       "      <th></th>\n",
       "      <th>children</th>\n",
       "      <th>days_employed</th>\n",
       "      <th>dob_years</th>\n",
       "      <th>education</th>\n",
       "      <th>education_id</th>\n",
       "      <th>family_status</th>\n",
       "      <th>family_status_id</th>\n",
       "      <th>gender</th>\n",
       "      <th>income_type</th>\n",
       "      <th>debt</th>\n",
       "      <th>total_income</th>\n",
       "      <th>purpose</th>\n",
       "    </tr>\n",
       "  </thead>\n",
       "  <tbody>\n",
       "    <tr>\n",
       "      <th>0</th>\n",
       "      <td>1</td>\n",
       "      <td>-8437.673028</td>\n",
       "      <td>42</td>\n",
       "      <td>bachelor's degree</td>\n",
       "      <td>0</td>\n",
       "      <td>married</td>\n",
       "      <td>0</td>\n",
       "      <td>F</td>\n",
       "      <td>employee</td>\n",
       "      <td>0</td>\n",
       "      <td>40620.102</td>\n",
       "      <td>purchase of the house</td>\n",
       "    </tr>\n",
       "    <tr>\n",
       "      <th>1</th>\n",
       "      <td>1</td>\n",
       "      <td>-4024.803754</td>\n",
       "      <td>36</td>\n",
       "      <td>secondary education</td>\n",
       "      <td>1</td>\n",
       "      <td>married</td>\n",
       "      <td>0</td>\n",
       "      <td>F</td>\n",
       "      <td>employee</td>\n",
       "      <td>0</td>\n",
       "      <td>17932.802</td>\n",
       "      <td>car purchase</td>\n",
       "    </tr>\n",
       "    <tr>\n",
       "      <th>2</th>\n",
       "      <td>0</td>\n",
       "      <td>-5623.422610</td>\n",
       "      <td>33</td>\n",
       "      <td>Secondary Education</td>\n",
       "      <td>1</td>\n",
       "      <td>married</td>\n",
       "      <td>0</td>\n",
       "      <td>M</td>\n",
       "      <td>employee</td>\n",
       "      <td>0</td>\n",
       "      <td>23341.752</td>\n",
       "      <td>purchase of the house</td>\n",
       "    </tr>\n",
       "    <tr>\n",
       "      <th>3</th>\n",
       "      <td>3</td>\n",
       "      <td>-4124.747207</td>\n",
       "      <td>32</td>\n",
       "      <td>secondary education</td>\n",
       "      <td>1</td>\n",
       "      <td>married</td>\n",
       "      <td>0</td>\n",
       "      <td>M</td>\n",
       "      <td>employee</td>\n",
       "      <td>0</td>\n",
       "      <td>42820.568</td>\n",
       "      <td>supplementary education</td>\n",
       "    </tr>\n",
       "    <tr>\n",
       "      <th>4</th>\n",
       "      <td>0</td>\n",
       "      <td>340266.072047</td>\n",
       "      <td>53</td>\n",
       "      <td>secondary education</td>\n",
       "      <td>1</td>\n",
       "      <td>civil partnership</td>\n",
       "      <td>1</td>\n",
       "      <td>F</td>\n",
       "      <td>retiree</td>\n",
       "      <td>0</td>\n",
       "      <td>25378.572</td>\n",
       "      <td>to have a wedding</td>\n",
       "    </tr>\n",
       "    <tr>\n",
       "      <th>5</th>\n",
       "      <td>0</td>\n",
       "      <td>-926.185831</td>\n",
       "      <td>27</td>\n",
       "      <td>bachelor's degree</td>\n",
       "      <td>0</td>\n",
       "      <td>civil partnership</td>\n",
       "      <td>1</td>\n",
       "      <td>M</td>\n",
       "      <td>business</td>\n",
       "      <td>0</td>\n",
       "      <td>40922.170</td>\n",
       "      <td>purchase of the house</td>\n",
       "    </tr>\n",
       "    <tr>\n",
       "      <th>6</th>\n",
       "      <td>0</td>\n",
       "      <td>-2879.202052</td>\n",
       "      <td>43</td>\n",
       "      <td>bachelor's degree</td>\n",
       "      <td>0</td>\n",
       "      <td>married</td>\n",
       "      <td>0</td>\n",
       "      <td>F</td>\n",
       "      <td>business</td>\n",
       "      <td>0</td>\n",
       "      <td>38484.156</td>\n",
       "      <td>housing transactions</td>\n",
       "    </tr>\n",
       "    <tr>\n",
       "      <th>7</th>\n",
       "      <td>0</td>\n",
       "      <td>-152.779569</td>\n",
       "      <td>50</td>\n",
       "      <td>SECONDARY EDUCATION</td>\n",
       "      <td>1</td>\n",
       "      <td>married</td>\n",
       "      <td>0</td>\n",
       "      <td>M</td>\n",
       "      <td>employee</td>\n",
       "      <td>0</td>\n",
       "      <td>21731.829</td>\n",
       "      <td>education</td>\n",
       "    </tr>\n",
       "    <tr>\n",
       "      <th>8</th>\n",
       "      <td>2</td>\n",
       "      <td>-6929.865299</td>\n",
       "      <td>35</td>\n",
       "      <td>BACHELOR'S DEGREE</td>\n",
       "      <td>0</td>\n",
       "      <td>civil partnership</td>\n",
       "      <td>1</td>\n",
       "      <td>F</td>\n",
       "      <td>employee</td>\n",
       "      <td>0</td>\n",
       "      <td>15337.093</td>\n",
       "      <td>having a wedding</td>\n",
       "    </tr>\n",
       "    <tr>\n",
       "      <th>9</th>\n",
       "      <td>0</td>\n",
       "      <td>-2188.756445</td>\n",
       "      <td>41</td>\n",
       "      <td>secondary education</td>\n",
       "      <td>1</td>\n",
       "      <td>married</td>\n",
       "      <td>0</td>\n",
       "      <td>M</td>\n",
       "      <td>employee</td>\n",
       "      <td>0</td>\n",
       "      <td>23108.150</td>\n",
       "      <td>purchase of the house for my family</td>\n",
       "    </tr>\n",
       "  </tbody>\n",
       "</table>\n",
       "</div>"
      ],
      "text/plain": [
       "   children  days_employed  dob_years            education  education_id  \\\n",
       "0         1   -8437.673028         42    bachelor's degree             0   \n",
       "1         1   -4024.803754         36  secondary education             1   \n",
       "2         0   -5623.422610         33  Secondary Education             1   \n",
       "3         3   -4124.747207         32  secondary education             1   \n",
       "4         0  340266.072047         53  secondary education             1   \n",
       "5         0    -926.185831         27    bachelor's degree             0   \n",
       "6         0   -2879.202052         43    bachelor's degree             0   \n",
       "7         0    -152.779569         50  SECONDARY EDUCATION             1   \n",
       "8         2   -6929.865299         35    BACHELOR'S DEGREE             0   \n",
       "9         0   -2188.756445         41  secondary education             1   \n",
       "\n",
       "       family_status  family_status_id gender income_type  debt  total_income  \\\n",
       "0            married                 0      F    employee     0     40620.102   \n",
       "1            married                 0      F    employee     0     17932.802   \n",
       "2            married                 0      M    employee     0     23341.752   \n",
       "3            married                 0      M    employee     0     42820.568   \n",
       "4  civil partnership                 1      F     retiree     0     25378.572   \n",
       "5  civil partnership                 1      M    business     0     40922.170   \n",
       "6            married                 0      F    business     0     38484.156   \n",
       "7            married                 0      M    employee     0     21731.829   \n",
       "8  civil partnership                 1      F    employee     0     15337.093   \n",
       "9            married                 0      M    employee     0     23108.150   \n",
       "\n",
       "                               purpose  \n",
       "0                purchase of the house  \n",
       "1                         car purchase  \n",
       "2                purchase of the house  \n",
       "3              supplementary education  \n",
       "4                    to have a wedding  \n",
       "5                purchase of the house  \n",
       "6                 housing transactions  \n",
       "7                            education  \n",
       "8                     having a wedding  \n",
       "9  purchase of the house for my family  "
      ]
     },
     "execution_count": 4,
     "metadata": {},
     "output_type": "execute_result"
    }
   ],
   "source": [
    "# vamos exibir as primeiras 10 linhas\n",
    "df.head(10)\n"
   ]
  },
  {
   "cell_type": "markdown",
   "metadata": {
    "id": "9F4TdHYNrgM7"
   },
   "source": [
    "A tabela contém 12 colunas.Elas armazenam 3 tipos de dados diferentes: object, int64 e float.\n",
    "\n",
    "- `children` - int64\n",
    "- `days_employed` - float64\n",
    "- `dob_years` - int64\n",
    "- `education` - object\n",
    "- `education_id` - int64\n",
    "- `family_status` - object\n",
    "- `family_status_id` - int64\n",
    "- `gender` - object\n",
    "- `income_type` - object\n",
    "- `debt` - int64\n",
    "- `total_income` - float64\n",
    "- `purpose` - object\n",
    "\n",
    "Como podemos observar não existe algum erro sobre o estilo da colunas.\n",
    "A quantidade de valores das colunas é diferente. Isso significa que os dados contém valores ausentes.\n",
    "\n"
   ]
  },
  {
   "cell_type": "markdown",
   "metadata": {},
   "source": [
    "<div class=\"alert alert-block alert-warning\">\n",
    "<b> Comentário do revisor: </b> <a class=\"tocSkip\"></a>\n",
    "    \n",
    "Sobre o tipo dos dados, a coluna `days_employed` poder ser tranformada para int, para termos esses valores de dias inteiros!\n",
    "</div>"
   ]
  },
  {
   "cell_type": "code",
   "execution_count": 5,
   "metadata": {
    "colab": {
     "base_uri": "https://localhost:8080/",
     "height": 300
    },
    "id": "n0CVGJ6UrgM7",
    "outputId": "89b8d91e-0812-4ed4-cac8-03f3c45bdb91",
    "scrolled": false
   },
   "outputs": [
    {
     "data": {
      "text/html": [
       "<div>\n",
       "<style scoped>\n",
       "    .dataframe tbody tr th:only-of-type {\n",
       "        vertical-align: middle;\n",
       "    }\n",
       "\n",
       "    .dataframe tbody tr th {\n",
       "        vertical-align: top;\n",
       "    }\n",
       "\n",
       "    .dataframe thead th {\n",
       "        text-align: right;\n",
       "    }\n",
       "</style>\n",
       "<table border=\"1\" class=\"dataframe\">\n",
       "  <thead>\n",
       "    <tr style=\"text-align: right;\">\n",
       "      <th></th>\n",
       "      <th>children</th>\n",
       "      <th>days_employed</th>\n",
       "      <th>dob_years</th>\n",
       "      <th>education_id</th>\n",
       "      <th>family_status_id</th>\n",
       "      <th>debt</th>\n",
       "      <th>total_income</th>\n",
       "    </tr>\n",
       "  </thead>\n",
       "  <tbody>\n",
       "    <tr>\n",
       "      <th>count</th>\n",
       "      <td>21525.000000</td>\n",
       "      <td>19351.000000</td>\n",
       "      <td>21525.000000</td>\n",
       "      <td>21525.000000</td>\n",
       "      <td>21525.000000</td>\n",
       "      <td>21525.000000</td>\n",
       "      <td>19351.000000</td>\n",
       "    </tr>\n",
       "    <tr>\n",
       "      <th>mean</th>\n",
       "      <td>0.538908</td>\n",
       "      <td>63046.497661</td>\n",
       "      <td>43.293380</td>\n",
       "      <td>0.817236</td>\n",
       "      <td>0.972544</td>\n",
       "      <td>0.080883</td>\n",
       "      <td>26787.568355</td>\n",
       "    </tr>\n",
       "    <tr>\n",
       "      <th>std</th>\n",
       "      <td>1.381587</td>\n",
       "      <td>140827.311974</td>\n",
       "      <td>12.574584</td>\n",
       "      <td>0.548138</td>\n",
       "      <td>1.420324</td>\n",
       "      <td>0.272661</td>\n",
       "      <td>16475.450632</td>\n",
       "    </tr>\n",
       "    <tr>\n",
       "      <th>min</th>\n",
       "      <td>-1.000000</td>\n",
       "      <td>-18388.949901</td>\n",
       "      <td>0.000000</td>\n",
       "      <td>0.000000</td>\n",
       "      <td>0.000000</td>\n",
       "      <td>0.000000</td>\n",
       "      <td>3306.762000</td>\n",
       "    </tr>\n",
       "    <tr>\n",
       "      <th>25%</th>\n",
       "      <td>0.000000</td>\n",
       "      <td>-2747.423625</td>\n",
       "      <td>33.000000</td>\n",
       "      <td>1.000000</td>\n",
       "      <td>0.000000</td>\n",
       "      <td>0.000000</td>\n",
       "      <td>16488.504500</td>\n",
       "    </tr>\n",
       "    <tr>\n",
       "      <th>50%</th>\n",
       "      <td>0.000000</td>\n",
       "      <td>-1203.369529</td>\n",
       "      <td>42.000000</td>\n",
       "      <td>1.000000</td>\n",
       "      <td>0.000000</td>\n",
       "      <td>0.000000</td>\n",
       "      <td>23202.870000</td>\n",
       "    </tr>\n",
       "    <tr>\n",
       "      <th>75%</th>\n",
       "      <td>1.000000</td>\n",
       "      <td>-291.095954</td>\n",
       "      <td>53.000000</td>\n",
       "      <td>1.000000</td>\n",
       "      <td>1.000000</td>\n",
       "      <td>0.000000</td>\n",
       "      <td>32549.611000</td>\n",
       "    </tr>\n",
       "    <tr>\n",
       "      <th>max</th>\n",
       "      <td>20.000000</td>\n",
       "      <td>401755.400475</td>\n",
       "      <td>75.000000</td>\n",
       "      <td>4.000000</td>\n",
       "      <td>4.000000</td>\n",
       "      <td>1.000000</td>\n",
       "      <td>362496.645000</td>\n",
       "    </tr>\n",
       "  </tbody>\n",
       "</table>\n",
       "</div>"
      ],
      "text/plain": [
       "           children  days_employed     dob_years  education_id  \\\n",
       "count  21525.000000   19351.000000  21525.000000  21525.000000   \n",
       "mean       0.538908   63046.497661     43.293380      0.817236   \n",
       "std        1.381587  140827.311974     12.574584      0.548138   \n",
       "min       -1.000000  -18388.949901      0.000000      0.000000   \n",
       "25%        0.000000   -2747.423625     33.000000      1.000000   \n",
       "50%        0.000000   -1203.369529     42.000000      1.000000   \n",
       "75%        1.000000    -291.095954     53.000000      1.000000   \n",
       "max       20.000000  401755.400475     75.000000      4.000000   \n",
       "\n",
       "       family_status_id          debt   total_income  \n",
       "count      21525.000000  21525.000000   19351.000000  \n",
       "mean           0.972544      0.080883   26787.568355  \n",
       "std            1.420324      0.272661   16475.450632  \n",
       "min            0.000000      0.000000    3306.762000  \n",
       "25%            0.000000      0.000000   16488.504500  \n",
       "50%            0.000000      0.000000   23202.870000  \n",
       "75%            1.000000      0.000000   32549.611000  \n",
       "max            4.000000      1.000000  362496.645000  "
      ]
     },
     "execution_count": 5,
     "metadata": {},
     "output_type": "execute_result"
    }
   ],
   "source": [
    "# Obter informações sobre dados\n",
    "df.describe()\n"
   ]
  },
  {
   "cell_type": "markdown",
   "metadata": {
    "id": "19CeIacSrgM8"
   },
   "source": [
    "Há valores ausentes em duas colunas 'days_employed' e 'total_income', que afetam diretamente em nossa pesquisa. Vamos investigar mais anter de substituí-los por marcadores claros"
   ]
  },
  {
   "cell_type": "markdown",
   "metadata": {},
   "source": [
    "<div class=\"alert alert-block alert-success\">\n",
    "<b> Comentário do revisor: </b> <a class=\"tocSkip\"></a>\n",
    "    \n",
    "As exibições iniciais dos dados foram feitas corretamente. Boas observações! \n",
    "</div>"
   ]
  },
  {
   "cell_type": "code",
   "execution_count": 6,
   "metadata": {
    "colab": {
     "base_uri": "https://localhost:8080/",
     "height": 693
    },
    "id": "YQB9LcsYrgM8",
    "outputId": "f77efe5c-93e4-4858-fd94-00541580b12c",
    "scrolled": true
   },
   "outputs": [
    {
     "data": {
      "text/html": [
       "<div>\n",
       "<style scoped>\n",
       "    .dataframe tbody tr th:only-of-type {\n",
       "        vertical-align: middle;\n",
       "    }\n",
       "\n",
       "    .dataframe tbody tr th {\n",
       "        vertical-align: top;\n",
       "    }\n",
       "\n",
       "    .dataframe thead th {\n",
       "        text-align: right;\n",
       "    }\n",
       "</style>\n",
       "<table border=\"1\" class=\"dataframe\">\n",
       "  <thead>\n",
       "    <tr style=\"text-align: right;\">\n",
       "      <th></th>\n",
       "      <th>children</th>\n",
       "      <th>days_employed</th>\n",
       "      <th>dob_years</th>\n",
       "      <th>education</th>\n",
       "      <th>education_id</th>\n",
       "      <th>family_status</th>\n",
       "      <th>family_status_id</th>\n",
       "      <th>gender</th>\n",
       "      <th>income_type</th>\n",
       "      <th>debt</th>\n",
       "      <th>total_income</th>\n",
       "      <th>purpose</th>\n",
       "    </tr>\n",
       "  </thead>\n",
       "  <tbody>\n",
       "    <tr>\n",
       "      <th>12</th>\n",
       "      <td>0</td>\n",
       "      <td>NaN</td>\n",
       "      <td>65</td>\n",
       "      <td>secondary education</td>\n",
       "      <td>1</td>\n",
       "      <td>civil partnership</td>\n",
       "      <td>1</td>\n",
       "      <td>M</td>\n",
       "      <td>retiree</td>\n",
       "      <td>0</td>\n",
       "      <td>NaN</td>\n",
       "      <td>to have a wedding</td>\n",
       "    </tr>\n",
       "    <tr>\n",
       "      <th>26</th>\n",
       "      <td>0</td>\n",
       "      <td>NaN</td>\n",
       "      <td>41</td>\n",
       "      <td>secondary education</td>\n",
       "      <td>1</td>\n",
       "      <td>married</td>\n",
       "      <td>0</td>\n",
       "      <td>M</td>\n",
       "      <td>civil servant</td>\n",
       "      <td>0</td>\n",
       "      <td>NaN</td>\n",
       "      <td>education</td>\n",
       "    </tr>\n",
       "    <tr>\n",
       "      <th>29</th>\n",
       "      <td>0</td>\n",
       "      <td>NaN</td>\n",
       "      <td>63</td>\n",
       "      <td>secondary education</td>\n",
       "      <td>1</td>\n",
       "      <td>unmarried</td>\n",
       "      <td>4</td>\n",
       "      <td>F</td>\n",
       "      <td>retiree</td>\n",
       "      <td>0</td>\n",
       "      <td>NaN</td>\n",
       "      <td>building a real estate</td>\n",
       "    </tr>\n",
       "    <tr>\n",
       "      <th>41</th>\n",
       "      <td>0</td>\n",
       "      <td>NaN</td>\n",
       "      <td>50</td>\n",
       "      <td>secondary education</td>\n",
       "      <td>1</td>\n",
       "      <td>married</td>\n",
       "      <td>0</td>\n",
       "      <td>F</td>\n",
       "      <td>civil servant</td>\n",
       "      <td>0</td>\n",
       "      <td>NaN</td>\n",
       "      <td>second-hand car purchase</td>\n",
       "    </tr>\n",
       "    <tr>\n",
       "      <th>55</th>\n",
       "      <td>0</td>\n",
       "      <td>NaN</td>\n",
       "      <td>54</td>\n",
       "      <td>secondary education</td>\n",
       "      <td>1</td>\n",
       "      <td>civil partnership</td>\n",
       "      <td>1</td>\n",
       "      <td>F</td>\n",
       "      <td>retiree</td>\n",
       "      <td>1</td>\n",
       "      <td>NaN</td>\n",
       "      <td>to have a wedding</td>\n",
       "    </tr>\n",
       "    <tr>\n",
       "      <th>...</th>\n",
       "      <td>...</td>\n",
       "      <td>...</td>\n",
       "      <td>...</td>\n",
       "      <td>...</td>\n",
       "      <td>...</td>\n",
       "      <td>...</td>\n",
       "      <td>...</td>\n",
       "      <td>...</td>\n",
       "      <td>...</td>\n",
       "      <td>...</td>\n",
       "      <td>...</td>\n",
       "      <td>...</td>\n",
       "    </tr>\n",
       "    <tr>\n",
       "      <th>21489</th>\n",
       "      <td>2</td>\n",
       "      <td>NaN</td>\n",
       "      <td>47</td>\n",
       "      <td>Secondary Education</td>\n",
       "      <td>1</td>\n",
       "      <td>married</td>\n",
       "      <td>0</td>\n",
       "      <td>M</td>\n",
       "      <td>business</td>\n",
       "      <td>0</td>\n",
       "      <td>NaN</td>\n",
       "      <td>purchase of a car</td>\n",
       "    </tr>\n",
       "    <tr>\n",
       "      <th>21495</th>\n",
       "      <td>1</td>\n",
       "      <td>NaN</td>\n",
       "      <td>50</td>\n",
       "      <td>secondary education</td>\n",
       "      <td>1</td>\n",
       "      <td>civil partnership</td>\n",
       "      <td>1</td>\n",
       "      <td>F</td>\n",
       "      <td>employee</td>\n",
       "      <td>0</td>\n",
       "      <td>NaN</td>\n",
       "      <td>wedding ceremony</td>\n",
       "    </tr>\n",
       "    <tr>\n",
       "      <th>21497</th>\n",
       "      <td>0</td>\n",
       "      <td>NaN</td>\n",
       "      <td>48</td>\n",
       "      <td>BACHELOR'S DEGREE</td>\n",
       "      <td>0</td>\n",
       "      <td>married</td>\n",
       "      <td>0</td>\n",
       "      <td>F</td>\n",
       "      <td>business</td>\n",
       "      <td>0</td>\n",
       "      <td>NaN</td>\n",
       "      <td>building a property</td>\n",
       "    </tr>\n",
       "    <tr>\n",
       "      <th>21502</th>\n",
       "      <td>1</td>\n",
       "      <td>NaN</td>\n",
       "      <td>42</td>\n",
       "      <td>secondary education</td>\n",
       "      <td>1</td>\n",
       "      <td>married</td>\n",
       "      <td>0</td>\n",
       "      <td>F</td>\n",
       "      <td>employee</td>\n",
       "      <td>0</td>\n",
       "      <td>NaN</td>\n",
       "      <td>building a real estate</td>\n",
       "    </tr>\n",
       "    <tr>\n",
       "      <th>21510</th>\n",
       "      <td>2</td>\n",
       "      <td>NaN</td>\n",
       "      <td>28</td>\n",
       "      <td>secondary education</td>\n",
       "      <td>1</td>\n",
       "      <td>married</td>\n",
       "      <td>0</td>\n",
       "      <td>F</td>\n",
       "      <td>employee</td>\n",
       "      <td>0</td>\n",
       "      <td>NaN</td>\n",
       "      <td>car purchase</td>\n",
       "    </tr>\n",
       "  </tbody>\n",
       "</table>\n",
       "<p>2174 rows × 12 columns</p>\n",
       "</div>"
      ],
      "text/plain": [
       "       children  days_employed  dob_years            education  education_id  \\\n",
       "12            0            NaN         65  secondary education             1   \n",
       "26            0            NaN         41  secondary education             1   \n",
       "29            0            NaN         63  secondary education             1   \n",
       "41            0            NaN         50  secondary education             1   \n",
       "55            0            NaN         54  secondary education             1   \n",
       "...         ...            ...        ...                  ...           ...   \n",
       "21489         2            NaN         47  Secondary Education             1   \n",
       "21495         1            NaN         50  secondary education             1   \n",
       "21497         0            NaN         48    BACHELOR'S DEGREE             0   \n",
       "21502         1            NaN         42  secondary education             1   \n",
       "21510         2            NaN         28  secondary education             1   \n",
       "\n",
       "           family_status  family_status_id gender    income_type  debt  \\\n",
       "12     civil partnership                 1      M        retiree     0   \n",
       "26               married                 0      M  civil servant     0   \n",
       "29             unmarried                 4      F        retiree     0   \n",
       "41               married                 0      F  civil servant     0   \n",
       "55     civil partnership                 1      F        retiree     1   \n",
       "...                  ...               ...    ...            ...   ...   \n",
       "21489            married                 0      M       business     0   \n",
       "21495  civil partnership                 1      F       employee     0   \n",
       "21497            married                 0      F       business     0   \n",
       "21502            married                 0      F       employee     0   \n",
       "21510            married                 0      F       employee     0   \n",
       "\n",
       "       total_income                   purpose  \n",
       "12              NaN         to have a wedding  \n",
       "26              NaN                 education  \n",
       "29              NaN    building a real estate  \n",
       "41              NaN  second-hand car purchase  \n",
       "55              NaN         to have a wedding  \n",
       "...             ...                       ...  \n",
       "21489           NaN         purchase of a car  \n",
       "21495           NaN          wedding ceremony  \n",
       "21497           NaN       building a property  \n",
       "21502           NaN    building a real estate  \n",
       "21510           NaN              car purchase  \n",
       "\n",
       "[2174 rows x 12 columns]"
      ]
     },
     "execution_count": 6,
     "metadata": {},
     "output_type": "execute_result"
    }
   ],
   "source": [
    "# Vejamos a tabela filtrada com valores ausentes na primeira coluna com dados ausentes\n",
    "\n",
    "df[df['days_employed'].isna()]\n"
   ]
  },
  {
   "cell_type": "markdown",
   "metadata": {
    "id": "NAsHYgV7rgM9"
   },
   "source": [
    "Os valores ausentes parecem simétricos, mas podemos ter a certeza quando compararmos a quantidade de linhas e valores nulos das duas colunas simultaneamente."
   ]
  },
  {
   "cell_type": "code",
   "execution_count": 7,
   "metadata": {
    "colab": {
     "base_uri": "https://localhost:8080/"
    },
    "id": "4P88KSW5rgM9",
    "outputId": "27390c35-6e45-4331-9031-a07863dec666"
   },
   "outputs": [
    {
     "data": {
      "text/plain": [
       "children               0\n",
       "days_employed       2174\n",
       "dob_years              0\n",
       "education              0\n",
       "education_id           0\n",
       "family_status          0\n",
       "family_status_id       0\n",
       "gender                 0\n",
       "income_type            0\n",
       "debt                   0\n",
       "total_income        2174\n",
       "purpose                0\n",
       "dtype: int64"
      ]
     },
     "execution_count": 7,
     "metadata": {},
     "output_type": "execute_result"
    }
   ],
   "source": [
    "# Vamos filtrar dados e observar o número de linhas na tabela filtrada quando os valores são nulos.\n",
    "df.isna().sum()\n",
    "\n"
   ]
  },
  {
   "cell_type": "markdown",
   "metadata": {
    "id": "lRXgBPE4rgM-"
   },
   "source": [
    "**Conclusão intermediária**\n",
    "\n",
    "\n",
    "O número de linhas na tabela filtrada corresponde ao número de valores ausentes nas duas colunas, mas não podemos concluir que sejam as mesmas linhas que estejam nulas simultaneamente.\n",
    "\n",
    "\n",
    "Iremos calcular a porcentagem desses valores faltantes em relação com o nosso conjunto de dados, para verificarmos se podemos preencher e se os dados ausentes podem ser devidos à característica específica do cliente.\n",
    "contudo precisamos de mais verificações para nosso diagnóstico ser mais preciso.\n",
    "\n"
   ]
  },
  {
   "cell_type": "code",
   "execution_count": 8,
   "metadata": {
    "colab": {
     "base_uri": "https://localhost:8080/"
    },
    "id": "HlBC4PsFrgM-",
    "outputId": "fb4c577b-451d-4894-9748-8c2f48e18dd6"
   },
   "outputs": [
    {
     "data": {
      "text/plain": [
       "children             0.000000\n",
       "days_employed       10.099884\n",
       "dob_years            0.000000\n",
       "education            0.000000\n",
       "education_id         0.000000\n",
       "family_status        0.000000\n",
       "family_status_id     0.000000\n",
       "gender               0.000000\n",
       "income_type          0.000000\n",
       "debt                 0.000000\n",
       "total_income        10.099884\n",
       "purpose              0.000000\n",
       "dtype: float64"
      ]
     },
     "execution_count": 8,
     "metadata": {},
     "output_type": "execute_result"
    }
   ],
   "source": [
    "# Vamos calcular a porcentagem desses valores faltantes em relação com o nosso conjunto de dados\n",
    "\n",
    "(df.isnull().sum() / df.shape[0]) * 100\n",
    "\n"
   ]
  },
  {
   "cell_type": "markdown",
   "metadata": {},
   "source": [
    "<div class=\"alert alert-block alert-success\">\n",
    "<b> Comentário do revisor: </b> <a class=\"tocSkip\"></a>\n",
    "    \n",
    "Bom uso do shape!\n",
    "</div>"
   ]
  },
  {
   "cell_type": "code",
   "execution_count": 9,
   "metadata": {
    "colab": {
     "base_uri": "https://localhost:8080/",
     "height": 693
    },
    "id": "AW45HnIprgM_",
    "outputId": "d876c414-0b7d-4246-f91e-55f928aab632"
   },
   "outputs": [
    {
     "data": {
      "text/html": [
       "<div>\n",
       "<style scoped>\n",
       "    .dataframe tbody tr th:only-of-type {\n",
       "        vertical-align: middle;\n",
       "    }\n",
       "\n",
       "    .dataframe tbody tr th {\n",
       "        vertical-align: top;\n",
       "    }\n",
       "\n",
       "    .dataframe thead th {\n",
       "        text-align: right;\n",
       "    }\n",
       "</style>\n",
       "<table border=\"1\" class=\"dataframe\">\n",
       "  <thead>\n",
       "    <tr style=\"text-align: right;\">\n",
       "      <th></th>\n",
       "      <th>children</th>\n",
       "      <th>days_employed</th>\n",
       "      <th>dob_years</th>\n",
       "      <th>education</th>\n",
       "      <th>education_id</th>\n",
       "      <th>family_status</th>\n",
       "      <th>family_status_id</th>\n",
       "      <th>gender</th>\n",
       "      <th>income_type</th>\n",
       "      <th>debt</th>\n",
       "      <th>total_income</th>\n",
       "      <th>purpose</th>\n",
       "    </tr>\n",
       "  </thead>\n",
       "  <tbody>\n",
       "    <tr>\n",
       "      <th>12</th>\n",
       "      <td>0</td>\n",
       "      <td>NaN</td>\n",
       "      <td>65</td>\n",
       "      <td>secondary education</td>\n",
       "      <td>1</td>\n",
       "      <td>civil partnership</td>\n",
       "      <td>1</td>\n",
       "      <td>M</td>\n",
       "      <td>retiree</td>\n",
       "      <td>0</td>\n",
       "      <td>NaN</td>\n",
       "      <td>to have a wedding</td>\n",
       "    </tr>\n",
       "    <tr>\n",
       "      <th>26</th>\n",
       "      <td>0</td>\n",
       "      <td>NaN</td>\n",
       "      <td>41</td>\n",
       "      <td>secondary education</td>\n",
       "      <td>1</td>\n",
       "      <td>married</td>\n",
       "      <td>0</td>\n",
       "      <td>M</td>\n",
       "      <td>civil servant</td>\n",
       "      <td>0</td>\n",
       "      <td>NaN</td>\n",
       "      <td>education</td>\n",
       "    </tr>\n",
       "    <tr>\n",
       "      <th>29</th>\n",
       "      <td>0</td>\n",
       "      <td>NaN</td>\n",
       "      <td>63</td>\n",
       "      <td>secondary education</td>\n",
       "      <td>1</td>\n",
       "      <td>unmarried</td>\n",
       "      <td>4</td>\n",
       "      <td>F</td>\n",
       "      <td>retiree</td>\n",
       "      <td>0</td>\n",
       "      <td>NaN</td>\n",
       "      <td>building a real estate</td>\n",
       "    </tr>\n",
       "    <tr>\n",
       "      <th>41</th>\n",
       "      <td>0</td>\n",
       "      <td>NaN</td>\n",
       "      <td>50</td>\n",
       "      <td>secondary education</td>\n",
       "      <td>1</td>\n",
       "      <td>married</td>\n",
       "      <td>0</td>\n",
       "      <td>F</td>\n",
       "      <td>civil servant</td>\n",
       "      <td>0</td>\n",
       "      <td>NaN</td>\n",
       "      <td>second-hand car purchase</td>\n",
       "    </tr>\n",
       "    <tr>\n",
       "      <th>55</th>\n",
       "      <td>0</td>\n",
       "      <td>NaN</td>\n",
       "      <td>54</td>\n",
       "      <td>secondary education</td>\n",
       "      <td>1</td>\n",
       "      <td>civil partnership</td>\n",
       "      <td>1</td>\n",
       "      <td>F</td>\n",
       "      <td>retiree</td>\n",
       "      <td>1</td>\n",
       "      <td>NaN</td>\n",
       "      <td>to have a wedding</td>\n",
       "    </tr>\n",
       "    <tr>\n",
       "      <th>...</th>\n",
       "      <td>...</td>\n",
       "      <td>...</td>\n",
       "      <td>...</td>\n",
       "      <td>...</td>\n",
       "      <td>...</td>\n",
       "      <td>...</td>\n",
       "      <td>...</td>\n",
       "      <td>...</td>\n",
       "      <td>...</td>\n",
       "      <td>...</td>\n",
       "      <td>...</td>\n",
       "      <td>...</td>\n",
       "    </tr>\n",
       "    <tr>\n",
       "      <th>21489</th>\n",
       "      <td>2</td>\n",
       "      <td>NaN</td>\n",
       "      <td>47</td>\n",
       "      <td>Secondary Education</td>\n",
       "      <td>1</td>\n",
       "      <td>married</td>\n",
       "      <td>0</td>\n",
       "      <td>M</td>\n",
       "      <td>business</td>\n",
       "      <td>0</td>\n",
       "      <td>NaN</td>\n",
       "      <td>purchase of a car</td>\n",
       "    </tr>\n",
       "    <tr>\n",
       "      <th>21495</th>\n",
       "      <td>1</td>\n",
       "      <td>NaN</td>\n",
       "      <td>50</td>\n",
       "      <td>secondary education</td>\n",
       "      <td>1</td>\n",
       "      <td>civil partnership</td>\n",
       "      <td>1</td>\n",
       "      <td>F</td>\n",
       "      <td>employee</td>\n",
       "      <td>0</td>\n",
       "      <td>NaN</td>\n",
       "      <td>wedding ceremony</td>\n",
       "    </tr>\n",
       "    <tr>\n",
       "      <th>21497</th>\n",
       "      <td>0</td>\n",
       "      <td>NaN</td>\n",
       "      <td>48</td>\n",
       "      <td>BACHELOR'S DEGREE</td>\n",
       "      <td>0</td>\n",
       "      <td>married</td>\n",
       "      <td>0</td>\n",
       "      <td>F</td>\n",
       "      <td>business</td>\n",
       "      <td>0</td>\n",
       "      <td>NaN</td>\n",
       "      <td>building a property</td>\n",
       "    </tr>\n",
       "    <tr>\n",
       "      <th>21502</th>\n",
       "      <td>1</td>\n",
       "      <td>NaN</td>\n",
       "      <td>42</td>\n",
       "      <td>secondary education</td>\n",
       "      <td>1</td>\n",
       "      <td>married</td>\n",
       "      <td>0</td>\n",
       "      <td>F</td>\n",
       "      <td>employee</td>\n",
       "      <td>0</td>\n",
       "      <td>NaN</td>\n",
       "      <td>building a real estate</td>\n",
       "    </tr>\n",
       "    <tr>\n",
       "      <th>21510</th>\n",
       "      <td>2</td>\n",
       "      <td>NaN</td>\n",
       "      <td>28</td>\n",
       "      <td>secondary education</td>\n",
       "      <td>1</td>\n",
       "      <td>married</td>\n",
       "      <td>0</td>\n",
       "      <td>F</td>\n",
       "      <td>employee</td>\n",
       "      <td>0</td>\n",
       "      <td>NaN</td>\n",
       "      <td>car purchase</td>\n",
       "    </tr>\n",
       "  </tbody>\n",
       "</table>\n",
       "<p>2174 rows × 12 columns</p>\n",
       "</div>"
      ],
      "text/plain": [
       "       children  days_employed  dob_years            education  education_id  \\\n",
       "12            0            NaN         65  secondary education             1   \n",
       "26            0            NaN         41  secondary education             1   \n",
       "29            0            NaN         63  secondary education             1   \n",
       "41            0            NaN         50  secondary education             1   \n",
       "55            0            NaN         54  secondary education             1   \n",
       "...         ...            ...        ...                  ...           ...   \n",
       "21489         2            NaN         47  Secondary Education             1   \n",
       "21495         1            NaN         50  secondary education             1   \n",
       "21497         0            NaN         48    BACHELOR'S DEGREE             0   \n",
       "21502         1            NaN         42  secondary education             1   \n",
       "21510         2            NaN         28  secondary education             1   \n",
       "\n",
       "           family_status  family_status_id gender    income_type  debt  \\\n",
       "12     civil partnership                 1      M        retiree     0   \n",
       "26               married                 0      M  civil servant     0   \n",
       "29             unmarried                 4      F        retiree     0   \n",
       "41               married                 0      F  civil servant     0   \n",
       "55     civil partnership                 1      F        retiree     1   \n",
       "...                  ...               ...    ...            ...   ...   \n",
       "21489            married                 0      M       business     0   \n",
       "21495  civil partnership                 1      F       employee     0   \n",
       "21497            married                 0      F       business     0   \n",
       "21502            married                 0      F       employee     0   \n",
       "21510            married                 0      F       employee     0   \n",
       "\n",
       "       total_income                   purpose  \n",
       "12              NaN         to have a wedding  \n",
       "26              NaN                 education  \n",
       "29              NaN    building a real estate  \n",
       "41              NaN  second-hand car purchase  \n",
       "55              NaN         to have a wedding  \n",
       "...             ...                       ...  \n",
       "21489           NaN         purchase of a car  \n",
       "21495           NaN          wedding ceremony  \n",
       "21497           NaN       building a property  \n",
       "21502           NaN    building a real estate  \n",
       "21510           NaN              car purchase  \n",
       "\n",
       "[2174 rows x 12 columns]"
      ]
     },
     "execution_count": 9,
     "metadata": {},
     "output_type": "execute_result"
    }
   ],
   "source": [
    "# Verificar a distribuição\n",
    "df_null = df[df['days_employed'].isnull() & df['total_income'].isnull()]\n",
    "df_null\n"
   ]
  },
  {
   "cell_type": "markdown",
   "metadata": {},
   "source": [
    "<div class=\"alert alert-block alert-warning\">\n",
    "<b> Comentário do revisor: </b> <a class=\"tocSkip\"></a>\n",
    "    \n",
    "<s>É importante fazer esse filtro por mais de uma coluna, sugiro usar um filtro com mais de uma condição, usando conectivos logicos como '&'    \n",
    "\n",
    "</div>"
   ]
  },
  {
   "cell_type": "markdown",
   "metadata": {},
   "source": [
    "<div class=\"alert alert-block alert-success\">\n",
    "<b> Comentário do revisor v.2: </b> <a class=\"tocSkip\"></a>\n",
    "\n",
    "Obrigada pela correção! \n",
    "</div>"
   ]
  },
  {
   "cell_type": "markdown",
   "metadata": {
    "id": "0HXzsBFlrgM_"
   },
   "source": [
    "Vimos que nas mesma linhas encontra-se o valor ausente para 'days_employed' e 'total_income',\n",
    "\n",
    "**Possíveis motivos para valores ausentes nos dados**\n",
    "\n",
    "Já descosbrimos que são simétricos nas duas colunas.\n",
    "\n",
    "Vamos começar a verificar se os valores ausentes são aleatórios."
   ]
  },
  {
   "cell_type": "code",
   "execution_count": 10,
   "metadata": {
    "colab": {
     "base_uri": "https://localhost:8080/"
    },
    "id": "fQ1vjZpzrgNA",
    "outputId": "3f9d2f79-7552-4288-ca02-2f21d75eaf35"
   },
   "outputs": [
    {
     "data": {
      "text/plain": [
       "employee                       11119\n",
       "business                        5085\n",
       "retiree                         3856\n",
       "civil servant                   1459\n",
       "unemployed                         2\n",
       "entrepreneur                       2\n",
       "paternity / maternity leave        1\n",
       "student                            1\n",
       "Name: income_type, dtype: int64"
      ]
     },
     "execution_count": 10,
     "metadata": {},
     "output_type": "execute_result"
    }
   ],
   "source": [
    "# Verificar a distribuição em todo o conjunto de dados\n",
    "df['income_type'].value_counts()\n"
   ]
  },
  {
   "cell_type": "code",
   "execution_count": 11,
   "metadata": {
    "colab": {
     "base_uri": "https://localhost:8080/"
    },
    "id": "gHQH6EF-I2iD",
    "outputId": "c9532b0e-5eda-4239-bfb5-47cbac546363"
   },
   "outputs": [
    {
     "data": {
      "text/plain": [
       "employee         0.508280\n",
       "business         0.233671\n",
       "retiree          0.189972\n",
       "civil servant    0.067617\n",
       "entrepreneur     0.000460\n",
       "Name: income_type, dtype: float64"
      ]
     },
     "execution_count": 11,
     "metadata": {},
     "output_type": "execute_result"
    }
   ],
   "source": [
    "df_null['income_type'].value_counts(normalize=True)"
   ]
  },
  {
   "cell_type": "markdown",
   "metadata": {},
   "source": [
    "<div class=\"alert alert-block alert-warning\">\n",
    "<b> Comentário do revisor: </b> <a class=\"tocSkip\"></a>\n",
    "    \n",
    "<s>Muito bom! Passando o parametro `normalize=True` no método value_counts, você pode analisar esses valores normalizados, ou seja, dividindo pelo valor total de linhas de df\n",
    "</div>"
   ]
  },
  {
   "cell_type": "markdown",
   "metadata": {
    "id": "QPS0QomprgNB"
   },
   "source": [
    "**Conclusões**\n",
    "\n",
    "Podemos concluir que os valores ausentes correspodem as em 10% do nosso arquivo de dados e que estão faltantes em duas colunas 'days_employed' e 'total_income', podemos afirmar que valores são simétricos em relação tanto para as colunas faltantes e para o arquivo em geral.\n",
    "\n",
    "Isso pode ter sido ocasionado por algum erro na corversão de dados, sendo dessa forma podemos fazer filtragem e preencher os valores ausentes com base nas colunas com dados não ausentes . \n",
    "\n",
    "Primeiramente, sobre tudo temos que preparar o arquivo de dados e remover as duplicatas, registros diferentes, artefatos incorretos antes de substituir os valores ausentes."
   ]
  },
  {
   "cell_type": "markdown",
   "metadata": {},
   "source": [
    "<div class=\"alert alert-block alert-success\">\n",
    "<b> Comentário do revisor: </b> <a class=\"tocSkip\"></a>\n",
    "    \n",
    "Otimo! É importante explicar as etapas que seram realizadas!\n",
    "</div>"
   ]
  },
  {
   "cell_type": "markdown",
   "metadata": {
    "id": "7n_7-OdurgNC"
   },
   "source": [
    "## Transformação de dados\n",
    "\n",
    "Vamos examinar cada coluna para ver quais problemas podemos ter nelas.\n",
    "\n"
   ]
  },
  {
   "cell_type": "markdown",
   "metadata": {
    "id": "aY9ES5LyT2dF"
   },
   "source": [
    "Vamos verificar os dados na coluna education"
   ]
  },
  {
   "cell_type": "code",
   "execution_count": 12,
   "metadata": {
    "colab": {
     "base_uri": "https://localhost:8080/"
    },
    "id": "YcNC4yYfrgNC",
    "outputId": "d4a82fd1-4a98-45c5-f551-9ee757010aca"
   },
   "outputs": [
    {
     "data": {
      "text/plain": [
       "array([\"bachelor's degree\", 'secondary education', 'Secondary Education',\n",
       "       'SECONDARY EDUCATION', \"BACHELOR'S DEGREE\", 'some college',\n",
       "       'primary education', \"Bachelor's Degree\", 'SOME COLLEGE',\n",
       "       'Some College', 'PRIMARY EDUCATION', 'Primary Education',\n",
       "       'Graduate Degree', 'GRADUATE DEGREE', 'graduate degree'],\n",
       "      dtype=object)"
      ]
     },
     "execution_count": 12,
     "metadata": {},
     "output_type": "execute_result"
    }
   ],
   "source": [
    "# Vamos ver todos os valores na coluna de educação para verificar se e quais grafias precisarão ser corrigidas\n",
    "df['education'].unique()"
   ]
  },
  {
   "cell_type": "code",
   "execution_count": 13,
   "metadata": {
    "id": "LWQ0CW99rgNC",
    "scrolled": true
   },
   "outputs": [],
   "source": [
    "# Corrija os registros, se necessário\n",
    "df['education'] = df['education'].str.lower()"
   ]
  },
  {
   "cell_type": "code",
   "execution_count": 14,
   "metadata": {
    "colab": {
     "base_uri": "https://localhost:8080/"
    },
    "id": "pXAU8sykrgNC",
    "outputId": "288a3aa9-4c23-42e4-d97c-428c9356e6da"
   },
   "outputs": [
    {
     "data": {
      "text/plain": [
       "array([\"bachelor's degree\", 'secondary education', 'some college',\n",
       "       'primary education', 'graduate degree'], dtype=object)"
      ]
     },
     "execution_count": 14,
     "metadata": {},
     "output_type": "execute_result"
    }
   ],
   "source": [
    "# Verificando todos os valores na coluna para ter certeza de que os corrigimos\n",
    "\n",
    "df['education'].unique()"
   ]
  },
  {
   "cell_type": "markdown",
   "metadata": {},
   "source": [
    "<div class=\"alert alert-block alert-warning\">\n",
    "<b> Comentário do revisor: </b> <a class=\"tocSkip\"></a>\n",
    "\n",
    "<s>Excelente uso de funções, essa padronização ajuda bastante na analise. Mas perceba que esses ajustes poderiam ser feitos usando o.str.lower()  \n",
    "</div>"
   ]
  },
  {
   "cell_type": "markdown",
   "metadata": {},
   "source": [
    "<div class=\"alert alert-block alert-success\">\n",
    "<b> Comentário do revisor v.2: </b> <a class=\"tocSkip\"></a>\n",
    "\n",
    "Excelente! Dessa forma ficou mais elegante!\n",
    "</div>"
   ]
  },
  {
   "cell_type": "markdown",
   "metadata": {
    "id": "chvv9u36rgND"
   },
   "source": [
    "Vamos verificar os dados na coluna `children`"
   ]
  },
  {
   "cell_type": "code",
   "execution_count": 15,
   "metadata": {
    "colab": {
     "base_uri": "https://localhost:8080/"
    },
    "id": "zjBOsEcNrgND",
    "outputId": "a0dca2c7-3fbe-4e18-9214-443cc13a45e7"
   },
   "outputs": [
    {
     "data": {
      "text/plain": [
       "array([ 1,  0,  3,  2, -1,  4, 20,  5])"
      ]
     },
     "execution_count": 15,
     "metadata": {},
     "output_type": "execute_result"
    }
   ],
   "source": [
    "# Vamos ver a distribuição de valores na coluna `children`\n",
    "df['children'].unique()"
   ]
  },
  {
   "cell_type": "markdown",
   "metadata": {
    "id": "tOovGoDlrgND"
   },
   "source": [
    "Podemos notar que há valores desproporcionais e valores negativos, eles podem ter ocorrido por um erro de digitação.Vamos corrigi-los."
   ]
  },
  {
   "cell_type": "code",
   "execution_count": 16,
   "metadata": {
    "id": "d5zKtErhrgND"
   },
   "outputs": [],
   "source": [
    "# [corrija os dados com base na sua decisão]\n",
    "df['children'] = abs(df['children'])\n",
    "df['children'] = df['children'].replace(20,2)"
   ]
  },
  {
   "cell_type": "code",
   "execution_count": 17,
   "metadata": {
    "colab": {
     "base_uri": "https://localhost:8080/"
    },
    "id": "40mjOk0ZrgND",
    "outputId": "183f5ffd-e925-4050-b293-09fcbf970aa2"
   },
   "outputs": [
    {
     "data": {
      "text/plain": [
       "array([1, 0, 3, 2, 4, 5])"
      ]
     },
     "execution_count": 17,
     "metadata": {},
     "output_type": "execute_result"
    }
   ],
   "source": [
    "# Verificar a coluna `children` novamente para ter certeza de que está tudo corrigido\n",
    "df['children'].unique()\n"
   ]
  },
  {
   "cell_type": "markdown",
   "metadata": {},
   "source": [
    "<div class=\"alert alert-block alert-success\">\n",
    "<b> Comentário do revisor: </b> <a class=\"tocSkip\"></a>\n",
    "\n",
    "Concordo com você, parece ser um erro de digitação!  \n",
    "</div>"
   ]
  },
  {
   "cell_type": "markdown",
   "metadata": {
    "id": "f0P3_UsdrgNE"
   },
   "source": [
    "Vamos verificar os dados na coluna days_employed."
   ]
  },
  {
   "cell_type": "code",
   "execution_count": 18,
   "metadata": {
    "colab": {
     "base_uri": "https://localhost:8080/"
    },
    "id": "t1LfoimLrgNE",
    "outputId": "b1ddaa48-235a-4273-aa86-8994c5638205"
   },
   "outputs": [
    {
     "data": {
      "text/plain": [
       "count     19351.000000\n",
       "mean      63046.497661\n",
       "std      140827.311974\n",
       "min      -18388.949901\n",
       "25%       -2747.423625\n",
       "50%       -1203.369529\n",
       "75%        -291.095954\n",
       "max      401755.400475\n",
       "Name: days_employed, dtype: float64"
      ]
     },
     "execution_count": 18,
     "metadata": {},
     "output_type": "execute_result"
    }
   ],
   "source": [
    "# Encontre dados problemáticos em `days_employed`, se existirem, e calcule a porcentagem\n",
    "df['days_employed'].describe()"
   ]
  },
  {
   "cell_type": "code",
   "execution_count": 19,
   "metadata": {
    "colab": {
     "base_uri": "https://localhost:8080/"
    },
    "id": "1a1whwPt0-8o",
    "outputId": "a82cd6cc-da94-4e9c-e2df-eea86432584c"
   },
   "outputs": [
    {
     "data": {
      "text/plain": [
       "3445"
      ]
     },
     "execution_count": 19,
     "metadata": {},
     "output_type": "execute_result"
    }
   ],
   "source": [
    "max_days_emp = 14364\n",
    "max_emp = df[df['days_employed']>max_days_emp].shape[0]\n",
    "max_emp"
   ]
  },
  {
   "cell_type": "markdown",
   "metadata": {},
   "source": [
    "14364 é o valor máximo que uma pessoa possa trabalhar, levando em consideraçao que a maior idade é 75, e começou a trabalhar a partir do 18 anos, logo multiplico pelo dias uteis no ano(252) que resulta em 14364."
   ]
  },
  {
   "cell_type": "markdown",
   "metadata": {},
   "source": [
    "<div class=\"alert alert-block alert-danger\">\n",
    "<b> Comentário do revisor: </b> <a class=\"tocSkip\"></a>\n",
    "\n",
    "<s>É interessante você justificar esse valor máximo de 14364\n",
    "</div>"
   ]
  },
  {
   "cell_type": "markdown",
   "metadata": {},
   "source": [
    "<div class=\"alert alert-block alert-success\">\n",
    "<b> Comentário do revisor v.2: </b> <a class=\"tocSkip\"></a>\n",
    "\n",
    "Otimo. \n",
    "</div>"
   ]
  },
  {
   "cell_type": "code",
   "execution_count": 20,
   "metadata": {
    "colab": {
     "base_uri": "https://localhost:8080/"
    },
    "id": "6KLjBl3i4Xkj",
    "outputId": "d9588c9b-f8dc-4ec8-df97-9efd5fb55161"
   },
   "outputs": [
    {
     "data": {
      "text/plain": [
       "21525"
      ]
     },
     "execution_count": 20,
     "metadata": {},
     "output_type": "execute_result"
    }
   ],
   "source": [
    "df.shape[0]"
   ]
  },
  {
   "cell_type": "code",
   "execution_count": 21,
   "metadata": {
    "colab": {
     "base_uri": "https://localhost:8080/"
    },
    "id": "JQlfF0Iq5gxK",
    "outputId": "7d94c797-11d5-4b07-88c9-6205f8be471d"
   },
   "outputs": [
    {
     "data": {
      "text/plain": [
       "16.004645760743323"
      ]
     },
     "execution_count": 21,
     "metadata": {},
     "output_type": "execute_result"
    }
   ],
   "source": [
    "(max_emp*100)/df.shape[0]"
   ]
  },
  {
   "cell_type": "markdown",
   "metadata": {
    "id": "e3apImg0rgNE"
   },
   "source": [
    "Pela analise percebemos que 16% do dados são problematicos, pelo motivo que alguns tem valores de dias trabalhados em negativos e outros excedem o limite maximo de dias trabalhados levando em consideração que o maximo de dias trabalhados 14364 dias e substituimos pela médias para não afetasse tanto na nossa filtragem de dados."
   ]
  },
  {
   "cell_type": "code",
   "execution_count": 22,
   "metadata": {
    "id": "bsO3wCKnrgNE"
   },
   "outputs": [],
   "source": [
    "# Aborde os valores problemáticos, se existirem\n",
    "df['days_employed'] = abs(df['days_employed'])\n"
   ]
  },
  {
   "cell_type": "code",
   "execution_count": 23,
   "metadata": {
    "colab": {
     "base_uri": "https://localhost:8080/"
    },
    "id": "41Da6pNd6YRw",
    "outputId": "82e36978-07de-484e-f4d0-9b1299b09bf5"
   },
   "outputs": [
    {
     "data": {
      "text/plain": [
       "2334.852923616233"
      ]
     },
     "execution_count": 23,
     "metadata": {},
     "output_type": "execute_result"
    }
   ],
   "source": [
    "df_emp_avg = df.dropna().reset_index()\n",
    "df_emp_avg = df_emp_avg[df_emp_avg['days_employed'] < max_days_emp]['days_employed'].mean()\n",
    "df_emp_avg"
   ]
  },
  {
   "cell_type": "code",
   "execution_count": 24,
   "metadata": {
    "id": "OF-bOTll79m4"
   },
   "outputs": [],
   "source": [
    "df['days_employed'] = df['days_employed'].mask(df['days_employed'] > max_days_emp,df_emp_avg )\n"
   ]
  },
  {
   "cell_type": "code",
   "execution_count": 25,
   "metadata": {
    "colab": {
     "base_uri": "https://localhost:8080/"
    },
    "id": "0NZLqWl6rgNE",
    "outputId": "6a9492f6-5b2c-490b-90ff-fa50c58cced9"
   },
   "outputs": [
    {
     "data": {
      "text/plain": [
       "count    19351.000000\n",
       "mean      2334.852924\n",
       "std       2041.385985\n",
       "min         24.141633\n",
       "25%        927.009265\n",
       "50%       2194.220567\n",
       "75%       2736.948773\n",
       "max      14240.932400\n",
       "Name: days_employed, dtype: float64"
      ]
     },
     "execution_count": 25,
     "metadata": {},
     "output_type": "execute_result"
    }
   ],
   "source": [
    "# Verifique o resultado - certifique-se de que está corrigido\n",
    "df['days_employed'].describe()"
   ]
  },
  {
   "cell_type": "markdown",
   "metadata": {},
   "source": [
    "<div class=\"alert alert-block alert-success\">\n",
    "<b> Comentário do revisor: </b> <a class=\"tocSkip\"></a>\n",
    "\n",
    "Boa abordagem e bom uso do método `mask` \n",
    "</div>"
   ]
  },
  {
   "cell_type": "markdown",
   "metadata": {
    "id": "8SelqieUrgNF"
   },
   "source": [
    "Vamos agora olhar para a idade do cliente"
   ]
  },
  {
   "cell_type": "code",
   "execution_count": 26,
   "metadata": {
    "colab": {
     "base_uri": "https://localhost:8080/"
    },
    "id": "9qkHg4JGrgNF",
    "outputId": "b5ea53f5-bc84-471b-ed7e-60ae753a192c",
    "scrolled": true
   },
   "outputs": [
    {
     "data": {
      "text/plain": [
       "count    21525.000000\n",
       "mean        43.293380\n",
       "std         12.574584\n",
       "min          0.000000\n",
       "25%         33.000000\n",
       "50%         42.000000\n",
       "75%         53.000000\n",
       "max         75.000000\n",
       "Name: dob_years, dtype: float64"
      ]
     },
     "execution_count": 26,
     "metadata": {},
     "output_type": "execute_result"
    }
   ],
   "source": [
    "# Verifique o `dob_years` para valores suspeitos e conte a porcentagem\n",
    "\n",
    "df['dob_years'].describe()"
   ]
  },
  {
   "cell_type": "code",
   "execution_count": 27,
   "metadata": {
    "colab": {
     "base_uri": "https://localhost:8080/"
    },
    "id": "uCXps9iSb51R",
    "outputId": "5c7cfb02-2bda-4355-8e12-6ae913ac4d03"
   },
   "outputs": [
    {
     "data": {
      "text/plain": [
       "0.4692218350754936"
      ]
     },
     "execution_count": 27,
     "metadata": {},
     "output_type": "execute_result"
    }
   ],
   "source": [
    "(df['dob_years']==0).sum() / len(df)*100 "
   ]
  },
  {
   "cell_type": "markdown",
   "metadata": {
    "id": "D3vNpgDxrgNF"
   },
   "source": [
    "4% das idades são de valores igual a 0, podemos substituir pela médias de idades"
   ]
  },
  {
   "cell_type": "code",
   "execution_count": 28,
   "metadata": {
    "colab": {
     "base_uri": "https://localhost:8080/"
    },
    "id": "GvH1pLUArgNF",
    "outputId": "97943c86-e857-4adc-845a-84e379b4aea1"
   },
   "outputs": [
    {
     "data": {
      "text/plain": [
       "array([ 0, 19, 20, 21, 22, 23, 24, 25, 26, 27, 28, 29, 30, 31, 32, 33, 34,\n",
       "       35, 36, 37, 38, 39, 40, 41, 42, 43, 44, 45, 46, 47, 48, 49, 50, 51,\n",
       "       52, 53, 54, 55, 56, 57, 58, 59, 60, 61, 62, 63, 64, 65, 66, 67, 68,\n",
       "       69, 70, 71, 72, 73, 74, 75])"
      ]
     },
     "execution_count": 28,
     "metadata": {},
     "output_type": "execute_result"
    }
   ],
   "source": [
    "# Resolva os problemas na coluna `dob_years`, se existirem\n",
    "df['dob_years'].sort_values().unique()"
   ]
  },
  {
   "cell_type": "code",
   "execution_count": 29,
   "metadata": {
    "id": "aKlJwPQX9Om_"
   },
   "outputs": [
    {
     "data": {
      "text/plain": [
       "education\n",
       "bachelor's degree      40.668061\n",
       "graduate degree        51.166667\n",
       "primary education      47.691489\n",
       "secondary education    44.536992\n",
       "some college           34.661290\n",
       "Name: dob_years, dtype: float64"
      ]
     },
     "execution_count": 29,
     "metadata": {},
     "output_type": "execute_result"
    }
   ],
   "source": [
    "education_age_mean = df.groupby('education')['dob_years'].mean()\n",
    "education_age_mean\n",
    "\n"
   ]
  },
  {
   "cell_type": "code",
   "execution_count": 30,
   "metadata": {},
   "outputs": [
    {
     "data": {
      "text/plain": [
       "education\n",
       "bachelor's degree      39.0\n",
       "graduate degree        51.5\n",
       "primary education      46.5\n",
       "secondary education    44.0\n",
       "some college           31.0\n",
       "Name: dob_years, dtype: float64"
      ]
     },
     "execution_count": 30,
     "metadata": {},
     "output_type": "execute_result"
    }
   ],
   "source": [
    "education_age_median = df.groupby('education')['dob_years'].median()\n",
    "education_age_median\n"
   ]
  },
  {
   "cell_type": "code",
   "execution_count": 31,
   "metadata": {
    "id": "rqVKW5MB-XbW"
   },
   "outputs": [],
   "source": [
    "\n",
    "def fill_age(row):\n",
    "    if row['dob_years']==0:\n",
    "        return education_age_median[row['education']]\n",
    "    return row['dob_years']\n"
   ]
  },
  {
   "cell_type": "code",
   "execution_count": 32,
   "metadata": {
    "id": "RviYiwHerWzR"
   },
   "outputs": [],
   "source": [
    "df['dob_years'] = df.apply(fill_age, axis=1)"
   ]
  },
  {
   "cell_type": "code",
   "execution_count": 33,
   "metadata": {
    "colab": {
     "base_uri": "https://localhost:8080/"
    },
    "id": "6iqcUumCrgNF",
    "outputId": "2c3426d2-ad3c-498f-d77a-16052fa705e7"
   },
   "outputs": [
    {
     "data": {
      "text/plain": [
       "array([19., 20., 21., 22., 23., 24., 25., 26., 27., 28., 29., 30., 31.,\n",
       "       32., 33., 34., 35., 36., 37., 38., 39., 40., 41., 42., 43., 44.,\n",
       "       45., 46., 47., 48., 49., 50., 51., 52., 53., 54., 55., 56., 57.,\n",
       "       58., 59., 60., 61., 62., 63., 64., 65., 66., 67., 68., 69., 70.,\n",
       "       71., 72., 73., 74., 75.])"
      ]
     },
     "execution_count": 33,
     "metadata": {},
     "output_type": "execute_result"
    }
   ],
   "source": [
    "# Verifique o resultado - certifique-se de que está corrigido\n",
    "df['dob_years'].sort_values().unique()"
   ]
  },
  {
   "cell_type": "markdown",
   "metadata": {},
   "source": [
    "Corrigimos com a médiana com valores precisos."
   ]
  },
  {
   "cell_type": "markdown",
   "metadata": {},
   "source": [
    "<div class=\"alert alert-block alert-warning\">\n",
    "<b> Comentário do revisor: </b> <a class=\"tocSkip\"></a>\n",
    "    \n",
    "<s>Sugiro você analisar tanto a média quanto a mediana e escolher de acordo a dispersão dos dados! Outra sugestao é que apos a substituição dos dados você ajuste o tipo, tranformando para int. \n",
    "Mas destaco o otimo uso de funções e tabelas dinamicas para resolver o problema.\n",
    "\n",
    "</div>"
   ]
  },
  {
   "cell_type": "markdown",
   "metadata": {},
   "source": [
    "<div class=\"alert alert-block alert-warning\">\n",
    "<b> Comentário do revisor v.2: </b> <a class=\"tocSkip\"></a>\n",
    "\n",
    "Muito bom! É interessante discorrer sobre o razão que você escolheu a mediana\n",
    "</div>"
   ]
  },
  {
   "cell_type": "markdown",
   "metadata": {
    "id": "2RBIg_hMrgNF"
   },
   "source": [
    "[Agora vamos verificar a coluna `family_status`. Veja que tipo de valores existem e quais problemas você pode precisar resolver.]"
   ]
  },
  {
   "cell_type": "code",
   "execution_count": 34,
   "metadata": {
    "colab": {
     "base_uri": "https://localhost:8080/"
    },
    "id": "xpa4sQpqrgNG",
    "outputId": "3a5bfd3e-6a71-4445-d2f1-a280e5f986b1"
   },
   "outputs": [
    {
     "data": {
      "text/plain": [
       "married              12380\n",
       "civil partnership     4177\n",
       "unmarried             2813\n",
       "divorced              1195\n",
       "widow / widower        960\n",
       "Name: family_status, dtype: int64"
      ]
     },
     "execution_count": 34,
     "metadata": {},
     "output_type": "execute_result"
    }
   ],
   "source": [
    "# Vamos ver os valores da coluna\n",
    "\n",
    "df['family_status'].value_counts()"
   ]
  },
  {
   "cell_type": "code",
   "execution_count": 35,
   "metadata": {
    "colab": {
     "base_uri": "https://localhost:8080/"
    },
    "id": "eIvHLjnargNG",
    "outputId": "4de2e6ca-8658-47cc-df28-d8a250f26085"
   },
   "outputs": [
    {
     "data": {
      "text/plain": [
       "array(['civil partnership', 'divorced', 'married', 'unmarried',\n",
       "       'widow / widower'], dtype=object)"
      ]
     },
     "execution_count": 35,
     "metadata": {},
     "output_type": "execute_result"
    }
   ],
   "source": [
    "df['family_status'].sort_values().unique()"
   ]
  },
  {
   "cell_type": "markdown",
   "metadata": {},
   "source": [
    "Ao analizarmos, vimos que esta tudo certo com a coluna 'family_status'"
   ]
  },
  {
   "cell_type": "markdown",
   "metadata": {},
   "source": [
    "<div class=\"alert alert-block alert-warning\">\n",
    "<b> Comentário do revisor: </b> <a class=\"tocSkip\"></a>\n",
    "\n",
    "<s>Você pode comentar que esta tudo ok com a coluna!\n",
    "</div>"
   ]
  },
  {
   "cell_type": "markdown",
   "metadata": {
    "id": "4hihLU2SrgNG"
   },
   "source": [
    "Agora vamos verificar a coluna `gender`. Veja que tipo de valores existem e quais problemas você pode precisar resolver"
   ]
  },
  {
   "cell_type": "code",
   "execution_count": 36,
   "metadata": {
    "colab": {
     "base_uri": "https://localhost:8080/"
    },
    "id": "LiE_2H9OrgNG",
    "outputId": "81fc481d-37e7-42c9-894e-00e3cb0d466f"
   },
   "outputs": [
    {
     "data": {
      "text/plain": [
       "F      14236\n",
       "M       7288\n",
       "XNA        1\n",
       "Name: gender, dtype: int64"
      ]
     },
     "execution_count": 36,
     "metadata": {},
     "output_type": "execute_result"
    }
   ],
   "source": [
    "# Vamos ver os valores na coluna\n",
    "df['gender'].value_counts()"
   ]
  },
  {
   "cell_type": "code",
   "execution_count": 37,
   "metadata": {
    "colab": {
     "base_uri": "https://localhost:8080/"
    },
    "id": "V7BJLaOlrgNH",
    "outputId": "bb3d21e0-43a0-4221-de70-9a4d35a911bc"
   },
   "outputs": [
    {
     "data": {
      "text/plain": [
       "array(['F', 'M', 'XNA'], dtype=object)"
      ]
     },
     "execution_count": 37,
     "metadata": {},
     "output_type": "execute_result"
    }
   ],
   "source": [
    "# Verifique o resultado \n",
    "df['gender'].sort_values().unique()\n"
   ]
  },
  {
   "cell_type": "markdown",
   "metadata": {},
   "source": [
    "O genero 'XNA' refere-se ao genero binario, nao havendo a nescessidade de renomear ou excluir. Está tudo certo com essa coluna."
   ]
  },
  {
   "cell_type": "markdown",
   "metadata": {},
   "source": [
    "<div class=\"alert alert-block alert-danger\">\n",
    "<b> Comentário do revisor: </b> <a class=\"tocSkip\"></a>\n",
    "\n",
    "<s>Existe um valor que não é muito coerente com os dados. Sugiro que você explique o que seria ideal nesse caso, na sua opnião, uma substituição, deletar o dado, ou deixar o dado porque pode se tratar de um genero binario, algo do tipo. Mas é interessante deixar claro no texto!\n",
    "</div>"
   ]
  },
  {
   "cell_type": "markdown",
   "metadata": {},
   "source": [
    "<div class=\"alert alert-block alert-success\">\n",
    "<b> Comentário do revisor v.2: </b> <a class=\"tocSkip\"></a>\n",
    "\n",
    "Excelente!\n",
    "</div>"
   ]
  },
  {
   "cell_type": "markdown",
   "metadata": {
    "id": "C7u7aaigrgNH"
   },
   "source": [
    "Agora vamos verificar a coluna `income_type`. Veja que tipo de valores existem e quais problemas você pode precisar resolver"
   ]
  },
  {
   "cell_type": "code",
   "execution_count": 38,
   "metadata": {
    "colab": {
     "base_uri": "https://localhost:8080/"
    },
    "id": "Hb8FYAYDrgNI",
    "outputId": "766bf4c8-cf03-4580-f783-be270a992916"
   },
   "outputs": [
    {
     "data": {
      "text/plain": [
       "employee                       11119\n",
       "business                        5085\n",
       "retiree                         3856\n",
       "civil servant                   1459\n",
       "unemployed                         2\n",
       "entrepreneur                       2\n",
       "paternity / maternity leave        1\n",
       "student                            1\n",
       "Name: income_type, dtype: int64"
      ]
     },
     "execution_count": 38,
     "metadata": {},
     "output_type": "execute_result"
    }
   ],
   "source": [
    "# Vamos ver os valores na coluna\n",
    "df['income_type'].value_counts()"
   ]
  },
  {
   "cell_type": "code",
   "execution_count": 39,
   "metadata": {
    "colab": {
     "base_uri": "https://localhost:8080/"
    },
    "id": "XOBdeam9rgNI",
    "outputId": "46664ee1-183d-4c16-b960-d2bbc5c4b5e2"
   },
   "outputs": [
    {
     "data": {
      "text/plain": [
       "array(['business', 'civil servant', 'employee', 'entrepreneur',\n",
       "       'paternity / maternity leave', 'retiree', 'student', 'unemployed'],\n",
       "      dtype=object)"
      ]
     },
     "execution_count": 39,
     "metadata": {},
     "output_type": "execute_result"
    }
   ],
   "source": [
    "# Verifique o resultado \n",
    "\n",
    "df['income_type'].sort_values().unique()"
   ]
  },
  {
   "cell_type": "markdown",
   "metadata": {
    "id": "uoQpFbXlrgNI"
   },
   "source": [
    "Está tudo certo com a coluna'income_type', agora vamos ver se temos duplicatas em nossos dados."
   ]
  },
  {
   "cell_type": "code",
   "execution_count": 40,
   "metadata": {
    "colab": {
     "base_uri": "https://localhost:8080/"
    },
    "id": "F5ThRrwvrgNJ",
    "outputId": "4c805ae5-e228-4b11-ea22-64a2069deccd"
   },
   "outputs": [
    {
     "data": {
      "text/plain": [
       "71"
      ]
     },
     "execution_count": 40,
     "metadata": {},
     "output_type": "execute_result"
    }
   ],
   "source": [
    "# Verificar duplicatas\n",
    "df.duplicated().sum()\n"
   ]
  },
  {
   "cell_type": "code",
   "execution_count": 41,
   "metadata": {
    "id": "8l85ajTLrgNJ"
   },
   "outputs": [],
   "source": [
    "# Aborde as duplicatas, se existirem\n",
    "df = df.drop_duplicates().reset_index(drop=True)"
   ]
  },
  {
   "cell_type": "markdown",
   "metadata": {},
   "source": [
    "<div class=\"alert alert-block alert-danger\">\n",
    "<b> Comentário do revisor: </b> <a class=\"tocSkip\"></a>\n",
    "\n",
    "<s>Sugiro que os indexes sejam resetados, usando o parametro `reset_index(drop=True)`\n",
    "</div>"
   ]
  },
  {
   "cell_type": "markdown",
   "metadata": {},
   "source": [
    "<div class=\"alert alert-block alert-success\">\n",
    "<b> Comentário do revisor v.2: </b> <a class=\"tocSkip\"></a>\n",
    "\n",
    "Perfeito!\n",
    "</div>"
   ]
  },
  {
   "cell_type": "code",
   "execution_count": 42,
   "metadata": {
    "colab": {
     "base_uri": "https://localhost:8080/"
    },
    "id": "NK8XbgCBrgNJ",
    "outputId": "1954693e-991f-4707-c930-42cfe6bffee4"
   },
   "outputs": [
    {
     "data": {
      "text/plain": [
       "0"
      ]
     },
     "execution_count": 42,
     "metadata": {},
     "output_type": "execute_result"
    }
   ],
   "source": [
    "# Última verificação se temos duplicatas\n",
    "df.duplicated().sum()"
   ]
  },
  {
   "cell_type": "code",
   "execution_count": 43,
   "metadata": {
    "colab": {
     "base_uri": "https://localhost:8080/"
    },
    "id": "lpEDus-KrgNJ",
    "outputId": "2d071f99-93be-48d5-b42a-c6c9529558dc"
   },
   "outputs": [
    {
     "data": {
      "text/plain": [
       "21454"
      ]
     },
     "execution_count": 43,
     "metadata": {},
     "output_type": "execute_result"
    }
   ],
   "source": [
    "#Verifique o tamanho do conjunto de dados que você tem agora após suas primeiras manipulações com ele\n",
    "df.shape[0]"
   ]
  },
  {
   "cell_type": "markdown",
   "metadata": {
    "id": "VuYTPtG_rgNJ"
   },
   "source": [
    "Com colunas sem valores inconsistentes podemos avançar em nossas analises, já que as mudanção não foram tão significativas, sendo assim não mudou muito, apenas os dados ficaram mais concisos e congruentes.\n"
   ]
  },
  {
   "cell_type": "markdown",
   "metadata": {
    "id": "ZCDK9RYqrgNK"
   },
   "source": [
    "# Trabalhando com valores ausentes"
   ]
  },
  {
   "cell_type": "markdown",
   "metadata": {
    "id": "HWbkACSgrgNK"
   },
   "source": [
    "### Restaurar valores ausentes em `total_income`"
   ]
  },
  {
   "cell_type": "markdown",
   "metadata": {
    "id": "-z8SukBTrgNK"
   },
   "source": [
    "\n",
    "Primeiramente vamos categorizar as idades para manipulas melhor de forma concisa nosso arquivo de dados.Criando a coluna 'age_group',atribuindo a 1 para jovem adultos abaixo de 30 anos, 2 para pessoas de meia idade abaixo 45, 3 para pessoas que estão a um passo de ser idosos abaixo de 60 anos e 4 para os idosos.\n",
    "As idades interferem incisivamente na renda total, pois, sendo mais experiente a renda costuma-se a ser maior. sendo assim encontramos um norte para preencher os valores ausentes da renda total na coluna 'total_income'\n",
    "\n",
    "\n",
    "\n"
   ]
  },
  {
   "cell_type": "code",
   "execution_count": 44,
   "metadata": {
    "id": "8D_WTkUBrgNK"
   },
   "outputs": [],
   "source": [
    "# Vamos escrever uma função que calcule a categoria de idade\n",
    "\n",
    "def age_group(row):\n",
    "    age = row['dob_years']\n",
    "    if age < 30:\n",
    "        return 1 # pessoas de idade menor que 30 anos ficam no grupo 1\n",
    "    if age < 45:\n",
    "        return 2 # pessoas de idade menor que 45 anos ficam no grupo 2\n",
    "    if age < 60:\n",
    "        return 3 # pessoas de idade menor que 60 anos ficam no grupo 3\n",
    "    else:\n",
    "        return 4 # E as demais ficam no grupo 4\n",
    "    "
   ]
  },
  {
   "cell_type": "markdown",
   "metadata": {},
   "source": [
    "<div class=\"alert alert-block alert-warning\">\n",
    "<b> Comentário do revisor: </b> <a class=\"tocSkip\"></a>\n",
    "\n",
    "<s>Excelente uso de funções para essa categorização. Destaco que é interessante que esse return seja um pouco mais explicativo, fica mais dificil a intepretação desse valores. Sugiro você mudar para algo como 'menor que 30' ou '< 30'... algo do tipo, para deixar os dados mais claros\n",
    "</div>"
   ]
  },
  {
   "cell_type": "markdown",
   "metadata": {},
   "source": [
    "<div class=\"alert alert-block alert-warning\">\n",
    "<b> Comentário do revisor v.2: </b> <a class=\"tocSkip\"></a>\n",
    "\n",
    "Os dados foram explicados, isso é otimo! Mas mesmo assim na analise de dados esses valores podem ficar um pouco confusos ao decorre do projeto!\n",
    "</div>"
   ]
  },
  {
   "cell_type": "code",
   "execution_count": 45,
   "metadata": {
    "colab": {
     "base_uri": "https://localhost:8080/"
    },
    "id": "uZwwk5s2rgNK",
    "outputId": "c813484e-a159-492a-eba8-b5df08895f69"
   },
   "outputs": [
    {
     "data": {
      "text/plain": [
       "2"
      ]
     },
     "execution_count": 45,
     "metadata": {},
     "output_type": "execute_result"
    }
   ],
   "source": [
    "# Teste se a função funciona\n",
    "age_group(df.loc[1])"
   ]
  },
  {
   "cell_type": "code",
   "execution_count": 46,
   "metadata": {
    "id": "LVNI-T3VrgNL"
   },
   "outputs": [],
   "source": [
    "# Criar coluna nova com base na função\n",
    "\n",
    "df['age_group'] = df.apply(age_group, axis=1)"
   ]
  },
  {
   "cell_type": "code",
   "execution_count": 47,
   "metadata": {
    "colab": {
     "base_uri": "https://localhost:8080/"
    },
    "id": "DhWdin0zrgNL",
    "outputId": "a745aedd-6149-4026-8a19-374aed390f6e"
   },
   "outputs": [
    {
     "data": {
      "text/plain": [
       "Index(['children', 'days_employed', 'dob_years', 'education', 'education_id',\n",
       "       'family_status', 'family_status_id', 'gender', 'income_type', 'debt',\n",
       "       'total_income', 'purpose', 'age_group'],\n",
       "      dtype='object')"
      ]
     },
     "execution_count": 47,
     "metadata": {},
     "output_type": "execute_result"
    }
   ],
   "source": [
    "# Verificar como os valores na nova coluna\n",
    "df.columns\n"
   ]
  },
  {
   "cell_type": "markdown",
   "metadata": {
    "id": "nuGuGJrOrgNL"
   },
   "source": [
    "Existem dois fatores principais que implicam na renda total, nos quais são a idade e educação, devemos usar valores médios ou medianos para substituir esses valores ausentes."
   ]
  },
  {
   "cell_type": "markdown",
   "metadata": {
    "id": "FNmwkNtHrgNL"
   },
   "source": [
    "Criaremos uma tabela que tenha apenas dados sem valores ausentes. Esses dados serão usados para restaurar os valores ausentes."
   ]
  },
  {
   "cell_type": "code",
   "execution_count": 48,
   "metadata": {
    "colab": {
     "base_uri": "https://localhost:8080/"
    },
    "id": "ZMKS2kFKrgNL",
    "outputId": "dfed142e-44e4-4d58-dfa4-5056e4add5d9"
   },
   "outputs": [
    {
     "name": "stdout",
     "output_type": "stream",
     "text": [
      "<class 'pandas.core.frame.DataFrame'>\n",
      "RangeIndex: 19351 entries, 0 to 19350\n",
      "Data columns (total 14 columns):\n",
      " #   Column            Non-Null Count  Dtype  \n",
      "---  ------            --------------  -----  \n",
      " 0   index             19351 non-null  int64  \n",
      " 1   children          19351 non-null  int64  \n",
      " 2   days_employed     19351 non-null  float64\n",
      " 3   dob_years         19351 non-null  float64\n",
      " 4   education         19351 non-null  object \n",
      " 5   education_id      19351 non-null  int64  \n",
      " 6   family_status     19351 non-null  object \n",
      " 7   family_status_id  19351 non-null  int64  \n",
      " 8   gender            19351 non-null  object \n",
      " 9   income_type       19351 non-null  object \n",
      " 10  debt              19351 non-null  int64  \n",
      " 11  total_income      19351 non-null  float64\n",
      " 12  purpose           19351 non-null  object \n",
      " 13  age_group         19351 non-null  int64  \n",
      "dtypes: float64(3), int64(6), object(5)\n",
      "memory usage: 2.1+ MB\n"
     ]
    }
   ],
   "source": [
    "# Crie uma tabela sem valores ausentes e exiba algumas de suas linhas para garantir que ela fique boa\n",
    "df_full = df.dropna().reset_index()\n",
    "df_full.info()"
   ]
  },
  {
   "cell_type": "markdown",
   "metadata": {},
   "source": [
    "<div class=\"alert alert-block alert-warning\">\n",
    "<b> Comentário do revisor: </b> <a class=\"tocSkip\"></a>\n",
    "\n",
    "Os indexes foram renomados aqui! Otimo. Mas fica melhor fazer naquela etapa onde você deleta as duplicatas\n",
    "</div>"
   ]
  },
  {
   "cell_type": "code",
   "execution_count": 49,
   "metadata": {
    "colab": {
     "base_uri": "https://localhost:8080/",
     "height": 677
    },
    "id": "tK02rVEwrgNL",
    "outputId": "f62090b2-8162-445c-c551-15219b2f0c48"
   },
   "outputs": [
    {
     "data": {
      "text/html": [
       "<div>\n",
       "<style scoped>\n",
       "    .dataframe tbody tr th:only-of-type {\n",
       "        vertical-align: middle;\n",
       "    }\n",
       "\n",
       "    .dataframe tbody tr th {\n",
       "        vertical-align: top;\n",
       "    }\n",
       "\n",
       "    .dataframe thead th {\n",
       "        text-align: right;\n",
       "    }\n",
       "</style>\n",
       "<table border=\"1\" class=\"dataframe\">\n",
       "  <thead>\n",
       "    <tr style=\"text-align: right;\">\n",
       "      <th></th>\n",
       "      <th></th>\n",
       "      <th>total_income</th>\n",
       "    </tr>\n",
       "    <tr>\n",
       "      <th>age_group</th>\n",
       "      <th>education</th>\n",
       "      <th></th>\n",
       "    </tr>\n",
       "  </thead>\n",
       "  <tbody>\n",
       "    <tr>\n",
       "      <th rowspan=\"4\" valign=\"top\">1</th>\n",
       "      <th>bachelor's degree</th>\n",
       "      <td>29395.106109</td>\n",
       "    </tr>\n",
       "    <tr>\n",
       "      <th>primary education</th>\n",
       "      <td>27695.271520</td>\n",
       "    </tr>\n",
       "    <tr>\n",
       "      <th>secondary education</th>\n",
       "      <td>23379.052855</td>\n",
       "    </tr>\n",
       "    <tr>\n",
       "      <th>some college</th>\n",
       "      <td>25292.291928</td>\n",
       "    </tr>\n",
       "    <tr>\n",
       "      <th rowspan=\"5\" valign=\"top\">2</th>\n",
       "      <th>bachelor's degree</th>\n",
       "      <td>34672.764916</td>\n",
       "    </tr>\n",
       "    <tr>\n",
       "      <th>graduate degree</th>\n",
       "      <td>18187.301500</td>\n",
       "    </tr>\n",
       "    <tr>\n",
       "      <th>primary education</th>\n",
       "      <td>21447.958202</td>\n",
       "    </tr>\n",
       "    <tr>\n",
       "      <th>secondary education</th>\n",
       "      <td>25869.956458</td>\n",
       "    </tr>\n",
       "    <tr>\n",
       "      <th>some college</th>\n",
       "      <td>32663.133514</td>\n",
       "    </tr>\n",
       "    <tr>\n",
       "      <th rowspan=\"5\" valign=\"top\">3</th>\n",
       "      <th>bachelor's degree</th>\n",
       "      <td>34272.548676</td>\n",
       "    </tr>\n",
       "    <tr>\n",
       "      <th>graduate degree</th>\n",
       "      <td>37358.557500</td>\n",
       "    </tr>\n",
       "    <tr>\n",
       "      <th>primary education</th>\n",
       "      <td>20688.554743</td>\n",
       "    </tr>\n",
       "    <tr>\n",
       "      <th>secondary education</th>\n",
       "      <td>24733.618963</td>\n",
       "    </tr>\n",
       "    <tr>\n",
       "      <th>some college</th>\n",
       "      <td>29538.753468</td>\n",
       "    </tr>\n",
       "    <tr>\n",
       "      <th rowspan=\"5\" valign=\"top\">4</th>\n",
       "      <th>bachelor's degree</th>\n",
       "      <td>30087.861673</td>\n",
       "    </tr>\n",
       "    <tr>\n",
       "      <th>graduate degree</th>\n",
       "      <td>28334.215000</td>\n",
       "    </tr>\n",
       "    <tr>\n",
       "      <th>primary education</th>\n",
       "      <td>18729.638433</td>\n",
       "    </tr>\n",
       "    <tr>\n",
       "      <th>secondary education</th>\n",
       "      <td>21515.480435</td>\n",
       "    </tr>\n",
       "    <tr>\n",
       "      <th>some college</th>\n",
       "      <td>28565.986654</td>\n",
       "    </tr>\n",
       "  </tbody>\n",
       "</table>\n",
       "</div>"
      ],
      "text/plain": [
       "                               total_income\n",
       "age_group education                        \n",
       "1         bachelor's degree    29395.106109\n",
       "          primary education    27695.271520\n",
       "          secondary education  23379.052855\n",
       "          some college         25292.291928\n",
       "2         bachelor's degree    34672.764916\n",
       "          graduate degree      18187.301500\n",
       "          primary education    21447.958202\n",
       "          secondary education  25869.956458\n",
       "          some college         32663.133514\n",
       "3         bachelor's degree    34272.548676\n",
       "          graduate degree      37358.557500\n",
       "          primary education    20688.554743\n",
       "          secondary education  24733.618963\n",
       "          some college         29538.753468\n",
       "4         bachelor's degree    30087.861673\n",
       "          graduate degree      28334.215000\n",
       "          primary education    18729.638433\n",
       "          secondary education  21515.480435\n",
       "          some college         28565.986654"
      ]
     },
     "execution_count": 49,
     "metadata": {},
     "output_type": "execute_result"
    }
   ],
   "source": [
    "# Veja os valores médios de renda com base em seus fatores identificados\n",
    "df_full_renda_mean = df_full.pivot_table(index=['age_group','education'], values='total_income', aggfunc='mean') \n",
    "df_full_renda_mean"
   ]
  },
  {
   "cell_type": "code",
   "execution_count": 50,
   "metadata": {
    "colab": {
     "base_uri": "https://localhost:8080/",
     "height": 677
    },
    "id": "pMD-c5AprgNM",
    "outputId": "1beafddc-3836-4a22-9e06-187124d848a8",
    "scrolled": true
   },
   "outputs": [
    {
     "data": {
      "text/html": [
       "<div>\n",
       "<style scoped>\n",
       "    .dataframe tbody tr th:only-of-type {\n",
       "        vertical-align: middle;\n",
       "    }\n",
       "\n",
       "    .dataframe tbody tr th {\n",
       "        vertical-align: top;\n",
       "    }\n",
       "\n",
       "    .dataframe thead th {\n",
       "        text-align: right;\n",
       "    }\n",
       "</style>\n",
       "<table border=\"1\" class=\"dataframe\">\n",
       "  <thead>\n",
       "    <tr style=\"text-align: right;\">\n",
       "      <th></th>\n",
       "      <th></th>\n",
       "      <th>total_income</th>\n",
       "    </tr>\n",
       "    <tr>\n",
       "      <th>age_group</th>\n",
       "      <th>education</th>\n",
       "      <th></th>\n",
       "    </tr>\n",
       "  </thead>\n",
       "  <tbody>\n",
       "    <tr>\n",
       "      <th rowspan=\"4\" valign=\"top\">1</th>\n",
       "      <th>bachelor's degree</th>\n",
       "      <td>25956.1640</td>\n",
       "    </tr>\n",
       "    <tr>\n",
       "      <th>primary education</th>\n",
       "      <td>25488.9160</td>\n",
       "    </tr>\n",
       "    <tr>\n",
       "      <th>secondary education</th>\n",
       "      <td>21114.7620</td>\n",
       "    </tr>\n",
       "    <tr>\n",
       "      <th>some college</th>\n",
       "      <td>22687.1980</td>\n",
       "    </tr>\n",
       "    <tr>\n",
       "      <th rowspan=\"5\" valign=\"top\">2</th>\n",
       "      <th>bachelor's degree</th>\n",
       "      <td>28995.3940</td>\n",
       "    </tr>\n",
       "    <tr>\n",
       "      <th>graduate degree</th>\n",
       "      <td>18187.3015</td>\n",
       "    </tr>\n",
       "    <tr>\n",
       "      <th>primary education</th>\n",
       "      <td>19546.3410</td>\n",
       "    </tr>\n",
       "    <tr>\n",
       "      <th>secondary education</th>\n",
       "      <td>22912.3490</td>\n",
       "    </tr>\n",
       "    <tr>\n",
       "      <th>some college</th>\n",
       "      <td>28470.6140</td>\n",
       "    </tr>\n",
       "    <tr>\n",
       "      <th rowspan=\"5\" valign=\"top\">3</th>\n",
       "      <th>bachelor's degree</th>\n",
       "      <td>29369.6900</td>\n",
       "    </tr>\n",
       "    <tr>\n",
       "      <th>graduate degree</th>\n",
       "      <td>37358.5575</td>\n",
       "    </tr>\n",
       "    <tr>\n",
       "      <th>primary education</th>\n",
       "      <td>18271.2275</td>\n",
       "    </tr>\n",
       "    <tr>\n",
       "      <th>secondary education</th>\n",
       "      <td>21785.4435</td>\n",
       "    </tr>\n",
       "    <tr>\n",
       "      <th>some college</th>\n",
       "      <td>26919.6065</td>\n",
       "    </tr>\n",
       "    <tr>\n",
       "      <th rowspan=\"5\" valign=\"top\">4</th>\n",
       "      <th>bachelor's degree</th>\n",
       "      <td>25249.5160</td>\n",
       "    </tr>\n",
       "    <tr>\n",
       "      <th>graduate degree</th>\n",
       "      <td>28334.2150</td>\n",
       "    </tr>\n",
       "    <tr>\n",
       "      <th>primary education</th>\n",
       "      <td>16415.7850</td>\n",
       "    </tr>\n",
       "    <tr>\n",
       "      <th>secondary education</th>\n",
       "      <td>18835.6000</td>\n",
       "    </tr>\n",
       "    <tr>\n",
       "      <th>some college</th>\n",
       "      <td>27142.5995</td>\n",
       "    </tr>\n",
       "  </tbody>\n",
       "</table>\n",
       "</div>"
      ],
      "text/plain": [
       "                               total_income\n",
       "age_group education                        \n",
       "1         bachelor's degree      25956.1640\n",
       "          primary education      25488.9160\n",
       "          secondary education    21114.7620\n",
       "          some college           22687.1980\n",
       "2         bachelor's degree      28995.3940\n",
       "          graduate degree        18187.3015\n",
       "          primary education      19546.3410\n",
       "          secondary education    22912.3490\n",
       "          some college           28470.6140\n",
       "3         bachelor's degree      29369.6900\n",
       "          graduate degree        37358.5575\n",
       "          primary education      18271.2275\n",
       "          secondary education    21785.4435\n",
       "          some college           26919.6065\n",
       "4         bachelor's degree      25249.5160\n",
       "          graduate degree        28334.2150\n",
       "          primary education      16415.7850\n",
       "          secondary education    18835.6000\n",
       "          some college           27142.5995"
      ]
     },
     "execution_count": 50,
     "metadata": {},
     "output_type": "execute_result"
    }
   ],
   "source": [
    "# Veja os valores medianos de renda com base em seus fatores identificados\n",
    "df_full_renda_median = df_full.pivot_table(index=['age_group','education'], values='total_income', aggfunc='median') \n",
    "df_full_renda_median\n",
    "\n"
   ]
  },
  {
   "cell_type": "markdown",
   "metadata": {
    "id": "-GTZKH1FrgNM"
   },
   "source": [
    "Como podemos observar, existem valores que são muito altos, com isso fazem  fazem a média menos precisa do que a mediana,isso pode atrapalhar nossa analise.\n"
   ]
  },
  {
   "cell_type": "code",
   "execution_count": 51,
   "metadata": {
    "colab": {
     "base_uri": "https://localhost:8080/",
     "height": 645
    },
    "id": "xGSd8bVSrgNM",
    "outputId": "de255778-c024-4dc0-d944-d2cd5e436e37"
   },
   "outputs": [
    {
     "data": {
      "text/html": [
       "<div>\n",
       "<style scoped>\n",
       "    .dataframe tbody tr th:only-of-type {\n",
       "        vertical-align: middle;\n",
       "    }\n",
       "\n",
       "    .dataframe tbody tr th {\n",
       "        vertical-align: top;\n",
       "    }\n",
       "\n",
       "    .dataframe thead th {\n",
       "        text-align: right;\n",
       "    }\n",
       "</style>\n",
       "<table border=\"1\" class=\"dataframe\">\n",
       "  <thead>\n",
       "    <tr style=\"text-align: right;\">\n",
       "      <th></th>\n",
       "      <th>age_group</th>\n",
       "      <th>education</th>\n",
       "      <th>income_mediana</th>\n",
       "    </tr>\n",
       "  </thead>\n",
       "  <tbody>\n",
       "    <tr>\n",
       "      <th>0</th>\n",
       "      <td>1</td>\n",
       "      <td>bachelor's degree</td>\n",
       "      <td>25956.1640</td>\n",
       "    </tr>\n",
       "    <tr>\n",
       "      <th>1</th>\n",
       "      <td>1</td>\n",
       "      <td>primary education</td>\n",
       "      <td>25488.9160</td>\n",
       "    </tr>\n",
       "    <tr>\n",
       "      <th>2</th>\n",
       "      <td>1</td>\n",
       "      <td>secondary education</td>\n",
       "      <td>21114.7620</td>\n",
       "    </tr>\n",
       "    <tr>\n",
       "      <th>3</th>\n",
       "      <td>1</td>\n",
       "      <td>some college</td>\n",
       "      <td>22687.1980</td>\n",
       "    </tr>\n",
       "    <tr>\n",
       "      <th>4</th>\n",
       "      <td>2</td>\n",
       "      <td>bachelor's degree</td>\n",
       "      <td>28995.3940</td>\n",
       "    </tr>\n",
       "    <tr>\n",
       "      <th>5</th>\n",
       "      <td>2</td>\n",
       "      <td>graduate degree</td>\n",
       "      <td>18187.3015</td>\n",
       "    </tr>\n",
       "    <tr>\n",
       "      <th>6</th>\n",
       "      <td>2</td>\n",
       "      <td>primary education</td>\n",
       "      <td>19546.3410</td>\n",
       "    </tr>\n",
       "    <tr>\n",
       "      <th>7</th>\n",
       "      <td>2</td>\n",
       "      <td>secondary education</td>\n",
       "      <td>22912.3490</td>\n",
       "    </tr>\n",
       "    <tr>\n",
       "      <th>8</th>\n",
       "      <td>2</td>\n",
       "      <td>some college</td>\n",
       "      <td>28470.6140</td>\n",
       "    </tr>\n",
       "    <tr>\n",
       "      <th>9</th>\n",
       "      <td>3</td>\n",
       "      <td>bachelor's degree</td>\n",
       "      <td>29369.6900</td>\n",
       "    </tr>\n",
       "    <tr>\n",
       "      <th>10</th>\n",
       "      <td>3</td>\n",
       "      <td>graduate degree</td>\n",
       "      <td>37358.5575</td>\n",
       "    </tr>\n",
       "    <tr>\n",
       "      <th>11</th>\n",
       "      <td>3</td>\n",
       "      <td>primary education</td>\n",
       "      <td>18271.2275</td>\n",
       "    </tr>\n",
       "    <tr>\n",
       "      <th>12</th>\n",
       "      <td>3</td>\n",
       "      <td>secondary education</td>\n",
       "      <td>21785.4435</td>\n",
       "    </tr>\n",
       "    <tr>\n",
       "      <th>13</th>\n",
       "      <td>3</td>\n",
       "      <td>some college</td>\n",
       "      <td>26919.6065</td>\n",
       "    </tr>\n",
       "    <tr>\n",
       "      <th>14</th>\n",
       "      <td>4</td>\n",
       "      <td>bachelor's degree</td>\n",
       "      <td>25249.5160</td>\n",
       "    </tr>\n",
       "    <tr>\n",
       "      <th>15</th>\n",
       "      <td>4</td>\n",
       "      <td>graduate degree</td>\n",
       "      <td>28334.2150</td>\n",
       "    </tr>\n",
       "    <tr>\n",
       "      <th>16</th>\n",
       "      <td>4</td>\n",
       "      <td>primary education</td>\n",
       "      <td>16415.7850</td>\n",
       "    </tr>\n",
       "    <tr>\n",
       "      <th>17</th>\n",
       "      <td>4</td>\n",
       "      <td>secondary education</td>\n",
       "      <td>18835.6000</td>\n",
       "    </tr>\n",
       "    <tr>\n",
       "      <th>18</th>\n",
       "      <td>4</td>\n",
       "      <td>some college</td>\n",
       "      <td>27142.5995</td>\n",
       "    </tr>\n",
       "  </tbody>\n",
       "</table>\n",
       "</div>"
      ],
      "text/plain": [
       "    age_group            education  income_mediana\n",
       "0           1    bachelor's degree      25956.1640\n",
       "1           1    primary education      25488.9160\n",
       "2           1  secondary education      21114.7620\n",
       "3           1         some college      22687.1980\n",
       "4           2    bachelor's degree      28995.3940\n",
       "5           2      graduate degree      18187.3015\n",
       "6           2    primary education      19546.3410\n",
       "7           2  secondary education      22912.3490\n",
       "8           2         some college      28470.6140\n",
       "9           3    bachelor's degree      29369.6900\n",
       "10          3      graduate degree      37358.5575\n",
       "11          3    primary education      18271.2275\n",
       "12          3  secondary education      21785.4435\n",
       "13          3         some college      26919.6065\n",
       "14          4    bachelor's degree      25249.5160\n",
       "15          4      graduate degree      28334.2150\n",
       "16          4    primary education      16415.7850\n",
       "17          4  secondary education      18835.6000\n",
       "18          4         some college      27142.5995"
      ]
     },
     "execution_count": 51,
     "metadata": {},
     "output_type": "execute_result"
    }
   ],
   "source": [
    "#  Escreva uma função que usaremos para preencher os valores ausentes\n",
    "        \n",
    "median_by_group = df.groupby([\"age_group\", \"education\"])[\"total_income\"].agg(\"median\").reset_index().rename(columns={\"total_income\": \"income_mediana\"})\n",
    "median_by_group\n",
    "    \n"
   ]
  },
  {
   "cell_type": "code",
   "execution_count": 52,
   "metadata": {
    "colab": {
     "base_uri": "https://localhost:8080/",
     "height": 357
    },
    "id": "eEmWmB0NrgNN",
    "outputId": "943d3d3a-0b2d-41dd-9e1e-4b10070015b0"
   },
   "outputs": [
    {
     "data": {
      "text/html": [
       "<div>\n",
       "<style scoped>\n",
       "    .dataframe tbody tr th:only-of-type {\n",
       "        vertical-align: middle;\n",
       "    }\n",
       "\n",
       "    .dataframe tbody tr th {\n",
       "        vertical-align: top;\n",
       "    }\n",
       "\n",
       "    .dataframe thead th {\n",
       "        text-align: right;\n",
       "    }\n",
       "</style>\n",
       "<table border=\"1\" class=\"dataframe\">\n",
       "  <thead>\n",
       "    <tr style=\"text-align: right;\">\n",
       "      <th></th>\n",
       "      <th>children</th>\n",
       "      <th>days_employed</th>\n",
       "      <th>dob_years</th>\n",
       "      <th>education</th>\n",
       "      <th>education_id</th>\n",
       "      <th>family_status</th>\n",
       "      <th>family_status_id</th>\n",
       "      <th>gender</th>\n",
       "      <th>income_type</th>\n",
       "      <th>debt</th>\n",
       "      <th>total_income</th>\n",
       "      <th>purpose</th>\n",
       "      <th>age_group</th>\n",
       "      <th>income_mediana</th>\n",
       "    </tr>\n",
       "  </thead>\n",
       "  <tbody>\n",
       "    <tr>\n",
       "      <th>0</th>\n",
       "      <td>1</td>\n",
       "      <td>8437.673028</td>\n",
       "      <td>42.0</td>\n",
       "      <td>bachelor's degree</td>\n",
       "      <td>0</td>\n",
       "      <td>married</td>\n",
       "      <td>0</td>\n",
       "      <td>F</td>\n",
       "      <td>employee</td>\n",
       "      <td>0</td>\n",
       "      <td>40620.102</td>\n",
       "      <td>purchase of the house</td>\n",
       "      <td>2</td>\n",
       "      <td>28995.3940</td>\n",
       "    </tr>\n",
       "    <tr>\n",
       "      <th>1</th>\n",
       "      <td>1</td>\n",
       "      <td>4024.803754</td>\n",
       "      <td>36.0</td>\n",
       "      <td>secondary education</td>\n",
       "      <td>1</td>\n",
       "      <td>married</td>\n",
       "      <td>0</td>\n",
       "      <td>F</td>\n",
       "      <td>employee</td>\n",
       "      <td>0</td>\n",
       "      <td>17932.802</td>\n",
       "      <td>car purchase</td>\n",
       "      <td>2</td>\n",
       "      <td>22912.3490</td>\n",
       "    </tr>\n",
       "    <tr>\n",
       "      <th>2</th>\n",
       "      <td>0</td>\n",
       "      <td>5623.422610</td>\n",
       "      <td>33.0</td>\n",
       "      <td>secondary education</td>\n",
       "      <td>1</td>\n",
       "      <td>married</td>\n",
       "      <td>0</td>\n",
       "      <td>M</td>\n",
       "      <td>employee</td>\n",
       "      <td>0</td>\n",
       "      <td>23341.752</td>\n",
       "      <td>purchase of the house</td>\n",
       "      <td>2</td>\n",
       "      <td>22912.3490</td>\n",
       "    </tr>\n",
       "    <tr>\n",
       "      <th>3</th>\n",
       "      <td>3</td>\n",
       "      <td>4124.747207</td>\n",
       "      <td>32.0</td>\n",
       "      <td>secondary education</td>\n",
       "      <td>1</td>\n",
       "      <td>married</td>\n",
       "      <td>0</td>\n",
       "      <td>M</td>\n",
       "      <td>employee</td>\n",
       "      <td>0</td>\n",
       "      <td>42820.568</td>\n",
       "      <td>supplementary education</td>\n",
       "      <td>2</td>\n",
       "      <td>22912.3490</td>\n",
       "    </tr>\n",
       "    <tr>\n",
       "      <th>4</th>\n",
       "      <td>0</td>\n",
       "      <td>2334.852924</td>\n",
       "      <td>53.0</td>\n",
       "      <td>secondary education</td>\n",
       "      <td>1</td>\n",
       "      <td>civil partnership</td>\n",
       "      <td>1</td>\n",
       "      <td>F</td>\n",
       "      <td>retiree</td>\n",
       "      <td>0</td>\n",
       "      <td>25378.572</td>\n",
       "      <td>to have a wedding</td>\n",
       "      <td>3</td>\n",
       "      <td>21785.4435</td>\n",
       "    </tr>\n",
       "  </tbody>\n",
       "</table>\n",
       "</div>"
      ],
      "text/plain": [
       "   children  days_employed  dob_years            education  education_id  \\\n",
       "0         1    8437.673028       42.0    bachelor's degree             0   \n",
       "1         1    4024.803754       36.0  secondary education             1   \n",
       "2         0    5623.422610       33.0  secondary education             1   \n",
       "3         3    4124.747207       32.0  secondary education             1   \n",
       "4         0    2334.852924       53.0  secondary education             1   \n",
       "\n",
       "       family_status  family_status_id gender income_type  debt  total_income  \\\n",
       "0            married                 0      F    employee     0     40620.102   \n",
       "1            married                 0      F    employee     0     17932.802   \n",
       "2            married                 0      M    employee     0     23341.752   \n",
       "3            married                 0      M    employee     0     42820.568   \n",
       "4  civil partnership                 1      F     retiree     0     25378.572   \n",
       "\n",
       "                   purpose  age_group  income_mediana  \n",
       "0    purchase of the house          2      28995.3940  \n",
       "1             car purchase          2      22912.3490  \n",
       "2    purchase of the house          2      22912.3490  \n",
       "3  supplementary education          2      22912.3490  \n",
       "4        to have a wedding          3      21785.4435  "
      ]
     },
     "execution_count": 52,
     "metadata": {},
     "output_type": "execute_result"
    }
   ],
   "source": [
    "# Verifique se funciona\n",
    "df = df.merge(median_by_group, on=[\"age_group\", \"education\"], how=\"left\")\n",
    "df.head()"
   ]
  },
  {
   "cell_type": "code",
   "execution_count": 53,
   "metadata": {
    "colab": {
     "base_uri": "https://localhost:8080/",
     "height": 1000
    },
    "id": "EPSkybpArgNN",
    "outputId": "1be22538-5222-47b2-b0aa-63667b6969a3"
   },
   "outputs": [
    {
     "data": {
      "text/html": [
       "<div>\n",
       "<style scoped>\n",
       "    .dataframe tbody tr th:only-of-type {\n",
       "        vertical-align: middle;\n",
       "    }\n",
       "\n",
       "    .dataframe tbody tr th {\n",
       "        vertical-align: top;\n",
       "    }\n",
       "\n",
       "    .dataframe thead th {\n",
       "        text-align: right;\n",
       "    }\n",
       "</style>\n",
       "<table border=\"1\" class=\"dataframe\">\n",
       "  <thead>\n",
       "    <tr style=\"text-align: right;\">\n",
       "      <th></th>\n",
       "      <th>children</th>\n",
       "      <th>days_employed</th>\n",
       "      <th>dob_years</th>\n",
       "      <th>education</th>\n",
       "      <th>education_id</th>\n",
       "      <th>family_status</th>\n",
       "      <th>family_status_id</th>\n",
       "      <th>gender</th>\n",
       "      <th>income_type</th>\n",
       "      <th>debt</th>\n",
       "      <th>total_income</th>\n",
       "      <th>purpose</th>\n",
       "      <th>age_group</th>\n",
       "      <th>income_mediana</th>\n",
       "    </tr>\n",
       "  </thead>\n",
       "  <tbody>\n",
       "    <tr>\n",
       "      <th>0</th>\n",
       "      <td>1</td>\n",
       "      <td>8437.673028</td>\n",
       "      <td>42.0</td>\n",
       "      <td>bachelor's degree</td>\n",
       "      <td>0</td>\n",
       "      <td>married</td>\n",
       "      <td>0</td>\n",
       "      <td>F</td>\n",
       "      <td>employee</td>\n",
       "      <td>0</td>\n",
       "      <td>40620.102</td>\n",
       "      <td>purchase of the house</td>\n",
       "      <td>2</td>\n",
       "      <td>28995.3940</td>\n",
       "    </tr>\n",
       "    <tr>\n",
       "      <th>1</th>\n",
       "      <td>1</td>\n",
       "      <td>4024.803754</td>\n",
       "      <td>36.0</td>\n",
       "      <td>secondary education</td>\n",
       "      <td>1</td>\n",
       "      <td>married</td>\n",
       "      <td>0</td>\n",
       "      <td>F</td>\n",
       "      <td>employee</td>\n",
       "      <td>0</td>\n",
       "      <td>17932.802</td>\n",
       "      <td>car purchase</td>\n",
       "      <td>2</td>\n",
       "      <td>22912.3490</td>\n",
       "    </tr>\n",
       "    <tr>\n",
       "      <th>2</th>\n",
       "      <td>0</td>\n",
       "      <td>5623.422610</td>\n",
       "      <td>33.0</td>\n",
       "      <td>secondary education</td>\n",
       "      <td>1</td>\n",
       "      <td>married</td>\n",
       "      <td>0</td>\n",
       "      <td>M</td>\n",
       "      <td>employee</td>\n",
       "      <td>0</td>\n",
       "      <td>23341.752</td>\n",
       "      <td>purchase of the house</td>\n",
       "      <td>2</td>\n",
       "      <td>22912.3490</td>\n",
       "    </tr>\n",
       "    <tr>\n",
       "      <th>3</th>\n",
       "      <td>3</td>\n",
       "      <td>4124.747207</td>\n",
       "      <td>32.0</td>\n",
       "      <td>secondary education</td>\n",
       "      <td>1</td>\n",
       "      <td>married</td>\n",
       "      <td>0</td>\n",
       "      <td>M</td>\n",
       "      <td>employee</td>\n",
       "      <td>0</td>\n",
       "      <td>42820.568</td>\n",
       "      <td>supplementary education</td>\n",
       "      <td>2</td>\n",
       "      <td>22912.3490</td>\n",
       "    </tr>\n",
       "    <tr>\n",
       "      <th>4</th>\n",
       "      <td>0</td>\n",
       "      <td>2334.852924</td>\n",
       "      <td>53.0</td>\n",
       "      <td>secondary education</td>\n",
       "      <td>1</td>\n",
       "      <td>civil partnership</td>\n",
       "      <td>1</td>\n",
       "      <td>F</td>\n",
       "      <td>retiree</td>\n",
       "      <td>0</td>\n",
       "      <td>25378.572</td>\n",
       "      <td>to have a wedding</td>\n",
       "      <td>3</td>\n",
       "      <td>21785.4435</td>\n",
       "    </tr>\n",
       "    <tr>\n",
       "      <th>5</th>\n",
       "      <td>0</td>\n",
       "      <td>926.185831</td>\n",
       "      <td>27.0</td>\n",
       "      <td>bachelor's degree</td>\n",
       "      <td>0</td>\n",
       "      <td>civil partnership</td>\n",
       "      <td>1</td>\n",
       "      <td>M</td>\n",
       "      <td>business</td>\n",
       "      <td>0</td>\n",
       "      <td>40922.170</td>\n",
       "      <td>purchase of the house</td>\n",
       "      <td>1</td>\n",
       "      <td>25956.1640</td>\n",
       "    </tr>\n",
       "    <tr>\n",
       "      <th>6</th>\n",
       "      <td>0</td>\n",
       "      <td>2879.202052</td>\n",
       "      <td>43.0</td>\n",
       "      <td>bachelor's degree</td>\n",
       "      <td>0</td>\n",
       "      <td>married</td>\n",
       "      <td>0</td>\n",
       "      <td>F</td>\n",
       "      <td>business</td>\n",
       "      <td>0</td>\n",
       "      <td>38484.156</td>\n",
       "      <td>housing transactions</td>\n",
       "      <td>2</td>\n",
       "      <td>28995.3940</td>\n",
       "    </tr>\n",
       "    <tr>\n",
       "      <th>7</th>\n",
       "      <td>0</td>\n",
       "      <td>152.779569</td>\n",
       "      <td>50.0</td>\n",
       "      <td>secondary education</td>\n",
       "      <td>1</td>\n",
       "      <td>married</td>\n",
       "      <td>0</td>\n",
       "      <td>M</td>\n",
       "      <td>employee</td>\n",
       "      <td>0</td>\n",
       "      <td>21731.829</td>\n",
       "      <td>education</td>\n",
       "      <td>3</td>\n",
       "      <td>21785.4435</td>\n",
       "    </tr>\n",
       "    <tr>\n",
       "      <th>8</th>\n",
       "      <td>2</td>\n",
       "      <td>6929.865299</td>\n",
       "      <td>35.0</td>\n",
       "      <td>bachelor's degree</td>\n",
       "      <td>0</td>\n",
       "      <td>civil partnership</td>\n",
       "      <td>1</td>\n",
       "      <td>F</td>\n",
       "      <td>employee</td>\n",
       "      <td>0</td>\n",
       "      <td>15337.093</td>\n",
       "      <td>having a wedding</td>\n",
       "      <td>2</td>\n",
       "      <td>28995.3940</td>\n",
       "    </tr>\n",
       "    <tr>\n",
       "      <th>9</th>\n",
       "      <td>0</td>\n",
       "      <td>2188.756445</td>\n",
       "      <td>41.0</td>\n",
       "      <td>secondary education</td>\n",
       "      <td>1</td>\n",
       "      <td>married</td>\n",
       "      <td>0</td>\n",
       "      <td>M</td>\n",
       "      <td>employee</td>\n",
       "      <td>0</td>\n",
       "      <td>23108.150</td>\n",
       "      <td>purchase of the house for my family</td>\n",
       "      <td>2</td>\n",
       "      <td>22912.3490</td>\n",
       "    </tr>\n",
       "    <tr>\n",
       "      <th>10</th>\n",
       "      <td>2</td>\n",
       "      <td>4171.483647</td>\n",
       "      <td>36.0</td>\n",
       "      <td>bachelor's degree</td>\n",
       "      <td>0</td>\n",
       "      <td>married</td>\n",
       "      <td>0</td>\n",
       "      <td>M</td>\n",
       "      <td>business</td>\n",
       "      <td>0</td>\n",
       "      <td>18230.959</td>\n",
       "      <td>buy real estate</td>\n",
       "      <td>2</td>\n",
       "      <td>28995.3940</td>\n",
       "    </tr>\n",
       "    <tr>\n",
       "      <th>11</th>\n",
       "      <td>0</td>\n",
       "      <td>792.701887</td>\n",
       "      <td>40.0</td>\n",
       "      <td>secondary education</td>\n",
       "      <td>1</td>\n",
       "      <td>married</td>\n",
       "      <td>0</td>\n",
       "      <td>F</td>\n",
       "      <td>employee</td>\n",
       "      <td>0</td>\n",
       "      <td>12331.077</td>\n",
       "      <td>buy commercial real estate</td>\n",
       "      <td>2</td>\n",
       "      <td>22912.3490</td>\n",
       "    </tr>\n",
       "    <tr>\n",
       "      <th>12</th>\n",
       "      <td>0</td>\n",
       "      <td>NaN</td>\n",
       "      <td>65.0</td>\n",
       "      <td>secondary education</td>\n",
       "      <td>1</td>\n",
       "      <td>civil partnership</td>\n",
       "      <td>1</td>\n",
       "      <td>M</td>\n",
       "      <td>retiree</td>\n",
       "      <td>0</td>\n",
       "      <td>18835.600</td>\n",
       "      <td>to have a wedding</td>\n",
       "      <td>4</td>\n",
       "      <td>18835.6000</td>\n",
       "    </tr>\n",
       "    <tr>\n",
       "      <th>13</th>\n",
       "      <td>0</td>\n",
       "      <td>1846.641941</td>\n",
       "      <td>54.0</td>\n",
       "      <td>some college</td>\n",
       "      <td>2</td>\n",
       "      <td>married</td>\n",
       "      <td>0</td>\n",
       "      <td>F</td>\n",
       "      <td>employee</td>\n",
       "      <td>0</td>\n",
       "      <td>20873.317</td>\n",
       "      <td>car purchase</td>\n",
       "      <td>3</td>\n",
       "      <td>26919.6065</td>\n",
       "    </tr>\n",
       "    <tr>\n",
       "      <th>14</th>\n",
       "      <td>0</td>\n",
       "      <td>1844.956182</td>\n",
       "      <td>56.0</td>\n",
       "      <td>bachelor's degree</td>\n",
       "      <td>0</td>\n",
       "      <td>civil partnership</td>\n",
       "      <td>1</td>\n",
       "      <td>F</td>\n",
       "      <td>business</td>\n",
       "      <td>1</td>\n",
       "      <td>26420.466</td>\n",
       "      <td>buy residential real estate</td>\n",
       "      <td>3</td>\n",
       "      <td>29369.6900</td>\n",
       "    </tr>\n",
       "    <tr>\n",
       "      <th>15</th>\n",
       "      <td>1</td>\n",
       "      <td>972.364419</td>\n",
       "      <td>26.0</td>\n",
       "      <td>secondary education</td>\n",
       "      <td>1</td>\n",
       "      <td>married</td>\n",
       "      <td>0</td>\n",
       "      <td>F</td>\n",
       "      <td>employee</td>\n",
       "      <td>0</td>\n",
       "      <td>18691.345</td>\n",
       "      <td>construction of own property</td>\n",
       "      <td>1</td>\n",
       "      <td>21114.7620</td>\n",
       "    </tr>\n",
       "    <tr>\n",
       "      <th>16</th>\n",
       "      <td>0</td>\n",
       "      <td>1719.934226</td>\n",
       "      <td>35.0</td>\n",
       "      <td>secondary education</td>\n",
       "      <td>1</td>\n",
       "      <td>married</td>\n",
       "      <td>0</td>\n",
       "      <td>F</td>\n",
       "      <td>employee</td>\n",
       "      <td>0</td>\n",
       "      <td>46272.433</td>\n",
       "      <td>property</td>\n",
       "      <td>2</td>\n",
       "      <td>22912.3490</td>\n",
       "    </tr>\n",
       "    <tr>\n",
       "      <th>17</th>\n",
       "      <td>0</td>\n",
       "      <td>2369.999720</td>\n",
       "      <td>33.0</td>\n",
       "      <td>bachelor's degree</td>\n",
       "      <td>0</td>\n",
       "      <td>civil partnership</td>\n",
       "      <td>1</td>\n",
       "      <td>M</td>\n",
       "      <td>employee</td>\n",
       "      <td>0</td>\n",
       "      <td>14465.694</td>\n",
       "      <td>building a property</td>\n",
       "      <td>2</td>\n",
       "      <td>28995.3940</td>\n",
       "    </tr>\n",
       "    <tr>\n",
       "      <th>18</th>\n",
       "      <td>0</td>\n",
       "      <td>2334.852924</td>\n",
       "      <td>53.0</td>\n",
       "      <td>secondary education</td>\n",
       "      <td>1</td>\n",
       "      <td>widow / widower</td>\n",
       "      <td>2</td>\n",
       "      <td>F</td>\n",
       "      <td>retiree</td>\n",
       "      <td>0</td>\n",
       "      <td>9091.804</td>\n",
       "      <td>buying a second-hand car</td>\n",
       "      <td>3</td>\n",
       "      <td>21785.4435</td>\n",
       "    </tr>\n",
       "    <tr>\n",
       "      <th>19</th>\n",
       "      <td>0</td>\n",
       "      <td>10038.818549</td>\n",
       "      <td>48.0</td>\n",
       "      <td>secondary education</td>\n",
       "      <td>1</td>\n",
       "      <td>divorced</td>\n",
       "      <td>3</td>\n",
       "      <td>F</td>\n",
       "      <td>employee</td>\n",
       "      <td>0</td>\n",
       "      <td>38852.977</td>\n",
       "      <td>buying my own car</td>\n",
       "      <td>3</td>\n",
       "      <td>21785.4435</td>\n",
       "    </tr>\n",
       "  </tbody>\n",
       "</table>\n",
       "</div>"
      ],
      "text/plain": [
       "    children  days_employed  dob_years            education  education_id  \\\n",
       "0          1    8437.673028       42.0    bachelor's degree             0   \n",
       "1          1    4024.803754       36.0  secondary education             1   \n",
       "2          0    5623.422610       33.0  secondary education             1   \n",
       "3          3    4124.747207       32.0  secondary education             1   \n",
       "4          0    2334.852924       53.0  secondary education             1   \n",
       "5          0     926.185831       27.0    bachelor's degree             0   \n",
       "6          0    2879.202052       43.0    bachelor's degree             0   \n",
       "7          0     152.779569       50.0  secondary education             1   \n",
       "8          2    6929.865299       35.0    bachelor's degree             0   \n",
       "9          0    2188.756445       41.0  secondary education             1   \n",
       "10         2    4171.483647       36.0    bachelor's degree             0   \n",
       "11         0     792.701887       40.0  secondary education             1   \n",
       "12         0            NaN       65.0  secondary education             1   \n",
       "13         0    1846.641941       54.0         some college             2   \n",
       "14         0    1844.956182       56.0    bachelor's degree             0   \n",
       "15         1     972.364419       26.0  secondary education             1   \n",
       "16         0    1719.934226       35.0  secondary education             1   \n",
       "17         0    2369.999720       33.0    bachelor's degree             0   \n",
       "18         0    2334.852924       53.0  secondary education             1   \n",
       "19         0   10038.818549       48.0  secondary education             1   \n",
       "\n",
       "        family_status  family_status_id gender income_type  debt  \\\n",
       "0             married                 0      F    employee     0   \n",
       "1             married                 0      F    employee     0   \n",
       "2             married                 0      M    employee     0   \n",
       "3             married                 0      M    employee     0   \n",
       "4   civil partnership                 1      F     retiree     0   \n",
       "5   civil partnership                 1      M    business     0   \n",
       "6             married                 0      F    business     0   \n",
       "7             married                 0      M    employee     0   \n",
       "8   civil partnership                 1      F    employee     0   \n",
       "9             married                 0      M    employee     0   \n",
       "10            married                 0      M    business     0   \n",
       "11            married                 0      F    employee     0   \n",
       "12  civil partnership                 1      M     retiree     0   \n",
       "13            married                 0      F    employee     0   \n",
       "14  civil partnership                 1      F    business     1   \n",
       "15            married                 0      F    employee     0   \n",
       "16            married                 0      F    employee     0   \n",
       "17  civil partnership                 1      M    employee     0   \n",
       "18    widow / widower                 2      F     retiree     0   \n",
       "19           divorced                 3      F    employee     0   \n",
       "\n",
       "    total_income                              purpose  age_group  \\\n",
       "0      40620.102                purchase of the house          2   \n",
       "1      17932.802                         car purchase          2   \n",
       "2      23341.752                purchase of the house          2   \n",
       "3      42820.568              supplementary education          2   \n",
       "4      25378.572                    to have a wedding          3   \n",
       "5      40922.170                purchase of the house          1   \n",
       "6      38484.156                 housing transactions          2   \n",
       "7      21731.829                            education          3   \n",
       "8      15337.093                     having a wedding          2   \n",
       "9      23108.150  purchase of the house for my family          2   \n",
       "10     18230.959                      buy real estate          2   \n",
       "11     12331.077           buy commercial real estate          2   \n",
       "12     18835.600                    to have a wedding          4   \n",
       "13     20873.317                         car purchase          3   \n",
       "14     26420.466          buy residential real estate          3   \n",
       "15     18691.345         construction of own property          1   \n",
       "16     46272.433                             property          2   \n",
       "17     14465.694                  building a property          2   \n",
       "18      9091.804             buying a second-hand car          3   \n",
       "19     38852.977                    buying my own car          3   \n",
       "\n",
       "    income_mediana  \n",
       "0       28995.3940  \n",
       "1       22912.3490  \n",
       "2       22912.3490  \n",
       "3       22912.3490  \n",
       "4       21785.4435  \n",
       "5       25956.1640  \n",
       "6       28995.3940  \n",
       "7       21785.4435  \n",
       "8       28995.3940  \n",
       "9       22912.3490  \n",
       "10      28995.3940  \n",
       "11      22912.3490  \n",
       "12      18835.6000  \n",
       "13      26919.6065  \n",
       "14      29369.6900  \n",
       "15      21114.7620  \n",
       "16      22912.3490  \n",
       "17      28995.3940  \n",
       "18      21785.4435  \n",
       "19      21785.4435  "
      ]
     },
     "execution_count": 53,
     "metadata": {},
     "output_type": "execute_result"
    }
   ],
   "source": [
    "# Aplique em todas as linhas\n",
    "df.loc[df[\"total_income\"].isna(), \"total_income\"] = df.loc[df[\"total_income\"].isna(), \"income_mediana\"]\n",
    "df.head(20)"
   ]
  },
  {
   "cell_type": "code",
   "execution_count": 54,
   "metadata": {
    "id": "2lga6W3brgNN"
   },
   "outputs": [],
   "source": [
    "# Verifique se temos algum erro\n",
    "df = df.drop(columns=[\"income_mediana\"])"
   ]
  },
  {
   "cell_type": "code",
   "execution_count": 55,
   "metadata": {
    "colab": {
     "base_uri": "https://localhost:8080/"
    },
    "id": "QaWTNqGKA0RZ",
    "outputId": "f885e317-b034-485f-a992-17e3a3e704bf"
   },
   "outputs": [
    {
     "data": {
      "text/plain": [
       "0"
      ]
     },
     "execution_count": 55,
     "metadata": {},
     "output_type": "execute_result"
    }
   ],
   "source": [
    "# Verifique se temos algum erro\n",
    "df[\"total_income\"].isna().sum()"
   ]
  },
  {
   "cell_type": "markdown",
   "metadata": {},
   "source": [
    "<div class=\"alert alert-block alert-success\">\n",
    "<b> Comentário do revisor: </b> <a class=\"tocSkip\"></a>\n",
    "\n",
    "Interessante sua abordagem usando o merge\n",
    "</div>"
   ]
  },
  {
   "cell_type": "markdown",
   "metadata": {
    "id": "CIgrXN9zrgNN"
   },
   "source": [
    "Vamos verificar se o número total de valores na coluna 'total_income' corresponde ao número de valores em outras"
   ]
  },
  {
   "cell_type": "code",
   "execution_count": 56,
   "metadata": {
    "colab": {
     "base_uri": "https://localhost:8080/"
    },
    "id": "KSCbOyWNrgNN",
    "outputId": "1fe44155-40fc-434e-a809-cf69175ede19"
   },
   "outputs": [
    {
     "name": "stdout",
     "output_type": "stream",
     "text": [
      "<class 'pandas.core.frame.DataFrame'>\n",
      "Int64Index: 21454 entries, 0 to 21453\n",
      "Data columns (total 13 columns):\n",
      " #   Column            Non-Null Count  Dtype  \n",
      "---  ------            --------------  -----  \n",
      " 0   children          21454 non-null  int64  \n",
      " 1   days_employed     19351 non-null  float64\n",
      " 2   dob_years         21454 non-null  float64\n",
      " 3   education         21454 non-null  object \n",
      " 4   education_id      21454 non-null  int64  \n",
      " 5   family_status     21454 non-null  object \n",
      " 6   family_status_id  21454 non-null  int64  \n",
      " 7   gender            21454 non-null  object \n",
      " 8   income_type       21454 non-null  object \n",
      " 9   debt              21454 non-null  int64  \n",
      " 10  total_income      21454 non-null  float64\n",
      " 11  purpose           21454 non-null  object \n",
      " 12  age_group         21454 non-null  int64  \n",
      "dtypes: float64(3), int64(5), object(5)\n",
      "memory usage: 2.3+ MB\n"
     ]
    }
   ],
   "source": [
    "# Verificar o número de entradas nas colunas\n",
    "df.info()\n"
   ]
  },
  {
   "cell_type": "markdown",
   "metadata": {
    "id": "J9j1XkJbrgNO"
   },
   "source": [
    "###  Restaurar valores em `days_employed`"
   ]
  },
  {
   "cell_type": "markdown",
   "metadata": {
    "id": "nZiDiynDrgNO"
   },
   "source": [
    "Os parâmentros que podem ajudar a restaurar os valores ausentes no dias trabalhados são 3: Idade, pois dependendo de quantos tem, existe uma limitação de dias trabalhados.Educação, pois dependendo da educação pode ser trabalhar menos em determinados casos.Tipo do emprego, da mesma forma que a educação."
   ]
  },
  {
   "cell_type": "code",
   "execution_count": 57,
   "metadata": {
    "colab": {
     "base_uri": "https://localhost:8080/",
     "height": 708
    },
    "id": "NV_2ptDCrgNO",
    "outputId": "783de69f-0b9c-47cd-9272-25641d8828eb"
   },
   "outputs": [
    {
     "data": {
      "text/html": [
       "<div>\n",
       "<style scoped>\n",
       "    .dataframe tbody tr th:only-of-type {\n",
       "        vertical-align: middle;\n",
       "    }\n",
       "\n",
       "    .dataframe tbody tr th {\n",
       "        vertical-align: top;\n",
       "    }\n",
       "\n",
       "    .dataframe thead th {\n",
       "        text-align: right;\n",
       "    }\n",
       "</style>\n",
       "<table border=\"1\" class=\"dataframe\">\n",
       "  <thead>\n",
       "    <tr style=\"text-align: right;\">\n",
       "      <th></th>\n",
       "      <th>age_group</th>\n",
       "      <th>income_type</th>\n",
       "      <th>days_employed_mediana</th>\n",
       "    </tr>\n",
       "  </thead>\n",
       "  <tbody>\n",
       "    <tr>\n",
       "      <th>0</th>\n",
       "      <td>1</td>\n",
       "      <td>business</td>\n",
       "      <td>908.139502</td>\n",
       "    </tr>\n",
       "    <tr>\n",
       "      <th>1</th>\n",
       "      <td>1</td>\n",
       "      <td>civil servant</td>\n",
       "      <td>1362.645769</td>\n",
       "    </tr>\n",
       "    <tr>\n",
       "      <th>2</th>\n",
       "      <td>1</td>\n",
       "      <td>employee</td>\n",
       "      <td>1008.784193</td>\n",
       "    </tr>\n",
       "    <tr>\n",
       "      <th>3</th>\n",
       "      <td>1</td>\n",
       "      <td>entrepreneur</td>\n",
       "      <td>520.848083</td>\n",
       "    </tr>\n",
       "    <tr>\n",
       "      <th>4</th>\n",
       "      <td>1</td>\n",
       "      <td>retiree</td>\n",
       "      <td>2334.852924</td>\n",
       "    </tr>\n",
       "    <tr>\n",
       "      <th>5</th>\n",
       "      <td>1</td>\n",
       "      <td>student</td>\n",
       "      <td>578.751554</td>\n",
       "    </tr>\n",
       "    <tr>\n",
       "      <th>6</th>\n",
       "      <td>2</td>\n",
       "      <td>business</td>\n",
       "      <td>1588.581162</td>\n",
       "    </tr>\n",
       "    <tr>\n",
       "      <th>7</th>\n",
       "      <td>2</td>\n",
       "      <td>civil servant</td>\n",
       "      <td>2772.638532</td>\n",
       "    </tr>\n",
       "    <tr>\n",
       "      <th>8</th>\n",
       "      <td>2</td>\n",
       "      <td>employee</td>\n",
       "      <td>1612.484985</td>\n",
       "    </tr>\n",
       "    <tr>\n",
       "      <th>9</th>\n",
       "      <td>2</td>\n",
       "      <td>paternity / maternity leave</td>\n",
       "      <td>3296.759962</td>\n",
       "    </tr>\n",
       "    <tr>\n",
       "      <th>10</th>\n",
       "      <td>2</td>\n",
       "      <td>retiree</td>\n",
       "      <td>2334.852924</td>\n",
       "    </tr>\n",
       "    <tr>\n",
       "      <th>11</th>\n",
       "      <td>2</td>\n",
       "      <td>unemployed</td>\n",
       "      <td>2334.852924</td>\n",
       "    </tr>\n",
       "    <tr>\n",
       "      <th>12</th>\n",
       "      <td>3</td>\n",
       "      <td>business</td>\n",
       "      <td>2044.399299</td>\n",
       "    </tr>\n",
       "    <tr>\n",
       "      <th>13</th>\n",
       "      <td>3</td>\n",
       "      <td>civil servant</td>\n",
       "      <td>3504.634243</td>\n",
       "    </tr>\n",
       "    <tr>\n",
       "      <th>14</th>\n",
       "      <td>3</td>\n",
       "      <td>employee</td>\n",
       "      <td>2124.336222</td>\n",
       "    </tr>\n",
       "    <tr>\n",
       "      <th>15</th>\n",
       "      <td>3</td>\n",
       "      <td>entrepreneur</td>\n",
       "      <td>NaN</td>\n",
       "    </tr>\n",
       "    <tr>\n",
       "      <th>16</th>\n",
       "      <td>3</td>\n",
       "      <td>retiree</td>\n",
       "      <td>2334.852924</td>\n",
       "    </tr>\n",
       "    <tr>\n",
       "      <th>17</th>\n",
       "      <td>3</td>\n",
       "      <td>unemployed</td>\n",
       "      <td>2334.852924</td>\n",
       "    </tr>\n",
       "    <tr>\n",
       "      <th>18</th>\n",
       "      <td>4</td>\n",
       "      <td>business</td>\n",
       "      <td>2334.852924</td>\n",
       "    </tr>\n",
       "    <tr>\n",
       "      <th>19</th>\n",
       "      <td>4</td>\n",
       "      <td>civil servant</td>\n",
       "      <td>3318.440092</td>\n",
       "    </tr>\n",
       "    <tr>\n",
       "      <th>20</th>\n",
       "      <td>4</td>\n",
       "      <td>employee</td>\n",
       "      <td>2462.762963</td>\n",
       "    </tr>\n",
       "    <tr>\n",
       "      <th>21</th>\n",
       "      <td>4</td>\n",
       "      <td>retiree</td>\n",
       "      <td>2334.852924</td>\n",
       "    </tr>\n",
       "  </tbody>\n",
       "</table>\n",
       "</div>"
      ],
      "text/plain": [
       "    age_group                  income_type  days_employed_mediana\n",
       "0           1                     business             908.139502\n",
       "1           1                civil servant            1362.645769\n",
       "2           1                     employee            1008.784193\n",
       "3           1                 entrepreneur             520.848083\n",
       "4           1                      retiree            2334.852924\n",
       "5           1                      student             578.751554\n",
       "6           2                     business            1588.581162\n",
       "7           2                civil servant            2772.638532\n",
       "8           2                     employee            1612.484985\n",
       "9           2  paternity / maternity leave            3296.759962\n",
       "10          2                      retiree            2334.852924\n",
       "11          2                   unemployed            2334.852924\n",
       "12          3                     business            2044.399299\n",
       "13          3                civil servant            3504.634243\n",
       "14          3                     employee            2124.336222\n",
       "15          3                 entrepreneur                    NaN\n",
       "16          3                      retiree            2334.852924\n",
       "17          3                   unemployed            2334.852924\n",
       "18          4                     business            2334.852924\n",
       "19          4                civil servant            3318.440092\n",
       "20          4                     employee            2462.762963\n",
       "21          4                      retiree            2334.852924"
      ]
     },
     "execution_count": 57,
     "metadata": {},
     "output_type": "execute_result"
    }
   ],
   "source": [
    "# Distribuição de `days_employed` medianos com base em seus parâmetros identificados\n",
    "\n",
    "by_group_median = df.groupby([\"age_group\",\"income_type\"])[\"days_employed\"].agg(\"median\").reset_index().rename(columns={\"days_employed\": \"days_employed_mediana\"})\n",
    "by_group_median\n"
   ]
  },
  {
   "cell_type": "code",
   "execution_count": 58,
   "metadata": {
    "colab": {
     "base_uri": "https://localhost:8080/",
     "height": 708
    },
    "id": "1GptwzWLrgNO",
    "outputId": "7a80946a-9fb0-49a0-cea0-32e739447e78"
   },
   "outputs": [
    {
     "data": {
      "text/html": [
       "<div>\n",
       "<style scoped>\n",
       "    .dataframe tbody tr th:only-of-type {\n",
       "        vertical-align: middle;\n",
       "    }\n",
       "\n",
       "    .dataframe tbody tr th {\n",
       "        vertical-align: top;\n",
       "    }\n",
       "\n",
       "    .dataframe thead th {\n",
       "        text-align: right;\n",
       "    }\n",
       "</style>\n",
       "<table border=\"1\" class=\"dataframe\">\n",
       "  <thead>\n",
       "    <tr style=\"text-align: right;\">\n",
       "      <th></th>\n",
       "      <th>age_group</th>\n",
       "      <th>income_type</th>\n",
       "      <th>days_employed_media</th>\n",
       "    </tr>\n",
       "  </thead>\n",
       "  <tbody>\n",
       "    <tr>\n",
       "      <th>0</th>\n",
       "      <td>1</td>\n",
       "      <td>business</td>\n",
       "      <td>1129.938925</td>\n",
       "    </tr>\n",
       "    <tr>\n",
       "      <th>1</th>\n",
       "      <td>1</td>\n",
       "      <td>civil servant</td>\n",
       "      <td>1595.684495</td>\n",
       "    </tr>\n",
       "    <tr>\n",
       "      <th>2</th>\n",
       "      <td>1</td>\n",
       "      <td>employee</td>\n",
       "      <td>1202.858627</td>\n",
       "    </tr>\n",
       "    <tr>\n",
       "      <th>3</th>\n",
       "      <td>1</td>\n",
       "      <td>entrepreneur</td>\n",
       "      <td>520.848083</td>\n",
       "    </tr>\n",
       "    <tr>\n",
       "      <th>4</th>\n",
       "      <td>1</td>\n",
       "      <td>retiree</td>\n",
       "      <td>2334.852924</td>\n",
       "    </tr>\n",
       "    <tr>\n",
       "      <th>5</th>\n",
       "      <td>1</td>\n",
       "      <td>student</td>\n",
       "      <td>578.751554</td>\n",
       "    </tr>\n",
       "    <tr>\n",
       "      <th>6</th>\n",
       "      <td>2</td>\n",
       "      <td>business</td>\n",
       "      <td>1986.234560</td>\n",
       "    </tr>\n",
       "    <tr>\n",
       "      <th>7</th>\n",
       "      <td>2</td>\n",
       "      <td>civil servant</td>\n",
       "      <td>3160.271436</td>\n",
       "    </tr>\n",
       "    <tr>\n",
       "      <th>8</th>\n",
       "      <td>2</td>\n",
       "      <td>employee</td>\n",
       "      <td>2189.340880</td>\n",
       "    </tr>\n",
       "    <tr>\n",
       "      <th>9</th>\n",
       "      <td>2</td>\n",
       "      <td>paternity / maternity leave</td>\n",
       "      <td>3296.759962</td>\n",
       "    </tr>\n",
       "    <tr>\n",
       "      <th>10</th>\n",
       "      <td>2</td>\n",
       "      <td>retiree</td>\n",
       "      <td>2334.852924</td>\n",
       "    </tr>\n",
       "    <tr>\n",
       "      <th>11</th>\n",
       "      <td>2</td>\n",
       "      <td>unemployed</td>\n",
       "      <td>2334.852924</td>\n",
       "    </tr>\n",
       "    <tr>\n",
       "      <th>12</th>\n",
       "      <td>3</td>\n",
       "      <td>business</td>\n",
       "      <td>2779.193401</td>\n",
       "    </tr>\n",
       "    <tr>\n",
       "      <th>13</th>\n",
       "      <td>3</td>\n",
       "      <td>civil servant</td>\n",
       "      <td>4396.813945</td>\n",
       "    </tr>\n",
       "    <tr>\n",
       "      <th>14</th>\n",
       "      <td>3</td>\n",
       "      <td>employee</td>\n",
       "      <td>3035.139284</td>\n",
       "    </tr>\n",
       "    <tr>\n",
       "      <th>15</th>\n",
       "      <td>3</td>\n",
       "      <td>entrepreneur</td>\n",
       "      <td>NaN</td>\n",
       "    </tr>\n",
       "    <tr>\n",
       "      <th>16</th>\n",
       "      <td>3</td>\n",
       "      <td>retiree</td>\n",
       "      <td>2334.852924</td>\n",
       "    </tr>\n",
       "    <tr>\n",
       "      <th>17</th>\n",
       "      <td>3</td>\n",
       "      <td>unemployed</td>\n",
       "      <td>2334.852924</td>\n",
       "    </tr>\n",
       "    <tr>\n",
       "      <th>18</th>\n",
       "      <td>4</td>\n",
       "      <td>business</td>\n",
       "      <td>3241.346970</td>\n",
       "    </tr>\n",
       "    <tr>\n",
       "      <th>19</th>\n",
       "      <td>4</td>\n",
       "      <td>civil servant</td>\n",
       "      <td>4343.083365</td>\n",
       "    </tr>\n",
       "    <tr>\n",
       "      <th>20</th>\n",
       "      <td>4</td>\n",
       "      <td>employee</td>\n",
       "      <td>3524.499047</td>\n",
       "    </tr>\n",
       "    <tr>\n",
       "      <th>21</th>\n",
       "      <td>4</td>\n",
       "      <td>retiree</td>\n",
       "      <td>2334.852924</td>\n",
       "    </tr>\n",
       "  </tbody>\n",
       "</table>\n",
       "</div>"
      ],
      "text/plain": [
       "    age_group                  income_type  days_employed_media\n",
       "0           1                     business          1129.938925\n",
       "1           1                civil servant          1595.684495\n",
       "2           1                     employee          1202.858627\n",
       "3           1                 entrepreneur           520.848083\n",
       "4           1                      retiree          2334.852924\n",
       "5           1                      student           578.751554\n",
       "6           2                     business          1986.234560\n",
       "7           2                civil servant          3160.271436\n",
       "8           2                     employee          2189.340880\n",
       "9           2  paternity / maternity leave          3296.759962\n",
       "10          2                      retiree          2334.852924\n",
       "11          2                   unemployed          2334.852924\n",
       "12          3                     business          2779.193401\n",
       "13          3                civil servant          4396.813945\n",
       "14          3                     employee          3035.139284\n",
       "15          3                 entrepreneur                  NaN\n",
       "16          3                      retiree          2334.852924\n",
       "17          3                   unemployed          2334.852924\n",
       "18          4                     business          3241.346970\n",
       "19          4                civil servant          4343.083365\n",
       "20          4                     employee          3524.499047\n",
       "21          4                      retiree          2334.852924"
      ]
     },
     "execution_count": 58,
     "metadata": {},
     "output_type": "execute_result"
    }
   ],
   "source": [
    "# Distribuição de `days_employed` médios com base em seus parâmetros identificados\n",
    "by_group_mean = df.groupby([\"age_group\",\"income_type\"])[\"days_employed\"].agg(\"mean\").reset_index().rename(columns={\"days_employed\": \"days_employed_media\"})\n",
    "by_group_mean"
   ]
  },
  {
   "cell_type": "markdown",
   "metadata": {
    "id": "PYu3gqjsrgNP"
   },
   "source": [
    "Usaremos novamente a mediana para obter mais valores precisos"
   ]
  },
  {
   "cell_type": "code",
   "execution_count": 59,
   "metadata": {
    "id": "FrGijWb2rgNP"
   },
   "outputs": [],
   "source": [
    "# Vamos escrever uma função que calcule médias ou medianas (dependendo da sua decisão) com base no seu parâmetro identificado\n",
    "df[\"days_employed\"] = df[\"days_employed\"].fillna(df.groupby([\"age_group\",\"income_type\"])[\"days_employed\"].transform('median'))"
   ]
  },
  {
   "cell_type": "markdown",
   "metadata": {},
   "source": [
    "<div class=\"alert alert-block alert-success\">\n",
    "<b> Comentário do revisor: </b> <a class=\"tocSkip\"></a>\n",
    "\n",
    "Excelente uso do método `transform()` \n",
    "</div>"
   ]
  },
  {
   "cell_type": "code",
   "execution_count": 60,
   "metadata": {
    "colab": {
     "base_uri": "https://localhost:8080/"
    },
    "id": "uUFWA-IvrgNP",
    "outputId": "f8d06d18-c60c-4ec5-e65d-59beacae6074"
   },
   "outputs": [
    {
     "name": "stdout",
     "output_type": "stream",
     "text": [
      "<class 'pandas.core.frame.DataFrame'>\n",
      "Int64Index: 21454 entries, 0 to 21453\n",
      "Data columns (total 13 columns):\n",
      " #   Column            Non-Null Count  Dtype  \n",
      "---  ------            --------------  -----  \n",
      " 0   children          21454 non-null  int64  \n",
      " 1   days_employed     21453 non-null  float64\n",
      " 2   dob_years         21454 non-null  float64\n",
      " 3   education         21454 non-null  object \n",
      " 4   education_id      21454 non-null  int64  \n",
      " 5   family_status     21454 non-null  object \n",
      " 6   family_status_id  21454 non-null  int64  \n",
      " 7   gender            21454 non-null  object \n",
      " 8   income_type       21454 non-null  object \n",
      " 9   debt              21454 non-null  int64  \n",
      " 10  total_income      21454 non-null  float64\n",
      " 11  purpose           21454 non-null  object \n",
      " 12  age_group         21454 non-null  int64  \n",
      "dtypes: float64(3), int64(5), object(5)\n",
      "memory usage: 2.3+ MB\n"
     ]
    }
   ],
   "source": [
    "# Verifique se a função funciona\n",
    "\n",
    "df.info()"
   ]
  },
  {
   "cell_type": "code",
   "execution_count": 61,
   "metadata": {
    "colab": {
     "base_uri": "https://localhost:8080/",
     "height": 197
    },
    "id": "2LlKRdwTopv3",
    "outputId": "e84176fe-ef0a-472c-b35a-504bdfb88aa7"
   },
   "outputs": [],
   "source": [
    "df3 = df[df[\"age_group\"]==3]\n",
    "df3 = df3[df3[\"income_type\"]==\"entrepreneur\"]\n"
   ]
  },
  {
   "cell_type": "code",
   "execution_count": 62,
   "metadata": {
    "id": "Yqz9ySSjtDXy"
   },
   "outputs": [],
   "source": [
    "df.loc[5931,'days_employed'] = df[\"days_employed\"].median()"
   ]
  },
  {
   "cell_type": "code",
   "execution_count": 63,
   "metadata": {
    "colab": {
     "base_uri": "https://localhost:8080/"
    },
    "id": "gY6KxerErgNP",
    "outputId": "6bbc13d0-2960-44d1-a857-c74c4676cbd6"
   },
   "outputs": [
    {
     "data": {
      "text/plain": [
       "0"
      ]
     },
     "execution_count": 63,
     "metadata": {},
     "output_type": "execute_result"
    }
   ],
   "source": [
    "# Verifique se a função funcionou\n",
    "\n",
    "df[\"days_employed\"].isna().sum()"
   ]
  },
  {
   "cell_type": "markdown",
   "metadata": {
    "id": "T_D0KsTJrgNQ"
   },
   "source": [
    "Vamos verificar se o número total de valores nesta coluna corresponde ao número de valores em outras."
   ]
  },
  {
   "cell_type": "code",
   "execution_count": 64,
   "metadata": {
    "colab": {
     "base_uri": "https://localhost:8080/"
    },
    "id": "ujT5tPPergNQ",
    "outputId": "8d8effe1-36e1-43cb-e26b-7e1b5cd8e68c"
   },
   "outputs": [
    {
     "name": "stdout",
     "output_type": "stream",
     "text": [
      "<class 'pandas.core.frame.DataFrame'>\n",
      "Int64Index: 21454 entries, 0 to 21453\n",
      "Data columns (total 13 columns):\n",
      " #   Column            Non-Null Count  Dtype  \n",
      "---  ------            --------------  -----  \n",
      " 0   children          21454 non-null  int64  \n",
      " 1   days_employed     21454 non-null  float64\n",
      " 2   dob_years         21454 non-null  float64\n",
      " 3   education         21454 non-null  object \n",
      " 4   education_id      21454 non-null  int64  \n",
      " 5   family_status     21454 non-null  object \n",
      " 6   family_status_id  21454 non-null  int64  \n",
      " 7   gender            21454 non-null  object \n",
      " 8   income_type       21454 non-null  object \n",
      " 9   debt              21454 non-null  int64  \n",
      " 10  total_income      21454 non-null  float64\n",
      " 11  purpose           21454 non-null  object \n",
      " 12  age_group         21454 non-null  int64  \n",
      "dtypes: float64(3), int64(5), object(5)\n",
      "memory usage: 2.8+ MB\n"
     ]
    }
   ],
   "source": [
    "# Verifique as entradas em todas as colunas - certifique-se de corrigir todos os valores ausentes\n",
    "df.info()"
   ]
  },
  {
   "cell_type": "markdown",
   "metadata": {},
   "source": [
    "<div class=\"alert alert-block alert-success\">\n",
    "<b> Comentário do revisor: </b> <a class=\"tocSkip\"></a>\n",
    "\n",
    "Otimo, não temos mais valores ausentes!\n",
    "</div>"
   ]
  },
  {
   "cell_type": "markdown",
   "metadata": {
    "id": "eztgvhjxrgNQ"
   },
   "source": [
    "## Categorização de dados\n",
    "\n",
    "Vamos categorizar os dados para responder algumas questões mas primeiros vamos separar um DataFrame para pessoas que possuem divida e outro para as pessoas que não possuem divida.\n"
   ]
  },
  {
   "cell_type": "code",
   "execution_count": 65,
   "metadata": {},
   "outputs": [
    {
     "data": {
      "text/plain": [
       "wedding ceremony                            0.036870\n",
       "having a wedding                            0.035798\n",
       "to have a wedding                           0.035658\n",
       "real estate transactions                    0.031463\n",
       "buy commercial real estate                  0.030810\n",
       "housing transactions                        0.030391\n",
       "buying property for renting out             0.030344\n",
       "transactions with commercial real estate    0.030297\n",
       "housing                                     0.030111\n",
       "purchase of the house                       0.030111\n",
       "purchase of the house for my family         0.029738\n",
       "construction of own property                0.029598\n",
       "property                                    0.029505\n",
       "transactions with my real estate            0.029225\n",
       "building a real estate                      0.029085\n",
       "buy real estate                             0.028946\n",
       "purchase of my own house                    0.028899\n",
       "building a property                         0.028852\n",
       "housing renovation                          0.028293\n",
       "buy residential real estate                 0.028246\n",
       "buying my own car                           0.023539\n",
       "going to university                         0.023119\n",
       "car                                         0.023026\n",
       "second-hand car purchase                    0.022653\n",
       "buying a second-hand car                    0.022280\n",
       "cars                                        0.022280\n",
       "to own a car                                0.022280\n",
       "to buy a car                                0.021954\n",
       "car purchase                                0.021488\n",
       "supplementary education                     0.021441\n",
       "purchase of a car                           0.021208\n",
       "university education                        0.021068\n",
       "education                                   0.020835\n",
       "to get a supplementary education            0.020789\n",
       "getting an education                        0.020602\n",
       "profile education                           0.020323\n",
       "getting higher education                    0.019856\n",
       "to become educated                          0.019017\n",
       "Name: purpose, dtype: float64"
      ]
     },
     "execution_count": 65,
     "metadata": {},
     "output_type": "execute_result"
    }
   ],
   "source": [
    "# Exiba os valores dos dados selecionados para categorização\n",
    "df['purpose'].value_counts(normalize=True)"
   ]
  },
  {
   "cell_type": "code",
   "execution_count": 66,
   "metadata": {},
   "outputs": [],
   "source": [
    "def categorize_purpose(row):\n",
    "    if 'car' in row['purpose']:\n",
    "        return 'car'\n",
    "    if 'hous' in row['purpose'] or 'prop' in row['purpose'] or 'real est' in row['purpose']:\n",
    "        return 'real estate'\n",
    "    if 'educat' in row['purpose'] or 'universi' in row['purpose']:\n",
    "        return 'education'\n",
    "    if 'weddin' in row['purpose']:\n",
    "        return 'wedding'"
   ]
  },
  {
   "cell_type": "code",
   "execution_count": 67,
   "metadata": {},
   "outputs": [
    {
     "data": {
      "text/plain": [
       "'car'"
      ]
     },
     "execution_count": 67,
     "metadata": {},
     "output_type": "execute_result"
    }
   ],
   "source": [
    "categorize_purpose(df.loc[1])"
   ]
  },
  {
   "cell_type": "code",
   "execution_count": 68,
   "metadata": {},
   "outputs": [],
   "source": [
    "df['purpose_group'] = df.apply(categorize_purpose, axis=1)"
   ]
  },
  {
   "cell_type": "code",
   "execution_count": 69,
   "metadata": {},
   "outputs": [
    {
     "data": {
      "text/plain": [
       "real estate    0.503915\n",
       "car            0.200708\n",
       "education      0.187051\n",
       "wedding        0.108325\n",
       "Name: purpose_group, dtype: float64"
      ]
     },
     "execution_count": 69,
     "metadata": {},
     "output_type": "execute_result"
    }
   ],
   "source": [
    "df['purpose_group'].value_counts(normalize=True)"
   ]
  },
  {
   "cell_type": "markdown",
   "metadata": {},
   "source": [
    "Vemos que 50% de intençao de empréstimo esta relacionada a compra/manutenção/quitação de dividas relacionadas a casa."
   ]
  },
  {
   "cell_type": "markdown",
   "metadata": {},
   "source": [
    "<div class=\"alert alert-block alert-danger\">\n",
    "<b> Comentário do revisor: </b> <a class=\"tocSkip\"></a>\n",
    "\n",
    "<s>Interessante essa analise de como esta o top 5 de pessoas com debito e sem debitos. Entretanto o objetivo da categorização é criar uma coluna que categorize a intenção do emprestimo, se você for analisar a quantidade de valores unicos nessa coluna, vai perceber que temos 38 diferentes, mas nos podemos agrupa-los em temas, pois a maioria se repete. Sugiro que você crie essa coluna que categorize em wedding, education, real_estate ou moradia e carro\n",
    "</div>"
   ]
  },
  {
   "cell_type": "markdown",
   "metadata": {},
   "source": [
    "<div class=\"alert alert-block alert-success\">\n",
    "<b> Comentário do revisor v.2: </b> <a class=\"tocSkip\"></a>\n",
    "\n",
    "Excelente! A categorização ficou otima!\n",
    "</div>"
   ]
  },
  {
   "cell_type": "markdown",
   "metadata": {
    "id": "chMOj5TZrgNS"
   },
   "source": [
    "Vamos criar uma categoria com base no nível de renda, classificados de 'A' como mais alto e 'E' o mais baixo."
   ]
  },
  {
   "cell_type": "code",
   "execution_count": 70,
   "metadata": {
    "id": "FjwQLXFBrgNS"
   },
   "outputs": [],
   "source": [
    "# Criar função para categorização em diferentes grupos numéricos com base em intervalos\n",
    "def preencher_income_level(row):\n",
    "  if row['total_income'] < 20000:\n",
    "    return 'E'\n",
    "  elif row['total_income'] <30000:\n",
    "    return 'D'\n",
    "  elif row['total_income'] <40000:\n",
    "    return 'C'\n",
    "  elif row['total_income'] <50000:\n",
    "    return 'B'\n",
    "  else:\n",
    "    return 'A'"
   ]
  },
  {
   "cell_type": "code",
   "execution_count": 71,
   "metadata": {
    "id": "7lfby4L7rgNT"
   },
   "outputs": [],
   "source": [
    "# Criar coluna com categorias\n",
    "df['income_level'] = df.apply(preencher_income_level, axis=1)"
   ]
  },
  {
   "cell_type": "code",
   "execution_count": 72,
   "metadata": {
    "colab": {
     "base_uri": "https://localhost:8080/"
    },
    "id": "6mNrLRbOrgNT",
    "outputId": "2ad1c1be-bb7c-4d36-c524-d024a74bd504",
    "scrolled": true
   },
   "outputs": [
    {
     "data": {
      "text/plain": [
       "D    7951\n",
       "E    7584\n",
       "C    3107\n",
       "B    1492\n",
       "A    1320\n",
       "Name: income_level, dtype: int64"
      ]
     },
     "execution_count": 72,
     "metadata": {},
     "output_type": "execute_result"
    }
   ],
   "source": [
    "# Conte os valores de cada categoria para ver a distribuição\n",
    "df['income_level'].value_counts()"
   ]
  },
  {
   "cell_type": "markdown",
   "metadata": {},
   "source": [
    "<div class=\"alert alert-block alert-success\">\n",
    "<b> Comentário do revisor: </b> <a class=\"tocSkip\"></a>\n",
    " \n",
    "Boa categorização de renda, e analise dos dados\n",
    "</div>"
   ]
  },
  {
   "cell_type": "markdown",
   "metadata": {
    "id": "Uur44BnUrgNU"
   },
   "source": [
    "## Verificar as Hipóteses\n"
   ]
  },
  {
   "cell_type": "markdown",
   "metadata": {
    "id": "9vZh67dOrgNU"
   },
   "source": [
    "**Existe uma correlação entre a quantidade de crianças e do pagamento em dia?**"
   ]
  },
  {
   "cell_type": "code",
   "execution_count": 73,
   "metadata": {},
   "outputs": [],
   "source": [
    "# Verifique os dados das crianças e do pagamento em dia\n",
    "\n",
    "pivot_children = df.pivot_table(index='children',columns='debt',values='days_employed', aggfunc='count') \n",
    "# Calcular a taxa de inadimplência com base no número de filhos\n",
    "pivot_children['taxa_de_inadimplencia'] = (pivot_children[1] / (pivot_children[1]+pivot_children[0])*100)"
   ]
  },
  {
   "cell_type": "code",
   "execution_count": 74,
   "metadata": {
    "scrolled": true
   },
   "outputs": [
    {
     "data": {
      "text/html": [
       "<div>\n",
       "<style scoped>\n",
       "    .dataframe tbody tr th:only-of-type {\n",
       "        vertical-align: middle;\n",
       "    }\n",
       "\n",
       "    .dataframe tbody tr th {\n",
       "        vertical-align: top;\n",
       "    }\n",
       "\n",
       "    .dataframe thead th {\n",
       "        text-align: right;\n",
       "    }\n",
       "</style>\n",
       "<table border=\"1\" class=\"dataframe\">\n",
       "  <thead>\n",
       "    <tr style=\"text-align: right;\">\n",
       "      <th>debt</th>\n",
       "      <th>0</th>\n",
       "      <th>1</th>\n",
       "      <th>taxa_de_inadimplencia</th>\n",
       "    </tr>\n",
       "    <tr>\n",
       "      <th>children</th>\n",
       "      <th></th>\n",
       "      <th></th>\n",
       "      <th></th>\n",
       "    </tr>\n",
       "  </thead>\n",
       "  <tbody>\n",
       "    <tr>\n",
       "      <th>4</th>\n",
       "      <td>37.0</td>\n",
       "      <td>4.0</td>\n",
       "      <td>9.756098</td>\n",
       "    </tr>\n",
       "    <tr>\n",
       "      <th>2</th>\n",
       "      <td>1926.0</td>\n",
       "      <td>202.0</td>\n",
       "      <td>9.492481</td>\n",
       "    </tr>\n",
       "    <tr>\n",
       "      <th>1</th>\n",
       "      <td>4410.0</td>\n",
       "      <td>445.0</td>\n",
       "      <td>9.165808</td>\n",
       "    </tr>\n",
       "    <tr>\n",
       "      <th>3</th>\n",
       "      <td>303.0</td>\n",
       "      <td>27.0</td>\n",
       "      <td>8.181818</td>\n",
       "    </tr>\n",
       "    <tr>\n",
       "      <th>0</th>\n",
       "      <td>13028.0</td>\n",
       "      <td>1063.0</td>\n",
       "      <td>7.543822</td>\n",
       "    </tr>\n",
       "    <tr>\n",
       "      <th>5</th>\n",
       "      <td>9.0</td>\n",
       "      <td>NaN</td>\n",
       "      <td>NaN</td>\n",
       "    </tr>\n",
       "  </tbody>\n",
       "</table>\n",
       "</div>"
      ],
      "text/plain": [
       "debt            0       1  taxa_de_inadimplencia\n",
       "children                                        \n",
       "4            37.0     4.0               9.756098\n",
       "2          1926.0   202.0               9.492481\n",
       "1          4410.0   445.0               9.165808\n",
       "3           303.0    27.0               8.181818\n",
       "0         13028.0  1063.0               7.543822\n",
       "5             9.0     NaN                    NaN"
      ]
     },
     "execution_count": 74,
     "metadata": {},
     "output_type": "execute_result"
    }
   ],
   "source": [
    "pivot_children.sort_values(by='taxa_de_inadimplencia', ascending=False)"
   ]
  },
  {
   "cell_type": "markdown",
   "metadata": {},
   "source": [
    "Concluimos que a maior taxa inadimplência é de 4 filhos é de quase 10%!!!"
   ]
  },
  {
   "cell_type": "markdown",
   "metadata": {},
   "source": [
    "<div class=\"alert alert-block alert-danger\">\n",
    "<b> Comentário do revisor: </b> <a class=\"tocSkip\"></a>\n",
    "\n",
    "<s>Nessa etapa é interessante usar o df original para analisarmos se o numero de crianças tem correlaçao com o pagamento em dia. Você esta usando apenas o df filtrado por pessoas com debito, é interessante fazer essa analise tambem baseado nas  pessoas sem debito. Você pode criar um pivot com o index sendo children, columns= 'debt', e depois criar uma coluna indicando essa porcentagem. Sugiro essa modificação para as outras analises (status familiar, income_level...)\n",
    "</div>"
   ]
  },
  {
   "cell_type": "markdown",
   "metadata": {},
   "source": [
    "<div class=\"alert alert-block alert-success\">\n",
    "<b> Comentário do revisor v.2: </b> <a class=\"tocSkip\"></a>\n",
    "\n",
    "Ficou muito bom! A taxa de inadimplência relacionada com o numero de filhos foi calculada corretamente\n",
    "</div>"
   ]
  },
  {
   "cell_type": "markdown",
   "metadata": {
    "id": "idUSnwWergNV"
   },
   "source": [
    "**Existe uma correlação entre o status familiar e o pagamento em dia?**"
   ]
  },
  {
   "cell_type": "code",
   "execution_count": 75,
   "metadata": {
    "colab": {
     "base_uri": "https://localhost:8080/"
    },
    "id": "ONZyPzURrgNW",
    "outputId": "e0ed3381-5b4d-49ab-bd85-daf56d22600d"
   },
   "outputs": [],
   "source": [
    "# Verifique os dados de status da família e do pagamento em dia\n",
    "\n",
    "pivot_family_status = df.pivot_table(index='family_status',columns='debt',values='days_employed', aggfunc='count') \n",
    "# Calcular a taxa padrão com base no status da família\n",
    "pivot_family_status['taxa_de_inadimplencia'] = (pivot_family_status[1] / (pivot_family_status[1]+pivot_family_status[0])*100)\n"
   ]
  },
  {
   "cell_type": "code",
   "execution_count": 76,
   "metadata": {
    "colab": {
     "base_uri": "https://localhost:8080/"
    },
    "id": "66g9P5lv1c_I",
    "outputId": "6ee11377-3746-4ec5-ae95-e51ec4086d28",
    "scrolled": true
   },
   "outputs": [
    {
     "data": {
      "text/html": [
       "<div>\n",
       "<style scoped>\n",
       "    .dataframe tbody tr th:only-of-type {\n",
       "        vertical-align: middle;\n",
       "    }\n",
       "\n",
       "    .dataframe tbody tr th {\n",
       "        vertical-align: top;\n",
       "    }\n",
       "\n",
       "    .dataframe thead th {\n",
       "        text-align: right;\n",
       "    }\n",
       "</style>\n",
       "<table border=\"1\" class=\"dataframe\">\n",
       "  <thead>\n",
       "    <tr style=\"text-align: right;\">\n",
       "      <th>debt</th>\n",
       "      <th>0</th>\n",
       "      <th>1</th>\n",
       "      <th>taxa_de_inadimplencia</th>\n",
       "    </tr>\n",
       "    <tr>\n",
       "      <th>family_status</th>\n",
       "      <th></th>\n",
       "      <th></th>\n",
       "      <th></th>\n",
       "    </tr>\n",
       "  </thead>\n",
       "  <tbody>\n",
       "    <tr>\n",
       "      <th>unmarried</th>\n",
       "      <td>2536</td>\n",
       "      <td>274</td>\n",
       "      <td>9.750890</td>\n",
       "    </tr>\n",
       "    <tr>\n",
       "      <th>civil partnership</th>\n",
       "      <td>3763</td>\n",
       "      <td>388</td>\n",
       "      <td>9.347145</td>\n",
       "    </tr>\n",
       "    <tr>\n",
       "      <th>married</th>\n",
       "      <td>11408</td>\n",
       "      <td>931</td>\n",
       "      <td>7.545182</td>\n",
       "    </tr>\n",
       "    <tr>\n",
       "      <th>divorced</th>\n",
       "      <td>1110</td>\n",
       "      <td>85</td>\n",
       "      <td>7.112971</td>\n",
       "    </tr>\n",
       "    <tr>\n",
       "      <th>widow / widower</th>\n",
       "      <td>896</td>\n",
       "      <td>63</td>\n",
       "      <td>6.569343</td>\n",
       "    </tr>\n",
       "  </tbody>\n",
       "</table>\n",
       "</div>"
      ],
      "text/plain": [
       "debt                   0    1  taxa_de_inadimplencia\n",
       "family_status                                       \n",
       "unmarried           2536  274               9.750890\n",
       "civil partnership   3763  388               9.347145\n",
       "married            11408  931               7.545182\n",
       "divorced            1110   85               7.112971\n",
       "widow / widower      896   63               6.569343"
      ]
     },
     "execution_count": 76,
     "metadata": {},
     "output_type": "execute_result"
    }
   ],
   "source": [
    "pivot_family_status.sort_values(by='taxa_de_inadimplencia', ascending=False)"
   ]
  },
  {
   "cell_type": "markdown",
   "metadata": {
    "id": "LCOs3L1krgNW"
   },
   "source": [
    "**Conclusão**\n",
    "A maior taxa de inadimplência são de pessoas solteiras quase 10%.\n"
   ]
  },
  {
   "cell_type": "markdown",
   "metadata": {},
   "source": [
    "<div class=\"alert alert-block alert-success\">\n",
    "<b> Comentário do revisor v.2: </b> <a class=\"tocSkip\"></a>\n",
    "\n",
    "A taxa de inadimplência relacionada com status familiar foi calculada corretamente \n",
    "</div>"
   ]
  },
  {
   "cell_type": "markdown",
   "metadata": {
    "id": "W5sBesfXrgNW"
   },
   "source": [
    "**Existe uma correlação entre o nivel de renda e o pagamento em dia?**"
   ]
  },
  {
   "cell_type": "code",
   "execution_count": 77,
   "metadata": {
    "colab": {
     "base_uri": "https://localhost:8080/"
    },
    "id": "ohKgWvTargNX",
    "outputId": "8643b470-0cd4-45b8-efbf-efdfa2cc09fa"
   },
   "outputs": [],
   "source": [
    "# Verifique os dados do nível de renda e do pagamento em dia\n",
    "\n",
    "pivot_income_level = df.pivot_table(index='income_level',columns='debt',values='days_employed', aggfunc='count') \n",
    "# Calcular a taxa de inadimplência com base no nível de renda\n",
    "pivot_income_level['taxa_de_inadimplencia'] = (pivot_income_level[1] / (pivot_income_level[1]+pivot_income_level[0])*100)\n"
   ]
  },
  {
   "cell_type": "code",
   "execution_count": 78,
   "metadata": {},
   "outputs": [
    {
     "data": {
      "text/html": [
       "<div>\n",
       "<style scoped>\n",
       "    .dataframe tbody tr th:only-of-type {\n",
       "        vertical-align: middle;\n",
       "    }\n",
       "\n",
       "    .dataframe tbody tr th {\n",
       "        vertical-align: top;\n",
       "    }\n",
       "\n",
       "    .dataframe thead th {\n",
       "        text-align: right;\n",
       "    }\n",
       "</style>\n",
       "<table border=\"1\" class=\"dataframe\">\n",
       "  <thead>\n",
       "    <tr style=\"text-align: right;\">\n",
       "      <th>debt</th>\n",
       "      <th>0</th>\n",
       "      <th>1</th>\n",
       "      <th>taxa_de_inadimplencia</th>\n",
       "    </tr>\n",
       "    <tr>\n",
       "      <th>income_level</th>\n",
       "      <th></th>\n",
       "      <th></th>\n",
       "      <th></th>\n",
       "    </tr>\n",
       "  </thead>\n",
       "  <tbody>\n",
       "    <tr>\n",
       "      <th>D</th>\n",
       "      <td>7268</td>\n",
       "      <td>683</td>\n",
       "      <td>8.590114</td>\n",
       "    </tr>\n",
       "    <tr>\n",
       "      <th>E</th>\n",
       "      <td>6962</td>\n",
       "      <td>622</td>\n",
       "      <td>8.201477</td>\n",
       "    </tr>\n",
       "    <tr>\n",
       "      <th>C</th>\n",
       "      <td>2865</td>\n",
       "      <td>242</td>\n",
       "      <td>7.788864</td>\n",
       "    </tr>\n",
       "    <tr>\n",
       "      <th>A</th>\n",
       "      <td>1228</td>\n",
       "      <td>92</td>\n",
       "      <td>6.969697</td>\n",
       "    </tr>\n",
       "    <tr>\n",
       "      <th>B</th>\n",
       "      <td>1390</td>\n",
       "      <td>102</td>\n",
       "      <td>6.836461</td>\n",
       "    </tr>\n",
       "  </tbody>\n",
       "</table>\n",
       "</div>"
      ],
      "text/plain": [
       "debt             0    1  taxa_de_inadimplencia\n",
       "income_level                                  \n",
       "D             7268  683               8.590114\n",
       "E             6962  622               8.201477\n",
       "C             2865  242               7.788864\n",
       "A             1228   92               6.969697\n",
       "B             1390  102               6.836461"
      ]
     },
     "execution_count": 78,
     "metadata": {},
     "output_type": "execute_result"
    }
   ],
   "source": [
    "pivot_income_level.sort_values(by='taxa_de_inadimplencia', ascending=False)"
   ]
  },
  {
   "cell_type": "markdown",
   "metadata": {
    "id": "OVINU6CyrgNX"
   },
   "source": [
    "**Conclusão**\n",
    "Pessoas no nivel de renda D, tem a maior taxa de inadimplência, em torno de 8,5%."
   ]
  },
  {
   "cell_type": "markdown",
   "metadata": {},
   "source": [
    "<div class=\"alert alert-block alert-success\">\n",
    "<b> Comentário do revisor v.2: </b> <a class=\"tocSkip\"></a>\n",
    "\n",
    "A taxa de inadimplência relacionada com renda foi calculada corretamente.\n",
    "</div>"
   ]
  },
  {
   "cell_type": "markdown",
   "metadata": {
    "id": "F_NcEikNrgNY"
   },
   "source": [
    "**Como a finalidade do crédito afeta a taxa de inadimplência?**"
   ]
  },
  {
   "cell_type": "code",
   "execution_count": 79,
   "metadata": {
    "colab": {
     "base_uri": "https://localhost:8080/"
    },
    "id": "QaL18SGCrgNY",
    "outputId": "7d6c8a78-aedd-4213-a921-e4f1be0a86b1"
   },
   "outputs": [],
   "source": [
    "# Confira os percentuais de inadimplência para cada finalidade de crédito e analise-os\n",
    "\n",
    "pivot_purpose_group = df.pivot_table(index='purpose_group',columns='debt',values='days_employed', aggfunc='count') \n",
    "pivot_purpose_group['taxa_de_inadimplencia'] = (pivot_purpose_group[1] / (pivot_purpose_group[1]+pivot_purpose_group[0])*100)"
   ]
  },
  {
   "cell_type": "code",
   "execution_count": 80,
   "metadata": {
    "scrolled": true
   },
   "outputs": [
    {
     "data": {
      "text/html": [
       "<div>\n",
       "<style scoped>\n",
       "    .dataframe tbody tr th:only-of-type {\n",
       "        vertical-align: middle;\n",
       "    }\n",
       "\n",
       "    .dataframe tbody tr th {\n",
       "        vertical-align: top;\n",
       "    }\n",
       "\n",
       "    .dataframe thead th {\n",
       "        text-align: right;\n",
       "    }\n",
       "</style>\n",
       "<table border=\"1\" class=\"dataframe\">\n",
       "  <thead>\n",
       "    <tr style=\"text-align: right;\">\n",
       "      <th>debt</th>\n",
       "      <th>0</th>\n",
       "      <th>1</th>\n",
       "      <th>taxa_de_inadimplencia</th>\n",
       "    </tr>\n",
       "    <tr>\n",
       "      <th>purpose_group</th>\n",
       "      <th></th>\n",
       "      <th></th>\n",
       "      <th></th>\n",
       "    </tr>\n",
       "  </thead>\n",
       "  <tbody>\n",
       "    <tr>\n",
       "      <th>car</th>\n",
       "      <td>3903</td>\n",
       "      <td>403</td>\n",
       "      <td>9.359034</td>\n",
       "    </tr>\n",
       "    <tr>\n",
       "      <th>education</th>\n",
       "      <td>3643</td>\n",
       "      <td>370</td>\n",
       "      <td>9.220035</td>\n",
       "    </tr>\n",
       "    <tr>\n",
       "      <th>wedding</th>\n",
       "      <td>2138</td>\n",
       "      <td>186</td>\n",
       "      <td>8.003442</td>\n",
       "    </tr>\n",
       "    <tr>\n",
       "      <th>real estate</th>\n",
       "      <td>10029</td>\n",
       "      <td>782</td>\n",
       "      <td>7.233373</td>\n",
       "    </tr>\n",
       "  </tbody>\n",
       "</table>\n",
       "</div>"
      ],
      "text/plain": [
       "debt               0    1  taxa_de_inadimplencia\n",
       "purpose_group                                   \n",
       "car             3903  403               9.359034\n",
       "education       3643  370               9.220035\n",
       "wedding         2138  186               8.003442\n",
       "real estate    10029  782               7.233373"
      ]
     },
     "execution_count": 80,
     "metadata": {},
     "output_type": "execute_result"
    }
   ],
   "source": [
    "pivot_purpose_group.sort_values(by='taxa_de_inadimplencia', ascending=False)"
   ]
  },
  {
   "cell_type": "code",
   "execution_count": 81,
   "metadata": {},
   "outputs": [],
   "source": [
    "pivot_purpose = df.pivot_table(index='purpose',columns='debt',values='days_employed', aggfunc='count') \n",
    "pivot_purpose['taxa_de_inadimplencia'] = (pivot_purpose[1] / (pivot_purpose[1]+pivot_purpose[0])*100)"
   ]
  },
  {
   "cell_type": "code",
   "execution_count": 82,
   "metadata": {},
   "outputs": [
    {
     "data": {
      "text/html": [
       "<div>\n",
       "<style scoped>\n",
       "    .dataframe tbody tr th:only-of-type {\n",
       "        vertical-align: middle;\n",
       "    }\n",
       "\n",
       "    .dataframe tbody tr th {\n",
       "        vertical-align: top;\n",
       "    }\n",
       "\n",
       "    .dataframe thead th {\n",
       "        text-align: right;\n",
       "    }\n",
       "</style>\n",
       "<table border=\"1\" class=\"dataframe\">\n",
       "  <thead>\n",
       "    <tr style=\"text-align: right;\">\n",
       "      <th>debt</th>\n",
       "      <th>0</th>\n",
       "      <th>1</th>\n",
       "      <th>taxa_de_inadimplencia</th>\n",
       "    </tr>\n",
       "    <tr>\n",
       "      <th>purpose</th>\n",
       "      <th></th>\n",
       "      <th></th>\n",
       "      <th></th>\n",
       "    </tr>\n",
       "  </thead>\n",
       "  <tbody>\n",
       "    <tr>\n",
       "      <th>to get a supplementary education</th>\n",
       "      <td>395</td>\n",
       "      <td>51</td>\n",
       "      <td>11.434978</td>\n",
       "    </tr>\n",
       "    <tr>\n",
       "      <th>purchase of a car</th>\n",
       "      <td>405</td>\n",
       "      <td>50</td>\n",
       "      <td>10.989011</td>\n",
       "    </tr>\n",
       "    <tr>\n",
       "      <th>getting higher education</th>\n",
       "      <td>380</td>\n",
       "      <td>46</td>\n",
       "      <td>10.798122</td>\n",
       "    </tr>\n",
       "    <tr>\n",
       "      <th>second-hand car purchase</th>\n",
       "      <td>435</td>\n",
       "      <td>51</td>\n",
       "      <td>10.493827</td>\n",
       "    </tr>\n",
       "    <tr>\n",
       "      <th>profile education</th>\n",
       "      <td>392</td>\n",
       "      <td>44</td>\n",
       "      <td>10.091743</td>\n",
       "    </tr>\n",
       "    <tr>\n",
       "      <th>to own a car</th>\n",
       "      <td>430</td>\n",
       "      <td>48</td>\n",
       "      <td>10.041841</td>\n",
       "    </tr>\n",
       "    <tr>\n",
       "      <th>to become educated</th>\n",
       "      <td>369</td>\n",
       "      <td>39</td>\n",
       "      <td>9.558824</td>\n",
       "    </tr>\n",
       "    <tr>\n",
       "      <th>to buy a car</th>\n",
       "      <td>427</td>\n",
       "      <td>44</td>\n",
       "      <td>9.341826</td>\n",
       "    </tr>\n",
       "    <tr>\n",
       "      <th>cars</th>\n",
       "      <td>434</td>\n",
       "      <td>44</td>\n",
       "      <td>9.205021</td>\n",
       "    </tr>\n",
       "    <tr>\n",
       "      <th>car purchase</th>\n",
       "      <td>419</td>\n",
       "      <td>42</td>\n",
       "      <td>9.110629</td>\n",
       "    </tr>\n",
       "    <tr>\n",
       "      <th>buying my own car</th>\n",
       "      <td>459</td>\n",
       "      <td>46</td>\n",
       "      <td>9.108911</td>\n",
       "    </tr>\n",
       "    <tr>\n",
       "      <th>university education</th>\n",
       "      <td>412</td>\n",
       "      <td>40</td>\n",
       "      <td>8.849558</td>\n",
       "    </tr>\n",
       "    <tr>\n",
       "      <th>building a property</th>\n",
       "      <td>565</td>\n",
       "      <td>54</td>\n",
       "      <td>8.723748</td>\n",
       "    </tr>\n",
       "    <tr>\n",
       "      <th>going to university</th>\n",
       "      <td>453</td>\n",
       "      <td>43</td>\n",
       "      <td>8.669355</td>\n",
       "    </tr>\n",
       "    <tr>\n",
       "      <th>car</th>\n",
       "      <td>452</td>\n",
       "      <td>42</td>\n",
       "      <td>8.502024</td>\n",
       "    </tr>\n",
       "    <tr>\n",
       "      <th>getting an education</th>\n",
       "      <td>405</td>\n",
       "      <td>37</td>\n",
       "      <td>8.371041</td>\n",
       "    </tr>\n",
       "    <tr>\n",
       "      <th>having a wedding</th>\n",
       "      <td>704</td>\n",
       "      <td>64</td>\n",
       "      <td>8.333333</td>\n",
       "    </tr>\n",
       "    <tr>\n",
       "      <th>supplementary education</th>\n",
       "      <td>422</td>\n",
       "      <td>38</td>\n",
       "      <td>8.260870</td>\n",
       "    </tr>\n",
       "    <tr>\n",
       "      <th>real estate transactions</th>\n",
       "      <td>620</td>\n",
       "      <td>55</td>\n",
       "      <td>8.148148</td>\n",
       "    </tr>\n",
       "    <tr>\n",
       "      <th>wedding ceremony</th>\n",
       "      <td>727</td>\n",
       "      <td>64</td>\n",
       "      <td>8.091024</td>\n",
       "    </tr>\n",
       "    <tr>\n",
       "      <th>transactions with commercial real estate</th>\n",
       "      <td>598</td>\n",
       "      <td>52</td>\n",
       "      <td>8.000000</td>\n",
       "    </tr>\n",
       "    <tr>\n",
       "      <th>buying property for renting out</th>\n",
       "      <td>599</td>\n",
       "      <td>52</td>\n",
       "      <td>7.987711</td>\n",
       "    </tr>\n",
       "    <tr>\n",
       "      <th>transactions with my real estate</th>\n",
       "      <td>577</td>\n",
       "      <td>50</td>\n",
       "      <td>7.974482</td>\n",
       "    </tr>\n",
       "    <tr>\n",
       "      <th>building a real estate</th>\n",
       "      <td>576</td>\n",
       "      <td>48</td>\n",
       "      <td>7.692308</td>\n",
       "    </tr>\n",
       "    <tr>\n",
       "      <th>to have a wedding</th>\n",
       "      <td>707</td>\n",
       "      <td>58</td>\n",
       "      <td>7.581699</td>\n",
       "    </tr>\n",
       "    <tr>\n",
       "      <th>buying a second-hand car</th>\n",
       "      <td>442</td>\n",
       "      <td>36</td>\n",
       "      <td>7.531381</td>\n",
       "    </tr>\n",
       "    <tr>\n",
       "      <th>purchase of the house</th>\n",
       "      <td>598</td>\n",
       "      <td>48</td>\n",
       "      <td>7.430341</td>\n",
       "    </tr>\n",
       "    <tr>\n",
       "      <th>housing transactions</th>\n",
       "      <td>604</td>\n",
       "      <td>48</td>\n",
       "      <td>7.361963</td>\n",
       "    </tr>\n",
       "    <tr>\n",
       "      <th>education</th>\n",
       "      <td>415</td>\n",
       "      <td>32</td>\n",
       "      <td>7.158837</td>\n",
       "    </tr>\n",
       "    <tr>\n",
       "      <th>housing</th>\n",
       "      <td>600</td>\n",
       "      <td>46</td>\n",
       "      <td>7.120743</td>\n",
       "    </tr>\n",
       "    <tr>\n",
       "      <th>buy commercial real estate</th>\n",
       "      <td>614</td>\n",
       "      <td>47</td>\n",
       "      <td>7.110439</td>\n",
       "    </tr>\n",
       "    <tr>\n",
       "      <th>purchase of the house for my family</th>\n",
       "      <td>593</td>\n",
       "      <td>45</td>\n",
       "      <td>7.053292</td>\n",
       "    </tr>\n",
       "    <tr>\n",
       "      <th>buy real estate</th>\n",
       "      <td>578</td>\n",
       "      <td>43</td>\n",
       "      <td>6.924316</td>\n",
       "    </tr>\n",
       "    <tr>\n",
       "      <th>buy residential real estate</th>\n",
       "      <td>565</td>\n",
       "      <td>41</td>\n",
       "      <td>6.765677</td>\n",
       "    </tr>\n",
       "    <tr>\n",
       "      <th>property</th>\n",
       "      <td>591</td>\n",
       "      <td>42</td>\n",
       "      <td>6.635071</td>\n",
       "    </tr>\n",
       "    <tr>\n",
       "      <th>construction of own property</th>\n",
       "      <td>593</td>\n",
       "      <td>42</td>\n",
       "      <td>6.614173</td>\n",
       "    </tr>\n",
       "    <tr>\n",
       "      <th>housing renovation</th>\n",
       "      <td>572</td>\n",
       "      <td>35</td>\n",
       "      <td>5.766063</td>\n",
       "    </tr>\n",
       "    <tr>\n",
       "      <th>purchase of my own house</th>\n",
       "      <td>586</td>\n",
       "      <td>34</td>\n",
       "      <td>5.483871</td>\n",
       "    </tr>\n",
       "  </tbody>\n",
       "</table>\n",
       "</div>"
      ],
      "text/plain": [
       "debt                                        0   1  taxa_de_inadimplencia\n",
       "purpose                                                                 \n",
       "to get a supplementary education          395  51              11.434978\n",
       "purchase of a car                         405  50              10.989011\n",
       "getting higher education                  380  46              10.798122\n",
       "second-hand car purchase                  435  51              10.493827\n",
       "profile education                         392  44              10.091743\n",
       "to own a car                              430  48              10.041841\n",
       "to become educated                        369  39               9.558824\n",
       "to buy a car                              427  44               9.341826\n",
       "cars                                      434  44               9.205021\n",
       "car purchase                              419  42               9.110629\n",
       "buying my own car                         459  46               9.108911\n",
       "university education                      412  40               8.849558\n",
       "building a property                       565  54               8.723748\n",
       "going to university                       453  43               8.669355\n",
       "car                                       452  42               8.502024\n",
       "getting an education                      405  37               8.371041\n",
       "having a wedding                          704  64               8.333333\n",
       "supplementary education                   422  38               8.260870\n",
       "real estate transactions                  620  55               8.148148\n",
       "wedding ceremony                          727  64               8.091024\n",
       "transactions with commercial real estate  598  52               8.000000\n",
       "buying property for renting out           599  52               7.987711\n",
       "transactions with my real estate          577  50               7.974482\n",
       "building a real estate                    576  48               7.692308\n",
       "to have a wedding                         707  58               7.581699\n",
       "buying a second-hand car                  442  36               7.531381\n",
       "purchase of the house                     598  48               7.430341\n",
       "housing transactions                      604  48               7.361963\n",
       "education                                 415  32               7.158837\n",
       "housing                                   600  46               7.120743\n",
       "buy commercial real estate                614  47               7.110439\n",
       "purchase of the house for my family       593  45               7.053292\n",
       "buy real estate                           578  43               6.924316\n",
       "buy residential real estate               565  41               6.765677\n",
       "property                                  591  42               6.635071\n",
       "construction of own property              593  42               6.614173\n",
       "housing renovation                        572  35               5.766063\n",
       "purchase of my own house                  586  34               5.483871"
      ]
     },
     "execution_count": 82,
     "metadata": {},
     "output_type": "execute_result"
    }
   ],
   "source": [
    "pivot_purpose.sort_values(by='taxa_de_inadimplencia', ascending=False)"
   ]
  },
  {
   "cell_type": "markdown",
   "metadata": {
    "id": "ONpOqizbrgNY"
   },
   "source": [
    "**Conclusão**\n",
    "Sobre as inteções de empréstimo, usando um grupo de propósitos sobre o empréstimo, empréstimos relacionado para resolver assuntos sobre o carro fica em primeiro lugar com 9,5%, mas se fomos mais especificos por assunto, o propósito 'para obter uma educação complementar' é o campeão de inadimplência com 11,4%."
   ]
  },
  {
   "cell_type": "markdown",
   "metadata": {},
   "source": [
    "<div class=\"alert alert-block alert-warning\">\n",
    "<b> Comentário do revisor v.2: </b> <a class=\"tocSkip\"></a>\n",
    "\n",
    "Sugiro que seja usado a coluna que foi categorizada!\n",
    "</div>"
   ]
  },
  {
   "cell_type": "markdown",
   "metadata": {
    "id": "z7EO9kpnrgNY"
   },
   "source": [
    "# Conclusão Geral \n",
    "\n",
    "\n",
    "\n",
    "Neste projeto realizamos o pré-processamento de dados,em cada coluna realizamos a padronização de estilos, modificamos valores incongruentes, substituimos valores ausentes com base em estudos sobre outras colunas com valores devidamente preenchidos, removemos as duplicatas de valores existente na base de dados, fizemos pesquisa de quais fatores são mais determinantes para os usuários inadimplêntes e concluímos que fatores como: a quantidade de filhos, estado civil do cliente , a finalidade de crédito e o nível de renda são valores que impactam significativamente a inadimplência do clientes.\n"
   ]
  },
  {
   "cell_type": "markdown",
   "metadata": {
    "id": "j5ieuJDT7H5U"
   },
   "source": [
    "<div class=\"alert alert-block alert-warning\">\n",
    "<b> Comentário do revisor: </b> <a class=\"tocSkip\"></a>\n",
    "\n",
    "<s>Sugiro que você descreva um pouco mais sobre o que foi feito. Você fez um excelente trabalho, tenta destacar nessa parte!\n",
    "</div>"
   ]
  },
  {
   "cell_type": "code",
   "execution_count": null,
   "metadata": {},
   "outputs": [],
   "source": []
  }
 ],
 "metadata": {
  "ExecuteTimeLog": [
   {
    "duration": 2741,
    "start_time": "2021-10-21T01:08:49.480Z"
   },
   {
    "duration": 52,
    "start_time": "2021-10-21T01:08:53.315Z"
   },
   {
    "duration": 49,
    "start_time": "2021-10-21T01:08:57.432Z"
   },
   {
    "duration": 70,
    "start_time": "2021-10-21T01:09:07.706Z"
   },
   {
    "duration": 440,
    "start_time": "2022-09-02T17:47:24.775Z"
   },
   {
    "duration": 77,
    "start_time": "2022-09-02T17:47:25.217Z"
   },
   {
    "duration": 0,
    "start_time": "2022-09-02T17:47:25.297Z"
   },
   {
    "duration": 0,
    "start_time": "2022-09-02T17:47:25.298Z"
   },
   {
    "duration": 0,
    "start_time": "2022-09-02T17:47:25.299Z"
   },
   {
    "duration": 0,
    "start_time": "2022-09-02T17:47:25.300Z"
   },
   {
    "duration": 0,
    "start_time": "2022-09-02T17:47:25.301Z"
   },
   {
    "duration": 0,
    "start_time": "2022-09-02T17:47:25.302Z"
   },
   {
    "duration": 0,
    "start_time": "2022-09-02T17:47:25.303Z"
   },
   {
    "duration": 0,
    "start_time": "2022-09-02T17:47:25.304Z"
   },
   {
    "duration": 0,
    "start_time": "2022-09-02T17:47:25.306Z"
   },
   {
    "duration": 0,
    "start_time": "2022-09-02T17:47:25.307Z"
   },
   {
    "duration": 0,
    "start_time": "2022-09-02T17:47:25.308Z"
   },
   {
    "duration": 0,
    "start_time": "2022-09-02T17:47:25.309Z"
   },
   {
    "duration": 0,
    "start_time": "2022-09-02T17:47:25.310Z"
   },
   {
    "duration": 0,
    "start_time": "2022-09-02T17:47:25.311Z"
   },
   {
    "duration": 0,
    "start_time": "2022-09-02T17:47:25.312Z"
   },
   {
    "duration": 0,
    "start_time": "2022-09-02T17:47:25.313Z"
   },
   {
    "duration": 0,
    "start_time": "2022-09-02T17:47:25.314Z"
   },
   {
    "duration": 0,
    "start_time": "2022-09-02T17:47:25.315Z"
   },
   {
    "duration": 0,
    "start_time": "2022-09-02T17:47:25.316Z"
   },
   {
    "duration": 0,
    "start_time": "2022-09-02T17:47:25.317Z"
   },
   {
    "duration": 0,
    "start_time": "2022-09-02T17:47:25.318Z"
   },
   {
    "duration": 0,
    "start_time": "2022-09-02T17:47:25.319Z"
   },
   {
    "duration": 0,
    "start_time": "2022-09-02T17:47:25.320Z"
   },
   {
    "duration": 0,
    "start_time": "2022-09-02T17:47:25.321Z"
   },
   {
    "duration": 0,
    "start_time": "2022-09-02T17:47:25.322Z"
   },
   {
    "duration": 0,
    "start_time": "2022-09-02T17:47:25.323Z"
   },
   {
    "duration": 0,
    "start_time": "2022-09-02T17:47:25.324Z"
   },
   {
    "duration": 0,
    "start_time": "2022-09-02T17:47:25.325Z"
   },
   {
    "duration": 0,
    "start_time": "2022-09-02T17:47:25.326Z"
   },
   {
    "duration": 0,
    "start_time": "2022-09-02T17:47:25.327Z"
   },
   {
    "duration": 0,
    "start_time": "2022-09-02T17:47:25.328Z"
   },
   {
    "duration": 0,
    "start_time": "2022-09-02T17:47:25.330Z"
   },
   {
    "duration": 0,
    "start_time": "2022-09-02T17:47:25.331Z"
   },
   {
    "duration": 0,
    "start_time": "2022-09-02T17:47:25.332Z"
   },
   {
    "duration": 0,
    "start_time": "2022-09-02T17:47:25.333Z"
   },
   {
    "duration": 0,
    "start_time": "2022-09-02T17:47:25.387Z"
   },
   {
    "duration": 0,
    "start_time": "2022-09-02T17:47:25.388Z"
   },
   {
    "duration": 0,
    "start_time": "2022-09-02T17:47:25.390Z"
   },
   {
    "duration": 0,
    "start_time": "2022-09-02T17:47:25.392Z"
   },
   {
    "duration": 0,
    "start_time": "2022-09-02T17:47:25.393Z"
   },
   {
    "duration": 0,
    "start_time": "2022-09-02T17:47:25.394Z"
   },
   {
    "duration": 0,
    "start_time": "2022-09-02T17:47:25.395Z"
   },
   {
    "duration": 0,
    "start_time": "2022-09-02T17:47:25.396Z"
   },
   {
    "duration": 0,
    "start_time": "2022-09-02T17:47:25.397Z"
   },
   {
    "duration": 0,
    "start_time": "2022-09-02T17:47:25.398Z"
   },
   {
    "duration": 0,
    "start_time": "2022-09-02T17:47:25.399Z"
   },
   {
    "duration": 0,
    "start_time": "2022-09-02T17:47:25.399Z"
   },
   {
    "duration": 0,
    "start_time": "2022-09-02T17:47:25.401Z"
   },
   {
    "duration": 0,
    "start_time": "2022-09-02T17:47:25.402Z"
   },
   {
    "duration": 0,
    "start_time": "2022-09-02T17:47:25.403Z"
   },
   {
    "duration": 0,
    "start_time": "2022-09-02T17:47:25.404Z"
   },
   {
    "duration": 0,
    "start_time": "2022-09-02T17:47:25.404Z"
   },
   {
    "duration": 0,
    "start_time": "2022-09-02T17:47:25.405Z"
   },
   {
    "duration": 0,
    "start_time": "2022-09-02T17:47:25.406Z"
   },
   {
    "duration": 0,
    "start_time": "2022-09-02T17:47:25.408Z"
   },
   {
    "duration": 0,
    "start_time": "2022-09-02T17:47:25.409Z"
   },
   {
    "duration": 0,
    "start_time": "2022-09-02T17:47:25.409Z"
   },
   {
    "duration": 0,
    "start_time": "2022-09-02T17:47:25.410Z"
   },
   {
    "duration": 0,
    "start_time": "2022-09-02T17:47:25.411Z"
   },
   {
    "duration": 0,
    "start_time": "2022-09-02T17:47:25.412Z"
   },
   {
    "duration": 0,
    "start_time": "2022-09-02T17:47:25.413Z"
   },
   {
    "duration": 0,
    "start_time": "2022-09-02T17:47:25.414Z"
   },
   {
    "duration": 0,
    "start_time": "2022-09-02T17:47:25.415Z"
   },
   {
    "duration": 0,
    "start_time": "2022-09-02T17:47:25.416Z"
   },
   {
    "duration": 0,
    "start_time": "2022-09-02T17:47:25.417Z"
   },
   {
    "duration": 0,
    "start_time": "2022-09-02T17:47:25.418Z"
   },
   {
    "duration": 0,
    "start_time": "2022-09-02T17:47:25.419Z"
   },
   {
    "duration": 0,
    "start_time": "2022-09-02T17:47:25.420Z"
   },
   {
    "duration": 0,
    "start_time": "2022-09-02T17:47:25.421Z"
   },
   {
    "duration": 0,
    "start_time": "2022-09-02T17:47:25.421Z"
   },
   {
    "duration": 0,
    "start_time": "2022-09-02T17:47:25.422Z"
   },
   {
    "duration": 0,
    "start_time": "2022-09-02T17:47:25.423Z"
   },
   {
    "duration": 0,
    "start_time": "2022-09-02T17:47:25.486Z"
   },
   {
    "duration": 0,
    "start_time": "2022-09-02T17:47:25.487Z"
   },
   {
    "duration": 0,
    "start_time": "2022-09-02T17:47:25.489Z"
   },
   {
    "duration": 0,
    "start_time": "2022-09-02T17:47:25.489Z"
   },
   {
    "duration": 0,
    "start_time": "2022-09-02T17:47:25.490Z"
   },
   {
    "duration": 0,
    "start_time": "2022-09-02T17:47:25.492Z"
   },
   {
    "duration": 0,
    "start_time": "2022-09-02T17:47:25.493Z"
   },
   {
    "duration": 0,
    "start_time": "2022-09-02T17:47:25.494Z"
   },
   {
    "duration": 0,
    "start_time": "2022-09-02T17:47:25.495Z"
   },
   {
    "duration": 1,
    "start_time": "2022-09-02T17:47:25.495Z"
   },
   {
    "duration": 0,
    "start_time": "2022-09-02T17:47:25.496Z"
   },
   {
    "duration": 0,
    "start_time": "2022-09-02T17:47:25.498Z"
   },
   {
    "duration": 0,
    "start_time": "2022-09-02T17:47:25.499Z"
   },
   {
    "duration": 0,
    "start_time": "2022-09-02T17:47:25.500Z"
   },
   {
    "duration": 0,
    "start_time": "2022-09-02T17:47:25.500Z"
   },
   {
    "duration": 0,
    "start_time": "2022-09-02T17:47:25.502Z"
   },
   {
    "duration": 50,
    "start_time": "2022-09-02T17:50:08.778Z"
   },
   {
    "duration": 160,
    "start_time": "2022-09-02T17:50:12.575Z"
   },
   {
    "duration": 3,
    "start_time": "2022-09-02T17:50:14.932Z"
   },
   {
    "duration": 82,
    "start_time": "2022-09-02T17:50:14.937Z"
   },
   {
    "duration": 17,
    "start_time": "2022-09-02T17:50:15.021Z"
   },
   {
    "duration": 44,
    "start_time": "2022-09-02T17:50:15.040Z"
   },
   {
    "duration": 33,
    "start_time": "2022-09-02T17:50:15.086Z"
   },
   {
    "duration": 19,
    "start_time": "2022-09-02T17:50:15.121Z"
   },
   {
    "duration": 8,
    "start_time": "2022-09-02T17:50:15.142Z"
   },
   {
    "duration": 13,
    "start_time": "2022-09-02T17:50:15.152Z"
   },
   {
    "duration": 19,
    "start_time": "2022-09-02T17:50:15.187Z"
   },
   {
    "duration": 6,
    "start_time": "2022-09-02T17:50:15.208Z"
   },
   {
    "duration": 13,
    "start_time": "2022-09-02T17:50:15.216Z"
   },
   {
    "duration": 11,
    "start_time": "2022-09-02T17:50:15.231Z"
   },
   {
    "duration": 3,
    "start_time": "2022-09-02T17:50:15.244Z"
   },
   {
    "duration": 45,
    "start_time": "2022-09-02T17:50:15.249Z"
   },
   {
    "duration": 5,
    "start_time": "2022-09-02T17:50:15.296Z"
   },
   {
    "duration": 16,
    "start_time": "2022-09-02T17:50:15.302Z"
   },
   {
    "duration": 12,
    "start_time": "2022-09-02T17:50:15.319Z"
   },
   {
    "duration": 32,
    "start_time": "2022-09-02T17:50:15.333Z"
   },
   {
    "duration": 33,
    "start_time": "2022-09-02T17:50:15.367Z"
   },
   {
    "duration": 9,
    "start_time": "2022-09-02T17:50:15.402Z"
   },
   {
    "duration": 16,
    "start_time": "2022-09-02T17:50:15.413Z"
   },
   {
    "duration": 12,
    "start_time": "2022-09-02T17:50:15.430Z"
   },
   {
    "duration": 7,
    "start_time": "2022-09-02T17:50:15.443Z"
   },
   {
    "duration": 26,
    "start_time": "2022-09-02T17:50:15.452Z"
   },
   {
    "duration": 4,
    "start_time": "2022-09-02T17:50:15.479Z"
   },
   {
    "duration": 17,
    "start_time": "2022-09-02T17:50:15.484Z"
   },
   {
    "duration": 7,
    "start_time": "2022-09-02T17:50:15.502Z"
   },
   {
    "duration": 28,
    "start_time": "2022-09-02T17:50:15.511Z"
   },
   {
    "duration": 35,
    "start_time": "2022-09-02T17:50:15.541Z"
   },
   {
    "duration": 11,
    "start_time": "2022-09-02T17:50:15.578Z"
   },
   {
    "duration": 9,
    "start_time": "2022-09-02T17:50:15.591Z"
   },
   {
    "duration": 205,
    "start_time": "2022-09-02T17:50:15.602Z"
   },
   {
    "duration": 8,
    "start_time": "2022-09-02T17:50:15.809Z"
   },
   {
    "duration": 11,
    "start_time": "2022-09-02T17:50:15.819Z"
   },
   {
    "duration": 19,
    "start_time": "2022-09-02T17:50:15.831Z"
   },
   {
    "duration": 6,
    "start_time": "2022-09-02T17:50:15.854Z"
   },
   {
    "duration": 34,
    "start_time": "2022-09-02T17:50:15.861Z"
   },
   {
    "duration": 6,
    "start_time": "2022-09-02T17:50:15.897Z"
   },
   {
    "duration": 16,
    "start_time": "2022-09-02T17:50:15.905Z"
   },
   {
    "duration": 15,
    "start_time": "2022-09-02T17:50:15.922Z"
   },
   {
    "duration": 15,
    "start_time": "2022-09-02T17:50:15.938Z"
   },
   {
    "duration": 42,
    "start_time": "2022-09-02T17:50:15.954Z"
   },
   {
    "duration": 4,
    "start_time": "2022-09-02T17:50:15.998Z"
   },
   {
    "duration": 17,
    "start_time": "2022-09-02T17:50:16.003Z"
   },
   {
    "duration": 8,
    "start_time": "2022-09-02T17:50:16.022Z"
   },
   {
    "duration": 154,
    "start_time": "2022-09-02T17:50:16.031Z"
   },
   {
    "duration": 4,
    "start_time": "2022-09-02T17:50:16.187Z"
   },
   {
    "duration": 33,
    "start_time": "2022-09-02T17:50:16.192Z"
   },
   {
    "duration": 20,
    "start_time": "2022-09-02T17:50:16.226Z"
   },
   {
    "duration": 43,
    "start_time": "2022-09-02T17:50:16.249Z"
   },
   {
    "duration": 17,
    "start_time": "2022-09-02T17:50:16.295Z"
   },
   {
    "duration": 45,
    "start_time": "2022-09-02T17:50:16.314Z"
   },
   {
    "duration": 38,
    "start_time": "2022-09-02T17:50:16.361Z"
   },
   {
    "duration": 10,
    "start_time": "2022-09-02T17:50:16.401Z"
   },
   {
    "duration": 10,
    "start_time": "2022-09-02T17:50:16.413Z"
   },
   {
    "duration": 29,
    "start_time": "2022-09-02T17:50:16.425Z"
   },
   {
    "duration": 33,
    "start_time": "2022-09-02T17:50:16.456Z"
   },
   {
    "duration": 13,
    "start_time": "2022-09-02T17:50:16.490Z"
   },
   {
    "duration": 6,
    "start_time": "2022-09-02T17:50:16.505Z"
   },
   {
    "duration": 17,
    "start_time": "2022-09-02T17:50:16.513Z"
   },
   {
    "duration": 5,
    "start_time": "2022-09-02T17:50:16.531Z"
   },
   {
    "duration": 12,
    "start_time": "2022-09-02T17:50:16.538Z"
   },
   {
    "duration": 5,
    "start_time": "2022-09-02T17:50:16.551Z"
   },
   {
    "duration": 36,
    "start_time": "2022-09-02T17:50:16.558Z"
   },
   {
    "duration": 11,
    "start_time": "2022-09-02T17:50:16.596Z"
   },
   {
    "duration": 7,
    "start_time": "2022-09-02T17:50:16.609Z"
   },
   {
    "duration": 14,
    "start_time": "2022-09-02T17:50:16.617Z"
   },
   {
    "duration": 3,
    "start_time": "2022-09-02T17:50:16.632Z"
   },
   {
    "duration": 6,
    "start_time": "2022-09-02T17:50:16.637Z"
   },
   {
    "duration": 7,
    "start_time": "2022-09-02T17:50:16.645Z"
   },
   {
    "duration": 41,
    "start_time": "2022-09-02T17:50:16.688Z"
   },
   {
    "duration": 7,
    "start_time": "2022-09-02T17:50:16.731Z"
   },
   {
    "duration": 7,
    "start_time": "2022-09-02T17:50:16.740Z"
   },
   {
    "duration": 12,
    "start_time": "2022-09-02T17:50:16.748Z"
   },
   {
    "duration": 4,
    "start_time": "2022-09-02T17:50:16.762Z"
   },
   {
    "duration": 5,
    "start_time": "2022-09-02T17:50:16.786Z"
   },
   {
    "duration": 15,
    "start_time": "2022-09-02T17:50:16.793Z"
   },
   {
    "duration": 4,
    "start_time": "2022-09-02T17:50:16.810Z"
   },
   {
    "duration": 14,
    "start_time": "2022-09-02T17:50:16.816Z"
   },
   {
    "duration": 10,
    "start_time": "2022-09-02T17:50:16.832Z"
   },
   {
    "duration": 5,
    "start_time": "2022-09-02T17:50:16.844Z"
   },
   {
    "duration": 7,
    "start_time": "2022-09-02T17:50:16.850Z"
   },
   {
    "duration": 29,
    "start_time": "2022-09-02T17:50:16.859Z"
   },
   {
    "duration": 188,
    "start_time": "2022-09-02T17:50:16.889Z"
   },
   {
    "duration": 10,
    "start_time": "2022-09-02T17:50:17.079Z"
   },
   {
    "duration": 11,
    "start_time": "2022-09-02T17:50:17.091Z"
   },
   {
    "duration": 7,
    "start_time": "2022-09-02T17:50:17.103Z"
   },
   {
    "duration": 11,
    "start_time": "2022-09-02T17:50:17.111Z"
   },
   {
    "duration": 10,
    "start_time": "2022-09-02T17:50:17.124Z"
   },
   {
    "duration": 8,
    "start_time": "2022-09-02T17:50:17.139Z"
   },
   {
    "duration": 95,
    "start_time": "2022-09-02T17:58:23.565Z"
   },
   {
    "duration": 15,
    "start_time": "2022-09-02T18:22:57.949Z"
   },
   {
    "duration": 7,
    "start_time": "2022-09-02T18:25:43.094Z"
   },
   {
    "duration": 22,
    "start_time": "2022-09-02T18:36:15.322Z"
   },
   {
    "duration": 385,
    "start_time": "2022-09-03T02:17:31.177Z"
   },
   {
    "duration": 64,
    "start_time": "2022-09-03T02:17:34.029Z"
   },
   {
    "duration": 157,
    "start_time": "2022-09-03T02:18:45.974Z"
   },
   {
    "duration": 14,
    "start_time": "2022-09-03T02:19:01.519Z"
   },
   {
    "duration": 18,
    "start_time": "2022-09-03T02:19:02.245Z"
   },
   {
    "duration": 28,
    "start_time": "2022-09-03T02:19:05.061Z"
   },
   {
    "duration": 19,
    "start_time": "2022-09-03T02:19:08.318Z"
   },
   {
    "duration": 9,
    "start_time": "2022-09-03T02:19:09.642Z"
   },
   {
    "duration": 11,
    "start_time": "2022-09-03T02:19:10.950Z"
   },
   {
    "duration": 17,
    "start_time": "2022-09-03T02:19:12.293Z"
   },
   {
    "duration": 5,
    "start_time": "2022-09-03T02:20:54.070Z"
   },
   {
    "duration": 18,
    "start_time": "2022-09-03T02:21:03.509Z"
   },
   {
    "duration": 6,
    "start_time": "2022-09-03T02:21:26.684Z"
   },
   {
    "duration": 6,
    "start_time": "2022-09-03T02:26:54.149Z"
   },
   {
    "duration": 5,
    "start_time": "2022-09-03T02:26:57.585Z"
   },
   {
    "duration": 2,
    "start_time": "2022-09-03T02:26:58.501Z"
   },
   {
    "duration": 9,
    "start_time": "2022-09-03T02:26:59.485Z"
   },
   {
    "duration": 4,
    "start_time": "2022-09-03T02:27:00.659Z"
   },
   {
    "duration": 3,
    "start_time": "2022-09-03T02:27:06.326Z"
   },
   {
    "duration": 4,
    "start_time": "2022-09-03T02:27:07.100Z"
   },
   {
    "duration": 5,
    "start_time": "2022-09-03T02:27:07.388Z"
   },
   {
    "duration": 10,
    "start_time": "2022-09-03T02:27:08.846Z"
   },
   {
    "duration": 6,
    "start_time": "2022-09-03T02:27:09.374Z"
   },
   {
    "duration": 7,
    "start_time": "2022-09-03T02:29:23.838Z"
   },
   {
    "duration": 6,
    "start_time": "2022-09-03T02:29:50.369Z"
   },
   {
    "duration": 1215,
    "start_time": "2022-09-03T02:30:00.087Z"
   },
   {
    "duration": 4,
    "start_time": "2022-09-03T02:34:14.954Z"
   },
   {
    "duration": 5,
    "start_time": "2022-09-03T02:34:36.938Z"
   },
   {
    "duration": 10,
    "start_time": "2022-09-03T02:37:18.347Z"
   },
   {
    "duration": 453,
    "start_time": "2022-09-03T20:34:16.269Z"
   },
   {
    "duration": 165,
    "start_time": "2022-09-03T20:34:16.724Z"
   },
   {
    "duration": 17,
    "start_time": "2022-09-03T20:34:16.891Z"
   },
   {
    "duration": 18,
    "start_time": "2022-09-03T20:34:16.910Z"
   },
   {
    "duration": 34,
    "start_time": "2022-09-03T20:34:16.930Z"
   },
   {
    "duration": 37,
    "start_time": "2022-09-03T20:34:16.965Z"
   },
   {
    "duration": 9,
    "start_time": "2022-09-03T20:34:17.005Z"
   },
   {
    "duration": 11,
    "start_time": "2022-09-03T20:34:17.016Z"
   },
   {
    "duration": 20,
    "start_time": "2022-09-03T20:34:17.029Z"
   },
   {
    "duration": 6,
    "start_time": "2022-09-03T20:34:17.050Z"
   },
   {
    "duration": 30,
    "start_time": "2022-09-03T20:34:17.058Z"
   },
   {
    "duration": 6,
    "start_time": "2022-09-03T20:34:17.090Z"
   },
   {
    "duration": 3,
    "start_time": "2022-09-03T20:34:17.098Z"
   },
   {
    "duration": 11,
    "start_time": "2022-09-03T20:34:17.104Z"
   },
   {
    "duration": 7,
    "start_time": "2022-09-03T20:34:17.117Z"
   },
   {
    "duration": 5,
    "start_time": "2022-09-03T20:34:17.126Z"
   },
   {
    "duration": 6,
    "start_time": "2022-09-03T20:34:17.133Z"
   },
   {
    "duration": 6,
    "start_time": "2022-09-03T20:34:17.140Z"
   },
   {
    "duration": 48,
    "start_time": "2022-09-03T20:34:17.148Z"
   },
   {
    "duration": 6,
    "start_time": "2022-09-03T20:34:17.198Z"
   },
   {
    "duration": 6,
    "start_time": "2022-09-03T20:34:17.206Z"
   },
   {
    "duration": 7,
    "start_time": "2022-09-03T20:34:17.213Z"
   },
   {
    "duration": 6,
    "start_time": "2022-09-03T20:34:17.221Z"
   },
   {
    "duration": 24,
    "start_time": "2022-09-03T20:34:17.229Z"
   },
   {
    "duration": 4,
    "start_time": "2022-09-03T20:34:17.255Z"
   },
   {
    "duration": 32,
    "start_time": "2022-09-03T20:34:17.261Z"
   },
   {
    "duration": 7,
    "start_time": "2022-09-03T20:34:17.295Z"
   },
   {
    "duration": 4,
    "start_time": "2022-09-03T20:34:17.304Z"
   },
   {
    "duration": 7,
    "start_time": "2022-09-03T20:34:17.309Z"
   },
   {
    "duration": 5,
    "start_time": "2022-09-03T20:34:17.317Z"
   },
   {
    "duration": 8,
    "start_time": "2022-09-03T20:34:17.324Z"
   },
   {
    "duration": 220,
    "start_time": "2022-09-03T20:34:17.334Z"
   },
   {
    "duration": 8,
    "start_time": "2022-09-03T20:34:17.556Z"
   },
   {
    "duration": 14,
    "start_time": "2022-09-03T20:34:17.566Z"
   },
   {
    "duration": 14,
    "start_time": "2022-09-03T20:34:17.588Z"
   },
   {
    "duration": 7,
    "start_time": "2022-09-03T20:34:17.604Z"
   },
   {
    "duration": 18,
    "start_time": "2022-09-03T20:34:17.613Z"
   },
   {
    "duration": 10,
    "start_time": "2022-09-03T20:34:17.633Z"
   },
   {
    "duration": 42,
    "start_time": "2022-09-03T20:34:17.645Z"
   },
   {
    "duration": 17,
    "start_time": "2022-09-03T20:34:17.689Z"
   },
   {
    "duration": 35,
    "start_time": "2022-09-03T20:34:17.711Z"
   },
   {
    "duration": 40,
    "start_time": "2022-09-03T20:34:17.748Z"
   },
   {
    "duration": 5,
    "start_time": "2022-09-03T20:34:17.789Z"
   },
   {
    "duration": 7,
    "start_time": "2022-09-03T20:34:17.795Z"
   },
   {
    "duration": 9,
    "start_time": "2022-09-03T20:34:17.803Z"
   },
   {
    "duration": 148,
    "start_time": "2022-09-03T20:34:17.813Z"
   },
   {
    "duration": 4,
    "start_time": "2022-09-03T20:34:17.962Z"
   },
   {
    "duration": 37,
    "start_time": "2022-09-03T20:34:17.967Z"
   },
   {
    "duration": 18,
    "start_time": "2022-09-03T20:34:18.006Z"
   },
   {
    "duration": 17,
    "start_time": "2022-09-03T20:34:18.026Z"
   },
   {
    "duration": 15,
    "start_time": "2022-09-03T20:34:18.045Z"
   },
   {
    "duration": 66,
    "start_time": "2022-09-03T20:34:18.062Z"
   },
   {
    "duration": 23,
    "start_time": "2022-09-03T20:34:18.130Z"
   },
   {
    "duration": 35,
    "start_time": "2022-09-03T20:34:18.155Z"
   },
   {
    "duration": 5,
    "start_time": "2022-09-03T20:34:18.192Z"
   },
   {
    "duration": 26,
    "start_time": "2022-09-03T20:34:18.199Z"
   },
   {
    "duration": 16,
    "start_time": "2022-09-03T20:34:18.227Z"
   },
   {
    "duration": 15,
    "start_time": "2022-09-03T20:34:18.245Z"
   },
   {
    "duration": 31,
    "start_time": "2022-09-03T20:34:18.262Z"
   },
   {
    "duration": 17,
    "start_time": "2022-09-03T20:34:18.295Z"
   },
   {
    "duration": 7,
    "start_time": "2022-09-03T20:34:18.314Z"
   },
   {
    "duration": 9,
    "start_time": "2022-09-03T20:34:18.323Z"
   },
   {
    "duration": 6,
    "start_time": "2022-09-03T20:34:18.333Z"
   },
   {
    "duration": 47,
    "start_time": "2022-09-03T20:34:18.340Z"
   },
   {
    "duration": 9,
    "start_time": "2022-09-03T20:34:18.389Z"
   },
   {
    "duration": 5,
    "start_time": "2022-09-03T20:34:18.399Z"
   },
   {
    "duration": 14,
    "start_time": "2022-09-03T20:34:18.406Z"
   },
   {
    "duration": 4,
    "start_time": "2022-09-03T20:34:18.421Z"
   },
   {
    "duration": 6,
    "start_time": "2022-09-03T20:34:18.427Z"
   },
   {
    "duration": 8,
    "start_time": "2022-09-03T20:34:18.435Z"
   },
   {
    "duration": 44,
    "start_time": "2022-09-03T20:34:18.445Z"
   },
   {
    "duration": 4,
    "start_time": "2022-09-03T20:34:18.490Z"
   },
   {
    "duration": 11,
    "start_time": "2022-09-03T20:34:18.495Z"
   },
   {
    "duration": 13,
    "start_time": "2022-09-03T20:34:18.508Z"
   },
   {
    "duration": 4,
    "start_time": "2022-09-03T20:34:18.522Z"
   },
   {
    "duration": 6,
    "start_time": "2022-09-03T20:34:18.528Z"
   },
   {
    "duration": 14,
    "start_time": "2022-09-03T20:34:18.536Z"
   },
   {
    "duration": 4,
    "start_time": "2022-09-03T20:34:18.551Z"
   },
   {
    "duration": 33,
    "start_time": "2022-09-03T20:34:18.557Z"
   },
   {
    "duration": 12,
    "start_time": "2022-09-03T20:34:18.591Z"
   },
   {
    "duration": 3,
    "start_time": "2022-09-03T20:34:18.605Z"
   },
   {
    "duration": 6,
    "start_time": "2022-09-03T20:34:18.610Z"
   },
   {
    "duration": 4,
    "start_time": "2022-09-03T20:34:18.617Z"
   },
   {
    "duration": 208,
    "start_time": "2022-09-03T20:34:18.623Z"
   },
   {
    "duration": 10,
    "start_time": "2022-09-03T20:34:18.833Z"
   },
   {
    "duration": 15,
    "start_time": "2022-09-03T20:34:18.845Z"
   },
   {
    "duration": 16,
    "start_time": "2022-09-03T20:34:18.862Z"
   },
   {
    "duration": 14,
    "start_time": "2022-09-03T20:34:18.880Z"
   },
   {
    "duration": 12,
    "start_time": "2022-09-03T20:34:18.896Z"
   },
   {
    "duration": 9,
    "start_time": "2022-09-03T20:34:18.910Z"
   },
   {
    "duration": 7,
    "start_time": "2022-09-03T20:37:10.150Z"
   },
   {
    "duration": 8,
    "start_time": "2022-09-03T20:38:22.450Z"
   },
   {
    "duration": 62,
    "start_time": "2022-09-03T20:38:51.538Z"
   },
   {
    "duration": 8,
    "start_time": "2022-09-03T20:39:01.649Z"
   },
   {
    "duration": 18,
    "start_time": "2022-09-03T20:42:53.290Z"
   },
   {
    "duration": 21,
    "start_time": "2022-09-03T20:43:08.670Z"
   },
   {
    "duration": 19,
    "start_time": "2022-09-03T20:43:11.650Z"
   },
   {
    "duration": 5,
    "start_time": "2022-09-03T20:53:00.811Z"
   },
   {
    "duration": 8,
    "start_time": "2022-09-03T20:58:09.250Z"
   },
   {
    "duration": 5,
    "start_time": "2022-09-03T22:02:15.726Z"
   },
   {
    "duration": 4,
    "start_time": "2022-09-03T22:02:33.739Z"
   },
   {
    "duration": 8,
    "start_time": "2022-09-03T22:03:15.669Z"
   },
   {
    "duration": 3,
    "start_time": "2022-09-03T22:10:54.198Z"
   },
   {
    "duration": 3,
    "start_time": "2022-09-03T22:11:42.378Z"
   },
   {
    "duration": 4,
    "start_time": "2022-09-03T22:11:42.878Z"
   },
   {
    "duration": 253,
    "start_time": "2022-09-03T22:13:01.285Z"
   },
   {
    "duration": 8,
    "start_time": "2022-09-03T22:13:25.657Z"
   },
   {
    "duration": 2,
    "start_time": "2022-09-03T22:19:08.598Z"
   },
   {
    "duration": 13,
    "start_time": "2022-09-03T22:20:48.998Z"
   },
   {
    "duration": 30,
    "start_time": "2022-09-03T22:23:35.857Z"
   },
   {
    "duration": 3,
    "start_time": "2022-09-03T22:28:20.757Z"
   },
   {
    "duration": 2,
    "start_time": "2022-09-03T22:28:22.078Z"
   },
   {
    "duration": 3,
    "start_time": "2022-09-03T22:28:24.597Z"
   },
   {
    "duration": 5,
    "start_time": "2022-09-03T22:29:48.357Z"
   },
   {
    "duration": 14,
    "start_time": "2022-09-03T22:30:28.617Z"
   },
   {
    "duration": 13,
    "start_time": "2022-09-03T22:32:04.146Z"
   },
   {
    "duration": 12,
    "start_time": "2022-09-03T22:33:38.378Z"
   },
   {
    "duration": 12,
    "start_time": "2022-09-03T22:34:11.877Z"
   },
   {
    "duration": 14,
    "start_time": "2022-09-03T22:35:55.697Z"
   },
   {
    "duration": 12,
    "start_time": "2022-09-03T22:36:34.321Z"
   },
   {
    "duration": 13,
    "start_time": "2022-09-03T22:40:37.024Z"
   },
   {
    "duration": 13,
    "start_time": "2022-09-03T22:41:03.918Z"
   },
   {
    "duration": 13,
    "start_time": "2022-09-03T22:41:47.176Z"
   },
   {
    "duration": 14,
    "start_time": "2022-09-03T22:42:09.032Z"
   },
   {
    "duration": 14,
    "start_time": "2022-09-03T22:43:27.726Z"
   },
   {
    "duration": 13,
    "start_time": "2022-09-03T22:43:36.837Z"
   },
   {
    "duration": 13,
    "start_time": "2022-09-03T22:44:07.945Z"
   },
   {
    "duration": 13,
    "start_time": "2022-09-03T22:44:35.609Z"
   },
   {
    "duration": 12,
    "start_time": "2022-09-03T22:44:44.397Z"
   },
   {
    "duration": 7,
    "start_time": "2022-09-03T22:57:25.455Z"
   },
   {
    "duration": 8,
    "start_time": "2022-09-03T22:57:45.516Z"
   },
   {
    "duration": 47,
    "start_time": "2022-09-03T22:57:54.936Z"
   },
   {
    "duration": 433,
    "start_time": "2022-09-03T22:58:10.285Z"
   },
   {
    "duration": 62,
    "start_time": "2022-09-03T22:58:10.720Z"
   },
   {
    "duration": 17,
    "start_time": "2022-09-03T22:58:10.783Z"
   },
   {
    "duration": 19,
    "start_time": "2022-09-03T22:58:10.802Z"
   },
   {
    "duration": 35,
    "start_time": "2022-09-03T22:58:10.823Z"
   },
   {
    "duration": 45,
    "start_time": "2022-09-03T22:58:10.859Z"
   },
   {
    "duration": 9,
    "start_time": "2022-09-03T22:58:10.906Z"
   },
   {
    "duration": 12,
    "start_time": "2022-09-03T22:58:10.917Z"
   },
   {
    "duration": 20,
    "start_time": "2022-09-03T22:58:10.931Z"
   },
   {
    "duration": 36,
    "start_time": "2022-09-03T22:58:10.955Z"
   },
   {
    "duration": 8,
    "start_time": "2022-09-03T22:58:10.993Z"
   },
   {
    "duration": 8,
    "start_time": "2022-09-03T22:58:11.002Z"
   },
   {
    "duration": 2,
    "start_time": "2022-09-03T22:58:11.012Z"
   },
   {
    "duration": 12,
    "start_time": "2022-09-03T22:58:11.016Z"
   },
   {
    "duration": 5,
    "start_time": "2022-09-03T22:58:11.030Z"
   },
   {
    "duration": 5,
    "start_time": "2022-09-03T22:58:11.037Z"
   },
   {
    "duration": 5,
    "start_time": "2022-09-03T22:58:11.043Z"
   },
   {
    "duration": 38,
    "start_time": "2022-09-03T22:58:11.050Z"
   },
   {
    "duration": 10,
    "start_time": "2022-09-03T22:58:11.090Z"
   },
   {
    "duration": 6,
    "start_time": "2022-09-03T22:58:11.101Z"
   },
   {
    "duration": 7,
    "start_time": "2022-09-03T22:58:11.108Z"
   },
   {
    "duration": 12,
    "start_time": "2022-09-03T22:58:11.116Z"
   },
   {
    "duration": 6,
    "start_time": "2022-09-03T22:58:11.129Z"
   },
   {
    "duration": 22,
    "start_time": "2022-09-03T22:58:11.136Z"
   },
   {
    "duration": 31,
    "start_time": "2022-09-03T22:58:11.159Z"
   },
   {
    "duration": 12,
    "start_time": "2022-09-03T22:58:11.192Z"
   },
   {
    "duration": 8,
    "start_time": "2022-09-03T22:58:11.206Z"
   },
   {
    "duration": 4,
    "start_time": "2022-09-03T22:58:11.218Z"
   },
   {
    "duration": 7,
    "start_time": "2022-09-03T22:58:11.224Z"
   },
   {
    "duration": 9,
    "start_time": "2022-09-03T22:58:11.232Z"
   },
   {
    "duration": 45,
    "start_time": "2022-09-03T22:58:11.242Z"
   },
   {
    "duration": 3,
    "start_time": "2022-09-03T22:58:11.289Z"
   },
   {
    "duration": 201,
    "start_time": "2022-09-03T22:58:11.293Z"
   },
   {
    "duration": 7,
    "start_time": "2022-09-03T22:58:11.496Z"
   },
   {
    "duration": 6,
    "start_time": "2022-09-03T22:58:11.505Z"
   },
   {
    "duration": 17,
    "start_time": "2022-09-03T22:58:11.513Z"
   },
   {
    "duration": 7,
    "start_time": "2022-09-03T22:58:11.532Z"
   },
   {
    "duration": 18,
    "start_time": "2022-09-03T22:58:11.540Z"
   },
   {
    "duration": 6,
    "start_time": "2022-09-03T22:58:11.587Z"
   },
   {
    "duration": 25,
    "start_time": "2022-09-03T22:58:11.595Z"
   },
   {
    "duration": 17,
    "start_time": "2022-09-03T22:58:11.622Z"
   },
   {
    "duration": 19,
    "start_time": "2022-09-03T22:58:11.640Z"
   },
   {
    "duration": 35,
    "start_time": "2022-09-03T22:58:11.660Z"
   },
   {
    "duration": 4,
    "start_time": "2022-09-03T22:58:11.696Z"
   },
   {
    "duration": 7,
    "start_time": "2022-09-03T22:58:11.702Z"
   },
   {
    "duration": 8,
    "start_time": "2022-09-03T22:58:11.710Z"
   },
   {
    "duration": 156,
    "start_time": "2022-09-03T22:58:11.720Z"
   },
   {
    "duration": 9,
    "start_time": "2022-09-03T22:58:11.878Z"
   },
   {
    "duration": 25,
    "start_time": "2022-09-03T22:58:11.888Z"
   },
   {
    "duration": 17,
    "start_time": "2022-09-03T22:58:11.914Z"
   },
   {
    "duration": 17,
    "start_time": "2022-09-03T22:58:11.933Z"
   },
   {
    "duration": 39,
    "start_time": "2022-09-03T22:58:11.951Z"
   },
   {
    "duration": 28,
    "start_time": "2022-09-03T22:58:11.992Z"
   },
   {
    "duration": 21,
    "start_time": "2022-09-03T22:58:12.023Z"
   },
   {
    "duration": 9,
    "start_time": "2022-09-03T22:58:12.046Z"
   },
   {
    "duration": 33,
    "start_time": "2022-09-03T22:58:12.057Z"
   },
   {
    "duration": 16,
    "start_time": "2022-09-03T22:58:12.092Z"
   },
   {
    "duration": 14,
    "start_time": "2022-09-03T22:58:12.110Z"
   },
   {
    "duration": 14,
    "start_time": "2022-09-03T22:58:12.125Z"
   },
   {
    "duration": 7,
    "start_time": "2022-09-03T22:58:12.140Z"
   },
   {
    "duration": 50,
    "start_time": "2022-09-03T22:58:12.149Z"
   },
   {
    "duration": 19,
    "start_time": "2022-09-03T22:58:12.201Z"
   },
   {
    "duration": 5,
    "start_time": "2022-09-03T22:58:12.221Z"
   },
   {
    "duration": 6,
    "start_time": "2022-09-03T22:58:12.227Z"
   },
   {
    "duration": 16,
    "start_time": "2022-09-03T22:58:12.234Z"
   },
   {
    "duration": 8,
    "start_time": "2022-09-03T22:58:12.251Z"
   },
   {
    "duration": 28,
    "start_time": "2022-09-03T22:58:12.260Z"
   },
   {
    "duration": 7,
    "start_time": "2022-09-03T22:58:12.290Z"
   },
   {
    "duration": 294,
    "start_time": "2022-09-03T22:58:12.298Z"
   },
   {
    "duration": 10,
    "start_time": "2022-09-03T22:58:12.594Z"
   },
   {
    "duration": 5,
    "start_time": "2022-09-03T22:58:12.606Z"
   },
   {
    "duration": 200,
    "start_time": "2022-09-03T22:58:12.613Z"
   },
   {
    "duration": 9,
    "start_time": "2022-09-03T22:58:12.815Z"
   },
   {
    "duration": 75,
    "start_time": "2022-09-03T22:58:12.827Z"
   },
   {
    "duration": 2,
    "start_time": "2022-09-03T22:58:12.904Z"
   },
   {
    "duration": 20,
    "start_time": "2022-09-03T22:58:12.908Z"
   },
   {
    "duration": 8,
    "start_time": "2022-09-03T22:58:12.929Z"
   },
   {
    "duration": 60,
    "start_time": "2022-09-03T23:02:31.745Z"
   },
   {
    "duration": 17,
    "start_time": "2022-09-03T23:02:37.045Z"
   },
   {
    "duration": 18,
    "start_time": "2022-09-03T23:05:04.305Z"
   },
   {
    "duration": 13,
    "start_time": "2022-09-03T23:08:31.846Z"
   },
   {
    "duration": 8,
    "start_time": "2022-09-03T23:08:41.746Z"
   },
   {
    "duration": 12,
    "start_time": "2022-09-03T23:17:51.985Z"
   },
   {
    "duration": 14,
    "start_time": "2022-09-03T23:18:00.285Z"
   },
   {
    "duration": 9,
    "start_time": "2022-09-03T23:18:03.425Z"
   },
   {
    "duration": 11,
    "start_time": "2022-09-03T23:21:42.785Z"
   },
   {
    "duration": 14,
    "start_time": "2022-09-03T23:23:52.625Z"
   },
   {
    "duration": 8,
    "start_time": "2022-09-03T23:23:53.952Z"
   },
   {
    "duration": 14,
    "start_time": "2022-09-03T23:26:10.725Z"
   },
   {
    "duration": 8,
    "start_time": "2022-09-03T23:26:11.185Z"
   },
   {
    "duration": 14,
    "start_time": "2022-09-03T23:29:19.465Z"
   },
   {
    "duration": 12,
    "start_time": "2022-09-03T23:29:20.825Z"
   },
   {
    "duration": 17,
    "start_time": "2022-09-03T23:30:12.452Z"
   },
   {
    "duration": 8,
    "start_time": "2022-09-03T23:30:20.505Z"
   },
   {
    "duration": 64,
    "start_time": "2022-09-03T23:56:40.707Z"
   },
   {
    "duration": 15,
    "start_time": "2022-09-03T23:56:46.168Z"
   },
   {
    "duration": 8,
    "start_time": "2022-09-03T23:56:46.707Z"
   },
   {
    "duration": 14,
    "start_time": "2022-09-03T23:56:47.457Z"
   },
   {
    "duration": 10,
    "start_time": "2022-09-03T23:56:48.357Z"
   },
   {
    "duration": 385,
    "start_time": "2022-09-04T00:28:06.990Z"
   },
   {
    "duration": 175,
    "start_time": "2022-09-04T00:28:07.377Z"
   },
   {
    "duration": 16,
    "start_time": "2022-09-04T00:28:07.554Z"
   },
   {
    "duration": 26,
    "start_time": "2022-09-04T00:28:07.572Z"
   },
   {
    "duration": 28,
    "start_time": "2022-09-04T00:28:07.601Z"
   },
   {
    "duration": 28,
    "start_time": "2022-09-04T00:28:07.630Z"
   },
   {
    "duration": 12,
    "start_time": "2022-09-04T00:28:07.659Z"
   },
   {
    "duration": 11,
    "start_time": "2022-09-04T00:28:07.673Z"
   },
   {
    "duration": 21,
    "start_time": "2022-09-04T00:28:07.685Z"
   },
   {
    "duration": 6,
    "start_time": "2022-09-04T00:28:07.708Z"
   },
   {
    "duration": 14,
    "start_time": "2022-09-04T00:28:07.740Z"
   },
   {
    "duration": 8,
    "start_time": "2022-09-04T00:28:07.756Z"
   },
   {
    "duration": 8,
    "start_time": "2022-09-04T00:28:07.766Z"
   },
   {
    "duration": 4,
    "start_time": "2022-09-04T00:28:07.777Z"
   },
   {
    "duration": 4,
    "start_time": "2022-09-04T00:28:07.783Z"
   },
   {
    "duration": 5,
    "start_time": "2022-09-04T00:28:07.788Z"
   },
   {
    "duration": 5,
    "start_time": "2022-09-04T00:28:07.794Z"
   },
   {
    "duration": 11,
    "start_time": "2022-09-04T00:28:07.800Z"
   },
   {
    "duration": 26,
    "start_time": "2022-09-04T00:28:07.813Z"
   },
   {
    "duration": 21,
    "start_time": "2022-09-04T00:28:07.842Z"
   },
   {
    "duration": 6,
    "start_time": "2022-09-04T00:28:07.864Z"
   },
   {
    "duration": 4,
    "start_time": "2022-09-04T00:28:07.871Z"
   },
   {
    "duration": 18,
    "start_time": "2022-09-04T00:28:07.876Z"
   },
   {
    "duration": 4,
    "start_time": "2022-09-04T00:28:07.896Z"
   },
   {
    "duration": 9,
    "start_time": "2022-09-04T00:28:07.901Z"
   },
   {
    "duration": 7,
    "start_time": "2022-09-04T00:28:07.911Z"
   },
   {
    "duration": 11,
    "start_time": "2022-09-04T00:28:07.940Z"
   },
   {
    "duration": 10,
    "start_time": "2022-09-04T00:28:07.953Z"
   },
   {
    "duration": 8,
    "start_time": "2022-09-04T00:28:07.964Z"
   },
   {
    "duration": 7,
    "start_time": "2022-09-04T00:28:07.973Z"
   },
   {
    "duration": 2,
    "start_time": "2022-09-04T00:28:07.982Z"
   },
   {
    "duration": 193,
    "start_time": "2022-09-04T00:28:07.986Z"
   },
   {
    "duration": 6,
    "start_time": "2022-09-04T00:28:08.180Z"
   },
   {
    "duration": 9,
    "start_time": "2022-09-04T00:28:08.188Z"
   },
   {
    "duration": 53,
    "start_time": "2022-09-04T00:28:08.198Z"
   },
   {
    "duration": 13,
    "start_time": "2022-09-04T00:28:08.252Z"
   },
   {
    "duration": 14,
    "start_time": "2022-09-04T00:28:08.266Z"
   },
   {
    "duration": 6,
    "start_time": "2022-09-04T00:28:08.282Z"
   },
   {
    "duration": 18,
    "start_time": "2022-09-04T00:28:08.289Z"
   },
   {
    "duration": 15,
    "start_time": "2022-09-04T00:28:08.308Z"
   },
   {
    "duration": 24,
    "start_time": "2022-09-04T00:28:08.341Z"
   },
   {
    "duration": 15,
    "start_time": "2022-09-04T00:28:08.366Z"
   },
   {
    "duration": 3,
    "start_time": "2022-09-04T00:28:08.382Z"
   },
   {
    "duration": 5,
    "start_time": "2022-09-04T00:28:08.387Z"
   },
   {
    "duration": 9,
    "start_time": "2022-09-04T00:28:08.394Z"
   },
   {
    "duration": 154,
    "start_time": "2022-09-04T00:28:08.405Z"
   },
   {
    "duration": 4,
    "start_time": "2022-09-04T00:28:08.561Z"
   },
   {
    "duration": 24,
    "start_time": "2022-09-04T00:28:08.567Z"
   },
   {
    "duration": 15,
    "start_time": "2022-09-04T00:28:08.592Z"
   },
   {
    "duration": 44,
    "start_time": "2022-09-04T00:28:08.608Z"
   },
   {
    "duration": 14,
    "start_time": "2022-09-04T00:28:08.654Z"
   },
   {
    "duration": 25,
    "start_time": "2022-09-04T00:28:08.670Z"
   },
   {
    "duration": 18,
    "start_time": "2022-09-04T00:28:08.697Z"
   },
   {
    "duration": 22,
    "start_time": "2022-09-04T00:28:08.717Z"
   },
   {
    "duration": 15,
    "start_time": "2022-09-04T00:28:08.740Z"
   },
   {
    "duration": 15,
    "start_time": "2022-09-04T00:28:08.756Z"
   },
   {
    "duration": 13,
    "start_time": "2022-09-04T00:28:08.773Z"
   },
   {
    "duration": 13,
    "start_time": "2022-09-04T00:28:08.787Z"
   },
   {
    "duration": 7,
    "start_time": "2022-09-04T00:28:08.801Z"
   },
   {
    "duration": 40,
    "start_time": "2022-09-04T00:28:08.809Z"
   },
   {
    "duration": 23,
    "start_time": "2022-09-04T00:28:08.851Z"
   },
   {
    "duration": 7,
    "start_time": "2022-09-04T00:28:08.875Z"
   },
   {
    "duration": 10,
    "start_time": "2022-09-04T00:28:08.883Z"
   },
   {
    "duration": 17,
    "start_time": "2022-09-04T00:28:08.894Z"
   },
   {
    "duration": 7,
    "start_time": "2022-09-04T00:28:08.913Z"
   },
   {
    "duration": 7,
    "start_time": "2022-09-04T00:28:08.922Z"
   },
   {
    "duration": 12,
    "start_time": "2022-09-04T00:28:08.939Z"
   },
   {
    "duration": 298,
    "start_time": "2022-09-04T00:28:08.958Z"
   },
   {
    "duration": 6,
    "start_time": "2022-09-04T00:28:09.258Z"
   },
   {
    "duration": 5,
    "start_time": "2022-09-04T00:28:09.266Z"
   },
   {
    "duration": 194,
    "start_time": "2022-09-04T00:28:09.272Z"
   },
   {
    "duration": 6,
    "start_time": "2022-09-04T00:28:09.467Z"
   },
   {
    "duration": 18,
    "start_time": "2022-09-04T00:28:09.475Z"
   },
   {
    "duration": 8,
    "start_time": "2022-09-04T00:28:09.494Z"
   },
   {
    "duration": 13,
    "start_time": "2022-09-04T00:28:09.504Z"
   },
   {
    "duration": 35,
    "start_time": "2022-09-04T00:28:09.518Z"
   },
   {
    "duration": 14,
    "start_time": "2022-09-04T00:28:09.555Z"
   },
   {
    "duration": 7,
    "start_time": "2022-09-04T00:28:09.570Z"
   },
   {
    "duration": 13,
    "start_time": "2022-09-04T00:28:09.579Z"
   },
   {
    "duration": 11,
    "start_time": "2022-09-04T00:28:09.594Z"
   },
   {
    "duration": 16,
    "start_time": "2022-09-04T00:28:09.606Z"
   },
   {
    "duration": 17,
    "start_time": "2022-09-04T00:28:09.623Z"
   },
   {
    "duration": 48,
    "start_time": "2022-09-04T00:40:13.671Z"
   }
  ],
  "colab": {
   "collapsed_sections": [],
   "name": "Proj_2.ipynb",
   "provenance": []
  },
  "kernelspec": {
   "display_name": "Python 3 (ipykernel)",
   "language": "python",
   "name": "python3"
  },
  "language_info": {
   "codemirror_mode": {
    "name": "ipython",
    "version": 3
   },
   "file_extension": ".py",
   "mimetype": "text/x-python",
   "name": "python",
   "nbconvert_exporter": "python",
   "pygments_lexer": "ipython3",
   "version": "3.9.5"
  },
  "toc": {
   "base_numbering": 1,
   "nav_menu": {},
   "number_sections": true,
   "sideBar": true,
   "skip_h1_title": true,
   "title_cell": "Table of Contents",
   "title_sidebar": "Contents",
   "toc_cell": false,
   "toc_position": {},
   "toc_section_display": true,
   "toc_window_display": false
  }
 },
 "nbformat": 4,
 "nbformat_minor": 1
}
