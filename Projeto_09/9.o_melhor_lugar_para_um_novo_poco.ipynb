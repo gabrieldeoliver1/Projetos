{
 "cells": [
  {
   "cell_type": "markdown",
   "metadata": {},
   "source": [
    "# O melhor lugar para um novo poço."
   ]
  },
  {
   "cell_type": "markdown",
   "metadata": {},
   "source": [
    "# Contents <a id='back'></a>\n",
    "\n",
    "* [Introdução](#intro)\n",
    "* [Etapa 1. Visão geral dos dados](#data_review)\n",
    "* [Etapa 2. Transformações dos dados](#tranforamation_data)\n",
    "* [Etapa 3. Modelo](#model)\n",
    "* [Conclusões](#end)"
   ]
  },
  {
   "cell_type": "markdown",
   "metadata": {},
   "source": [
    "Você trabalha na empresa de mineração OilyGiant. Sua tarefa é encontrar os melhores lugares para o desenvolvimento de novos poços de petróleo.\n",
    "\n",
    "Para concluir essa tarefa, você vai precisar executar as seguintes etapas:\n",
    "\n",
    "- Ler os arquivos com parâmetros coletados de poços de petróleo na região selecionada: a quantidade de petróleo e o volume de reservas;\n",
    "- Construir um modelo para predizer o volume de reservas em novos poços;\n",
    "- Escolher os poços de petróleo que têm os maiores valores estimados;\n",
    "- Escolher a região com o maior lucro total para os poços de petróleo selecionados.\n",
    "- Você tem dados sobre amostras de petróleo de três regiões. Os parâmetros de cada poço de petróleo na região já são conhecidos. Construa um modelo que te ajudará a escolher a região com a margem de lucro mais alta. Utilize a técnica de Bootstrapping para analisar lucro potencial e riscos.\n",
    "\n",
    "\n",
    "### Objetivo: \n",
    "- Como você preparou os dados para o treinamento (ou seja, você escalou as características?)\n",
    "- Você seguiu todas as etapas das instruções?\n",
    "- Você levou em consideração todas as condições comerciais?\n",
    "- Quais são suas conclusões sobre o estudo da tarefa?\n",
    "- Você aplicou a técnica de Bootstrapping corretamente?\n",
    "- Você sugeriu a melhor região para o desenvolvimento de poços? Justificou sua escolha?\n",
    "- Você evitou a duplicação de código? Ou seja, você conseguiu usar funções para treinar modelos e fazer predições nos arquivos 'geo_data_1.csv' e 'geo_data_2.csv' ?\n",
    "- Você manteve a estrutura do projeto e manteve o código limpo?\n",
    "\n",
    "\n",
    "\n",
    "\n",
    "### Descrição de dados\n",
    "\n",
    "- `Abra e examine o arquivo de dados. Caminho para o arquivo:`\n",
    "geo_data_0.csv, geo_data_1.csv, geo_data_2.csv. Baixar o conjunto de dados\n",
    "\n",
    "[Voltar ao Índice](#back)"
   ]
  },
  {
   "cell_type": "markdown",
   "metadata": {},
   "source": [
    "## Etapa 1. Visão geral dos dados <a id='data_review'></a>\n",
    "\n",
    "Carregue os dados das consultas, explore-os e carregue bibliotecas que você acredita que são necessárias para o projeto."
   ]
  },
  {
   "cell_type": "code",
   "execution_count": 1,
   "metadata": {},
   "outputs": [],
   "source": [
    "# Importação das bibliotecas necessárias\n",
    "import numpy as np                   # Para operações numéricas\n",
    "import pandas as pd                  # Para manipulação de dados\n",
    "import matplotlib.pyplot as plt       # Para visualização de dados\n",
    "import seaborn as sns                # Para visualizações estatísticas\n",
    "from scipy import stats as st        # Para estatísticas e testes\n",
    "from scipy.stats import bootstrap     # Para o método de bootstrap\n",
    "from sklearn.utils import resample    # Para reamostragem de dados\n",
    "from sklearn.metrics import accuracy_score  # Para cálculo de acurácia\n",
    "from sklearn.metrics import mean_squared_error  # Para cálculo do erro quadrático médio\n",
    "\n",
    "# Comentários sobre cada biblioteca:\n",
    "# - pandas: Utilizada para manipulação e análise de dados, especialmente com DataFrames.\n",
    "# - numpy: Biblioteca fundamental para computação científica com suporte a arrays e funções matemáticas.\n",
    "# - matplotlib.pyplot: Usada para criar gráficos e visualizações de dados.\n",
    "# - seaborn: Extensão do matplotlib que oferece uma interface mais amigável para visualizações estatísticas.\n",
    "# - scipy: Biblioteca que fornece funções e algoritmos para matemática, ciência e engenharia.\n",
    "# - sklearn: Biblioteca para aprendizado de máquina que fornece ferramentas para modelagem e avaliação de modelos.\n"
   ]
  },
  {
   "cell_type": "markdown",
   "metadata": {},
   "source": [
    "## Carregue os Dados"
   ]
  },
  {
   "cell_type": "code",
   "execution_count": 2,
   "metadata": {},
   "outputs": [],
   "source": [
    "# Carregue o arquivo com os dados em um DataFrame\n",
    "df_geo_0 = pd.read_csv('C:/Users/gabri/Downloads/Corrigido/Projeto 9/geo_data_0.csv')\n",
    "df_geo_1 = pd.read_csv('C:/Users/gabri/Downloads/Corrigido/Projeto 9/geo_data_1.csv')\n",
    "df_geo_2 = pd.read_csv('C:/Users/gabri/Downloads/Corrigido/Projeto 9/geo_data_2.csv')"
   ]
  },
  {
   "cell_type": "markdown",
   "metadata": {},
   "source": [
    "<div class=\"alert alert-block alert-success\">\n",
    "<b> Comentário do revisor: </b> <a class=\"tocSkip\"></a>\n",
    "\n",
    "Correto\n",
    "</div>"
   ]
  },
  {
   "cell_type": "code",
   "execution_count": 3,
   "metadata": {},
   "outputs": [
    {
     "name": "stdout",
     "output_type": "stream",
     "text": [
      "<class 'pandas.core.frame.DataFrame'>\n",
      "RangeIndex: 100000 entries, 0 to 99999\n",
      "Data columns (total 5 columns):\n",
      " #   Column   Non-Null Count   Dtype  \n",
      "---  ------   --------------   -----  \n",
      " 0   id       100000 non-null  object \n",
      " 1   f0       100000 non-null  float64\n",
      " 2   f1       100000 non-null  float64\n",
      " 3   f2       100000 non-null  float64\n",
      " 4   product  100000 non-null  float64\n",
      "dtypes: float64(4), object(1)\n",
      "memory usage: 3.8+ MB\n"
     ]
    }
   ],
   "source": [
    "# Vamos ver quantas linhas e colunas nosso conjunto de dados tem\n",
    "df_geo_0.info()"
   ]
  },
  {
   "cell_type": "code",
   "execution_count": 4,
   "metadata": {},
   "outputs": [
    {
     "name": "stdout",
     "output_type": "stream",
     "text": [
      "<class 'pandas.core.frame.DataFrame'>\n",
      "RangeIndex: 100000 entries, 0 to 99999\n",
      "Data columns (total 5 columns):\n",
      " #   Column   Non-Null Count   Dtype  \n",
      "---  ------   --------------   -----  \n",
      " 0   id       100000 non-null  object \n",
      " 1   f0       100000 non-null  float64\n",
      " 2   f1       100000 non-null  float64\n",
      " 3   f2       100000 non-null  float64\n",
      " 4   product  100000 non-null  float64\n",
      "dtypes: float64(4), object(1)\n",
      "memory usage: 3.8+ MB\n"
     ]
    }
   ],
   "source": [
    "# Vamos ver quantas linhas e colunas nosso conjunto de dados tem\n",
    "df_geo_1.info()"
   ]
  },
  {
   "cell_type": "code",
   "execution_count": 5,
   "metadata": {},
   "outputs": [
    {
     "name": "stdout",
     "output_type": "stream",
     "text": [
      "<class 'pandas.core.frame.DataFrame'>\n",
      "RangeIndex: 100000 entries, 0 to 99999\n",
      "Data columns (total 5 columns):\n",
      " #   Column   Non-Null Count   Dtype  \n",
      "---  ------   --------------   -----  \n",
      " 0   id       100000 non-null  object \n",
      " 1   f0       100000 non-null  float64\n",
      " 2   f1       100000 non-null  float64\n",
      " 3   f2       100000 non-null  float64\n",
      " 4   product  100000 non-null  float64\n",
      "dtypes: float64(4), object(1)\n",
      "memory usage: 3.8+ MB\n"
     ]
    }
   ],
   "source": [
    "# Vamos ver quantas linhas e colunas nosso conjunto de dados tem\n",
    "df_geo_2.info()"
   ]
  },
  {
   "cell_type": "code",
   "execution_count": 6,
   "metadata": {},
   "outputs": [
    {
     "data": {
      "text/html": [
       "<div>\n",
       "<style scoped>\n",
       "    .dataframe tbody tr th:only-of-type {\n",
       "        vertical-align: middle;\n",
       "    }\n",
       "\n",
       "    .dataframe tbody tr th {\n",
       "        vertical-align: top;\n",
       "    }\n",
       "\n",
       "    .dataframe thead th {\n",
       "        text-align: right;\n",
       "    }\n",
       "</style>\n",
       "<table border=\"1\" class=\"dataframe\">\n",
       "  <thead>\n",
       "    <tr style=\"text-align: right;\">\n",
       "      <th></th>\n",
       "      <th>id</th>\n",
       "      <th>f0</th>\n",
       "      <th>f1</th>\n",
       "      <th>f2</th>\n",
       "      <th>product</th>\n",
       "    </tr>\n",
       "  </thead>\n",
       "  <tbody>\n",
       "    <tr>\n",
       "      <th>0</th>\n",
       "      <td>txEyH</td>\n",
       "      <td>0.705745</td>\n",
       "      <td>-0.497823</td>\n",
       "      <td>1.221170</td>\n",
       "      <td>105.280062</td>\n",
       "    </tr>\n",
       "    <tr>\n",
       "      <th>1</th>\n",
       "      <td>2acmU</td>\n",
       "      <td>1.334711</td>\n",
       "      <td>-0.340164</td>\n",
       "      <td>4.365080</td>\n",
       "      <td>73.037750</td>\n",
       "    </tr>\n",
       "    <tr>\n",
       "      <th>2</th>\n",
       "      <td>409Wp</td>\n",
       "      <td>1.022732</td>\n",
       "      <td>0.151990</td>\n",
       "      <td>1.419926</td>\n",
       "      <td>85.265647</td>\n",
       "    </tr>\n",
       "    <tr>\n",
       "      <th>3</th>\n",
       "      <td>iJLyR</td>\n",
       "      <td>-0.032172</td>\n",
       "      <td>0.139033</td>\n",
       "      <td>2.978566</td>\n",
       "      <td>168.620776</td>\n",
       "    </tr>\n",
       "    <tr>\n",
       "      <th>4</th>\n",
       "      <td>Xdl7t</td>\n",
       "      <td>1.988431</td>\n",
       "      <td>0.155413</td>\n",
       "      <td>4.751769</td>\n",
       "      <td>154.036647</td>\n",
       "    </tr>\n",
       "    <tr>\n",
       "      <th>5</th>\n",
       "      <td>wX4Hy</td>\n",
       "      <td>0.969570</td>\n",
       "      <td>0.489775</td>\n",
       "      <td>-0.735383</td>\n",
       "      <td>64.741541</td>\n",
       "    </tr>\n",
       "    <tr>\n",
       "      <th>6</th>\n",
       "      <td>tL6pL</td>\n",
       "      <td>0.645075</td>\n",
       "      <td>0.530656</td>\n",
       "      <td>1.780266</td>\n",
       "      <td>49.055285</td>\n",
       "    </tr>\n",
       "    <tr>\n",
       "      <th>7</th>\n",
       "      <td>BYPU6</td>\n",
       "      <td>-0.400648</td>\n",
       "      <td>0.808337</td>\n",
       "      <td>-5.624670</td>\n",
       "      <td>72.943292</td>\n",
       "    </tr>\n",
       "    <tr>\n",
       "      <th>8</th>\n",
       "      <td>j9Oui</td>\n",
       "      <td>0.643105</td>\n",
       "      <td>-0.551583</td>\n",
       "      <td>2.372141</td>\n",
       "      <td>113.356160</td>\n",
       "    </tr>\n",
       "    <tr>\n",
       "      <th>9</th>\n",
       "      <td>OLuZU</td>\n",
       "      <td>2.173381</td>\n",
       "      <td>0.563698</td>\n",
       "      <td>9.441852</td>\n",
       "      <td>127.910945</td>\n",
       "    </tr>\n",
       "  </tbody>\n",
       "</table>\n",
       "</div>"
      ],
      "text/plain": [
       "      id        f0        f1        f2     product\n",
       "0  txEyH  0.705745 -0.497823  1.221170  105.280062\n",
       "1  2acmU  1.334711 -0.340164  4.365080   73.037750\n",
       "2  409Wp  1.022732  0.151990  1.419926   85.265647\n",
       "3  iJLyR -0.032172  0.139033  2.978566  168.620776\n",
       "4  Xdl7t  1.988431  0.155413  4.751769  154.036647\n",
       "5  wX4Hy  0.969570  0.489775 -0.735383   64.741541\n",
       "6  tL6pL  0.645075  0.530656  1.780266   49.055285\n",
       "7  BYPU6 -0.400648  0.808337 -5.624670   72.943292\n",
       "8  j9Oui  0.643105 -0.551583  2.372141  113.356160\n",
       "9  OLuZU  2.173381  0.563698  9.441852  127.910945"
      ]
     },
     "execution_count": 6,
     "metadata": {},
     "output_type": "execute_result"
    }
   ],
   "source": [
    "# vamos exibir as primeiras 10 linhas\n",
    "df_geo_0.head(10)"
   ]
  },
  {
   "cell_type": "code",
   "execution_count": 7,
   "metadata": {},
   "outputs": [
    {
     "data": {
      "text/html": [
       "<div>\n",
       "<style scoped>\n",
       "    .dataframe tbody tr th:only-of-type {\n",
       "        vertical-align: middle;\n",
       "    }\n",
       "\n",
       "    .dataframe tbody tr th {\n",
       "        vertical-align: top;\n",
       "    }\n",
       "\n",
       "    .dataframe thead th {\n",
       "        text-align: right;\n",
       "    }\n",
       "</style>\n",
       "<table border=\"1\" class=\"dataframe\">\n",
       "  <thead>\n",
       "    <tr style=\"text-align: right;\">\n",
       "      <th></th>\n",
       "      <th>id</th>\n",
       "      <th>f0</th>\n",
       "      <th>f1</th>\n",
       "      <th>f2</th>\n",
       "      <th>product</th>\n",
       "    </tr>\n",
       "  </thead>\n",
       "  <tbody>\n",
       "    <tr>\n",
       "      <th>0</th>\n",
       "      <td>kBEdx</td>\n",
       "      <td>-15.001348</td>\n",
       "      <td>-8.276000</td>\n",
       "      <td>-0.005876</td>\n",
       "      <td>3.179103</td>\n",
       "    </tr>\n",
       "    <tr>\n",
       "      <th>1</th>\n",
       "      <td>62mP7</td>\n",
       "      <td>14.272088</td>\n",
       "      <td>-3.475083</td>\n",
       "      <td>0.999183</td>\n",
       "      <td>26.953261</td>\n",
       "    </tr>\n",
       "    <tr>\n",
       "      <th>2</th>\n",
       "      <td>vyE1P</td>\n",
       "      <td>6.263187</td>\n",
       "      <td>-5.948386</td>\n",
       "      <td>5.001160</td>\n",
       "      <td>134.766305</td>\n",
       "    </tr>\n",
       "    <tr>\n",
       "      <th>3</th>\n",
       "      <td>KcrkZ</td>\n",
       "      <td>-13.081196</td>\n",
       "      <td>-11.506057</td>\n",
       "      <td>4.999415</td>\n",
       "      <td>137.945408</td>\n",
       "    </tr>\n",
       "    <tr>\n",
       "      <th>4</th>\n",
       "      <td>AHL4O</td>\n",
       "      <td>12.702195</td>\n",
       "      <td>-8.147433</td>\n",
       "      <td>5.004363</td>\n",
       "      <td>134.766305</td>\n",
       "    </tr>\n",
       "    <tr>\n",
       "      <th>5</th>\n",
       "      <td>HHckp</td>\n",
       "      <td>-3.327590</td>\n",
       "      <td>-2.205276</td>\n",
       "      <td>3.003647</td>\n",
       "      <td>84.038886</td>\n",
       "    </tr>\n",
       "    <tr>\n",
       "      <th>6</th>\n",
       "      <td>h5Ujo</td>\n",
       "      <td>-11.142655</td>\n",
       "      <td>-10.133399</td>\n",
       "      <td>4.002382</td>\n",
       "      <td>110.992147</td>\n",
       "    </tr>\n",
       "    <tr>\n",
       "      <th>7</th>\n",
       "      <td>muH9x</td>\n",
       "      <td>4.234715</td>\n",
       "      <td>-0.001354</td>\n",
       "      <td>2.004588</td>\n",
       "      <td>53.906522</td>\n",
       "    </tr>\n",
       "    <tr>\n",
       "      <th>8</th>\n",
       "      <td>YiRkx</td>\n",
       "      <td>13.355129</td>\n",
       "      <td>-0.332068</td>\n",
       "      <td>4.998647</td>\n",
       "      <td>134.766305</td>\n",
       "    </tr>\n",
       "    <tr>\n",
       "      <th>9</th>\n",
       "      <td>jG6Gi</td>\n",
       "      <td>1.069227</td>\n",
       "      <td>-11.025667</td>\n",
       "      <td>4.997844</td>\n",
       "      <td>137.945408</td>\n",
       "    </tr>\n",
       "  </tbody>\n",
       "</table>\n",
       "</div>"
      ],
      "text/plain": [
       "      id         f0         f1        f2     product\n",
       "0  kBEdx -15.001348  -8.276000 -0.005876    3.179103\n",
       "1  62mP7  14.272088  -3.475083  0.999183   26.953261\n",
       "2  vyE1P   6.263187  -5.948386  5.001160  134.766305\n",
       "3  KcrkZ -13.081196 -11.506057  4.999415  137.945408\n",
       "4  AHL4O  12.702195  -8.147433  5.004363  134.766305\n",
       "5  HHckp  -3.327590  -2.205276  3.003647   84.038886\n",
       "6  h5Ujo -11.142655 -10.133399  4.002382  110.992147\n",
       "7  muH9x   4.234715  -0.001354  2.004588   53.906522\n",
       "8  YiRkx  13.355129  -0.332068  4.998647  134.766305\n",
       "9  jG6Gi   1.069227 -11.025667  4.997844  137.945408"
      ]
     },
     "execution_count": 7,
     "metadata": {},
     "output_type": "execute_result"
    }
   ],
   "source": [
    "# vamos exibir as primeiras 10 linhas\n",
    "df_geo_1.head(10)"
   ]
  },
  {
   "cell_type": "code",
   "execution_count": 8,
   "metadata": {},
   "outputs": [
    {
     "data": {
      "text/html": [
       "<div>\n",
       "<style scoped>\n",
       "    .dataframe tbody tr th:only-of-type {\n",
       "        vertical-align: middle;\n",
       "    }\n",
       "\n",
       "    .dataframe tbody tr th {\n",
       "        vertical-align: top;\n",
       "    }\n",
       "\n",
       "    .dataframe thead th {\n",
       "        text-align: right;\n",
       "    }\n",
       "</style>\n",
       "<table border=\"1\" class=\"dataframe\">\n",
       "  <thead>\n",
       "    <tr style=\"text-align: right;\">\n",
       "      <th></th>\n",
       "      <th>id</th>\n",
       "      <th>f0</th>\n",
       "      <th>f1</th>\n",
       "      <th>f2</th>\n",
       "      <th>product</th>\n",
       "    </tr>\n",
       "  </thead>\n",
       "  <tbody>\n",
       "    <tr>\n",
       "      <th>0</th>\n",
       "      <td>fwXo0</td>\n",
       "      <td>-1.146987</td>\n",
       "      <td>0.963328</td>\n",
       "      <td>-0.828965</td>\n",
       "      <td>27.758673</td>\n",
       "    </tr>\n",
       "    <tr>\n",
       "      <th>1</th>\n",
       "      <td>WJtFt</td>\n",
       "      <td>0.262778</td>\n",
       "      <td>0.269839</td>\n",
       "      <td>-2.530187</td>\n",
       "      <td>56.069697</td>\n",
       "    </tr>\n",
       "    <tr>\n",
       "      <th>2</th>\n",
       "      <td>ovLUW</td>\n",
       "      <td>0.194587</td>\n",
       "      <td>0.289035</td>\n",
       "      <td>-5.586433</td>\n",
       "      <td>62.871910</td>\n",
       "    </tr>\n",
       "    <tr>\n",
       "      <th>3</th>\n",
       "      <td>q6cA6</td>\n",
       "      <td>2.236060</td>\n",
       "      <td>-0.553760</td>\n",
       "      <td>0.930038</td>\n",
       "      <td>114.572842</td>\n",
       "    </tr>\n",
       "    <tr>\n",
       "      <th>4</th>\n",
       "      <td>WPMUX</td>\n",
       "      <td>-0.515993</td>\n",
       "      <td>1.716266</td>\n",
       "      <td>5.899011</td>\n",
       "      <td>149.600746</td>\n",
       "    </tr>\n",
       "    <tr>\n",
       "      <th>5</th>\n",
       "      <td>LzZXx</td>\n",
       "      <td>-0.758092</td>\n",
       "      <td>0.710691</td>\n",
       "      <td>2.585887</td>\n",
       "      <td>90.222465</td>\n",
       "    </tr>\n",
       "    <tr>\n",
       "      <th>6</th>\n",
       "      <td>WBHRv</td>\n",
       "      <td>-0.574891</td>\n",
       "      <td>0.317727</td>\n",
       "      <td>1.773745</td>\n",
       "      <td>45.641478</td>\n",
       "    </tr>\n",
       "    <tr>\n",
       "      <th>7</th>\n",
       "      <td>XO8fn</td>\n",
       "      <td>-1.906649</td>\n",
       "      <td>-2.458350</td>\n",
       "      <td>-0.177097</td>\n",
       "      <td>72.480640</td>\n",
       "    </tr>\n",
       "    <tr>\n",
       "      <th>8</th>\n",
       "      <td>ybmQ5</td>\n",
       "      <td>1.776292</td>\n",
       "      <td>-0.279356</td>\n",
       "      <td>3.004156</td>\n",
       "      <td>106.616832</td>\n",
       "    </tr>\n",
       "    <tr>\n",
       "      <th>9</th>\n",
       "      <td>OilcN</td>\n",
       "      <td>-1.214452</td>\n",
       "      <td>-0.439314</td>\n",
       "      <td>5.922514</td>\n",
       "      <td>52.954532</td>\n",
       "    </tr>\n",
       "  </tbody>\n",
       "</table>\n",
       "</div>"
      ],
      "text/plain": [
       "      id        f0        f1        f2     product\n",
       "0  fwXo0 -1.146987  0.963328 -0.828965   27.758673\n",
       "1  WJtFt  0.262778  0.269839 -2.530187   56.069697\n",
       "2  ovLUW  0.194587  0.289035 -5.586433   62.871910\n",
       "3  q6cA6  2.236060 -0.553760  0.930038  114.572842\n",
       "4  WPMUX -0.515993  1.716266  5.899011  149.600746\n",
       "5  LzZXx -0.758092  0.710691  2.585887   90.222465\n",
       "6  WBHRv -0.574891  0.317727  1.773745   45.641478\n",
       "7  XO8fn -1.906649 -2.458350 -0.177097   72.480640\n",
       "8  ybmQ5  1.776292 -0.279356  3.004156  106.616832\n",
       "9  OilcN -1.214452 -0.439314  5.922514   52.954532"
      ]
     },
     "execution_count": 8,
     "metadata": {},
     "output_type": "execute_result"
    }
   ],
   "source": [
    "# vamos exibir as primeiras 10 linhas\n",
    "df_geo_2.head(10)"
   ]
  },
  {
   "cell_type": "markdown",
   "metadata": {},
   "source": [
    "## Explore os dados iniciais\n",
    "\n",
    "**Descrição dos dados**\n",
    "\n",
    "- `id` - (identificador unívoco de poço de petróleo)\n",
    "- `f0, f1, f2` - (três características de pontos (seu significado específico não é importante, mas as próprias características são significativas))\n",
    "- `product` - (volume de reservas no poço de petróleo (milhares de barris)).\n",
    "\n"
   ]
  },
  {
   "cell_type": "markdown",
   "metadata": {},
   "source": [
    "### Duplicatas <a id='duplicates'></a>\n",
    "Encontrando de duplicatas óbvias na tabela:"
   ]
  },
  {
   "cell_type": "code",
   "execution_count": 12,
   "metadata": {},
   "outputs": [
    {
     "data": {
      "text/plain": [
       "0"
      ]
     },
     "execution_count": 12,
     "metadata": {},
     "output_type": "execute_result"
    }
   ],
   "source": [
    "# Verificar Valores Duplicados\n",
    "df_geo_0.duplicated().sum()"
   ]
  },
  {
   "cell_type": "code",
   "execution_count": 13,
   "metadata": {},
   "outputs": [
    {
     "data": {
      "text/plain": [
       "0"
      ]
     },
     "execution_count": 13,
     "metadata": {},
     "output_type": "execute_result"
    }
   ],
   "source": [
    "# Verificar Valores Duplicados\n",
    "df_geo_1.duplicated().sum()"
   ]
  },
  {
   "cell_type": "code",
   "execution_count": 14,
   "metadata": {
    "scrolled": true
   },
   "outputs": [
    {
     "data": {
      "text/plain": [
       "0"
      ]
     },
     "execution_count": 14,
     "metadata": {},
     "output_type": "execute_result"
    }
   ],
   "source": [
    "# Verificar Valores Duplicados\n",
    "df_geo_2.duplicated().sum()"
   ]
  },
  {
   "cell_type": "markdown",
   "metadata": {},
   "source": [
    "### Valores ausentes <a id='missing_values'></a>"
   ]
  },
  {
   "cell_type": "code",
   "execution_count": 9,
   "metadata": {
    "scrolled": true
   },
   "outputs": [
    {
     "data": {
      "text/plain": [
       "id         0\n",
       "f0         0\n",
       "f1         0\n",
       "f2         0\n",
       "product    0\n",
       "dtype: int64"
      ]
     },
     "execution_count": 9,
     "metadata": {},
     "output_type": "execute_result"
    }
   ],
   "source": [
    "# Verificar Valores Ausentes\n",
    "df_geo_0.isna().sum()"
   ]
  },
  {
   "cell_type": "code",
   "execution_count": 10,
   "metadata": {
    "scrolled": true
   },
   "outputs": [
    {
     "data": {
      "text/plain": [
       "id         0\n",
       "f0         0\n",
       "f1         0\n",
       "f2         0\n",
       "product    0\n",
       "dtype: int64"
      ]
     },
     "execution_count": 10,
     "metadata": {},
     "output_type": "execute_result"
    }
   ],
   "source": [
    "# Verificar Valores Ausentes\n",
    "df_geo_1.isna().sum()"
   ]
  },
  {
   "cell_type": "code",
   "execution_count": 11,
   "metadata": {
    "scrolled": false
   },
   "outputs": [
    {
     "data": {
      "text/plain": [
       "id         0\n",
       "f0         0\n",
       "f1         0\n",
       "f2         0\n",
       "product    0\n",
       "dtype: int64"
      ]
     },
     "execution_count": 11,
     "metadata": {},
     "output_type": "execute_result"
    }
   ],
   "source": [
    "# Verificar Valores Ausentes\n",
    "df_geo_2.isna().sum()"
   ]
  },
  {
   "cell_type": "markdown",
   "metadata": {},
   "source": [
    "### Conclusões intermediárias <a id='data_preprocessing_conclusions_intermediary'></a>"
   ]
  },
  {
   "cell_type": "markdown",
   "metadata": {},
   "source": [
    "Podemos observar que não há dados faltantes ou duplicados.Está tudo coerente ao pré-procesamento de dados.\n",
    "\n",
    "\n",
    "[Voltar ao Índice](#back)"
   ]
  },
  {
   "cell_type": "markdown",
   "metadata": {},
   "source": [
    "## Etapa 3. Modelo <a id='model'></a>"
   ]
  },
  {
   "cell_type": "code",
   "execution_count": 15,
   "metadata": {},
   "outputs": [],
   "source": [
    "data_all = [df_geo_0, df_geo_1, df_geo_2 ]"
   ]
  },
  {
   "cell_type": "code",
   "execution_count": 16,
   "metadata": {},
   "outputs": [],
   "source": [
    "# Importação de bibliotecas para modelagem e avaliação de modelos\n",
    "from sklearn.model_selection import train_test_split  # Para dividir os dados em conjuntos de treino e teste\n",
    "from sklearn.linear_model import LinearRegression      # Para criar um modelo de regressão linear\n",
    "from sklearn.metrics import mean_absolute_error        # Para calcular o erro absoluto médio\n",
    "\n",
    "# Comentários sobre cada importação:\n",
    "# - train_test_split: Utilizado para dividir um conjunto de dados em subconjuntos de treino e teste, facilitando a validação do modelo.\n",
    "# - LinearRegression: Classe que implementa a regressão linear, um dos métodos mais simples e utilizados em aprendizado de máquina.\n",
    "# - mean_absolute_error: Função que calcula a média dos erros absolutos entre as previsões e os valores reais, útil para avaliar a performance do modelo.\n"
   ]
  },
  {
   "cell_type": "code",
   "execution_count": 42,
   "metadata": {},
   "outputs": [],
   "source": [
    "# Criando listas para salvar os targets e as predições\n",
    "samples_target = []       # Lista para armazenar os valores reais (targets)\n",
    "samples_predictions = []  # Lista para armazenar as predições do modelo\n",
    "\n",
    "# Loop através de cada região nos dados\n",
    "for region in range(len(data_all)):\n",
    "    data = data_all[region]  # Seleciona os dados da região atual\n",
    "    features = data.drop(['product', 'id'], axis=1)  # Remove colunas indesejadas para as features\n",
    "    target = data['product']  # Define a coluna 'product' como target\n",
    "    \n",
    "    # Divide os dados em conjuntos de treino e validação\n",
    "    features_train, features_valid, target_train, target_valid = train_test_split(\n",
    "        features, target, test_size=0.25, random_state=123456)\n",
    "    \n",
    "    # Cria e treina o modelo de regressão linear\n",
    "    model = LinearRegression()\n",
    "    model.fit(features_train, target_train)\n",
    "    \n",
    "    # Faz previsões com o conjunto de validação\n",
    "    predictions = model.predict(features_valid)\n",
    "    \n",
    "    # Armazena os valores reais e as predições nas listas\n",
    "    samples_target.append(target_valid.reset_index(drop=True))  # Reseta o índice para alinhar as séries\n",
    "    samples_predictions.append(pd.Series(predictions))  # Converte as predições em uma série do pandas\n"
   ]
  },
  {
   "cell_type": "code",
   "execution_count": 20,
   "metadata": {},
   "outputs": [],
   "source": [
    "mean_product = target.mean()"
   ]
  },
  {
   "cell_type": "code",
   "execution_count": 21,
   "metadata": {},
   "outputs": [
    {
     "data": {
      "text/plain": [
       "95.00000000000004"
      ]
     },
     "execution_count": 21,
     "metadata": {},
     "output_type": "execute_result"
    }
   ],
   "source": [
    "mean_product"
   ]
  },
  {
   "cell_type": "markdown",
   "metadata": {},
   "source": [
    "Criamos um modelo de Regressão Linear para avaliar a volatividade dos valores de reservas de poços. "
   ]
  },
  {
   "cell_type": "markdown",
   "metadata": {},
   "source": [
    "### Imprimindo o volume médio predito de reservas e o REQM do modelo."
   ]
  },
  {
   "cell_type": "code",
   "execution_count": 43,
   "metadata": {},
   "outputs": [],
   "source": [
    "# Inicializando listas para armazenar a média e o RMSE (Root Mean Squared Error)\n",
    "mean = []  # Lista para armazenar as médias dos targets\n",
    "rmse = []  # Lista para armazenar os valores de RMSE\n",
    "\n",
    "# Loop através das primeiras três regiões\n",
    "for region in range(0, 3):\n",
    "    # Calcula a média dos valores reais (targets) para a região atual e adiciona à lista\n",
    "    mean.append(samples_target[region].mean())\n",
    "    \n",
    "    # Calcula o RMSE entre os valores reais e as predições, e adiciona à lista\n",
    "    rmse.append(mean_squared_error(samples_target[region], samples_predictions[region], squared=False))\n",
    "\n",
    "# Comentários sobre o código:\n",
    "# - O loop percorre as primeiras três regiões para calcular a média dos targets e o RMSE das predições.\n",
    "# - O RMSE é uma métrica que indica a precisão das predições; quanto menor, melhor o desempenho do modelo.\n"
   ]
  },
  {
   "cell_type": "code",
   "execution_count": 23,
   "metadata": {},
   "outputs": [
    {
     "data": {
      "text/plain": [
       "[93.1898161393134, 69.02747842574298, 94.9781301255784]"
      ]
     },
     "execution_count": 23,
     "metadata": {},
     "output_type": "execute_result"
    }
   ],
   "source": [
    "mean"
   ]
  },
  {
   "cell_type": "code",
   "execution_count": 24,
   "metadata": {
    "scrolled": true
   },
   "outputs": [
    {
     "data": {
      "text/plain": [
       "[37.80046993478272, 0.8904933206270058, 39.98039278339241]"
      ]
     },
     "execution_count": 24,
     "metadata": {},
     "output_type": "execute_result"
    }
   ],
   "source": [
    "rmse"
   ]
  },
  {
   "cell_type": "markdown",
   "metadata": {},
   "source": [
    "Podemos ver as médias de cada ponto do poços e o RMSE. Quanto maior o erro quadrático médio, maior o afastamento entre o retorno do fundo e o retorno do benchmark. Quanto menor o erro quadrático médio, menor o afastamento entre o retorno do fundo e o retorno do benchmark."
   ]
  },
  {
   "cell_type": "markdown",
   "metadata": {},
   "source": [
    "### Analise dos resultados."
   ]
  },
  {
   "cell_type": "code",
   "execution_count": 25,
   "metadata": {},
   "outputs": [
    {
     "data": {
      "image/png": "[encoded data removed]",
      "text/plain": [
       "<Figure size 640x480 with 1 Axes>"
      ]
     },
     "metadata": {},
     "output_type": "display_data"
    }
   ],
   "source": [
    "plt.hist(samples_predictions, \n",
    "         label = ['Poço 01','Poço 02','Poço 03']);\n",
    "plt.legend(prop ={'size': 10})\n",
    "plt.title('Gráfico da distibuição de reserva dos poços',\n",
    "          fontweight =\"bold\")\n",
    "  \n",
    "plt.show()"
   ]
  },
  {
   "cell_type": "code",
   "execution_count": 26,
   "metadata": {
    "scrolled": true
   },
   "outputs": [
    {
     "data": {
      "image/png": "[encoded data removed]",
      "text/plain": [
       "<Figure size 640x480 with 1 Axes>"
      ]
     },
     "metadata": {},
     "output_type": "display_data"
    }
   ],
   "source": [
    "plt.hist(samples_predictions[0], \n",
    "         label = 'Poço 01', color ='red' );\n",
    "plt.legend(prop ={'size': 10})\n",
    "plt.title('Poço 01',\n",
    "          fontweight =\"bold\")\n",
    "  \n",
    "plt.show()"
   ]
  },
  {
   "cell_type": "code",
   "execution_count": 27,
   "metadata": {},
   "outputs": [
    {
     "data": {
      "text/plain": [
       "count    25000.000000\n",
       "mean        92.492866\n",
       "std         23.299327\n",
       "min         -2.707394\n",
       "25%         76.559516\n",
       "50%         92.578063\n",
       "75%        108.462626\n",
       "max        175.267816\n",
       "dtype: float64"
      ]
     },
     "execution_count": 27,
     "metadata": {},
     "output_type": "execute_result"
    }
   ],
   "source": [
    "samples_predictions[0].describe()"
   ]
  },
  {
   "cell_type": "code",
   "execution_count": 28,
   "metadata": {
    "scrolled": true
   },
   "outputs": [
    {
     "data": {
      "image/png": "[encoded data removed]",
      "text/plain": [
       "<Figure size 640x480 with 1 Axes>"
      ]
     },
     "metadata": {},
     "output_type": "display_data"
    }
   ],
   "source": [
    "plt.hist(samples_predictions[1], \n",
    "         label = 'Poço 02', color = 'blue');\n",
    "plt.legend(prop ={'size': 10})\n",
    "plt.title('Poço 02',\n",
    "          fontweight =\"bold\")\n",
    "  \n",
    "plt.show()"
   ]
  },
  {
   "cell_type": "code",
   "execution_count": 29,
   "metadata": {},
   "outputs": [
    {
     "data": {
      "text/plain": [
       "count    25000.000000\n",
       "mean        69.030554\n",
       "std         45.914712\n",
       "min         -2.062835\n",
       "25%         28.588983\n",
       "50%         79.811759\n",
       "75%        109.348517\n",
       "max        139.982924\n",
       "dtype: float64"
      ]
     },
     "execution_count": 29,
     "metadata": {},
     "output_type": "execute_result"
    }
   ],
   "source": [
    "samples_predictions[1].describe()"
   ]
  },
  {
   "cell_type": "code",
   "execution_count": 30,
   "metadata": {
    "scrolled": true
   },
   "outputs": [
    {
     "data": {
      "image/png": "[encoded data removed]",
      "text/plain": [
       "<Figure size 640x480 with 1 Axes>"
      ]
     },
     "metadata": {},
     "output_type": "display_data"
    }
   ],
   "source": [
    "plt.hist(samples_predictions[2], \n",
    "         label = 'Poço 03', color = 'green');\n",
    "plt.legend(prop ={'size': 10})\n",
    "plt.title('Poço 03',\n",
    "          fontweight =\"bold\")\n",
    "  \n",
    "plt.show()"
   ]
  },
  {
   "cell_type": "code",
   "execution_count": 31,
   "metadata": {},
   "outputs": [
    {
     "data": {
      "text/plain": [
       "count    25000.000000\n",
       "mean        94.848357\n",
       "std         19.893166\n",
       "min         13.798107\n",
       "25%         81.356632\n",
       "50%         94.798383\n",
       "75%        108.328394\n",
       "max        174.636585\n",
       "dtype: float64"
      ]
     },
     "execution_count": 31,
     "metadata": {},
     "output_type": "execute_result"
    }
   ],
   "source": [
    "samples_predictions[2].describe()"
   ]
  },
  {
   "cell_type": "markdown",
   "metadata": {},
   "source": [
    "Vemos que os valores preditos dos poços 01,03 são bem volateis enquanto o do poço 02 tem mais instabilidade."
   ]
  },
  {
   "cell_type": "markdown",
   "metadata": {},
   "source": [
    "## Calculando o Lucro\n"
   ]
  },
  {
   "cell_type": "code",
   "execution_count": 32,
   "metadata": {},
   "outputs": [],
   "source": [
    "# Apenas regressão linear pode ser usada para o treinamento do modelo (o resto não são previsíveis o suficiente).\n",
    "# Ao explorar a região, um estudo de 500 pontos é realizado e os melhores 200 pontos são selecionados para calcular o lucro.\n",
    "# O orçamento para o desenvolvimento de 200 poços de petróleo é 100 milhões de dólares.\n",
    "# Um barril de petróleo bruto traz 4.5 dólares de receita. A receita de uma unidade de produto é 4.500 dólares (o volume de reservas está em milhares de barris).\n",
    "# Depois de ter avaliado os riscos, mantenha apenas as regiões com o risco de perdas inferior a 2.5%. Entre aquelas que se enquadram no critério, você precisa selecionar a região com o lucro médio mais alto."
   ]
  },
  {
   "cell_type": "markdown",
   "metadata": {},
   "source": [
    "### Armazeno todos os valores necessários para os cálculos em variáveis separadas.\n",
    "\n",
    "### Calculo o volume de reservas suficiente para desenvolver um novo poço sem prejuízos. Comparo o valor recebido com o valor médio de reservas em cada região."
   ]
  },
  {
   "cell_type": "code",
   "execution_count": 33,
   "metadata": {},
   "outputs": [],
   "source": [
    "# Definindo o orçamento total disponível\n",
    "budget = 1000000  # Orçamento em unidades monetárias\n",
    "\n",
    "# Definindo o custo por poço\n",
    "pit = 5000  # Custo de desenvolvimento de um poço\n",
    "\n",
    "# Calculando o número máximo de poços que podem ser desenvolvidos dentro do orçamento\n",
    "cost_pit_budget = budget // pit  # Número de poços que podem ser construídos\n",
    "\n",
    "# Definindo o preço de venda por unidade de reserva\n",
    "price = 45  # Preço por unidade de reserva\n",
    "\n",
    "# Calculando o custo por poço com base no orçamento e no número de poços\n",
    "cost_pit = budget / cost_pit_budget  # Custo médio por poço\n",
    "\n",
    "# Calculando o volume de reservas necessário para não ter prejuízo\n",
    "zero_loss = cost_pit / price  # Volume de reservas necessário para cobrir o custo do poço\n",
    "\n",
    "# Resultado: volume de reservas necessário para evitar prejuízos\n",
    "zero_loss"
   ]
  },
  {
   "cell_type": "code",
   "execution_count": 36,
   "metadata": {},
   "outputs": [],
   "source": [
    "# Função para calcular o lucro com base nos targets e predições\n",
    "def profit(target, predictions):\n",
    "    # Ordena as predições em ordem decrescente\n",
    "    predictions_sorted = predictions.sort_values(ascending=False)\n",
    "    \n",
    "    # Seleciona os pontos correspondentes aos targets dos poços que podem ser desenvolvidos\n",
    "    selected_points = target[predictions_sorted.index][:cost_pit_budget]\n",
    "    \n",
    "    # Calcula a soma das reservas dos poços selecionados\n",
    "    product = selected_points.sum()\n",
    "    \n",
    "    # Calcula a receita total a partir do produto (reservas) e do preço por unidade\n",
    "    revenue = product * price\n",
    "    \n",
    "    # O custo total é igual ao orçamento disponível\n",
    "    cost = budget\n",
    "    \n",
    "    # Retorna o lucro, que é a receita menos o custo\n",
    "    return revenue - cost\n"
   ]
  },
  {
   "cell_type": "code",
   "execution_count": 37,
   "metadata": {
    "scrolled": true
   },
   "outputs": [
    {
     "data": {
      "text/plain": [
       "349118.69017630955"
      ]
     },
     "execution_count": 37,
     "metadata": {},
     "output_type": "execute_result"
    }
   ],
   "source": [
    "profit(samples_target[0],samples_predictions[0])"
   ]
  },
  {
   "cell_type": "code",
   "execution_count": 38,
   "metadata": {},
   "outputs": [
    {
     "data": {
      "text/plain": [
       "241508.66966815107"
      ]
     },
     "execution_count": 38,
     "metadata": {},
     "output_type": "execute_result"
    }
   ],
   "source": [
    "profit(samples_target[1],samples_predictions[1])"
   ]
  },
  {
   "cell_type": "code",
   "execution_count": 39,
   "metadata": {},
   "outputs": [
    {
     "data": {
      "text/plain": [
       "240506.16903170897"
      ]
     },
     "execution_count": 39,
     "metadata": {},
     "output_type": "execute_result"
    }
   ],
   "source": [
    "profit(samples_target[2],samples_predictions[2])"
   ]
  },
  {
   "cell_type": "markdown",
   "metadata": {},
   "source": [
    "O volume de reservas para desenvolver um novo poço sem que haja prejuizo é de R$111.11 aproximadamente."
   ]
  },
  {
   "cell_type": "markdown",
   "metadata": {},
   "source": [
    "Podemos ver os lucros para cada região sendo a região 01 se destacando, as demais com menores lucros, em destaque para a região (indice 2) apresenta menor lucro."
   ]
  },
  {
   "cell_type": "markdown",
   "metadata": {},
   "source": [
    "## Escreva uma função para calcular lucro de um conjunto de poços de petróleo selecionados e predições do modelo:"
   ]
  },
  {
   "cell_type": "markdown",
   "metadata": {},
   "source": [
    "Escolho os poços com os valores mais altos de predições, sumarizo o volume alvo de reservas de acordo com essas predições e apresento minhas conclusões: sugiro uma região para o desenvolvimento de poços de petróleo e justifico minha escolha, calculando o lucro para o volume de reservas recebido.\n",
    "\n"
   ]
  },
  {
   "cell_type": "markdown",
   "metadata": {},
   "source": [
    "## Calcule riscos e lucro para cada região:"
   ]
  },
  {
   "cell_type": "markdown",
   "metadata": {},
   "source": [
    "Utilizo a técnica de bootstrapping com 1000 amostras para encontrar a distribuição de lucros, encontro o lucro médio, o intervalo de confiança de 95% e o risco de prejuízo. Considero prejuízo como um lucro negativo, calculo-o como uma probabilidade e depois o expresso como uma porcentagem, utilizando um tamanho de amostra de 500."
   ]
  },
  {
   "cell_type": "code",
   "execution_count": 40,
   "metadata": {},
   "outputs": [],
   "source": [
    "# Definindo o tamanho da amostra para o bootstrapping\n",
    "sample_size = 500  # Número de observações em cada amostra\n",
    "\n",
    "# Definindo o número total de amostras a serem geradas\n",
    "bootstrap = 1000  # Total de amostras a serem criadas para a análise\n",
    "\n",
    "# Inicializando um gerador de números aleatórios com uma semente fixa\n",
    "state = np.random.RandomState(123456)  # Garante a reprodutibilidade dos resultados\n"
   ]
  },
  {
   "cell_type": "code",
   "execution_count": 41,
   "metadata": {},
   "outputs": [
    {
     "name": "stdout",
     "output_type": "stream",
     "text": [
      "Região 0\n",
      "Média da amostra = 51498.242641315504\n",
      "95% intervalo confidencial (1121.5333057253174, 105479.06779972691)\n",
      "Risco de Perdas =  2.5 %\n",
      "\n",
      "Região 1\n",
      "Média da amostra = 50701.41992626898\n",
      "95% intervalo confidencial (7862.926920003483, 93221.46844675804)\n",
      "Risco de Perdas =  0.7000000000000001 %\n",
      "\n",
      "Região 2\n",
      "Média da amostra = 38670.938179043194\n",
      "95% intervalo confidencial (-13637.598691764946, 90268.8671799549)\n",
      "Risco de Perdas =  6.7 %\n",
      "\n"
     ]
    }
   ],
   "source": [
    "# Loop através das três regiões disponíveis\n",
    "for region in range(3):\n",
    "    # Seleciona os alvos e predições correspondentes para a região atual\n",
    "    target_0 = samples_target[region]  # Alvos de reservas para a região\n",
    "    predictions_0 = samples_predictions[region]  # Predições de lucro para a região\n",
    "    values = []  # Lista para armazenar os lucros calculados\n",
    "\n",
    "    # Realiza o bootstrapping para calcular os lucros\n",
    "    for i in range(bootstrap):\n",
    "        # Cria uma amostra com reposição a partir dos alvos da região\n",
    "        target_subsample = target_0.sample(n=sample_size, replace=True, random_state=state)\n",
    "        # Obtém as predições correspondentes à amostra selecionada\n",
    "        probs_subsample = predictions_0[target_subsample.index]\n",
    "\n",
    "        # Calcula o lucro para a amostra e adiciona à lista de valores\n",
    "        values.append(profit(target_subsample, probs_subsample))\n",
    "\n",
    "    # Converte a lista de lucros em uma série do pandas para análise\n",
    "    values = pd.Series(values)\n",
    "    # Calcula o limite inferior do lucro (percentil 1%)\n",
    "    lower = values.quantile(0.01)\n",
    "    # Calcula o intervalo de confiança de 95% para os lucros\n",
    "    confidenial_interval = (values.quantile(0.025), values.quantile(0.975))\n",
    "    # Calcula a probabilidade de obter lucro negativo\n",
    "    negative_profit_chance = (values < 0).mean()\n",
    "    # Calcula o lucro médio das amostras\n",
    "    mean_profit = values.mean()\n",
    "\n",
    "    # Exibe os resultados para a região atual\n",
    "    print(\"Região\", region)\n",
    "    print(\"Média da amostra =\", mean_profit)\n",
    "    print(\"95% intervalo confidencial\", confidenial_interval)\n",
    "    print(\"Risco de Perdas =\", negative_profit_chance * 100, \"%\")\n",
    "    print()\n"
   ]
  },
  {
   "cell_type": "markdown",
   "metadata": {},
   "source": [
    "Podemos que ver que a Região 1(Poço 02) é o poço onde poço onde os riscos são menores."
   ]
  },
  {
   "cell_type": "markdown",
   "metadata": {},
   "source": [
    "## Conclusão geral <a id='end'></a>"
   ]
  },
  {
   "cell_type": "markdown",
   "metadata": {},
   "source": [
    "Neste projeto, importamos bibliotecas como \"pandas\" e \"numpy\" que habitualmente já utilizamos, e sklearn para criação do nosso modelo.\n",
    "\n",
    "Verificamos se realmente o pre-processamento foi feito, para que não tivesse acontecido algum problema na criação do nosso modelo.\n",
    "\n",
    "E desenvolvemos um modelo para recomedação, e usamos Regressão Linear para descobrir o melhor lugar para um novo poço, calculamos a receita de cada região, usamos a técnica de bootstrap para recolher amostras aleátorias.E concluimos que a Região 1(Poço 02) é a melhor escolha para construir um novo poço com base no menor risco para a receita."
   ]
  }
 ],
 "metadata": {
  "kernelspec": {
   "display_name": "Python 3 (ipykernel)",
   "language": "python",
   "name": "python3"
  },
  "language_info": {
   "codemirror_mode": {
    "name": "ipython",
    "version": 3
   },
   "file_extension": ".py",
   "mimetype": "text/x-python",
   "name": "python",
   "nbconvert_exporter": "python",
   "pygments_lexer": "ipython3",
   "version": "3.11.5"
  },
  "toc": {
   "base_numbering": 1,
   "nav_menu": {},
   "number_sections": true,
   "sideBar": true,
   "skip_h1_title": true,
   "title_cell": "Table of Contents",
   "title_sidebar": "Contents",
   "toc_cell": false,
   "toc_position": {},
   "toc_section_display": true,
   "toc_window_display": false
  }
 },
 "nbformat": 4,
 "nbformat_minor": 2
}
