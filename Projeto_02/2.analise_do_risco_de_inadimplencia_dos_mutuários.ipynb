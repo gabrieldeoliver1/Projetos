{
 "cells": [
  {
   "cell_type": "markdown",
   "id": "b171cebb-e5c4-4c51-8469-aba61281097f",
   "metadata": {},
   "source": [
    "# Análise do risco de inadimplência dos mutuários"
   ]
  },
  {
   "cell_type": "markdown",
   "id": "87e403fa-4f3a-4100-b4bd-60cc9216f7df",
   "metadata": {
    "tags": []
   },
   "source": [
    "# Contents <a id='back'></a>\n",
    "\n",
    "* [Introdução](#intro)\n",
    "* [Etapa 1. Visão geral dos dados](#data_review)\n",
    "    * [Primeiras conclusões](#data_review_conclusions)\n",
    "* [Etapa 2. Pré-processamento de dados](#data_preprocessing)\n",
    "    * [2.1 Duplicatas](#duplicates)\n",
    "    * [2.2 Valores ausentes](#missing_values)\n",
    "    * [2.3 Conclusões intermediárias](#data_preprocessing_conclusions_intermediary)\n",
    "    * [2.4 Conclusões](#data_preprocessing_conclusions)\n",
    "* [Etapa 3. Transformações dos dados](#tranforamation_data)\n",
    "    * [3.1 Transformações nas colunas](#transformation_columns)\n",
    "    * [3.2 Valores ausentes na coluna Income](#missing_values_income)\n",
    "    * [3.3 Valores ausentes na coluna Days Employed](#missing_values_days_employed)\n",
    "* [Etapa 4. Categorização de dados](#categorization_data)\n",
    "* [Etapa 5. Testando hipóteses ](#hypotheses) \n",
    "* [Conclusões](#end)"
   ]
  },
  {
   "cell_type": "markdown",
   "id": "1194b1d6-6d0b-4fe3-b549-0b1bb4b7a836",
   "metadata": {},
   "source": [
    "## Introdução <a id='intro'></a>\n",
    "\n",
    "Seu projeto é preparar um relatório para a divisão de empréstimos de um banco. Você precisará descobrir se o estado civil de um cliente e o número de filhos têm impacto sobre a inadimplência de um empréstimo. O banco já tem alguns dados sobre a capacidade de crédito dos clientes.\n",
    "\n",
    "Seu relatório será considerado ao criar uma pontuação de crédito de um cliente em potencial. Uma pontuação de crédito é usada para avaliar a capacidade de um devedor em potencial de pagar seu empréstimo.\n",
    "\n",
    "### Objetivo: \n",
    "Responda a estas perguntas:\n",
    "Existe alguma relação entre ter filhos e pagar um empréstimo em dia?\n",
    "Existe alguma relação entre o estado civil e o pagamento de um empréstimo no prazo estipulado?\n",
    "Existe uma relação entre o nível de renda e o pagamento de um empréstimo no prazo?\n",
    "Como as diferentes finalidades do empréstimo afetam o pagamento pontual do empréstimo?\n",
    "\n",
    "### Etapas \n",
    "Os dados sobre o comportamento do usuário é armazenado no arquivo `Downloads/credit_scoring_eng.csv`. Não há informação sobre a qualidade dos dados, então, você precisará examiná-los antes de testar a hipótese. \n",
    "\n",
    "Primeiro, você avaliará a qualidade dos dados e ver se seus problemas são significativos. Depois, durante o pré-processamento de dados, você tentará dar conta dos problemas mais críticos problemas.\n",
    " \n",
    "O seu projeto consistirá em quatro etapas:\n",
    " 1. Visão geral dos dados\n",
    " 2. Pré-processamento de dados\n",
    " 3. Transformações dos dados\n",
    " 4. Categorização de dados\n",
    " 5. Testando hipóteses \n",
    " \n",
    "[Voltar ao Índice](#back)"
   ]
  },
  {
   "cell_type": "markdown",
   "id": "596a06d2-6d16-4a16-91c9-d2396d7c2b5a",
   "metadata": {},
   "source": [
    "## Etapa 1. Visão geral dos dados <a id='data_review'></a>\n",
    "\n",
    "Abra os dados em Credit Scoring e explore-os."
   ]
  },
  {
   "cell_type": "code",
   "execution_count": 1,
   "id": "6ae51464-e9f1-433e-8c4d-9f99076983f8",
   "metadata": {
    "tags": []
   },
   "outputs": [],
   "source": [
    "# importando pandas\n",
    "import pandas as pd"
   ]
  },
  {
   "cell_type": "markdown",
   "id": "e757c284-cd21-46d1-b7fa-dc5c906e8856",
   "metadata": {},
   "source": [
    "Lendo o arquivo `credit_scoring_eng.csv` da pasta `Downloads` e salvando na variável `df`:"
   ]
  },
  {
   "cell_type": "code",
   "execution_count": 2,
   "id": "d940b43c-04d0-44f6-b062-1fceef4fc031",
   "metadata": {
    "tags": []
   },
   "outputs": [
    {
     "data": {
      "text/html": [
       "<div>\n",
       "<style scoped>\n",
       "    .dataframe tbody tr th:only-of-type {\n",
       "        vertical-align: middle;\n",
       "    }\n",
       "\n",
       "    .dataframe tbody tr th {\n",
       "        vertical-align: top;\n",
       "    }\n",
       "\n",
       "    .dataframe thead th {\n",
       "        text-align: right;\n",
       "    }\n",
       "</style>\n",
       "<table border=\"1\" class=\"dataframe\">\n",
       "  <thead>\n",
       "    <tr style=\"text-align: right;\">\n",
       "      <th></th>\n",
       "      <th>children</th>\n",
       "      <th>days_employed</th>\n",
       "      <th>dob_years</th>\n",
       "      <th>education_id</th>\n",
       "      <th>family_status_id</th>\n",
       "      <th>debt</th>\n",
       "      <th>total_income</th>\n",
       "    </tr>\n",
       "  </thead>\n",
       "  <tbody>\n",
       "    <tr>\n",
       "      <th>count</th>\n",
       "      <td>21525.000000</td>\n",
       "      <td>19351.000000</td>\n",
       "      <td>21525.000000</td>\n",
       "      <td>21525.000000</td>\n",
       "      <td>21525.000000</td>\n",
       "      <td>21525.000000</td>\n",
       "      <td>19351.000000</td>\n",
       "    </tr>\n",
       "    <tr>\n",
       "      <th>mean</th>\n",
       "      <td>0.538908</td>\n",
       "      <td>63046.497661</td>\n",
       "      <td>43.293380</td>\n",
       "      <td>0.817236</td>\n",
       "      <td>0.972544</td>\n",
       "      <td>0.080883</td>\n",
       "      <td>26787.568355</td>\n",
       "    </tr>\n",
       "    <tr>\n",
       "      <th>std</th>\n",
       "      <td>1.381587</td>\n",
       "      <td>140827.311974</td>\n",
       "      <td>12.574584</td>\n",
       "      <td>0.548138</td>\n",
       "      <td>1.420324</td>\n",
       "      <td>0.272661</td>\n",
       "      <td>16475.450632</td>\n",
       "    </tr>\n",
       "    <tr>\n",
       "      <th>min</th>\n",
       "      <td>-1.000000</td>\n",
       "      <td>-18388.949901</td>\n",
       "      <td>0.000000</td>\n",
       "      <td>0.000000</td>\n",
       "      <td>0.000000</td>\n",
       "      <td>0.000000</td>\n",
       "      <td>3306.762000</td>\n",
       "    </tr>\n",
       "    <tr>\n",
       "      <th>25%</th>\n",
       "      <td>0.000000</td>\n",
       "      <td>-2747.423625</td>\n",
       "      <td>33.000000</td>\n",
       "      <td>1.000000</td>\n",
       "      <td>0.000000</td>\n",
       "      <td>0.000000</td>\n",
       "      <td>16488.504500</td>\n",
       "    </tr>\n",
       "    <tr>\n",
       "      <th>50%</th>\n",
       "      <td>0.000000</td>\n",
       "      <td>-1203.369529</td>\n",
       "      <td>42.000000</td>\n",
       "      <td>1.000000</td>\n",
       "      <td>0.000000</td>\n",
       "      <td>0.000000</td>\n",
       "      <td>23202.870000</td>\n",
       "    </tr>\n",
       "    <tr>\n",
       "      <th>75%</th>\n",
       "      <td>1.000000</td>\n",
       "      <td>-291.095954</td>\n",
       "      <td>53.000000</td>\n",
       "      <td>1.000000</td>\n",
       "      <td>1.000000</td>\n",
       "      <td>0.000000</td>\n",
       "      <td>32549.611000</td>\n",
       "    </tr>\n",
       "    <tr>\n",
       "      <th>max</th>\n",
       "      <td>20.000000</td>\n",
       "      <td>401755.400475</td>\n",
       "      <td>75.000000</td>\n",
       "      <td>4.000000</td>\n",
       "      <td>4.000000</td>\n",
       "      <td>1.000000</td>\n",
       "      <td>362496.645000</td>\n",
       "    </tr>\n",
       "  </tbody>\n",
       "</table>\n",
       "</div>"
      ],
      "text/plain": [
       "           children  days_employed     dob_years  education_id  \\\n",
       "count  21525.000000   19351.000000  21525.000000  21525.000000   \n",
       "mean       0.538908   63046.497661     43.293380      0.817236   \n",
       "std        1.381587  140827.311974     12.574584      0.548138   \n",
       "min       -1.000000  -18388.949901      0.000000      0.000000   \n",
       "25%        0.000000   -2747.423625     33.000000      1.000000   \n",
       "50%        0.000000   -1203.369529     42.000000      1.000000   \n",
       "75%        1.000000    -291.095954     53.000000      1.000000   \n",
       "max       20.000000  401755.400475     75.000000      4.000000   \n",
       "\n",
       "       family_status_id          debt   total_income  \n",
       "count      21525.000000  21525.000000   19351.000000  \n",
       "mean           0.972544      0.080883   26787.568355  \n",
       "std            1.420324      0.272661   16475.450632  \n",
       "min            0.000000      0.000000    3306.762000  \n",
       "25%            0.000000      0.000000   16488.504500  \n",
       "50%            0.000000      0.000000   23202.870000  \n",
       "75%            1.000000      0.000000   32549.611000  \n",
       "max            4.000000      1.000000  362496.645000  "
      ]
     },
     "execution_count": 2,
     "metadata": {},
     "output_type": "execute_result"
    }
   ],
   "source": [
    "# lendo o arquivo e armazenando em df\n",
    "df = pd.read_csv('Downloads/credit_scoring_eng.csv')\n",
    "df.describe()"
   ]
  },
  {
   "cell_type": "code",
   "execution_count": 3,
   "id": "eebbdea0-e005-4dd2-b391-85fb99d87e6b",
   "metadata": {
    "tags": []
   },
   "outputs": [
    {
     "data": {
      "text/html": [
       "<div>\n",
       "<style scoped>\n",
       "    .dataframe tbody tr th:only-of-type {\n",
       "        vertical-align: middle;\n",
       "    }\n",
       "\n",
       "    .dataframe tbody tr th {\n",
       "        vertical-align: top;\n",
       "    }\n",
       "\n",
       "    .dataframe thead th {\n",
       "        text-align: right;\n",
       "    }\n",
       "</style>\n",
       "<table border=\"1\" class=\"dataframe\">\n",
       "  <thead>\n",
       "    <tr style=\"text-align: right;\">\n",
       "      <th></th>\n",
       "      <th>children</th>\n",
       "      <th>days_employed</th>\n",
       "      <th>dob_years</th>\n",
       "      <th>education</th>\n",
       "      <th>education_id</th>\n",
       "      <th>family_status</th>\n",
       "      <th>family_status_id</th>\n",
       "      <th>gender</th>\n",
       "      <th>income_type</th>\n",
       "      <th>debt</th>\n",
       "      <th>total_income</th>\n",
       "      <th>purpose</th>\n",
       "    </tr>\n",
       "  </thead>\n",
       "  <tbody>\n",
       "    <tr>\n",
       "      <th>0</th>\n",
       "      <td>1</td>\n",
       "      <td>-8437.673028</td>\n",
       "      <td>42</td>\n",
       "      <td>bachelor's degree</td>\n",
       "      <td>0</td>\n",
       "      <td>married</td>\n",
       "      <td>0</td>\n",
       "      <td>F</td>\n",
       "      <td>employee</td>\n",
       "      <td>0</td>\n",
       "      <td>40620.102</td>\n",
       "      <td>purchase of the house</td>\n",
       "    </tr>\n",
       "    <tr>\n",
       "      <th>1</th>\n",
       "      <td>1</td>\n",
       "      <td>-4024.803754</td>\n",
       "      <td>36</td>\n",
       "      <td>secondary education</td>\n",
       "      <td>1</td>\n",
       "      <td>married</td>\n",
       "      <td>0</td>\n",
       "      <td>F</td>\n",
       "      <td>employee</td>\n",
       "      <td>0</td>\n",
       "      <td>17932.802</td>\n",
       "      <td>car purchase</td>\n",
       "    </tr>\n",
       "    <tr>\n",
       "      <th>2</th>\n",
       "      <td>0</td>\n",
       "      <td>-5623.422610</td>\n",
       "      <td>33</td>\n",
       "      <td>Secondary Education</td>\n",
       "      <td>1</td>\n",
       "      <td>married</td>\n",
       "      <td>0</td>\n",
       "      <td>M</td>\n",
       "      <td>employee</td>\n",
       "      <td>0</td>\n",
       "      <td>23341.752</td>\n",
       "      <td>purchase of the house</td>\n",
       "    </tr>\n",
       "    <tr>\n",
       "      <th>3</th>\n",
       "      <td>3</td>\n",
       "      <td>-4124.747207</td>\n",
       "      <td>32</td>\n",
       "      <td>secondary education</td>\n",
       "      <td>1</td>\n",
       "      <td>married</td>\n",
       "      <td>0</td>\n",
       "      <td>M</td>\n",
       "      <td>employee</td>\n",
       "      <td>0</td>\n",
       "      <td>42820.568</td>\n",
       "      <td>supplementary education</td>\n",
       "    </tr>\n",
       "    <tr>\n",
       "      <th>4</th>\n",
       "      <td>0</td>\n",
       "      <td>340266.072047</td>\n",
       "      <td>53</td>\n",
       "      <td>secondary education</td>\n",
       "      <td>1</td>\n",
       "      <td>civil partnership</td>\n",
       "      <td>1</td>\n",
       "      <td>F</td>\n",
       "      <td>retiree</td>\n",
       "      <td>0</td>\n",
       "      <td>25378.572</td>\n",
       "      <td>to have a wedding</td>\n",
       "    </tr>\n",
       "    <tr>\n",
       "      <th>5</th>\n",
       "      <td>0</td>\n",
       "      <td>-926.185831</td>\n",
       "      <td>27</td>\n",
       "      <td>bachelor's degree</td>\n",
       "      <td>0</td>\n",
       "      <td>civil partnership</td>\n",
       "      <td>1</td>\n",
       "      <td>M</td>\n",
       "      <td>business</td>\n",
       "      <td>0</td>\n",
       "      <td>40922.170</td>\n",
       "      <td>purchase of the house</td>\n",
       "    </tr>\n",
       "    <tr>\n",
       "      <th>6</th>\n",
       "      <td>0</td>\n",
       "      <td>-2879.202052</td>\n",
       "      <td>43</td>\n",
       "      <td>bachelor's degree</td>\n",
       "      <td>0</td>\n",
       "      <td>married</td>\n",
       "      <td>0</td>\n",
       "      <td>F</td>\n",
       "      <td>business</td>\n",
       "      <td>0</td>\n",
       "      <td>38484.156</td>\n",
       "      <td>housing transactions</td>\n",
       "    </tr>\n",
       "    <tr>\n",
       "      <th>7</th>\n",
       "      <td>0</td>\n",
       "      <td>-152.779569</td>\n",
       "      <td>50</td>\n",
       "      <td>SECONDARY EDUCATION</td>\n",
       "      <td>1</td>\n",
       "      <td>married</td>\n",
       "      <td>0</td>\n",
       "      <td>M</td>\n",
       "      <td>employee</td>\n",
       "      <td>0</td>\n",
       "      <td>21731.829</td>\n",
       "      <td>education</td>\n",
       "    </tr>\n",
       "    <tr>\n",
       "      <th>8</th>\n",
       "      <td>2</td>\n",
       "      <td>-6929.865299</td>\n",
       "      <td>35</td>\n",
       "      <td>BACHELOR'S DEGREE</td>\n",
       "      <td>0</td>\n",
       "      <td>civil partnership</td>\n",
       "      <td>1</td>\n",
       "      <td>F</td>\n",
       "      <td>employee</td>\n",
       "      <td>0</td>\n",
       "      <td>15337.093</td>\n",
       "      <td>having a wedding</td>\n",
       "    </tr>\n",
       "    <tr>\n",
       "      <th>9</th>\n",
       "      <td>0</td>\n",
       "      <td>-2188.756445</td>\n",
       "      <td>41</td>\n",
       "      <td>secondary education</td>\n",
       "      <td>1</td>\n",
       "      <td>married</td>\n",
       "      <td>0</td>\n",
       "      <td>M</td>\n",
       "      <td>employee</td>\n",
       "      <td>0</td>\n",
       "      <td>23108.150</td>\n",
       "      <td>purchase of the house for my family</td>\n",
       "    </tr>\n",
       "  </tbody>\n",
       "</table>\n",
       "</div>"
      ],
      "text/plain": [
       "   children  days_employed  dob_years            education  education_id  \\\n",
       "0         1   -8437.673028         42    bachelor's degree             0   \n",
       "1         1   -4024.803754         36  secondary education             1   \n",
       "2         0   -5623.422610         33  Secondary Education             1   \n",
       "3         3   -4124.747207         32  secondary education             1   \n",
       "4         0  340266.072047         53  secondary education             1   \n",
       "5         0    -926.185831         27    bachelor's degree             0   \n",
       "6         0   -2879.202052         43    bachelor's degree             0   \n",
       "7         0    -152.779569         50  SECONDARY EDUCATION             1   \n",
       "8         2   -6929.865299         35    BACHELOR'S DEGREE             0   \n",
       "9         0   -2188.756445         41  secondary education             1   \n",
       "\n",
       "       family_status  family_status_id gender income_type  debt  total_income  \\\n",
       "0            married                 0      F    employee     0     40620.102   \n",
       "1            married                 0      F    employee     0     17932.802   \n",
       "2            married                 0      M    employee     0     23341.752   \n",
       "3            married                 0      M    employee     0     42820.568   \n",
       "4  civil partnership                 1      F     retiree     0     25378.572   \n",
       "5  civil partnership                 1      M    business     0     40922.170   \n",
       "6            married                 0      F    business     0     38484.156   \n",
       "7            married                 0      M    employee     0     21731.829   \n",
       "8  civil partnership                 1      F    employee     0     15337.093   \n",
       "9            married                 0      M    employee     0     23108.150   \n",
       "\n",
       "                               purpose  \n",
       "0                purchase of the house  \n",
       "1                         car purchase  \n",
       "2                purchase of the house  \n",
       "3              supplementary education  \n",
       "4                    to have a wedding  \n",
       "5                purchase of the house  \n",
       "6                 housing transactions  \n",
       "7                            education  \n",
       "8                     having a wedding  \n",
       "9  purchase of the house for my family  "
      ]
     },
     "execution_count": 3,
     "metadata": {},
     "output_type": "execute_result"
    }
   ],
   "source": [
    "# obtenha as 10 primeiras linhas da tabela df\n",
    "df.head(10)"
   ]
  },
  {
   "cell_type": "code",
   "execution_count": null,
   "id": "ca52df41-3b64-4ea4-a635-61f65ddf993b",
   "metadata": {
    "tags": []
   },
   "outputs": [
    {
     "name": "stdout",
     "output_type": "stream",
     "text": [
      "<class 'pandas.core.frame.DataFrame'>\n",
      "RangeIndex: 21525 entries, 0 to 21524\n",
      "Data columns (total 12 columns):\n",
      " #   Column            Non-Null Count  Dtype  \n",
      "---  ------            --------------  -----  \n",
      " 0   children          21525 non-null  int64  \n",
      " 1   days_employed     19351 non-null  float64\n",
      " 2   dob_years         21525 non-null  int64  \n",
      " 3   education         21525 non-null  object \n",
      " 4   education_id      21525 non-null  int64  \n",
      " 5   family_status     21525 non-null  object \n",
      " 6   family_status_id  21525 non-null  int64  \n",
      " 7   gender            21525 non-null  object \n",
      " 8   income_type       21525 non-null  object \n",
      " 9   debt              21525 non-null  int64  \n",
      " 10  total_income      19351 non-null  float64\n",
      " 11  purpose           21525 non-null  object \n",
      "dtypes: float64(2), int64(5), object(5)\n",
      "memory usage: 2.0+ MB\n"
     ]
    }
   ],
   "source": [
    "# obtendo informações gerais sobre os dados em df\n",
    "df.info()"
   ]
  },
  {
   "cell_type": "markdown",
   "id": "c1d9d8e7-97a1-4e95-a010-e81692713fbc",
   "metadata": {},
   "source": [
    "A tabela contém 12 colunas. Elas armazenam 3 tipos de dados diferentes: object, int64 e float.\n",
    "\n",
    "- `children` - int64\n",
    "- `days_employed` - float64\n",
    "- `dob_years` - int64\n",
    "- `education` - object\n",
    "- `education_id` - int64\n",
    "- `family_status` - object\n",
    "- `family_status_id` - int64\n",
    "- `gender` - object\n",
    "- `income_type` - object\n",
    "- `debt` - int64\n",
    "- `total_income` - float64\n",
    "- `purpose` - object"
   ]
  },
  {
   "cell_type": "markdown",
   "id": "f7720c66-9855-42de-a336-e6f1dd97e701",
   "metadata": {},
   "source": [
    "### Primeiras conclusões <a id='data_review_conclusions'></a> \n",
    "Como podemos observar não existe algum erro sobre o estilo da colunas.\n",
    "A quantidade de valores das colunas é diferente. Isso significa que os dados contém valores ausentes."
   ]
  },
  {
   "cell_type": "markdown",
   "id": "5fe75637-d8ce-449e-8bee-efc7f17ac86a",
   "metadata": {},
   "source": [
    "[Voltar ao Índice](#back)"
   ]
  },
  {
   "cell_type": "markdown",
   "id": "e1c1f86a-ecb8-4de7-829f-40b5ad537c2c",
   "metadata": {
    "tags": []
   },
   "source": [
    "## Etapa 2. Pré-processar dados <a id='data_preprocessing'></a>"
   ]
  },
  {
   "cell_type": "markdown",
   "id": "9c14fa21-f3c3-4ad6-b628-c57116de2de6",
   "metadata": {},
   "source": [
    "### Duplicatas <a id='duplicates'></a>\n",
    "Encontre o número de duplicatas óbvias na tabela usando um comando:"
   ]
  },
  {
   "cell_type": "code",
   "execution_count": 5,
   "id": "0dd58be9-365f-4b8c-9cb0-a1a4010996dd",
   "metadata": {
    "tags": []
   },
   "outputs": [
    {
     "data": {
      "text/plain": [
       "54"
      ]
     },
     "execution_count": 5,
     "metadata": {},
     "output_type": "execute_result"
    }
   ],
   "source": [
    "# contando duplicatas claras\n",
    "df.duplicated().sum()"
   ]
  },
  {
   "cell_type": "code",
   "execution_count": 6,
   "id": "c3ea6094-e27c-4820-a4ee-cdd7654784dc",
   "metadata": {
    "tags": []
   },
   "outputs": [],
   "source": [
    "# removendo duplicatas óbvias\n",
    "df.drop_duplicates(inplace=True)"
   ]
  },
  {
   "cell_type": "markdown",
   "id": "eaaf8725-8b77-4665-a0c7-1f4f7af1c227",
   "metadata": {},
   "source": [
    "Certificando que você removeu as duplicatas óbvias:"
   ]
  },
  {
   "cell_type": "code",
   "execution_count": 7,
   "id": "960a0e99-05eb-4cf0-a721-3ebf98f4ae7b",
   "metadata": {
    "tags": []
   },
   "outputs": [
    {
     "data": {
      "text/plain": [
       "0"
      ]
     },
     "execution_count": 7,
     "metadata": {},
     "output_type": "execute_result"
    }
   ],
   "source": [
    "# verificando duplicatas\n",
    "df.duplicated().sum()"
   ]
  },
  {
   "cell_type": "markdown",
   "id": "467d2a76-94f9-4a8e-b9bc-0e9f144f88eb",
   "metadata": {},
   "source": [
    "[Voltar ao Índice](#back)"
   ]
  },
  {
   "cell_type": "markdown",
   "id": "e0707e25-ed30-4fb3-8c75-d2f4274d4502",
   "metadata": {},
   "source": [
    "### Valores ausentes <a id='missing_values'></a>\n",
    "Há valores ausentes em duas colunas 'days_employed' e 'total_income', que afetam diretamente em nossa pesquisa. Vamos investigar mais anter de substituí-los por marcadores claros."
   ]
  },
  {
   "cell_type": "code",
   "execution_count": 8,
   "id": "6f3dd8cf-8af8-46bc-b634-01691bc02aee",
   "metadata": {
    "tags": []
   },
   "outputs": [
    {
     "data": {
      "text/html": [
       "<div>\n",
       "<style scoped>\n",
       "    .dataframe tbody tr th:only-of-type {\n",
       "        vertical-align: middle;\n",
       "    }\n",
       "\n",
       "    .dataframe tbody tr th {\n",
       "        vertical-align: top;\n",
       "    }\n",
       "\n",
       "    .dataframe thead th {\n",
       "        text-align: right;\n",
       "    }\n",
       "</style>\n",
       "<table border=\"1\" class=\"dataframe\">\n",
       "  <thead>\n",
       "    <tr style=\"text-align: right;\">\n",
       "      <th></th>\n",
       "      <th>children</th>\n",
       "      <th>days_employed</th>\n",
       "      <th>dob_years</th>\n",
       "      <th>education</th>\n",
       "      <th>education_id</th>\n",
       "      <th>family_status</th>\n",
       "      <th>family_status_id</th>\n",
       "      <th>gender</th>\n",
       "      <th>income_type</th>\n",
       "      <th>debt</th>\n",
       "      <th>total_income</th>\n",
       "      <th>purpose</th>\n",
       "    </tr>\n",
       "  </thead>\n",
       "  <tbody>\n",
       "    <tr>\n",
       "      <th>12</th>\n",
       "      <td>0</td>\n",
       "      <td>NaN</td>\n",
       "      <td>65</td>\n",
       "      <td>secondary education</td>\n",
       "      <td>1</td>\n",
       "      <td>civil partnership</td>\n",
       "      <td>1</td>\n",
       "      <td>M</td>\n",
       "      <td>retiree</td>\n",
       "      <td>0</td>\n",
       "      <td>NaN</td>\n",
       "      <td>to have a wedding</td>\n",
       "    </tr>\n",
       "    <tr>\n",
       "      <th>26</th>\n",
       "      <td>0</td>\n",
       "      <td>NaN</td>\n",
       "      <td>41</td>\n",
       "      <td>secondary education</td>\n",
       "      <td>1</td>\n",
       "      <td>married</td>\n",
       "      <td>0</td>\n",
       "      <td>M</td>\n",
       "      <td>civil servant</td>\n",
       "      <td>0</td>\n",
       "      <td>NaN</td>\n",
       "      <td>education</td>\n",
       "    </tr>\n",
       "    <tr>\n",
       "      <th>29</th>\n",
       "      <td>0</td>\n",
       "      <td>NaN</td>\n",
       "      <td>63</td>\n",
       "      <td>secondary education</td>\n",
       "      <td>1</td>\n",
       "      <td>unmarried</td>\n",
       "      <td>4</td>\n",
       "      <td>F</td>\n",
       "      <td>retiree</td>\n",
       "      <td>0</td>\n",
       "      <td>NaN</td>\n",
       "      <td>building a real estate</td>\n",
       "    </tr>\n",
       "    <tr>\n",
       "      <th>41</th>\n",
       "      <td>0</td>\n",
       "      <td>NaN</td>\n",
       "      <td>50</td>\n",
       "      <td>secondary education</td>\n",
       "      <td>1</td>\n",
       "      <td>married</td>\n",
       "      <td>0</td>\n",
       "      <td>F</td>\n",
       "      <td>civil servant</td>\n",
       "      <td>0</td>\n",
       "      <td>NaN</td>\n",
       "      <td>second-hand car purchase</td>\n",
       "    </tr>\n",
       "    <tr>\n",
       "      <th>55</th>\n",
       "      <td>0</td>\n",
       "      <td>NaN</td>\n",
       "      <td>54</td>\n",
       "      <td>secondary education</td>\n",
       "      <td>1</td>\n",
       "      <td>civil partnership</td>\n",
       "      <td>1</td>\n",
       "      <td>F</td>\n",
       "      <td>retiree</td>\n",
       "      <td>1</td>\n",
       "      <td>NaN</td>\n",
       "      <td>to have a wedding</td>\n",
       "    </tr>\n",
       "    <tr>\n",
       "      <th>...</th>\n",
       "      <td>...</td>\n",
       "      <td>...</td>\n",
       "      <td>...</td>\n",
       "      <td>...</td>\n",
       "      <td>...</td>\n",
       "      <td>...</td>\n",
       "      <td>...</td>\n",
       "      <td>...</td>\n",
       "      <td>...</td>\n",
       "      <td>...</td>\n",
       "      <td>...</td>\n",
       "      <td>...</td>\n",
       "    </tr>\n",
       "    <tr>\n",
       "      <th>21489</th>\n",
       "      <td>2</td>\n",
       "      <td>NaN</td>\n",
       "      <td>47</td>\n",
       "      <td>Secondary Education</td>\n",
       "      <td>1</td>\n",
       "      <td>married</td>\n",
       "      <td>0</td>\n",
       "      <td>M</td>\n",
       "      <td>business</td>\n",
       "      <td>0</td>\n",
       "      <td>NaN</td>\n",
       "      <td>purchase of a car</td>\n",
       "    </tr>\n",
       "    <tr>\n",
       "      <th>21495</th>\n",
       "      <td>1</td>\n",
       "      <td>NaN</td>\n",
       "      <td>50</td>\n",
       "      <td>secondary education</td>\n",
       "      <td>1</td>\n",
       "      <td>civil partnership</td>\n",
       "      <td>1</td>\n",
       "      <td>F</td>\n",
       "      <td>employee</td>\n",
       "      <td>0</td>\n",
       "      <td>NaN</td>\n",
       "      <td>wedding ceremony</td>\n",
       "    </tr>\n",
       "    <tr>\n",
       "      <th>21497</th>\n",
       "      <td>0</td>\n",
       "      <td>NaN</td>\n",
       "      <td>48</td>\n",
       "      <td>BACHELOR'S DEGREE</td>\n",
       "      <td>0</td>\n",
       "      <td>married</td>\n",
       "      <td>0</td>\n",
       "      <td>F</td>\n",
       "      <td>business</td>\n",
       "      <td>0</td>\n",
       "      <td>NaN</td>\n",
       "      <td>building a property</td>\n",
       "    </tr>\n",
       "    <tr>\n",
       "      <th>21502</th>\n",
       "      <td>1</td>\n",
       "      <td>NaN</td>\n",
       "      <td>42</td>\n",
       "      <td>secondary education</td>\n",
       "      <td>1</td>\n",
       "      <td>married</td>\n",
       "      <td>0</td>\n",
       "      <td>F</td>\n",
       "      <td>employee</td>\n",
       "      <td>0</td>\n",
       "      <td>NaN</td>\n",
       "      <td>building a real estate</td>\n",
       "    </tr>\n",
       "    <tr>\n",
       "      <th>21510</th>\n",
       "      <td>2</td>\n",
       "      <td>NaN</td>\n",
       "      <td>28</td>\n",
       "      <td>secondary education</td>\n",
       "      <td>1</td>\n",
       "      <td>married</td>\n",
       "      <td>0</td>\n",
       "      <td>F</td>\n",
       "      <td>employee</td>\n",
       "      <td>0</td>\n",
       "      <td>NaN</td>\n",
       "      <td>car purchase</td>\n",
       "    </tr>\n",
       "  </tbody>\n",
       "</table>\n",
       "<p>2120 rows × 12 columns</p>\n",
       "</div>"
      ],
      "text/plain": [
       "       children  days_employed  dob_years            education  education_id  \\\n",
       "12            0            NaN         65  secondary education             1   \n",
       "26            0            NaN         41  secondary education             1   \n",
       "29            0            NaN         63  secondary education             1   \n",
       "41            0            NaN         50  secondary education             1   \n",
       "55            0            NaN         54  secondary education             1   \n",
       "...         ...            ...        ...                  ...           ...   \n",
       "21489         2            NaN         47  Secondary Education             1   \n",
       "21495         1            NaN         50  secondary education             1   \n",
       "21497         0            NaN         48    BACHELOR'S DEGREE             0   \n",
       "21502         1            NaN         42  secondary education             1   \n",
       "21510         2            NaN         28  secondary education             1   \n",
       "\n",
       "           family_status  family_status_id gender    income_type  debt  \\\n",
       "12     civil partnership                 1      M        retiree     0   \n",
       "26               married                 0      M  civil servant     0   \n",
       "29             unmarried                 4      F        retiree     0   \n",
       "41               married                 0      F  civil servant     0   \n",
       "55     civil partnership                 1      F        retiree     1   \n",
       "...                  ...               ...    ...            ...   ...   \n",
       "21489            married                 0      M       business     0   \n",
       "21495  civil partnership                 1      F       employee     0   \n",
       "21497            married                 0      F       business     0   \n",
       "21502            married                 0      F       employee     0   \n",
       "21510            married                 0      F       employee     0   \n",
       "\n",
       "       total_income                   purpose  \n",
       "12              NaN         to have a wedding  \n",
       "26              NaN                 education  \n",
       "29              NaN    building a real estate  \n",
       "41              NaN  second-hand car purchase  \n",
       "55              NaN         to have a wedding  \n",
       "...             ...                       ...  \n",
       "21489           NaN         purchase of a car  \n",
       "21495           NaN          wedding ceremony  \n",
       "21497           NaN       building a property  \n",
       "21502           NaN    building a real estate  \n",
       "21510           NaN              car purchase  \n",
       "\n",
       "[2120 rows x 12 columns]"
      ]
     },
     "execution_count": 8,
     "metadata": {},
     "output_type": "execute_result"
    }
   ],
   "source": [
    "# Vejamos a tabela filtrada com valores ausentes na primeira coluna com dados ausentes\n",
    "df[df['days_employed'].isna()]"
   ]
  },
  {
   "cell_type": "markdown",
   "id": "5bffbc54-b708-49d0-99f6-6a1babe6ceb4",
   "metadata": {
    "tags": []
   },
   "source": [
    "Os valores ausentes parecem simétricos, mas podemos ter a certeza quando compararmos a quantidade de linhas e valores nulos das duas colunas simultaneamente."
   ]
  },
  {
   "cell_type": "code",
   "execution_count": 9,
   "id": "d9e47f1c-44ef-4f8f-907e-ccc57a37de1e",
   "metadata": {
    "tags": []
   },
   "outputs": [
    {
     "data": {
      "text/plain": [
       "children               0\n",
       "days_employed       2120\n",
       "dob_years              0\n",
       "education              0\n",
       "education_id           0\n",
       "family_status          0\n",
       "family_status_id       0\n",
       "gender                 0\n",
       "income_type            0\n",
       "debt                   0\n",
       "total_income        2120\n",
       "purpose                0\n",
       "dtype: int64"
      ]
     },
     "execution_count": 9,
     "metadata": {},
     "output_type": "execute_result"
    }
   ],
   "source": [
    "# Vamos filtrar dados e observar o número de linhas na tabela filtrada quando os valores são nulos.\n",
    "df.isna().sum()"
   ]
  },
  {
   "cell_type": "markdown",
   "id": "242b6f18-2518-4a1f-a18c-73cbb7ea095a",
   "metadata": {},
   "source": [
    "### Conclusões intermediárias <a id='data_preprocessing_conclusions_intermediary'></a>\n",
    "\n",
    "\n",
    "O número de linhas na tabela filtrada corresponde ao número de valores ausentes nas duas colunas, mas não podemos concluir que sejam as mesmas linhas que estejam nulas simultaneamente.\n",
    "\n",
    "\n",
    "Iremos calcular a porcentagem desses valores faltantes em relação com o nosso conjunto de dados, para verificarmos se podemos preencher e se os dados ausentes podem ser devidos à característica específica do cliente.\n",
    "contudo precisamos de mais verificações para nosso diagnóstico ser mais preciso."
   ]
  },
  {
   "cell_type": "markdown",
   "id": "729cac45-df3b-4bd9-9967-9ac35a2ffbce",
   "metadata": {},
   "source": [
    "[Voltar ao Índice](#back)"
   ]
  },
  {
   "cell_type": "code",
   "execution_count": 10,
   "id": "c2c93546-190a-4161-b50e-6d9e572b675a",
   "metadata": {
    "tags": []
   },
   "outputs": [
    {
     "data": {
      "text/plain": [
       "children            0.000000\n",
       "days_employed       9.873783\n",
       "dob_years           0.000000\n",
       "education           0.000000\n",
       "education_id        0.000000\n",
       "family_status       0.000000\n",
       "family_status_id    0.000000\n",
       "gender              0.000000\n",
       "income_type         0.000000\n",
       "debt                0.000000\n",
       "total_income        9.873783\n",
       "purpose             0.000000\n",
       "dtype: float64"
      ]
     },
     "execution_count": 10,
     "metadata": {},
     "output_type": "execute_result"
    }
   ],
   "source": [
    "# Vamos calcular a porcentagem desses valores faltantes em relação com o nosso conjunto de dados\n",
    "(df.isnull().sum() / df.shape[0]) * 100"
   ]
  },
  {
   "cell_type": "code",
   "execution_count": 11,
   "id": "1a7d8b56-1740-49c5-a40f-5e2bf727e840",
   "metadata": {
    "tags": []
   },
   "outputs": [
    {
     "data": {
      "text/html": [
       "<div>\n",
       "<style scoped>\n",
       "    .dataframe tbody tr th:only-of-type {\n",
       "        vertical-align: middle;\n",
       "    }\n",
       "\n",
       "    .dataframe tbody tr th {\n",
       "        vertical-align: top;\n",
       "    }\n",
       "\n",
       "    .dataframe thead th {\n",
       "        text-align: right;\n",
       "    }\n",
       "</style>\n",
       "<table border=\"1\" class=\"dataframe\">\n",
       "  <thead>\n",
       "    <tr style=\"text-align: right;\">\n",
       "      <th></th>\n",
       "      <th>children</th>\n",
       "      <th>days_employed</th>\n",
       "      <th>dob_years</th>\n",
       "      <th>education</th>\n",
       "      <th>education_id</th>\n",
       "      <th>family_status</th>\n",
       "      <th>family_status_id</th>\n",
       "      <th>gender</th>\n",
       "      <th>income_type</th>\n",
       "      <th>debt</th>\n",
       "      <th>total_income</th>\n",
       "      <th>purpose</th>\n",
       "    </tr>\n",
       "  </thead>\n",
       "  <tbody>\n",
       "    <tr>\n",
       "      <th>12</th>\n",
       "      <td>0</td>\n",
       "      <td>NaN</td>\n",
       "      <td>65</td>\n",
       "      <td>secondary education</td>\n",
       "      <td>1</td>\n",
       "      <td>civil partnership</td>\n",
       "      <td>1</td>\n",
       "      <td>M</td>\n",
       "      <td>retiree</td>\n",
       "      <td>0</td>\n",
       "      <td>NaN</td>\n",
       "      <td>to have a wedding</td>\n",
       "    </tr>\n",
       "    <tr>\n",
       "      <th>26</th>\n",
       "      <td>0</td>\n",
       "      <td>NaN</td>\n",
       "      <td>41</td>\n",
       "      <td>secondary education</td>\n",
       "      <td>1</td>\n",
       "      <td>married</td>\n",
       "      <td>0</td>\n",
       "      <td>M</td>\n",
       "      <td>civil servant</td>\n",
       "      <td>0</td>\n",
       "      <td>NaN</td>\n",
       "      <td>education</td>\n",
       "    </tr>\n",
       "    <tr>\n",
       "      <th>29</th>\n",
       "      <td>0</td>\n",
       "      <td>NaN</td>\n",
       "      <td>63</td>\n",
       "      <td>secondary education</td>\n",
       "      <td>1</td>\n",
       "      <td>unmarried</td>\n",
       "      <td>4</td>\n",
       "      <td>F</td>\n",
       "      <td>retiree</td>\n",
       "      <td>0</td>\n",
       "      <td>NaN</td>\n",
       "      <td>building a real estate</td>\n",
       "    </tr>\n",
       "    <tr>\n",
       "      <th>41</th>\n",
       "      <td>0</td>\n",
       "      <td>NaN</td>\n",
       "      <td>50</td>\n",
       "      <td>secondary education</td>\n",
       "      <td>1</td>\n",
       "      <td>married</td>\n",
       "      <td>0</td>\n",
       "      <td>F</td>\n",
       "      <td>civil servant</td>\n",
       "      <td>0</td>\n",
       "      <td>NaN</td>\n",
       "      <td>second-hand car purchase</td>\n",
       "    </tr>\n",
       "    <tr>\n",
       "      <th>55</th>\n",
       "      <td>0</td>\n",
       "      <td>NaN</td>\n",
       "      <td>54</td>\n",
       "      <td>secondary education</td>\n",
       "      <td>1</td>\n",
       "      <td>civil partnership</td>\n",
       "      <td>1</td>\n",
       "      <td>F</td>\n",
       "      <td>retiree</td>\n",
       "      <td>1</td>\n",
       "      <td>NaN</td>\n",
       "      <td>to have a wedding</td>\n",
       "    </tr>\n",
       "    <tr>\n",
       "      <th>...</th>\n",
       "      <td>...</td>\n",
       "      <td>...</td>\n",
       "      <td>...</td>\n",
       "      <td>...</td>\n",
       "      <td>...</td>\n",
       "      <td>...</td>\n",
       "      <td>...</td>\n",
       "      <td>...</td>\n",
       "      <td>...</td>\n",
       "      <td>...</td>\n",
       "      <td>...</td>\n",
       "      <td>...</td>\n",
       "    </tr>\n",
       "    <tr>\n",
       "      <th>21489</th>\n",
       "      <td>2</td>\n",
       "      <td>NaN</td>\n",
       "      <td>47</td>\n",
       "      <td>Secondary Education</td>\n",
       "      <td>1</td>\n",
       "      <td>married</td>\n",
       "      <td>0</td>\n",
       "      <td>M</td>\n",
       "      <td>business</td>\n",
       "      <td>0</td>\n",
       "      <td>NaN</td>\n",
       "      <td>purchase of a car</td>\n",
       "    </tr>\n",
       "    <tr>\n",
       "      <th>21495</th>\n",
       "      <td>1</td>\n",
       "      <td>NaN</td>\n",
       "      <td>50</td>\n",
       "      <td>secondary education</td>\n",
       "      <td>1</td>\n",
       "      <td>civil partnership</td>\n",
       "      <td>1</td>\n",
       "      <td>F</td>\n",
       "      <td>employee</td>\n",
       "      <td>0</td>\n",
       "      <td>NaN</td>\n",
       "      <td>wedding ceremony</td>\n",
       "    </tr>\n",
       "    <tr>\n",
       "      <th>21497</th>\n",
       "      <td>0</td>\n",
       "      <td>NaN</td>\n",
       "      <td>48</td>\n",
       "      <td>BACHELOR'S DEGREE</td>\n",
       "      <td>0</td>\n",
       "      <td>married</td>\n",
       "      <td>0</td>\n",
       "      <td>F</td>\n",
       "      <td>business</td>\n",
       "      <td>0</td>\n",
       "      <td>NaN</td>\n",
       "      <td>building a property</td>\n",
       "    </tr>\n",
       "    <tr>\n",
       "      <th>21502</th>\n",
       "      <td>1</td>\n",
       "      <td>NaN</td>\n",
       "      <td>42</td>\n",
       "      <td>secondary education</td>\n",
       "      <td>1</td>\n",
       "      <td>married</td>\n",
       "      <td>0</td>\n",
       "      <td>F</td>\n",
       "      <td>employee</td>\n",
       "      <td>0</td>\n",
       "      <td>NaN</td>\n",
       "      <td>building a real estate</td>\n",
       "    </tr>\n",
       "    <tr>\n",
       "      <th>21510</th>\n",
       "      <td>2</td>\n",
       "      <td>NaN</td>\n",
       "      <td>28</td>\n",
       "      <td>secondary education</td>\n",
       "      <td>1</td>\n",
       "      <td>married</td>\n",
       "      <td>0</td>\n",
       "      <td>F</td>\n",
       "      <td>employee</td>\n",
       "      <td>0</td>\n",
       "      <td>NaN</td>\n",
       "      <td>car purchase</td>\n",
       "    </tr>\n",
       "  </tbody>\n",
       "</table>\n",
       "<p>2120 rows × 12 columns</p>\n",
       "</div>"
      ],
      "text/plain": [
       "       children  days_employed  dob_years            education  education_id  \\\n",
       "12            0            NaN         65  secondary education             1   \n",
       "26            0            NaN         41  secondary education             1   \n",
       "29            0            NaN         63  secondary education             1   \n",
       "41            0            NaN         50  secondary education             1   \n",
       "55            0            NaN         54  secondary education             1   \n",
       "...         ...            ...        ...                  ...           ...   \n",
       "21489         2            NaN         47  Secondary Education             1   \n",
       "21495         1            NaN         50  secondary education             1   \n",
       "21497         0            NaN         48    BACHELOR'S DEGREE             0   \n",
       "21502         1            NaN         42  secondary education             1   \n",
       "21510         2            NaN         28  secondary education             1   \n",
       "\n",
       "           family_status  family_status_id gender    income_type  debt  \\\n",
       "12     civil partnership                 1      M        retiree     0   \n",
       "26               married                 0      M  civil servant     0   \n",
       "29             unmarried                 4      F        retiree     0   \n",
       "41               married                 0      F  civil servant     0   \n",
       "55     civil partnership                 1      F        retiree     1   \n",
       "...                  ...               ...    ...            ...   ...   \n",
       "21489            married                 0      M       business     0   \n",
       "21495  civil partnership                 1      F       employee     0   \n",
       "21497            married                 0      F       business     0   \n",
       "21502            married                 0      F       employee     0   \n",
       "21510            married                 0      F       employee     0   \n",
       "\n",
       "       total_income                   purpose  \n",
       "12              NaN         to have a wedding  \n",
       "26              NaN                 education  \n",
       "29              NaN    building a real estate  \n",
       "41              NaN  second-hand car purchase  \n",
       "55              NaN         to have a wedding  \n",
       "...             ...                       ...  \n",
       "21489           NaN         purchase of a car  \n",
       "21495           NaN          wedding ceremony  \n",
       "21497           NaN       building a property  \n",
       "21502           NaN    building a real estate  \n",
       "21510           NaN              car purchase  \n",
       "\n",
       "[2120 rows x 12 columns]"
      ]
     },
     "execution_count": 11,
     "metadata": {},
     "output_type": "execute_result"
    }
   ],
   "source": [
    "# Verificar a distribuição\n",
    "df_null = df[df['days_employed'].isnull() & df['total_income'].isnull()]\n",
    "df_null"
   ]
  },
  {
   "cell_type": "markdown",
   "id": "0e6e9e7e-caa3-4787-9020-f2bb0d8847ea",
   "metadata": {},
   "source": [
    "Vimos que nas mesma linhas encontra-se o valor ausente para 'days_employed' e 'total_income',\n",
    "\n",
    "**Possíveis motivos para valores ausentes nos dados**\n",
    "\n",
    "Já descosbrimos que são simétricos nas duas colunas.\n",
    "\n",
    "Vamos começar a verificar se os valores ausentes são aleatórios."
   ]
  },
  {
   "cell_type": "code",
   "execution_count": 12,
   "id": "654eb2ec-eb8a-4857-91bb-de68b528e69c",
   "metadata": {
    "tags": []
   },
   "outputs": [
    {
     "data": {
      "text/plain": [
       "income_type\n",
       "employee                       11091\n",
       "business                        5080\n",
       "retiree                         3837\n",
       "civil servant                   1457\n",
       "unemployed                         2\n",
       "entrepreneur                       2\n",
       "student                            1\n",
       "paternity / maternity leave        1\n",
       "Name: count, dtype: int64"
      ]
     },
     "execution_count": 12,
     "metadata": {},
     "output_type": "execute_result"
    }
   ],
   "source": [
    "# Verificar a distribuição em todo o conjunto de dados\n",
    "df['income_type'].value_counts()\n"
   ]
  },
  {
   "cell_type": "code",
   "execution_count": 13,
   "id": "daabca3d-66fd-4f95-b27f-3ef57a6c6aee",
   "metadata": {
    "tags": []
   },
   "outputs": [
    {
     "data": {
      "text/plain": [
       "income_type\n",
       "employee         0.508019\n",
       "business         0.237264\n",
       "retiree          0.185849\n",
       "civil servant    0.068396\n",
       "entrepreneur     0.000472\n",
       "Name: proportion, dtype: float64"
      ]
     },
     "execution_count": 13,
     "metadata": {},
     "output_type": "execute_result"
    }
   ],
   "source": [
    "# Verificar a distribuição em todo o conjunto de dados em porcetagem\n",
    "df_null['income_type'].value_counts(normalize=True)"
   ]
  },
  {
   "cell_type": "markdown",
   "id": "a8bdd6c8-5d71-4b4c-863e-40f34dad025a",
   "metadata": {},
   "source": [
    "### Conclusões <a id='data_preprocessing_conclusions'></a>"
   ]
  },
  {
   "cell_type": "markdown",
   "id": "02d66f1d-638b-465b-a8a5-73fa72169ebb",
   "metadata": {},
   "source": [
    "Podemos concluir que os valores ausentes correspodem as em 10% do nosso arquivo de dados e que estão faltantes em duas colunas 'days_employed' e 'total_income', podemos afirmar que valores são simétricos em relação tanto para as colunas faltantes e para o arquivo em geral.\n",
    "\n",
    "Isso pode ter sido ocasionado por algum erro na corversão de dados, sendo dessa forma podemos fazer filtragem e preencher os valores ausentes com base nas colunas com dados não ausentes . \n",
    "\n",
    "Primeiramente, sobre tudo temos que preparar o arquivo de dados e remover as duplicatas, registros diferentes, artefatos incorretos antes de substituir os valores ausentes."
   ]
  },
  {
   "cell_type": "markdown",
   "id": "d3cceb65-7525-44b0-a57f-e8ea5937f80b",
   "metadata": {},
   "source": [
    "[Voltar ao Índice](#back)"
   ]
  },
  {
   "cell_type": "markdown",
   "id": "0c7045a8-92d3-46d0-86a7-b959a7ae754d",
   "metadata": {},
   "source": [
    "## Etapa 3. Transformação de dados <a id='tranforamation_data'></a>\n",
    "\n",
    "Vamos examinar cada coluna para ver quais problemas podemos ter nelas."
   ]
  },
  {
   "cell_type": "markdown",
   "id": "9b157816-fd3f-4995-9e58-e20cf67e533d",
   "metadata": {
    "tags": []
   },
   "source": [
    "### Tranformações nas colunas <a id='transformation_columns'></a>"
   ]
  },
  {
   "cell_type": "markdown",
   "id": "1d776a9b-bbc1-4aba-b36f-eaf83778aa6b",
   "metadata": {
    "tags": []
   },
   "source": [
    "Vamos verificar os dados na coluna education"
   ]
  },
  {
   "cell_type": "code",
   "execution_count": 14,
   "id": "0578083d-6478-4b12-96f2-5dc500f0b120",
   "metadata": {
    "tags": []
   },
   "outputs": [
    {
     "data": {
      "text/plain": [
       "array([\"bachelor's degree\", 'secondary education', 'Secondary Education',\n",
       "       'SECONDARY EDUCATION', \"BACHELOR'S DEGREE\", 'some college',\n",
       "       'primary education', \"Bachelor's Degree\", 'SOME COLLEGE',\n",
       "       'Some College', 'PRIMARY EDUCATION', 'Primary Education',\n",
       "       'Graduate Degree', 'GRADUATE DEGREE', 'graduate degree'],\n",
       "      dtype=object)"
      ]
     },
     "execution_count": 14,
     "metadata": {},
     "output_type": "execute_result"
    }
   ],
   "source": [
    "# Vamos ver todos os valores na coluna de educação para verificar se e quais grafias precisarão ser corrigidas\n",
    "df['education'].unique()"
   ]
  },
  {
   "cell_type": "code",
   "execution_count": 15,
   "id": "435b9380-3b90-424c-9217-df2b75b42c4d",
   "metadata": {
    "tags": []
   },
   "outputs": [],
   "source": [
    "# Corrija os registros\n",
    "df['education'] = df['education'].str.lower()"
   ]
  },
  {
   "cell_type": "code",
   "execution_count": 16,
   "id": "905e1e87-1a11-4a43-ac16-e53aecfda9d9",
   "metadata": {
    "tags": []
   },
   "outputs": [
    {
     "data": {
      "text/plain": [
       "array([\"bachelor's degree\", 'secondary education', 'some college',\n",
       "       'primary education', 'graduate degree'], dtype=object)"
      ]
     },
     "execution_count": 16,
     "metadata": {},
     "output_type": "execute_result"
    }
   ],
   "source": [
    "# Verificando todos os valores na coluna para ter certeza de que os corrigimos\n",
    "df['education'].unique()"
   ]
  },
  {
   "cell_type": "markdown",
   "id": "49a8faa0-882b-4578-ac47-900884faa667",
   "metadata": {},
   "source": [
    "Vamos verificar os dados na coluna `children`"
   ]
  },
  {
   "cell_type": "code",
   "execution_count": 17,
   "id": "457ce58b-d2dc-4c4b-874b-b7f36cade27f",
   "metadata": {
    "tags": []
   },
   "outputs": [
    {
     "data": {
      "text/plain": [
       "array([ 1,  0,  3,  2, -1,  4, 20,  5], dtype=int64)"
      ]
     },
     "execution_count": 17,
     "metadata": {},
     "output_type": "execute_result"
    }
   ],
   "source": [
    "# Vamos ver a distribuição de valores na coluna `children`\n",
    "df['children'].unique()"
   ]
  },
  {
   "cell_type": "markdown",
   "id": "428446e1-7f5d-4947-a227-a7b90d3e52ec",
   "metadata": {},
   "source": [
    "Podemos notar que há valores desproporcionais e valores negativos, eles podem ter ocorrido por um erro de digitação.Vamos corrigi-los."
   ]
  },
  {
   "cell_type": "code",
   "execution_count": 18,
   "id": "bb2e5c08-9b1e-4129-88cb-16dd3f652ac5",
   "metadata": {
    "tags": []
   },
   "outputs": [],
   "source": [
    "# [corrija os dados com base na sua decisão]\n",
    "df['children'] = abs(df['children'])\n",
    "df['children'] = df['children'].replace(20,2)"
   ]
  },
  {
   "cell_type": "code",
   "execution_count": 19,
   "id": "d8a050a9-10ee-4a82-ba37-789b5c324fef",
   "metadata": {
    "tags": []
   },
   "outputs": [
    {
     "data": {
      "text/plain": [
       "array([1, 0, 3, 2, 4, 5], dtype=int64)"
      ]
     },
     "execution_count": 19,
     "metadata": {},
     "output_type": "execute_result"
    }
   ],
   "source": [
    "# Verificar a coluna `children` novamente para ter certeza de que está tudo corrigido\n",
    "df['children'].unique()\n"
   ]
  },
  {
   "cell_type": "markdown",
   "id": "b9d644f2-d6f2-4659-8d10-fda5154b7da1",
   "metadata": {
    "tags": []
   },
   "source": [
    "Vamos verificar os dados na coluna days_employed."
   ]
  },
  {
   "cell_type": "code",
   "execution_count": 20,
   "id": "21962af6-4ef8-4058-b85c-f9f798b3d9b6",
   "metadata": {
    "tags": []
   },
   "outputs": [
    {
     "data": {
      "text/plain": [
       "count     19351.000000\n",
       "mean      63046.497661\n",
       "std      140827.311974\n",
       "min      -18388.949901\n",
       "25%       -2747.423625\n",
       "50%       -1203.369529\n",
       "75%        -291.095954\n",
       "max      401755.400475\n",
       "Name: days_employed, dtype: float64"
      ]
     },
     "execution_count": 20,
     "metadata": {},
     "output_type": "execute_result"
    }
   ],
   "source": [
    "# Encontre dados problemáticos em `days_employed`, se existirem, e calcule a porcentagem\n",
    "df['days_employed'].describe()"
   ]
  },
  {
   "cell_type": "markdown",
   "id": "61e66707-b502-470c-9dcb-ab3403da2cca",
   "metadata": {},
   "source": [
    "14364 é o valor máximo que uma pessoa possa trabalhar, levando em consideraçao que a maior idade é 75, e começou a trabalhar a partir do 18 anos, logo multiplico pelo dias uteis no ano(252) que resulta em 14364."
   ]
  },
  {
   "cell_type": "code",
   "execution_count": 21,
   "id": "8975ca77-a2e7-41e2-af80-6e411fe951b1",
   "metadata": {
    "tags": []
   },
   "outputs": [
    {
     "data": {
      "text/plain": [
       "3445"
      ]
     },
     "execution_count": 21,
     "metadata": {},
     "output_type": "execute_result"
    }
   ],
   "source": [
    "max_days_emp = 14364\n",
    "max_emp = df[df['days_employed']>max_days_emp].shape[0]\n",
    "max_emp"
   ]
  },
  {
   "cell_type": "code",
   "execution_count": 22,
   "id": "18469c2d-11c7-4748-943f-24d0092f07e2",
   "metadata": {
    "tags": []
   },
   "outputs": [
    {
     "data": {
      "text/plain": [
       "21471"
      ]
     },
     "execution_count": 22,
     "metadata": {},
     "output_type": "execute_result"
    }
   ],
   "source": [
    "df.shape[0]"
   ]
  },
  {
   "cell_type": "code",
   "execution_count": 23,
   "id": "e1a92ab7-6093-4838-968f-568078c933c3",
   "metadata": {
    "tags": []
   },
   "outputs": [
    {
     "data": {
      "text/plain": [
       "16.04489776908388"
      ]
     },
     "execution_count": 23,
     "metadata": {},
     "output_type": "execute_result"
    }
   ],
   "source": [
    "(max_emp*100)/df.shape[0]"
   ]
  },
  {
   "cell_type": "markdown",
   "id": "c8792d27-672d-4fca-8c2c-da499220e2bd",
   "metadata": {},
   "source": [
    "Pela analise percebemos que 16% do dados são problematicos, pelo motivo que alguns tem valores de dias trabalhados em negativos e outros excedem o limite maximo de dias trabalhados levando em consideração que o maximo de dias trabalhados 14364 dias e substituimos pela médias para não afetasse tanto na nossa filtragem de dados."
   ]
  },
  {
   "cell_type": "markdown",
   "id": "54fcb564-7e94-48a2-8f5e-25ee456462f8",
   "metadata": {
    "tags": []
   },
   "source": [
    "Iremos transformar todos números negativos da coluna 'days_employed'"
   ]
  },
  {
   "cell_type": "code",
   "execution_count": 24,
   "id": "1ab43e79-a9c5-4813-961e-17a369042fbd",
   "metadata": {
    "tags": []
   },
   "outputs": [],
   "source": [
    "# Aborde os valores problemáticos\n",
    "df['days_employed'] = abs(df['days_employed'])\n"
   ]
  },
  {
   "cell_type": "markdown",
   "id": "4377fd3d-6a73-4f39-ae06-73334d18240d",
   "metadata": {},
   "source": [
    "Substituimos os valores ausentes da coluna 'days_employed' pela média dos dias trabalhados mencionados acima."
   ]
  },
  {
   "cell_type": "code",
   "execution_count": 25,
   "id": "075e8b7c-fa63-4a83-9807-34a759650e17",
   "metadata": {
    "tags": []
   },
   "outputs": [
    {
     "data": {
      "text/plain": [
       "2334.852923616233"
      ]
     },
     "execution_count": 25,
     "metadata": {},
     "output_type": "execute_result"
    }
   ],
   "source": [
    "df_emp_avg = df.dropna().reset_index()\n",
    "df_emp_avg = df_emp_avg[df_emp_avg['days_employed'] < max_days_emp]['days_employed'].mean()\n",
    "df_emp_avg"
   ]
  },
  {
   "cell_type": "code",
   "execution_count": 26,
   "id": "186d4706-5259-4e86-bd31-b3e1f56e4260",
   "metadata": {
    "tags": []
   },
   "outputs": [],
   "source": [
    "df['days_employed'] = df['days_employed'].mask(df['days_employed'] > max_days_emp,df_emp_avg )"
   ]
  },
  {
   "cell_type": "code",
   "execution_count": 27,
   "id": "58f7714e-05e2-4c93-ba55-573c632e7bf6",
   "metadata": {
    "tags": []
   },
   "outputs": [
    {
     "data": {
      "text/plain": [
       "count    19351.000000\n",
       "mean      2334.852924\n",
       "std       2041.385985\n",
       "min         24.141633\n",
       "25%        927.009265\n",
       "50%       2194.220567\n",
       "75%       2736.948773\n",
       "max      14240.932400\n",
       "Name: days_employed, dtype: float64"
      ]
     },
     "execution_count": 27,
     "metadata": {},
     "output_type": "execute_result"
    }
   ],
   "source": [
    "# Verificando o resultado\n",
    "df['days_employed'].describe()"
   ]
  },
  {
   "cell_type": "markdown",
   "id": "8ec73d7b-3002-48c5-8d8b-9cb6537681fc",
   "metadata": {},
   "source": [
    "Vamos agora olhar para a idade do cliente"
   ]
  },
  {
   "cell_type": "code",
   "execution_count": 28,
   "id": "a8f3304c-ddfd-4e9b-92ec-c3512656978f",
   "metadata": {
    "tags": []
   },
   "outputs": [
    {
     "data": {
      "text/plain": [
       "count    21471.000000\n",
       "mean        43.279074\n",
       "std         12.574291\n",
       "min          0.000000\n",
       "25%         33.000000\n",
       "50%         42.000000\n",
       "75%         53.000000\n",
       "max         75.000000\n",
       "Name: dob_years, dtype: float64"
      ]
     },
     "execution_count": 28,
     "metadata": {},
     "output_type": "execute_result"
    }
   ],
   "source": [
    "# Verificando o `dob_years` para valores suspeitos e contando a porcentagem\n",
    "df['dob_years'].describe()"
   ]
  },
  {
   "cell_type": "code",
   "execution_count": 29,
   "id": "c6027b6d-1168-42f3-b538-49846955bd7f",
   "metadata": {
    "tags": []
   },
   "outputs": [
    {
     "data": {
      "text/plain": [
       "0.47040193749708914"
      ]
     },
     "execution_count": 29,
     "metadata": {},
     "output_type": "execute_result"
    }
   ],
   "source": [
    "(df['dob_years']==0).sum() / len(df)*100 "
   ]
  },
  {
   "cell_type": "markdown",
   "id": "c48de29a-13f9-4352-97ad-f4b3e9c5a6b9",
   "metadata": {},
   "source": [
    "4% das idades são de valores igual a 0, podemos substituir pela mediana das idades. Pois a mediana é uma medida de tendência central que é menos sensível a valores extremos ou outliers em comparação com a média. Portanto, ao lidar com valores faltantes em uma coluna de dados, substituí-los pela mediana pode ser uma abordagem mais robusta. "
   ]
  },
  {
   "cell_type": "code",
   "execution_count": 30,
   "id": "6daa625a-3257-4ef8-b776-274819fd8d54",
   "metadata": {
    "tags": []
   },
   "outputs": [
    {
     "data": {
      "text/plain": [
       "array([ 0, 19, 20, 21, 22, 23, 24, 25, 26, 27, 28, 29, 30, 31, 32, 33, 34,\n",
       "       35, 36, 37, 38, 39, 40, 41, 42, 43, 44, 45, 46, 47, 48, 49, 50, 51,\n",
       "       52, 53, 54, 55, 56, 57, 58, 59, 60, 61, 62, 63, 64, 65, 66, 67, 68,\n",
       "       69, 70, 71, 72, 73, 74, 75], dtype=int64)"
      ]
     },
     "execution_count": 30,
     "metadata": {},
     "output_type": "execute_result"
    }
   ],
   "source": [
    "# Resolvendo os problemas na coluna `dob_years`\n",
    "df['dob_years'].sort_values().unique()"
   ]
  },
  {
   "cell_type": "code",
   "execution_count": 31,
   "id": "72c15375-b1d2-4ed9-9e4b-0dca7a2d0560",
   "metadata": {
    "tags": []
   },
   "outputs": [
    {
     "data": {
      "text/plain": [
       "education\n",
       "bachelor's degree      40.672824\n",
       "graduate degree        51.166667\n",
       "primary education      47.691489\n",
       "secondary education    44.517250\n",
       "some college           34.661290\n",
       "Name: dob_years, dtype: float64"
      ]
     },
     "execution_count": 31,
     "metadata": {},
     "output_type": "execute_result"
    }
   ],
   "source": [
    "education_age_mean = df.groupby('education')['dob_years'].mean()\n",
    "education_age_mean"
   ]
  },
  {
   "cell_type": "code",
   "execution_count": 32,
   "id": "dd6b515a-ccec-462d-aea2-dcee907b9668",
   "metadata": {
    "tags": []
   },
   "outputs": [
    {
     "data": {
      "text/plain": [
       "education\n",
       "bachelor's degree      39.0\n",
       "graduate degree        51.5\n",
       "primary education      46.5\n",
       "secondary education    44.0\n",
       "some college           31.0\n",
       "Name: dob_years, dtype: float64"
      ]
     },
     "execution_count": 32,
     "metadata": {},
     "output_type": "execute_result"
    }
   ],
   "source": [
    "education_age_median = df.groupby('education')['dob_years'].median()\n",
    "education_age_median"
   ]
  },
  {
   "cell_type": "code",
   "execution_count": 33,
   "id": "81effd46-9a24-4ce9-8d0e-9ddc500cd776",
   "metadata": {
    "tags": []
   },
   "outputs": [],
   "source": [
    "def fill_age(row):\n",
    "    if row['dob_years']==0:\n",
    "        return education_age_median[row['education']]\n",
    "    return row['dob_years']\n"
   ]
  },
  {
   "cell_type": "code",
   "execution_count": 34,
   "id": "53af8f78-ae86-47ae-8d61-257a40c54d76",
   "metadata": {
    "tags": []
   },
   "outputs": [],
   "source": [
    "df['dob_years'] = df.apply(fill_age, axis=1)"
   ]
  },
  {
   "cell_type": "code",
   "execution_count": 35,
   "id": "67a0fd1c-41b3-4870-b9b2-f9e421e7f7e1",
   "metadata": {
    "tags": []
   },
   "outputs": [
    {
     "data": {
      "text/plain": [
       "array([19., 20., 21., 22., 23., 24., 25., 26., 27., 28., 29., 30., 31.,\n",
       "       32., 33., 34., 35., 36., 37., 38., 39., 40., 41., 42., 43., 44.,\n",
       "       45., 46., 47., 48., 49., 50., 51., 52., 53., 54., 55., 56., 57.,\n",
       "       58., 59., 60., 61., 62., 63., 64., 65., 66., 67., 68., 69., 70.,\n",
       "       71., 72., 73., 74., 75.])"
      ]
     },
     "execution_count": 35,
     "metadata": {},
     "output_type": "execute_result"
    }
   ],
   "source": [
    "# Verifique o resultado - certifique-se de que está corrigido\n",
    "df['dob_years'].sort_values().unique()"
   ]
  },
  {
   "cell_type": "markdown",
   "id": "50b2c918-500a-400f-b6cf-1f6ab587db5d",
   "metadata": {
    "tags": []
   },
   "source": [
    "Corrigimos com a médiana com valores precisos."
   ]
  },
  {
   "cell_type": "markdown",
   "id": "95d8d7ab-818e-4fed-a2ad-458eb4e4b0f5",
   "metadata": {},
   "source": [
    "Agora vamos verificar a coluna `family_status`."
   ]
  },
  {
   "cell_type": "code",
   "execution_count": 36,
   "id": "fd944f2b-de42-4e8f-93f3-15ff3af85e21",
   "metadata": {
    "tags": []
   },
   "outputs": [
    {
     "data": {
      "text/plain": [
       "family_status\n",
       "married              12344\n",
       "civil partnership     4163\n",
       "unmarried             2810\n",
       "divorced              1195\n",
       "widow / widower        959\n",
       "Name: count, dtype: int64"
      ]
     },
     "execution_count": 36,
     "metadata": {},
     "output_type": "execute_result"
    }
   ],
   "source": [
    "# Vamos ver os valores da coluna\n",
    "df['family_status'].value_counts()"
   ]
  },
  {
   "cell_type": "code",
   "execution_count": 37,
   "id": "71bb66ec-cc31-4bd4-8667-f749e45bd4ad",
   "metadata": {
    "tags": []
   },
   "outputs": [
    {
     "data": {
      "text/plain": [
       "array(['civil partnership', 'divorced', 'married', 'unmarried',\n",
       "       'widow / widower'], dtype=object)"
      ]
     },
     "execution_count": 37,
     "metadata": {},
     "output_type": "execute_result"
    }
   ],
   "source": [
    "df['family_status'].sort_values().unique()"
   ]
  },
  {
   "cell_type": "code",
   "execution_count": 38,
   "id": "2d2e9db0-6e8b-4fc2-95f7-c7ac5baca086",
   "metadata": {
    "tags": []
   },
   "outputs": [
    {
     "data": {
      "text/plain": [
       "gender\n",
       "F      14189\n",
       "M       7281\n",
       "XNA        1\n",
       "Name: count, dtype: int64"
      ]
     },
     "execution_count": 38,
     "metadata": {},
     "output_type": "execute_result"
    }
   ],
   "source": [
    "# Vamos ver os valores na coluna\n",
    "df['gender'].value_counts()"
   ]
  },
  {
   "cell_type": "code",
   "execution_count": 39,
   "id": "f83146a7-e026-4f8e-bb17-2eeebcc1ec53",
   "metadata": {
    "tags": []
   },
   "outputs": [
    {
     "data": {
      "text/plain": [
       "array(['F', 'M', 'XNA'], dtype=object)"
      ]
     },
     "execution_count": 39,
     "metadata": {},
     "output_type": "execute_result"
    }
   ],
   "source": [
    "# Verifique o resultado \n",
    "df['gender'].sort_values().unique()"
   ]
  },
  {
   "cell_type": "markdown",
   "id": "6d8f560a-d490-4b19-9ff9-81e4429fda89",
   "metadata": {},
   "source": [
    "O genero 'XNA' refere-se a pessoas que não se enquadram no gênero feminino ou masculino, não havendo a nescessidade de renomear ou excluir. Está tudo certo com essa coluna."
   ]
  },
  {
   "cell_type": "markdown",
   "id": "1a8a54f5-f93b-43ff-836e-f62eb38f0970",
   "metadata": {},
   "source": [
    "Agora vamos verificar a coluna income_type. Veja que tipo de valores existem e quais problemas você pode precisar resolver."
   ]
  },
  {
   "cell_type": "code",
   "execution_count": 40,
   "id": "575c8fab-991d-443f-b03c-862b62291b35",
   "metadata": {
    "tags": []
   },
   "outputs": [
    {
     "data": {
      "text/plain": [
       "income_type\n",
       "employee                       11091\n",
       "business                        5080\n",
       "retiree                         3837\n",
       "civil servant                   1457\n",
       "unemployed                         2\n",
       "entrepreneur                       2\n",
       "student                            1\n",
       "paternity / maternity leave        1\n",
       "Name: count, dtype: int64"
      ]
     },
     "execution_count": 40,
     "metadata": {},
     "output_type": "execute_result"
    }
   ],
   "source": [
    "# Vamos ver os valores na coluna\n",
    "df['income_type'].value_counts()"
   ]
  },
  {
   "cell_type": "code",
   "execution_count": 41,
   "id": "b0ffe782-cb45-4636-91dd-648c4562444b",
   "metadata": {
    "tags": []
   },
   "outputs": [
    {
     "data": {
      "text/plain": [
       "array(['business', 'civil servant', 'employee', 'entrepreneur',\n",
       "       'paternity / maternity leave', 'retiree', 'student', 'unemployed'],\n",
       "      dtype=object)"
      ]
     },
     "execution_count": 41,
     "metadata": {},
     "output_type": "execute_result"
    }
   ],
   "source": [
    "# Verificando valores únicos\n",
    "df['income_type'].sort_values().unique()"
   ]
  },
  {
   "cell_type": "markdown",
   "id": "35d54401-a8c6-4ae1-b0d3-f234ebff842d",
   "metadata": {
    "tags": []
   },
   "source": [
    "Está tudo certo com essa coluna."
   ]
  },
  {
   "cell_type": "markdown",
   "id": "222d26f2-38b0-4ea9-8621-39027de8382f",
   "metadata": {},
   "source": [
    "Com colunas sem valores inconsistentes podemos avançar em nossas analises, já que as mudanção não foram tão significativas, sendo assim não mudou muito, apenas os dados ficaram mais concisos e congruentes."
   ]
  },
  {
   "cell_type": "markdown",
   "id": "c185f831-1513-4d48-96cd-fbb5d8840621",
   "metadata": {},
   "source": [
    "[Voltar ao Índice](#back)"
   ]
  },
  {
   "cell_type": "markdown",
   "id": "31b5a0e9-fdd7-4c0f-a1b0-80f7624aa67f",
   "metadata": {},
   "source": [
    "### Restaurar valores ausentes em `total_income` <a id='missing_values_income'></a>"
   ]
  },
  {
   "cell_type": "markdown",
   "id": "5bfadae7-2785-40bd-91a1-bb7583db6cab",
   "metadata": {},
   "source": [
    "Primeiramente vamos categorizar as idades para manipulas melhor de forma concisa nosso arquivo de dados.Criando a coluna 'age_group',atribuindo a 1 para jovem adultos abaixo de 30 anos, 2 para pessoas de meia idade abaixo 45, 3 para pessoas que estão a um passo de ser idosos abaixo de 60 anos e 4 para os idosos.\n",
    "As idades interferem incisivamente na renda total, pois, sendo mais experiente a renda costuma-se a ser maior. sendo assim encontramos um norte para preencher os valores ausentes da renda total na coluna 'total_income'"
   ]
  },
  {
   "cell_type": "code",
   "execution_count": 42,
   "id": "7a75ce94-ff29-45cc-a171-a2a8491d7ca7",
   "metadata": {
    "tags": []
   },
   "outputs": [],
   "source": [
    "# Vamos escrever uma função que calcule a categoria de idade\n",
    "\n",
    "def age_group(row):\n",
    "    age = row['dob_years']\n",
    "    if age < 30:\n",
    "        return 1 # pessoas de idade menor que 30 anos ficam no grupo 1\n",
    "    if age < 45:\n",
    "        return 2 # pessoas de idade menor que 45 anos ficam no grupo 2\n",
    "    if age < 60:\n",
    "        return 3 # pessoas de idade menor que 60 anos ficam no grupo 3\n",
    "    else:\n",
    "        return 4 # E as demais ficam no grupo 4"
   ]
  },
  {
   "cell_type": "code",
   "execution_count": 43,
   "id": "5c3a62de-60d3-4c27-b9d9-d3935d786cd4",
   "metadata": {
    "tags": []
   },
   "outputs": [
    {
     "data": {
      "text/plain": [
       "2"
      ]
     },
     "execution_count": 43,
     "metadata": {},
     "output_type": "execute_result"
    }
   ],
   "source": [
    "# Testando se a função funciona\n",
    "age_group(df.loc[1])"
   ]
  },
  {
   "cell_type": "code",
   "execution_count": 44,
   "id": "5e4febe9-9e37-41cd-9b50-06ea00b30065",
   "metadata": {
    "tags": []
   },
   "outputs": [],
   "source": [
    "# Criar coluna nova com base na função\n",
    "df['age_group'] = df.apply(age_group, axis=1)"
   ]
  },
  {
   "cell_type": "code",
   "execution_count": 45,
   "id": "dde0eadf-2369-4684-9712-941d71ec2392",
   "metadata": {
    "tags": []
   },
   "outputs": [
    {
     "data": {
      "text/plain": [
       "Index(['children', 'days_employed', 'dob_years', 'education', 'education_id',\n",
       "       'family_status', 'family_status_id', 'gender', 'income_type', 'debt',\n",
       "       'total_income', 'purpose', 'age_group'],\n",
       "      dtype='object')"
      ]
     },
     "execution_count": 45,
     "metadata": {},
     "output_type": "execute_result"
    }
   ],
   "source": [
    "# Verificar a nova coluna\n",
    "df.columns"
   ]
  },
  {
   "cell_type": "markdown",
   "id": "30ba15c7-8ede-4e7b-a05c-f337bfa1a6ae",
   "metadata": {},
   "source": [
    "Existem dois fatores principais que implicam na renda total, nos quais são a idade e educação, devemos usar valores médios ou medianos para substituir esses valores ausentes."
   ]
  },
  {
   "cell_type": "markdown",
   "id": "6e373f06-ef3d-4aac-91f8-8a183359d1b7",
   "metadata": {},
   "source": [
    "Criaremos uma tabela que tenha apenas dados sem valores ausentes. Esses dados serão usados para restaurar os valores ausentes."
   ]
  },
  {
   "cell_type": "code",
   "execution_count": 46,
   "id": "d3b29e2a-e702-47cb-9b57-1ab4025ac0f5",
   "metadata": {
    "tags": []
   },
   "outputs": [
    {
     "name": "stdout",
     "output_type": "stream",
     "text": [
      "<class 'pandas.core.frame.DataFrame'>\n",
      "RangeIndex: 19351 entries, 0 to 19350\n",
      "Data columns (total 14 columns):\n",
      " #   Column            Non-Null Count  Dtype  \n",
      "---  ------            --------------  -----  \n",
      " 0   index             19351 non-null  int64  \n",
      " 1   children          19351 non-null  int64  \n",
      " 2   days_employed     19351 non-null  float64\n",
      " 3   dob_years         19351 non-null  float64\n",
      " 4   education         19351 non-null  object \n",
      " 5   education_id      19351 non-null  int64  \n",
      " 6   family_status     19351 non-null  object \n",
      " 7   family_status_id  19351 non-null  int64  \n",
      " 8   gender            19351 non-null  object \n",
      " 9   income_type       19351 non-null  object \n",
      " 10  debt              19351 non-null  int64  \n",
      " 11  total_income      19351 non-null  float64\n",
      " 12  purpose           19351 non-null  object \n",
      " 13  age_group         19351 non-null  int64  \n",
      "dtypes: float64(3), int64(6), object(5)\n",
      "memory usage: 2.1+ MB\n"
     ]
    }
   ],
   "source": [
    "df_full = df.dropna().reset_index()\n",
    "df_full.info()"
   ]
  },
  {
   "cell_type": "code",
   "execution_count": 47,
   "id": "01ea2a7a-bcb2-493d-92ee-fcfe5b77308c",
   "metadata": {
    "tags": []
   },
   "outputs": [
    {
     "data": {
      "text/html": [
       "<div>\n",
       "<style scoped>\n",
       "    .dataframe tbody tr th:only-of-type {\n",
       "        vertical-align: middle;\n",
       "    }\n",
       "\n",
       "    .dataframe tbody tr th {\n",
       "        vertical-align: top;\n",
       "    }\n",
       "\n",
       "    .dataframe thead th {\n",
       "        text-align: right;\n",
       "    }\n",
       "</style>\n",
       "<table border=\"1\" class=\"dataframe\">\n",
       "  <thead>\n",
       "    <tr style=\"text-align: right;\">\n",
       "      <th></th>\n",
       "      <th></th>\n",
       "      <th>total_income</th>\n",
       "    </tr>\n",
       "    <tr>\n",
       "      <th>age_group</th>\n",
       "      <th>education</th>\n",
       "      <th></th>\n",
       "    </tr>\n",
       "  </thead>\n",
       "  <tbody>\n",
       "    <tr>\n",
       "      <th rowspan=\"4\" valign=\"top\">1</th>\n",
       "      <th>bachelor's degree</th>\n",
       "      <td>29395.106109</td>\n",
       "    </tr>\n",
       "    <tr>\n",
       "      <th>primary education</th>\n",
       "      <td>27695.271520</td>\n",
       "    </tr>\n",
       "    <tr>\n",
       "      <th>secondary education</th>\n",
       "      <td>23379.052855</td>\n",
       "    </tr>\n",
       "    <tr>\n",
       "      <th>some college</th>\n",
       "      <td>25292.291928</td>\n",
       "    </tr>\n",
       "    <tr>\n",
       "      <th rowspan=\"5\" valign=\"top\">2</th>\n",
       "      <th>bachelor's degree</th>\n",
       "      <td>34672.764916</td>\n",
       "    </tr>\n",
       "    <tr>\n",
       "      <th>graduate degree</th>\n",
       "      <td>18187.301500</td>\n",
       "    </tr>\n",
       "    <tr>\n",
       "      <th>primary education</th>\n",
       "      <td>21447.958202</td>\n",
       "    </tr>\n",
       "    <tr>\n",
       "      <th>secondary education</th>\n",
       "      <td>25869.956458</td>\n",
       "    </tr>\n",
       "    <tr>\n",
       "      <th>some college</th>\n",
       "      <td>32663.133514</td>\n",
       "    </tr>\n",
       "    <tr>\n",
       "      <th rowspan=\"5\" valign=\"top\">3</th>\n",
       "      <th>bachelor's degree</th>\n",
       "      <td>34272.548676</td>\n",
       "    </tr>\n",
       "    <tr>\n",
       "      <th>graduate degree</th>\n",
       "      <td>37358.557500</td>\n",
       "    </tr>\n",
       "    <tr>\n",
       "      <th>primary education</th>\n",
       "      <td>20688.554743</td>\n",
       "    </tr>\n",
       "    <tr>\n",
       "      <th>secondary education</th>\n",
       "      <td>24733.618963</td>\n",
       "    </tr>\n",
       "    <tr>\n",
       "      <th>some college</th>\n",
       "      <td>29538.753468</td>\n",
       "    </tr>\n",
       "    <tr>\n",
       "      <th rowspan=\"5\" valign=\"top\">4</th>\n",
       "      <th>bachelor's degree</th>\n",
       "      <td>30087.861673</td>\n",
       "    </tr>\n",
       "    <tr>\n",
       "      <th>graduate degree</th>\n",
       "      <td>28334.215000</td>\n",
       "    </tr>\n",
       "    <tr>\n",
       "      <th>primary education</th>\n",
       "      <td>18729.638433</td>\n",
       "    </tr>\n",
       "    <tr>\n",
       "      <th>secondary education</th>\n",
       "      <td>21515.480435</td>\n",
       "    </tr>\n",
       "    <tr>\n",
       "      <th>some college</th>\n",
       "      <td>28565.986654</td>\n",
       "    </tr>\n",
       "  </tbody>\n",
       "</table>\n",
       "</div>"
      ],
      "text/plain": [
       "                               total_income\n",
       "age_group education                        \n",
       "1         bachelor's degree    29395.106109\n",
       "          primary education    27695.271520\n",
       "          secondary education  23379.052855\n",
       "          some college         25292.291928\n",
       "2         bachelor's degree    34672.764916\n",
       "          graduate degree      18187.301500\n",
       "          primary education    21447.958202\n",
       "          secondary education  25869.956458\n",
       "          some college         32663.133514\n",
       "3         bachelor's degree    34272.548676\n",
       "          graduate degree      37358.557500\n",
       "          primary education    20688.554743\n",
       "          secondary education  24733.618963\n",
       "          some college         29538.753468\n",
       "4         bachelor's degree    30087.861673\n",
       "          graduate degree      28334.215000\n",
       "          primary education    18729.638433\n",
       "          secondary education  21515.480435\n",
       "          some college         28565.986654"
      ]
     },
     "execution_count": 47,
     "metadata": {},
     "output_type": "execute_result"
    }
   ],
   "source": [
    "# Veja os valores médios de renda com base em seus fatores identificados\n",
    "df_full_renda_mean = df_full.pivot_table(index=['age_group','education'], values='total_income', aggfunc='mean') \n",
    "df_full_renda_mean"
   ]
  },
  {
   "cell_type": "code",
   "execution_count": 48,
   "id": "8f52beba-e781-43a2-b170-97d51dd27601",
   "metadata": {
    "tags": []
   },
   "outputs": [
    {
     "data": {
      "text/html": [
       "<div>\n",
       "<style scoped>\n",
       "    .dataframe tbody tr th:only-of-type {\n",
       "        vertical-align: middle;\n",
       "    }\n",
       "\n",
       "    .dataframe tbody tr th {\n",
       "        vertical-align: top;\n",
       "    }\n",
       "\n",
       "    .dataframe thead th {\n",
       "        text-align: right;\n",
       "    }\n",
       "</style>\n",
       "<table border=\"1\" class=\"dataframe\">\n",
       "  <thead>\n",
       "    <tr style=\"text-align: right;\">\n",
       "      <th></th>\n",
       "      <th></th>\n",
       "      <th>total_income</th>\n",
       "    </tr>\n",
       "    <tr>\n",
       "      <th>age_group</th>\n",
       "      <th>education</th>\n",
       "      <th></th>\n",
       "    </tr>\n",
       "  </thead>\n",
       "  <tbody>\n",
       "    <tr>\n",
       "      <th rowspan=\"4\" valign=\"top\">1</th>\n",
       "      <th>bachelor's degree</th>\n",
       "      <td>25956.1640</td>\n",
       "    </tr>\n",
       "    <tr>\n",
       "      <th>primary education</th>\n",
       "      <td>25488.9160</td>\n",
       "    </tr>\n",
       "    <tr>\n",
       "      <th>secondary education</th>\n",
       "      <td>21114.7620</td>\n",
       "    </tr>\n",
       "    <tr>\n",
       "      <th>some college</th>\n",
       "      <td>22687.1980</td>\n",
       "    </tr>\n",
       "    <tr>\n",
       "      <th rowspan=\"5\" valign=\"top\">2</th>\n",
       "      <th>bachelor's degree</th>\n",
       "      <td>28995.3940</td>\n",
       "    </tr>\n",
       "    <tr>\n",
       "      <th>graduate degree</th>\n",
       "      <td>18187.3015</td>\n",
       "    </tr>\n",
       "    <tr>\n",
       "      <th>primary education</th>\n",
       "      <td>19546.3410</td>\n",
       "    </tr>\n",
       "    <tr>\n",
       "      <th>secondary education</th>\n",
       "      <td>22912.3490</td>\n",
       "    </tr>\n",
       "    <tr>\n",
       "      <th>some college</th>\n",
       "      <td>28470.6140</td>\n",
       "    </tr>\n",
       "    <tr>\n",
       "      <th rowspan=\"5\" valign=\"top\">3</th>\n",
       "      <th>bachelor's degree</th>\n",
       "      <td>29369.6900</td>\n",
       "    </tr>\n",
       "    <tr>\n",
       "      <th>graduate degree</th>\n",
       "      <td>37358.5575</td>\n",
       "    </tr>\n",
       "    <tr>\n",
       "      <th>primary education</th>\n",
       "      <td>18271.2275</td>\n",
       "    </tr>\n",
       "    <tr>\n",
       "      <th>secondary education</th>\n",
       "      <td>21785.4435</td>\n",
       "    </tr>\n",
       "    <tr>\n",
       "      <th>some college</th>\n",
       "      <td>26919.6065</td>\n",
       "    </tr>\n",
       "    <tr>\n",
       "      <th rowspan=\"5\" valign=\"top\">4</th>\n",
       "      <th>bachelor's degree</th>\n",
       "      <td>25249.5160</td>\n",
       "    </tr>\n",
       "    <tr>\n",
       "      <th>graduate degree</th>\n",
       "      <td>28334.2150</td>\n",
       "    </tr>\n",
       "    <tr>\n",
       "      <th>primary education</th>\n",
       "      <td>16415.7850</td>\n",
       "    </tr>\n",
       "    <tr>\n",
       "      <th>secondary education</th>\n",
       "      <td>18835.6000</td>\n",
       "    </tr>\n",
       "    <tr>\n",
       "      <th>some college</th>\n",
       "      <td>27142.5995</td>\n",
       "    </tr>\n",
       "  </tbody>\n",
       "</table>\n",
       "</div>"
      ],
      "text/plain": [
       "                               total_income\n",
       "age_group education                        \n",
       "1         bachelor's degree      25956.1640\n",
       "          primary education      25488.9160\n",
       "          secondary education    21114.7620\n",
       "          some college           22687.1980\n",
       "2         bachelor's degree      28995.3940\n",
       "          graduate degree        18187.3015\n",
       "          primary education      19546.3410\n",
       "          secondary education    22912.3490\n",
       "          some college           28470.6140\n",
       "3         bachelor's degree      29369.6900\n",
       "          graduate degree        37358.5575\n",
       "          primary education      18271.2275\n",
       "          secondary education    21785.4435\n",
       "          some college           26919.6065\n",
       "4         bachelor's degree      25249.5160\n",
       "          graduate degree        28334.2150\n",
       "          primary education      16415.7850\n",
       "          secondary education    18835.6000\n",
       "          some college           27142.5995"
      ]
     },
     "execution_count": 48,
     "metadata": {},
     "output_type": "execute_result"
    }
   ],
   "source": [
    "# Veja os valores medianos de renda com base em seus fatores identificados\n",
    "df_full_renda_median = df_full.pivot_table(index=['age_group','education'], values='total_income', aggfunc='median') \n",
    "df_full_renda_median"
   ]
  },
  {
   "cell_type": "markdown",
   "id": "6b826e58-f15d-499c-9431-db3b204905dc",
   "metadata": {
    "tags": []
   },
   "source": [
    "Como podemos observar, existem valores que são muito altos, com isso fazem  fazem a média menos precisa do que a mediana,isso pode atrapalhar nossa analise.\n"
   ]
  },
  {
   "cell_type": "code",
   "execution_count": 49,
   "id": "1eef7dad-c373-475b-9f66-c699a0e97c04",
   "metadata": {
    "tags": []
   },
   "outputs": [
    {
     "data": {
      "text/html": [
       "<div>\n",
       "<style scoped>\n",
       "    .dataframe tbody tr th:only-of-type {\n",
       "        vertical-align: middle;\n",
       "    }\n",
       "\n",
       "    .dataframe tbody tr th {\n",
       "        vertical-align: top;\n",
       "    }\n",
       "\n",
       "    .dataframe thead th {\n",
       "        text-align: right;\n",
       "    }\n",
       "</style>\n",
       "<table border=\"1\" class=\"dataframe\">\n",
       "  <thead>\n",
       "    <tr style=\"text-align: right;\">\n",
       "      <th></th>\n",
       "      <th>age_group</th>\n",
       "      <th>education</th>\n",
       "      <th>income_mediana</th>\n",
       "    </tr>\n",
       "  </thead>\n",
       "  <tbody>\n",
       "    <tr>\n",
       "      <th>0</th>\n",
       "      <td>1</td>\n",
       "      <td>bachelor's degree</td>\n",
       "      <td>25956.164</td>\n",
       "    </tr>\n",
       "    <tr>\n",
       "      <th>1</th>\n",
       "      <td>1</td>\n",
       "      <td>primary education</td>\n",
       "      <td>25488.916</td>\n",
       "    </tr>\n",
       "    <tr>\n",
       "      <th>2</th>\n",
       "      <td>1</td>\n",
       "      <td>secondary education</td>\n",
       "      <td>21114.762</td>\n",
       "    </tr>\n",
       "    <tr>\n",
       "      <th>3</th>\n",
       "      <td>1</td>\n",
       "      <td>some college</td>\n",
       "      <td>22687.198</td>\n",
       "    </tr>\n",
       "    <tr>\n",
       "      <th>4</th>\n",
       "      <td>2</td>\n",
       "      <td>bachelor's degree</td>\n",
       "      <td>28995.394</td>\n",
       "    </tr>\n",
       "  </tbody>\n",
       "</table>\n",
       "</div>"
      ],
      "text/plain": [
       "   age_group            education  income_mediana\n",
       "0          1    bachelor's degree       25956.164\n",
       "1          1    primary education       25488.916\n",
       "2          1  secondary education       21114.762\n",
       "3          1         some college       22687.198\n",
       "4          2    bachelor's degree       28995.394"
      ]
     },
     "execution_count": 49,
     "metadata": {},
     "output_type": "execute_result"
    }
   ],
   "source": [
    "# Função que usaremos para preencher os valores ausentes  \n",
    "median_by_group = df.groupby([\"age_group\", \"education\"])[\"total_income\"].agg(\"median\").reset_index().rename(columns={\"total_income\": \"income_mediana\"})\n",
    "median_by_group.head(5)"
   ]
  },
  {
   "cell_type": "code",
   "execution_count": 50,
   "id": "6682b0b0-0289-4926-8fb0-4b9964242dfb",
   "metadata": {
    "tags": []
   },
   "outputs": [
    {
     "data": {
      "text/html": [
       "<div>\n",
       "<style scoped>\n",
       "    .dataframe tbody tr th:only-of-type {\n",
       "        vertical-align: middle;\n",
       "    }\n",
       "\n",
       "    .dataframe tbody tr th {\n",
       "        vertical-align: top;\n",
       "    }\n",
       "\n",
       "    .dataframe thead th {\n",
       "        text-align: right;\n",
       "    }\n",
       "</style>\n",
       "<table border=\"1\" class=\"dataframe\">\n",
       "  <thead>\n",
       "    <tr style=\"text-align: right;\">\n",
       "      <th></th>\n",
       "      <th>children</th>\n",
       "      <th>days_employed</th>\n",
       "      <th>dob_years</th>\n",
       "      <th>education</th>\n",
       "      <th>education_id</th>\n",
       "      <th>family_status</th>\n",
       "      <th>family_status_id</th>\n",
       "      <th>gender</th>\n",
       "      <th>income_type</th>\n",
       "      <th>debt</th>\n",
       "      <th>total_income</th>\n",
       "      <th>purpose</th>\n",
       "      <th>age_group</th>\n",
       "      <th>income_mediana</th>\n",
       "    </tr>\n",
       "  </thead>\n",
       "  <tbody>\n",
       "    <tr>\n",
       "      <th>0</th>\n",
       "      <td>1</td>\n",
       "      <td>8437.673028</td>\n",
       "      <td>42.0</td>\n",
       "      <td>bachelor's degree</td>\n",
       "      <td>0</td>\n",
       "      <td>married</td>\n",
       "      <td>0</td>\n",
       "      <td>F</td>\n",
       "      <td>employee</td>\n",
       "      <td>0</td>\n",
       "      <td>40620.102</td>\n",
       "      <td>purchase of the house</td>\n",
       "      <td>2</td>\n",
       "      <td>28995.3940</td>\n",
       "    </tr>\n",
       "    <tr>\n",
       "      <th>1</th>\n",
       "      <td>1</td>\n",
       "      <td>4024.803754</td>\n",
       "      <td>36.0</td>\n",
       "      <td>secondary education</td>\n",
       "      <td>1</td>\n",
       "      <td>married</td>\n",
       "      <td>0</td>\n",
       "      <td>F</td>\n",
       "      <td>employee</td>\n",
       "      <td>0</td>\n",
       "      <td>17932.802</td>\n",
       "      <td>car purchase</td>\n",
       "      <td>2</td>\n",
       "      <td>22912.3490</td>\n",
       "    </tr>\n",
       "    <tr>\n",
       "      <th>2</th>\n",
       "      <td>0</td>\n",
       "      <td>5623.422610</td>\n",
       "      <td>33.0</td>\n",
       "      <td>secondary education</td>\n",
       "      <td>1</td>\n",
       "      <td>married</td>\n",
       "      <td>0</td>\n",
       "      <td>M</td>\n",
       "      <td>employee</td>\n",
       "      <td>0</td>\n",
       "      <td>23341.752</td>\n",
       "      <td>purchase of the house</td>\n",
       "      <td>2</td>\n",
       "      <td>22912.3490</td>\n",
       "    </tr>\n",
       "    <tr>\n",
       "      <th>3</th>\n",
       "      <td>3</td>\n",
       "      <td>4124.747207</td>\n",
       "      <td>32.0</td>\n",
       "      <td>secondary education</td>\n",
       "      <td>1</td>\n",
       "      <td>married</td>\n",
       "      <td>0</td>\n",
       "      <td>M</td>\n",
       "      <td>employee</td>\n",
       "      <td>0</td>\n",
       "      <td>42820.568</td>\n",
       "      <td>supplementary education</td>\n",
       "      <td>2</td>\n",
       "      <td>22912.3490</td>\n",
       "    </tr>\n",
       "    <tr>\n",
       "      <th>4</th>\n",
       "      <td>0</td>\n",
       "      <td>2334.852924</td>\n",
       "      <td>53.0</td>\n",
       "      <td>secondary education</td>\n",
       "      <td>1</td>\n",
       "      <td>civil partnership</td>\n",
       "      <td>1</td>\n",
       "      <td>F</td>\n",
       "      <td>retiree</td>\n",
       "      <td>0</td>\n",
       "      <td>25378.572</td>\n",
       "      <td>to have a wedding</td>\n",
       "      <td>3</td>\n",
       "      <td>21785.4435</td>\n",
       "    </tr>\n",
       "  </tbody>\n",
       "</table>\n",
       "</div>"
      ],
      "text/plain": [
       "   children  days_employed  dob_years            education  education_id  \\\n",
       "0         1    8437.673028       42.0    bachelor's degree             0   \n",
       "1         1    4024.803754       36.0  secondary education             1   \n",
       "2         0    5623.422610       33.0  secondary education             1   \n",
       "3         3    4124.747207       32.0  secondary education             1   \n",
       "4         0    2334.852924       53.0  secondary education             1   \n",
       "\n",
       "       family_status  family_status_id gender income_type  debt  total_income  \\\n",
       "0            married                 0      F    employee     0     40620.102   \n",
       "1            married                 0      F    employee     0     17932.802   \n",
       "2            married                 0      M    employee     0     23341.752   \n",
       "3            married                 0      M    employee     0     42820.568   \n",
       "4  civil partnership                 1      F     retiree     0     25378.572   \n",
       "\n",
       "                   purpose  age_group  income_mediana  \n",
       "0    purchase of the house          2      28995.3940  \n",
       "1             car purchase          2      22912.3490  \n",
       "2    purchase of the house          2      22912.3490  \n",
       "3  supplementary education          2      22912.3490  \n",
       "4        to have a wedding          3      21785.4435  "
      ]
     },
     "execution_count": 50,
     "metadata": {},
     "output_type": "execute_result"
    }
   ],
   "source": [
    "# Verificando se funciona\n",
    "df = df.merge(median_by_group, on=[\"age_group\", \"education\"], how=\"left\")\n",
    "df.head(5)"
   ]
  },
  {
   "cell_type": "code",
   "execution_count": 51,
   "id": "0c1c10d9-6178-4a41-ba67-b3833a5aa801",
   "metadata": {
    "tags": []
   },
   "outputs": [
    {
     "data": {
      "text/html": [
       "<div>\n",
       "<style scoped>\n",
       "    .dataframe tbody tr th:only-of-type {\n",
       "        vertical-align: middle;\n",
       "    }\n",
       "\n",
       "    .dataframe tbody tr th {\n",
       "        vertical-align: top;\n",
       "    }\n",
       "\n",
       "    .dataframe thead th {\n",
       "        text-align: right;\n",
       "    }\n",
       "</style>\n",
       "<table border=\"1\" class=\"dataframe\">\n",
       "  <thead>\n",
       "    <tr style=\"text-align: right;\">\n",
       "      <th></th>\n",
       "      <th>children</th>\n",
       "      <th>days_employed</th>\n",
       "      <th>dob_years</th>\n",
       "      <th>education</th>\n",
       "      <th>education_id</th>\n",
       "      <th>family_status</th>\n",
       "      <th>family_status_id</th>\n",
       "      <th>gender</th>\n",
       "      <th>income_type</th>\n",
       "      <th>debt</th>\n",
       "      <th>total_income</th>\n",
       "      <th>purpose</th>\n",
       "      <th>age_group</th>\n",
       "      <th>income_mediana</th>\n",
       "    </tr>\n",
       "  </thead>\n",
       "  <tbody>\n",
       "    <tr>\n",
       "      <th>0</th>\n",
       "      <td>1</td>\n",
       "      <td>8437.673028</td>\n",
       "      <td>42.0</td>\n",
       "      <td>bachelor's degree</td>\n",
       "      <td>0</td>\n",
       "      <td>married</td>\n",
       "      <td>0</td>\n",
       "      <td>F</td>\n",
       "      <td>employee</td>\n",
       "      <td>0</td>\n",
       "      <td>40620.102</td>\n",
       "      <td>purchase of the house</td>\n",
       "      <td>2</td>\n",
       "      <td>28995.3940</td>\n",
       "    </tr>\n",
       "    <tr>\n",
       "      <th>1</th>\n",
       "      <td>1</td>\n",
       "      <td>4024.803754</td>\n",
       "      <td>36.0</td>\n",
       "      <td>secondary education</td>\n",
       "      <td>1</td>\n",
       "      <td>married</td>\n",
       "      <td>0</td>\n",
       "      <td>F</td>\n",
       "      <td>employee</td>\n",
       "      <td>0</td>\n",
       "      <td>17932.802</td>\n",
       "      <td>car purchase</td>\n",
       "      <td>2</td>\n",
       "      <td>22912.3490</td>\n",
       "    </tr>\n",
       "    <tr>\n",
       "      <th>2</th>\n",
       "      <td>0</td>\n",
       "      <td>5623.422610</td>\n",
       "      <td>33.0</td>\n",
       "      <td>secondary education</td>\n",
       "      <td>1</td>\n",
       "      <td>married</td>\n",
       "      <td>0</td>\n",
       "      <td>M</td>\n",
       "      <td>employee</td>\n",
       "      <td>0</td>\n",
       "      <td>23341.752</td>\n",
       "      <td>purchase of the house</td>\n",
       "      <td>2</td>\n",
       "      <td>22912.3490</td>\n",
       "    </tr>\n",
       "    <tr>\n",
       "      <th>3</th>\n",
       "      <td>3</td>\n",
       "      <td>4124.747207</td>\n",
       "      <td>32.0</td>\n",
       "      <td>secondary education</td>\n",
       "      <td>1</td>\n",
       "      <td>married</td>\n",
       "      <td>0</td>\n",
       "      <td>M</td>\n",
       "      <td>employee</td>\n",
       "      <td>0</td>\n",
       "      <td>42820.568</td>\n",
       "      <td>supplementary education</td>\n",
       "      <td>2</td>\n",
       "      <td>22912.3490</td>\n",
       "    </tr>\n",
       "    <tr>\n",
       "      <th>4</th>\n",
       "      <td>0</td>\n",
       "      <td>2334.852924</td>\n",
       "      <td>53.0</td>\n",
       "      <td>secondary education</td>\n",
       "      <td>1</td>\n",
       "      <td>civil partnership</td>\n",
       "      <td>1</td>\n",
       "      <td>F</td>\n",
       "      <td>retiree</td>\n",
       "      <td>0</td>\n",
       "      <td>25378.572</td>\n",
       "      <td>to have a wedding</td>\n",
       "      <td>3</td>\n",
       "      <td>21785.4435</td>\n",
       "    </tr>\n",
       "  </tbody>\n",
       "</table>\n",
       "</div>"
      ],
      "text/plain": [
       "   children  days_employed  dob_years            education  education_id  \\\n",
       "0         1    8437.673028       42.0    bachelor's degree             0   \n",
       "1         1    4024.803754       36.0  secondary education             1   \n",
       "2         0    5623.422610       33.0  secondary education             1   \n",
       "3         3    4124.747207       32.0  secondary education             1   \n",
       "4         0    2334.852924       53.0  secondary education             1   \n",
       "\n",
       "       family_status  family_status_id gender income_type  debt  total_income  \\\n",
       "0            married                 0      F    employee     0     40620.102   \n",
       "1            married                 0      F    employee     0     17932.802   \n",
       "2            married                 0      M    employee     0     23341.752   \n",
       "3            married                 0      M    employee     0     42820.568   \n",
       "4  civil partnership                 1      F     retiree     0     25378.572   \n",
       "\n",
       "                   purpose  age_group  income_mediana  \n",
       "0    purchase of the house          2      28995.3940  \n",
       "1             car purchase          2      22912.3490  \n",
       "2    purchase of the house          2      22912.3490  \n",
       "3  supplementary education          2      22912.3490  \n",
       "4        to have a wedding          3      21785.4435  "
      ]
     },
     "execution_count": 51,
     "metadata": {},
     "output_type": "execute_result"
    }
   ],
   "source": [
    "# Aplique em todas as linhas\n",
    "df.loc[df[\"total_income\"].isna(), \"total_income\"] = df.loc[df[\"total_income\"].isna(), \"income_mediana\"]\n",
    "df.head(5)"
   ]
  },
  {
   "cell_type": "code",
   "execution_count": 52,
   "id": "bbe2a770-1f7e-46f5-9ada-3c403efbad08",
   "metadata": {
    "tags": []
   },
   "outputs": [],
   "source": [
    "# excluindo a coluna 'income_mediana'\n",
    "df = df.drop(columns=[\"income_mediana\"])"
   ]
  },
  {
   "cell_type": "code",
   "execution_count": 53,
   "id": "e83e328e-208f-414d-a274-62b99aca8af2",
   "metadata": {
    "tags": []
   },
   "outputs": [
    {
     "data": {
      "text/plain": [
       "0"
      ]
     },
     "execution_count": 53,
     "metadata": {},
     "output_type": "execute_result"
    }
   ],
   "source": [
    "# Verifique se temos algum erro\n",
    "df[\"total_income\"].isna().sum()"
   ]
  },
  {
   "cell_type": "markdown",
   "id": "f1e7aa6e-28e9-448f-a833-2ec39a56dd32",
   "metadata": {},
   "source": [
    "Vamos verificar se o número total de valores na coluna 'total_income' corresponde ao número de valores em outras"
   ]
  },
  {
   "cell_type": "code",
   "execution_count": 54,
   "id": "cf773ac6-daa6-4c37-ac89-cc300f41425f",
   "metadata": {
    "tags": []
   },
   "outputs": [
    {
     "name": "stdout",
     "output_type": "stream",
     "text": [
      "<class 'pandas.core.frame.DataFrame'>\n",
      "RangeIndex: 21471 entries, 0 to 21470\n",
      "Data columns (total 13 columns):\n",
      " #   Column            Non-Null Count  Dtype  \n",
      "---  ------            --------------  -----  \n",
      " 0   children          21471 non-null  int64  \n",
      " 1   days_employed     19351 non-null  float64\n",
      " 2   dob_years         21471 non-null  float64\n",
      " 3   education         21471 non-null  object \n",
      " 4   education_id      21471 non-null  int64  \n",
      " 5   family_status     21471 non-null  object \n",
      " 6   family_status_id  21471 non-null  int64  \n",
      " 7   gender            21471 non-null  object \n",
      " 8   income_type       21471 non-null  object \n",
      " 9   debt              21471 non-null  int64  \n",
      " 10  total_income      21471 non-null  float64\n",
      " 11  purpose           21471 non-null  object \n",
      " 12  age_group         21471 non-null  int64  \n",
      "dtypes: float64(3), int64(5), object(5)\n",
      "memory usage: 2.1+ MB\n"
     ]
    }
   ],
   "source": [
    "# Verificar o número de entradas nas colunas\n",
    "df.info()"
   ]
  },
  {
   "cell_type": "markdown",
   "id": "58ae143c-8583-45bd-a5ee-e5fef3159f83",
   "metadata": {},
   "source": [
    "[Voltar ao Índice](#back)"
   ]
  },
  {
   "cell_type": "markdown",
   "id": "5a1db56b-a6df-45a4-9855-7479b4998a2a",
   "metadata": {},
   "source": [
    "### Restaurar valores ausentes em `days_employed` <a id='missing_values_days_employed'></a>"
   ]
  },
  {
   "cell_type": "markdown",
   "id": "3b016aa2-6d9b-465f-a2e4-eb40be77f498",
   "metadata": {},
   "source": [
    "Os parâmentros que podem ajudar a restaurar os valores ausentes no dias trabalhados são 3: Idade, pois dependendo de quantos tem, existe uma limitação de dias trabalhados.Educação, pois dependendo da educação pode ser trabalhar menos em determinados casos.Tipo do emprego, da mesma forma que a educação."
   ]
  },
  {
   "cell_type": "code",
   "execution_count": 55,
   "id": "771a4aa8-5f35-4d9d-98c5-ded29e699384",
   "metadata": {
    "tags": []
   },
   "outputs": [
    {
     "data": {
      "text/html": [
       "<div>\n",
       "<style scoped>\n",
       "    .dataframe tbody tr th:only-of-type {\n",
       "        vertical-align: middle;\n",
       "    }\n",
       "\n",
       "    .dataframe tbody tr th {\n",
       "        vertical-align: top;\n",
       "    }\n",
       "\n",
       "    .dataframe thead th {\n",
       "        text-align: right;\n",
       "    }\n",
       "</style>\n",
       "<table border=\"1\" class=\"dataframe\">\n",
       "  <thead>\n",
       "    <tr style=\"text-align: right;\">\n",
       "      <th></th>\n",
       "      <th>age_group</th>\n",
       "      <th>income_type</th>\n",
       "      <th>days_employed_mediana</th>\n",
       "    </tr>\n",
       "  </thead>\n",
       "  <tbody>\n",
       "    <tr>\n",
       "      <th>0</th>\n",
       "      <td>1</td>\n",
       "      <td>business</td>\n",
       "      <td>908.139502</td>\n",
       "    </tr>\n",
       "    <tr>\n",
       "      <th>1</th>\n",
       "      <td>1</td>\n",
       "      <td>civil servant</td>\n",
       "      <td>1362.645769</td>\n",
       "    </tr>\n",
       "    <tr>\n",
       "      <th>2</th>\n",
       "      <td>1</td>\n",
       "      <td>employee</td>\n",
       "      <td>1008.784193</td>\n",
       "    </tr>\n",
       "    <tr>\n",
       "      <th>3</th>\n",
       "      <td>1</td>\n",
       "      <td>entrepreneur</td>\n",
       "      <td>520.848083</td>\n",
       "    </tr>\n",
       "    <tr>\n",
       "      <th>4</th>\n",
       "      <td>1</td>\n",
       "      <td>retiree</td>\n",
       "      <td>2334.852924</td>\n",
       "    </tr>\n",
       "    <tr>\n",
       "      <th>5</th>\n",
       "      <td>1</td>\n",
       "      <td>student</td>\n",
       "      <td>578.751554</td>\n",
       "    </tr>\n",
       "    <tr>\n",
       "      <th>6</th>\n",
       "      <td>2</td>\n",
       "      <td>business</td>\n",
       "      <td>1588.581162</td>\n",
       "    </tr>\n",
       "    <tr>\n",
       "      <th>7</th>\n",
       "      <td>2</td>\n",
       "      <td>civil servant</td>\n",
       "      <td>2772.638532</td>\n",
       "    </tr>\n",
       "    <tr>\n",
       "      <th>8</th>\n",
       "      <td>2</td>\n",
       "      <td>employee</td>\n",
       "      <td>1612.484985</td>\n",
       "    </tr>\n",
       "    <tr>\n",
       "      <th>9</th>\n",
       "      <td>2</td>\n",
       "      <td>paternity / maternity leave</td>\n",
       "      <td>3296.759962</td>\n",
       "    </tr>\n",
       "    <tr>\n",
       "      <th>10</th>\n",
       "      <td>2</td>\n",
       "      <td>retiree</td>\n",
       "      <td>2334.852924</td>\n",
       "    </tr>\n",
       "    <tr>\n",
       "      <th>11</th>\n",
       "      <td>2</td>\n",
       "      <td>unemployed</td>\n",
       "      <td>2334.852924</td>\n",
       "    </tr>\n",
       "    <tr>\n",
       "      <th>12</th>\n",
       "      <td>3</td>\n",
       "      <td>business</td>\n",
       "      <td>2044.399299</td>\n",
       "    </tr>\n",
       "    <tr>\n",
       "      <th>13</th>\n",
       "      <td>3</td>\n",
       "      <td>civil servant</td>\n",
       "      <td>3504.634243</td>\n",
       "    </tr>\n",
       "    <tr>\n",
       "      <th>14</th>\n",
       "      <td>3</td>\n",
       "      <td>employee</td>\n",
       "      <td>2124.336222</td>\n",
       "    </tr>\n",
       "    <tr>\n",
       "      <th>15</th>\n",
       "      <td>3</td>\n",
       "      <td>entrepreneur</td>\n",
       "      <td>NaN</td>\n",
       "    </tr>\n",
       "    <tr>\n",
       "      <th>16</th>\n",
       "      <td>3</td>\n",
       "      <td>retiree</td>\n",
       "      <td>2334.852924</td>\n",
       "    </tr>\n",
       "    <tr>\n",
       "      <th>17</th>\n",
       "      <td>3</td>\n",
       "      <td>unemployed</td>\n",
       "      <td>2334.852924</td>\n",
       "    </tr>\n",
       "    <tr>\n",
       "      <th>18</th>\n",
       "      <td>4</td>\n",
       "      <td>business</td>\n",
       "      <td>2334.852924</td>\n",
       "    </tr>\n",
       "    <tr>\n",
       "      <th>19</th>\n",
       "      <td>4</td>\n",
       "      <td>civil servant</td>\n",
       "      <td>3318.440092</td>\n",
       "    </tr>\n",
       "    <tr>\n",
       "      <th>20</th>\n",
       "      <td>4</td>\n",
       "      <td>employee</td>\n",
       "      <td>2462.762963</td>\n",
       "    </tr>\n",
       "    <tr>\n",
       "      <th>21</th>\n",
       "      <td>4</td>\n",
       "      <td>retiree</td>\n",
       "      <td>2334.852924</td>\n",
       "    </tr>\n",
       "  </tbody>\n",
       "</table>\n",
       "</div>"
      ],
      "text/plain": [
       "    age_group                  income_type  days_employed_mediana\n",
       "0           1                     business             908.139502\n",
       "1           1                civil servant            1362.645769\n",
       "2           1                     employee            1008.784193\n",
       "3           1                 entrepreneur             520.848083\n",
       "4           1                      retiree            2334.852924\n",
       "5           1                      student             578.751554\n",
       "6           2                     business            1588.581162\n",
       "7           2                civil servant            2772.638532\n",
       "8           2                     employee            1612.484985\n",
       "9           2  paternity / maternity leave            3296.759962\n",
       "10          2                      retiree            2334.852924\n",
       "11          2                   unemployed            2334.852924\n",
       "12          3                     business            2044.399299\n",
       "13          3                civil servant            3504.634243\n",
       "14          3                     employee            2124.336222\n",
       "15          3                 entrepreneur                    NaN\n",
       "16          3                      retiree            2334.852924\n",
       "17          3                   unemployed            2334.852924\n",
       "18          4                     business            2334.852924\n",
       "19          4                civil servant            3318.440092\n",
       "20          4                     employee            2462.762963\n",
       "21          4                      retiree            2334.852924"
      ]
     },
     "execution_count": 55,
     "metadata": {},
     "output_type": "execute_result"
    }
   ],
   "source": [
    "# Distribuição de `days_employed` medianos com base em seus parâmetros identificados\n",
    "by_group_median = df.groupby([\"age_group\",\"income_type\"])[\"days_employed\"].agg(\"median\").reset_index().rename(columns={\"days_employed\": \"days_employed_mediana\"})\n",
    "by_group_median"
   ]
  },
  {
   "cell_type": "code",
   "execution_count": 56,
   "id": "2bfada28-af4c-421a-a9de-c119c5d82051",
   "metadata": {
    "tags": []
   },
   "outputs": [
    {
     "data": {
      "text/html": [
       "<div>\n",
       "<style scoped>\n",
       "    .dataframe tbody tr th:only-of-type {\n",
       "        vertical-align: middle;\n",
       "    }\n",
       "\n",
       "    .dataframe tbody tr th {\n",
       "        vertical-align: top;\n",
       "    }\n",
       "\n",
       "    .dataframe thead th {\n",
       "        text-align: right;\n",
       "    }\n",
       "</style>\n",
       "<table border=\"1\" class=\"dataframe\">\n",
       "  <thead>\n",
       "    <tr style=\"text-align: right;\">\n",
       "      <th></th>\n",
       "      <th>age_group</th>\n",
       "      <th>income_type</th>\n",
       "      <th>days_employed_media</th>\n",
       "    </tr>\n",
       "  </thead>\n",
       "  <tbody>\n",
       "    <tr>\n",
       "      <th>0</th>\n",
       "      <td>1</td>\n",
       "      <td>business</td>\n",
       "      <td>1129.938925</td>\n",
       "    </tr>\n",
       "    <tr>\n",
       "      <th>1</th>\n",
       "      <td>1</td>\n",
       "      <td>civil servant</td>\n",
       "      <td>1595.684495</td>\n",
       "    </tr>\n",
       "    <tr>\n",
       "      <th>2</th>\n",
       "      <td>1</td>\n",
       "      <td>employee</td>\n",
       "      <td>1202.858627</td>\n",
       "    </tr>\n",
       "    <tr>\n",
       "      <th>3</th>\n",
       "      <td>1</td>\n",
       "      <td>entrepreneur</td>\n",
       "      <td>520.848083</td>\n",
       "    </tr>\n",
       "    <tr>\n",
       "      <th>4</th>\n",
       "      <td>1</td>\n",
       "      <td>retiree</td>\n",
       "      <td>2334.852924</td>\n",
       "    </tr>\n",
       "    <tr>\n",
       "      <th>5</th>\n",
       "      <td>1</td>\n",
       "      <td>student</td>\n",
       "      <td>578.751554</td>\n",
       "    </tr>\n",
       "    <tr>\n",
       "      <th>6</th>\n",
       "      <td>2</td>\n",
       "      <td>business</td>\n",
       "      <td>1986.234560</td>\n",
       "    </tr>\n",
       "    <tr>\n",
       "      <th>7</th>\n",
       "      <td>2</td>\n",
       "      <td>civil servant</td>\n",
       "      <td>3160.271436</td>\n",
       "    </tr>\n",
       "    <tr>\n",
       "      <th>8</th>\n",
       "      <td>2</td>\n",
       "      <td>employee</td>\n",
       "      <td>2189.340880</td>\n",
       "    </tr>\n",
       "    <tr>\n",
       "      <th>9</th>\n",
       "      <td>2</td>\n",
       "      <td>paternity / maternity leave</td>\n",
       "      <td>3296.759962</td>\n",
       "    </tr>\n",
       "    <tr>\n",
       "      <th>10</th>\n",
       "      <td>2</td>\n",
       "      <td>retiree</td>\n",
       "      <td>2334.852924</td>\n",
       "    </tr>\n",
       "    <tr>\n",
       "      <th>11</th>\n",
       "      <td>2</td>\n",
       "      <td>unemployed</td>\n",
       "      <td>2334.852924</td>\n",
       "    </tr>\n",
       "    <tr>\n",
       "      <th>12</th>\n",
       "      <td>3</td>\n",
       "      <td>business</td>\n",
       "      <td>2779.193401</td>\n",
       "    </tr>\n",
       "    <tr>\n",
       "      <th>13</th>\n",
       "      <td>3</td>\n",
       "      <td>civil servant</td>\n",
       "      <td>4396.813945</td>\n",
       "    </tr>\n",
       "    <tr>\n",
       "      <th>14</th>\n",
       "      <td>3</td>\n",
       "      <td>employee</td>\n",
       "      <td>3035.139284</td>\n",
       "    </tr>\n",
       "    <tr>\n",
       "      <th>15</th>\n",
       "      <td>3</td>\n",
       "      <td>entrepreneur</td>\n",
       "      <td>NaN</td>\n",
       "    </tr>\n",
       "    <tr>\n",
       "      <th>16</th>\n",
       "      <td>3</td>\n",
       "      <td>retiree</td>\n",
       "      <td>2334.852924</td>\n",
       "    </tr>\n",
       "    <tr>\n",
       "      <th>17</th>\n",
       "      <td>3</td>\n",
       "      <td>unemployed</td>\n",
       "      <td>2334.852924</td>\n",
       "    </tr>\n",
       "    <tr>\n",
       "      <th>18</th>\n",
       "      <td>4</td>\n",
       "      <td>business</td>\n",
       "      <td>3241.346970</td>\n",
       "    </tr>\n",
       "    <tr>\n",
       "      <th>19</th>\n",
       "      <td>4</td>\n",
       "      <td>civil servant</td>\n",
       "      <td>4343.083365</td>\n",
       "    </tr>\n",
       "    <tr>\n",
       "      <th>20</th>\n",
       "      <td>4</td>\n",
       "      <td>employee</td>\n",
       "      <td>3524.499047</td>\n",
       "    </tr>\n",
       "    <tr>\n",
       "      <th>21</th>\n",
       "      <td>4</td>\n",
       "      <td>retiree</td>\n",
       "      <td>2334.852924</td>\n",
       "    </tr>\n",
       "  </tbody>\n",
       "</table>\n",
       "</div>"
      ],
      "text/plain": [
       "    age_group                  income_type  days_employed_media\n",
       "0           1                     business          1129.938925\n",
       "1           1                civil servant          1595.684495\n",
       "2           1                     employee          1202.858627\n",
       "3           1                 entrepreneur           520.848083\n",
       "4           1                      retiree          2334.852924\n",
       "5           1                      student           578.751554\n",
       "6           2                     business          1986.234560\n",
       "7           2                civil servant          3160.271436\n",
       "8           2                     employee          2189.340880\n",
       "9           2  paternity / maternity leave          3296.759962\n",
       "10          2                      retiree          2334.852924\n",
       "11          2                   unemployed          2334.852924\n",
       "12          3                     business          2779.193401\n",
       "13          3                civil servant          4396.813945\n",
       "14          3                     employee          3035.139284\n",
       "15          3                 entrepreneur                  NaN\n",
       "16          3                      retiree          2334.852924\n",
       "17          3                   unemployed          2334.852924\n",
       "18          4                     business          3241.346970\n",
       "19          4                civil servant          4343.083365\n",
       "20          4                     employee          3524.499047\n",
       "21          4                      retiree          2334.852924"
      ]
     },
     "execution_count": 56,
     "metadata": {},
     "output_type": "execute_result"
    }
   ],
   "source": [
    "# Distribuição de `days_employed` médios com base em seus parâmetros identificados\n",
    "by_group_mean = df.groupby([\"age_group\",\"income_type\"])[\"days_employed\"].agg(\"mean\").reset_index().rename(columns={\"days_employed\": \"days_employed_media\"})\n",
    "by_group_mean"
   ]
  },
  {
   "cell_type": "markdown",
   "id": "69744479-c6d3-42a8-bb35-f9df0db90b36",
   "metadata": {
    "tags": []
   },
   "source": [
    "Usaremos novamente a mediana para obter mais valores precisos"
   ]
  },
  {
   "cell_type": "code",
   "execution_count": 66,
   "id": "ee5ff29b-1d45-4b9a-9f6d-4ed70137941b",
   "metadata": {
    "tags": []
   },
   "outputs": [],
   "source": [
    "# Vamos escrever uma função que calcule médias ou medianas (dependendo da sua decisão) com base no seu parâmetro identificado\n",
    "df[\"days_employed\"] = df[\"days_employed\"].fillna(df.groupby([\"age_group\",\"income_type\"])[\"days_employed\"].transform('median'))"
   ]
  },
  {
   "cell_type": "code",
   "execution_count": 67,
   "id": "0a31263f-c931-4604-bde0-e424f50985d1",
   "metadata": {
    "tags": []
   },
   "outputs": [
    {
     "name": "stdout",
     "output_type": "stream",
     "text": [
      "<class 'pandas.core.frame.DataFrame'>\n",
      "RangeIndex: 21471 entries, 0 to 21470\n",
      "Data columns (total 13 columns):\n",
      " #   Column            Non-Null Count  Dtype  \n",
      "---  ------            --------------  -----  \n",
      " 0   children          21471 non-null  int64  \n",
      " 1   days_employed     21470 non-null  float64\n",
      " 2   dob_years         21471 non-null  float64\n",
      " 3   education         21471 non-null  object \n",
      " 4   education_id      21471 non-null  int64  \n",
      " 5   family_status     21471 non-null  object \n",
      " 6   family_status_id  21471 non-null  int64  \n",
      " 7   gender            21471 non-null  object \n",
      " 8   income_type       21471 non-null  object \n",
      " 9   debt              21471 non-null  int64  \n",
      " 10  total_income      21471 non-null  float64\n",
      " 11  purpose           21471 non-null  object \n",
      " 12  age_group         21471 non-null  int64  \n",
      "dtypes: float64(3), int64(5), object(5)\n",
      "memory usage: 2.1+ MB\n"
     ]
    }
   ],
   "source": [
    "# Verificando se a função funciona\n",
    "df.info()"
   ]
  },
  {
   "cell_type": "markdown",
   "id": "0d24e8f5-ba78-4462-9467-978e807881cd",
   "metadata": {},
   "source": [
    "Houve uma coluna que ficou nula vamos verificar o que aconteceu."
   ]
  },
  {
   "cell_type": "code",
   "execution_count": 71,
   "id": "246abfcf-4b4f-4545-9957-f27c5190532e",
   "metadata": {
    "tags": []
   },
   "outputs": [
    {
     "data": {
      "text/html": [
       "<div>\n",
       "<style scoped>\n",
       "    .dataframe tbody tr th:only-of-type {\n",
       "        vertical-align: middle;\n",
       "    }\n",
       "\n",
       "    .dataframe tbody tr th {\n",
       "        vertical-align: top;\n",
       "    }\n",
       "\n",
       "    .dataframe thead th {\n",
       "        text-align: right;\n",
       "    }\n",
       "</style>\n",
       "<table border=\"1\" class=\"dataframe\">\n",
       "  <thead>\n",
       "    <tr style=\"text-align: right;\">\n",
       "      <th></th>\n",
       "      <th>children</th>\n",
       "      <th>days_employed</th>\n",
       "      <th>dob_years</th>\n",
       "      <th>education</th>\n",
       "      <th>education_id</th>\n",
       "      <th>family_status</th>\n",
       "      <th>family_status_id</th>\n",
       "      <th>gender</th>\n",
       "      <th>income_type</th>\n",
       "      <th>debt</th>\n",
       "      <th>total_income</th>\n",
       "      <th>purpose</th>\n",
       "      <th>age_group</th>\n",
       "    </tr>\n",
       "  </thead>\n",
       "  <tbody>\n",
       "    <tr>\n",
       "      <th>5932</th>\n",
       "      <td>0</td>\n",
       "      <td>NaN</td>\n",
       "      <td>58.0</td>\n",
       "      <td>bachelor's degree</td>\n",
       "      <td>0</td>\n",
       "      <td>married</td>\n",
       "      <td>0</td>\n",
       "      <td>M</td>\n",
       "      <td>entrepreneur</td>\n",
       "      <td>0</td>\n",
       "      <td>29369.69</td>\n",
       "      <td>buy residential real estate</td>\n",
       "      <td>3</td>\n",
       "    </tr>\n",
       "  </tbody>\n",
       "</table>\n",
       "</div>"
      ],
      "text/plain": [
       "      children  days_employed  dob_years          education  education_id  \\\n",
       "5932         0            NaN       58.0  bachelor's degree             0   \n",
       "\n",
       "     family_status  family_status_id gender   income_type  debt  total_income  \\\n",
       "5932       married                 0      M  entrepreneur     0      29369.69   \n",
       "\n",
       "                          purpose  age_group  \n",
       "5932  buy residential real estate          3  "
      ]
     },
     "execution_count": 71,
     "metadata": {},
     "output_type": "execute_result"
    }
   ],
   "source": [
    "df[df['days_employed'].isna()]"
   ]
  },
  {
   "cell_type": "markdown",
   "id": "f67e0d22-9777-4a2c-8bd0-2a0789a00685",
   "metadata": {},
   "source": [
    "Vamos preencher com a média do grupo de ano"
   ]
  },
  {
   "cell_type": "code",
   "execution_count": 72,
   "id": "4d04df80-b8fc-455c-a3f3-6934afe500a9",
   "metadata": {
    "tags": []
   },
   "outputs": [],
   "source": [
    "df3 = df[df[\"age_group\"]==3]\n",
    "df3 = df3[df3[\"income_type\"]==\"entrepreneur\"]"
   ]
  },
  {
   "cell_type": "code",
   "execution_count": 73,
   "id": "ea13b333-ce08-49d9-ba64-8d40cae35c9d",
   "metadata": {
    "tags": []
   },
   "outputs": [],
   "source": [
    "df.loc[5932,'days_employed'] = df[\"days_employed\"].median()"
   ]
  },
  {
   "cell_type": "code",
   "execution_count": 74,
   "id": "ed472534-1070-4aaf-bf9c-94dd15ff4aa6",
   "metadata": {
    "tags": []
   },
   "outputs": [
    {
     "data": {
      "text/plain": [
       "0"
      ]
     },
     "execution_count": 74,
     "metadata": {},
     "output_type": "execute_result"
    }
   ],
   "source": [
    "# Verifique se a função funcionou\n",
    "df[\"days_employed\"].isna().sum()"
   ]
  },
  {
   "cell_type": "markdown",
   "id": "cfe073ac-723c-44f6-848b-49b6b78aa42f",
   "metadata": {
    "tags": []
   },
   "source": [
    "Vamos verificar se o número total de valores nesta coluna corresponde ao número de valores em outras."
   ]
  },
  {
   "cell_type": "code",
   "execution_count": 75,
   "id": "25fb0b63-c44c-4f06-baf0-a47d1d36db4c",
   "metadata": {
    "tags": []
   },
   "outputs": [
    {
     "name": "stdout",
     "output_type": "stream",
     "text": [
      "<class 'pandas.core.frame.DataFrame'>\n",
      "RangeIndex: 21471 entries, 0 to 21470\n",
      "Data columns (total 13 columns):\n",
      " #   Column            Non-Null Count  Dtype  \n",
      "---  ------            --------------  -----  \n",
      " 0   children          21471 non-null  int64  \n",
      " 1   days_employed     21471 non-null  float64\n",
      " 2   dob_years         21471 non-null  float64\n",
      " 3   education         21471 non-null  object \n",
      " 4   education_id      21471 non-null  int64  \n",
      " 5   family_status     21471 non-null  object \n",
      " 6   family_status_id  21471 non-null  int64  \n",
      " 7   gender            21471 non-null  object \n",
      " 8   income_type       21471 non-null  object \n",
      " 9   debt              21471 non-null  int64  \n",
      " 10  total_income      21471 non-null  float64\n",
      " 11  purpose           21471 non-null  object \n",
      " 12  age_group         21471 non-null  int64  \n",
      "dtypes: float64(3), int64(5), object(5)\n",
      "memory usage: 2.1+ MB\n"
     ]
    }
   ],
   "source": [
    "# Verifique as entradas em todas as colunas - certifique-se de corrigir todos os valores ausentes\n",
    "df.info()"
   ]
  },
  {
   "cell_type": "markdown",
   "id": "4a213b03-83da-4010-8891-c9ec1efade6c",
   "metadata": {},
   "source": [
    "Concluindo assim os valores ausentes."
   ]
  },
  {
   "cell_type": "markdown",
   "id": "f8841fa8-e51e-4331-96fe-ba89d3b2dcd9",
   "metadata": {},
   "source": [
    "[Voltar ao Índice](#back)"
   ]
  },
  {
   "cell_type": "markdown",
   "id": "df51d16e-6720-4923-9fc0-92ef0248bc13",
   "metadata": {
    "tags": []
   },
   "source": [
    "## Etapa 4. Categorização de dados <a id='categorization_data'></a>\n",
    "Vamos categorizar os dados para responder algumas questões mas primeiros vamos separar um DataFrame para pessoas que possuem divida e outro para as pessoas que não possuem divida."
   ]
  },
  {
   "cell_type": "code",
   "execution_count": 77,
   "id": "67a146de-58e9-4746-9686-64dbe6498649",
   "metadata": {
    "tags": []
   },
   "outputs": [
    {
     "data": {
      "text/plain": [
       "purpose\n",
       "wedding ceremony                            0.036934\n",
       "having a wedding                            0.036002\n",
       "to have a wedding                           0.035816\n",
       "real estate transactions                    0.031438\n",
       "buy commercial real estate                  0.030832\n",
       "buying property for renting out             0.030367\n",
       "housing transactions                        0.030367\n",
       "transactions with commercial real estate    0.030273\n",
       "purchase of the house                       0.030087\n",
       "housing                                     0.030087\n",
       "purchase of the house for my family         0.029714\n",
       "construction of own property                0.029575\n",
       "property                                    0.029482\n",
       "transactions with my real estate            0.029202\n",
       "building a real estate                      0.029109\n",
       "buy real estate                             0.028923\n",
       "purchase of my own house                    0.028876\n",
       "building a property                         0.028830\n",
       "housing renovation                          0.028271\n",
       "buy residential real estate                 0.028224\n",
       "buying my own car                           0.023520\n",
       "going to university                         0.023101\n",
       "car                                         0.023008\n",
       "second-hand car purchase                    0.022635\n",
       "to own a car                                0.022309\n",
       "buying a second-hand car                    0.022263\n",
       "cars                                        0.022263\n",
       "to buy a car                                0.021983\n",
       "car purchase                                0.021471\n",
       "supplementary education                     0.021424\n",
       "purchase of a car                           0.021191\n",
       "university education                        0.021052\n",
       "education                                   0.020819\n",
       "to get a supplementary education            0.020819\n",
       "getting an education                        0.020586\n",
       "profile education                           0.020306\n",
       "getting higher education                    0.019841\n",
       "to become educated                          0.019002\n",
       "Name: proportion, dtype: float64"
      ]
     },
     "execution_count": 77,
     "metadata": {},
     "output_type": "execute_result"
    }
   ],
   "source": [
    "# Exiba os valores dos dados selecionados para categorização\n",
    "df['purpose'].value_counts(normalize=True)"
   ]
  },
  {
   "cell_type": "code",
   "execution_count": 78,
   "id": "d4dd04ce-6a3f-44af-a138-5fd2e1d0283d",
   "metadata": {
    "tags": []
   },
   "outputs": [],
   "source": [
    "def categorize_purpose(row):\n",
    "    if 'car' in row['purpose']:\n",
    "        return 'car'\n",
    "    if 'hous' in row['purpose'] or 'prop' in row['purpose'] or 'real est' in row['purpose']:\n",
    "        return 'real estate'\n",
    "    if 'educat' in row['purpose'] or 'universi' in row['purpose']:\n",
    "        return 'education'\n",
    "    if 'weddin' in row['purpose']:\n",
    "        return 'wedding'"
   ]
  },
  {
   "cell_type": "code",
   "execution_count": 79,
   "id": "5f467160-c740-4ba3-8012-b26cdcf58cbb",
   "metadata": {
    "tags": []
   },
   "outputs": [
    {
     "data": {
      "text/plain": [
       "'car'"
      ]
     },
     "execution_count": 79,
     "metadata": {},
     "output_type": "execute_result"
    }
   ],
   "source": [
    "categorize_purpose(df.loc[1])"
   ]
  },
  {
   "cell_type": "code",
   "execution_count": 80,
   "id": "e2e00697-ca7d-4389-b4eb-deae7e5a906a",
   "metadata": {
    "tags": []
   },
   "outputs": [],
   "source": [
    "df['purpose_group'] = df.apply(categorize_purpose, axis=1)"
   ]
  },
  {
   "cell_type": "code",
   "execution_count": 81,
   "id": "18ce2587-0230-44d3-88f8-f65937915e00",
   "metadata": {
    "tags": []
   },
   "outputs": [
    {
     "data": {
      "text/plain": [
       "purpose_group\n",
       "real estate    0.503656\n",
       "car            0.200643\n",
       "education      0.186950\n",
       "wedding        0.108751\n",
       "Name: proportion, dtype: float64"
      ]
     },
     "execution_count": 81,
     "metadata": {},
     "output_type": "execute_result"
    }
   ],
   "source": [
    "df['purpose_group'].value_counts(normalize=True)"
   ]
  },
  {
   "cell_type": "markdown",
   "id": "66b3fca1-3c6e-42a1-b835-6c9b3c57537d",
   "metadata": {},
   "source": [
    "Vemos que 50% de intençao de empréstimo esta relacionada a compra/manutenção/quitação de dividas relacionadas a casa."
   ]
  },
  {
   "cell_type": "markdown",
   "id": "fbd8161c-b8fb-48c2-9ec5-fea381af7fb2",
   "metadata": {},
   "source": [
    "Vamos criar uma categoria com base no nível de renda, classificados de 'A' como mais alto e 'E' o mais baixo."
   ]
  },
  {
   "cell_type": "code",
   "execution_count": 82,
   "id": "6103db31-7b15-4255-8b10-c5102b7d738f",
   "metadata": {
    "tags": []
   },
   "outputs": [],
   "source": [
    "# Criar função para categorização em diferentes grupos numéricos com base em intervalos\n",
    "def preencher_income_level(row):\n",
    "    if row['total_income'] < 20000:\n",
    "        return 'E'\n",
    "    elif row['total_income'] <30000:\n",
    "        return 'D'\n",
    "    elif row['total_income'] <40000:\n",
    "        return 'C'\n",
    "    elif row['total_income'] <50000:\n",
    "        return 'B'\n",
    "    else:\n",
    "        return 'A'"
   ]
  },
  {
   "cell_type": "code",
   "execution_count": 83,
   "id": "23c4c6fb-7c44-4d7c-8f22-9979729321f0",
   "metadata": {
    "tags": []
   },
   "outputs": [],
   "source": [
    "# Criar coluna com categorias\n",
    "df['income_level'] = df.apply(preencher_income_level, axis=1)"
   ]
  },
  {
   "cell_type": "code",
   "execution_count": 84,
   "id": "57a536a7-bb4d-4256-ad4f-2c6adf293575",
   "metadata": {
    "tags": []
   },
   "outputs": [
    {
     "data": {
      "text/plain": [
       "income_level\n",
       "D    7963\n",
       "E    7589\n",
       "C    3107\n",
       "B    1492\n",
       "A    1320\n",
       "Name: count, dtype: int64"
      ]
     },
     "execution_count": 84,
     "metadata": {},
     "output_type": "execute_result"
    }
   ],
   "source": [
    "# Conte os valores de cada categoria para ver a distribuição\n",
    "df['income_level'].value_counts()"
   ]
  },
  {
   "cell_type": "markdown",
   "id": "447410d1-5bf6-43f3-9bdf-0bf7d370e752",
   "metadata": {
    "tags": []
   },
   "source": [
    "[Voltar ao Índice](#back)"
   ]
  },
  {
   "cell_type": "markdown",
   "id": "683e371a-20cd-42d7-9036-05ea0e6a1fd5",
   "metadata": {},
   "source": [
    "## Verificar as Hipóteses <a id='hypotheses'></a>"
   ]
  },
  {
   "cell_type": "markdown",
   "id": "06be473d-5d23-4f30-b12a-48ef7e95689d",
   "metadata": {},
   "source": [
    "### Existe uma correlação entre a quantidade de crianças e do pagamento em dia?"
   ]
  },
  {
   "cell_type": "code",
   "execution_count": 86,
   "id": "150e1c06-8072-4648-b1c7-bb6772608d1b",
   "metadata": {
    "tags": []
   },
   "outputs": [],
   "source": [
    "# Verifique os dados das crianças e do pagamento em dia\n",
    "\n",
    "pivot_children = df.pivot_table(index='children',columns='debt',values='days_employed', aggfunc='count') \n",
    "# Calcular a taxa de inadimplência com base no número de filhos\n",
    "pivot_children['taxa_de_inadimplencia'] = (pivot_children[1] / (pivot_children[1]+pivot_children[0])*100)"
   ]
  },
  {
   "cell_type": "code",
   "execution_count": 87,
   "id": "130280be-beb3-4022-89c2-b0d37d21144c",
   "metadata": {
    "tags": []
   },
   "outputs": [
    {
     "data": {
      "text/html": [
       "<div>\n",
       "<style scoped>\n",
       "    .dataframe tbody tr th:only-of-type {\n",
       "        vertical-align: middle;\n",
       "    }\n",
       "\n",
       "    .dataframe tbody tr th {\n",
       "        vertical-align: top;\n",
       "    }\n",
       "\n",
       "    .dataframe thead th {\n",
       "        text-align: right;\n",
       "    }\n",
       "</style>\n",
       "<table border=\"1\" class=\"dataframe\">\n",
       "  <thead>\n",
       "    <tr style=\"text-align: right;\">\n",
       "      <th>debt</th>\n",
       "      <th>0</th>\n",
       "      <th>1</th>\n",
       "      <th>taxa_de_inadimplencia</th>\n",
       "    </tr>\n",
       "    <tr>\n",
       "      <th>children</th>\n",
       "      <th></th>\n",
       "      <th></th>\n",
       "      <th></th>\n",
       "    </tr>\n",
       "  </thead>\n",
       "  <tbody>\n",
       "    <tr>\n",
       "      <th>4</th>\n",
       "      <td>37.0</td>\n",
       "      <td>4.0</td>\n",
       "      <td>9.756098</td>\n",
       "    </tr>\n",
       "    <tr>\n",
       "      <th>2</th>\n",
       "      <td>1926.0</td>\n",
       "      <td>202.0</td>\n",
       "      <td>9.492481</td>\n",
       "    </tr>\n",
       "    <tr>\n",
       "      <th>1</th>\n",
       "      <td>4411.0</td>\n",
       "      <td>445.0</td>\n",
       "      <td>9.163921</td>\n",
       "    </tr>\n",
       "    <tr>\n",
       "      <th>3</th>\n",
       "      <td>303.0</td>\n",
       "      <td>27.0</td>\n",
       "      <td>8.181818</td>\n",
       "    </tr>\n",
       "    <tr>\n",
       "      <th>0</th>\n",
       "      <td>13044.0</td>\n",
       "      <td>1063.0</td>\n",
       "      <td>7.535266</td>\n",
       "    </tr>\n",
       "    <tr>\n",
       "      <th>5</th>\n",
       "      <td>9.0</td>\n",
       "      <td>NaN</td>\n",
       "      <td>NaN</td>\n",
       "    </tr>\n",
       "  </tbody>\n",
       "</table>\n",
       "</div>"
      ],
      "text/plain": [
       "debt            0       1  taxa_de_inadimplencia\n",
       "children                                        \n",
       "4            37.0     4.0               9.756098\n",
       "2          1926.0   202.0               9.492481\n",
       "1          4411.0   445.0               9.163921\n",
       "3           303.0    27.0               8.181818\n",
       "0         13044.0  1063.0               7.535266\n",
       "5             9.0     NaN                    NaN"
      ]
     },
     "execution_count": 87,
     "metadata": {},
     "output_type": "execute_result"
    }
   ],
   "source": [
    "pivot_children.sort_values(by='taxa_de_inadimplencia', ascending=False)"
   ]
  },
  {
   "cell_type": "markdown",
   "id": "8fae3b2f-addd-44e1-a88e-61f2844bbc00",
   "metadata": {},
   "source": [
    "Concluimos que a maior taxa inadimplência é de 4 filhos é de quase 10%!!!"
   ]
  },
  {
   "cell_type": "markdown",
   "id": "2b1e2b75-ea2a-483a-98fe-74608283fe12",
   "metadata": {
    "tags": []
   },
   "source": [
    "### Existe uma correlação entre o status familiar e o pagamento em dia?"
   ]
  },
  {
   "cell_type": "code",
   "execution_count": 89,
   "id": "2b948252-2840-4a41-b012-70596f7cc28c",
   "metadata": {
    "tags": []
   },
   "outputs": [],
   "source": [
    "# Verifique os dados de status da família e do pagamento em dia\n",
    "\n",
    "pivot_family_status = df.pivot_table(index='family_status',columns='debt',values='days_employed', aggfunc='count') \n",
    "# Calcular a taxa padrão com base no status da família\n",
    "pivot_family_status['taxa_de_inadimplencia'] = (pivot_family_status[1] / (pivot_family_status[1]+pivot_family_status[0])*100)"
   ]
  },
  {
   "cell_type": "code",
   "execution_count": 90,
   "id": "e04e77b2-9e19-4aef-b73d-de3fec183a4a",
   "metadata": {
    "tags": []
   },
   "outputs": [
    {
     "data": {
      "text/html": [
       "<div>\n",
       "<style scoped>\n",
       "    .dataframe tbody tr th:only-of-type {\n",
       "        vertical-align: middle;\n",
       "    }\n",
       "\n",
       "    .dataframe tbody tr th {\n",
       "        vertical-align: top;\n",
       "    }\n",
       "\n",
       "    .dataframe thead th {\n",
       "        text-align: right;\n",
       "    }\n",
       "</style>\n",
       "<table border=\"1\" class=\"dataframe\">\n",
       "  <thead>\n",
       "    <tr style=\"text-align: right;\">\n",
       "      <th>debt</th>\n",
       "      <th>0</th>\n",
       "      <th>1</th>\n",
       "      <th>taxa_de_inadimplencia</th>\n",
       "    </tr>\n",
       "    <tr>\n",
       "      <th>family_status</th>\n",
       "      <th></th>\n",
       "      <th></th>\n",
       "      <th></th>\n",
       "    </tr>\n",
       "  </thead>\n",
       "  <tbody>\n",
       "    <tr>\n",
       "      <th>unmarried</th>\n",
       "      <td>2536</td>\n",
       "      <td>274</td>\n",
       "      <td>9.750890</td>\n",
       "    </tr>\n",
       "    <tr>\n",
       "      <th>civil partnership</th>\n",
       "      <td>3775</td>\n",
       "      <td>388</td>\n",
       "      <td>9.320202</td>\n",
       "    </tr>\n",
       "    <tr>\n",
       "      <th>married</th>\n",
       "      <td>11413</td>\n",
       "      <td>931</td>\n",
       "      <td>7.542126</td>\n",
       "    </tr>\n",
       "    <tr>\n",
       "      <th>divorced</th>\n",
       "      <td>1110</td>\n",
       "      <td>85</td>\n",
       "      <td>7.112971</td>\n",
       "    </tr>\n",
       "    <tr>\n",
       "      <th>widow / widower</th>\n",
       "      <td>896</td>\n",
       "      <td>63</td>\n",
       "      <td>6.569343</td>\n",
       "    </tr>\n",
       "  </tbody>\n",
       "</table>\n",
       "</div>"
      ],
      "text/plain": [
       "debt                   0    1  taxa_de_inadimplencia\n",
       "family_status                                       \n",
       "unmarried           2536  274               9.750890\n",
       "civil partnership   3775  388               9.320202\n",
       "married            11413  931               7.542126\n",
       "divorced            1110   85               7.112971\n",
       "widow / widower      896   63               6.569343"
      ]
     },
     "execution_count": 90,
     "metadata": {},
     "output_type": "execute_result"
    }
   ],
   "source": [
    "pivot_family_status.sort_values(by='taxa_de_inadimplencia', ascending=False)"
   ]
  },
  {
   "cell_type": "markdown",
   "id": "a853ef82-cb51-4e59-b35b-20e2133cacfa",
   "metadata": {
    "tags": []
   },
   "source": [
    "A maior taxa de inadimplência são de pessoas solteiras quase 10%."
   ]
  },
  {
   "cell_type": "markdown",
   "id": "f10bacae-79ab-4eb6-b6fe-56cdbb1ac80d",
   "metadata": {
    "tags": []
   },
   "source": [
    "### Existe uma correlação entre o nivel de renda e o pagamento em dia?"
   ]
  },
  {
   "cell_type": "code",
   "execution_count": 94,
   "id": "41e8cbfe-64de-4fa3-947e-e6c55893a455",
   "metadata": {
    "tags": []
   },
   "outputs": [],
   "source": [
    "# Verifique os dados do nível de renda e do pagamento em dia\n",
    "\n",
    "pivot_income_level = df.pivot_table(index='income_level',columns='debt',values='days_employed', aggfunc='count') \n",
    "# Calcular a taxa de inadimplência com base no nível de renda\n",
    "pivot_income_level['taxa_de_inadimplencia'] = (pivot_income_level[1] / (pivot_income_level[1]+pivot_income_level[0])*100)"
   ]
  },
  {
   "cell_type": "code",
   "execution_count": 95,
   "id": "a0256784-b30a-4ff3-9b37-12c45e456a21",
   "metadata": {
    "tags": []
   },
   "outputs": [
    {
     "data": {
      "text/html": [
       "<div>\n",
       "<style scoped>\n",
       "    .dataframe tbody tr th:only-of-type {\n",
       "        vertical-align: middle;\n",
       "    }\n",
       "\n",
       "    .dataframe tbody tr th {\n",
       "        vertical-align: top;\n",
       "    }\n",
       "\n",
       "    .dataframe thead th {\n",
       "        text-align: right;\n",
       "    }\n",
       "</style>\n",
       "<table border=\"1\" class=\"dataframe\">\n",
       "  <thead>\n",
       "    <tr style=\"text-align: right;\">\n",
       "      <th>debt</th>\n",
       "      <th>0</th>\n",
       "      <th>1</th>\n",
       "      <th>taxa_de_inadimplencia</th>\n",
       "    </tr>\n",
       "    <tr>\n",
       "      <th>income_level</th>\n",
       "      <th></th>\n",
       "      <th></th>\n",
       "      <th></th>\n",
       "    </tr>\n",
       "  </thead>\n",
       "  <tbody>\n",
       "    <tr>\n",
       "      <th>D</th>\n",
       "      <td>7280</td>\n",
       "      <td>683</td>\n",
       "      <td>8.577169</td>\n",
       "    </tr>\n",
       "    <tr>\n",
       "      <th>E</th>\n",
       "      <td>6967</td>\n",
       "      <td>622</td>\n",
       "      <td>8.196073</td>\n",
       "    </tr>\n",
       "    <tr>\n",
       "      <th>C</th>\n",
       "      <td>2865</td>\n",
       "      <td>242</td>\n",
       "      <td>7.788864</td>\n",
       "    </tr>\n",
       "    <tr>\n",
       "      <th>A</th>\n",
       "      <td>1228</td>\n",
       "      <td>92</td>\n",
       "      <td>6.969697</td>\n",
       "    </tr>\n",
       "    <tr>\n",
       "      <th>B</th>\n",
       "      <td>1390</td>\n",
       "      <td>102</td>\n",
       "      <td>6.836461</td>\n",
       "    </tr>\n",
       "  </tbody>\n",
       "</table>\n",
       "</div>"
      ],
      "text/plain": [
       "debt             0    1  taxa_de_inadimplencia\n",
       "income_level                                  \n",
       "D             7280  683               8.577169\n",
       "E             6967  622               8.196073\n",
       "C             2865  242               7.788864\n",
       "A             1228   92               6.969697\n",
       "B             1390  102               6.836461"
      ]
     },
     "execution_count": 95,
     "metadata": {},
     "output_type": "execute_result"
    }
   ],
   "source": [
    "pivot_income_level.sort_values(by='taxa_de_inadimplencia', ascending=False)"
   ]
  },
  {
   "cell_type": "markdown",
   "id": "d5b9c70c-4162-4241-9d6f-2955dbae9309",
   "metadata": {
    "tags": []
   },
   "source": [
    "Pessoas no nivel de renda D, tem a maior taxa de inadimplência, em torno de 8,5%."
   ]
  },
  {
   "cell_type": "markdown",
   "id": "c09afa20-a2b0-403e-82cb-11923083c666",
   "metadata": {},
   "source": [
    "### Como a finalidade do crédito afeta a taxa de inadimplência?"
   ]
  },
  {
   "cell_type": "code",
   "execution_count": 97,
   "id": "f0548cdc-3459-4b08-9eb7-3c2f02a1d463",
   "metadata": {
    "tags": []
   },
   "outputs": [],
   "source": [
    "pivot_purpose_group = df.pivot_table(index='purpose_group',columns='debt',values='days_employed', aggfunc='count') \n",
    "pivot_purpose_group['taxa_de_inadimplencia'] = (pivot_purpose_group[1] / (pivot_purpose_group[1]+pivot_purpose_group[0])*100)"
   ]
  },
  {
   "cell_type": "code",
   "execution_count": 98,
   "id": "538e8fe7-d04d-4cc8-b9be-6355d3791237",
   "metadata": {
    "tags": []
   },
   "outputs": [
    {
     "data": {
      "text/html": [
       "<div>\n",
       "<style scoped>\n",
       "    .dataframe tbody tr th:only-of-type {\n",
       "        vertical-align: middle;\n",
       "    }\n",
       "\n",
       "    .dataframe tbody tr th {\n",
       "        vertical-align: top;\n",
       "    }\n",
       "\n",
       "    .dataframe thead th {\n",
       "        text-align: right;\n",
       "    }\n",
       "</style>\n",
       "<table border=\"1\" class=\"dataframe\">\n",
       "  <thead>\n",
       "    <tr style=\"text-align: right;\">\n",
       "      <th>debt</th>\n",
       "      <th>0</th>\n",
       "      <th>1</th>\n",
       "      <th>taxa_de_inadimplencia</th>\n",
       "    </tr>\n",
       "    <tr>\n",
       "      <th>purpose_group</th>\n",
       "      <th></th>\n",
       "      <th></th>\n",
       "      <th></th>\n",
       "    </tr>\n",
       "  </thead>\n",
       "  <tbody>\n",
       "    <tr>\n",
       "      <th>car</th>\n",
       "      <td>3905</td>\n",
       "      <td>403</td>\n",
       "      <td>9.354689</td>\n",
       "    </tr>\n",
       "    <tr>\n",
       "      <th>education</th>\n",
       "      <td>3644</td>\n",
       "      <td>370</td>\n",
       "      <td>9.217738</td>\n",
       "    </tr>\n",
       "    <tr>\n",
       "      <th>wedding</th>\n",
       "      <td>2149</td>\n",
       "      <td>186</td>\n",
       "      <td>7.965739</td>\n",
       "    </tr>\n",
       "    <tr>\n",
       "      <th>real estate</th>\n",
       "      <td>10032</td>\n",
       "      <td>782</td>\n",
       "      <td>7.231367</td>\n",
       "    </tr>\n",
       "  </tbody>\n",
       "</table>\n",
       "</div>"
      ],
      "text/plain": [
       "debt               0    1  taxa_de_inadimplencia\n",
       "purpose_group                                   \n",
       "car             3905  403               9.354689\n",
       "education       3644  370               9.217738\n",
       "wedding         2149  186               7.965739\n",
       "real estate    10032  782               7.231367"
      ]
     },
     "execution_count": 98,
     "metadata": {},
     "output_type": "execute_result"
    }
   ],
   "source": [
    "pivot_purpose_group.sort_values(by='taxa_de_inadimplencia', ascending=False)"
   ]
  },
  {
   "cell_type": "code",
   "execution_count": 100,
   "id": "2abaaa5d-f767-4e19-b76e-28ccb47b1183",
   "metadata": {
    "tags": []
   },
   "outputs": [],
   "source": [
    "pivot_purpose = df.pivot_table(index='purpose',columns='debt',values='days_employed', aggfunc='count') \n",
    "pivot_purpose['taxa_de_inadimplencia'] = (pivot_purpose[1] / (pivot_purpose[1]+pivot_purpose[0])*100)"
   ]
  },
  {
   "cell_type": "code",
   "execution_count": 101,
   "id": "b1bdd2b7-ba5e-4bdf-a68a-657562f46c25",
   "metadata": {
    "tags": []
   },
   "outputs": [
    {
     "data": {
      "text/html": [
       "<div>\n",
       "<style scoped>\n",
       "    .dataframe tbody tr th:only-of-type {\n",
       "        vertical-align: middle;\n",
       "    }\n",
       "\n",
       "    .dataframe tbody tr th {\n",
       "        vertical-align: top;\n",
       "    }\n",
       "\n",
       "    .dataframe thead th {\n",
       "        text-align: right;\n",
       "    }\n",
       "</style>\n",
       "<table border=\"1\" class=\"dataframe\">\n",
       "  <thead>\n",
       "    <tr style=\"text-align: right;\">\n",
       "      <th>debt</th>\n",
       "      <th>0</th>\n",
       "      <th>1</th>\n",
       "      <th>taxa_de_inadimplencia</th>\n",
       "    </tr>\n",
       "    <tr>\n",
       "      <th>purpose</th>\n",
       "      <th></th>\n",
       "      <th></th>\n",
       "      <th></th>\n",
       "    </tr>\n",
       "  </thead>\n",
       "  <tbody>\n",
       "    <tr>\n",
       "      <th>to get a supplementary education</th>\n",
       "      <td>396</td>\n",
       "      <td>51</td>\n",
       "      <td>11.409396</td>\n",
       "    </tr>\n",
       "    <tr>\n",
       "      <th>purchase of a car</th>\n",
       "      <td>405</td>\n",
       "      <td>50</td>\n",
       "      <td>10.989011</td>\n",
       "    </tr>\n",
       "    <tr>\n",
       "      <th>getting higher education</th>\n",
       "      <td>380</td>\n",
       "      <td>46</td>\n",
       "      <td>10.798122</td>\n",
       "    </tr>\n",
       "    <tr>\n",
       "      <th>second-hand car purchase</th>\n",
       "      <td>435</td>\n",
       "      <td>51</td>\n",
       "      <td>10.493827</td>\n",
       "    </tr>\n",
       "    <tr>\n",
       "      <th>profile education</th>\n",
       "      <td>392</td>\n",
       "      <td>44</td>\n",
       "      <td>10.091743</td>\n",
       "    </tr>\n",
       "    <tr>\n",
       "      <th>to own a car</th>\n",
       "      <td>431</td>\n",
       "      <td>48</td>\n",
       "      <td>10.020877</td>\n",
       "    </tr>\n",
       "    <tr>\n",
       "      <th>to become educated</th>\n",
       "      <td>369</td>\n",
       "      <td>39</td>\n",
       "      <td>9.558824</td>\n",
       "    </tr>\n",
       "    <tr>\n",
       "      <th>to buy a car</th>\n",
       "      <td>428</td>\n",
       "      <td>44</td>\n",
       "      <td>9.322034</td>\n",
       "    </tr>\n",
       "    <tr>\n",
       "      <th>cars</th>\n",
       "      <td>434</td>\n",
       "      <td>44</td>\n",
       "      <td>9.205021</td>\n",
       "    </tr>\n",
       "    <tr>\n",
       "      <th>car purchase</th>\n",
       "      <td>419</td>\n",
       "      <td>42</td>\n",
       "      <td>9.110629</td>\n",
       "    </tr>\n",
       "    <tr>\n",
       "      <th>buying my own car</th>\n",
       "      <td>459</td>\n",
       "      <td>46</td>\n",
       "      <td>9.108911</td>\n",
       "    </tr>\n",
       "    <tr>\n",
       "      <th>university education</th>\n",
       "      <td>412</td>\n",
       "      <td>40</td>\n",
       "      <td>8.849558</td>\n",
       "    </tr>\n",
       "    <tr>\n",
       "      <th>building a property</th>\n",
       "      <td>565</td>\n",
       "      <td>54</td>\n",
       "      <td>8.723748</td>\n",
       "    </tr>\n",
       "    <tr>\n",
       "      <th>going to university</th>\n",
       "      <td>453</td>\n",
       "      <td>43</td>\n",
       "      <td>8.669355</td>\n",
       "    </tr>\n",
       "    <tr>\n",
       "      <th>car</th>\n",
       "      <td>452</td>\n",
       "      <td>42</td>\n",
       "      <td>8.502024</td>\n",
       "    </tr>\n",
       "    <tr>\n",
       "      <th>getting an education</th>\n",
       "      <td>405</td>\n",
       "      <td>37</td>\n",
       "      <td>8.371041</td>\n",
       "    </tr>\n",
       "    <tr>\n",
       "      <th>having a wedding</th>\n",
       "      <td>709</td>\n",
       "      <td>64</td>\n",
       "      <td>8.279431</td>\n",
       "    </tr>\n",
       "    <tr>\n",
       "      <th>supplementary education</th>\n",
       "      <td>422</td>\n",
       "      <td>38</td>\n",
       "      <td>8.260870</td>\n",
       "    </tr>\n",
       "    <tr>\n",
       "      <th>real estate transactions</th>\n",
       "      <td>620</td>\n",
       "      <td>55</td>\n",
       "      <td>8.148148</td>\n",
       "    </tr>\n",
       "    <tr>\n",
       "      <th>wedding ceremony</th>\n",
       "      <td>729</td>\n",
       "      <td>64</td>\n",
       "      <td>8.070618</td>\n",
       "    </tr>\n",
       "    <tr>\n",
       "      <th>transactions with commercial real estate</th>\n",
       "      <td>598</td>\n",
       "      <td>52</td>\n",
       "      <td>8.000000</td>\n",
       "    </tr>\n",
       "    <tr>\n",
       "      <th>buying property for renting out</th>\n",
       "      <td>600</td>\n",
       "      <td>52</td>\n",
       "      <td>7.975460</td>\n",
       "    </tr>\n",
       "    <tr>\n",
       "      <th>transactions with my real estate</th>\n",
       "      <td>577</td>\n",
       "      <td>50</td>\n",
       "      <td>7.974482</td>\n",
       "    </tr>\n",
       "    <tr>\n",
       "      <th>building a real estate</th>\n",
       "      <td>577</td>\n",
       "      <td>48</td>\n",
       "      <td>7.680000</td>\n",
       "    </tr>\n",
       "    <tr>\n",
       "      <th>to have a wedding</th>\n",
       "      <td>711</td>\n",
       "      <td>58</td>\n",
       "      <td>7.542263</td>\n",
       "    </tr>\n",
       "    <tr>\n",
       "      <th>buying a second-hand car</th>\n",
       "      <td>442</td>\n",
       "      <td>36</td>\n",
       "      <td>7.531381</td>\n",
       "    </tr>\n",
       "    <tr>\n",
       "      <th>purchase of the house</th>\n",
       "      <td>598</td>\n",
       "      <td>48</td>\n",
       "      <td>7.430341</td>\n",
       "    </tr>\n",
       "    <tr>\n",
       "      <th>housing transactions</th>\n",
       "      <td>604</td>\n",
       "      <td>48</td>\n",
       "      <td>7.361963</td>\n",
       "    </tr>\n",
       "    <tr>\n",
       "      <th>education</th>\n",
       "      <td>415</td>\n",
       "      <td>32</td>\n",
       "      <td>7.158837</td>\n",
       "    </tr>\n",
       "    <tr>\n",
       "      <th>housing</th>\n",
       "      <td>600</td>\n",
       "      <td>46</td>\n",
       "      <td>7.120743</td>\n",
       "    </tr>\n",
       "    <tr>\n",
       "      <th>buy commercial real estate</th>\n",
       "      <td>615</td>\n",
       "      <td>47</td>\n",
       "      <td>7.099698</td>\n",
       "    </tr>\n",
       "    <tr>\n",
       "      <th>purchase of the house for my family</th>\n",
       "      <td>593</td>\n",
       "      <td>45</td>\n",
       "      <td>7.053292</td>\n",
       "    </tr>\n",
       "    <tr>\n",
       "      <th>buy real estate</th>\n",
       "      <td>578</td>\n",
       "      <td>43</td>\n",
       "      <td>6.924316</td>\n",
       "    </tr>\n",
       "    <tr>\n",
       "      <th>buy residential real estate</th>\n",
       "      <td>565</td>\n",
       "      <td>41</td>\n",
       "      <td>6.765677</td>\n",
       "    </tr>\n",
       "    <tr>\n",
       "      <th>property</th>\n",
       "      <td>591</td>\n",
       "      <td>42</td>\n",
       "      <td>6.635071</td>\n",
       "    </tr>\n",
       "    <tr>\n",
       "      <th>construction of own property</th>\n",
       "      <td>593</td>\n",
       "      <td>42</td>\n",
       "      <td>6.614173</td>\n",
       "    </tr>\n",
       "    <tr>\n",
       "      <th>housing renovation</th>\n",
       "      <td>572</td>\n",
       "      <td>35</td>\n",
       "      <td>5.766063</td>\n",
       "    </tr>\n",
       "    <tr>\n",
       "      <th>purchase of my own house</th>\n",
       "      <td>586</td>\n",
       "      <td>34</td>\n",
       "      <td>5.483871</td>\n",
       "    </tr>\n",
       "  </tbody>\n",
       "</table>\n",
       "</div>"
      ],
      "text/plain": [
       "debt                                        0   1  taxa_de_inadimplencia\n",
       "purpose                                                                 \n",
       "to get a supplementary education          396  51              11.409396\n",
       "purchase of a car                         405  50              10.989011\n",
       "getting higher education                  380  46              10.798122\n",
       "second-hand car purchase                  435  51              10.493827\n",
       "profile education                         392  44              10.091743\n",
       "to own a car                              431  48              10.020877\n",
       "to become educated                        369  39               9.558824\n",
       "to buy a car                              428  44               9.322034\n",
       "cars                                      434  44               9.205021\n",
       "car purchase                              419  42               9.110629\n",
       "buying my own car                         459  46               9.108911\n",
       "university education                      412  40               8.849558\n",
       "building a property                       565  54               8.723748\n",
       "going to university                       453  43               8.669355\n",
       "car                                       452  42               8.502024\n",
       "getting an education                      405  37               8.371041\n",
       "having a wedding                          709  64               8.279431\n",
       "supplementary education                   422  38               8.260870\n",
       "real estate transactions                  620  55               8.148148\n",
       "wedding ceremony                          729  64               8.070618\n",
       "transactions with commercial real estate  598  52               8.000000\n",
       "buying property for renting out           600  52               7.975460\n",
       "transactions with my real estate          577  50               7.974482\n",
       "building a real estate                    577  48               7.680000\n",
       "to have a wedding                         711  58               7.542263\n",
       "buying a second-hand car                  442  36               7.531381\n",
       "purchase of the house                     598  48               7.430341\n",
       "housing transactions                      604  48               7.361963\n",
       "education                                 415  32               7.158837\n",
       "housing                                   600  46               7.120743\n",
       "buy commercial real estate                615  47               7.099698\n",
       "purchase of the house for my family       593  45               7.053292\n",
       "buy real estate                           578  43               6.924316\n",
       "buy residential real estate               565  41               6.765677\n",
       "property                                  591  42               6.635071\n",
       "construction of own property              593  42               6.614173\n",
       "housing renovation                        572  35               5.766063\n",
       "purchase of my own house                  586  34               5.483871"
      ]
     },
     "execution_count": 101,
     "metadata": {},
     "output_type": "execute_result"
    }
   ],
   "source": [
    "pivot_purpose.sort_values(by='taxa_de_inadimplencia', ascending=False)"
   ]
  },
  {
   "cell_type": "markdown",
   "id": "80d27278-1767-4e9d-b037-29d43c9d2a7c",
   "metadata": {},
   "source": [
    "**Conclusão**\n",
    "Sobre as inteções de empréstimo, usando um grupo de propósitos sobre o empréstimo, empréstimos relacionado para resolver assuntos sobre o carro fica em primeiro lugar com 9,5%, mas se fomos mais especificos por assunto, o propósito 'para obter uma educação complementar' é o campeão de inadimplência com 11,4%."
   ]
  },
  {
   "cell_type": "markdown",
   "id": "55927b3f-e0fc-41d2-8a99-fb0f524d1899",
   "metadata": {
    "tags": []
   },
   "source": [
    "# Conclusão Geral <a id='end'></a>\n",
    "\n",
    "\n",
    "\n",
    "Neste projeto realizamos o pré-processamento de dados,em cada coluna realizamos a padronização de estilos, modificamos valores incongruentes, substituimos valores ausentes com base em estudos sobre outras colunas com valores devidamente preenchidos, removemos as duplicatas de valores existente na base de dados, fizemos pesquisa de quais fatores são mais determinantes para os usuários inadimplêntes e concluímos que fatores como: a quantidade de filhos, estado civil do cliente , a finalidade de crédito e o nível de renda são valores que impactam significativamente a inadimplência do clientes."
   ]
  }
 ],
 "metadata": {
  "kernelspec": {
   "display_name": "Python 3 (ipykernel)",
   "language": "python",
   "name": "python3"
  },
  "language_info": {
   "codemirror_mode": {
    "name": "ipython",
    "version": 3
   },
   "file_extension": ".py",
   "mimetype": "text/x-python",
   "name": "python",
   "nbconvert_exporter": "python",
   "pygments_lexer": "ipython3",
   "version": "3.11.5"
  }
 },
 "nbformat": 4,
 "nbformat_minor": 5
}
