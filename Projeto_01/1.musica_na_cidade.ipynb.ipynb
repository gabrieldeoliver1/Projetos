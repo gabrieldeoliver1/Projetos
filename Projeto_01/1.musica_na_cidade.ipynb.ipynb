{
 "cells": [
  {
   "cell_type": "markdown",
   "metadata": {
    "id": "E0vqbgi9ay0H"
   },
   "source": [
    "# Yandex.Music"
   ]
  },
  {
   "cell_type": "markdown",
   "metadata": {
    "id": "fhq_eyov_Zcs"
   },
   "source": [
    "# Contents <a id='back'></a>\n",
    "\n",
    "* [Introdução](#intro)\n",
    "* [Etapa 1. Visão geral dos dados](#data_review)\n",
    "    * [Conclusões](#data_review_conclusions)\n",
    "* [Etapa 2. Pré-processamento de dados](#data_preprocessing)\n",
    "    * [2.1 Estilo do cabeçalho](#header_style)\n",
    "    * [2.2 Valores ausentes](#missing_values)\n",
    "    * [2.3 Duplicatas](#duplicates)\n",
    "    * [2.4 Conclusões](#data_preprocessing_conclusions)\n",
    "* [Etapa 3. Testando as hipóteses](#hypotheses)\n",
    "    * [3.1 Hipótese 1: comparando o comportamento dos usuários em duas cidades](#activity)\n",
    "    * [3.2 Hipótese 2: música no começo e no fim da semana](#week)\n",
    "    * [3.3 Hipótese 3: preferências em Springfield e Shelbyville](#genre)\n",
    "* [Conclusões](#end)"
   ]
  },
  {
   "cell_type": "markdown",
   "metadata": {
    "id": "VUC88oWjTJw2"
   },
   "source": [
    "## Introdução <a id='intro'></a>\n",
    "Sempre que fazemos uma pesquisa, precisamos formular uma hipótese que depois poderemos testar. Às vezes nós aceitamos essas hipóteses; outras vezes, nós as rejeitamos. Para fazer as escolhas certas, um negócio deve ser capaz de entender se está fazendo as suposições certas ou não.\n",
    "\n",
    "Neste projeto, você vai comparar as preferências musicais dos habitantes de Springfild e Shelbyville. Você estudará dados reais do Yandex.Music para testar a hipótese abaixo e comparar o comportamento do usuário para essas duas cidades.\n",
    "\n",
    "### Objetivo: \n",
    "Teste três hipóteses:\n",
    "1. A atividade dos usuários é diferente dependendo do dia da semana e da cidade. \n",
    "2. Durante as manhãs de segunda-feira, os moradores de Springfield e Shelbyville escutam diferentes gêneros. Isso também é verdadeiro para noites de sexta-feira. \n",
    "3. Os ouvintes de Springfield e Shelbyville têm diferentes preferências. Em Springfield, as pessoas preferem pop, enquanto Shelbyville tem mais fãs de rap.\n",
    "\n",
    "### Etapas \n",
    "Os dados sobre o comportamento do usuário é armazenado no arquivo `/datasets/music_project_en.csv`. Não há informação sobre a qualidade dos dados, então, você precisará examiná-los antes de testar a hipótese. \n",
    "\n",
    "Primeiro, você avaliará a qualidade dos dados e ver se seus problemas são significativos. Depois, durante o pré-processamento de dados, você tentará dar conta dos problemas mais críticos problemas.\n",
    " \n",
    "O seu projeto consistirá em três etapas:\n",
    " 1. Visão geral dos dados\n",
    " 2. Pré-processamento de dados\n",
    " 3. Testando as hipóteses\n",
    " \n",
    "[Voltar ao Índice](#back)"
   ]
  },
  {
   "cell_type": "markdown",
   "metadata": {
    "id": "Ml1hmfXC_Zcs"
   },
   "source": [
    "## Etapa 1. Visão geral dos dados <a id='data_review'></a>\n",
    "\n",
    "Abra os dados em Yandex.Music e explore-os."
   ]
  },
  {
   "cell_type": "markdown",
   "metadata": {
    "id": "57eAOGIz_Zcs"
   },
   "source": [
    "Você precisará de `pandas`, então, importe-a."
   ]
  },
  {
   "cell_type": "code",
   "execution_count": 1,
   "metadata": {
    "id": "AXN7PHPN_Zcs"
   },
   "outputs": [],
   "source": [
    "# importando pandas\n",
    "import pandas as pd"
   ]
  },
  {
   "cell_type": "markdown",
   "metadata": {
    "id": "SG23P8tt_Zcs"
   },
   "source": [
    "Leia o arquivo `music_project_en.csv` da pasta `/datasets/` e salve-o na variável `df`:"
   ]
  },
  {
   "cell_type": "code",
   "execution_count": 2,
   "metadata": {
    "id": "fFVu7vqh_Zct"
   },
   "outputs": [
    {
     "data": {
      "text/html": [
       "<div>\n",
       "<style scoped>\n",
       "    .dataframe tbody tr th:only-of-type {\n",
       "        vertical-align: middle;\n",
       "    }\n",
       "\n",
       "    .dataframe tbody tr th {\n",
       "        vertical-align: top;\n",
       "    }\n",
       "\n",
       "    .dataframe thead th {\n",
       "        text-align: right;\n",
       "    }\n",
       "</style>\n",
       "<table border=\"1\" class=\"dataframe\">\n",
       "  <thead>\n",
       "    <tr style=\"text-align: right;\">\n",
       "      <th></th>\n",
       "      <th>userID</th>\n",
       "      <th>Track</th>\n",
       "      <th>artist</th>\n",
       "      <th>genre</th>\n",
       "      <th>City</th>\n",
       "      <th>time</th>\n",
       "      <th>Day</th>\n",
       "    </tr>\n",
       "  </thead>\n",
       "  <tbody>\n",
       "    <tr>\n",
       "      <th>count</th>\n",
       "      <td>65079</td>\n",
       "      <td>63736</td>\n",
       "      <td>57512</td>\n",
       "      <td>63881</td>\n",
       "      <td>65079</td>\n",
       "      <td>65079</td>\n",
       "      <td>65079</td>\n",
       "    </tr>\n",
       "    <tr>\n",
       "      <th>unique</th>\n",
       "      <td>41748</td>\n",
       "      <td>39666</td>\n",
       "      <td>37806</td>\n",
       "      <td>268</td>\n",
       "      <td>2</td>\n",
       "      <td>20392</td>\n",
       "      <td>3</td>\n",
       "    </tr>\n",
       "    <tr>\n",
       "      <th>top</th>\n",
       "      <td>A8AE9169</td>\n",
       "      <td>Brand</td>\n",
       "      <td>Kartvelli</td>\n",
       "      <td>pop</td>\n",
       "      <td>Springfield</td>\n",
       "      <td>21:51:22</td>\n",
       "      <td>Friday</td>\n",
       "    </tr>\n",
       "    <tr>\n",
       "      <th>freq</th>\n",
       "      <td>76</td>\n",
       "      <td>136</td>\n",
       "      <td>136</td>\n",
       "      <td>8850</td>\n",
       "      <td>45360</td>\n",
       "      <td>14</td>\n",
       "      <td>23149</td>\n",
       "    </tr>\n",
       "  </tbody>\n",
       "</table>\n",
       "</div>"
      ],
      "text/plain": [
       "          userID  Track     artist  genre       City        time     Day\n",
       "count      65079  63736      57512  63881        65079     65079   65079\n",
       "unique     41748  39666      37806    268            2     20392       3\n",
       "top     A8AE9169  Brand  Kartvelli    pop  Springfield  21:51:22  Friday\n",
       "freq          76    136        136   8850        45360        14   23149"
      ]
     },
     "execution_count": 2,
     "metadata": {},
     "output_type": "execute_result"
    }
   ],
   "source": [
    "# lendo o arquivo e armazenando em df\n",
    "df = pd.read_csv('/datasets/music_project_en.csv')\n",
    "df.describe()"
   ]
  },
  {
   "cell_type": "markdown",
   "metadata": {
    "id": "rDoOMd3uTqnZ"
   },
   "source": [
    "Exiba as primeiras 10 linhas da tabela:"
   ]
  },
  {
   "cell_type": "code",
   "execution_count": 3,
   "metadata": {
    "id": "oWTVX3gW_Zct"
   },
   "outputs": [
    {
     "data": {
      "text/html": [
       "<div>\n",
       "<style scoped>\n",
       "    .dataframe tbody tr th:only-of-type {\n",
       "        vertical-align: middle;\n",
       "    }\n",
       "\n",
       "    .dataframe tbody tr th {\n",
       "        vertical-align: top;\n",
       "    }\n",
       "\n",
       "    .dataframe thead th {\n",
       "        text-align: right;\n",
       "    }\n",
       "</style>\n",
       "<table border=\"1\" class=\"dataframe\">\n",
       "  <thead>\n",
       "    <tr style=\"text-align: right;\">\n",
       "      <th></th>\n",
       "      <th>userID</th>\n",
       "      <th>Track</th>\n",
       "      <th>artist</th>\n",
       "      <th>genre</th>\n",
       "      <th>City</th>\n",
       "      <th>time</th>\n",
       "      <th>Day</th>\n",
       "    </tr>\n",
       "  </thead>\n",
       "  <tbody>\n",
       "    <tr>\n",
       "      <th>0</th>\n",
       "      <td>FFB692EC</td>\n",
       "      <td>Kamigata To Boots</td>\n",
       "      <td>The Mass Missile</td>\n",
       "      <td>rock</td>\n",
       "      <td>Shelbyville</td>\n",
       "      <td>20:28:33</td>\n",
       "      <td>Wednesday</td>\n",
       "    </tr>\n",
       "    <tr>\n",
       "      <th>1</th>\n",
       "      <td>55204538</td>\n",
       "      <td>Delayed Because of Accident</td>\n",
       "      <td>Andreas Rönnberg</td>\n",
       "      <td>rock</td>\n",
       "      <td>Springfield</td>\n",
       "      <td>14:07:09</td>\n",
       "      <td>Friday</td>\n",
       "    </tr>\n",
       "    <tr>\n",
       "      <th>2</th>\n",
       "      <td>20EC38</td>\n",
       "      <td>Funiculì funiculà</td>\n",
       "      <td>Mario Lanza</td>\n",
       "      <td>pop</td>\n",
       "      <td>Shelbyville</td>\n",
       "      <td>20:58:07</td>\n",
       "      <td>Wednesday</td>\n",
       "    </tr>\n",
       "    <tr>\n",
       "      <th>3</th>\n",
       "      <td>A3DD03C9</td>\n",
       "      <td>Dragons in the Sunset</td>\n",
       "      <td>Fire + Ice</td>\n",
       "      <td>folk</td>\n",
       "      <td>Shelbyville</td>\n",
       "      <td>08:37:09</td>\n",
       "      <td>Monday</td>\n",
       "    </tr>\n",
       "    <tr>\n",
       "      <th>4</th>\n",
       "      <td>E2DC1FAE</td>\n",
       "      <td>Soul People</td>\n",
       "      <td>Space Echo</td>\n",
       "      <td>dance</td>\n",
       "      <td>Springfield</td>\n",
       "      <td>08:34:34</td>\n",
       "      <td>Monday</td>\n",
       "    </tr>\n",
       "    <tr>\n",
       "      <th>5</th>\n",
       "      <td>842029A1</td>\n",
       "      <td>Chains</td>\n",
       "      <td>Obladaet</td>\n",
       "      <td>rusrap</td>\n",
       "      <td>Shelbyville</td>\n",
       "      <td>13:09:41</td>\n",
       "      <td>Friday</td>\n",
       "    </tr>\n",
       "    <tr>\n",
       "      <th>6</th>\n",
       "      <td>4CB90AA5</td>\n",
       "      <td>True</td>\n",
       "      <td>Roman Messer</td>\n",
       "      <td>dance</td>\n",
       "      <td>Springfield</td>\n",
       "      <td>13:00:07</td>\n",
       "      <td>Wednesday</td>\n",
       "    </tr>\n",
       "    <tr>\n",
       "      <th>7</th>\n",
       "      <td>F03E1C1F</td>\n",
       "      <td>Feeling This Way</td>\n",
       "      <td>Polina Griffith</td>\n",
       "      <td>dance</td>\n",
       "      <td>Springfield</td>\n",
       "      <td>20:47:49</td>\n",
       "      <td>Wednesday</td>\n",
       "    </tr>\n",
       "    <tr>\n",
       "      <th>8</th>\n",
       "      <td>8FA1D3BE</td>\n",
       "      <td>L’estate</td>\n",
       "      <td>Julia Dalia</td>\n",
       "      <td>ruspop</td>\n",
       "      <td>Springfield</td>\n",
       "      <td>09:17:40</td>\n",
       "      <td>Friday</td>\n",
       "    </tr>\n",
       "    <tr>\n",
       "      <th>9</th>\n",
       "      <td>E772D5C0</td>\n",
       "      <td>Pessimist</td>\n",
       "      <td>NaN</td>\n",
       "      <td>dance</td>\n",
       "      <td>Shelbyville</td>\n",
       "      <td>21:20:49</td>\n",
       "      <td>Wednesday</td>\n",
       "    </tr>\n",
       "  </tbody>\n",
       "</table>\n",
       "</div>"
      ],
      "text/plain": [
       "     userID                        Track            artist   genre  \\\n",
       "0  FFB692EC            Kamigata To Boots  The Mass Missile    rock   \n",
       "1  55204538  Delayed Because of Accident  Andreas Rönnberg    rock   \n",
       "2    20EC38            Funiculì funiculà       Mario Lanza     pop   \n",
       "3  A3DD03C9        Dragons in the Sunset        Fire + Ice    folk   \n",
       "4  E2DC1FAE                  Soul People        Space Echo   dance   \n",
       "5  842029A1                       Chains          Obladaet  rusrap   \n",
       "6  4CB90AA5                         True      Roman Messer   dance   \n",
       "7  F03E1C1F             Feeling This Way   Polina Griffith   dance   \n",
       "8  8FA1D3BE                     L’estate       Julia Dalia  ruspop   \n",
       "9  E772D5C0                    Pessimist               NaN   dance   \n",
       "\n",
       "        City        time        Day  \n",
       "0  Shelbyville  20:28:33  Wednesday  \n",
       "1  Springfield  14:07:09     Friday  \n",
       "2  Shelbyville  20:58:07  Wednesday  \n",
       "3  Shelbyville  08:37:09     Monday  \n",
       "4  Springfield  08:34:34     Monday  \n",
       "5  Shelbyville  13:09:41     Friday  \n",
       "6  Springfield  13:00:07  Wednesday  \n",
       "7  Springfield  20:47:49  Wednesday  \n",
       "8  Springfield  09:17:40     Friday  \n",
       "9  Shelbyville  21:20:49  Wednesday  "
      ]
     },
     "execution_count": 3,
     "metadata": {},
     "output_type": "execute_result"
    }
   ],
   "source": [
    "# obtenha as 10 primeiras 10 linhas da tabela df\n",
    "df.head(10)"
   ]
  },
  {
   "cell_type": "markdown",
   "metadata": {
    "id": "EO73Kwic_Zct"
   },
   "source": [
    "Obtendo as informações gerais sobre a tabela com um comando:"
   ]
  },
  {
   "cell_type": "code",
   "execution_count": 4,
   "metadata": {
    "id": "DSf2kIb-_Zct"
   },
   "outputs": [
    {
     "name": "stdout",
     "output_type": "stream",
     "text": [
      "<class 'pandas.core.frame.DataFrame'>\n",
      "RangeIndex: 65079 entries, 0 to 65078\n",
      "Data columns (total 7 columns):\n",
      " #   Column    Non-Null Count  Dtype \n",
      "---  ------    --------------  ----- \n",
      " 0     userID  65079 non-null  object\n",
      " 1   Track     63736 non-null  object\n",
      " 2   artist    57512 non-null  object\n",
      " 3   genre     63881 non-null  object\n",
      " 4     City    65079 non-null  object\n",
      " 5   time      65079 non-null  object\n",
      " 6   Day       65079 non-null  object\n",
      "dtypes: object(7)\n",
      "memory usage: 3.5+ MB\n"
     ]
    }
   ],
   "source": [
    "# obtendo informações gerais sobre os dados em df\n",
    "df.info()"
   ]
  },
  {
   "cell_type": "markdown",
   "metadata": {
    "id": "TaQ2Iwbr_Zct"
   },
   "source": [
    "A tabela contém sete colunas. Elas armazenam o mesmo tipo de dado: `object`.\n",
    "\n",
    "De acordo com a documentação:\n",
    "- `'userID'` — identificação do usuário\n",
    "- `'Track'` — título da música\n",
    "- `'artist'` — nome do artista\n",
    "- `'genre'` — o gênero\n",
    "- `'City'` — cidade do usuário\n",
    "- `'time'` — tempo exato que a música foi tocada\n",
    "- `'Day'` — dia da semana\n",
    "\n",
    "Nós podemos ver três problemas com o estilo nos nomes das colunas:\n",
    "1. Alguns nomes estão com letra maiúscula, alguns com letra minúscula.\n",
    "2. Há espaços em alguns nomes.\n",
    "3. Separação de nomes compostos sem underscore \"_\".\n",
    "\n",
    "A quantidade de valores das colunas é diferente. Isso significa que os dados contém valores ausentes.\n"
   ]
  },
  {
   "cell_type": "markdown",
   "metadata": {
    "id": "MCB6-dXG_Zct"
   },
   "source": [
    "### Conclusões <a id='data_review_conclusions'></a> \n",
    "\n",
    "Cada linha na tabela armazena dados sobre uma música que foi tocada. Algumas colunas descrevem a música por si só: seu título, artista e gênero. O restante contém informações sobre o usuário: a cidade de onde eles vêm, a quantidade de vezes que a música foi tocada. \n",
    "\n",
    "Está claro que os dados são suficientes para testar as hipóteses. Entretanto, há valores ausentes.\n",
    "\n",
    "Para seguir adiante, precisamos pré-processar os dados."
   ]
  },
  {
   "cell_type": "markdown",
   "metadata": {
    "id": "3eL__vcwViOi"
   },
   "source": [
    "[Voltar ao Índice](#back)"
   ]
  },
  {
   "cell_type": "markdown",
   "metadata": {
    "id": "SjYF6Ub9_Zct"
   },
   "source": [
    "## Etapa 2. Pré-processar dados <a id='data_preprocessing'></a>\n",
    "Corrija a formatação no cabeçalho da coluna e trabalhe com os valores ausentes. Depois, verifique se há duplicatas nos dados."
   ]
  },
  {
   "cell_type": "markdown",
   "metadata": {
    "id": "dIaKXr29_Zct"
   },
   "source": [
    "### Estilo do cabeçalho <a id='header_style'></a>\n",
    "Exiba o cabeçalho da coluna:"
   ]
  },
  {
   "cell_type": "code",
   "execution_count": 5,
   "metadata": {
    "id": "oKOTdF_Q_Zct"
   },
   "outputs": [
    {
     "data": {
      "text/plain": [
       "Index(['  userID', 'Track', 'artist', 'genre', '  City  ', 'time', 'Day'], dtype='object')"
      ]
     },
     "execution_count": 5,
     "metadata": {},
     "output_type": "execute_result"
    }
   ],
   "source": [
    "# a lista dos nomes das colunas na tabela df\n",
    "df.columns"
   ]
  },
  {
   "cell_type": "markdown",
   "metadata": {
    "id": "zj5534cv_Zct"
   },
   "source": [
    "Mude os nomes das colunas de acordo com as regras da boa prática de estilo:\n",
    "* Se o nome tiver várias palavras, use snake_case\n",
    "* Todos os caracteres precisam estar com letras minúsculas\n",
    "* Delete espaços"
   ]
  },
  {
   "cell_type": "code",
   "execution_count": 6,
   "metadata": {
    "id": "ISlFqs5y_Zct"
   },
   "outputs": [],
   "source": [
    "# renomeando colunas\n",
    "df = df.rename(columns={\n",
    "        '  userID':'user_id',\n",
    "        'Track':'track',\n",
    "        '  City  ':'city',\n",
    "        'Day':'day'\n",
    "})"
   ]
  },
  {
   "cell_type": "markdown",
   "metadata": {
    "id": "1dqbh00J_Zct"
   },
   "source": [
    "Verifique o resultado. Exiba os nomes das colunas mais uma vez:"
   ]
  },
  {
   "cell_type": "code",
   "execution_count": 7,
   "metadata": {
    "id": "d4NOAmTW_Zct"
   },
   "outputs": [
    {
     "data": {
      "text/plain": [
       "Index(['user_id', 'track', 'artist', 'genre', 'city', 'time', 'day'], dtype='object')"
      ]
     },
     "execution_count": 7,
     "metadata": {},
     "output_type": "execute_result"
    }
   ],
   "source": [
    "# checando o resultado: a lista dos nomes das colunas\n",
    "df.columns"
   ]
  },
  {
   "cell_type": "markdown",
   "metadata": {
    "id": "xYJk6ksJVpOl"
   },
   "source": [
    "[Voltar ao Índice](#back)"
   ]
  },
  {
   "cell_type": "markdown",
   "metadata": {
    "id": "5ISfbcfY_Zct"
   },
   "source": [
    "### Valores ausentes <a id='missing_values'></a>\n",
    "Primeiro, encontre a quantidade de valores ausentes na tabela. Para fazer isso, use dois métodos pandas:"
   ]
  },
  {
   "cell_type": "code",
   "execution_count": 8,
   "metadata": {
    "id": "RskX29qr_Zct"
   },
   "outputs": [
    {
     "data": {
      "text/plain": [
       "user_id       0\n",
       "track      1343\n",
       "artist     7567\n",
       "genre      1198\n",
       "city          0\n",
       "time          0\n",
       "day           0\n",
       "dtype: int64"
      ]
     },
     "execution_count": 8,
     "metadata": {},
     "output_type": "execute_result"
    }
   ],
   "source": [
    "# calculando valores ausentes\n",
    "df.isna().sum()"
   ]
  },
  {
   "cell_type": "markdown",
   "metadata": {
    "id": "qubhgnlO_Zct"
   },
   "source": [
    "Nem todos os valores ausentes afetam a pesquisa. Por exemplo, os valores ausentes na música e artista não é decisivo. Você pode simplesmente substituí-los por marcadores claros.\n",
    "\n",
    "Mas valores ausentes em `'genre'` pode afetar a comparação de preferências musicais de Springfield e Shelbyville. Na vida real, seria útil descobrir as razões pelas quais os dados estão ausentes e tentar compensá-los. Mas nós não temos essa possibilidade neste projeto. Então, você terá que:\n",
    "* Preencher os valores ausentes com marcadores\n",
    "* Avaliar o quanto os valores ausentes podem afetar os seus cálculos"
   ]
  },
  {
   "cell_type": "markdown",
   "metadata": {
    "id": "fSv2laPA_Zct"
   },
   "source": [
    "Substituir os valores ausentes em `'track'`, `'artist'`, e `'genre'` com a string `'unknown'`. Para fazer isso, crie a lista `columns_to_replace`, percorra-a com o laço `for`, e substitua os valores ausentes em cada uma das colunas:"
   ]
  },
  {
   "cell_type": "code",
   "execution_count": 9,
   "metadata": {
    "id": "KplB5qWs_Zct"
   },
   "outputs": [],
   "source": [
    "# percorrendo os nomes das colunas e substituindo valores ausentes com 'unknown'\n",
    "df = df.fillna('unknown')"
   ]
  },
  {
   "cell_type": "markdown",
   "metadata": {
    "id": "Ilsm-MZo_Zct"
   },
   "source": [
    "Certifique-se de que a tabela não contenha mais valores ausentes. Conte os valores ausentes novamente."
   ]
  },
  {
   "cell_type": "code",
   "execution_count": 10,
   "metadata": {
    "id": "Tq4nYRX4_Zct"
   },
   "outputs": [
    {
     "data": {
      "text/plain": [
       "user_id    0\n",
       "track      0\n",
       "artist     0\n",
       "genre      0\n",
       "city       0\n",
       "time       0\n",
       "day        0\n",
       "dtype: int64"
      ]
     },
     "execution_count": 10,
     "metadata": {},
     "output_type": "execute_result"
    }
   ],
   "source": [
    "# contando os valores ausentes\n",
    "df.isna().sum()"
   ]
  },
  {
   "cell_type": "markdown",
   "metadata": {
    "id": "74ZIBmq9VrsK"
   },
   "source": [
    "[Voltar ao Índice](#back)"
   ]
  },
  {
   "cell_type": "markdown",
   "metadata": {
    "id": "BWKRtBJ3_Zct"
   },
   "source": [
    "### Duplicatas <a id='duplicates'></a>\n",
    "Encontre o número de duplicatas óbvias na tabela usando um comando:"
   ]
  },
  {
   "cell_type": "code",
   "execution_count": 11,
   "metadata": {
    "id": "36eES_S0_Zct"
   },
   "outputs": [
    {
     "data": {
      "text/plain": [
       "3826"
      ]
     },
     "execution_count": 11,
     "metadata": {},
     "output_type": "execute_result"
    }
   ],
   "source": [
    "# contando duplicatas claras\n",
    "df.duplicated().sum()"
   ]
  },
  {
   "cell_type": "markdown",
   "metadata": {
    "id": "Ot25h6XR_Zct"
   },
   "source": [
    "Chame o método `pandas` para se livrar das duplicatas óbvias:"
   ]
  },
  {
   "cell_type": "code",
   "execution_count": 12,
   "metadata": {
    "id": "exFHq6tt_Zct"
   },
   "outputs": [],
   "source": [
    "# removendo duplicatas óbvias\n",
    "df.drop_duplicates(inplace=True)"
   ]
  },
  {
   "cell_type": "markdown",
   "metadata": {
    "id": "Im2YwBEG_Zct"
   },
   "source": [
    "Conte as duplicatas óbvias mais uma vez certifique-se que você removeu todas elas:"
   ]
  },
  {
   "cell_type": "code",
   "execution_count": 13,
   "metadata": {
    "id": "-8PuNWQ0_Zct"
   },
   "outputs": [
    {
     "data": {
      "text/plain": [
       "0"
      ]
     },
     "execution_count": 13,
     "metadata": {},
     "output_type": "execute_result"
    }
   ],
   "source": [
    "# verificando duplicatas\n",
    "df.duplicated().sum()\n"
   ]
  },
  {
   "cell_type": "markdown",
   "metadata": {
    "id": "QlFBsxAr_Zct"
   },
   "source": [
    "Agora, livre-se das duplicatas implícitas na coluna genre. Por exemplo, o nome de um gênero pode ser escrito de maneiras diferentes. Alguns erros afetarão também o resultado."
   ]
  },
  {
   "cell_type": "markdown",
   "metadata": {
    "id": "eSjWwsOh_Zct"
   },
   "source": [
    "Exiba a lista de nomes de gêneros únicos, organizados em ordem alfabética. Para fazer isso:\n",
    "* Recupere o DataFrame da coluna pretendida \n",
    "* Aplique um método de escolha para isso\n",
    "* Para a coluna selecionada, chame o método que irá retornar todos os valores únicos das colunas"
   ]
  },
  {
   "cell_type": "code",
   "execution_count": 14,
   "metadata": {
    "id": "JIUcqzZN_Zct"
   },
   "outputs": [
    {
     "data": {
      "text/plain": [
       "array(['rock', 'pop', 'folk', 'dance', 'rusrap', 'ruspop', 'world',\n",
       "       'electronic', 'unknown', 'alternative', 'children', 'rnb', 'hip',\n",
       "       'jazz', 'postrock', 'latin', 'classical', 'metal', 'reggae',\n",
       "       'triphop', 'blues', 'instrumental', 'rusrock', 'dnb', 'türk',\n",
       "       'post', 'country', 'psychedelic', 'conjazz', 'indie',\n",
       "       'posthardcore', 'local', 'avantgarde', 'punk', 'videogame',\n",
       "       'techno', 'house', 'christmas', 'melodic', 'caucasian',\n",
       "       'reggaeton', 'soundtrack', 'singer', 'ska', 'salsa', 'ambient',\n",
       "       'film', 'western', 'rap', 'beats', \"hard'n'heavy\", 'progmetal',\n",
       "       'minimal', 'tropical', 'contemporary', 'new', 'soul', 'holiday',\n",
       "       'german', 'jpop', 'spiritual', 'urban', 'gospel', 'nujazz',\n",
       "       'folkmetal', 'trance', 'miscellaneous', 'anime', 'hardcore',\n",
       "       'progressive', 'korean', 'numetal', 'vocal', 'estrada', 'tango',\n",
       "       'loungeelectronic', 'classicmetal', 'dubstep', 'club', 'deep',\n",
       "       'southern', 'black', 'folkrock', 'fitness', 'french', 'disco',\n",
       "       'religious', 'hiphop', 'drum', 'extrememetal', 'türkçe',\n",
       "       'experimental', 'easy', 'metalcore', 'modern', 'argentinetango',\n",
       "       'old', 'swing', 'breaks', 'eurofolk', 'stonerrock', 'industrial',\n",
       "       'funk', 'middle', 'variété', 'other', 'adult', 'christian',\n",
       "       'thrash', 'gothic', 'international', 'muslim', 'relax', 'schlager',\n",
       "       'caribbean', 'nu', 'breakbeat', 'comedy', 'chill', 'newage',\n",
       "       'specialty', 'uzbek', 'k-pop', 'balkan', 'chinese', 'meditative',\n",
       "       'dub', 'power', 'death', 'grime', 'arabesk', 'romance', 'flamenco',\n",
       "       'leftfield', 'european', 'tech', 'newwave', 'dancehall', 'mpb',\n",
       "       'piano', 'top', 'bigroom', 'opera', 'celtic', 'tradjazz',\n",
       "       'acoustic', 'epicmetal', 'hip-hop', 'historisch', 'downbeat',\n",
       "       'downtempo', 'africa', 'audiobook', 'jewish', 'sängerportrait',\n",
       "       'deutschrock', 'eastern', 'action', 'future', 'electropop',\n",
       "       'folklore', 'bollywood', 'marschmusik', 'rnr', 'karaoke', 'indian',\n",
       "       'rancheras', 'afrikaans', 'rhythm', 'sound', 'deutschspr', 'trip',\n",
       "       'lovers', 'choral', 'dancepop', 'retro', 'smooth', 'mexican',\n",
       "       'brazilian', 'ïîï', 'mood', 'surf', 'gangsta', 'inspirational',\n",
       "       'idm', 'ethnic', 'bluegrass', 'broadway', 'animated', 'americana',\n",
       "       'karadeniz', 'rockabilly', 'colombian', 'self', 'hop', 'sertanejo',\n",
       "       'japanese', 'canzone', 'lounge', 'sport', 'ragga', 'traditional',\n",
       "       'gitarre', 'frankreich', 'emo', 'laiko', 'cantopop', 'glitch',\n",
       "       'documentary', 'oceania', 'popeurodance', 'dark', 'vi', 'grunge',\n",
       "       'hardstyle', 'samba', 'garage', 'art', 'folktronica', 'entehno',\n",
       "       'mediterranean', 'chamber', 'cuban', 'taraftar', 'gypsy',\n",
       "       'hardtechno', 'shoegazing', 'bossa', 'latino', 'worldbeat',\n",
       "       'malaysian', 'baile', 'ghazal', 'arabic', 'popelectronic', 'acid',\n",
       "       'kayokyoku', 'neoklassik', 'tribal', 'tanzorchester', 'native',\n",
       "       'independent', 'cantautori', 'handsup', 'punjabi', 'synthpop',\n",
       "       'rave', 'französisch', 'quebecois', 'speech', 'soulful', 'jam',\n",
       "       'ram', 'horror', 'orchestral', 'neue', 'roots', 'slow', 'jungle',\n",
       "       'indipop', 'axé', 'fado', 'showtunes', 'arena', 'irish',\n",
       "       'mandopop', 'forró', 'dirty', 'regional'], dtype=object)"
      ]
     },
     "execution_count": 14,
     "metadata": {},
     "output_type": "execute_result"
    }
   ],
   "source": [
    "# visualizando nomes de gêneros únicos\n",
    "df['genre'].unique()"
   ]
  },
  {
   "cell_type": "markdown",
   "metadata": {
    "id": "qej-Qmuo_Zct"
   },
   "source": [
    "Olhe a lista e encontre duplicatas implícitas do gênero `hiphop`. Esses podem ser nomes escritos incorretamente, ou nomes alternativos para o mesmo gênero.\n",
    "\n",
    "Você verá as seguintes duplicatas implícitas:\n",
    "* `hip`\n",
    "* `hop`\n",
    "* `hip-hop`\n",
    "\n",
    "Para se livrar deles, declare a função `replace_wrong_genres()` com dois parâmetros: \n",
    "* `wrong_genres=` — a lista de duplicatas\n",
    "* `correct_genre=` — a string com o valor correto\n",
    "\n",
    "A função deve corrigir os nomes na coluna `'genre'` da tabela `df` isto é, substituindo cada valor da lista `wrong_genres` por valores de `correct_genre`."
   ]
  },
  {
   "cell_type": "code",
   "execution_count": 15,
   "metadata": {
    "id": "ErNDkmns_Zct"
   },
   "outputs": [],
   "source": [
    "# função para substituir duplicatas implícitas\n",
    "def replace_wrong_genres(wrong_genres, correct_genre):\n",
    "    df['genre'] = df['genre'].replace(wrong_genres, correct_genre)"
   ]
  },
  {
   "cell_type": "markdown",
   "metadata": {
    "id": "aDoBJxbA_Zct"
   },
   "source": [
    "Chame `replace_wrong_genres()` e passe a ela argumentos para que possa eliminar as duplicatas implícitas (`hip`, `hop`, e `hip-hop`) e substituí-los por `hiphop`:"
   ]
  },
  {
   "cell_type": "code",
   "execution_count": 16,
   "metadata": {
    "id": "YN5i2hpmSo09"
   },
   "outputs": [],
   "source": [
    "# removendo duplicatas implícitas\n",
    "replace_wrong_genres('hip' , 'hiphop')\n",
    "replace_wrong_genres('hip-hop' , 'hiphop')\n",
    "replace_wrong_genres('hop' , 'hiphop')"
   ]
  },
  {
   "cell_type": "markdown",
   "metadata": {
    "id": "zQKF16_RG15m"
   },
   "source": [
    "Certifique-se que os nomes duplicados foram removidos. Exiba a lista de valores únicos da coluna `'genre'`:"
   ]
  },
  {
   "cell_type": "code",
   "execution_count": 17,
   "metadata": {
    "id": "wvixALnFG15m"
   },
   "outputs": [
    {
     "data": {
      "text/plain": [
       "array(['acid', 'acoustic', 'action', 'adult', 'africa', 'afrikaans',\n",
       "       'alternative', 'ambient', 'americana', 'animated', 'anime',\n",
       "       'arabesk', 'arabic', 'arena', 'argentinetango', 'art', 'audiobook',\n",
       "       'avantgarde', 'axé', 'baile', 'balkan', 'beats', 'bigroom',\n",
       "       'black', 'bluegrass', 'blues', 'bollywood', 'bossa', 'brazilian',\n",
       "       'breakbeat', 'breaks', 'broadway', 'cantautori', 'cantopop',\n",
       "       'canzone', 'caribbean', 'caucasian', 'celtic', 'chamber',\n",
       "       'children', 'chill', 'chinese', 'choral', 'christian', 'christmas',\n",
       "       'classical', 'classicmetal', 'club', 'colombian', 'comedy',\n",
       "       'conjazz', 'contemporary', 'country', 'cuban', 'dance',\n",
       "       'dancehall', 'dancepop', 'dark', 'death', 'deep', 'deutschrock',\n",
       "       'deutschspr', 'dirty', 'disco', 'dnb', 'documentary', 'downbeat',\n",
       "       'downtempo', 'drum', 'dub', 'dubstep', 'eastern', 'easy',\n",
       "       'electronic', 'electropop', 'emo', 'entehno', 'epicmetal',\n",
       "       'estrada', 'ethnic', 'eurofolk', 'european', 'experimental',\n",
       "       'extrememetal', 'fado', 'film', 'fitness', 'flamenco', 'folk',\n",
       "       'folklore', 'folkmetal', 'folkrock', 'folktronica', 'forró',\n",
       "       'frankreich', 'französisch', 'french', 'funk', 'future', 'gangsta',\n",
       "       'garage', 'german', 'ghazal', 'gitarre', 'glitch', 'gospel',\n",
       "       'gothic', 'grime', 'grunge', 'gypsy', 'handsup', \"hard'n'heavy\",\n",
       "       'hardcore', 'hardstyle', 'hardtechno', 'hiphop', 'historisch',\n",
       "       'holiday', 'horror', 'house', 'idm', 'independent', 'indian',\n",
       "       'indie', 'indipop', 'industrial', 'inspirational', 'instrumental',\n",
       "       'international', 'irish', 'jam', 'japanese', 'jazz', 'jewish',\n",
       "       'jpop', 'jungle', 'k-pop', 'karadeniz', 'karaoke', 'kayokyoku',\n",
       "       'korean', 'laiko', 'latin', 'latino', 'leftfield', 'local',\n",
       "       'lounge', 'loungeelectronic', 'lovers', 'malaysian', 'mandopop',\n",
       "       'marschmusik', 'meditative', 'mediterranean', 'melodic', 'metal',\n",
       "       'metalcore', 'mexican', 'middle', 'minimal', 'miscellaneous',\n",
       "       'modern', 'mood', 'mpb', 'muslim', 'native', 'neoklassik', 'neue',\n",
       "       'new', 'newage', 'newwave', 'nu', 'nujazz', 'numetal', 'oceania',\n",
       "       'old', 'opera', 'orchestral', 'other', 'piano', 'pop',\n",
       "       'popelectronic', 'popeurodance', 'post', 'posthardcore',\n",
       "       'postrock', 'power', 'progmetal', 'progressive', 'psychedelic',\n",
       "       'punjabi', 'punk', 'quebecois', 'ragga', 'ram', 'rancheras', 'rap',\n",
       "       'rave', 'reggae', 'reggaeton', 'regional', 'relax', 'religious',\n",
       "       'retro', 'rhythm', 'rnb', 'rnr', 'rock', 'rockabilly', 'romance',\n",
       "       'roots', 'ruspop', 'rusrap', 'rusrock', 'salsa', 'samba',\n",
       "       'schlager', 'self', 'sertanejo', 'shoegazing', 'showtunes',\n",
       "       'singer', 'ska', 'slow', 'smooth', 'soul', 'soulful', 'sound',\n",
       "       'soundtrack', 'southern', 'specialty', 'speech', 'spiritual',\n",
       "       'sport', 'stonerrock', 'surf', 'swing', 'synthpop',\n",
       "       'sängerportrait', 'tango', 'tanzorchester', 'taraftar', 'tech',\n",
       "       'techno', 'thrash', 'top', 'traditional', 'tradjazz', 'trance',\n",
       "       'tribal', 'trip', 'triphop', 'tropical', 'türk', 'türkçe',\n",
       "       'unknown', 'urban', 'uzbek', 'variété', 'vi', 'videogame', 'vocal',\n",
       "       'western', 'world', 'worldbeat', 'ïîï'], dtype=object)"
      ]
     },
     "execution_count": 17,
     "metadata": {},
     "output_type": "execute_result"
    }
   ],
   "source": [
    "# verificando valores duplicados\n",
    "df['genre'].sort_values().unique()"
   ]
  },
  {
   "cell_type": "markdown",
   "metadata": {
    "id": "ALgNbvF3VtPA"
   },
   "source": [
    "[Voltar ao Índice](#back)"
   ]
  },
  {
   "cell_type": "markdown",
   "metadata": {
    "id": "jz6a9-7HQUDd"
   },
   "source": [
    "### Conclusões <a id='data_preprocessing_conclusions'></a>\n",
    "Nós detectamos três problemas com os dados:\n",
    "\n",
    "- Estilo de cabeçalho incorreto\n",
    "- Valores ausentes\n",
    "- Duplicatas óbvias e implícitas\n",
    "\n",
    "O cabeçalho foi limpo para fazer o processamento da tabela mais simples.\n",
    "\n",
    "Todos os valores ausentes foram substituídos por `'unknown'`. Mas nós ainda temos que ver os se valores ausentes em `'genre'` afetará os nossos cálculos.\n",
    "\n",
    "A ausência de duplicatas deixará os resultados mais precisos e mais fáceis de entender.\n",
    "\n",
    "Agora você pode seguir para testar hipóteses."
   ]
  },
  {
   "cell_type": "markdown",
   "metadata": {
    "id": "eK1es74rVujj"
   },
   "source": [
    "[Voltar ao Índice](#back)"
   ]
  },
  {
   "cell_type": "markdown",
   "metadata": {
    "id": "WttZHXH0SqKk"
   },
   "source": [
    "## Etapa 3. Testando hipóteses <a id='hypotheses'></a>"
   ]
  },
  {
   "cell_type": "markdown",
   "metadata": {
    "id": "Im936VVi_Zcu"
   },
   "source": [
    "### Hipótese 1: comparando o comportamento dos usuários em duas cidades <a id='activity'></a>"
   ]
  },
  {
   "cell_type": "markdown",
   "metadata": {
    "id": "nwt_MuaL_Zcu"
   },
   "source": [
    "De acordo com a primeira hipótese, usuários de Springfield and Shelbyville escutam música de forma diferente. Teste essa hipótese usando os dados de três dias da semana: segunda-feira, quarta-feira, e sexta-feira.\n",
    "\n",
    "* Divida os usuários de cada cidade em grupos.\n",
    "* Compare quantas músicas cada grupo escutou na segunda-feira, quarta-feira e sexta-feira.\n"
   ]
  },
  {
   "cell_type": "markdown",
   "metadata": {
    "id": "8Dw_YMmT_Zcu"
   },
   "source": [
    "Por uma questão de prática, faça cada um desses cálculos separadamente. \n",
    "\n",
    "Avalie a atividade do usuário em cada cidade. Agrupe os dados por cidade e encontre o número de músicas tocadas em cada grupo.\n",
    "\n"
   ]
  },
  {
   "cell_type": "code",
   "execution_count": 18,
   "metadata": {
    "id": "0_Qs96oh_Zcu"
   },
   "outputs": [
    {
     "name": "stdout",
     "output_type": "stream",
     "text": [
      "42741\n",
      "18512\n"
     ]
    }
   ],
   "source": [
    "# Contando as músicas tocadas em cada cidade\n",
    "print(df[df['city'] == 'Springfield']['city'].count())\n",
    "print(df[df['city'] == 'Shelbyville']['city'].count())"
   ]
  },
  {
   "cell_type": "markdown",
   "metadata": {
    "id": "dzli3w8o_Zcu"
   },
   "source": [
    "Springfield tem mais músicas tocadas do que Shelbyville. Mas isso não quer dizer que os cidadãos de Springfield escutam música com mais frequência. Essa cidade é somente maior, e tem mais usuários.\n",
    "\n",
    "Agora agrupe os dados por dia da semana e encontre a quantidade de músicas tocadas na segunda, quarta e sexta-feira.\n"
   ]
  },
  {
   "cell_type": "code",
   "execution_count": 19,
   "metadata": {
    "id": "uZMKjiJz_Zcu"
   },
   "outputs": [
    {
     "data": {
      "text/plain": [
       "day\n",
       "Friday       21840\n",
       "Monday       21354\n",
       "Wednesday    18059\n",
       "Name: day, dtype: int64"
      ]
     },
     "execution_count": 19,
     "metadata": {},
     "output_type": "execute_result"
    }
   ],
   "source": [
    "# Calculando as músicas escutadas em cada um desses três dias\n",
    "df.groupby('day')['day'].count()"
   ]
  },
  {
   "cell_type": "markdown",
   "metadata": {
    "id": "cC2tNrlL_Zcu"
   },
   "source": [
    "Quarta-feira é o dia mais calmo em geral. Mas se considerarmos as duas cidades separadamente, devemos chegar a uma conclusão diferente."
   ]
  },
  {
   "cell_type": "markdown",
   "metadata": {
    "id": "POzs8bGa_Zcu"
   },
   "source": [
    "Você viu como agrupar por cidade ou dia da semana funciona. Agora escreva a função que agrupar os dados pelos dois critérios.\n",
    "\n",
    "Crie a função `number_tracks()` para calcular o número de músicas tocadas em um determinado dia da semana e em cada cidade. Será necessários dois parâmetros:\n",
    "* dia da semana\n",
    "* nome da cidade\n",
    "\n",
    "Na função, use a variável para armazenar as linhas da tabela original, onde:\n",
    "  * `'day'` o valor da coluna `day` é igual ao parâmetro dia\n",
    "  * `'city'` o valor da coluna `city` é igual ao parâmetro cidade\n",
    "\n",
    "Aplique filtros consecutivos com indexação lógica.\n",
    "\n",
    "Depois, calcule os valores da coluna `'user_id'` na tabela resultante. Armazene o resultado na nova variável. Retorne essa variável da função."
   ]
  },
  {
   "cell_type": "code",
   "execution_count": 20,
   "metadata": {
    "id": "Nz3GdQB1_Zcu"
   },
   "outputs": [],
   "source": [
    "# <criando a função number_tracks()>\n",
    "def number_tracks(day, city):\n",
    "# vamos declarar a função com dois parâmetros: day=, city=.\n",
    "# Deixe a variável track_list armazenar as linha df onde\n",
    "# o valor na coluna 'day' é igual ao parâmetro day= e ao mesmo tempo,\n",
    "    track_list = df[df['day'] == day]\n",
    "# o valor na coluna 'city' é igual ao parâmetro city= (aplique filtragem consecutiva \n",
    "# com indexação lógica).\n",
    "    track_list = track_list[track_list['city'] == city]\n",
    "# Deixe a variável track_list_count armazenar o número de valores da coluna 'user_id' em track_list\n",
    "# (encontre com o método count()).\n",
    "    track_list_count = track_list['user_id'].count()\n",
    "# Deixe a função retornar um número: o valor de track_list_count.\n",
    "    return track_list_count\n",
    "\n",
    "# A função conta músicas tocadas por uma certa cidade e dia.\n",
    "# primeiro retorne as linhas com o dia pretendido da tabela,\n",
    "# depois filtre as linhas com a cidade pretendida a parir do resultado,\n",
    "# depois encontre o número de valores de 'user_id' na tabela filtrada,\n",
    "# então retorne aquele número.\n",
    "# Para o que ele retorna, envolva a função call em print()."
   ]
  },
  {
   "cell_type": "markdown",
   "metadata": {
    "id": "ytf7xFrFJQ2r"
   },
   "source": [
    "Chame a `number_tracks()` seis vezes, mudando os valores dos parâmetros, para que você recupere os dados de ambas as cidades para os três dias."
   ]
  },
  {
   "cell_type": "code",
   "execution_count": 21,
   "metadata": {
    "id": "rJcRATNQ_Zcu"
   },
   "outputs": [
    {
     "data": {
      "text/plain": [
       "15740"
      ]
     },
     "execution_count": 21,
     "metadata": {},
     "output_type": "execute_result"
    }
   ],
   "source": [
    "# a quantidade de músicas tocadas em Springfield na segunda-feira\n",
    "spr_mon = number_tracks('Monday', 'Springfield')\n",
    "spr_mon"
   ]
  },
  {
   "cell_type": "code",
   "execution_count": 22,
   "metadata": {
    "id": "hq_ncZ5T_Zcu"
   },
   "outputs": [
    {
     "data": {
      "text/plain": [
       "5614"
      ]
     },
     "execution_count": 22,
     "metadata": {},
     "output_type": "execute_result"
    }
   ],
   "source": [
    "# a quantidade de músicas tocadas em Shelbyville na segunda-feira\n",
    "shel_mon = number_tracks('Monday', 'Shelbyville')\n",
    "shel_mon"
   ]
  },
  {
   "cell_type": "code",
   "execution_count": 23,
   "metadata": {
    "id": "_NTy2VPU_Zcu"
   },
   "outputs": [
    {
     "data": {
      "text/plain": [
       "11056"
      ]
     },
     "execution_count": 23,
     "metadata": {},
     "output_type": "execute_result"
    }
   ],
   "source": [
    "# a quantidade de músicas tocadas em Springfield na quarta-feira\n",
    "spr_wed = number_tracks('Wednesday', 'Springfield')\n",
    "spr_wed"
   ]
  },
  {
   "cell_type": "code",
   "execution_count": 24,
   "metadata": {
    "id": "j2y3TAwo_Zcu"
   },
   "outputs": [
    {
     "data": {
      "text/plain": [
       "7003"
      ]
     },
     "execution_count": 24,
     "metadata": {},
     "output_type": "execute_result"
    }
   ],
   "source": [
    "# a quantidade de músicas tocadas em Shelbyville na quarta-feira\n",
    "shel_wed = number_tracks('Wednesday', 'Shelbyville')\n",
    "shel_wed"
   ]
  },
  {
   "cell_type": "code",
   "execution_count": 25,
   "metadata": {
    "id": "vYDw5u_K_Zcu"
   },
   "outputs": [
    {
     "data": {
      "text/plain": [
       "15945"
      ]
     },
     "execution_count": 25,
     "metadata": {},
     "output_type": "execute_result"
    }
   ],
   "source": [
    "# a quantidade de músicas tocadas em Springfield na sexta-feira\n",
    "spr_fri = number_tracks('Friday', 'Springfield')\n",
    "spr_fri"
   ]
  },
  {
   "cell_type": "code",
   "execution_count": 26,
   "metadata": {
    "id": "8_yzFtW3_Zcu"
   },
   "outputs": [
    {
     "data": {
      "text/plain": [
       "5895"
      ]
     },
     "execution_count": 26,
     "metadata": {},
     "output_type": "execute_result"
    }
   ],
   "source": [
    "# a quantidade de músicas tocadas em Shelbyville na sexta-feira\n",
    "shel_fri = number_tracks('Friday', 'Shelbyville')\n",
    "shel_fri"
   ]
  },
  {
   "cell_type": "markdown",
   "metadata": {
    "id": "7QXffbO-_Zcu"
   },
   "source": [
    "Use `pd.DataFrame` para criar uma tabela, onde\n",
    "* Os nomes das colunas são: `['city', 'monday', 'wednesday', 'friday']`\n",
    "* Os dados são o resultado que você recebe de `number_tracks()`"
   ]
  },
  {
   "cell_type": "code",
   "execution_count": 27,
   "metadata": {
    "id": "APAcLpOr_Zcu"
   },
   "outputs": [
    {
     "name": "stdout",
     "output_type": "stream",
     "text": [
      "          city  monday  wednesday  friday\n",
      "0  Springfield   15740      11056   15945\n",
      "1  Shelbyville    5614       7003    5895\n"
     ]
    }
   ],
   "source": [
    "# tabela com resultados\n",
    "data = {'city': ['Springfield', 'Shelbyville'],\n",
    "        'monday': [spr_mon, shel_mon],\n",
    "        'wednesday': [spr_wed, shel_wed],\n",
    "        'friday': [spr_fri, shel_fri]\n",
    "}\n",
    "\n",
    "data_frame = pd.DataFrame(data)\n",
    "\n",
    "print(data_frame)"
   ]
  },
  {
   "cell_type": "markdown",
   "metadata": {
    "id": "-EgPIHYu_Zcu"
   },
   "source": [
    "**Conclusões**\n",
    "\n",
    "Os dados revelam diferenças no comportamento dos usuários:\n",
    "\n",
    "- Em Springfield, a quantidade de músicas tocadas tem seu auge nas segundas e sextas-feiras, enquanto na quarta-feira há uma diminuição na atividade.\n",
    "- Em Shelbyville, ao contrário, usuários escutam mais música na quarta-feira. A atividade na segunda e sexta-feira é pequena.\n",
    "\n",
    "Então a primeira hipótese parece ser correta."
   ]
  },
  {
   "cell_type": "markdown",
   "metadata": {
    "id": "p7nFQajCVw5B"
   },
   "source": [
    "[Voltar ao Índice](#back)"
   ]
  },
  {
   "cell_type": "markdown",
   "metadata": {
    "id": "atZAxtq4_Zcu"
   },
   "source": [
    "### Hipótese 2: música no começo e no fim da semana <a id='week'></a>"
   ]
  },
  {
   "cell_type": "markdown",
   "metadata": {
    "id": "eXrQqXFH_Zcu"
   },
   "source": [
    "De acordo com a segunda hipótese, na segunda-feira de manhã e sexta-feira à noite, habitantes de Springfield escutam gêneros que diferem de alguns usuários de Shelbyville gostam."
   ]
  },
  {
   "cell_type": "markdown",
   "metadata": {
    "id": "S8UcW6Hw_Zcu"
   },
   "source": [
    "Obtenha uma tabela (certifique-se de que o nome da sua tabela combinada corresponda ao DataFrame dado em dois blocos de código abaixo):\n",
    "* Para Springfield — `spr_general`\n",
    "* Para Shelbyville — `shel_general`"
   ]
  },
  {
   "cell_type": "code",
   "execution_count": 28,
   "metadata": {
    "id": "qeaFfM_P_Zcu"
   },
   "outputs": [
    {
     "data": {
      "text/html": [
       "<div>\n",
       "<style scoped>\n",
       "    .dataframe tbody tr th:only-of-type {\n",
       "        vertical-align: middle;\n",
       "    }\n",
       "\n",
       "    .dataframe tbody tr th {\n",
       "        vertical-align: top;\n",
       "    }\n",
       "\n",
       "    .dataframe thead th {\n",
       "        text-align: right;\n",
       "    }\n",
       "</style>\n",
       "<table border=\"1\" class=\"dataframe\">\n",
       "  <thead>\n",
       "    <tr style=\"text-align: right;\">\n",
       "      <th></th>\n",
       "      <th>user_id</th>\n",
       "      <th>track</th>\n",
       "      <th>artist</th>\n",
       "      <th>genre</th>\n",
       "      <th>city</th>\n",
       "      <th>time</th>\n",
       "      <th>day</th>\n",
       "    </tr>\n",
       "  </thead>\n",
       "  <tbody>\n",
       "    <tr>\n",
       "      <th>1</th>\n",
       "      <td>55204538</td>\n",
       "      <td>Delayed Because of Accident</td>\n",
       "      <td>Andreas Rönnberg</td>\n",
       "      <td>rock</td>\n",
       "      <td>Springfield</td>\n",
       "      <td>14:07:09</td>\n",
       "      <td>Friday</td>\n",
       "    </tr>\n",
       "    <tr>\n",
       "      <th>4</th>\n",
       "      <td>E2DC1FAE</td>\n",
       "      <td>Soul People</td>\n",
       "      <td>Space Echo</td>\n",
       "      <td>dance</td>\n",
       "      <td>Springfield</td>\n",
       "      <td>08:34:34</td>\n",
       "      <td>Monday</td>\n",
       "    </tr>\n",
       "    <tr>\n",
       "      <th>6</th>\n",
       "      <td>4CB90AA5</td>\n",
       "      <td>True</td>\n",
       "      <td>Roman Messer</td>\n",
       "      <td>dance</td>\n",
       "      <td>Springfield</td>\n",
       "      <td>13:00:07</td>\n",
       "      <td>Wednesday</td>\n",
       "    </tr>\n",
       "    <tr>\n",
       "      <th>7</th>\n",
       "      <td>F03E1C1F</td>\n",
       "      <td>Feeling This Way</td>\n",
       "      <td>Polina Griffith</td>\n",
       "      <td>dance</td>\n",
       "      <td>Springfield</td>\n",
       "      <td>20:47:49</td>\n",
       "      <td>Wednesday</td>\n",
       "    </tr>\n",
       "    <tr>\n",
       "      <th>8</th>\n",
       "      <td>8FA1D3BE</td>\n",
       "      <td>L’estate</td>\n",
       "      <td>Julia Dalia</td>\n",
       "      <td>ruspop</td>\n",
       "      <td>Springfield</td>\n",
       "      <td>09:17:40</td>\n",
       "      <td>Friday</td>\n",
       "    </tr>\n",
       "    <tr>\n",
       "      <th>...</th>\n",
       "      <td>...</td>\n",
       "      <td>...</td>\n",
       "      <td>...</td>\n",
       "      <td>...</td>\n",
       "      <td>...</td>\n",
       "      <td>...</td>\n",
       "      <td>...</td>\n",
       "    </tr>\n",
       "    <tr>\n",
       "      <th>65073</th>\n",
       "      <td>83A474E7</td>\n",
       "      <td>I Worship Only What You Bleed</td>\n",
       "      <td>The Black Dahlia Murder</td>\n",
       "      <td>extrememetal</td>\n",
       "      <td>Springfield</td>\n",
       "      <td>21:07:12</td>\n",
       "      <td>Monday</td>\n",
       "    </tr>\n",
       "    <tr>\n",
       "      <th>65074</th>\n",
       "      <td>729CBB09</td>\n",
       "      <td>My Name</td>\n",
       "      <td>McLean</td>\n",
       "      <td>rnb</td>\n",
       "      <td>Springfield</td>\n",
       "      <td>13:32:28</td>\n",
       "      <td>Wednesday</td>\n",
       "    </tr>\n",
       "    <tr>\n",
       "      <th>65076</th>\n",
       "      <td>C5E3A0D5</td>\n",
       "      <td>Jalopiina</td>\n",
       "      <td>unknown</td>\n",
       "      <td>industrial</td>\n",
       "      <td>Springfield</td>\n",
       "      <td>20:09:26</td>\n",
       "      <td>Friday</td>\n",
       "    </tr>\n",
       "    <tr>\n",
       "      <th>65077</th>\n",
       "      <td>321D0506</td>\n",
       "      <td>Freight Train</td>\n",
       "      <td>Chas McDevitt</td>\n",
       "      <td>rock</td>\n",
       "      <td>Springfield</td>\n",
       "      <td>21:43:59</td>\n",
       "      <td>Friday</td>\n",
       "    </tr>\n",
       "    <tr>\n",
       "      <th>65078</th>\n",
       "      <td>3A64EF84</td>\n",
       "      <td>Tell Me Sweet Little Lies</td>\n",
       "      <td>Monica Lopez</td>\n",
       "      <td>country</td>\n",
       "      <td>Springfield</td>\n",
       "      <td>21:59:46</td>\n",
       "      <td>Friday</td>\n",
       "    </tr>\n",
       "  </tbody>\n",
       "</table>\n",
       "<p>42741 rows × 7 columns</p>\n",
       "</div>"
      ],
      "text/plain": [
       "        user_id                          track                   artist  \\\n",
       "1      55204538    Delayed Because of Accident         Andreas Rönnberg   \n",
       "4      E2DC1FAE                    Soul People               Space Echo   \n",
       "6      4CB90AA5                           True             Roman Messer   \n",
       "7      F03E1C1F               Feeling This Way          Polina Griffith   \n",
       "8      8FA1D3BE                       L’estate              Julia Dalia   \n",
       "...         ...                            ...                      ...   \n",
       "65073  83A474E7  I Worship Only What You Bleed  The Black Dahlia Murder   \n",
       "65074  729CBB09                        My Name                   McLean   \n",
       "65076  C5E3A0D5                      Jalopiina                  unknown   \n",
       "65077  321D0506                  Freight Train            Chas McDevitt   \n",
       "65078  3A64EF84      Tell Me Sweet Little Lies             Monica Lopez   \n",
       "\n",
       "              genre         city      time        day  \n",
       "1              rock  Springfield  14:07:09     Friday  \n",
       "4             dance  Springfield  08:34:34     Monday  \n",
       "6             dance  Springfield  13:00:07  Wednesday  \n",
       "7             dance  Springfield  20:47:49  Wednesday  \n",
       "8            ruspop  Springfield  09:17:40     Friday  \n",
       "...             ...          ...       ...        ...  \n",
       "65073  extrememetal  Springfield  21:07:12     Monday  \n",
       "65074           rnb  Springfield  13:32:28  Wednesday  \n",
       "65076    industrial  Springfield  20:09:26     Friday  \n",
       "65077          rock  Springfield  21:43:59     Friday  \n",
       "65078       country  Springfield  21:59:46     Friday  \n",
       "\n",
       "[42741 rows x 7 columns]"
      ]
     },
     "execution_count": 28,
     "metadata": {},
     "output_type": "execute_result"
    }
   ],
   "source": [
    "# obtendo a tabela spr_generala partir das linhas df, \n",
    "# onde o valor na coluna 'city' é 'Springfield'\n",
    "spr_general = df[df['city'] == 'Springfield' ]\n",
    "spr_general"
   ]
  },
  {
   "cell_type": "code",
   "execution_count": 29,
   "metadata": {
    "id": "ORaVRKto_Zcu"
   },
   "outputs": [
    {
     "data": {
      "text/html": [
       "<div>\n",
       "<style scoped>\n",
       "    .dataframe tbody tr th:only-of-type {\n",
       "        vertical-align: middle;\n",
       "    }\n",
       "\n",
       "    .dataframe tbody tr th {\n",
       "        vertical-align: top;\n",
       "    }\n",
       "\n",
       "    .dataframe thead th {\n",
       "        text-align: right;\n",
       "    }\n",
       "</style>\n",
       "<table border=\"1\" class=\"dataframe\">\n",
       "  <thead>\n",
       "    <tr style=\"text-align: right;\">\n",
       "      <th></th>\n",
       "      <th>user_id</th>\n",
       "      <th>track</th>\n",
       "      <th>artist</th>\n",
       "      <th>genre</th>\n",
       "      <th>city</th>\n",
       "      <th>time</th>\n",
       "      <th>day</th>\n",
       "    </tr>\n",
       "  </thead>\n",
       "  <tbody>\n",
       "    <tr>\n",
       "      <th>0</th>\n",
       "      <td>FFB692EC</td>\n",
       "      <td>Kamigata To Boots</td>\n",
       "      <td>The Mass Missile</td>\n",
       "      <td>rock</td>\n",
       "      <td>Shelbyville</td>\n",
       "      <td>20:28:33</td>\n",
       "      <td>Wednesday</td>\n",
       "    </tr>\n",
       "    <tr>\n",
       "      <th>2</th>\n",
       "      <td>20EC38</td>\n",
       "      <td>Funiculì funiculà</td>\n",
       "      <td>Mario Lanza</td>\n",
       "      <td>pop</td>\n",
       "      <td>Shelbyville</td>\n",
       "      <td>20:58:07</td>\n",
       "      <td>Wednesday</td>\n",
       "    </tr>\n",
       "    <tr>\n",
       "      <th>3</th>\n",
       "      <td>A3DD03C9</td>\n",
       "      <td>Dragons in the Sunset</td>\n",
       "      <td>Fire + Ice</td>\n",
       "      <td>folk</td>\n",
       "      <td>Shelbyville</td>\n",
       "      <td>08:37:09</td>\n",
       "      <td>Monday</td>\n",
       "    </tr>\n",
       "    <tr>\n",
       "      <th>5</th>\n",
       "      <td>842029A1</td>\n",
       "      <td>Chains</td>\n",
       "      <td>Obladaet</td>\n",
       "      <td>rusrap</td>\n",
       "      <td>Shelbyville</td>\n",
       "      <td>13:09:41</td>\n",
       "      <td>Friday</td>\n",
       "    </tr>\n",
       "    <tr>\n",
       "      <th>9</th>\n",
       "      <td>E772D5C0</td>\n",
       "      <td>Pessimist</td>\n",
       "      <td>unknown</td>\n",
       "      <td>dance</td>\n",
       "      <td>Shelbyville</td>\n",
       "      <td>21:20:49</td>\n",
       "      <td>Wednesday</td>\n",
       "    </tr>\n",
       "    <tr>\n",
       "      <th>...</th>\n",
       "      <td>...</td>\n",
       "      <td>...</td>\n",
       "      <td>...</td>\n",
       "      <td>...</td>\n",
       "      <td>...</td>\n",
       "      <td>...</td>\n",
       "      <td>...</td>\n",
       "    </tr>\n",
       "    <tr>\n",
       "      <th>65063</th>\n",
       "      <td>D94F810B</td>\n",
       "      <td>Theme from the Walking Dead</td>\n",
       "      <td>Proyecto Halloween</td>\n",
       "      <td>film</td>\n",
       "      <td>Shelbyville</td>\n",
       "      <td>21:14:40</td>\n",
       "      <td>Monday</td>\n",
       "    </tr>\n",
       "    <tr>\n",
       "      <th>65064</th>\n",
       "      <td>BC8EC5CF</td>\n",
       "      <td>Red Lips: Gta (Rover Rework)</td>\n",
       "      <td>Rover</td>\n",
       "      <td>electronic</td>\n",
       "      <td>Shelbyville</td>\n",
       "      <td>21:06:50</td>\n",
       "      <td>Monday</td>\n",
       "    </tr>\n",
       "    <tr>\n",
       "      <th>65065</th>\n",
       "      <td>29E04611</td>\n",
       "      <td>Bre Petrunko</td>\n",
       "      <td>Perunika Trio</td>\n",
       "      <td>world</td>\n",
       "      <td>Shelbyville</td>\n",
       "      <td>13:56:00</td>\n",
       "      <td>Monday</td>\n",
       "    </tr>\n",
       "    <tr>\n",
       "      <th>65066</th>\n",
       "      <td>1B91C621</td>\n",
       "      <td>(Hello) Cloud Mountain</td>\n",
       "      <td>sleepmakeswaves</td>\n",
       "      <td>postrock</td>\n",
       "      <td>Shelbyville</td>\n",
       "      <td>09:22:13</td>\n",
       "      <td>Monday</td>\n",
       "    </tr>\n",
       "    <tr>\n",
       "      <th>65075</th>\n",
       "      <td>D08D4A55</td>\n",
       "      <td>Maybe One Day (feat. Black Spade)</td>\n",
       "      <td>Blu &amp; Exile</td>\n",
       "      <td>hiphop</td>\n",
       "      <td>Shelbyville</td>\n",
       "      <td>10:00:00</td>\n",
       "      <td>Monday</td>\n",
       "    </tr>\n",
       "  </tbody>\n",
       "</table>\n",
       "<p>18512 rows × 7 columns</p>\n",
       "</div>"
      ],
      "text/plain": [
       "        user_id                              track              artist  \\\n",
       "0      FFB692EC                  Kamigata To Boots    The Mass Missile   \n",
       "2        20EC38                  Funiculì funiculà         Mario Lanza   \n",
       "3      A3DD03C9              Dragons in the Sunset          Fire + Ice   \n",
       "5      842029A1                             Chains            Obladaet   \n",
       "9      E772D5C0                          Pessimist             unknown   \n",
       "...         ...                                ...                 ...   \n",
       "65063  D94F810B        Theme from the Walking Dead  Proyecto Halloween   \n",
       "65064  BC8EC5CF       Red Lips: Gta (Rover Rework)               Rover   \n",
       "65065  29E04611                       Bre Petrunko       Perunika Trio   \n",
       "65066  1B91C621             (Hello) Cloud Mountain     sleepmakeswaves   \n",
       "65075  D08D4A55  Maybe One Day (feat. Black Spade)         Blu & Exile   \n",
       "\n",
       "            genre         city      time        day  \n",
       "0            rock  Shelbyville  20:28:33  Wednesday  \n",
       "2             pop  Shelbyville  20:58:07  Wednesday  \n",
       "3            folk  Shelbyville  08:37:09     Monday  \n",
       "5          rusrap  Shelbyville  13:09:41     Friday  \n",
       "9           dance  Shelbyville  21:20:49  Wednesday  \n",
       "...           ...          ...       ...        ...  \n",
       "65063        film  Shelbyville  21:14:40     Monday  \n",
       "65064  electronic  Shelbyville  21:06:50     Monday  \n",
       "65065       world  Shelbyville  13:56:00     Monday  \n",
       "65066    postrock  Shelbyville  09:22:13     Monday  \n",
       "65075      hiphop  Shelbyville  10:00:00     Monday  \n",
       "\n",
       "[18512 rows x 7 columns]"
      ]
     },
     "execution_count": 29,
     "metadata": {},
     "output_type": "execute_result"
    }
   ],
   "source": [
    "# obtendo os shel_general a partir das linhas df,\n",
    "# onde os valores na coluna 'city' é 'Shelbyville'\n",
    "shel_general = df[df['city'] == 'Shelbyville' ]\n",
    "shel_general"
   ]
  },
  {
   "cell_type": "markdown",
   "metadata": {
    "id": "MEJV-CX2_Zcu"
   },
   "source": [
    "Escreva a função `genre_weekday()` com quatro parâmetros:\n",
    "* Uma tabela para dados (`df`)\n",
    "* O dia da semana (`day`)\n",
    "* O primeiro carimbo de hora, no formato 'HH:MM' (`time1`)\n",
    "* O último carimbo de hora, no formato 'HH,MM' (`time2`)\n",
    "\n",
    "A função deve retornar informações sobre os 15 gêneros mais populares em um determinado dia, dentro do período entre os dois carimbos de hora."
   ]
  },
  {
   "cell_type": "code",
   "execution_count": 30,
   "metadata": {
    "id": "laJT9BYl_Zcu"
   },
   "outputs": [],
   "source": [
    "# Declarando a função genre_weekday() com os parâmetros day=, time1=, e time2=. It should\n",
    "# retornar a informação sobre os gêneros mais populares em um determinado dia em um período específico:\n",
    "\n",
    "# 1) Deixe a variável genre_df armazenar as linhas que satisfazem várias condições:\n",
    "#    - o valor na coluna 'day' é igual ao valor do argumento day=\n",
    "#    - o valor na coluna 'time' é maior do que o valor do argumento time1=\n",
    "#    - o valor na coluna 'time' é menor do que o valor do argumento time2=\n",
    "#    Use filtros consecutivos com indexação lógica.\n",
    "\n",
    "# 2) Agrupe genre_df pela coluna 'genre', pegue uma das suas colunas, \n",
    "#    e use o método count() para encontrar a quantidade de entradas para entradas de cada um dos \n",
    "#    representantes de gênero; armazene o objeto Series resultante na\n",
    "#    variável genre_df_count\n",
    "\n",
    "# 3) Organize genre_df_count em ordem decrescente de frequência e armazene o resultado\n",
    "#    para a variável genre_df_sorted\n",
    "\n",
    "# 4) Retorne um objeto Series com os primeiros 15 valores genre_df_sorted - os 15 maiores\n",
    "#    generos populares (em um determinado dia, dentro de um certo intervalo de tempo)\n",
    "\n",
    "# Escreva a sua função aqui\n",
    "\n",
    "def genre_weekday(df,day, time1, time2):\n",
    "    # filtragem consecutiva\n",
    "    # genre_df armazenará apenas as linhas df onde o dia é igual a day=\n",
    "    genre_df = df[df['day'] == day]\n",
    "\n",
    "    # genre_df armazenará apenas aslinhas df que o tempo é menor do que time2=\n",
    "    genre_df = genre_df[genre_df['time'] < time2]\n",
    "\n",
    "    # genre_df armazenará apenas as linhas onde onde o tempo é maior do que time1=\n",
    "    genre_df = genre_df[genre_df['time'] > time1]\n",
    "\n",
    "    # agrope o DataFrame filtrado pela coluna com nomes dos gêneros, pegue a coluna gênero, e encontre o número de linhas para cada gênero com o método count()\n",
    "    genre_df_grouped = genre_df.groupby('genre')['user_id'].count()\n",
    "\n",
    "    # nós vamos armazenar o resultado em ordem decrescente (para que os gêneros mais populares venham primeiro no objeto Series)\n",
    "    genre_df_sorted = genre_df_grouped.sort_values(ascending=False)\n",
    "    \n",
    "    # nós vamos retornar o objeto Serie armazenando os 15 gêneros mais populares em um determinado dia, dentro de um determinado intervalo de tempo\n",
    "    return genre_df_sorted[:15]"
   ]
  },
  {
   "cell_type": "markdown",
   "metadata": {
    "id": "la2s2_PF_Zcu"
   },
   "source": [
    "Compare os resultados da função `genre_weekday()` para Springfield e Shelbyville na segunda-feira de manhã (de 7hs à 11hs) e na sexta-feira de tarde (das 17hs às 23hs):"
   ]
  },
  {
   "cell_type": "code",
   "execution_count": 31,
   "metadata": {
    "id": "yz7itPUQ_Zcu"
   },
   "outputs": [
    {
     "data": {
      "text/plain": [
       "genre\n",
       "pop            781\n",
       "dance          549\n",
       "electronic     480\n",
       "rock           474\n",
       "hiphop         286\n",
       "ruspop         186\n",
       "world          181\n",
       "rusrap         175\n",
       "alternative    164\n",
       "unknown        161\n",
       "classical      157\n",
       "metal          120\n",
       "jazz           100\n",
       "folk            97\n",
       "soundtrack      95\n",
       "Name: user_id, dtype: int64"
      ]
     },
     "execution_count": 31,
     "metadata": {},
     "output_type": "execute_result"
    }
   ],
   "source": [
    "# chamando a função para segunda-feira de manha em Springfield (use spr_general em vez de df table)\n",
    "genre_weekday(spr_general, 'Monday', '07:00', '11:00')"
   ]
  },
  {
   "cell_type": "code",
   "execution_count": 32,
   "metadata": {
    "id": "kwUcHPdy_Zcu"
   },
   "outputs": [
    {
     "data": {
      "text/plain": [
       "genre\n",
       "pop            218\n",
       "dance          182\n",
       "rock           162\n",
       "electronic     147\n",
       "hiphop          80\n",
       "ruspop          64\n",
       "alternative     58\n",
       "rusrap          55\n",
       "jazz            44\n",
       "classical       40\n",
       "world           36\n",
       "rap             32\n",
       "soundtrack      31\n",
       "rnb             27\n",
       "metal           27\n",
       "Name: user_id, dtype: int64"
      ]
     },
     "execution_count": 32,
     "metadata": {},
     "output_type": "execute_result"
    }
   ],
   "source": [
    "# chamando a função para segunda-feira de manhã em Shelbyville (use shel_general em vez de df table)\n",
    "genre_weekday(shel_general, 'Monday', '07:00', '11:00')"
   ]
  },
  {
   "cell_type": "code",
   "execution_count": 33,
   "metadata": {
    "id": "EzXVRE1o_Zcu"
   },
   "outputs": [
    {
     "data": {
      "text/plain": [
       "genre\n",
       "pop            713\n",
       "rock           517\n",
       "dance          495\n",
       "electronic     482\n",
       "hiphop         273\n",
       "world          208\n",
       "ruspop         170\n",
       "classical      163\n",
       "alternative    163\n",
       "rusrap         142\n",
       "jazz           111\n",
       "unknown        110\n",
       "soundtrack     105\n",
       "rnb             90\n",
       "metal           88\n",
       "Name: user_id, dtype: int64"
      ]
     },
     "execution_count": 33,
     "metadata": {},
     "output_type": "execute_result"
    }
   ],
   "source": [
    "# chamando a função para sexta-feira à tarde em Springfield\n",
    "genre_weekday(spr_general, 'Friday', '17:00', '23:00')"
   ]
  },
  {
   "cell_type": "code",
   "execution_count": 34,
   "metadata": {
    "id": "JZaEKu5v_Zcu"
   },
   "outputs": [
    {
     "data": {
      "text/plain": [
       "genre\n",
       "pop            256\n",
       "rock           216\n",
       "electronic     216\n",
       "dance          210\n",
       "hiphop          97\n",
       "alternative     63\n",
       "jazz            61\n",
       "classical       60\n",
       "rusrap          59\n",
       "world           54\n",
       "unknown         47\n",
       "ruspop          47\n",
       "soundtrack      40\n",
       "metal           39\n",
       "rap             36\n",
       "Name: user_id, dtype: int64"
      ]
     },
     "execution_count": 34,
     "metadata": {},
     "output_type": "execute_result"
    }
   ],
   "source": [
    "# chamando a função para sexta-feira à tarde em Shelbyville\n",
    "genre_weekday(shel_general, 'Friday', '17:00', '23:00')"
   ]
  },
  {
   "cell_type": "markdown",
   "metadata": {
    "id": "wrCe4MNX_Zcu"
   },
   "source": [
    "**Conclusão**\n",
    "\n",
    "Tendo comparado os 15 gêneros mais ouvidos na segunda-feira de manhã, nós podemos tirar as seguintes conclusões:\n",
    "\n",
    "1. Usuários de Springfield e Shelbyville escutam músicas semelhantes. Os cinco gêneros mais ouvidos são os mesmos, apenas rock e música eletrônica trocaram de lugar.\n",
    "\n",
    "2. Em Springfield, a quantidade de valores ausentes acabaram por serem tantos que o valor `'unknown'` veio em 10º. Isso significa que valores ausentes tiveram uma considerável porção dos dados, que pode ser a base para questionamentos a confiabilidade das conclusões.\n",
    "\n",
    "Para sexta-feira à tarde, a situação é parecida. Gêneros individuais variam um pouco, mas no todo, os 15 gêneros mais ouvidos são parecidos para as duas cidades.\n",
    "\n",
    "Assim, a segunda hipótese foi parcialmente provada:\n",
    "* Usuários escutam gêneros musicais parecidos no começo e no fim da semana.\n",
    "* Não há grande diferença entre Springfield e Shelbyville. Nas duas cidades, pop é o gênero mais popular.\n",
    "\n",
    "No entanto, o número de valores ausentes faz esse resultado ser questionável. Em Springfield, há tantos que eles afetaram o top 15. Se não nos faltassem esses valores, as coisas poderiam ser diferentes."
   ]
  },
  {
   "cell_type": "markdown",
   "metadata": {
    "id": "jLmXgdanVyhP"
   },
   "source": [
    "[Voltar ao Índice](#back)"
   ]
  },
  {
   "cell_type": "markdown",
   "metadata": {
    "id": "JolODAqr_Zcu"
   },
   "source": [
    "### Hipótese 3: preferências em Springfield e Shelbyville <a id='genre'></a>\n",
    "\n",
    "Hipótese: Shelbyville ama rap. Cidadãos de Springfield curtem mais pop."
   ]
  },
  {
   "cell_type": "markdown",
   "metadata": {
    "id": "DlegSvaT_Zcu"
   },
   "source": [
    "Agrupe a tabela `spr_general` por gênero e encontre o número de músicas tocadas para cada gênero com o método `count()`. Depois organize o resultado em ordem decrescente e armazene-o em `spr_genres`."
   ]
  },
  {
   "cell_type": "code",
   "execution_count": 35,
   "metadata": {
    "id": "r19lIPke_Zcu"
   },
   "outputs": [],
   "source": [
    "# em uma linha: agrupe a tabela spr_general pela coluna 'genre', \n",
    "# conte os valores de 'genre' com count() no agrupamento, \n",
    "# organize o o objeto Series resultante em ordem decrescente, e armazene-o em spr_genres\n",
    "spr_general_counting = spr_general.groupby('genre')['genre'].count()\n",
    "spr_genres = spr_general_counting.sort_values(ascending=False)"
   ]
  },
  {
   "cell_type": "markdown",
   "metadata": {
    "id": "6kMuomxTiIr8"
   },
   "source": [
    "Exiba as primeiras 10 linhas de `spr_genres`:"
   ]
  },
  {
   "cell_type": "code",
   "execution_count": 36,
   "metadata": {
    "id": "WhCSooF8_Zcv"
   },
   "outputs": [
    {
     "data": {
      "text/plain": [
       "genre\n",
       "pop            5892\n",
       "dance          4435\n",
       "rock           3965\n",
       "electronic     3786\n",
       "hiphop         2096\n",
       "classical      1616\n",
       "world          1432\n",
       "alternative    1379\n",
       "ruspop         1372\n",
       "rusrap         1161\n",
       "Name: genre, dtype: int64"
      ]
     },
     "execution_count": 36,
     "metadata": {},
     "output_type": "execute_result"
    }
   ],
   "source": [
    "# exibindo as primeiras 10 linhas de spr_genres\n",
    "spr_genres.head(10)"
   ]
  },
  {
   "cell_type": "markdown",
   "metadata": {
    "id": "cnPG2vnN_Zcv"
   },
   "source": [
    "Agora faça o mesmo com os dados de Shelbyville.\n",
    "\n",
    "Agrupe a tabela `shel_general` por gênero e encontre o número de músicas tocadas de cada gênero. Depois organize o resultado em ordem decrescente e armazene-o na tabela `shel_genres`:\n"
   ]
  },
  {
   "cell_type": "code",
   "execution_count": 37,
   "metadata": {
    "id": "gluLIpE7_Zcv"
   },
   "outputs": [],
   "source": [
    "# na linha um: agrupe a tabela shel_general pela coluna 'genre', \n",
    "# conte os valores 'genre' no agrupamento com count(), \n",
    "# organize a o objeto Series resultante em ordem decrescente e armazene-o em shel_genres\n",
    "shel_general_counting = shel_general.groupby('genre')['genre'].count()\n",
    "shel_genres = shel_general_counting.sort_values(ascending=False)"
   ]
  },
  {
   "cell_type": "markdown",
   "metadata": {
    "id": "5Doha_ODgyQ8"
   },
   "source": [
    "Exiba as 10 primeiras linhas de `shel_genres`:"
   ]
  },
  {
   "cell_type": "code",
   "execution_count": 38,
   "metadata": {
    "id": "uaGJHjVU_Zcv"
   },
   "outputs": [
    {
     "data": {
      "text/plain": [
       "genre\n",
       "pop            2431\n",
       "dance          1932\n",
       "rock           1879\n",
       "electronic     1736\n",
       "hiphop          960\n",
       "alternative     649\n",
       "classical       646\n",
       "rusrap          564\n",
       "ruspop          538\n",
       "world           515\n",
       "Name: genre, dtype: int64"
      ]
     },
     "execution_count": 38,
     "metadata": {},
     "output_type": "execute_result"
    }
   ],
   "source": [
    "# exibindo as 10 primeiras linhas de shel_genres\n",
    "shel_genres.head(10)"
   ]
  },
  {
   "cell_type": "markdown",
   "metadata": {
    "id": "RY51YJYu_Zcv"
   },
   "source": [
    "**Conclusão**"
   ]
  },
  {
   "cell_type": "markdown",
   "metadata": {
    "id": "nVhnJEm__Zcv"
   },
   "source": [
    "A hipótese foi parcialmente provada:\n",
    "* Música pop é o gênero mais em Springfield, como esperado.\n",
    "* Entretanto, música pop acabou por ser igualmente popular em Springfield e Shelbyville, e rap não estava no top 5 em nenhuma cidade.\n"
   ]
  },
  {
   "cell_type": "markdown",
   "metadata": {
    "id": "Byr0RfpPVz14"
   },
   "source": [
    "[Voltar ao Índice](#back)"
   ]
  },
  {
   "cell_type": "markdown",
   "metadata": {
    "id": "ykKQ0N65_Zcv"
   },
   "source": [
    "# Conclusões <a id='end'></a>"
   ]
  },
  {
   "cell_type": "markdown",
   "metadata": {
    "id": "tjUwbHb3_Zcv"
   },
   "source": [
    "Nós testamos as três hipóteses seguintes:\n",
    "\n",
    "1. A atividade do usuário varia dependendo do dia da semana e da cidade. \n",
    "2. Nas segundas-feiras de manhã, os habitantes de Springfield e Shelbyville escutam diferentes gêneros. Isso também é verdadeiro para noites de sexta-feira. \n",
    "3. Ouvintes de Springfield e Shelbyville têm preferências diferentes. Tanto em Springfield como Shellbyville, eles preferem pop.\n",
    "\n",
    "Depois de analisar os dados, nós concluímos:\n",
    "\n",
    "1. A atividade do usuário em Springfield e Shelbyville depende do dia da semana, embora as cidades variam de formas diferentes. \n",
    "\n",
    "A primeira hipótese é totalmente aceita.\n",
    "\n",
    "2. As preferências musicais não variam significativamente ao decorrer da semana tanto em Springfield como em Shelbyville. Nós podemos ver pequenas diferenças na ordem nas segundas-feiras, mas:\n",
    "* Em Springfield e Shelbyville, as pessoas escutam mais música pop.\n",
    "\n",
    "Então nós podemos aceitar essa hipótese. Nós devemos também ter em mente que o resultado pode ter sido diferente se não fosse pelos valores ausentes.\n",
    "\n",
    "3. Acontece que preferências musicais dos usuários de Springfield e Shelbyville são bastante parecidas.\n",
    "\n",
    "A terceira hipótese foi rejeitada. Se há alguma diferença nas preferências, ela não pode ser vista nesses dados.\n"
   ]
  },
  {
   "cell_type": "markdown",
   "metadata": {
    "id": "Ju4AHDSgV1FE"
   },
   "source": [
    "[Voltar ao Índice](#back)"
   ]
  }
 ],
 "metadata": {
  "ExecuteTimeLog": [
   {
    "duration": 341,
    "start_time": "2022-08-05T15:55:21.644Z"
   },
   {
    "duration": 284,
    "start_time": "2022-08-05T15:55:22.888Z"
   },
   {
    "duration": 10,
    "start_time": "2022-08-05T15:55:24.327Z"
   },
   {
    "duration": 27,
    "start_time": "2022-08-05T15:55:30.959Z"
   },
   {
    "duration": 4,
    "start_time": "2022-08-05T15:58:09.319Z"
   },
   {
    "duration": 10,
    "start_time": "2022-08-05T15:58:12.748Z"
   },
   {
    "duration": 4,
    "start_time": "2022-08-05T15:58:24.861Z"
   },
   {
    "duration": 413,
    "start_time": "2022-08-05T16:00:55.716Z"
   },
   {
    "duration": 253,
    "start_time": "2022-08-05T16:00:56.131Z"
   },
   {
    "duration": 9,
    "start_time": "2022-08-05T16:00:56.386Z"
   },
   {
    "duration": 24,
    "start_time": "2022-08-05T16:00:56.407Z"
   },
   {
    "duration": 3,
    "start_time": "2022-08-05T16:00:56.433Z"
   },
   {
    "duration": 13,
    "start_time": "2022-08-05T16:00:56.438Z"
   },
   {
    "duration": 12,
    "start_time": "2022-08-05T16:00:56.452Z"
   },
   {
    "duration": 26,
    "start_time": "2022-08-05T16:00:56.466Z"
   },
   {
    "duration": 41,
    "start_time": "2022-08-05T16:00:56.494Z"
   },
   {
    "duration": 28,
    "start_time": "2022-08-05T16:00:56.537Z"
   },
   {
    "duration": 76,
    "start_time": "2022-08-05T16:00:56.567Z"
   },
   {
    "duration": 82,
    "start_time": "2022-08-05T16:00:56.644Z"
   },
   {
    "duration": 49,
    "start_time": "2022-08-05T16:00:56.727Z"
   },
   {
    "duration": 6,
    "start_time": "2022-08-05T16:00:56.778Z"
   },
   {
    "duration": 4,
    "start_time": "2022-08-05T16:00:56.785Z"
   },
   {
    "duration": 12,
    "start_time": "2022-08-05T16:00:56.806Z"
   },
   {
    "duration": 6,
    "start_time": "2022-08-05T16:00:56.820Z"
   },
   {
    "duration": 21,
    "start_time": "2022-08-05T16:00:56.827Z"
   },
   {
    "duration": 2,
    "start_time": "2022-08-05T16:00:56.850Z"
   },
   {
    "duration": 5,
    "start_time": "2022-08-05T16:00:56.853Z"
   },
   {
    "duration": 5,
    "start_time": "2022-08-05T16:00:56.859Z"
   },
   {
    "duration": 5,
    "start_time": "2022-08-05T16:00:56.866Z"
   },
   {
    "duration": 8,
    "start_time": "2022-08-05T16:00:56.872Z"
   },
   {
    "duration": 5,
    "start_time": "2022-08-05T16:00:56.881Z"
   },
   {
    "duration": 21,
    "start_time": "2022-08-05T16:00:56.887Z"
   },
   {
    "duration": 7,
    "start_time": "2022-08-05T16:00:56.910Z"
   },
   {
    "duration": 6,
    "start_time": "2022-08-05T16:00:56.918Z"
   },
   {
    "duration": 5,
    "start_time": "2022-08-05T16:00:56.927Z"
   },
   {
    "duration": 12,
    "start_time": "2022-08-05T16:00:56.933Z"
   },
   {
    "duration": 77,
    "start_time": "2022-08-05T16:00:56.946Z"
   },
   {
    "duration": 0,
    "start_time": "2022-08-05T16:00:57.025Z"
   },
   {
    "duration": 0,
    "start_time": "2022-08-05T16:00:57.026Z"
   },
   {
    "duration": 0,
    "start_time": "2022-08-05T16:00:57.028Z"
   },
   {
    "duration": 0,
    "start_time": "2022-08-05T16:00:57.029Z"
   },
   {
    "duration": 0,
    "start_time": "2022-08-05T16:00:57.030Z"
   },
   {
    "duration": 0,
    "start_time": "2022-08-05T16:00:57.032Z"
   },
   {
    "duration": 0,
    "start_time": "2022-08-05T16:00:57.033Z"
   },
   {
    "duration": 0,
    "start_time": "2022-08-05T16:00:57.034Z"
   },
   {
    "duration": 21,
    "start_time": "2022-08-05T16:01:54.233Z"
   },
   {
    "duration": 9,
    "start_time": "2022-08-05T16:02:21.096Z"
   },
   {
    "duration": 3,
    "start_time": "2022-08-05T16:05:21.866Z"
   },
   {
    "duration": 15,
    "start_time": "2022-08-05T16:05:32.431Z"
   },
   {
    "duration": 14,
    "start_time": "2022-08-05T16:07:24.747Z"
   },
   {
    "duration": 14,
    "start_time": "2022-08-05T16:07:25.228Z"
   },
   {
    "duration": 15,
    "start_time": "2022-08-05T16:07:25.684Z"
   },
   {
    "duration": 14,
    "start_time": "2022-08-05T16:07:26.147Z"
   },
   {
    "duration": 15,
    "start_time": "2022-08-05T16:07:26.635Z"
   },
   {
    "duration": 14,
    "start_time": "2022-08-05T16:07:27.457Z"
   },
   {
    "duration": 8,
    "start_time": "2022-08-05T16:07:57.035Z"
   },
   {
    "duration": 15,
    "start_time": "2022-08-05T16:08:06.359Z"
   },
   {
    "duration": 14,
    "start_time": "2022-08-05T16:08:07.066Z"
   },
   {
    "duration": 13,
    "start_time": "2022-08-05T16:08:07.557Z"
   },
   {
    "duration": 13,
    "start_time": "2022-08-05T16:08:08.001Z"
   },
   {
    "duration": 16,
    "start_time": "2022-08-05T16:08:08.442Z"
   },
   {
    "duration": 13,
    "start_time": "2022-08-05T16:08:08.970Z"
   },
   {
    "duration": 9,
    "start_time": "2022-08-05T16:08:10.308Z"
   },
   {
    "duration": 7,
    "start_time": "2022-08-05T16:08:20.004Z"
   },
   {
    "duration": 68,
    "start_time": "2022-08-05T16:08:40.634Z"
   },
   {
    "duration": 18,
    "start_time": "2022-08-05T16:08:51.985Z"
   },
   {
    "duration": 7,
    "start_time": "2022-08-05T16:08:56.400Z"
   },
   {
    "duration": 3,
    "start_time": "2022-08-05T16:09:31.967Z"
   },
   {
    "duration": 16,
    "start_time": "2022-08-05T16:09:33.111Z"
   },
   {
    "duration": 14,
    "start_time": "2022-08-05T16:09:33.705Z"
   },
   {
    "duration": 15,
    "start_time": "2022-08-05T16:09:34.234Z"
   },
   {
    "duration": 13,
    "start_time": "2022-08-05T16:09:34.770Z"
   },
   {
    "duration": 15,
    "start_time": "2022-08-05T16:09:35.234Z"
   },
   {
    "duration": 13,
    "start_time": "2022-08-05T16:09:35.777Z"
   },
   {
    "duration": 6,
    "start_time": "2022-08-05T16:09:37.257Z"
   },
   {
    "duration": 4,
    "start_time": "2022-08-05T16:10:31.892Z"
   },
   {
    "duration": 16,
    "start_time": "2022-08-05T16:10:33.144Z"
   },
   {
    "duration": 15,
    "start_time": "2022-08-05T16:10:33.617Z"
   },
   {
    "duration": 15,
    "start_time": "2022-08-05T16:10:33.888Z"
   },
   {
    "duration": 13,
    "start_time": "2022-08-05T16:10:34.104Z"
   },
   {
    "duration": 16,
    "start_time": "2022-08-05T16:10:34.287Z"
   },
   {
    "duration": 15,
    "start_time": "2022-08-05T16:10:34.497Z"
   },
   {
    "duration": 6,
    "start_time": "2022-08-05T16:10:35.832Z"
   },
   {
    "duration": 21,
    "start_time": "2022-08-05T16:11:09.984Z"
   },
   {
    "duration": 14,
    "start_time": "2022-08-05T16:11:35.052Z"
   },
   {
    "duration": 5,
    "start_time": "2022-08-05T16:12:44.896Z"
   },
   {
    "duration": 17,
    "start_time": "2022-08-05T16:13:00.176Z"
   },
   {
    "duration": 12,
    "start_time": "2022-08-05T16:13:31.286Z"
   },
   {
    "duration": 10,
    "start_time": "2022-08-05T16:13:35.743Z"
   },
   {
    "duration": 17,
    "start_time": "2022-08-05T16:13:36.351Z"
   },
   {
    "duration": 12,
    "start_time": "2022-08-05T16:13:37.457Z"
   },
   {
    "duration": 8,
    "start_time": "2022-08-05T16:14:54.309Z"
   },
   {
    "duration": 4,
    "start_time": "2022-08-05T16:14:55.431Z"
   },
   {
    "duration": 6,
    "start_time": "2022-08-05T16:16:03.746Z"
   },
   {
    "duration": 5,
    "start_time": "2022-08-05T16:16:05.333Z"
   },
   {
    "duration": 371,
    "start_time": "2022-08-05T16:16:14.025Z"
   },
   {
    "duration": 255,
    "start_time": "2022-08-05T16:16:14.398Z"
   },
   {
    "duration": 10,
    "start_time": "2022-08-05T16:16:14.655Z"
   },
   {
    "duration": 41,
    "start_time": "2022-08-05T16:16:14.666Z"
   },
   {
    "duration": 4,
    "start_time": "2022-08-05T16:16:14.709Z"
   },
   {
    "duration": 11,
    "start_time": "2022-08-05T16:16:14.715Z"
   },
   {
    "duration": 5,
    "start_time": "2022-08-05T16:16:14.727Z"
   },
   {
    "duration": 26,
    "start_time": "2022-08-05T16:16:14.733Z"
   },
   {
    "duration": 50,
    "start_time": "2022-08-05T16:16:14.761Z"
   },
   {
    "duration": 23,
    "start_time": "2022-08-05T16:16:14.813Z"
   },
   {
    "duration": 72,
    "start_time": "2022-08-05T16:16:14.838Z"
   },
   {
    "duration": 72,
    "start_time": "2022-08-05T16:16:14.912Z"
   },
   {
    "duration": 64,
    "start_time": "2022-08-05T16:16:14.986Z"
   },
   {
    "duration": 7,
    "start_time": "2022-08-05T16:16:15.052Z"
   },
   {
    "duration": 4,
    "start_time": "2022-08-05T16:16:15.060Z"
   },
   {
    "duration": 11,
    "start_time": "2022-08-05T16:16:15.065Z"
   },
   {
    "duration": 6,
    "start_time": "2022-08-05T16:16:15.077Z"
   },
   {
    "duration": 38,
    "start_time": "2022-08-05T16:16:15.085Z"
   },
   {
    "duration": 10,
    "start_time": "2022-08-05T16:16:15.125Z"
   },
   {
    "duration": 3,
    "start_time": "2022-08-05T16:16:15.136Z"
   },
   {
    "duration": 17,
    "start_time": "2022-08-05T16:16:15.141Z"
   },
   {
    "duration": 12,
    "start_time": "2022-08-05T16:16:15.160Z"
   },
   {
    "duration": 41,
    "start_time": "2022-08-05T16:16:15.174Z"
   },
   {
    "duration": 12,
    "start_time": "2022-08-05T16:16:15.217Z"
   },
   {
    "duration": 15,
    "start_time": "2022-08-05T16:16:15.230Z"
   },
   {
    "duration": 13,
    "start_time": "2022-08-05T16:16:15.246Z"
   },
   {
    "duration": 5,
    "start_time": "2022-08-05T16:16:15.260Z"
   },
   {
    "duration": 47,
    "start_time": "2022-08-05T16:16:15.266Z"
   },
   {
    "duration": 12,
    "start_time": "2022-08-05T16:16:15.314Z"
   },
   {
    "duration": 4,
    "start_time": "2022-08-05T16:16:15.328Z"
   },
   {
    "duration": 20,
    "start_time": "2022-08-05T16:16:15.333Z"
   },
   {
    "duration": 11,
    "start_time": "2022-08-05T16:16:15.354Z"
   },
   {
    "duration": 44,
    "start_time": "2022-08-05T16:16:15.366Z"
   },
   {
    "duration": 11,
    "start_time": "2022-08-05T16:16:15.411Z"
   },
   {
    "duration": 6,
    "start_time": "2022-08-05T16:16:15.424Z"
   },
   {
    "duration": 7,
    "start_time": "2022-08-05T16:16:15.432Z"
   },
   {
    "duration": 11,
    "start_time": "2022-08-05T16:16:15.440Z"
   },
   {
    "duration": 6,
    "start_time": "2022-08-05T16:16:15.452Z"
   },
   {
    "duration": 8,
    "start_time": "2022-08-05T16:16:24.501Z"
   },
   {
    "duration": 19,
    "start_time": "2022-08-05T16:19:00.850Z"
   },
   {
    "duration": 430,
    "start_time": "2022-08-05T16:54:11.614Z"
   },
   {
    "duration": 336,
    "start_time": "2022-08-05T16:54:12.045Z"
   },
   {
    "duration": 9,
    "start_time": "2022-08-05T16:54:12.383Z"
   },
   {
    "duration": 36,
    "start_time": "2022-08-05T16:54:12.394Z"
   },
   {
    "duration": 33,
    "start_time": "2022-08-05T16:54:12.432Z"
   },
   {
    "duration": 29,
    "start_time": "2022-08-05T16:54:12.467Z"
   },
   {
    "duration": 9,
    "start_time": "2022-08-05T16:54:12.498Z"
   },
   {
    "duration": 50,
    "start_time": "2022-08-05T16:54:12.508Z"
   },
   {
    "duration": 43,
    "start_time": "2022-08-05T16:54:12.560Z"
   },
   {
    "duration": 40,
    "start_time": "2022-08-05T16:54:12.606Z"
   },
   {
    "duration": 68,
    "start_time": "2022-08-05T16:54:12.648Z"
   },
   {
    "duration": 75,
    "start_time": "2022-08-05T16:54:12.718Z"
   },
   {
    "duration": 56,
    "start_time": "2022-08-05T16:54:12.795Z"
   },
   {
    "duration": 7,
    "start_time": "2022-08-05T16:54:12.853Z"
   },
   {
    "duration": 12,
    "start_time": "2022-08-05T16:54:12.861Z"
   },
   {
    "duration": 19,
    "start_time": "2022-08-05T16:54:12.874Z"
   },
   {
    "duration": 10,
    "start_time": "2022-08-05T16:54:12.894Z"
   },
   {
    "duration": 37,
    "start_time": "2022-08-05T16:54:12.905Z"
   },
   {
    "duration": 10,
    "start_time": "2022-08-05T16:54:12.944Z"
   },
   {
    "duration": 9,
    "start_time": "2022-08-05T16:54:12.956Z"
   },
   {
    "duration": 56,
    "start_time": "2022-08-05T16:54:12.967Z"
   },
   {
    "duration": 21,
    "start_time": "2022-08-05T16:54:13.024Z"
   },
   {
    "duration": 14,
    "start_time": "2022-08-05T16:54:13.046Z"
   },
   {
    "duration": 22,
    "start_time": "2022-08-05T16:54:13.061Z"
   },
   {
    "duration": 31,
    "start_time": "2022-08-05T16:54:13.084Z"
   },
   {
    "duration": 31,
    "start_time": "2022-08-05T16:54:13.116Z"
   },
   {
    "duration": 26,
    "start_time": "2022-08-05T16:54:13.148Z"
   },
   {
    "duration": 58,
    "start_time": "2022-08-05T16:54:13.176Z"
   },
   {
    "duration": 16,
    "start_time": "2022-08-05T16:54:13.236Z"
   },
   {
    "duration": 4,
    "start_time": "2022-08-05T16:54:13.253Z"
   },
   {
    "duration": 34,
    "start_time": "2022-08-05T16:54:13.259Z"
   },
   {
    "duration": 11,
    "start_time": "2022-08-05T16:54:13.294Z"
   },
   {
    "duration": 31,
    "start_time": "2022-08-05T16:54:13.307Z"
   },
   {
    "duration": 30,
    "start_time": "2022-08-05T16:54:13.340Z"
   },
   {
    "duration": 10,
    "start_time": "2022-08-05T16:54:13.372Z"
   },
   {
    "duration": 27,
    "start_time": "2022-08-05T16:54:13.383Z"
   },
   {
    "duration": 21,
    "start_time": "2022-08-05T16:54:13.412Z"
   },
   {
    "duration": 19,
    "start_time": "2022-08-05T16:54:13.434Z"
   },
   {
    "duration": 81,
    "start_time": "2022-08-05T16:55:34.221Z"
   },
   {
    "duration": 66,
    "start_time": "2022-08-05T16:58:38.482Z"
   },
   {
    "duration": 11,
    "start_time": "2022-08-05T16:59:00.629Z"
   }
  ],
  "colab": {
   "collapsed_sections": [
    "E0vqbgi9ay0H",
    "VUC88oWjTJw2",
    "atZAxtq4_Zcu"
   ],
   "name": "EmptyFinalProject.ipynb\"",
   "provenance": []
  },
  "kernelspec": {
   "display_name": "Python 3 (ipykernel)",
   "language": "python",
   "name": "python3"
  },
  "language_info": {
   "codemirror_mode": {
    "name": "ipython",
    "version": 3
   },
   "file_extension": ".py",
   "mimetype": "text/x-python",
   "name": "python",
   "nbconvert_exporter": "python",
   "pygments_lexer": "ipython3",
   "version": "3.9.5"
  },
  "toc": {
   "base_numbering": 1,
   "nav_menu": {},
   "number_sections": true,
   "sideBar": true,
   "skip_h1_title": true,
   "title_cell": "Table of Contents",
   "title_sidebar": "Contents",
   "toc_cell": false,
   "toc_position": {},
   "toc_section_display": true,
   "toc_window_display": false
  }
 },
 "nbformat": 4,
 "nbformat_minor": 4
}
