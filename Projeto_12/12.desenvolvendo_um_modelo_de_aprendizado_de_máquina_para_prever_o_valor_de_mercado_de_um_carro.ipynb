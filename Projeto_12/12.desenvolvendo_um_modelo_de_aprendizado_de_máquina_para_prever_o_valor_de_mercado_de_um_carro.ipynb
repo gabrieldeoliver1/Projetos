{
 "cells": [
  {
   "cell_type": "markdown",
   "metadata": {},
   "source": [
    "# Desenvolvendo um modelo de aprendizado de máquina para prever o valor de mercado de um carro."
   ]
  },
  {
   "cell_type": "markdown",
   "metadata": {},
   "source": [
    "# Contents <a id='back'></a>\n",
    "\n",
    "* [Introdução](#intro)\n",
    "* [Etapa 1. Visão geral dos dados](#data_review)\n",
    "* [Etapa 2. Transformações dos dados](#tranforamation_data)\n",
    "* [Etapa 3. Modelo](#model)\n",
    "* [Conclusões](#end)\n",
    "    "
   ]
  },
  {
   "cell_type": "markdown",
   "metadata": {},
   "source": [
    "## Introdução <a id='intro'></a>\n",
    "\n",
    "O serviço de vendas de carros usados Rusty Bargain está desenvolvendo um aplicativo para atrair novos clientes. Nesse aplicativo, você pode descobrir rapidamente o valor de mercado do seu carro. Você tem acesso a dados históricos: especificações técnicas, versões de acabamento e preços. Você precisa construir o modelo para determinar o valor. \n",
    "\n",
    "Rusty Bargain está interessado em:\n",
    "\n",
    "- a qualidade da predição;\n",
    "- a velocidade da predição;\n",
    "- o tempo necessário para o treinamento\n",
    "\n",
    "### Objetivo: \n",
    "- Você seguiu todos os passos das instruções?\n",
    "- Como você preparou os dados?\n",
    "- Quais modelos e hiperparâmetros você considerou?\n",
    "- Você conseguiu evitar a duplicação de código?\n",
    "- Quais são suas conclusões?\n",
    "- Você manteve a estrutura do projeto?\n",
    "- Você manteve o código limpo?\n",
    "\n",
    "\n",
    "### Descrição de dados\n",
    "\n",
    "- `Abra e examine o arquivo de dados. Caminho para o arquivo:`\n",
    "/datasets/car_data.csv. Baixar o conjunto de dados\n",
    "\n",
    "[Voltar ao Índice](#back)"
   ]
  },
  {
   "cell_type": "markdown",
   "metadata": {},
   "source": [
    "## Etapa 1. Visão geral dos dados <a id='data_review'></a>\n",
    "\n",
    "Carregue os dados das consultas, explore-os e carregue bibliotecas que você acredita que são necessárias para o projeto."
   ]
  },
  {
   "cell_type": "code",
   "execution_count": 1,
   "metadata": {},
   "outputs": [],
   "source": [
    "# Importa as bibliotecas necessárias\n",
    "import pandas as pd  # Utilizada para manipulação de dados em DataFrames\n",
    "import numpy as np  # Utilizada para trabalhar com arrays e operações numéricas\n",
    "import matplotlib.pyplot as plt  # Utilizada para criar gráficos e visualizações\n",
    "from scipy import stats as st  # Importa a função de estatísticas da biblioteca SciPy e dá um apelido como 'st'\n",
    "import warnings  # Utilizada para controlar a exibição de avisos no código\n",
    "\n",
    "# Ignora os avisos que possam aparecer durante a execução do código\n",
    "warnings.filterwarnings(\"ignore\")\n"
   ]
  },
  {
   "cell_type": "markdown",
   "metadata": {},
   "source": [
    "## Carregue os Dados"
   ]
  },
  {
   "cell_type": "code",
   "execution_count": 2,
   "metadata": {},
   "outputs": [],
   "source": [
    "# Carregue o arquivo com os dados em um DataFrame\n",
    "df = pd.read_csv('C:/Users/gabri/Downloads/Corrigido/Projeto 12/car_data.csv')"
   ]
  },
  {
   "cell_type": "code",
   "execution_count": 3,
   "metadata": {
    "scrolled": true
   },
   "outputs": [
    {
     "data": {
      "text/html": [
       "<div>\n",
       "<style scoped>\n",
       "    .dataframe tbody tr th:only-of-type {\n",
       "        vertical-align: middle;\n",
       "    }\n",
       "\n",
       "    .dataframe tbody tr th {\n",
       "        vertical-align: top;\n",
       "    }\n",
       "\n",
       "    .dataframe thead th {\n",
       "        text-align: right;\n",
       "    }\n",
       "</style>\n",
       "<table border=\"1\" class=\"dataframe\">\n",
       "  <thead>\n",
       "    <tr style=\"text-align: right;\">\n",
       "      <th></th>\n",
       "      <th>DateCrawled</th>\n",
       "      <th>Price</th>\n",
       "      <th>VehicleType</th>\n",
       "      <th>RegistrationYear</th>\n",
       "      <th>Gearbox</th>\n",
       "      <th>Power</th>\n",
       "      <th>Model</th>\n",
       "      <th>Mileage</th>\n",
       "      <th>RegistrationMonth</th>\n",
       "      <th>FuelType</th>\n",
       "      <th>Brand</th>\n",
       "      <th>NotRepaired</th>\n",
       "      <th>DateCreated</th>\n",
       "      <th>NumberOfPictures</th>\n",
       "      <th>PostalCode</th>\n",
       "      <th>LastSeen</th>\n",
       "    </tr>\n",
       "  </thead>\n",
       "  <tbody>\n",
       "    <tr>\n",
       "      <th>0</th>\n",
       "      <td>24/03/2016 11:52</td>\n",
       "      <td>480</td>\n",
       "      <td>NaN</td>\n",
       "      <td>1993</td>\n",
       "      <td>manual</td>\n",
       "      <td>0</td>\n",
       "      <td>golf</td>\n",
       "      <td>150000</td>\n",
       "      <td>0</td>\n",
       "      <td>petrol</td>\n",
       "      <td>volkswagen</td>\n",
       "      <td>NaN</td>\n",
       "      <td>24/03/2016 00:00</td>\n",
       "      <td>0</td>\n",
       "      <td>70435</td>\n",
       "      <td>07/04/2016 03:16</td>\n",
       "    </tr>\n",
       "    <tr>\n",
       "      <th>1</th>\n",
       "      <td>24/03/2016 10:58</td>\n",
       "      <td>18300</td>\n",
       "      <td>coupe</td>\n",
       "      <td>2011</td>\n",
       "      <td>manual</td>\n",
       "      <td>190</td>\n",
       "      <td>NaN</td>\n",
       "      <td>125000</td>\n",
       "      <td>5</td>\n",
       "      <td>gasoline</td>\n",
       "      <td>audi</td>\n",
       "      <td>yes</td>\n",
       "      <td>24/03/2016 00:00</td>\n",
       "      <td>0</td>\n",
       "      <td>66954</td>\n",
       "      <td>07/04/2016 01:46</td>\n",
       "    </tr>\n",
       "    <tr>\n",
       "      <th>2</th>\n",
       "      <td>14/03/2016 12:52</td>\n",
       "      <td>9800</td>\n",
       "      <td>suv</td>\n",
       "      <td>2004</td>\n",
       "      <td>auto</td>\n",
       "      <td>163</td>\n",
       "      <td>grand</td>\n",
       "      <td>125000</td>\n",
       "      <td>8</td>\n",
       "      <td>gasoline</td>\n",
       "      <td>jeep</td>\n",
       "      <td>NaN</td>\n",
       "      <td>14/03/2016 00:00</td>\n",
       "      <td>0</td>\n",
       "      <td>90480</td>\n",
       "      <td>05/04/2016 12:47</td>\n",
       "    </tr>\n",
       "    <tr>\n",
       "      <th>3</th>\n",
       "      <td>17/03/2016 16:54</td>\n",
       "      <td>1500</td>\n",
       "      <td>small</td>\n",
       "      <td>2001</td>\n",
       "      <td>manual</td>\n",
       "      <td>75</td>\n",
       "      <td>golf</td>\n",
       "      <td>150000</td>\n",
       "      <td>6</td>\n",
       "      <td>petrol</td>\n",
       "      <td>volkswagen</td>\n",
       "      <td>no</td>\n",
       "      <td>17/03/2016 00:00</td>\n",
       "      <td>0</td>\n",
       "      <td>91074</td>\n",
       "      <td>17/03/2016 17:40</td>\n",
       "    </tr>\n",
       "    <tr>\n",
       "      <th>4</th>\n",
       "      <td>31/03/2016 17:25</td>\n",
       "      <td>3600</td>\n",
       "      <td>small</td>\n",
       "      <td>2008</td>\n",
       "      <td>manual</td>\n",
       "      <td>69</td>\n",
       "      <td>fabia</td>\n",
       "      <td>90000</td>\n",
       "      <td>7</td>\n",
       "      <td>gasoline</td>\n",
       "      <td>skoda</td>\n",
       "      <td>no</td>\n",
       "      <td>31/03/2016 00:00</td>\n",
       "      <td>0</td>\n",
       "      <td>60437</td>\n",
       "      <td>06/04/2016 10:17</td>\n",
       "    </tr>\n",
       "  </tbody>\n",
       "</table>\n",
       "</div>"
      ],
      "text/plain": [
       "        DateCrawled  Price VehicleType  RegistrationYear Gearbox  Power  \\\n",
       "0  24/03/2016 11:52    480         NaN              1993  manual      0   \n",
       "1  24/03/2016 10:58  18300       coupe              2011  manual    190   \n",
       "2  14/03/2016 12:52   9800         suv              2004    auto    163   \n",
       "3  17/03/2016 16:54   1500       small              2001  manual     75   \n",
       "4  31/03/2016 17:25   3600       small              2008  manual     69   \n",
       "\n",
       "   Model  Mileage  RegistrationMonth  FuelType       Brand NotRepaired  \\\n",
       "0   golf   150000                  0    petrol  volkswagen         NaN   \n",
       "1    NaN   125000                  5  gasoline        audi         yes   \n",
       "2  grand   125000                  8  gasoline        jeep         NaN   \n",
       "3   golf   150000                  6    petrol  volkswagen          no   \n",
       "4  fabia    90000                  7  gasoline       skoda          no   \n",
       "\n",
       "        DateCreated  NumberOfPictures  PostalCode          LastSeen  \n",
       "0  24/03/2016 00:00                 0       70435  07/04/2016 03:16  \n",
       "1  24/03/2016 00:00                 0       66954  07/04/2016 01:46  \n",
       "2  14/03/2016 00:00                 0       90480  05/04/2016 12:47  \n",
       "3  17/03/2016 00:00                 0       91074  17/03/2016 17:40  \n",
       "4  31/03/2016 00:00                 0       60437  06/04/2016 10:17  "
      ]
     },
     "execution_count": 3,
     "metadata": {},
     "output_type": "execute_result"
    }
   ],
   "source": [
    "# vamos exibir as primeiras 5 linhas\n",
    "df.head(5)"
   ]
  },
  {
   "cell_type": "code",
   "execution_count": 4,
   "metadata": {},
   "outputs": [
    {
     "name": "stdout",
     "output_type": "stream",
     "text": [
      "<class 'pandas.core.frame.DataFrame'>\n",
      "RangeIndex: 354369 entries, 0 to 354368\n",
      "Data columns (total 16 columns):\n",
      " #   Column             Non-Null Count   Dtype \n",
      "---  ------             --------------   ----- \n",
      " 0   DateCrawled        354369 non-null  object\n",
      " 1   Price              354369 non-null  int64 \n",
      " 2   VehicleType        316879 non-null  object\n",
      " 3   RegistrationYear   354369 non-null  int64 \n",
      " 4   Gearbox            334536 non-null  object\n",
      " 5   Power              354369 non-null  int64 \n",
      " 6   Model              334664 non-null  object\n",
      " 7   Mileage            354369 non-null  int64 \n",
      " 8   RegistrationMonth  354369 non-null  int64 \n",
      " 9   FuelType           321474 non-null  object\n",
      " 10  Brand              354369 non-null  object\n",
      " 11  NotRepaired        283215 non-null  object\n",
      " 12  DateCreated        354369 non-null  object\n",
      " 13  NumberOfPictures   354369 non-null  int64 \n",
      " 14  PostalCode         354369 non-null  int64 \n",
      " 15  LastSeen           354369 non-null  object\n",
      "dtypes: int64(7), object(9)\n",
      "memory usage: 43.3+ MB\n"
     ]
    }
   ],
   "source": [
    "# Vamos ver quantas linhas e colunas nosso conjunto de dados tem\n",
    "df.info()"
   ]
  },
  {
   "cell_type": "markdown",
   "metadata": {},
   "source": [
    "### Explore os dados iniciais\n",
    "\n",
    "\n",
    "\n",
    "#### Descrição de dados\n",
    "\n",
    "- `DateCrawled` — data em que o perfil foi baixado do banco de dados\n",
    "- `VehicleType` — tipo de carroçaria do veículo\n",
    "- `RegistrationYear` — ano de matrícula do veículo\n",
    "- `Gearbox` — tipo de caixa de transmissão\n",
    "- `Power` — potência (hp)\n",
    "- `Model` — modelo do veículo\n",
    "- `Mileage` — quilometragem (medida em km devido às especificidades regionais do conjunto de dados)\n",
    "- `RegistrationMonth` — mês de registro do veículo\n",
    "- `FuelType` — tipo de combustível\n",
    "- `Brand` — marca do veículo\n",
    "- `NotRepaired` — veículo reparado ou não\n",
    "- `DateCreated` — data de criação do perfil\n",
    "- `NumberOfPictures` — número de fotos do veículo\n",
    "- `PostalCode` — código postal do proprietário do perfil (usuário)\n",
    "- `LastSeen` — data da última atividade do usuário\n",
    "\n",
    "Objetivo\n",
    "\n",
    "- `Price` — preço (Euro)\n",
    "\n",
    "Agora vamos explorar nossos dados. Você vai querer ver quantas colunas e linhas ele tem, veja algumas linhas para verificar possíveis problemas com os dados."
   ]
  },
  {
   "cell_type": "markdown",
   "metadata": {},
   "source": [
    "### Duplicatas <a id='duplicates'></a>\n",
    "Encontrando de duplicatas óbvias na tabela:"
   ]
  },
  {
   "cell_type": "code",
   "execution_count": 5,
   "metadata": {},
   "outputs": [
    {
     "data": {
      "text/plain": [
       "262"
      ]
     },
     "execution_count": 5,
     "metadata": {},
     "output_type": "execute_result"
    }
   ],
   "source": [
    "# Verificar Valores Duplicados\n",
    "df.duplicated().sum()"
   ]
  },
  {
   "cell_type": "code",
   "execution_count": 6,
   "metadata": {},
   "outputs": [],
   "source": [
    "# Aborde as duplicatas\n",
    "df = df.drop_duplicates().reset_index(drop=True)"
   ]
  },
  {
   "cell_type": "code",
   "execution_count": 7,
   "metadata": {},
   "outputs": [
    {
     "data": {
      "text/plain": [
       "0"
      ]
     },
     "execution_count": 7,
     "metadata": {},
     "output_type": "execute_result"
    }
   ],
   "source": [
    "# Verificar Valores Duplicados\n",
    "df.duplicated().sum()"
   ]
  },
  {
   "cell_type": "markdown",
   "metadata": {},
   "source": [
    "### Valores ausentes <a id='missing_values'></a>"
   ]
  },
  {
   "cell_type": "code",
   "execution_count": 8,
   "metadata": {
    "scrolled": true
   },
   "outputs": [
    {
     "data": {
      "text/plain": [
       "DateCrawled              0\n",
       "Price                    0\n",
       "VehicleType          37484\n",
       "RegistrationYear         0\n",
       "Gearbox              19830\n",
       "Power                    0\n",
       "Model                19701\n",
       "Mileage                  0\n",
       "RegistrationMonth        0\n",
       "FuelType             32889\n",
       "Brand                    0\n",
       "NotRepaired          71145\n",
       "DateCreated              0\n",
       "NumberOfPictures         0\n",
       "PostalCode               0\n",
       "LastSeen                 0\n",
       "dtype: int64"
      ]
     },
     "execution_count": 8,
     "metadata": {},
     "output_type": "execute_result"
    }
   ],
   "source": [
    "# Verificar Valores Ausentes\n",
    "df.isna().sum()"
   ]
  },
  {
   "cell_type": "code",
   "execution_count": 9,
   "metadata": {
    "scrolled": false
   },
   "outputs": [
    {
     "data": {
      "text/plain": [
       "DateCrawled           0.000000\n",
       "Price                 0.000000\n",
       "VehicleType          10.585501\n",
       "RegistrationYear      0.000000\n",
       "Gearbox               5.600002\n",
       "Power                 0.000000\n",
       "Model                 5.563573\n",
       "Mileage               0.000000\n",
       "RegistrationMonth     0.000000\n",
       "FuelType              9.287871\n",
       "Brand                 0.000000\n",
       "NotRepaired          20.091385\n",
       "DateCreated           0.000000\n",
       "NumberOfPictures      0.000000\n",
       "PostalCode            0.000000\n",
       "LastSeen              0.000000\n",
       "dtype: float64"
      ]
     },
     "execution_count": 9,
     "metadata": {},
     "output_type": "execute_result"
    }
   ],
   "source": [
    "# Vamos calcular a porcentagem desses valores faltantes em relação com o nosso conjunto de dados\n",
    "(df.isnull().sum() / df.shape[0]) * 100"
   ]
  },
  {
   "cell_type": "markdown",
   "metadata": {},
   "source": [
    "Removemos os dados duplicados e analizamos os valores faltantes. "
   ]
  },
  {
   "cell_type": "markdown",
   "metadata": {},
   "source": [
    "## Etapa 2. Transformação de dados <a id='tranforamation_data'></a>\n",
    "Vamos examinar cada coluna para ver quais problemas podemos ter nelas."
   ]
  },
  {
   "cell_type": "code",
   "execution_count": 10,
   "metadata": {
    "scrolled": true
   },
   "outputs": [
    {
     "data": {
      "text/plain": [
       "44600     01/04/2016 00:06\n",
       "266156    01/04/2016 00:06\n",
       "157525    01/04/2016 00:06\n",
       "119430    01/04/2016 00:10\n",
       "122927    01/04/2016 00:25\n",
       "                ...       \n",
       "78331     31/03/2016 23:58\n",
       "344885    31/03/2016 23:58\n",
       "102481    31/03/2016 23:58\n",
       "59088     31/03/2016 23:58\n",
       "201452    31/03/2016 23:58\n",
       "Name: DateCrawled, Length: 354107, dtype: object"
      ]
     },
     "execution_count": 10,
     "metadata": {},
     "output_type": "execute_result"
    }
   ],
   "source": [
    "df['DateCrawled'].sort_values()"
   ]
  },
  {
   "cell_type": "code",
   "execution_count": 11,
   "metadata": {},
   "outputs": [
    {
     "data": {
      "text/plain": [
       "count    354107.000000\n",
       "mean       4416.433287\n",
       "std        4514.338584\n",
       "min           0.000000\n",
       "25%        1050.000000\n",
       "50%        2700.000000\n",
       "75%        6400.000000\n",
       "max       20000.000000\n",
       "Name: Price, dtype: float64"
      ]
     },
     "execution_count": 11,
     "metadata": {},
     "output_type": "execute_result"
    }
   ],
   "source": [
    "df['Price'].describe()"
   ]
  },
  {
   "cell_type": "code",
   "execution_count": 12,
   "metadata": {},
   "outputs": [
    {
     "data": {
      "text/plain": [
       "array(['bus', 'convertible', 'coupe', 'other', 'sedan', 'small', 'suv',\n",
       "       'wagon', nan], dtype=object)"
      ]
     },
     "execution_count": 12,
     "metadata": {},
     "output_type": "execute_result"
    }
   ],
   "source": [
    "df['VehicleType'].sort_values().unique()"
   ]
  },
  {
   "cell_type": "code",
   "execution_count": 13,
   "metadata": {},
   "outputs": [
    {
     "data": {
      "text/plain": [
       "array([1000, 1001, 1039, 1111, 1200, 1234, 1253, 1255, 1300, 1400, 1500,\n",
       "       1600, 1602, 1688, 1800, 1910, 1915, 1919, 1920, 1923, 1925, 1927,\n",
       "       1928, 1929, 1930, 1931, 1932, 1933, 1934, 1935, 1936, 1937, 1938,\n",
       "       1940, 1941, 1942, 1943, 1944, 1945, 1946, 1947, 1948, 1949, 1950,\n",
       "       1951, 1952, 1953, 1954, 1955, 1956, 1957, 1958, 1959, 1960, 1961,\n",
       "       1962, 1963, 1964, 1965, 1966, 1967, 1968, 1969, 1970, 1971, 1972,\n",
       "       1973, 1974, 1975, 1976, 1977, 1978, 1979, 1980, 1981, 1982, 1983,\n",
       "       1984, 1985, 1986, 1987, 1988, 1989, 1990, 1991, 1992, 1993, 1994,\n",
       "       1995, 1996, 1997, 1998, 1999, 2000, 2001, 2002, 2003, 2004, 2005,\n",
       "       2006, 2007, 2008, 2009, 2010, 2011, 2012, 2013, 2014, 2015, 2016,\n",
       "       2017, 2018, 2019, 2066, 2200, 2222, 2290, 2500, 2800, 2900, 3000,\n",
       "       3200, 3500, 3700, 3800, 4000, 4100, 4500, 4800, 5000, 5300, 5555,\n",
       "       5600, 5900, 5911, 6000, 6500, 7000, 7100, 7500, 7800, 8000, 8200,\n",
       "       8455, 8500, 8888, 9000, 9229, 9450, 9996, 9999], dtype=int64)"
      ]
     },
     "execution_count": 13,
     "metadata": {},
     "output_type": "execute_result"
    }
   ],
   "source": [
    "df['RegistrationYear'].sort_values().unique()"
   ]
  },
  {
   "cell_type": "code",
   "execution_count": 14,
   "metadata": {},
   "outputs": [
    {
     "data": {
      "text/plain": [
       "array(['auto', 'manual', nan], dtype=object)"
      ]
     },
     "execution_count": 14,
     "metadata": {},
     "output_type": "execute_result"
    }
   ],
   "source": [
    "df['Gearbox'].sort_values().unique()"
   ]
  },
  {
   "cell_type": "code",
   "execution_count": 15,
   "metadata": {},
   "outputs": [
    {
     "data": {
      "text/plain": [
       "count    354107.000000\n",
       "mean        110.089651\n",
       "std         189.914972\n",
       "min           0.000000\n",
       "25%          69.000000\n",
       "50%         105.000000\n",
       "75%         143.000000\n",
       "max       20000.000000\n",
       "Name: Power, dtype: float64"
      ]
     },
     "execution_count": 15,
     "metadata": {},
     "output_type": "execute_result"
    }
   ],
   "source": [
    "df['Power'].describe()"
   ]
  },
  {
   "cell_type": "code",
   "execution_count": 16,
   "metadata": {},
   "outputs": [
    {
     "data": {
      "text/plain": [
       "array(['100', '145', '147', '156', '159', '1_reihe', '1er', '200',\n",
       "       '2_reihe', '300c', '3_reihe', '3er', '4_reihe', '500', '5_reihe',\n",
       "       '5er', '601', '6_reihe', '6er', '7er', '80', '850', '90', '900',\n",
       "       '9000', '911', 'a1', 'a2', 'a3', 'a4', 'a5', 'a6', 'a8',\n",
       "       'a_klasse', 'accord', 'agila', 'alhambra', 'almera', 'altea',\n",
       "       'amarok', 'antara', 'arosa', 'astra', 'auris', 'avensis', 'aveo',\n",
       "       'aygo', 'b_klasse', 'b_max', 'beetle', 'berlingo', 'bora',\n",
       "       'boxster', 'bravo', 'c1', 'c2', 'c3', 'c4', 'c5', 'c_klasse',\n",
       "       'c_max', 'c_reihe', 'caddy', 'calibra', 'captiva', 'carisma',\n",
       "       'carnival', 'cayenne', 'cc', 'ceed', 'charade', 'cherokee',\n",
       "       'citigo', 'civic', 'cl', 'clio', 'clk', 'clubman', 'colt', 'combo',\n",
       "       'cooper', 'cordoba', 'corolla', 'corsa', 'cr_reihe', 'croma',\n",
       "       'crossfire', 'cuore', 'cx_reihe', 'defender', 'delta', 'discovery',\n",
       "       'doblo', 'ducato', 'duster', 'e_klasse', 'elefantino', 'eos',\n",
       "       'escort', 'espace', 'exeo', 'fabia', 'fiesta', 'focus', 'forester',\n",
       "       'forfour', 'fortwo', 'fox', 'freelander', 'fusion', 'g_klasse',\n",
       "       'galant', 'galaxy', 'getz', 'gl', 'glk', 'golf', 'grand', 'i3',\n",
       "       'i_reihe', 'ibiza', 'impreza', 'insignia', 'jazz', 'jetta',\n",
       "       'jimny', 'juke', 'justy', 'ka', 'kadett', 'kaefer', 'kalina',\n",
       "       'kalos', 'kangoo', 'kappa', 'kuga', 'laguna', 'lancer', 'lanos',\n",
       "       'legacy', 'leon', 'lodgy', 'logan', 'lupo', 'lybra', 'm_klasse',\n",
       "       'm_reihe', 'materia', 'matiz', 'megane', 'meriva', 'micra', 'mii',\n",
       "       'modus', 'mondeo', 'move', 'musa', 'mustang', 'mx_reihe', 'navara',\n",
       "       'niva', 'note', 'nubira', 'octavia', 'omega', 'one', 'other',\n",
       "       'outlander', 'pajero', 'panda', 'passat', 'phaeton', 'picanto',\n",
       "       'polo', 'primera', 'ptcruiser', 'punto', 'q3', 'q5', 'q7',\n",
       "       'qashqai', 'r19', 'range_rover', 'range_rover_evoque',\n",
       "       'range_rover_sport', 'rangerover', 'rav', 'rio', 'roadster',\n",
       "       'roomster', 'rx_reihe', 's60', 's_klasse', 's_max', 's_type',\n",
       "       'samara', 'sandero', 'santa', 'scenic', 'scirocco', 'seicento',\n",
       "       'serie_1', 'serie_2', 'serie_3', 'sharan', 'signum', 'sirion',\n",
       "       'sl', 'slk', 'sorento', 'spark', 'spider', 'sportage', 'sprinter',\n",
       "       'stilo', 'superb', 'swift', 'terios', 'tigra', 'tiguan', 'toledo',\n",
       "       'touareg', 'touran', 'transit', 'transporter', 'tt', 'tucson',\n",
       "       'twingo', 'up', 'v40', 'v50', 'v60', 'v70', 'v_klasse', 'vectra',\n",
       "       'verso', 'viano', 'vito', 'vivaro', 'voyager', 'wrangler',\n",
       "       'x_reihe', 'x_trail', 'x_type', 'xc_reihe', 'yaris', 'yeti',\n",
       "       'ypsilon', 'z_reihe', 'zafira', nan], dtype=object)"
      ]
     },
     "execution_count": 16,
     "metadata": {},
     "output_type": "execute_result"
    }
   ],
   "source": [
    "df['Model'].sort_values().unique()"
   ]
  },
  {
   "cell_type": "code",
   "execution_count": 17,
   "metadata": {},
   "outputs": [
    {
     "data": {
      "text/plain": [
       "count    354107.000000\n",
       "mean     128211.811684\n",
       "std       37906.590101\n",
       "min        5000.000000\n",
       "25%      125000.000000\n",
       "50%      150000.000000\n",
       "75%      150000.000000\n",
       "max      150000.000000\n",
       "Name: Mileage, dtype: float64"
      ]
     },
     "execution_count": 17,
     "metadata": {},
     "output_type": "execute_result"
    }
   ],
   "source": [
    "df['Mileage'].describe()"
   ]
  },
  {
   "cell_type": "code",
   "execution_count": 18,
   "metadata": {},
   "outputs": [
    {
     "data": {
      "text/plain": [
       "array([ 0,  1,  2,  3,  4,  5,  6,  7,  8,  9, 10, 11, 12], dtype=int64)"
      ]
     },
     "execution_count": 18,
     "metadata": {},
     "output_type": "execute_result"
    }
   ],
   "source": [
    "df['RegistrationMonth'].sort_values().unique()"
   ]
  },
  {
   "cell_type": "code",
   "execution_count": 19,
   "metadata": {},
   "outputs": [
    {
     "data": {
      "text/plain": [
       "array(['cng', 'electric', 'gasoline', 'hybrid', 'lpg', 'other', 'petrol',\n",
       "       nan], dtype=object)"
      ]
     },
     "execution_count": 19,
     "metadata": {},
     "output_type": "execute_result"
    }
   ],
   "source": [
    "df['FuelType'].sort_values().unique()"
   ]
  },
  {
   "cell_type": "code",
   "execution_count": 20,
   "metadata": {},
   "outputs": [
    {
     "data": {
      "text/plain": [
       "array(['alfa_romeo', 'audi', 'bmw', 'chevrolet', 'chrysler', 'citroen',\n",
       "       'dacia', 'daewoo', 'daihatsu', 'fiat', 'ford', 'honda', 'hyundai',\n",
       "       'jaguar', 'jeep', 'kia', 'lada', 'lancia', 'land_rover', 'mazda',\n",
       "       'mercedes_benz', 'mini', 'mitsubishi', 'nissan', 'opel', 'peugeot',\n",
       "       'porsche', 'renault', 'rover', 'saab', 'seat', 'skoda', 'smart',\n",
       "       'sonstige_autos', 'subaru', 'suzuki', 'toyota', 'trabant',\n",
       "       'volkswagen', 'volvo'], dtype=object)"
      ]
     },
     "execution_count": 20,
     "metadata": {},
     "output_type": "execute_result"
    }
   ],
   "source": [
    "df['Brand'].sort_values().unique()"
   ]
  },
  {
   "cell_type": "code",
   "execution_count": 21,
   "metadata": {},
   "outputs": [
    {
     "data": {
      "text/plain": [
       "array(['no', 'yes', nan], dtype=object)"
      ]
     },
     "execution_count": 21,
     "metadata": {},
     "output_type": "execute_result"
    }
   ],
   "source": [
    "df['NotRepaired'].sort_values().unique()"
   ]
  },
  {
   "cell_type": "code",
   "execution_count": 22,
   "metadata": {},
   "outputs": [
    {
     "data": {
      "text/plain": [
       "247165    01/02/2016 00:00\n",
       "293735    01/02/2016 00:00\n",
       "281833    01/02/2016 00:00\n",
       "201856    01/03/2016 00:00\n",
       "296916    01/03/2016 00:00\n",
       "                ...       \n",
       "319455    31/03/2016 00:00\n",
       "55814     31/03/2016 00:00\n",
       "185358    31/03/2016 00:00\n",
       "185419    31/03/2016 00:00\n",
       "218578    31/03/2016 00:00\n",
       "Name: DateCreated, Length: 354107, dtype: object"
      ]
     },
     "execution_count": 22,
     "metadata": {},
     "output_type": "execute_result"
    }
   ],
   "source": [
    "df['DateCreated'].sort_values()"
   ]
  },
  {
   "cell_type": "code",
   "execution_count": 23,
   "metadata": {},
   "outputs": [
    {
     "data": {
      "text/plain": [
       "count    354107.0\n",
       "mean          0.0\n",
       "std           0.0\n",
       "min           0.0\n",
       "25%           0.0\n",
       "50%           0.0\n",
       "75%           0.0\n",
       "max           0.0\n",
       "Name: NumberOfPictures, dtype: float64"
      ]
     },
     "execution_count": 23,
     "metadata": {},
     "output_type": "execute_result"
    }
   ],
   "source": [
    "df['NumberOfPictures'].describe()"
   ]
  },
  {
   "cell_type": "code",
   "execution_count": 24,
   "metadata": {},
   "outputs": [
    {
     "data": {
      "text/plain": [
       "array([ 1067,  1068,  1069, ..., 99994, 99996, 99998], dtype=int64)"
      ]
     },
     "execution_count": 24,
     "metadata": {},
     "output_type": "execute_result"
    }
   ],
   "source": [
    "df['PostalCode'].sort_values().unique()"
   ]
  },
  {
   "cell_type": "code",
   "execution_count": 25,
   "metadata": {},
   "outputs": [
    {
     "data": {
      "text/plain": [
       "311229    01/04/2016 00:15\n",
       "300128    01/04/2016 00:15\n",
       "270029    01/04/2016 00:15\n",
       "84894     01/04/2016 00:15\n",
       "327905    01/04/2016 00:15\n",
       "                ...       \n",
       "15495     31/03/2016 23:47\n",
       "231071    31/03/2016 23:48\n",
       "36469     31/03/2016 23:50\n",
       "262530    31/03/2016 23:51\n",
       "72795     31/03/2016 23:54\n",
       "Name: LastSeen, Length: 354107, dtype: object"
      ]
     },
     "execution_count": 25,
     "metadata": {},
     "output_type": "execute_result"
    }
   ],
   "source": [
    "df['LastSeen'].sort_values()"
   ]
  },
  {
   "cell_type": "markdown",
   "metadata": {},
   "source": [
    "As colunas 'PostalCode' , 'LastSeen' , 'DateCrawled' e 'DateCreated', possuem valorem que não servem para nossa pesquisa por isso iremos retira-las. As colunas 'price' e 'power', possui alguns valores anormais, nos iremos retirar esses valores"
   ]
  },
  {
   "cell_type": "markdown",
   "metadata": {},
   "source": [
    "### Pré-processar dados "
   ]
  },
  {
   "cell_type": "code",
   "execution_count": 26,
   "metadata": {},
   "outputs": [
    {
     "data": {
      "text/plain": [
       "Index(['DateCrawled', 'Price', 'VehicleType', 'RegistrationYear', 'Gearbox',\n",
       "       'Power', 'Model', 'Mileage', 'RegistrationMonth', 'FuelType', 'Brand',\n",
       "       'NotRepaired', 'DateCreated', 'NumberOfPictures', 'PostalCode',\n",
       "       'LastSeen'],\n",
       "      dtype='object')"
      ]
     },
     "execution_count": 26,
     "metadata": {},
     "output_type": "execute_result"
    }
   ],
   "source": [
    "# a lista dos nomes das colunas na tabela df\n",
    "df.columns"
   ]
  },
  {
   "cell_type": "code",
   "execution_count": 27,
   "metadata": {},
   "outputs": [],
   "source": [
    "# renomeando colunas\n",
    "df = df.rename(str.lower, axis='columns')"
   ]
  },
  {
   "cell_type": "code",
   "execution_count": 28,
   "metadata": {
    "scrolled": true
   },
   "outputs": [
    {
     "data": {
      "text/plain": [
       "Index(['datecrawled', 'price', 'vehicletype', 'registrationyear', 'gearbox',\n",
       "       'power', 'model', 'mileage', 'registrationmonth', 'fueltype', 'brand',\n",
       "       'notrepaired', 'datecreated', 'numberofpictures', 'postalcode',\n",
       "       'lastseen'],\n",
       "      dtype='object')"
      ]
     },
     "execution_count": 28,
     "metadata": {},
     "output_type": "execute_result"
    }
   ],
   "source": [
    "# a lista dos nomes das colunas na tabela df\n",
    "df.columns"
   ]
  },
  {
   "cell_type": "code",
   "execution_count": 29,
   "metadata": {},
   "outputs": [],
   "source": [
    "#Deixando as colunas que realmentes influenciam nossa pesquisa\n",
    "df = df[['price','vehicletype','registrationyear','gearbox',\n",
    "       'power', 'model', 'mileage', 'registrationmonth', 'fueltype', 'brand',\n",
    "       'notrepaired']]"
   ]
  },
  {
   "cell_type": "code",
   "execution_count": 30,
   "metadata": {},
   "outputs": [],
   "source": [
    "#Retirando valores do Mês que correspondem a 0\n",
    "df = df.query(\"registrationmonth > 0\")"
   ]
  },
  {
   "cell_type": "code",
   "execution_count": 31,
   "metadata": {},
   "outputs": [],
   "source": [
    "#Subistituindo valores NAN de 'notrepaired' para 'unknownrepaired'\n",
    "df['notrepaired'].fillna('unknownrepaired',inplace=True )"
   ]
  },
  {
   "cell_type": "code",
   "execution_count": 32,
   "metadata": {},
   "outputs": [],
   "source": [
    "#Retirando outliers da coluna 'price' e power\n",
    "Q1_price = df['price'].quantile(0.25)\n",
    "Q3_price =df['price'].quantile(0.75)\n",
    "IQR_price = Q3_price - Q1_price\n",
    "limite_superior_price = Q3_price+(1.5*IQR_price)\n",
    "limite_inferior_price = Q1_price - (1.5 * IQR_price)"
   ]
  },
  {
   "cell_type": "code",
   "execution_count": 33,
   "metadata": {},
   "outputs": [],
   "source": [
    "Q1_power = df['power'].quantile(0.25)\n",
    "Q3_power =df['power'].quantile(0.75)\n",
    "IQR_power = Q3_power - Q1_power\n",
    "limite_superior_power = Q3_power+(1.5*IQR_power)\n",
    "limite_inferior_power = Q1_power - (1.5 * IQR_power)\n"
   ]
  },
  {
   "cell_type": "code",
   "execution_count": 34,
   "metadata": {},
   "outputs": [],
   "source": [
    "df_final = df[df['price'] > limite_inferior_price] \n",
    "df_final = df_final[df_final['price'] < limite_superior_price]\n",
    "df_final = df_final[df_final['power'] > limite_inferior_power] \n",
    "df_final = df_final[df_final['power'] < limite_superior_power]"
   ]
  },
  {
   "cell_type": "code",
   "execution_count": 35,
   "metadata": {},
   "outputs": [
    {
     "data": {
      "text/plain": [
       "count    296234.000000\n",
       "mean       4016.808277\n",
       "std        3648.408706\n",
       "min           0.000000\n",
       "25%        1200.000000\n",
       "50%        2790.000000\n",
       "75%        5950.000000\n",
       "max       15249.000000\n",
       "Name: price, dtype: float64"
      ]
     },
     "execution_count": 35,
     "metadata": {},
     "output_type": "execute_result"
    }
   ],
   "source": [
    "df_final['price'].describe()"
   ]
  },
  {
   "cell_type": "code",
   "execution_count": 36,
   "metadata": {},
   "outputs": [],
   "source": [
    "#valores abaixo do outliers sobstituindo com a média em preço\n",
    "dfpriceok = df_final.query(\"price > @Q1_price \")\n",
    "dfpriceok = dfpriceok.groupby(['vehicletype','registrationyear','gearbox','model'])['price'].mean()"
   ]
  },
  {
   "cell_type": "code",
   "execution_count": 37,
   "metadata": {},
   "outputs": [],
   "source": [
    "#valores abaixo do outliers sobstituindo com a média em potência\n",
    "dfpowerok = df_final.query(\"power > @Q1_power \")\n",
    "dfpowerok = dfpowerok.groupby(['vehicletype','registrationyear','gearbox','model'])['price'].mean()"
   ]
  },
  {
   "cell_type": "code",
   "execution_count": 38,
   "metadata": {
    "scrolled": true
   },
   "outputs": [],
   "source": [
    "def fill_price(row):\n",
    "    if row['price'] <  Q1_price :\n",
    "        return dfpriceok[row['price']]\n",
    "    return row['price']\n"
   ]
  },
  {
   "cell_type": "code",
   "execution_count": 39,
   "metadata": {},
   "outputs": [],
   "source": [
    "def fill_power(row):\n",
    "    if row['power'] <  Q1_power :\n",
    "        return dfpowerok[row['power']]\n",
    "    return row['power']"
   ]
  },
  {
   "cell_type": "code",
   "execution_count": 40,
   "metadata": {},
   "outputs": [],
   "source": [
    "df_final['price'] = df_final.apply(fill_price, axis=1)\n",
    "df_final['power'] = df_final.apply(fill_power, axis=1)"
   ]
  },
  {
   "cell_type": "code",
   "execution_count": 41,
   "metadata": {},
   "outputs": [
    {
     "data": {
      "text/plain": [
       "count    296234.000000\n",
       "mean       5690.894652\n",
       "std        3647.273691\n",
       "min        1250.000000\n",
       "25%        2500.000000\n",
       "50%        4812.500000\n",
       "75%        7999.000000\n",
       "max       15249.000000\n",
       "Name: price, dtype: float64"
      ]
     },
     "execution_count": 41,
     "metadata": {},
     "output_type": "execute_result"
    }
   ],
   "source": [
    "df_final['price'].describe()"
   ]
  },
  {
   "cell_type": "code",
   "execution_count": 42,
   "metadata": {},
   "outputs": [
    {
     "data": {
      "text/plain": [
       "count    296234.000000\n",
       "mean       1258.166519\n",
       "std        2429.866596\n",
       "min          75.000000\n",
       "25%         105.000000\n",
       "50%         140.000000\n",
       "75%         606.750000\n",
       "max       12400.000000\n",
       "Name: power, dtype: float64"
      ]
     },
     "execution_count": 42,
     "metadata": {},
     "output_type": "execute_result"
    }
   ],
   "source": [
    "df_final['power'].describe()"
   ]
  },
  {
   "cell_type": "code",
   "execution_count": 43,
   "metadata": {
    "scrolled": true
   },
   "outputs": [
    {
     "data": {
      "text/plain": [
       "price                0.000000\n",
       "vehicletype          7.405632\n",
       "registrationyear     0.000000\n",
       "gearbox              3.319335\n",
       "power                0.000000\n",
       "model                4.146384\n",
       "mileage              0.000000\n",
       "registrationmonth    0.000000\n",
       "fueltype             6.270718\n",
       "brand                0.000000\n",
       "notrepaired          0.000000\n",
       "dtype: float64"
      ]
     },
     "execution_count": 43,
     "metadata": {},
     "output_type": "execute_result"
    }
   ],
   "source": [
    "(df_final.isnull().sum() / df_final.shape[0]) * 100"
   ]
  },
  {
   "cell_type": "code",
   "execution_count": 44,
   "metadata": {},
   "outputs": [],
   "source": [
    "#como os valores dos valores faltantes são umastra pequena de todos os dados, por isso estão retirando\n",
    "df_final.dropna(inplace=True)"
   ]
  },
  {
   "cell_type": "code",
   "execution_count": 45,
   "metadata": {},
   "outputs": [
    {
     "data": {
      "text/plain": [
       "price                0.0\n",
       "vehicletype          0.0\n",
       "registrationyear     0.0\n",
       "gearbox              0.0\n",
       "power                0.0\n",
       "model                0.0\n",
       "mileage              0.0\n",
       "registrationmonth    0.0\n",
       "fueltype             0.0\n",
       "brand                0.0\n",
       "notrepaired          0.0\n",
       "dtype: float64"
      ]
     },
     "execution_count": 45,
     "metadata": {},
     "output_type": "execute_result"
    }
   ],
   "source": [
    "(df_final.isnull().sum() / df_final.shape[0]) * 100"
   ]
  },
  {
   "cell_type": "code",
   "execution_count": 46,
   "metadata": {
    "scrolled": false
   },
   "outputs": [
    {
     "name": "stdout",
     "output_type": "stream",
     "text": [
      "<class 'pandas.core.frame.DataFrame'>\n",
      "Index: 251133 entries, 2 to 354106\n",
      "Data columns (total 11 columns):\n",
      " #   Column             Non-Null Count   Dtype  \n",
      "---  ------             --------------   -----  \n",
      " 0   price              251133 non-null  float64\n",
      " 1   vehicletype        251133 non-null  object \n",
      " 2   registrationyear   251133 non-null  int64  \n",
      " 3   gearbox            251133 non-null  object \n",
      " 4   power              251133 non-null  float64\n",
      " 5   model              251133 non-null  object \n",
      " 6   mileage            251133 non-null  int64  \n",
      " 7   registrationmonth  251133 non-null  int64  \n",
      " 8   fueltype           251133 non-null  object \n",
      " 9   brand              251133 non-null  object \n",
      " 10  notrepaired        251133 non-null  object \n",
      "dtypes: float64(2), int64(3), object(6)\n",
      "memory usage: 23.0+ MB\n"
     ]
    }
   ],
   "source": [
    "df_final.info()"
   ]
  },
  {
   "cell_type": "code",
   "execution_count": 47,
   "metadata": {
    "scrolled": true
   },
   "outputs": [
    {
     "data": {
      "text/html": [
       "<div>\n",
       "<style scoped>\n",
       "    .dataframe tbody tr th:only-of-type {\n",
       "        vertical-align: middle;\n",
       "    }\n",
       "\n",
       "    .dataframe tbody tr th {\n",
       "        vertical-align: top;\n",
       "    }\n",
       "\n",
       "    .dataframe thead th {\n",
       "        text-align: right;\n",
       "    }\n",
       "</style>\n",
       "<table border=\"1\" class=\"dataframe\">\n",
       "  <thead>\n",
       "    <tr style=\"text-align: right;\">\n",
       "      <th></th>\n",
       "      <th>price</th>\n",
       "      <th>vehicletype</th>\n",
       "      <th>registrationyear</th>\n",
       "      <th>gearbox</th>\n",
       "      <th>power</th>\n",
       "      <th>model</th>\n",
       "      <th>mileage</th>\n",
       "      <th>registrationmonth</th>\n",
       "      <th>fueltype</th>\n",
       "      <th>brand</th>\n",
       "      <th>notrepaired</th>\n",
       "    </tr>\n",
       "  </thead>\n",
       "  <tbody>\n",
       "    <tr>\n",
       "      <th>2</th>\n",
       "      <td>9800.0</td>\n",
       "      <td>suv</td>\n",
       "      <td>2004</td>\n",
       "      <td>auto</td>\n",
       "      <td>163.000000</td>\n",
       "      <td>grand</td>\n",
       "      <td>125000</td>\n",
       "      <td>8</td>\n",
       "      <td>gasoline</td>\n",
       "      <td>jeep</td>\n",
       "      <td>unknownrepaired</td>\n",
       "    </tr>\n",
       "    <tr>\n",
       "      <th>3</th>\n",
       "      <td>1500.0</td>\n",
       "      <td>small</td>\n",
       "      <td>2001</td>\n",
       "      <td>manual</td>\n",
       "      <td>75.000000</td>\n",
       "      <td>golf</td>\n",
       "      <td>150000</td>\n",
       "      <td>6</td>\n",
       "      <td>petrol</td>\n",
       "      <td>volkswagen</td>\n",
       "      <td>no</td>\n",
       "    </tr>\n",
       "    <tr>\n",
       "      <th>4</th>\n",
       "      <td>3600.0</td>\n",
       "      <td>small</td>\n",
       "      <td>2008</td>\n",
       "      <td>manual</td>\n",
       "      <td>2566.333333</td>\n",
       "      <td>fabia</td>\n",
       "      <td>90000</td>\n",
       "      <td>7</td>\n",
       "      <td>gasoline</td>\n",
       "      <td>skoda</td>\n",
       "      <td>no</td>\n",
       "    </tr>\n",
       "    <tr>\n",
       "      <th>5</th>\n",
       "      <td>4900.0</td>\n",
       "      <td>sedan</td>\n",
       "      <td>1995</td>\n",
       "      <td>manual</td>\n",
       "      <td>102.000000</td>\n",
       "      <td>3er</td>\n",
       "      <td>150000</td>\n",
       "      <td>10</td>\n",
       "      <td>petrol</td>\n",
       "      <td>bmw</td>\n",
       "      <td>yes</td>\n",
       "    </tr>\n",
       "    <tr>\n",
       "      <th>6</th>\n",
       "      <td>2200.0</td>\n",
       "      <td>convertible</td>\n",
       "      <td>2004</td>\n",
       "      <td>manual</td>\n",
       "      <td>109.000000</td>\n",
       "      <td>2_reihe</td>\n",
       "      <td>150000</td>\n",
       "      <td>8</td>\n",
       "      <td>petrol</td>\n",
       "      <td>peugeot</td>\n",
       "      <td>no</td>\n",
       "    </tr>\n",
       "    <tr>\n",
       "      <th>...</th>\n",
       "      <td>...</td>\n",
       "      <td>...</td>\n",
       "      <td>...</td>\n",
       "      <td>...</td>\n",
       "      <td>...</td>\n",
       "      <td>...</td>\n",
       "      <td>...</td>\n",
       "      <td>...</td>\n",
       "      <td>...</td>\n",
       "      <td>...</td>\n",
       "      <td>...</td>\n",
       "    </tr>\n",
       "    <tr>\n",
       "      <th>354100</th>\n",
       "      <td>3200.0</td>\n",
       "      <td>sedan</td>\n",
       "      <td>2004</td>\n",
       "      <td>manual</td>\n",
       "      <td>225.000000</td>\n",
       "      <td>leon</td>\n",
       "      <td>150000</td>\n",
       "      <td>5</td>\n",
       "      <td>petrol</td>\n",
       "      <td>seat</td>\n",
       "      <td>yes</td>\n",
       "    </tr>\n",
       "    <tr>\n",
       "      <th>354101</th>\n",
       "      <td>14990.0</td>\n",
       "      <td>bus</td>\n",
       "      <td>2000</td>\n",
       "      <td>manual</td>\n",
       "      <td>8000.000000</td>\n",
       "      <td>zafira</td>\n",
       "      <td>150000</td>\n",
       "      <td>3</td>\n",
       "      <td>petrol</td>\n",
       "      <td>opel</td>\n",
       "      <td>no</td>\n",
       "    </tr>\n",
       "    <tr>\n",
       "      <th>354104</th>\n",
       "      <td>12950.0</td>\n",
       "      <td>convertible</td>\n",
       "      <td>2000</td>\n",
       "      <td>auto</td>\n",
       "      <td>101.000000</td>\n",
       "      <td>fortwo</td>\n",
       "      <td>125000</td>\n",
       "      <td>3</td>\n",
       "      <td>petrol</td>\n",
       "      <td>smart</td>\n",
       "      <td>no</td>\n",
       "    </tr>\n",
       "    <tr>\n",
       "      <th>354105</th>\n",
       "      <td>9200.0</td>\n",
       "      <td>bus</td>\n",
       "      <td>1996</td>\n",
       "      <td>manual</td>\n",
       "      <td>102.000000</td>\n",
       "      <td>transporter</td>\n",
       "      <td>150000</td>\n",
       "      <td>3</td>\n",
       "      <td>gasoline</td>\n",
       "      <td>volkswagen</td>\n",
       "      <td>no</td>\n",
       "    </tr>\n",
       "    <tr>\n",
       "      <th>354106</th>\n",
       "      <td>3400.0</td>\n",
       "      <td>wagon</td>\n",
       "      <td>2002</td>\n",
       "      <td>manual</td>\n",
       "      <td>100.000000</td>\n",
       "      <td>golf</td>\n",
       "      <td>150000</td>\n",
       "      <td>6</td>\n",
       "      <td>gasoline</td>\n",
       "      <td>volkswagen</td>\n",
       "      <td>unknownrepaired</td>\n",
       "    </tr>\n",
       "  </tbody>\n",
       "</table>\n",
       "<p>251133 rows × 11 columns</p>\n",
       "</div>"
      ],
      "text/plain": [
       "          price  vehicletype  registrationyear gearbox        power  \\\n",
       "2        9800.0          suv              2004    auto   163.000000   \n",
       "3        1500.0        small              2001  manual    75.000000   \n",
       "4        3600.0        small              2008  manual  2566.333333   \n",
       "5        4900.0        sedan              1995  manual   102.000000   \n",
       "6        2200.0  convertible              2004  manual   109.000000   \n",
       "...         ...          ...               ...     ...          ...   \n",
       "354100   3200.0        sedan              2004  manual   225.000000   \n",
       "354101  14990.0          bus              2000  manual  8000.000000   \n",
       "354104  12950.0  convertible              2000    auto   101.000000   \n",
       "354105   9200.0          bus              1996  manual   102.000000   \n",
       "354106   3400.0        wagon              2002  manual   100.000000   \n",
       "\n",
       "              model  mileage  registrationmonth  fueltype       brand  \\\n",
       "2             grand   125000                  8  gasoline        jeep   \n",
       "3              golf   150000                  6    petrol  volkswagen   \n",
       "4             fabia    90000                  7  gasoline       skoda   \n",
       "5               3er   150000                 10    petrol         bmw   \n",
       "6           2_reihe   150000                  8    petrol     peugeot   \n",
       "...             ...      ...                ...       ...         ...   \n",
       "354100         leon   150000                  5    petrol        seat   \n",
       "354101       zafira   150000                  3    petrol        opel   \n",
       "354104       fortwo   125000                  3    petrol       smart   \n",
       "354105  transporter   150000                  3  gasoline  volkswagen   \n",
       "354106         golf   150000                  6  gasoline  volkswagen   \n",
       "\n",
       "            notrepaired  \n",
       "2       unknownrepaired  \n",
       "3                    no  \n",
       "4                    no  \n",
       "5                   yes  \n",
       "6                    no  \n",
       "...                 ...  \n",
       "354100              yes  \n",
       "354101               no  \n",
       "354104               no  \n",
       "354105               no  \n",
       "354106  unknownrepaired  \n",
       "\n",
       "[251133 rows x 11 columns]"
      ]
     },
     "execution_count": 47,
     "metadata": {},
     "output_type": "execute_result"
    }
   ],
   "source": [
    "df_final"
   ]
  },
  {
   "cell_type": "code",
   "execution_count": 48,
   "metadata": {
    "scrolled": true
   },
   "outputs": [
    {
     "data": {
      "text/plain": [
       "price                0.0\n",
       "vehicletype          0.0\n",
       "registrationyear     0.0\n",
       "gearbox              0.0\n",
       "power                0.0\n",
       "model                0.0\n",
       "mileage              0.0\n",
       "registrationmonth    0.0\n",
       "fueltype             0.0\n",
       "brand                0.0\n",
       "notrepaired          0.0\n",
       "dtype: float64"
      ]
     },
     "execution_count": 48,
     "metadata": {},
     "output_type": "execute_result"
    }
   ],
   "source": [
    "(df_final.isnull().sum() / df_final.shape[0]) * 100"
   ]
  },
  {
   "cell_type": "code",
   "execution_count": 49,
   "metadata": {},
   "outputs": [],
   "source": [
    "df_final = df_final.reset_index(drop=True)"
   ]
  },
  {
   "cell_type": "code",
   "execution_count": 50,
   "metadata": {
    "scrolled": true
   },
   "outputs": [
    {
     "data": {
      "text/html": [
       "<div>\n",
       "<style scoped>\n",
       "    .dataframe tbody tr th:only-of-type {\n",
       "        vertical-align: middle;\n",
       "    }\n",
       "\n",
       "    .dataframe tbody tr th {\n",
       "        vertical-align: top;\n",
       "    }\n",
       "\n",
       "    .dataframe thead th {\n",
       "        text-align: right;\n",
       "    }\n",
       "</style>\n",
       "<table border=\"1\" class=\"dataframe\">\n",
       "  <thead>\n",
       "    <tr style=\"text-align: right;\">\n",
       "      <th></th>\n",
       "      <th>price</th>\n",
       "      <th>vehicletype</th>\n",
       "      <th>registrationyear</th>\n",
       "      <th>gearbox</th>\n",
       "      <th>power</th>\n",
       "      <th>model</th>\n",
       "      <th>mileage</th>\n",
       "      <th>registrationmonth</th>\n",
       "      <th>fueltype</th>\n",
       "      <th>brand</th>\n",
       "      <th>notrepaired</th>\n",
       "    </tr>\n",
       "  </thead>\n",
       "  <tbody>\n",
       "    <tr>\n",
       "      <th>0</th>\n",
       "      <td>9800.0</td>\n",
       "      <td>suv</td>\n",
       "      <td>2004</td>\n",
       "      <td>auto</td>\n",
       "      <td>163.000000</td>\n",
       "      <td>grand</td>\n",
       "      <td>125000</td>\n",
       "      <td>8</td>\n",
       "      <td>gasoline</td>\n",
       "      <td>jeep</td>\n",
       "      <td>unknownrepaired</td>\n",
       "    </tr>\n",
       "    <tr>\n",
       "      <th>1</th>\n",
       "      <td>1500.0</td>\n",
       "      <td>small</td>\n",
       "      <td>2001</td>\n",
       "      <td>manual</td>\n",
       "      <td>75.000000</td>\n",
       "      <td>golf</td>\n",
       "      <td>150000</td>\n",
       "      <td>6</td>\n",
       "      <td>petrol</td>\n",
       "      <td>volkswagen</td>\n",
       "      <td>no</td>\n",
       "    </tr>\n",
       "    <tr>\n",
       "      <th>2</th>\n",
       "      <td>3600.0</td>\n",
       "      <td>small</td>\n",
       "      <td>2008</td>\n",
       "      <td>manual</td>\n",
       "      <td>2566.333333</td>\n",
       "      <td>fabia</td>\n",
       "      <td>90000</td>\n",
       "      <td>7</td>\n",
       "      <td>gasoline</td>\n",
       "      <td>skoda</td>\n",
       "      <td>no</td>\n",
       "    </tr>\n",
       "    <tr>\n",
       "      <th>3</th>\n",
       "      <td>4900.0</td>\n",
       "      <td>sedan</td>\n",
       "      <td>1995</td>\n",
       "      <td>manual</td>\n",
       "      <td>102.000000</td>\n",
       "      <td>3er</td>\n",
       "      <td>150000</td>\n",
       "      <td>10</td>\n",
       "      <td>petrol</td>\n",
       "      <td>bmw</td>\n",
       "      <td>yes</td>\n",
       "    </tr>\n",
       "    <tr>\n",
       "      <th>4</th>\n",
       "      <td>2200.0</td>\n",
       "      <td>convertible</td>\n",
       "      <td>2004</td>\n",
       "      <td>manual</td>\n",
       "      <td>109.000000</td>\n",
       "      <td>2_reihe</td>\n",
       "      <td>150000</td>\n",
       "      <td>8</td>\n",
       "      <td>petrol</td>\n",
       "      <td>peugeot</td>\n",
       "      <td>no</td>\n",
       "    </tr>\n",
       "    <tr>\n",
       "      <th>...</th>\n",
       "      <td>...</td>\n",
       "      <td>...</td>\n",
       "      <td>...</td>\n",
       "      <td>...</td>\n",
       "      <td>...</td>\n",
       "      <td>...</td>\n",
       "      <td>...</td>\n",
       "      <td>...</td>\n",
       "      <td>...</td>\n",
       "      <td>...</td>\n",
       "      <td>...</td>\n",
       "    </tr>\n",
       "    <tr>\n",
       "      <th>251128</th>\n",
       "      <td>3200.0</td>\n",
       "      <td>sedan</td>\n",
       "      <td>2004</td>\n",
       "      <td>manual</td>\n",
       "      <td>225.000000</td>\n",
       "      <td>leon</td>\n",
       "      <td>150000</td>\n",
       "      <td>5</td>\n",
       "      <td>petrol</td>\n",
       "      <td>seat</td>\n",
       "      <td>yes</td>\n",
       "    </tr>\n",
       "    <tr>\n",
       "      <th>251129</th>\n",
       "      <td>14990.0</td>\n",
       "      <td>bus</td>\n",
       "      <td>2000</td>\n",
       "      <td>manual</td>\n",
       "      <td>8000.000000</td>\n",
       "      <td>zafira</td>\n",
       "      <td>150000</td>\n",
       "      <td>3</td>\n",
       "      <td>petrol</td>\n",
       "      <td>opel</td>\n",
       "      <td>no</td>\n",
       "    </tr>\n",
       "    <tr>\n",
       "      <th>251130</th>\n",
       "      <td>12950.0</td>\n",
       "      <td>convertible</td>\n",
       "      <td>2000</td>\n",
       "      <td>auto</td>\n",
       "      <td>101.000000</td>\n",
       "      <td>fortwo</td>\n",
       "      <td>125000</td>\n",
       "      <td>3</td>\n",
       "      <td>petrol</td>\n",
       "      <td>smart</td>\n",
       "      <td>no</td>\n",
       "    </tr>\n",
       "    <tr>\n",
       "      <th>251131</th>\n",
       "      <td>9200.0</td>\n",
       "      <td>bus</td>\n",
       "      <td>1996</td>\n",
       "      <td>manual</td>\n",
       "      <td>102.000000</td>\n",
       "      <td>transporter</td>\n",
       "      <td>150000</td>\n",
       "      <td>3</td>\n",
       "      <td>gasoline</td>\n",
       "      <td>volkswagen</td>\n",
       "      <td>no</td>\n",
       "    </tr>\n",
       "    <tr>\n",
       "      <th>251132</th>\n",
       "      <td>3400.0</td>\n",
       "      <td>wagon</td>\n",
       "      <td>2002</td>\n",
       "      <td>manual</td>\n",
       "      <td>100.000000</td>\n",
       "      <td>golf</td>\n",
       "      <td>150000</td>\n",
       "      <td>6</td>\n",
       "      <td>gasoline</td>\n",
       "      <td>volkswagen</td>\n",
       "      <td>unknownrepaired</td>\n",
       "    </tr>\n",
       "  </tbody>\n",
       "</table>\n",
       "<p>251133 rows × 11 columns</p>\n",
       "</div>"
      ],
      "text/plain": [
       "          price  vehicletype  registrationyear gearbox        power  \\\n",
       "0        9800.0          suv              2004    auto   163.000000   \n",
       "1        1500.0        small              2001  manual    75.000000   \n",
       "2        3600.0        small              2008  manual  2566.333333   \n",
       "3        4900.0        sedan              1995  manual   102.000000   \n",
       "4        2200.0  convertible              2004  manual   109.000000   \n",
       "...         ...          ...               ...     ...          ...   \n",
       "251128   3200.0        sedan              2004  manual   225.000000   \n",
       "251129  14990.0          bus              2000  manual  8000.000000   \n",
       "251130  12950.0  convertible              2000    auto   101.000000   \n",
       "251131   9200.0          bus              1996  manual   102.000000   \n",
       "251132   3400.0        wagon              2002  manual   100.000000   \n",
       "\n",
       "              model  mileage  registrationmonth  fueltype       brand  \\\n",
       "0             grand   125000                  8  gasoline        jeep   \n",
       "1              golf   150000                  6    petrol  volkswagen   \n",
       "2             fabia    90000                  7  gasoline       skoda   \n",
       "3               3er   150000                 10    petrol         bmw   \n",
       "4           2_reihe   150000                  8    petrol     peugeot   \n",
       "...             ...      ...                ...       ...         ...   \n",
       "251128         leon   150000                  5    petrol        seat   \n",
       "251129       zafira   150000                  3    petrol        opel   \n",
       "251130       fortwo   125000                  3    petrol       smart   \n",
       "251131  transporter   150000                  3  gasoline  volkswagen   \n",
       "251132         golf   150000                  6  gasoline  volkswagen   \n",
       "\n",
       "            notrepaired  \n",
       "0       unknownrepaired  \n",
       "1                    no  \n",
       "2                    no  \n",
       "3                   yes  \n",
       "4                    no  \n",
       "...                 ...  \n",
       "251128              yes  \n",
       "251129               no  \n",
       "251130               no  \n",
       "251131               no  \n",
       "251132  unknownrepaired  \n",
       "\n",
       "[251133 rows x 11 columns]"
      ]
     },
     "execution_count": 50,
     "metadata": {},
     "output_type": "execute_result"
    }
   ],
   "source": [
    "df_final"
   ]
  },
  {
   "cell_type": "markdown",
   "metadata": {},
   "source": [
    "Outliers removidos podemos prosseguir para construção do modelo."
   ]
  },
  {
   "cell_type": "markdown",
   "metadata": {},
   "source": [
    "## Etapa 3. Modelo <a id='model'></a>"
   ]
  },
  {
   "cell_type": "code",
   "execution_count": 51,
   "metadata": {},
   "outputs": [],
   "source": [
    "# Importa os módulos necessários do scikit-learn (biblioteca para aprendizado de máquina)\n",
    "from sklearn.model_selection import train_test_split  # Função para dividir os dados em conjuntos de treino e teste\n",
    "from sklearn.ensemble import RandomForestClassifier  # Algoritmo de aprendizado de máquina para classificação baseado em árvores\n",
    "from sklearn.metrics import accuracy_score  # Função para calcular a acurácia (precisão) de um modelo\n",
    "from sklearn.preprocessing import OrdinalEncoder  # Utilizado para codificar variáveis categóricas em valores numéricos ordenados\n"
   ]
  },
  {
   "cell_type": "code",
   "execution_count": 52,
   "metadata": {},
   "outputs": [],
   "source": [
    "# Seleciona as colunas categóricas do DataFrame\n",
    "object_columns = df_final.select_dtypes(include='object')\n",
    "\n",
    "# Cria um objeto da classe OrdinalEncoder para realizar a codificação de valores categóricos\n",
    "encoder = OrdinalEncoder()\n",
    "\n",
    "# Aplica a codificação ordinal nas colunas categóricas e armazena em um novo DataFrame\n",
    "codification = pd.DataFrame(encoder.fit_transform(object_columns), columns=object_columns.columns)\n",
    "\n",
    "# Substitui as colunas categóricas originais do DataFrame com suas versões codificadas\n",
    "df_final[object_columns.columns] = codification\n"
   ]
  },
  {
   "cell_type": "code",
   "execution_count": 53,
   "metadata": {},
   "outputs": [],
   "source": [
    "# Divide o DataFrame 'df_final' em dois conjuntos: 80% para treino/validação e 20% para teste\n",
    "df_train_valid, df_test = train_test_split(df_final, test_size=0.2)\n",
    "\n",
    "# Divide o conjunto de treino/validação em treino (75%) e validação (25%)\n",
    "df_train, df_valid = train_test_split(df_train_valid, test_size=0.25)"
   ]
  },
  {
   "cell_type": "code",
   "execution_count": 54,
   "metadata": {},
   "outputs": [],
   "source": [
    "# Remove a coluna 'price' do conjunto de treino para obter apenas as features (características) de entrada\n",
    "features_train = df_train.drop(['price'], axis=1)\n",
    "\n",
    "# Define a coluna 'price' como o alvo (target) para o conjunto de treino\n",
    "target_train = df_train['price']\n",
    "\n",
    "# Remove a coluna 'price' do conjunto de validação para obter apenas as features de entrada\n",
    "features_valid = df_valid.drop(['price'], axis=1)\n",
    "\n",
    "# Define a coluna 'price' como o alvo para o conjunto de validação\n",
    "target_valid = df_valid['price']\n",
    "\n",
    "# Remove a coluna 'price' do conjunto de teste para obter apenas as features de entrada\n",
    "features_test = df_test.drop(['price'], axis=1)\n",
    "\n",
    "# Define a coluna 'price' como o alvo para o conjunto de teste\n",
    "target_test = df_test['price']\n"
   ]
  },
  {
   "cell_type": "code",
   "execution_count": 55,
   "metadata": {},
   "outputs": [],
   "source": [
    "import time\n",
    "import math\n",
    "import time\n",
    "import joblib\n",
    "from sklearn.metrics import mean_squared_error as mse\n",
    "import numpy as np"
   ]
  },
  {
   "cell_type": "markdown",
   "metadata": {},
   "source": [
    "###  Árvore de Decisão\n"
   ]
  },
  {
   "cell_type": "code",
   "execution_count": 56,
   "metadata": {},
   "outputs": [
    {
     "name": "stdout",
     "output_type": "stream",
     "text": [
      "O melhor resultado RMSE da Árvore de Decisão é com o hiperparâmetro max_depth de 12: 2830.7926\n",
      "Tempo total de execução: 19.9122 segundos\n"
     ]
    }
   ],
   "source": [
    "from sklearn.tree import DecisionTreeRegressor\n",
    "\n",
    "# Inicializando variáveis para armazenar o melhor modelo e resultados\n",
    "best_model_dt = None\n",
    "best_result = float('inf')  # Inicializa com infinito para garantir que qualquer resultado será melhor\n",
    "best_depth = 0\n",
    "\n",
    "# Medindo o tempo total de execução\n",
    "start_time = time.time()\n",
    "\n",
    "# Modelagem da Árvore de Decisão buscando o melhor hiperparâmetro max_depth\n",
    "for depth in range(1, 50):\n",
    "    # Criação do modelo com o hiperparâmetro max_depth atual\n",
    "    model_dt = DecisionTreeRegressor(random_state=12345, max_depth=depth)\n",
    "    \n",
    "    # Treinamento do modelo\n",
    "    model_dt.fit(features_train, target_train) \n",
    "    \n",
    "    # Fazendo previsões no conjunto de validação\n",
    "    predictions_valid_dt = model_dt.predict(features_valid)\n",
    "    \n",
    "    # Calculando RMSE\n",
    "    result = np.sqrt(mse(target_valid, predictions_valid_dt))\n",
    "    \n",
    "    # Verificando se o resultado atual é melhor que o melhor encontrado até agora\n",
    "    if result < best_result:\n",
    "        best_model_dt = model_dt  # Armazena o melhor modelo encontrado\n",
    "        best_result = result  # Atualiza o melhor resultado\n",
    "        best_depth = depth  # Armazena a profundidade correspondente\n",
    "\n",
    "# Tempo total de execução\n",
    "end_time = time.time()\n",
    "execution_time = end_time - start_time\n",
    "\n",
    "# Exibindo os resultados finais\n",
    "print(f\"O melhor resultado RMSE da Árvore de Decisão é com o hiperparâmetro max_depth de {best_depth}: {best_result:.4f}\")\n",
    "print(f\"Tempo total de execução: {execution_time:.4f} segundos\")\n"
   ]
  },
  {
   "cell_type": "markdown",
   "metadata": {},
   "source": [
    "### Floresta Aleatória"
   ]
  },
  {
   "cell_type": "code",
   "execution_count": 57,
   "metadata": {},
   "outputs": [
    {
     "name": "stdout",
     "output_type": "stream",
     "text": [
      "O resultado RMSE da Random Forest é: 2992.5775\n",
      "Tempo total de execução: 0.8621 segundos\n"
     ]
    }
   ],
   "source": [
    "import time\n",
    "import joblib\n",
    "from sklearn.ensemble import RandomForestRegressor\n",
    "from sklearn.model_selection import GridSearchCV\n",
    "\n",
    "best_model_rf = None\n",
    "best_result = float('inf')  # Inicializa com infinito para garantir que qualquer resultado será melhor\n",
    "\n",
    "# Medindo o tempo total de execução\n",
    "start_time = time.time()\n",
    "\n",
    "# Criando o modelo Random Forest com parâmetros reduzidos\n",
    "model_rf = RandomForestRegressor(n_estimators=10, max_depth=5, random_state=12345)\n",
    "\n",
    "# Treinando o modelo com os dados de treinamento\n",
    "model_rf.fit(features_train, target_train)\n",
    "\n",
    "# Fazendo previsões no conjunto de validação\n",
    "predictions_valid_rf = model_rf.predict(features_valid)\n",
    "\n",
    "# Calculando RMSE\n",
    "best_result = np.sqrt(mse(target_valid, predictions_valid_rf))\n",
    "\n",
    "# Tempo total de execução\n",
    "end_time = time.time()\n",
    "execution_time = end_time - start_time\n",
    "\n",
    "# Exibindo os resultados finais\n",
    "print(f\"O resultado RMSE da Random Forest é: {best_result:.4f}\")\n",
    "print(f\"Tempo total de execução: {execution_time:.4f} segundos\")"
   ]
  },
  {
   "cell_type": "markdown",
   "metadata": {},
   "source": [
    "### Regressão Linear"
   ]
  },
  {
   "cell_type": "code",
   "execution_count": 58,
   "metadata": {},
   "outputs": [
    {
     "name": "stdout",
     "output_type": "stream",
     "text": [
      "O resultado RMSE da Regressão Linear é: 3462.5451\n",
      "Tempo total de execução: 0.0676 segundos\n"
     ]
    }
   ],
   "source": [
    "from sklearn.linear_model import LinearRegression\n",
    "\n",
    "# Inicializando o modelo de Regressão Linear\n",
    "model_lr = LinearRegression()\n",
    "\n",
    "# Medindo o tempo total de execução\n",
    "start_time = time.time()\n",
    "\n",
    "# Treinando o modelo com os dados de treinamento\n",
    "model_lr.fit(features_train, target_train)\n",
    "\n",
    "# Fazendo previsões no conjunto de validação\n",
    "predictions_valid_lr = model_lr.predict(features_valid)\n",
    "\n",
    "# Calculando RMSE\n",
    "rmse = np.sqrt(mse(target_valid, predictions_valid_lr))\n",
    "\n",
    "# Tempo total de execução\n",
    "end_time = time.time()\n",
    "execution_time = end_time - start_time\n",
    "\n",
    "# Exibindo os resultados finais\n",
    "print(f\"O resultado RMSE da Regressão Linear é: {rmse:.4f}\")\n",
    "print(f\"Tempo total de execução: {execution_time:.4f} segundos\")"
   ]
  },
  {
   "cell_type": "markdown",
   "metadata": {},
   "source": [
    "### XGBOOST"
   ]
  },
  {
   "cell_type": "code",
   "execution_count": 59,
   "metadata": {},
   "outputs": [
    {
     "name": "stdout",
     "output_type": "stream",
     "text": [
      "Defaulting to user installation because normal site-packages is not writeable\n",
      "Requirement already satisfied: xgboost in c:\\users\\gabri\\appdata\\roaming\\python\\python311\\site-packages (2.1.1)\n",
      "Requirement already satisfied: numpy in c:\\programdata\\anaconda3\\lib\\site-packages (from xgboost) (1.24.3)\n",
      "Requirement already satisfied: scipy in c:\\programdata\\anaconda3\\lib\\site-packages (from xgboost) (1.11.1)\n",
      "Note: you may need to restart the kernel to use updated packages.\n"
     ]
    }
   ],
   "source": [
    "pip install xgboost"
   ]
  },
  {
   "cell_type": "code",
   "execution_count": 60,
   "metadata": {
    "scrolled": true
   },
   "outputs": [
    {
     "name": "stdout",
     "output_type": "stream",
     "text": [
      "O resultado RMSE do XGBoost é: 2708.8131\n",
      "Tempo total de execução: 7.8551 segundos\n"
     ]
    }
   ],
   "source": [
    "# Importando as bibliotecas necessárias\n",
    "from xgboost import XGBRegressor\n",
    "from sklearn.model_selection import GridSearchCV\n",
    "\n",
    "# Inicializando o modelo XGBoost\n",
    "model_xgb = XGBRegressor(random_state=12345)\n",
    "\n",
    "# Definindo o espaço de hiperparâmetros para busca\n",
    "param_grid = {\n",
    "    'n_estimators': [50, 100],  # Número de árvores\n",
    "    'max_depth': [3, 5, 7],      # Profundidade máxima das árvores\n",
    "    'learning_rate': [0.01, 0.1], # Taxa de aprendizado\n",
    "    'subsample': [0.8]           # Proporção de amostras usadas para treinar cada árvore\n",
    "}\n",
    "\n",
    "# Medindo o tempo total de execução\n",
    "start_time = time.time()\n",
    "\n",
    "# Usando GridSearchCV para encontrar os melhores hiperparâmetros\n",
    "grid_search = GridSearchCV(estimator=model_xgb,\n",
    "                           param_grid=param_grid,\n",
    "                           scoring='neg_mean_squared_error',\n",
    "                           cv=3,  # Validação cruzada com 3 folds\n",
    "                           n_jobs=-1)  # Usar todos os núcleos disponíveis\n",
    "\n",
    "# Treinando o modelo com os dados de treinamento\n",
    "grid_search.fit(features_train, target_train)\n",
    "\n",
    "# Obtendo o melhor modelo encontrado\n",
    "best_model_xgb = grid_search.best_estimator_\n",
    "\n",
    "# Fazendo previsões no conjunto de validação usando o melhor modelo\n",
    "predictions_valid_xgb = best_model_xgb.predict(features_valid)\n",
    "\n",
    "# Calculando RMSE\n",
    "rmse = np.sqrt(mse(target_valid, predictions_valid_xgb))\n",
    "\n",
    "# Tempo total de execução\n",
    "end_time = time.time()\n",
    "execution_time = end_time - start_time\n",
    "\n",
    "# Exibindo os resultados finais\n",
    "print(f\"O resultado RMSE do XGBoost é: {rmse:.4f}\")\n",
    "print(f\"Tempo total de execução: {execution_time:.4f} segundos\")"
   ]
  },
  {
   "cell_type": "markdown",
   "metadata": {},
   "source": [
    "### LightGBM"
   ]
  },
  {
   "cell_type": "code",
   "execution_count": 61,
   "metadata": {},
   "outputs": [
    {
     "name": "stdout",
     "output_type": "stream",
     "text": [
      "Training until validation scores don't improve for 30 rounds\n",
      "Did not meet early stopping. Best iteration is:\n",
      "[3000]\tvalid_0's rmse: 2701.31\n",
      "RMSE: 2701.307654522641\n",
      "Tempo total de execução: 3.5440 segundos\n"
     ]
    }
   ],
   "source": [
    "import lightgbm as lgb\n",
    "\n",
    "\n",
    "\n",
    "# Definindo os parâmetros do modelo LightGBM\n",
    "params = {\n",
    "    'boosting_type': 'gbdt',  # Tipo de boosting\n",
    "    'objective': 'regression',  # Objetivo é regressão\n",
    "    'metric': 'rmse',  # Métrica de avaliação é RMSE\n",
    "    'num_leaves': 10,  # Número máximo de folhas em cada árvore\n",
    "    'learning_rate': 0.05,  # Taxa de aprendizado\n",
    "    'feature_fraction': 0.5,  # Fração de recursos usada em cada iteração\n",
    "    'random_state': 12345,  # Estado aleatório para reprodutibilidade\n",
    "    'verbose': -1  # Nível de verbosidade (-1 para silenciar mensagens)\n",
    "}\n",
    "\n",
    "# Criando os datasets de treinamento e validação\n",
    "lgb_train = lgb.Dataset(features_train, target_train)  # Dataset de treinamento\n",
    "lgb_eval = lgb.Dataset(features_valid, target_valid, reference=lgb_train)  # Dataset de validação\n",
    "\n",
    "# Usando callbacks para early stopping\n",
    "callbacks = [lgb.early_stopping(stopping_rounds=30)]  # Paramos o treinamento se a métrica não melhorar em 10 rodadas\n",
    "\n",
    "# Medindo o tempo de execução do treinamento e predição\n",
    "start_time = time.time()  # Inicia a contagem do tempo\n",
    "\n",
    "#Treinando o modelo LightGBM\n",
    "model = lgb.train(params,\n",
    "                  train_set=lgb_train,\n",
    "                  valid_sets=lgb_eval,\n",
    "                  num_boost_round=3000,\n",
    "                  callbacks=callbacks)\n",
    "\n",
    "# Fazendo previsões no conjunto de validação\n",
    "predictions_valid_lgbm = model.predict(features_valid)\n",
    "\n",
    "end_time = time.time()  # Finaliza a contagem do tempo\n",
    "\n",
    "# Calculando RMSE\n",
    "rmse = math.sqrt(mse(target_valid, predictions_valid_lgbm))\n",
    "\n",
    "# Exibindo o resultado do RMSE e o tempo de execução total\n",
    "print(f'RMSE: {rmse}')\n",
    "print(f'Tempo total de execução: {end_time - start_time:.4f} segundos')"
   ]
  },
  {
   "cell_type": "markdown",
   "metadata": {},
   "source": [
    "## Conclusão geral <a id='end'></a>"
   ]
  },
  {
   "cell_type": "markdown",
   "metadata": {},
   "source": [
    "Neste projeto, importamos bibliotecas como \"pandas\" e \"numpy\" que habitualmente já utilizamos e sklearn para criação do nosso modelo.\n",
    "\n",
    "Realizamos o pre-processamento, para que não tivesse acontecido algum problema na criação do nosso modelo. O modelo com melhor pontuação no **RMSE** foi o Modelo LightGBM, enquanto o com pior desempenho foi o de Regressão Linear, Testamos o modelo de Árvore de Decisão, Floresta Aleatória e XG Boost.\n"
   ]
  }
 ],
 "metadata": {
  "kernelspec": {
   "display_name": "Python 3 (ipykernel)",
   "language": "python",
   "name": "python3"
  },
  "language_info": {
   "codemirror_mode": {
    "name": "ipython",
    "version": 3
   },
   "file_extension": ".py",
   "mimetype": "text/x-python",
   "name": "python",
   "nbconvert_exporter": "python",
   "pygments_lexer": "ipython3",
   "version": "3.11.5"
  },
  "toc": {
   "base_numbering": 1,
   "nav_menu": {},
   "number_sections": true,
   "sideBar": true,
   "skip_h1_title": true,
   "title_cell": "Table of Contents",
   "title_sidebar": "Contents",
   "toc_cell": false,
   "toc_position": {},
   "toc_section_display": true,
   "toc_window_display": false
  }
 },
 "nbformat": 4,
 "nbformat_minor": 2
}
