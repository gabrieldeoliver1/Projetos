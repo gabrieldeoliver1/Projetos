{
 "cells": [
  {
   "cell_type": "markdown",
   "id": "0f55a656-d2e0-4b85-b6a9-5a7d0bfa477d",
   "metadata": {},
   "source": [
    "# Quais dos planos dão mais receita ?"
   ]
  },
  {
   "cell_type": "markdown",
   "id": "15f10bde-ea25-4c3d-b290-489a84295c46",
   "metadata": {},
   "source": [
    "# Contents <a id='back'></a>\n",
    "\n",
    "* [Introdução](#intro)\n",
    "* [Etapa 1. Visão geral dos dados](#data_review)\n",
    "    * [Primeiras conclusões](#data_review_conclusions)\n",
    "* [Etapa 2. Pré-processamento de dados](#data_preprocessing)\n",
    "    * [2.1 Duplicatas](#duplicates)\n",
    "    * [2.2 Valores ausentes](#missing_values)\n",
    "    * [2.3 Conclusões intermediárias](#data_preprocessing_conclusions_intermediary)\n",
    "\n",
    "* [Etapa 3. Transformações dos dados](#tranforamation_data)\n",
    "* [Etapa 4. Categorização de dados](#categorization_data)\n",
    "* [Etapa 5. EDA](#eda)\n",
    "* [Etapa 6. Hipóteses](#hypothesys)\n",
    "* [Conclusões](#end)"
   ]
  },
  {
   "cell_type": "markdown",
   "id": "3bbb8cb7-fddb-4dbd-b61d-38aa76cf034d",
   "metadata": {},
   "source": [
    "## Introdução <a id='intro'></a>\n",
    "\n",
    "Você trabalha como analista para a empresa de telecomunicações Megaline. TA empresa oferece aos seus cliente planos pré-pagos, Surf e Ultimate. O departamento comercial quer saber quais dos planos dão mais receita para ajustar o orçamento de publicidade.\n",
    "\n",
    "### Objetivo: \n",
    "Responda a estas perguntas:\n",
    " O seu trabalho é analisar o comportamento dos clientes e determinar quais planos pré-pagos dão mais receita.\n",
    "\n",
    "Você vai realizar uma primeira análise dos planos baseados em uma pequena seleção de clientes. Você terá dados de 500 clientes da Megaline: que clientes são, de onde eles são, qual plano usam, o número de chamadas que eles fizeram e mensagens que eles enviaram em 2018. \n",
    "\n",
    "Surf:\n",
    "- `Preço mensal: - $20 ` — \n",
    " 500 minutos mensais, 50 mensagens de texto, e 15 GB de dados   \n",
    "- `Depois de exceder os limites do pacote:`   \n",
    "1 minuto: 3 centavos,  \n",
    "1 mensagem de texto: 3 centavos, \n",
    "1 GB de dados: $10.\n",
    "\n",
    "Ultimate:\n",
    "- `Preço mensal:$70 ` —\n",
    "3000 minutos mensais, 1000 mensagens de texto, e 30 GB de dados\n",
    "- `Depois de exceder os limites do pacote:`\n",
    "1 minuto: 1 centavo,\n",
    "1 mensagem de texto: 1 centavo,\n",
    "1 GB de dados: $7.\n",
    "\n",
    "### Etapas \n",
    "- `Os dados sobre o comportamento do usuário é armazenado no arquivo`  \n",
    "\n",
    "/datasets/megaline_calls.csv \n",
    "/datasets/megaline_internet.csv \n",
    "/datasets/megaline_messages.csv\n",
    "/datasets/megaline_plans.csv\n",
    "/datasets/megaline_users.csv\n",
    " - Não há informação sobre a qualidade dos dados, então, você precisará examiná-los antes de testar a hipótese. \n",
    "\n",
    "Primeiro, você avaliará a qualidade dos dados e ver se seus problemas são significativos. Depois, durante o pré-processamento de dados, você tentará dar conta dos problemas mais críticos problemas.\n",
    " \n",
    "O seu projeto consistirá em quatro etapas:\n",
    " 1. Visão geral dos dados\n",
    " 2. Pré-processamento de dados\n",
    " 3. Transformações dos dados\n",
    " 4. Categorização de dados\n",
    " 5. EDA\n",
    " 6. Passo 4. Teste as hipóteses:\n",
    "A receita média dos usuários dos planos Ultimate e Surf são diferentes.\n",
    "A receita média dos usuários da área de NY-NJ é diferente dos usuários de outras regiões.\n",
    "Você decide quais valores alfa usar.\n",
    "Explique:\n",
    "Como você formulou as hipóteses alternativas e nulas.\n",
    "Qual critério você usou para testar as hipóteses e porquê.\n",
    " \n",
    "[Voltar ao Índice](#back)"
   ]
  },
  {
   "cell_type": "markdown",
   "id": "b9b10570-202e-414a-8762-c938164b87b7",
   "metadata": {},
   "source": [
    "## Etapa 1. Visão geral dos dados <a id='data_review'></a>\n",
    "\n",
    "Abra os dados em Vehicles e explore-os e carregue bibliotecas que você acredita que são necessárias para o projeto."
   ]
  },
  {
   "cell_type": "code",
   "execution_count": 1,
   "id": "3d4539ac-bcde-4135-a4ca-7241991f3131",
   "metadata": {
    "tags": []
   },
   "outputs": [],
   "source": [
    "# Carregando todas as bibliotecas\n",
    "import pandas as pd\n",
    "import numpy as np\n",
    "import matplotlib.pyplot as plt\n",
    "import seaborn as sns\n",
    "import statsmodels.api as sm\n",
    "import warnings\n",
    "warnings.filterwarnings('ignore')"
   ]
  },
  {
   "cell_type": "code",
   "execution_count": 2,
   "id": "057080d9-0325-40c8-a692-a2b7422ca78c",
   "metadata": {
    "tags": []
   },
   "outputs": [],
   "source": [
    "# lendo o arquivo e armazenando em df\n",
    "df_calls = pd.read_csv('C:/Users/gabri/Downloads/Corrigido/Projeto 4/megaline_calls.csv')\n",
    "df_internet = pd.read_csv('C:/Users/gabri/Downloads/Corrigido/Projeto 4/megaline_internet.csv' )\n",
    "df_messages = pd.read_csv('C:/Users/gabri/Downloads/Corrigido/Projeto 4/megaline_messages.csv')\n",
    "df_plans = pd.read_csv('C:/Users/gabri/Downloads/Corrigido/Projeto 4/megaline_plans.csv')\n",
    "df_users = pd.read_csv('C:/Users/gabri/Downloads/Corrigido/Projeto 4/megaline_users.csv')"
   ]
  },
  {
   "cell_type": "code",
   "execution_count": 3,
   "id": "dfed2f43-599a-4d71-b778-cf29cee05ea5",
   "metadata": {
    "tags": []
   },
   "outputs": [],
   "source": [
    "global dataframes\n",
    "dataframes = {\n",
    "    'df_calls': df_calls,\n",
    "    'df_internet': df_internet,\n",
    "    'df_messages': df_messages,\n",
    "    'df_plans': df_plans,\n",
    "    'df_users': df_users\n",
    "}"
   ]
  },
  {
   "cell_type": "code",
   "execution_count": 4,
   "id": "fa9c8fbd-800d-4367-9502-a755c6d83aec",
   "metadata": {
    "tags": []
   },
   "outputs": [
    {
     "name": "stdout",
     "output_type": "stream",
     "text": [
      "df_calls\n",
      "<class 'pandas.core.frame.DataFrame'>\n",
      "RangeIndex: 137735 entries, 0 to 137734\n",
      "Data columns (total 4 columns):\n",
      " #   Column     Non-Null Count   Dtype  \n",
      "---  ------     --------------   -----  \n",
      " 0   id         137735 non-null  object \n",
      " 1   user_id    137735 non-null  int64  \n",
      " 2   call_date  137735 non-null  object \n",
      " 3   duration   137735 non-null  float64\n",
      "dtypes: float64(1), int64(1), object(2)\n",
      "memory usage: 4.2+ MB\n",
      "None\n",
      "\n",
      "-------------------------------------------\n",
      "\n",
      "df_internet\n",
      "<class 'pandas.core.frame.DataFrame'>\n",
      "RangeIndex: 104825 entries, 0 to 104824\n",
      "Data columns (total 4 columns):\n",
      " #   Column        Non-Null Count   Dtype  \n",
      "---  ------        --------------   -----  \n",
      " 0   id            104825 non-null  object \n",
      " 1   user_id       104825 non-null  int64  \n",
      " 2   session_date  104825 non-null  object \n",
      " 3   mb_used       104825 non-null  float64\n",
      "dtypes: float64(1), int64(1), object(2)\n",
      "memory usage: 3.2+ MB\n",
      "None\n",
      "\n",
      "-------------------------------------------\n",
      "\n",
      "df_messages\n",
      "<class 'pandas.core.frame.DataFrame'>\n",
      "RangeIndex: 76051 entries, 0 to 76050\n",
      "Data columns (total 3 columns):\n",
      " #   Column        Non-Null Count  Dtype \n",
      "---  ------        --------------  ----- \n",
      " 0   id            76051 non-null  object\n",
      " 1   user_id       76051 non-null  int64 \n",
      " 2   message_date  76051 non-null  object\n",
      "dtypes: int64(1), object(2)\n",
      "memory usage: 1.7+ MB\n",
      "None\n",
      "\n",
      "-------------------------------------------\n",
      "\n",
      "df_plans\n",
      "<class 'pandas.core.frame.DataFrame'>\n",
      "RangeIndex: 2 entries, 0 to 1\n",
      "Data columns (total 8 columns):\n",
      " #   Column                 Non-Null Count  Dtype  \n",
      "---  ------                 --------------  -----  \n",
      " 0   messages_included      2 non-null      int64  \n",
      " 1   mb_per_month_included  2 non-null      int64  \n",
      " 2   minutes_included       2 non-null      int64  \n",
      " 3   usd_monthly_pay        2 non-null      int64  \n",
      " 4   usd_per_gb             2 non-null      int64  \n",
      " 5   usd_per_message        2 non-null      float64\n",
      " 6   usd_per_minute         2 non-null      float64\n",
      " 7   plan_name              2 non-null      object \n",
      "dtypes: float64(2), int64(5), object(1)\n",
      "memory usage: 260.0+ bytes\n",
      "None\n",
      "\n",
      "-------------------------------------------\n",
      "\n",
      "df_users\n",
      "<class 'pandas.core.frame.DataFrame'>\n",
      "RangeIndex: 500 entries, 0 to 499\n",
      "Data columns (total 8 columns):\n",
      " #   Column      Non-Null Count  Dtype \n",
      "---  ------      --------------  ----- \n",
      " 0   user_id     500 non-null    int64 \n",
      " 1   first_name  500 non-null    object\n",
      " 2   last_name   500 non-null    object\n",
      " 3   age         500 non-null    int64 \n",
      " 4   city        500 non-null    object\n",
      " 5   reg_date    500 non-null    object\n",
      " 6   plan        500 non-null    object\n",
      " 7   churn_date  34 non-null     object\n",
      "dtypes: int64(2), object(6)\n",
      "memory usage: 31.4+ KB\n",
      "None\n",
      "\n",
      "-------------------------------------------\n",
      "\n"
     ]
    }
   ],
   "source": [
    "def print_dataframe_info(dataframes):\n",
    "    for df in dataframes:\n",
    "        df_name = [name for name, obj in globals().items() if obj is df][0]\n",
    "        print(df_name)\n",
    "        print(df.info())\n",
    "        print()\n",
    "        print('-------------------------------------------')\n",
    "        print()\n",
    "\n",
    "\n",
    "print_dataframe_info([df_calls, df_internet, df_messages, df_plans, df_users])"
   ]
  },
  {
   "cell_type": "code",
   "execution_count": 5,
   "id": "e9e668b2-0027-48ab-ad38-678224cd74ee",
   "metadata": {
    "tags": []
   },
   "outputs": [],
   "source": [
    "def print_dataframe_info(dataframes):\n",
    "    for df in dataframes:\n",
    "        df_name = [name for name, obj in globals().items() if obj is df][0]\n",
    "        print(df_name)\n",
    "        print(df.info())\n",
    "        print()\n",
    "        print('-------------------------------------------')\n",
    "        print()  "
   ]
  },
  {
   "cell_type": "code",
   "execution_count": 6,
   "id": "d9247b15-d011-47cc-b6f1-edb887273427",
   "metadata": {
    "tags": []
   },
   "outputs": [
    {
     "name": "stdout",
     "output_type": "stream",
     "text": [
      "df_calls\n",
      "<class 'pandas.core.frame.DataFrame'>\n",
      "RangeIndex: 137735 entries, 0 to 137734\n",
      "Data columns (total 4 columns):\n",
      " #   Column     Non-Null Count   Dtype  \n",
      "---  ------     --------------   -----  \n",
      " 0   id         137735 non-null  object \n",
      " 1   user_id    137735 non-null  int64  \n",
      " 2   call_date  137735 non-null  object \n",
      " 3   duration   137735 non-null  float64\n",
      "dtypes: float64(1), int64(1), object(2)\n",
      "memory usage: 4.2+ MB\n",
      "None\n",
      "\n",
      "-------------------------------------------\n",
      "\n",
      "df_internet\n",
      "<class 'pandas.core.frame.DataFrame'>\n",
      "RangeIndex: 104825 entries, 0 to 104824\n",
      "Data columns (total 4 columns):\n",
      " #   Column        Non-Null Count   Dtype  \n",
      "---  ------        --------------   -----  \n",
      " 0   id            104825 non-null  object \n",
      " 1   user_id       104825 non-null  int64  \n",
      " 2   session_date  104825 non-null  object \n",
      " 3   mb_used       104825 non-null  float64\n",
      "dtypes: float64(1), int64(1), object(2)\n",
      "memory usage: 3.2+ MB\n",
      "None\n",
      "\n",
      "-------------------------------------------\n",
      "\n",
      "df_messages\n",
      "<class 'pandas.core.frame.DataFrame'>\n",
      "RangeIndex: 76051 entries, 0 to 76050\n",
      "Data columns (total 3 columns):\n",
      " #   Column        Non-Null Count  Dtype \n",
      "---  ------        --------------  ----- \n",
      " 0   id            76051 non-null  object\n",
      " 1   user_id       76051 non-null  int64 \n",
      " 2   message_date  76051 non-null  object\n",
      "dtypes: int64(1), object(2)\n",
      "memory usage: 1.7+ MB\n",
      "None\n",
      "\n",
      "-------------------------------------------\n",
      "\n",
      "df_plans\n",
      "<class 'pandas.core.frame.DataFrame'>\n",
      "RangeIndex: 2 entries, 0 to 1\n",
      "Data columns (total 8 columns):\n",
      " #   Column                 Non-Null Count  Dtype  \n",
      "---  ------                 --------------  -----  \n",
      " 0   messages_included      2 non-null      int64  \n",
      " 1   mb_per_month_included  2 non-null      int64  \n",
      " 2   minutes_included       2 non-null      int64  \n",
      " 3   usd_monthly_pay        2 non-null      int64  \n",
      " 4   usd_per_gb             2 non-null      int64  \n",
      " 5   usd_per_message        2 non-null      float64\n",
      " 6   usd_per_minute         2 non-null      float64\n",
      " 7   plan_name              2 non-null      object \n",
      "dtypes: float64(2), int64(5), object(1)\n",
      "memory usage: 260.0+ bytes\n",
      "None\n",
      "\n",
      "-------------------------------------------\n",
      "\n",
      "df_users\n",
      "<class 'pandas.core.frame.DataFrame'>\n",
      "RangeIndex: 500 entries, 0 to 499\n",
      "Data columns (total 8 columns):\n",
      " #   Column      Non-Null Count  Dtype \n",
      "---  ------      --------------  ----- \n",
      " 0   user_id     500 non-null    int64 \n",
      " 1   first_name  500 non-null    object\n",
      " 2   last_name   500 non-null    object\n",
      " 3   age         500 non-null    int64 \n",
      " 4   city        500 non-null    object\n",
      " 5   reg_date    500 non-null    object\n",
      " 6   plan        500 non-null    object\n",
      " 7   churn_date  34 non-null     object\n",
      "dtypes: int64(2), object(6)\n",
      "memory usage: 31.4+ KB\n",
      "None\n",
      "\n",
      "-------------------------------------------\n",
      "\n"
     ]
    }
   ],
   "source": [
    "print_dataframe_info([df_calls, df_internet, df_messages, df_plans, df_users])"
   ]
  },
  {
   "cell_type": "code",
   "execution_count": 7,
   "id": "53452732-e23f-4958-bf16-ad7595bfc351",
   "metadata": {
    "tags": []
   },
   "outputs": [
    {
     "data": {
      "text/html": [
       "<div>\n",
       "<style scoped>\n",
       "    .dataframe tbody tr th:only-of-type {\n",
       "        vertical-align: middle;\n",
       "    }\n",
       "\n",
       "    .dataframe tbody tr th {\n",
       "        vertical-align: top;\n",
       "    }\n",
       "\n",
       "    .dataframe thead th {\n",
       "        text-align: right;\n",
       "    }\n",
       "</style>\n",
       "<table border=\"1\" class=\"dataframe\">\n",
       "  <thead>\n",
       "    <tr style=\"text-align: right;\">\n",
       "      <th></th>\n",
       "      <th>id</th>\n",
       "      <th>user_id</th>\n",
       "      <th>call_date</th>\n",
       "      <th>duration</th>\n",
       "    </tr>\n",
       "  </thead>\n",
       "  <tbody>\n",
       "    <tr>\n",
       "      <th>0</th>\n",
       "      <td>1000_93</td>\n",
       "      <td>1000</td>\n",
       "      <td>2018-12-27</td>\n",
       "      <td>8.52</td>\n",
       "    </tr>\n",
       "    <tr>\n",
       "      <th>1</th>\n",
       "      <td>1000_145</td>\n",
       "      <td>1000</td>\n",
       "      <td>2018-12-27</td>\n",
       "      <td>13.66</td>\n",
       "    </tr>\n",
       "    <tr>\n",
       "      <th>2</th>\n",
       "      <td>1000_247</td>\n",
       "      <td>1000</td>\n",
       "      <td>2018-12-27</td>\n",
       "      <td>14.48</td>\n",
       "    </tr>\n",
       "    <tr>\n",
       "      <th>3</th>\n",
       "      <td>1000_309</td>\n",
       "      <td>1000</td>\n",
       "      <td>2018-12-28</td>\n",
       "      <td>5.76</td>\n",
       "    </tr>\n",
       "    <tr>\n",
       "      <th>4</th>\n",
       "      <td>1000_380</td>\n",
       "      <td>1000</td>\n",
       "      <td>2018-12-30</td>\n",
       "      <td>4.22</td>\n",
       "    </tr>\n",
       "  </tbody>\n",
       "</table>\n",
       "</div>"
      ],
      "text/plain": [
       "         id  user_id   call_date  duration\n",
       "0   1000_93     1000  2018-12-27      8.52\n",
       "1  1000_145     1000  2018-12-27     13.66\n",
       "2  1000_247     1000  2018-12-27     14.48\n",
       "3  1000_309     1000  2018-12-28      5.76\n",
       "4  1000_380     1000  2018-12-30      4.22"
      ]
     },
     "execution_count": 7,
     "metadata": {},
     "output_type": "execute_result"
    }
   ],
   "source": [
    "# imprima uma amostragem dos dados\n",
    "df_calls.head()"
   ]
  },
  {
   "cell_type": "code",
   "execution_count": 8,
   "id": "13b28b9f-b8a0-4fc7-85ee-443493594199",
   "metadata": {
    "tags": []
   },
   "outputs": [
    {
     "data": {
      "text/html": [
       "<div>\n",
       "<style scoped>\n",
       "    .dataframe tbody tr th:only-of-type {\n",
       "        vertical-align: middle;\n",
       "    }\n",
       "\n",
       "    .dataframe tbody tr th {\n",
       "        vertical-align: top;\n",
       "    }\n",
       "\n",
       "    .dataframe thead th {\n",
       "        text-align: right;\n",
       "    }\n",
       "</style>\n",
       "<table border=\"1\" class=\"dataframe\">\n",
       "  <thead>\n",
       "    <tr style=\"text-align: right;\">\n",
       "      <th></th>\n",
       "      <th>id</th>\n",
       "      <th>user_id</th>\n",
       "      <th>session_date</th>\n",
       "      <th>mb_used</th>\n",
       "    </tr>\n",
       "  </thead>\n",
       "  <tbody>\n",
       "    <tr>\n",
       "      <th>0</th>\n",
       "      <td>1000_13</td>\n",
       "      <td>1000</td>\n",
       "      <td>2018-12-29</td>\n",
       "      <td>89.86</td>\n",
       "    </tr>\n",
       "    <tr>\n",
       "      <th>1</th>\n",
       "      <td>1000_204</td>\n",
       "      <td>1000</td>\n",
       "      <td>2018-12-31</td>\n",
       "      <td>0.00</td>\n",
       "    </tr>\n",
       "    <tr>\n",
       "      <th>2</th>\n",
       "      <td>1000_379</td>\n",
       "      <td>1000</td>\n",
       "      <td>2018-12-28</td>\n",
       "      <td>660.40</td>\n",
       "    </tr>\n",
       "    <tr>\n",
       "      <th>3</th>\n",
       "      <td>1000_413</td>\n",
       "      <td>1000</td>\n",
       "      <td>2018-12-26</td>\n",
       "      <td>270.99</td>\n",
       "    </tr>\n",
       "    <tr>\n",
       "      <th>4</th>\n",
       "      <td>1000_442</td>\n",
       "      <td>1000</td>\n",
       "      <td>2018-12-27</td>\n",
       "      <td>880.22</td>\n",
       "    </tr>\n",
       "  </tbody>\n",
       "</table>\n",
       "</div>"
      ],
      "text/plain": [
       "         id  user_id session_date  mb_used\n",
       "0   1000_13     1000   2018-12-29    89.86\n",
       "1  1000_204     1000   2018-12-31     0.00\n",
       "2  1000_379     1000   2018-12-28   660.40\n",
       "3  1000_413     1000   2018-12-26   270.99\n",
       "4  1000_442     1000   2018-12-27   880.22"
      ]
     },
     "execution_count": 8,
     "metadata": {},
     "output_type": "execute_result"
    }
   ],
   "source": [
    "df_internet.head()"
   ]
  },
  {
   "cell_type": "code",
   "execution_count": 9,
   "id": "d9e6c33d-4933-49a1-b85a-d4f4642ecfc6",
   "metadata": {
    "tags": []
   },
   "outputs": [
    {
     "data": {
      "text/html": [
       "<div>\n",
       "<style scoped>\n",
       "    .dataframe tbody tr th:only-of-type {\n",
       "        vertical-align: middle;\n",
       "    }\n",
       "\n",
       "    .dataframe tbody tr th {\n",
       "        vertical-align: top;\n",
       "    }\n",
       "\n",
       "    .dataframe thead th {\n",
       "        text-align: right;\n",
       "    }\n",
       "</style>\n",
       "<table border=\"1\" class=\"dataframe\">\n",
       "  <thead>\n",
       "    <tr style=\"text-align: right;\">\n",
       "      <th></th>\n",
       "      <th>id</th>\n",
       "      <th>user_id</th>\n",
       "      <th>message_date</th>\n",
       "    </tr>\n",
       "  </thead>\n",
       "  <tbody>\n",
       "    <tr>\n",
       "      <th>0</th>\n",
       "      <td>1000_125</td>\n",
       "      <td>1000</td>\n",
       "      <td>2018-12-27</td>\n",
       "    </tr>\n",
       "    <tr>\n",
       "      <th>1</th>\n",
       "      <td>1000_160</td>\n",
       "      <td>1000</td>\n",
       "      <td>2018-12-31</td>\n",
       "    </tr>\n",
       "    <tr>\n",
       "      <th>2</th>\n",
       "      <td>1000_223</td>\n",
       "      <td>1000</td>\n",
       "      <td>2018-12-31</td>\n",
       "    </tr>\n",
       "    <tr>\n",
       "      <th>3</th>\n",
       "      <td>1000_251</td>\n",
       "      <td>1000</td>\n",
       "      <td>2018-12-27</td>\n",
       "    </tr>\n",
       "    <tr>\n",
       "      <th>4</th>\n",
       "      <td>1000_255</td>\n",
       "      <td>1000</td>\n",
       "      <td>2018-12-26</td>\n",
       "    </tr>\n",
       "  </tbody>\n",
       "</table>\n",
       "</div>"
      ],
      "text/plain": [
       "         id  user_id message_date\n",
       "0  1000_125     1000   2018-12-27\n",
       "1  1000_160     1000   2018-12-31\n",
       "2  1000_223     1000   2018-12-31\n",
       "3  1000_251     1000   2018-12-27\n",
       "4  1000_255     1000   2018-12-26"
      ]
     },
     "execution_count": 9,
     "metadata": {},
     "output_type": "execute_result"
    }
   ],
   "source": [
    "df_messages.head()"
   ]
  },
  {
   "cell_type": "code",
   "execution_count": 10,
   "id": "7479d965-de6a-43c3-aafc-9daa32d26e6d",
   "metadata": {
    "tags": []
   },
   "outputs": [
    {
     "data": {
      "text/html": [
       "<div>\n",
       "<style scoped>\n",
       "    .dataframe tbody tr th:only-of-type {\n",
       "        vertical-align: middle;\n",
       "    }\n",
       "\n",
       "    .dataframe tbody tr th {\n",
       "        vertical-align: top;\n",
       "    }\n",
       "\n",
       "    .dataframe thead th {\n",
       "        text-align: right;\n",
       "    }\n",
       "</style>\n",
       "<table border=\"1\" class=\"dataframe\">\n",
       "  <thead>\n",
       "    <tr style=\"text-align: right;\">\n",
       "      <th></th>\n",
       "      <th>messages_included</th>\n",
       "      <th>mb_per_month_included</th>\n",
       "      <th>minutes_included</th>\n",
       "      <th>usd_monthly_pay</th>\n",
       "      <th>usd_per_gb</th>\n",
       "      <th>usd_per_message</th>\n",
       "      <th>usd_per_minute</th>\n",
       "      <th>plan_name</th>\n",
       "    </tr>\n",
       "  </thead>\n",
       "  <tbody>\n",
       "    <tr>\n",
       "      <th>0</th>\n",
       "      <td>50</td>\n",
       "      <td>15360</td>\n",
       "      <td>500</td>\n",
       "      <td>20</td>\n",
       "      <td>10</td>\n",
       "      <td>0.03</td>\n",
       "      <td>0.03</td>\n",
       "      <td>surf</td>\n",
       "    </tr>\n",
       "    <tr>\n",
       "      <th>1</th>\n",
       "      <td>1000</td>\n",
       "      <td>30720</td>\n",
       "      <td>3000</td>\n",
       "      <td>70</td>\n",
       "      <td>7</td>\n",
       "      <td>0.01</td>\n",
       "      <td>0.01</td>\n",
       "      <td>ultimate</td>\n",
       "    </tr>\n",
       "  </tbody>\n",
       "</table>\n",
       "</div>"
      ],
      "text/plain": [
       "   messages_included  mb_per_month_included  minutes_included  \\\n",
       "0                 50                  15360               500   \n",
       "1               1000                  30720              3000   \n",
       "\n",
       "   usd_monthly_pay  usd_per_gb  usd_per_message  usd_per_minute plan_name  \n",
       "0               20          10             0.03            0.03      surf  \n",
       "1               70           7             0.01            0.01  ultimate  "
      ]
     },
     "execution_count": 10,
     "metadata": {},
     "output_type": "execute_result"
    }
   ],
   "source": [
    "df_plans.head()"
   ]
  },
  {
   "cell_type": "code",
   "execution_count": 11,
   "id": "611ec2d8-f1ef-48b1-89ec-e2c1be85c7c1",
   "metadata": {
    "tags": []
   },
   "outputs": [
    {
     "data": {
      "text/html": [
       "<div>\n",
       "<style scoped>\n",
       "    .dataframe tbody tr th:only-of-type {\n",
       "        vertical-align: middle;\n",
       "    }\n",
       "\n",
       "    .dataframe tbody tr th {\n",
       "        vertical-align: top;\n",
       "    }\n",
       "\n",
       "    .dataframe thead th {\n",
       "        text-align: right;\n",
       "    }\n",
       "</style>\n",
       "<table border=\"1\" class=\"dataframe\">\n",
       "  <thead>\n",
       "    <tr style=\"text-align: right;\">\n",
       "      <th></th>\n",
       "      <th>user_id</th>\n",
       "      <th>first_name</th>\n",
       "      <th>last_name</th>\n",
       "      <th>age</th>\n",
       "      <th>city</th>\n",
       "      <th>reg_date</th>\n",
       "      <th>plan</th>\n",
       "      <th>churn_date</th>\n",
       "    </tr>\n",
       "  </thead>\n",
       "  <tbody>\n",
       "    <tr>\n",
       "      <th>0</th>\n",
       "      <td>1000</td>\n",
       "      <td>Anamaria</td>\n",
       "      <td>Bauer</td>\n",
       "      <td>45</td>\n",
       "      <td>Atlanta-Sandy Springs-Roswell, GA MSA</td>\n",
       "      <td>2018-12-24</td>\n",
       "      <td>ultimate</td>\n",
       "      <td>NaN</td>\n",
       "    </tr>\n",
       "    <tr>\n",
       "      <th>1</th>\n",
       "      <td>1001</td>\n",
       "      <td>Mickey</td>\n",
       "      <td>Wilkerson</td>\n",
       "      <td>28</td>\n",
       "      <td>Seattle-Tacoma-Bellevue, WA MSA</td>\n",
       "      <td>2018-08-13</td>\n",
       "      <td>surf</td>\n",
       "      <td>NaN</td>\n",
       "    </tr>\n",
       "    <tr>\n",
       "      <th>2</th>\n",
       "      <td>1002</td>\n",
       "      <td>Carlee</td>\n",
       "      <td>Hoffman</td>\n",
       "      <td>36</td>\n",
       "      <td>Las Vegas-Henderson-Paradise, NV MSA</td>\n",
       "      <td>2018-10-21</td>\n",
       "      <td>surf</td>\n",
       "      <td>NaN</td>\n",
       "    </tr>\n",
       "    <tr>\n",
       "      <th>3</th>\n",
       "      <td>1003</td>\n",
       "      <td>Reynaldo</td>\n",
       "      <td>Jenkins</td>\n",
       "      <td>52</td>\n",
       "      <td>Tulsa, OK MSA</td>\n",
       "      <td>2018-01-28</td>\n",
       "      <td>surf</td>\n",
       "      <td>NaN</td>\n",
       "    </tr>\n",
       "    <tr>\n",
       "      <th>4</th>\n",
       "      <td>1004</td>\n",
       "      <td>Leonila</td>\n",
       "      <td>Thompson</td>\n",
       "      <td>40</td>\n",
       "      <td>Seattle-Tacoma-Bellevue, WA MSA</td>\n",
       "      <td>2018-05-23</td>\n",
       "      <td>surf</td>\n",
       "      <td>NaN</td>\n",
       "    </tr>\n",
       "  </tbody>\n",
       "</table>\n",
       "</div>"
      ],
      "text/plain": [
       "   user_id first_name  last_name  age                                   city  \\\n",
       "0     1000   Anamaria      Bauer   45  Atlanta-Sandy Springs-Roswell, GA MSA   \n",
       "1     1001     Mickey  Wilkerson   28        Seattle-Tacoma-Bellevue, WA MSA   \n",
       "2     1002     Carlee    Hoffman   36   Las Vegas-Henderson-Paradise, NV MSA   \n",
       "3     1003   Reynaldo    Jenkins   52                          Tulsa, OK MSA   \n",
       "4     1004    Leonila   Thompson   40        Seattle-Tacoma-Bellevue, WA MSA   \n",
       "\n",
       "     reg_date      plan churn_date  \n",
       "0  2018-12-24  ultimate        NaN  \n",
       "1  2018-08-13      surf        NaN  \n",
       "2  2018-10-21      surf        NaN  \n",
       "3  2018-01-28      surf        NaN  \n",
       "4  2018-05-23      surf        NaN  "
      ]
     },
     "execution_count": 11,
     "metadata": {},
     "output_type": "execute_result"
    }
   ],
   "source": [
    "df_users.head()"
   ]
  },
  {
   "cell_type": "markdown",
   "id": "683b830e-a58d-4c3a-9b51-c7e5050932c8",
   "metadata": {},
   "source": [
    "### Primeiras conclusões <a id='data_review_conclusions'></a> "
   ]
  },
  {
   "cell_type": "markdown",
   "id": "07d86958-e44d-4cc4-9efa-55f438d2b111",
   "metadata": {},
   "source": [
    "Observamos a presença de valores ausentes em algumas colunas, e não identificamos nenhum erro relacionado ao estilo dessas colunas. A fim de garantir a integridade de nossa pesquisa, faremos uma investigação mais detalhada para lidar com essa situação."
   ]
  },
  {
   "cell_type": "markdown",
   "id": "9d727185-498c-4d70-a336-077cd1575c3b",
   "metadata": {},
   "source": [
    "[Voltar ao Índice](#back)"
   ]
  },
  {
   "cell_type": "markdown",
   "id": "be34d06d-c492-4b02-93e4-eb568947aaf1",
   "metadata": {},
   "source": [
    "## Etapa 2. Pré-processar dados <a id='data_preprocessing'></a>"
   ]
  },
  {
   "cell_type": "markdown",
   "id": "8986ce22-125d-4f9a-8989-c5c7a13750ff",
   "metadata": {
    "tags": []
   },
   "source": [
    "### Duplicatas <a id='duplicates'></a>\n",
    "Encontrando de duplicatas óbvias na tabela usando um comando:"
   ]
  },
  {
   "cell_type": "code",
   "execution_count": 12,
   "id": "e0db10b8-424d-47b5-8787-2201d6dc3c15",
   "metadata": {},
   "outputs": [
    {
     "name": "stdout",
     "output_type": "stream",
     "text": [
      "DataFrame: df_calls\n",
      "Valores duplicados: 0\n",
      "-------------------------------------------\n",
      "DataFrame: df_internet\n",
      "Valores duplicados: 0\n",
      "-------------------------------------------\n",
      "DataFrame: df_messages\n",
      "Valores duplicados: 0\n",
      "-------------------------------------------\n",
      "DataFrame: df_plans\n",
      "Valores duplicados: 0\n",
      "-------------------------------------------\n",
      "DataFrame: df_users\n",
      "Valores duplicados: 0\n",
      "-------------------------------------------\n"
     ]
    }
   ],
   "source": [
    "\n",
    "for name, df in dataframes.items():\n",
    "    duplicate_values = df.duplicated().sum()\n",
    "    print(f\"DataFrame: {name}\")\n",
    "    print(f\"Valores duplicados: {duplicate_values}\")\n",
    "    print('-------------------------------------------')"
   ]
  },
  {
   "cell_type": "markdown",
   "id": "917cc5e9-a511-4e69-85dd-9b6d04731fec",
   "metadata": {
    "tags": []
   },
   "source": [
    "Não há valores duplicados"
   ]
  },
  {
   "cell_type": "markdown",
   "id": "a6bd3443-6a21-4a4c-a161-f1ce8e6363f9",
   "metadata": {
    "tags": []
   },
   "source": [
    "### Valores ausentes <a id='missing_values'></a>\n",
    "Há valores ausentes nas colunas "
   ]
  },
  {
   "cell_type": "code",
   "execution_count": 13,
   "id": "7349591a-e1be-4fd5-a77a-fc44a50dc548",
   "metadata": {},
   "outputs": [],
   "source": [
    "def print_dataframe_null_counts(dataframes):\n",
    "    for df_name, df in dataframes.items():\n",
    "        print(df_name)\n",
    "        print(df.isna().sum())\n",
    "        print()\n",
    "        print('-------------------------------------------')\n",
    "        print()"
   ]
  },
  {
   "cell_type": "code",
   "execution_count": 14,
   "id": "7e462b33-ce3f-45e9-9277-3efc76c04b73",
   "metadata": {
    "tags": []
   },
   "outputs": [
    {
     "name": "stdout",
     "output_type": "stream",
     "text": [
      "df_calls\n",
      "id           0\n",
      "user_id      0\n",
      "call_date    0\n",
      "duration     0\n",
      "dtype: int64\n",
      "\n",
      "-------------------------------------------\n",
      "\n",
      "df_internet\n",
      "id              0\n",
      "user_id         0\n",
      "session_date    0\n",
      "mb_used         0\n",
      "dtype: int64\n",
      "\n",
      "-------------------------------------------\n",
      "\n",
      "df_messages\n",
      "id              0\n",
      "user_id         0\n",
      "message_date    0\n",
      "dtype: int64\n",
      "\n",
      "-------------------------------------------\n",
      "\n",
      "df_plans\n",
      "messages_included        0\n",
      "mb_per_month_included    0\n",
      "minutes_included         0\n",
      "usd_monthly_pay          0\n",
      "usd_per_gb               0\n",
      "usd_per_message          0\n",
      "usd_per_minute           0\n",
      "plan_name                0\n",
      "dtype: int64\n",
      "\n",
      "-------------------------------------------\n",
      "\n",
      "df_users\n",
      "user_id         0\n",
      "first_name      0\n",
      "last_name       0\n",
      "age             0\n",
      "city            0\n",
      "reg_date        0\n",
      "plan            0\n",
      "churn_date    466\n",
      "dtype: int64\n",
      "\n",
      "-------------------------------------------\n",
      "\n"
     ]
    }
   ],
   "source": [
    "print_dataframe_null_counts(dataframes)"
   ]
  },
  {
   "cell_type": "markdown",
   "id": "bc98fcd2-6902-4d9e-967d-28eec2e33957",
   "metadata": {},
   "source": [
    "No contexto da coluna 'churn_date' do DataFrame 'df_users', observa-se a presença de dados ausentes. Essa coluna indica a data em que um usuário deixou de utilizar o serviço. Portanto, quando há valores ausentes nessa coluna, é coerente inferir que o usuário ainda está utilizando o plano de serviço."
   ]
  },
  {
   "cell_type": "markdown",
   "id": "ad5139d2-841f-40da-8d90-19c4a1415834",
   "metadata": {},
   "source": [
    "[Voltar ao Índice](#back)"
   ]
  },
  {
   "cell_type": "markdown",
   "id": "e36e28b8-bd10-445a-b7f5-de2fc1459d2c",
   "metadata": {},
   "source": [
    "### Conclusões intermediárias <a id='data_preprocessing_conclusions_intermediary'></a>"
   ]
  },
  {
   "cell_type": "markdown",
   "id": "8c877568-cdb1-4294-bc16-d9d44ea0dbfa",
   "metadata": {},
   "source": [
    "Após uma análise detalhada, constatamos que as demais colunas estão em conformidade com as expectativas. Agora, procederemos à verificação e correção dos tipos de dados presentes no conjunto de dados."
   ]
  },
  {
   "cell_type": "markdown",
   "id": "19eed612-3604-4904-8ed8-d5ce0721fd16",
   "metadata": {},
   "source": [
    "## Etapa 3. Transformação de dados <a id='tranforamation_data'></a>"
   ]
  },
  {
   "cell_type": "code",
   "execution_count": 15,
   "id": "bdc30f8c-98b3-46ff-84dd-afabed66d190",
   "metadata": {},
   "outputs": [
    {
     "name": "stdout",
     "output_type": "stream",
     "text": [
      "DataFrame: df_calls\n",
      "Coluna: id\n",
      "id\n",
      "1000_93      1\n",
      "1329_1214    1\n",
      "1329_1253    1\n",
      "1329_1252    1\n",
      "1329_1245    1\n",
      "            ..\n",
      "1166_90      1\n",
      "1166_89      1\n",
      "1166_88      1\n",
      "1166_87      1\n",
      "1499_203     1\n",
      "Name: count, Length: 137735, dtype: int64\n",
      "-------------------------------------------\n",
      "DataFrame: df_calls\n",
      "Coluna: user_id\n",
      "user_id\n",
      "1324    1300\n",
      "1077    1224\n",
      "1334    1140\n",
      "1362    1121\n",
      "1320    1080\n",
      "        ... \n",
      "1104       4\n",
      "1323       3\n",
      "1306       3\n",
      "1452       3\n",
      "1034       2\n",
      "Name: count, Length: 481, dtype: int64\n",
      "-------------------------------------------\n",
      "DataFrame: df_calls\n",
      "Coluna: call_date\n",
      "call_date\n",
      "2018-12-27    1091\n",
      "2018-12-28    1085\n",
      "2018-12-30    1080\n",
      "2018-12-24    1078\n",
      "2018-12-29    1070\n",
      "              ... \n",
      "2018-01-17       6\n",
      "2018-01-26       6\n",
      "2018-01-15       5\n",
      "2018-01-18       4\n",
      "2018-01-24       3\n",
      "Name: count, Length: 351, dtype: int64\n",
      "-------------------------------------------\n",
      "DataFrame: df_calls\n",
      "Coluna: duration\n",
      "duration\n",
      "0.00     26834\n",
      "4.02       102\n",
      "8.37       102\n",
      "3.91       101\n",
      "4.30       100\n",
      "         ...  \n",
      "31.55        1\n",
      "24.95        1\n",
      "26.23        1\n",
      "29.56        1\n",
      "25.18        1\n",
      "Name: count, Length: 2802, dtype: int64\n",
      "-------------------------------------------\n",
      "DataFrame: df_internet\n",
      "Coluna: id\n",
      "id\n",
      "1000_13     1\n",
      "1327_20     1\n",
      "1327_30     1\n",
      "1327_29     1\n",
      "1327_28     1\n",
      "           ..\n",
      "1157_26     1\n",
      "1157_25     1\n",
      "1157_24     1\n",
      "1157_23     1\n",
      "1499_219    1\n",
      "Name: count, Length: 104825, dtype: int64\n",
      "-------------------------------------------\n",
      "DataFrame: df_internet\n",
      "Coluna: user_id\n",
      "user_id\n",
      "1185    851\n",
      "1028    752\n",
      "1171    716\n",
      "1498    657\n",
      "1214    652\n",
      "       ... \n",
      "1323      3\n",
      "1034      2\n",
      "1108      2\n",
      "1306      1\n",
      "1452      1\n",
      "Name: count, Length: 489, dtype: int64\n",
      "-------------------------------------------\n",
      "DataFrame: df_internet\n",
      "Coluna: session_date\n",
      "session_date\n",
      "2018-12-24    851\n",
      "2018-12-30    845\n",
      "2018-12-27    830\n",
      "2018-12-21    826\n",
      "2018-12-31    823\n",
      "             ... \n",
      "2018-01-23      3\n",
      "2018-01-20      2\n",
      "2018-01-15      2\n",
      "2018-01-16      2\n",
      "2018-01-18      2\n",
      "Name: count, Length: 351, dtype: int64\n",
      "-------------------------------------------\n",
      "DataFrame: df_internet\n",
      "Coluna: mb_used\n",
      "mb_used\n",
      "0.00      13747\n",
      "435.77        8\n",
      "414.46        8\n",
      "423.06        7\n",
      "417.46        7\n",
      "          ...  \n",
      "814.65        1\n",
      "168.15        1\n",
      "102.41        1\n",
      "449.36        1\n",
      "758.31        1\n",
      "Name: count, Length: 57624, dtype: int64\n",
      "-------------------------------------------\n",
      "DataFrame: df_messages\n",
      "Coluna: id\n",
      "id\n",
      "1000_125    1\n",
      "1330_126    1\n",
      "1330_119    1\n",
      "1330_117    1\n",
      "1330_114    1\n",
      "           ..\n",
      "1151_192    1\n",
      "1151_191    1\n",
      "1151_190    1\n",
      "1151_189    1\n",
      "1497_613    1\n",
      "Name: count, Length: 76051, dtype: int64\n",
      "-------------------------------------------\n",
      "DataFrame: df_messages\n",
      "Coluna: user_id\n",
      "user_id\n",
      "1132    1288\n",
      "1328    1233\n",
      "1324    1175\n",
      "1470    1056\n",
      "1077     804\n",
      "        ... \n",
      "1477       3\n",
      "1190       3\n",
      "1161       2\n",
      "1323       1\n",
      "1479       1\n",
      "Name: count, Length: 402, dtype: int64\n",
      "-------------------------------------------\n",
      "DataFrame: df_messages\n",
      "Coluna: message_date\n",
      "message_date\n",
      "2018-12-28    702\n",
      "2018-12-27    701\n",
      "2018-12-31    699\n",
      "2018-12-25    699\n",
      "2018-12-18    688\n",
      "             ... \n",
      "2018-01-21      3\n",
      "2018-01-15      2\n",
      "2018-02-18      2\n",
      "2018-01-24      2\n",
      "2018-01-19      1\n",
      "Name: count, Length: 351, dtype: int64\n",
      "-------------------------------------------\n",
      "DataFrame: df_plans\n",
      "Coluna: messages_included\n",
      "messages_included\n",
      "50      1\n",
      "1000    1\n",
      "Name: count, dtype: int64\n",
      "-------------------------------------------\n",
      "DataFrame: df_plans\n",
      "Coluna: mb_per_month_included\n",
      "mb_per_month_included\n",
      "15360    1\n",
      "30720    1\n",
      "Name: count, dtype: int64\n",
      "-------------------------------------------\n",
      "DataFrame: df_plans\n",
      "Coluna: minutes_included\n",
      "minutes_included\n",
      "500     1\n",
      "3000    1\n",
      "Name: count, dtype: int64\n",
      "-------------------------------------------\n",
      "DataFrame: df_plans\n",
      "Coluna: usd_monthly_pay\n",
      "usd_monthly_pay\n",
      "20    1\n",
      "70    1\n",
      "Name: count, dtype: int64\n",
      "-------------------------------------------\n",
      "DataFrame: df_plans\n",
      "Coluna: usd_per_gb\n",
      "usd_per_gb\n",
      "10    1\n",
      "7     1\n",
      "Name: count, dtype: int64\n",
      "-------------------------------------------\n",
      "DataFrame: df_plans\n",
      "Coluna: usd_per_message\n",
      "usd_per_message\n",
      "0.03    1\n",
      "0.01    1\n",
      "Name: count, dtype: int64\n",
      "-------------------------------------------\n",
      "DataFrame: df_plans\n",
      "Coluna: usd_per_minute\n",
      "usd_per_minute\n",
      "0.03    1\n",
      "0.01    1\n",
      "Name: count, dtype: int64\n",
      "-------------------------------------------\n",
      "DataFrame: df_plans\n",
      "Coluna: plan_name\n",
      "plan_name\n",
      "surf        1\n",
      "ultimate    1\n",
      "Name: count, dtype: int64\n",
      "-------------------------------------------\n",
      "DataFrame: df_users\n",
      "Coluna: user_id\n",
      "user_id\n",
      "1000    1\n",
      "1329    1\n",
      "1342    1\n",
      "1341    1\n",
      "1340    1\n",
      "       ..\n",
      "1161    1\n",
      "1160    1\n",
      "1159    1\n",
      "1158    1\n",
      "1499    1\n",
      "Name: count, Length: 500, dtype: int64\n",
      "-------------------------------------------\n",
      "DataFrame: df_users\n",
      "Coluna: first_name\n",
      "first_name\n",
      "Leonila     3\n",
      "Jasper      3\n",
      "Seymour     3\n",
      "Lucius      2\n",
      "Errol       2\n",
      "           ..\n",
      "Olin        1\n",
      "Hai         1\n",
      "Shay        1\n",
      "Rebbecca    1\n",
      "Shena       1\n",
      "Name: count, Length: 458, dtype: int64\n",
      "-------------------------------------------\n",
      "DataFrame: df_users\n",
      "Coluna: last_name\n",
      "last_name\n",
      "David        3\n",
      "Morrison     3\n",
      "Grimes       3\n",
      "Kelley       3\n",
      "Velazquez    3\n",
      "            ..\n",
      "Cain         1\n",
      "Robinson     1\n",
      "Adkins       1\n",
      "Bean         1\n",
      "Dickson      1\n",
      "Name: count, Length: 399, dtype: int64\n",
      "-------------------------------------------\n",
      "DataFrame: df_users\n",
      "Coluna: age\n",
      "age\n",
      "18    15\n",
      "70    14\n",
      "69    14\n",
      "61    14\n",
      "27    14\n",
      "20    13\n",
      "28    13\n",
      "33    12\n",
      "30    12\n",
      "47    11\n",
      "39    11\n",
      "67    11\n",
      "51    11\n",
      "52    11\n",
      "65    11\n",
      "64    10\n",
      "46    10\n",
      "29    10\n",
      "49    10\n",
      "45    10\n",
      "75    10\n",
      "36    10\n",
      "34    10\n",
      "42    10\n",
      "26    10\n",
      "53    10\n",
      "56     9\n",
      "66     9\n",
      "60     9\n",
      "23     9\n",
      "59     8\n",
      "21     8\n",
      "44     8\n",
      "19     8\n",
      "41     7\n",
      "25     7\n",
      "38     7\n",
      "57     7\n",
      "22     7\n",
      "48     7\n",
      "50     6\n",
      "40     6\n",
      "54     6\n",
      "31     6\n",
      "35     6\n",
      "37     6\n",
      "24     6\n",
      "63     6\n",
      "71     6\n",
      "55     6\n",
      "74     6\n",
      "58     5\n",
      "73     5\n",
      "72     4\n",
      "32     4\n",
      "62     4\n",
      "43     3\n",
      "68     2\n",
      "Name: count, dtype: int64\n",
      "-------------------------------------------\n",
      "DataFrame: df_users\n",
      "Coluna: city\n",
      "city\n",
      "New York-Newark-Jersey City, NY-NJ-PA MSA          80\n",
      "Los Angeles-Long Beach-Anaheim, CA MSA             29\n",
      "Dallas-Fort Worth-Arlington, TX MSA                21\n",
      "Chicago-Naperville-Elgin, IL-IN-WI MSA             19\n",
      "Philadelphia-Camden-Wilmington, PA-NJ-DE-MD MSA    17\n",
      "                                                   ..\n",
      "Raleigh-Cary, NC MSA                                1\n",
      "El Paso, TX MSA                                     1\n",
      "Greensboro-High Point, NC MSA                       1\n",
      "Stockton, CA MSA                                    1\n",
      "Cape Coral-Fort Myers, FL MSA                       1\n",
      "Name: count, Length: 73, dtype: int64\n",
      "-------------------------------------------\n",
      "DataFrame: df_users\n",
      "Coluna: reg_date\n",
      "reg_date\n",
      "2018-03-08    5\n",
      "2018-11-29    5\n",
      "2018-02-06    5\n",
      "2018-08-03    5\n",
      "2018-07-12    5\n",
      "             ..\n",
      "2018-09-28    1\n",
      "2018-11-09    1\n",
      "2018-04-13    1\n",
      "2018-05-29    1\n",
      "2018-02-04    1\n",
      "Name: count, Length: 266, dtype: int64\n",
      "-------------------------------------------\n",
      "DataFrame: df_users\n",
      "Coluna: plan\n",
      "plan\n",
      "surf        339\n",
      "ultimate    161\n",
      "Name: count, dtype: int64\n",
      "-------------------------------------------\n",
      "DataFrame: df_users\n",
      "Coluna: churn_date\n",
      "churn_date\n",
      "2018-12-18    3\n",
      "2018-12-31    2\n",
      "2018-11-14    2\n",
      "2018-12-19    2\n",
      "2018-12-15    1\n",
      "2018-11-18    1\n",
      "2018-09-17    1\n",
      "2018-12-10    1\n",
      "2018-08-19    1\n",
      "2018-11-21    1\n",
      "2018-09-01    1\n",
      "2018-12-26    1\n",
      "2018-08-16    1\n",
      "2018-10-22    1\n",
      "2018-10-03    1\n",
      "2018-10-13    1\n",
      "2018-07-31    1\n",
      "2018-11-16    1\n",
      "2018-11-30    1\n",
      "2018-12-22    1\n",
      "2018-11-29    1\n",
      "2018-12-27    1\n",
      "2018-12-12    1\n",
      "2018-11-11    1\n",
      "2018-11-24    1\n",
      "2018-10-07    1\n",
      "2018-12-30    1\n",
      "2018-09-07    1\n",
      "2018-09-18    1\n",
      "Name: count, dtype: int64\n",
      "-------------------------------------------\n"
     ]
    }
   ],
   "source": [
    "for df_name, df in dataframes.items():\n",
    "    for column in df.columns:\n",
    "        value_counts = df[column].value_counts(ascending=False)\n",
    "        print(f\"DataFrame: {df_name}\")\n",
    "        print(f\"Coluna: {column}\")\n",
    "        print(value_counts)\n",
    "        print('-------------------------------------------')"
   ]
  },
  {
   "cell_type": "markdown",
   "id": "dbe76f92-b8ed-4216-a20b-c1b12923c6a5",
   "metadata": {},
   "source": [
    "Verificamos que as demais colunas estão nos conformes, e valores estão coerentes, apenas iremos alterar as colunas que são datas para ficar no formato 'datetime'"
   ]
  },
  {
   "cell_type": "code",
   "execution_count": 16,
   "id": "14fe36be-e5bc-46bd-8466-7c7597049355",
   "metadata": {
    "tags": []
   },
   "outputs": [],
   "source": [
    "# transformando valores de data em datatime\n",
    "df_calls['call_date'] = pd.to_datetime(df_calls['call_date'], format='%Y-%m-%d')\n",
    "df_internet['session_date'] = pd.to_datetime(df_internet['session_date'], format='%Y-%m-%d')\n",
    "df_messages['message_date'] = pd.to_datetime(df_messages['message_date'], format='%Y-%m-%d')\n",
    "df_users['churn_date'] = pd.to_datetime(df_users['churn_date'], format='%Y-%m-%d')\n",
    "df_users['reg_date'] = pd.to_datetime(df_users['reg_date'], format='%Y-%m-%d')"
   ]
  },
  {
   "cell_type": "markdown",
   "id": "65aade9a-a074-4773-835c-dfae13317ae5",
   "metadata": {},
   "source": [
    "[Voltar ao Índice](#back)"
   ]
  },
  {
   "cell_type": "markdown",
   "id": "42c17271-4d88-44e3-a5ed-800fe01da819",
   "metadata": {},
   "source": [
    "## Etapa 4. Categorização de dados <a id='categorization_data'></a>"
   ]
  },
  {
   "cell_type": "markdown",
   "id": "0d30b9d4-d4de-4e8b-8f08-5669635a14e0",
   "metadata": {},
   "source": [
    "Iremos fazer um 'merge', uma junção de todos os DataFrame, vinculados pelo 'user_id'. Em algumas ocasiões irão ficar nulos, pois poderá acontecer que uma pessoa não use todos os serviços do plano. Primeiramente iremos separar pelo mês de ultilização dos serviços do plano.\n",
    "\n",
    "Iremos verificar o serviço de ligação e criar uma coluna 'month' com o mês de utilização desse serviço."
   ]
  },
  {
   "cell_type": "code",
   "execution_count": 17,
   "id": "37010a81-0755-4206-963f-4eea6cde34aa",
   "metadata": {
    "tags": []
   },
   "outputs": [],
   "source": [
    "df_calls['month'] = df_calls['call_date'].dt.month\n",
    "df_users_calls = df_users.merge(df_calls, on=['user_id'],how=\"left\")"
   ]
  },
  {
   "cell_type": "code",
   "execution_count": 18,
   "id": "a1e218ee-eedd-4a25-9e9b-6f10ff107892",
   "metadata": {
    "tags": []
   },
   "outputs": [
    {
     "data": {
      "text/plain": [
       "user_id            0\n",
       "first_name         0\n",
       "last_name          0\n",
       "age                0\n",
       "city               0\n",
       "reg_date           0\n",
       "plan               0\n",
       "churn_date    128753\n",
       "id                19\n",
       "call_date         19\n",
       "duration          19\n",
       "month             19\n",
       "dtype: int64"
      ]
     },
     "execution_count": 18,
     "metadata": {},
     "output_type": "execute_result"
    }
   ],
   "source": [
    "df_users_calls.isna().sum()"
   ]
  },
  {
   "cell_type": "markdown",
   "id": "e53d00bd-54db-431a-9c27-bbffcaa2734d",
   "metadata": {},
   "source": [
    "Como analisamos acima 19 pessoas não utilizaram do serviço de ligação, iremos substituir o valor por 0."
   ]
  },
  {
   "cell_type": "code",
   "execution_count": 19,
   "id": "befd3f75-b791-410b-b913-4aa44723aac9",
   "metadata": {
    "tags": []
   },
   "outputs": [],
   "source": [
    "df_users_calls[['id','call_date','duration','month']] = df_users_calls[['id','call_date','duration','month']].fillna(0)"
   ]
  },
  {
   "cell_type": "markdown",
   "id": "097bb78a-61bb-4e4a-aa34-8d302f727e1f",
   "metadata": {},
   "source": [
    "Iremos verificar o serviço de internet e criar uma coluna 'month' com o mês de utilização desse serviço."
   ]
  },
  {
   "cell_type": "code",
   "execution_count": 20,
   "id": "3cce65cc-f97d-41ac-b367-cf1a64466d2f",
   "metadata": {
    "tags": []
   },
   "outputs": [],
   "source": [
    "df_internet['month'] = df_internet['session_date'].dt.month\n",
    "df_users_internet = df_users.merge(df_internet, on=['user_id'],how=\"left\")"
   ]
  },
  {
   "cell_type": "code",
   "execution_count": 21,
   "id": "b9fe5fbb-e721-43f0-9930-c88bc05aca50",
   "metadata": {
    "tags": []
   },
   "outputs": [
    {
     "data": {
      "text/plain": [
       "user_id             0\n",
       "first_name          0\n",
       "last_name           0\n",
       "age                 0\n",
       "city                0\n",
       "reg_date            0\n",
       "plan                0\n",
       "churn_date      97368\n",
       "id                 11\n",
       "session_date       11\n",
       "mb_used            11\n",
       "month              11\n",
       "dtype: int64"
      ]
     },
     "execution_count": 21,
     "metadata": {},
     "output_type": "execute_result"
    }
   ],
   "source": [
    "df_users_internet.isna().sum()"
   ]
  },
  {
   "cell_type": "markdown",
   "id": "84b96350-4b98-4c36-aa1e-8e3f4ee91485",
   "metadata": {},
   "source": [
    "Como analisamos acima 11 pessoas não utilizaram do serviço de internet, iremos substituir o valor por 0."
   ]
  },
  {
   "cell_type": "code",
   "execution_count": 22,
   "id": "51d32506-bd89-4bd6-a47a-5550eb2d7330",
   "metadata": {
    "tags": []
   },
   "outputs": [],
   "source": [
    "df_users_internet[['id','session_date','mb_used','month']] = df_users_internet[['id','session_date','mb_used','month']].fillna(0)"
   ]
  },
  {
   "cell_type": "markdown",
   "id": "b6d9af28-bb7b-4122-a153-42314392c0b6",
   "metadata": {},
   "source": [
    "Iremos verificar o serviço de mensagens e criar uma coluna 'month' com o mês de utilização desse serviço."
   ]
  },
  {
   "cell_type": "code",
   "execution_count": 23,
   "id": "373492cc-33d4-4ce0-aae9-bb7adbf91548",
   "metadata": {
    "tags": []
   },
   "outputs": [],
   "source": [
    "df_messages['month'] = df_messages['message_date'].dt.month\n",
    "df_users_messages = df_users.merge(df_messages, on=['user_id'],how=\"left\")"
   ]
  },
  {
   "cell_type": "code",
   "execution_count": 24,
   "id": "d2190b2f-1144-4fa4-a367-3b9da13a0eb9",
   "metadata": {
    "tags": []
   },
   "outputs": [
    {
     "data": {
      "text/plain": [
       "user_id             0\n",
       "first_name          0\n",
       "last_name           0\n",
       "age                 0\n",
       "city                0\n",
       "reg_date            0\n",
       "plan                0\n",
       "churn_date      71743\n",
       "id                 98\n",
       "message_date       98\n",
       "month              98\n",
       "dtype: int64"
      ]
     },
     "execution_count": 24,
     "metadata": {},
     "output_type": "execute_result"
    }
   ],
   "source": [
    "df_users_messages.isna().sum()"
   ]
  },
  {
   "cell_type": "code",
   "execution_count": 25,
   "id": "ac8c66ca-9801-493d-90fd-0279b1c3c5e9",
   "metadata": {
    "tags": []
   },
   "outputs": [],
   "source": [
    "df_users_messages[['id','message_date','month']] = df_users_messages[['id','message_date','month']].fillna(0)"
   ]
  },
  {
   "cell_type": "markdown",
   "id": "cf45e382-842c-49a2-855f-7c3ec34860d6",
   "metadata": {
    "tags": []
   },
   "source": [
    "Agora iremos calcular as somas das seguintes métricas para cada usuário, agrupadas por mês:\n",
    "\n",
    " - Duração total das chamadas\n",
    "- Quantidade total de mensagens\n",
    "- Megabytes totais de internet utilizados\n",
    "\n",
    "Essas somas serão calculadas separadamente para cada mês correspondente em cada usuário."
   ]
  },
  {
   "cell_type": "code",
   "execution_count": 26,
   "id": "7207132f-406a-4923-bb40-a559a5283f00",
   "metadata": {
    "tags": []
   },
   "outputs": [],
   "source": [
    "df_users_calls_group = df_users_calls.groupby(['user_id','month'])['duration'].agg('sum').reset_index().rename(columns={\"duration\":\"total_duration_calls\"})\n",
    "df_users_internet_group = df_users_internet.groupby(['user_id','month'])['mb_used'].agg('sum').reset_index().rename(columns={\"mb_used\":\"total_mb_used_internet\"})\n",
    "df_users_messages_group = df_users_messages.groupby(['user_id','month'])['id'].agg('count').reset_index().rename(columns={\"id\":\"count_messages\"})"
   ]
  },
  {
   "cell_type": "markdown",
   "id": "1662f322-1e9d-4842-bff9-db64714d03cd",
   "metadata": {
    "tags": []
   },
   "source": [
    "Unificar todos os DataFrames em um único DataFrame"
   ]
  },
  {
   "cell_type": "code",
   "execution_count": 27,
   "id": "bb7ae216-7f92-4fd8-9018-44fe03790ef2",
   "metadata": {
    "tags": []
   },
   "outputs": [],
   "source": [
    "df_final = df_users_internet_group.merge(df_users_calls_group,how='outer')\n",
    "df_final = df_final.merge(df_users_messages_group,how = 'outer')"
   ]
  },
  {
   "cell_type": "code",
   "execution_count": 28,
   "id": "8f598e3c-44fb-4d32-8d03-7a843c63dd56",
   "metadata": {
    "tags": []
   },
   "outputs": [
    {
     "data": {
      "text/plain": [
       "user_id                     0\n",
       "month                       0\n",
       "total_mb_used_internet    112\n",
       "total_duration_calls      123\n",
       "count_messages            496\n",
       "dtype: int64"
      ]
     },
     "execution_count": 28,
     "metadata": {},
     "output_type": "execute_result"
    }
   ],
   "source": [
    "df_final.isna().sum()"
   ]
  },
  {
   "cell_type": "markdown",
   "id": "54a7e6ce-809f-4629-8556-4d8fa9b1a3fe",
   "metadata": {},
   "source": [
    "A junção dos DataFrames foi realizada corretamente, porém há colunas que estão todas preenchidas com '0' pois não há registo de ultização ou sem um mês para que possamos alocar, iremos excluir esses dados para não atrapalhar em nossas pesquisas."
   ]
  },
  {
   "cell_type": "code",
   "execution_count": 29,
   "id": "5f2bdd1e-e352-4ec2-8fa6-13923399bf53",
   "metadata": {
    "tags": []
   },
   "outputs": [],
   "source": [
    "df_final_full = df_final.merge(df_users,on=['user_id'],how=\"right\")"
   ]
  },
  {
   "cell_type": "code",
   "execution_count": 30,
   "id": "841dbab5-91e0-4893-9ed7-5d90199974bd",
   "metadata": {
    "tags": []
   },
   "outputs": [
    {
     "data": {
      "text/html": [
       "<div>\n",
       "<style scoped>\n",
       "    .dataframe tbody tr th:only-of-type {\n",
       "        vertical-align: middle;\n",
       "    }\n",
       "\n",
       "    .dataframe tbody tr th {\n",
       "        vertical-align: top;\n",
       "    }\n",
       "\n",
       "    .dataframe thead th {\n",
       "        text-align: right;\n",
       "    }\n",
       "</style>\n",
       "<table border=\"1\" class=\"dataframe\">\n",
       "  <thead>\n",
       "    <tr style=\"text-align: right;\">\n",
       "      <th></th>\n",
       "      <th>user_id</th>\n",
       "      <th>month</th>\n",
       "      <th>total_mb_used_internet</th>\n",
       "      <th>total_duration_calls</th>\n",
       "      <th>count_messages</th>\n",
       "      <th>first_name</th>\n",
       "      <th>last_name</th>\n",
       "      <th>age</th>\n",
       "      <th>city</th>\n",
       "      <th>reg_date</th>\n",
       "      <th>plan</th>\n",
       "      <th>churn_date</th>\n",
       "    </tr>\n",
       "  </thead>\n",
       "  <tbody>\n",
       "    <tr>\n",
       "      <th>0</th>\n",
       "      <td>1000</td>\n",
       "      <td>12.0</td>\n",
       "      <td>1901.47</td>\n",
       "      <td>116.83</td>\n",
       "      <td>11.0</td>\n",
       "      <td>Anamaria</td>\n",
       "      <td>Bauer</td>\n",
       "      <td>45</td>\n",
       "      <td>Atlanta-Sandy Springs-Roswell, GA MSA</td>\n",
       "      <td>2018-12-24</td>\n",
       "      <td>ultimate</td>\n",
       "      <td>NaT</td>\n",
       "    </tr>\n",
       "    <tr>\n",
       "      <th>1</th>\n",
       "      <td>1001</td>\n",
       "      <td>8.0</td>\n",
       "      <td>6919.15</td>\n",
       "      <td>171.14</td>\n",
       "      <td>30.0</td>\n",
       "      <td>Mickey</td>\n",
       "      <td>Wilkerson</td>\n",
       "      <td>28</td>\n",
       "      <td>Seattle-Tacoma-Bellevue, WA MSA</td>\n",
       "      <td>2018-08-13</td>\n",
       "      <td>surf</td>\n",
       "      <td>NaT</td>\n",
       "    </tr>\n",
       "    <tr>\n",
       "      <th>2</th>\n",
       "      <td>1001</td>\n",
       "      <td>9.0</td>\n",
       "      <td>13314.82</td>\n",
       "      <td>297.69</td>\n",
       "      <td>44.0</td>\n",
       "      <td>Mickey</td>\n",
       "      <td>Wilkerson</td>\n",
       "      <td>28</td>\n",
       "      <td>Seattle-Tacoma-Bellevue, WA MSA</td>\n",
       "      <td>2018-08-13</td>\n",
       "      <td>surf</td>\n",
       "      <td>NaT</td>\n",
       "    </tr>\n",
       "    <tr>\n",
       "      <th>3</th>\n",
       "      <td>1001</td>\n",
       "      <td>10.0</td>\n",
       "      <td>22330.49</td>\n",
       "      <td>374.11</td>\n",
       "      <td>53.0</td>\n",
       "      <td>Mickey</td>\n",
       "      <td>Wilkerson</td>\n",
       "      <td>28</td>\n",
       "      <td>Seattle-Tacoma-Bellevue, WA MSA</td>\n",
       "      <td>2018-08-13</td>\n",
       "      <td>surf</td>\n",
       "      <td>NaT</td>\n",
       "    </tr>\n",
       "    <tr>\n",
       "      <th>4</th>\n",
       "      <td>1001</td>\n",
       "      <td>11.0</td>\n",
       "      <td>18504.30</td>\n",
       "      <td>404.59</td>\n",
       "      <td>36.0</td>\n",
       "      <td>Mickey</td>\n",
       "      <td>Wilkerson</td>\n",
       "      <td>28</td>\n",
       "      <td>Seattle-Tacoma-Bellevue, WA MSA</td>\n",
       "      <td>2018-08-13</td>\n",
       "      <td>surf</td>\n",
       "      <td>NaT</td>\n",
       "    </tr>\n",
       "  </tbody>\n",
       "</table>\n",
       "</div>"
      ],
      "text/plain": [
       "   user_id  month  total_mb_used_internet  total_duration_calls  \\\n",
       "0     1000   12.0                 1901.47                116.83   \n",
       "1     1001    8.0                 6919.15                171.14   \n",
       "2     1001    9.0                13314.82                297.69   \n",
       "3     1001   10.0                22330.49                374.11   \n",
       "4     1001   11.0                18504.30                404.59   \n",
       "\n",
       "   count_messages first_name  last_name  age  \\\n",
       "0            11.0   Anamaria      Bauer   45   \n",
       "1            30.0     Mickey  Wilkerson   28   \n",
       "2            44.0     Mickey  Wilkerson   28   \n",
       "3            53.0     Mickey  Wilkerson   28   \n",
       "4            36.0     Mickey  Wilkerson   28   \n",
       "\n",
       "                                    city   reg_date      plan churn_date  \n",
       "0  Atlanta-Sandy Springs-Roswell, GA MSA 2018-12-24  ultimate        NaT  \n",
       "1        Seattle-Tacoma-Bellevue, WA MSA 2018-08-13      surf        NaT  \n",
       "2        Seattle-Tacoma-Bellevue, WA MSA 2018-08-13      surf        NaT  \n",
       "3        Seattle-Tacoma-Bellevue, WA MSA 2018-08-13      surf        NaT  \n",
       "4        Seattle-Tacoma-Bellevue, WA MSA 2018-08-13      surf        NaT  "
      ]
     },
     "execution_count": 30,
     "metadata": {},
     "output_type": "execute_result"
    }
   ],
   "source": [
    "df_final_full.head()"
   ]
  },
  {
   "cell_type": "markdown",
   "id": "9a6c4f49-e69a-4c6a-a281-40b51ecc1353",
   "metadata": {},
   "source": [
    "### Calculando Receita Mensal para cada Usuário"
   ]
  },
  {
   "cell_type": "code",
   "execution_count": 31,
   "id": "7ec58cac-5d49-4140-adfd-79af878a31f6",
   "metadata": {
    "tags": []
   },
   "outputs": [],
   "source": [
    "df_final_plans = df_final_full.merge(df_plans,left_on='plan' ,right_on='plan_name',how=\"left\")"
   ]
  },
  {
   "cell_type": "code",
   "execution_count": 32,
   "id": "f896006b-fbd5-4c3d-8a2e-639ea4fe7eb5",
   "metadata": {
    "tags": []
   },
   "outputs": [],
   "source": [
    "def preencher_exceeded_plans(row):\n",
    "    if row['plan_name'] == 'surf':\n",
    "        if row['total_duration_calls'] > row['minutes_included']:\n",
    "            exceeded_calls = int(row['total_duration_calls']) - int(row['minutes_included']) + 1\n",
    "        else:\n",
    "            exceeded_calls = 0\n",
    "\n",
    "        if row['total_mb_used_internet'] > row['mb_per_month_included']:\n",
    "            exceeded_internet = int(int(row['total_mb_used_internet']) - int(row['mb_per_month_included'])) / 1024 + 1\n",
    "        else:\n",
    "            exceeded_internet = 0\n",
    "\n",
    "        if row['count_messages'] > row['messages_included']:\n",
    "            exceeded_messages = int(row['count_messages']) - int(row['messages_included'])\n",
    "        else:\n",
    "            exceeded_messages = 0\n",
    "\n",
    "    elif row['plan_name'] == 'ultimate':\n",
    "        if row['total_duration_calls'] > row['minutes_included']:\n",
    "            exceeded_calls = float(row['total_duration_calls']) - float(row['minutes_included'])\n",
    "        else:\n",
    "            exceeded_calls = 0\n",
    "\n",
    "        if row['total_mb_used_internet'] > row['mb_per_month_included']:\n",
    "            exceeded_internet = int(int(row['total_mb_used_internet']) - int(row['mb_per_month_included'])) / 1024 + 1\n",
    "        else:\n",
    "            exceeded_internet = 0\n",
    "\n",
    "        if row['count_messages'] > row['messages_included']:\n",
    "            exceeded_messages = int(row['count_messages']) - int(row['messages_included'])\n",
    "        else:\n",
    "            exceeded_messages = 0\n",
    "\n",
    "    return exceeded_calls, exceeded_internet, exceeded_messages\n",
    "\n"
   ]
  },
  {
   "cell_type": "code",
   "execution_count": 33,
   "id": "14f57215-d1db-4306-b8d7-6e7735fe0522",
   "metadata": {
    "tags": []
   },
   "outputs": [],
   "source": [
    "exceeded_values = df_final_plans.apply(preencher_exceeded_plans, axis=1)\n",
    "df_final_plans['exceeded_calls'] = [value[0] for value in exceeded_values]\n",
    "df_final_plans['exceeded_internet'] = [value[1] for value in exceeded_values]\n",
    "df_final_plans['exceeded_messages'] = [value[2] for value in exceeded_values]"
   ]
  },
  {
   "cell_type": "markdown",
   "id": "4e370068-4975-4b79-87c9-847b2dbf8111",
   "metadata": {},
   "source": [
    "Nesta função combinada, verificamos o valor do plano (plan_name) e, em seguida, calculamos os valores excedentes para chamadas, internet e mensagens com base nas condições fornecidas. Os valores excedentes são armazenados nas variáveis exceeded_calls, exceeded_internet e exceeded_messages."
   ]
  },
  {
   "cell_type": "code",
   "execution_count": 34,
   "id": "9920676d-987f-463f-b881-27ffaf862aad",
   "metadata": {
    "tags": []
   },
   "outputs": [
    {
     "data": {
      "text/html": [
       "<div>\n",
       "<style scoped>\n",
       "    .dataframe tbody tr th:only-of-type {\n",
       "        vertical-align: middle;\n",
       "    }\n",
       "\n",
       "    .dataframe tbody tr th {\n",
       "        vertical-align: top;\n",
       "    }\n",
       "\n",
       "    .dataframe thead th {\n",
       "        text-align: right;\n",
       "    }\n",
       "</style>\n",
       "<table border=\"1\" class=\"dataframe\">\n",
       "  <thead>\n",
       "    <tr style=\"text-align: right;\">\n",
       "      <th></th>\n",
       "      <th>user_id</th>\n",
       "      <th>month</th>\n",
       "      <th>total_mb_used_internet</th>\n",
       "      <th>total_duration_calls</th>\n",
       "      <th>count_messages</th>\n",
       "      <th>first_name</th>\n",
       "      <th>last_name</th>\n",
       "      <th>age</th>\n",
       "      <th>city</th>\n",
       "      <th>reg_date</th>\n",
       "      <th>...</th>\n",
       "      <th>mb_per_month_included</th>\n",
       "      <th>minutes_included</th>\n",
       "      <th>usd_monthly_pay</th>\n",
       "      <th>usd_per_gb</th>\n",
       "      <th>usd_per_message</th>\n",
       "      <th>usd_per_minute</th>\n",
       "      <th>plan_name</th>\n",
       "      <th>exceeded_calls</th>\n",
       "      <th>exceeded_internet</th>\n",
       "      <th>exceeded_messages</th>\n",
       "    </tr>\n",
       "  </thead>\n",
       "  <tbody>\n",
       "    <tr>\n",
       "      <th>0</th>\n",
       "      <td>1000</td>\n",
       "      <td>12.0</td>\n",
       "      <td>1901.47</td>\n",
       "      <td>116.83</td>\n",
       "      <td>11.0</td>\n",
       "      <td>Anamaria</td>\n",
       "      <td>Bauer</td>\n",
       "      <td>45</td>\n",
       "      <td>Atlanta-Sandy Springs-Roswell, GA MSA</td>\n",
       "      <td>2018-12-24</td>\n",
       "      <td>...</td>\n",
       "      <td>30720</td>\n",
       "      <td>3000</td>\n",
       "      <td>70</td>\n",
       "      <td>7</td>\n",
       "      <td>0.01</td>\n",
       "      <td>0.01</td>\n",
       "      <td>ultimate</td>\n",
       "      <td>0</td>\n",
       "      <td>0.000000</td>\n",
       "      <td>0</td>\n",
       "    </tr>\n",
       "    <tr>\n",
       "      <th>1</th>\n",
       "      <td>1001</td>\n",
       "      <td>8.0</td>\n",
       "      <td>6919.15</td>\n",
       "      <td>171.14</td>\n",
       "      <td>30.0</td>\n",
       "      <td>Mickey</td>\n",
       "      <td>Wilkerson</td>\n",
       "      <td>28</td>\n",
       "      <td>Seattle-Tacoma-Bellevue, WA MSA</td>\n",
       "      <td>2018-08-13</td>\n",
       "      <td>...</td>\n",
       "      <td>15360</td>\n",
       "      <td>500</td>\n",
       "      <td>20</td>\n",
       "      <td>10</td>\n",
       "      <td>0.03</td>\n",
       "      <td>0.03</td>\n",
       "      <td>surf</td>\n",
       "      <td>0</td>\n",
       "      <td>0.000000</td>\n",
       "      <td>0</td>\n",
       "    </tr>\n",
       "    <tr>\n",
       "      <th>2</th>\n",
       "      <td>1001</td>\n",
       "      <td>9.0</td>\n",
       "      <td>13314.82</td>\n",
       "      <td>297.69</td>\n",
       "      <td>44.0</td>\n",
       "      <td>Mickey</td>\n",
       "      <td>Wilkerson</td>\n",
       "      <td>28</td>\n",
       "      <td>Seattle-Tacoma-Bellevue, WA MSA</td>\n",
       "      <td>2018-08-13</td>\n",
       "      <td>...</td>\n",
       "      <td>15360</td>\n",
       "      <td>500</td>\n",
       "      <td>20</td>\n",
       "      <td>10</td>\n",
       "      <td>0.03</td>\n",
       "      <td>0.03</td>\n",
       "      <td>surf</td>\n",
       "      <td>0</td>\n",
       "      <td>0.000000</td>\n",
       "      <td>0</td>\n",
       "    </tr>\n",
       "    <tr>\n",
       "      <th>3</th>\n",
       "      <td>1001</td>\n",
       "      <td>10.0</td>\n",
       "      <td>22330.49</td>\n",
       "      <td>374.11</td>\n",
       "      <td>53.0</td>\n",
       "      <td>Mickey</td>\n",
       "      <td>Wilkerson</td>\n",
       "      <td>28</td>\n",
       "      <td>Seattle-Tacoma-Bellevue, WA MSA</td>\n",
       "      <td>2018-08-13</td>\n",
       "      <td>...</td>\n",
       "      <td>15360</td>\n",
       "      <td>500</td>\n",
       "      <td>20</td>\n",
       "      <td>10</td>\n",
       "      <td>0.03</td>\n",
       "      <td>0.03</td>\n",
       "      <td>surf</td>\n",
       "      <td>0</td>\n",
       "      <td>7.806641</td>\n",
       "      <td>3</td>\n",
       "    </tr>\n",
       "    <tr>\n",
       "      <th>4</th>\n",
       "      <td>1001</td>\n",
       "      <td>11.0</td>\n",
       "      <td>18504.30</td>\n",
       "      <td>404.59</td>\n",
       "      <td>36.0</td>\n",
       "      <td>Mickey</td>\n",
       "      <td>Wilkerson</td>\n",
       "      <td>28</td>\n",
       "      <td>Seattle-Tacoma-Bellevue, WA MSA</td>\n",
       "      <td>2018-08-13</td>\n",
       "      <td>...</td>\n",
       "      <td>15360</td>\n",
       "      <td>500</td>\n",
       "      <td>20</td>\n",
       "      <td>10</td>\n",
       "      <td>0.03</td>\n",
       "      <td>0.03</td>\n",
       "      <td>surf</td>\n",
       "      <td>0</td>\n",
       "      <td>4.070312</td>\n",
       "      <td>0</td>\n",
       "    </tr>\n",
       "    <tr>\n",
       "      <th>...</th>\n",
       "      <td>...</td>\n",
       "      <td>...</td>\n",
       "      <td>...</td>\n",
       "      <td>...</td>\n",
       "      <td>...</td>\n",
       "      <td>...</td>\n",
       "      <td>...</td>\n",
       "      <td>...</td>\n",
       "      <td>...</td>\n",
       "      <td>...</td>\n",
       "      <td>...</td>\n",
       "      <td>...</td>\n",
       "      <td>...</td>\n",
       "      <td>...</td>\n",
       "      <td>...</td>\n",
       "      <td>...</td>\n",
       "      <td>...</td>\n",
       "      <td>...</td>\n",
       "      <td>...</td>\n",
       "      <td>...</td>\n",
       "      <td>...</td>\n",
       "    </tr>\n",
       "    <tr>\n",
       "      <th>2395</th>\n",
       "      <td>1499</td>\n",
       "      <td>9.0</td>\n",
       "      <td>12984.76</td>\n",
       "      <td>330.37</td>\n",
       "      <td>NaN</td>\n",
       "      <td>Shena</td>\n",
       "      <td>Dickson</td>\n",
       "      <td>37</td>\n",
       "      <td>Orlando-Kissimmee-Sanford, FL MSA</td>\n",
       "      <td>2018-05-06</td>\n",
       "      <td>...</td>\n",
       "      <td>15360</td>\n",
       "      <td>500</td>\n",
       "      <td>20</td>\n",
       "      <td>10</td>\n",
       "      <td>0.03</td>\n",
       "      <td>0.03</td>\n",
       "      <td>surf</td>\n",
       "      <td>0</td>\n",
       "      <td>0.000000</td>\n",
       "      <td>0</td>\n",
       "    </tr>\n",
       "    <tr>\n",
       "      <th>2396</th>\n",
       "      <td>1499</td>\n",
       "      <td>10.0</td>\n",
       "      <td>19492.43</td>\n",
       "      <td>363.28</td>\n",
       "      <td>NaN</td>\n",
       "      <td>Shena</td>\n",
       "      <td>Dickson</td>\n",
       "      <td>37</td>\n",
       "      <td>Orlando-Kissimmee-Sanford, FL MSA</td>\n",
       "      <td>2018-05-06</td>\n",
       "      <td>...</td>\n",
       "      <td>15360</td>\n",
       "      <td>500</td>\n",
       "      <td>20</td>\n",
       "      <td>10</td>\n",
       "      <td>0.03</td>\n",
       "      <td>0.03</td>\n",
       "      <td>surf</td>\n",
       "      <td>0</td>\n",
       "      <td>5.035156</td>\n",
       "      <td>0</td>\n",
       "    </tr>\n",
       "    <tr>\n",
       "      <th>2397</th>\n",
       "      <td>1499</td>\n",
       "      <td>11.0</td>\n",
       "      <td>16813.83</td>\n",
       "      <td>288.56</td>\n",
       "      <td>NaN</td>\n",
       "      <td>Shena</td>\n",
       "      <td>Dickson</td>\n",
       "      <td>37</td>\n",
       "      <td>Orlando-Kissimmee-Sanford, FL MSA</td>\n",
       "      <td>2018-05-06</td>\n",
       "      <td>...</td>\n",
       "      <td>15360</td>\n",
       "      <td>500</td>\n",
       "      <td>20</td>\n",
       "      <td>10</td>\n",
       "      <td>0.03</td>\n",
       "      <td>0.03</td>\n",
       "      <td>surf</td>\n",
       "      <td>0</td>\n",
       "      <td>2.418945</td>\n",
       "      <td>0</td>\n",
       "    </tr>\n",
       "    <tr>\n",
       "      <th>2398</th>\n",
       "      <td>1499</td>\n",
       "      <td>12.0</td>\n",
       "      <td>22059.21</td>\n",
       "      <td>468.10</td>\n",
       "      <td>NaN</td>\n",
       "      <td>Shena</td>\n",
       "      <td>Dickson</td>\n",
       "      <td>37</td>\n",
       "      <td>Orlando-Kissimmee-Sanford, FL MSA</td>\n",
       "      <td>2018-05-06</td>\n",
       "      <td>...</td>\n",
       "      <td>15360</td>\n",
       "      <td>500</td>\n",
       "      <td>20</td>\n",
       "      <td>10</td>\n",
       "      <td>0.03</td>\n",
       "      <td>0.03</td>\n",
       "      <td>surf</td>\n",
       "      <td>0</td>\n",
       "      <td>7.541992</td>\n",
       "      <td>0</td>\n",
       "    </tr>\n",
       "    <tr>\n",
       "      <th>2399</th>\n",
       "      <td>1499</td>\n",
       "      <td>0.0</td>\n",
       "      <td>NaN</td>\n",
       "      <td>NaN</td>\n",
       "      <td>1.0</td>\n",
       "      <td>Shena</td>\n",
       "      <td>Dickson</td>\n",
       "      <td>37</td>\n",
       "      <td>Orlando-Kissimmee-Sanford, FL MSA</td>\n",
       "      <td>2018-05-06</td>\n",
       "      <td>...</td>\n",
       "      <td>15360</td>\n",
       "      <td>500</td>\n",
       "      <td>20</td>\n",
       "      <td>10</td>\n",
       "      <td>0.03</td>\n",
       "      <td>0.03</td>\n",
       "      <td>surf</td>\n",
       "      <td>0</td>\n",
       "      <td>0.000000</td>\n",
       "      <td>0</td>\n",
       "    </tr>\n",
       "  </tbody>\n",
       "</table>\n",
       "<p>2400 rows × 23 columns</p>\n",
       "</div>"
      ],
      "text/plain": [
       "      user_id  month  total_mb_used_internet  total_duration_calls  \\\n",
       "0        1000   12.0                 1901.47                116.83   \n",
       "1        1001    8.0                 6919.15                171.14   \n",
       "2        1001    9.0                13314.82                297.69   \n",
       "3        1001   10.0                22330.49                374.11   \n",
       "4        1001   11.0                18504.30                404.59   \n",
       "...       ...    ...                     ...                   ...   \n",
       "2395     1499    9.0                12984.76                330.37   \n",
       "2396     1499   10.0                19492.43                363.28   \n",
       "2397     1499   11.0                16813.83                288.56   \n",
       "2398     1499   12.0                22059.21                468.10   \n",
       "2399     1499    0.0                     NaN                   NaN   \n",
       "\n",
       "      count_messages first_name  last_name  age  \\\n",
       "0               11.0   Anamaria      Bauer   45   \n",
       "1               30.0     Mickey  Wilkerson   28   \n",
       "2               44.0     Mickey  Wilkerson   28   \n",
       "3               53.0     Mickey  Wilkerson   28   \n",
       "4               36.0     Mickey  Wilkerson   28   \n",
       "...              ...        ...        ...  ...   \n",
       "2395             NaN      Shena    Dickson   37   \n",
       "2396             NaN      Shena    Dickson   37   \n",
       "2397             NaN      Shena    Dickson   37   \n",
       "2398             NaN      Shena    Dickson   37   \n",
       "2399             1.0      Shena    Dickson   37   \n",
       "\n",
       "                                       city   reg_date  ...  \\\n",
       "0     Atlanta-Sandy Springs-Roswell, GA MSA 2018-12-24  ...   \n",
       "1           Seattle-Tacoma-Bellevue, WA MSA 2018-08-13  ...   \n",
       "2           Seattle-Tacoma-Bellevue, WA MSA 2018-08-13  ...   \n",
       "3           Seattle-Tacoma-Bellevue, WA MSA 2018-08-13  ...   \n",
       "4           Seattle-Tacoma-Bellevue, WA MSA 2018-08-13  ...   \n",
       "...                                     ...        ...  ...   \n",
       "2395      Orlando-Kissimmee-Sanford, FL MSA 2018-05-06  ...   \n",
       "2396      Orlando-Kissimmee-Sanford, FL MSA 2018-05-06  ...   \n",
       "2397      Orlando-Kissimmee-Sanford, FL MSA 2018-05-06  ...   \n",
       "2398      Orlando-Kissimmee-Sanford, FL MSA 2018-05-06  ...   \n",
       "2399      Orlando-Kissimmee-Sanford, FL MSA 2018-05-06  ...   \n",
       "\n",
       "     mb_per_month_included minutes_included  usd_monthly_pay  usd_per_gb  \\\n",
       "0                    30720             3000               70           7   \n",
       "1                    15360              500               20          10   \n",
       "2                    15360              500               20          10   \n",
       "3                    15360              500               20          10   \n",
       "4                    15360              500               20          10   \n",
       "...                    ...              ...              ...         ...   \n",
       "2395                 15360              500               20          10   \n",
       "2396                 15360              500               20          10   \n",
       "2397                 15360              500               20          10   \n",
       "2398                 15360              500               20          10   \n",
       "2399                 15360              500               20          10   \n",
       "\n",
       "      usd_per_message  usd_per_minute  plan_name  exceeded_calls  \\\n",
       "0                0.01            0.01   ultimate               0   \n",
       "1                0.03            0.03       surf               0   \n",
       "2                0.03            0.03       surf               0   \n",
       "3                0.03            0.03       surf               0   \n",
       "4                0.03            0.03       surf               0   \n",
       "...               ...             ...        ...             ...   \n",
       "2395             0.03            0.03       surf               0   \n",
       "2396             0.03            0.03       surf               0   \n",
       "2397             0.03            0.03       surf               0   \n",
       "2398             0.03            0.03       surf               0   \n",
       "2399             0.03            0.03       surf               0   \n",
       "\n",
       "      exceeded_internet exceeded_messages  \n",
       "0              0.000000                 0  \n",
       "1              0.000000                 0  \n",
       "2              0.000000                 0  \n",
       "3              7.806641                 3  \n",
       "4              4.070312                 0  \n",
       "...                 ...               ...  \n",
       "2395           0.000000                 0  \n",
       "2396           5.035156                 0  \n",
       "2397           2.418945                 0  \n",
       "2398           7.541992                 0  \n",
       "2399           0.000000                 0  \n",
       "\n",
       "[2400 rows x 23 columns]"
      ]
     },
     "execution_count": 34,
     "metadata": {},
     "output_type": "execute_result"
    }
   ],
   "source": [
    "df_final_plans"
   ]
  },
  {
   "cell_type": "markdown",
   "id": "404171a3-2186-4850-a5c8-a43c0fff3516",
   "metadata": {},
   "source": [
    "Agora iremos calcular a receita total de cada usuáio por mês mediante ao plano que usa, já incluido com o preço e penalidades em um somatório , que resultará num valor em dolar que usuário deve pagar."
   ]
  },
  {
   "cell_type": "code",
   "execution_count": 35,
   "id": "a565d728-3a77-4c1b-8495-39358a789ade",
   "metadata": {
    "tags": []
   },
   "outputs": [],
   "source": [
    "df_final_plans['revenue'] = (((df_final_plans['exceeded_calls'])*df_final_plans['usd_per_minute'])+((df_final_plans['exceeded_internet'])*df_final_plans['usd_per_gb'])+((df_final_plans['exceeded_messages'])*df_final_plans['usd_per_message']))+df_final_plans['usd_monthly_pay']"
   ]
  },
  {
   "cell_type": "code",
   "execution_count": 36,
   "id": "607c8c85-c8fe-43fd-800a-4bab55d3cd1f",
   "metadata": {
    "tags": []
   },
   "outputs": [
    {
     "data": {
      "text/html": [
       "<div>\n",
       "<style scoped>\n",
       "    .dataframe tbody tr th:only-of-type {\n",
       "        vertical-align: middle;\n",
       "    }\n",
       "\n",
       "    .dataframe tbody tr th {\n",
       "        vertical-align: top;\n",
       "    }\n",
       "\n",
       "    .dataframe thead th {\n",
       "        text-align: right;\n",
       "    }\n",
       "</style>\n",
       "<table border=\"1\" class=\"dataframe\">\n",
       "  <thead>\n",
       "    <tr style=\"text-align: right;\">\n",
       "      <th></th>\n",
       "      <th>user_id</th>\n",
       "      <th>month</th>\n",
       "      <th>total_mb_used_internet</th>\n",
       "      <th>total_duration_calls</th>\n",
       "      <th>count_messages</th>\n",
       "      <th>first_name</th>\n",
       "      <th>last_name</th>\n",
       "      <th>age</th>\n",
       "      <th>city</th>\n",
       "      <th>reg_date</th>\n",
       "      <th>...</th>\n",
       "      <th>minutes_included</th>\n",
       "      <th>usd_monthly_pay</th>\n",
       "      <th>usd_per_gb</th>\n",
       "      <th>usd_per_message</th>\n",
       "      <th>usd_per_minute</th>\n",
       "      <th>plan_name</th>\n",
       "      <th>exceeded_calls</th>\n",
       "      <th>exceeded_internet</th>\n",
       "      <th>exceeded_messages</th>\n",
       "      <th>revenue</th>\n",
       "    </tr>\n",
       "  </thead>\n",
       "  <tbody>\n",
       "    <tr>\n",
       "      <th>1837</th>\n",
       "      <td>1379</td>\n",
       "      <td>12.0</td>\n",
       "      <td>70931.59</td>\n",
       "      <td>1045.24</td>\n",
       "      <td>126.0</td>\n",
       "      <td>Jarrett</td>\n",
       "      <td>Spencer</td>\n",
       "      <td>34</td>\n",
       "      <td>Grand Rapids-Kentwood, MI MSA</td>\n",
       "      <td>2018-10-18</td>\n",
       "      <td>...</td>\n",
       "      <td>500</td>\n",
       "      <td>20</td>\n",
       "      <td>10</td>\n",
       "      <td>0.03</td>\n",
       "      <td>0.03</td>\n",
       "      <td>surf</td>\n",
       "      <td>546</td>\n",
       "      <td>55.268555</td>\n",
       "      <td>76</td>\n",
       "      <td>591.345547</td>\n",
       "    </tr>\n",
       "    <tr>\n",
       "      <th>596</th>\n",
       "      <td>1121</td>\n",
       "      <td>12.0</td>\n",
       "      <td>66863.89</td>\n",
       "      <td>NaN</td>\n",
       "      <td>97.0</td>\n",
       "      <td>Kathaleen</td>\n",
       "      <td>Albert</td>\n",
       "      <td>34</td>\n",
       "      <td>Miami-Fort Lauderdale-West Palm Beach, FL MSA</td>\n",
       "      <td>2018-03-13</td>\n",
       "      <td>...</td>\n",
       "      <td>500</td>\n",
       "      <td>20</td>\n",
       "      <td>10</td>\n",
       "      <td>0.03</td>\n",
       "      <td>0.03</td>\n",
       "      <td>surf</td>\n",
       "      <td>0</td>\n",
       "      <td>51.295898</td>\n",
       "      <td>47</td>\n",
       "      <td>534.368984</td>\n",
       "    </tr>\n",
       "    <tr>\n",
       "      <th>1422</th>\n",
       "      <td>1292</td>\n",
       "      <td>12.0</td>\n",
       "      <td>52034.66</td>\n",
       "      <td>132.65</td>\n",
       "      <td>NaN</td>\n",
       "      <td>Cassey</td>\n",
       "      <td>French</td>\n",
       "      <td>42</td>\n",
       "      <td>Dallas-Fort Worth-Arlington, TX MSA</td>\n",
       "      <td>2018-01-27</td>\n",
       "      <td>...</td>\n",
       "      <td>500</td>\n",
       "      <td>20</td>\n",
       "      <td>10</td>\n",
       "      <td>0.03</td>\n",
       "      <td>0.03</td>\n",
       "      <td>surf</td>\n",
       "      <td>0</td>\n",
       "      <td>36.814453</td>\n",
       "      <td>0</td>\n",
       "      <td>388.144531</td>\n",
       "    </tr>\n",
       "    <tr>\n",
       "      <th>1418</th>\n",
       "      <td>1292</td>\n",
       "      <td>8.0</td>\n",
       "      <td>51809.35</td>\n",
       "      <td>304.67</td>\n",
       "      <td>NaN</td>\n",
       "      <td>Cassey</td>\n",
       "      <td>French</td>\n",
       "      <td>42</td>\n",
       "      <td>Dallas-Fort Worth-Arlington, TX MSA</td>\n",
       "      <td>2018-01-27</td>\n",
       "      <td>...</td>\n",
       "      <td>500</td>\n",
       "      <td>20</td>\n",
       "      <td>10</td>\n",
       "      <td>0.03</td>\n",
       "      <td>0.03</td>\n",
       "      <td>surf</td>\n",
       "      <td>0</td>\n",
       "      <td>36.594727</td>\n",
       "      <td>0</td>\n",
       "      <td>385.947266</td>\n",
       "    </tr>\n",
       "    <tr>\n",
       "      <th>1182</th>\n",
       "      <td>1240</td>\n",
       "      <td>8.0</td>\n",
       "      <td>49950.58</td>\n",
       "      <td>1038.88</td>\n",
       "      <td>15.0</td>\n",
       "      <td>Drema</td>\n",
       "      <td>Lopez</td>\n",
       "      <td>61</td>\n",
       "      <td>Baton Rouge, LA MSA</td>\n",
       "      <td>2018-03-18</td>\n",
       "      <td>...</td>\n",
       "      <td>500</td>\n",
       "      <td>20</td>\n",
       "      <td>10</td>\n",
       "      <td>0.03</td>\n",
       "      <td>0.03</td>\n",
       "      <td>surf</td>\n",
       "      <td>539</td>\n",
       "      <td>34.779297</td>\n",
       "      <td>0</td>\n",
       "      <td>383.962969</td>\n",
       "    </tr>\n",
       "    <tr>\n",
       "      <th>...</th>\n",
       "      <td>...</td>\n",
       "      <td>...</td>\n",
       "      <td>...</td>\n",
       "      <td>...</td>\n",
       "      <td>...</td>\n",
       "      <td>...</td>\n",
       "      <td>...</td>\n",
       "      <td>...</td>\n",
       "      <td>...</td>\n",
       "      <td>...</td>\n",
       "      <td>...</td>\n",
       "      <td>...</td>\n",
       "      <td>...</td>\n",
       "      <td>...</td>\n",
       "      <td>...</td>\n",
       "      <td>...</td>\n",
       "      <td>...</td>\n",
       "      <td>...</td>\n",
       "      <td>...</td>\n",
       "      <td>...</td>\n",
       "      <td>...</td>\n",
       "    </tr>\n",
       "    <tr>\n",
       "      <th>1287</th>\n",
       "      <td>1259</td>\n",
       "      <td>10.0</td>\n",
       "      <td>1953.30</td>\n",
       "      <td>92.40</td>\n",
       "      <td>41.0</td>\n",
       "      <td>Etsuko</td>\n",
       "      <td>Perry</td>\n",
       "      <td>63</td>\n",
       "      <td>Philadelphia-Camden-Wilmington, PA-NJ-DE-MD MSA</td>\n",
       "      <td>2018-03-16</td>\n",
       "      <td>...</td>\n",
       "      <td>500</td>\n",
       "      <td>20</td>\n",
       "      <td>10</td>\n",
       "      <td>0.03</td>\n",
       "      <td>0.03</td>\n",
       "      <td>surf</td>\n",
       "      <td>0</td>\n",
       "      <td>0.000000</td>\n",
       "      <td>0</td>\n",
       "      <td>20.000000</td>\n",
       "    </tr>\n",
       "    <tr>\n",
       "      <th>1288</th>\n",
       "      <td>1259</td>\n",
       "      <td>11.0</td>\n",
       "      <td>3239.70</td>\n",
       "      <td>99.09</td>\n",
       "      <td>32.0</td>\n",
       "      <td>Etsuko</td>\n",
       "      <td>Perry</td>\n",
       "      <td>63</td>\n",
       "      <td>Philadelphia-Camden-Wilmington, PA-NJ-DE-MD MSA</td>\n",
       "      <td>2018-03-16</td>\n",
       "      <td>...</td>\n",
       "      <td>500</td>\n",
       "      <td>20</td>\n",
       "      <td>10</td>\n",
       "      <td>0.03</td>\n",
       "      <td>0.03</td>\n",
       "      <td>surf</td>\n",
       "      <td>0</td>\n",
       "      <td>0.000000</td>\n",
       "      <td>0</td>\n",
       "      <td>20.000000</td>\n",
       "    </tr>\n",
       "    <tr>\n",
       "      <th>1289</th>\n",
       "      <td>1259</td>\n",
       "      <td>12.0</td>\n",
       "      <td>1078.27</td>\n",
       "      <td>177.98</td>\n",
       "      <td>36.0</td>\n",
       "      <td>Etsuko</td>\n",
       "      <td>Perry</td>\n",
       "      <td>63</td>\n",
       "      <td>Philadelphia-Camden-Wilmington, PA-NJ-DE-MD MSA</td>\n",
       "      <td>2018-03-16</td>\n",
       "      <td>...</td>\n",
       "      <td>500</td>\n",
       "      <td>20</td>\n",
       "      <td>10</td>\n",
       "      <td>0.03</td>\n",
       "      <td>0.03</td>\n",
       "      <td>surf</td>\n",
       "      <td>0</td>\n",
       "      <td>0.000000</td>\n",
       "      <td>0</td>\n",
       "      <td>20.000000</td>\n",
       "    </tr>\n",
       "    <tr>\n",
       "      <th>1291</th>\n",
       "      <td>1261</td>\n",
       "      <td>2.0</td>\n",
       "      <td>7045.44</td>\n",
       "      <td>53.34</td>\n",
       "      <td>11.0</td>\n",
       "      <td>Dusti</td>\n",
       "      <td>Forbes</td>\n",
       "      <td>31</td>\n",
       "      <td>Kansas City, MO-KS MSA</td>\n",
       "      <td>2018-02-22</td>\n",
       "      <td>...</td>\n",
       "      <td>500</td>\n",
       "      <td>20</td>\n",
       "      <td>10</td>\n",
       "      <td>0.03</td>\n",
       "      <td>0.03</td>\n",
       "      <td>surf</td>\n",
       "      <td>0</td>\n",
       "      <td>0.000000</td>\n",
       "      <td>0</td>\n",
       "      <td>20.000000</td>\n",
       "    </tr>\n",
       "    <tr>\n",
       "      <th>2399</th>\n",
       "      <td>1499</td>\n",
       "      <td>0.0</td>\n",
       "      <td>NaN</td>\n",
       "      <td>NaN</td>\n",
       "      <td>1.0</td>\n",
       "      <td>Shena</td>\n",
       "      <td>Dickson</td>\n",
       "      <td>37</td>\n",
       "      <td>Orlando-Kissimmee-Sanford, FL MSA</td>\n",
       "      <td>2018-05-06</td>\n",
       "      <td>...</td>\n",
       "      <td>500</td>\n",
       "      <td>20</td>\n",
       "      <td>10</td>\n",
       "      <td>0.03</td>\n",
       "      <td>0.03</td>\n",
       "      <td>surf</td>\n",
       "      <td>0</td>\n",
       "      <td>0.000000</td>\n",
       "      <td>0</td>\n",
       "      <td>20.000000</td>\n",
       "    </tr>\n",
       "  </tbody>\n",
       "</table>\n",
       "<p>2400 rows × 24 columns</p>\n",
       "</div>"
      ],
      "text/plain": [
       "      user_id  month  total_mb_used_internet  total_duration_calls  \\\n",
       "1837     1379   12.0                70931.59               1045.24   \n",
       "596      1121   12.0                66863.89                   NaN   \n",
       "1422     1292   12.0                52034.66                132.65   \n",
       "1418     1292    8.0                51809.35                304.67   \n",
       "1182     1240    8.0                49950.58               1038.88   \n",
       "...       ...    ...                     ...                   ...   \n",
       "1287     1259   10.0                 1953.30                 92.40   \n",
       "1288     1259   11.0                 3239.70                 99.09   \n",
       "1289     1259   12.0                 1078.27                177.98   \n",
       "1291     1261    2.0                 7045.44                 53.34   \n",
       "2399     1499    0.0                     NaN                   NaN   \n",
       "\n",
       "      count_messages first_name last_name  age  \\\n",
       "1837           126.0    Jarrett   Spencer   34   \n",
       "596             97.0  Kathaleen    Albert   34   \n",
       "1422             NaN     Cassey    French   42   \n",
       "1418             NaN     Cassey    French   42   \n",
       "1182            15.0      Drema     Lopez   61   \n",
       "...              ...        ...       ...  ...   \n",
       "1287            41.0     Etsuko     Perry   63   \n",
       "1288            32.0     Etsuko     Perry   63   \n",
       "1289            36.0     Etsuko     Perry   63   \n",
       "1291            11.0      Dusti    Forbes   31   \n",
       "2399             1.0      Shena   Dickson   37   \n",
       "\n",
       "                                                 city   reg_date  ...  \\\n",
       "1837                    Grand Rapids-Kentwood, MI MSA 2018-10-18  ...   \n",
       "596     Miami-Fort Lauderdale-West Palm Beach, FL MSA 2018-03-13  ...   \n",
       "1422              Dallas-Fort Worth-Arlington, TX MSA 2018-01-27  ...   \n",
       "1418              Dallas-Fort Worth-Arlington, TX MSA 2018-01-27  ...   \n",
       "1182                              Baton Rouge, LA MSA 2018-03-18  ...   \n",
       "...                                               ...        ...  ...   \n",
       "1287  Philadelphia-Camden-Wilmington, PA-NJ-DE-MD MSA 2018-03-16  ...   \n",
       "1288  Philadelphia-Camden-Wilmington, PA-NJ-DE-MD MSA 2018-03-16  ...   \n",
       "1289  Philadelphia-Camden-Wilmington, PA-NJ-DE-MD MSA 2018-03-16  ...   \n",
       "1291                           Kansas City, MO-KS MSA 2018-02-22  ...   \n",
       "2399                Orlando-Kissimmee-Sanford, FL MSA 2018-05-06  ...   \n",
       "\n",
       "     minutes_included usd_monthly_pay  usd_per_gb  usd_per_message  \\\n",
       "1837              500              20          10             0.03   \n",
       "596               500              20          10             0.03   \n",
       "1422              500              20          10             0.03   \n",
       "1418              500              20          10             0.03   \n",
       "1182              500              20          10             0.03   \n",
       "...               ...             ...         ...              ...   \n",
       "1287              500              20          10             0.03   \n",
       "1288              500              20          10             0.03   \n",
       "1289              500              20          10             0.03   \n",
       "1291              500              20          10             0.03   \n",
       "2399              500              20          10             0.03   \n",
       "\n",
       "      usd_per_minute  plan_name  exceeded_calls  exceeded_internet  \\\n",
       "1837            0.03       surf             546          55.268555   \n",
       "596             0.03       surf               0          51.295898   \n",
       "1422            0.03       surf               0          36.814453   \n",
       "1418            0.03       surf               0          36.594727   \n",
       "1182            0.03       surf             539          34.779297   \n",
       "...              ...        ...             ...                ...   \n",
       "1287            0.03       surf               0           0.000000   \n",
       "1288            0.03       surf               0           0.000000   \n",
       "1289            0.03       surf               0           0.000000   \n",
       "1291            0.03       surf               0           0.000000   \n",
       "2399            0.03       surf               0           0.000000   \n",
       "\n",
       "      exceeded_messages     revenue  \n",
       "1837                 76  591.345547  \n",
       "596                  47  534.368984  \n",
       "1422                  0  388.144531  \n",
       "1418                  0  385.947266  \n",
       "1182                  0  383.962969  \n",
       "...                 ...         ...  \n",
       "1287                  0   20.000000  \n",
       "1288                  0   20.000000  \n",
       "1289                  0   20.000000  \n",
       "1291                  0   20.000000  \n",
       "2399                  0   20.000000  \n",
       "\n",
       "[2400 rows x 24 columns]"
      ]
     },
     "execution_count": 36,
     "metadata": {},
     "output_type": "execute_result"
    }
   ],
   "source": [
    "df_final_plans.sort_values(by='revenue', ascending=False)"
   ]
  },
  {
   "cell_type": "code",
   "execution_count": 37,
   "id": "c5e7e381-db77-4152-8047-49362eef9062",
   "metadata": {
    "tags": []
   },
   "outputs": [],
   "source": [
    "df = df_final_plans[['user_id','total_mb_used_internet','total_duration_calls','count_messages','month','first_name','last_name','age','city','reg_date','plan_name','revenue']]"
   ]
  },
  {
   "cell_type": "code",
   "execution_count": null,
   "id": "5c50afb1-043a-4c2e-8b66-f86ab63cbdb7",
   "metadata": {
    "tags": []
   },
   "outputs": [],
   "source": []
  },
  {
   "cell_type": "code",
   "execution_count": 38,
   "id": "8ca1c4f2-64e4-480b-ad28-d2a4c4702cab",
   "metadata": {
    "tags": []
   },
   "outputs": [],
   "source": [
    "df_month_nan = df[df['month']==0]"
   ]
  },
  {
   "cell_type": "code",
   "execution_count": 39,
   "id": "d6a42fae-5dae-45c2-aabe-c0570ebdd8fe",
   "metadata": {
    "tags": []
   },
   "outputs": [
    {
     "data": {
      "text/html": [
       "<div>\n",
       "<style scoped>\n",
       "    .dataframe tbody tr th:only-of-type {\n",
       "        vertical-align: middle;\n",
       "    }\n",
       "\n",
       "    .dataframe tbody tr th {\n",
       "        vertical-align: top;\n",
       "    }\n",
       "\n",
       "    .dataframe thead th {\n",
       "        text-align: right;\n",
       "    }\n",
       "</style>\n",
       "<table border=\"1\" class=\"dataframe\">\n",
       "  <thead>\n",
       "    <tr style=\"text-align: right;\">\n",
       "      <th></th>\n",
       "      <th>user_id</th>\n",
       "      <th>total_mb_used_internet</th>\n",
       "      <th>total_duration_calls</th>\n",
       "      <th>count_messages</th>\n",
       "      <th>month</th>\n",
       "      <th>first_name</th>\n",
       "      <th>last_name</th>\n",
       "      <th>age</th>\n",
       "      <th>city</th>\n",
       "      <th>reg_date</th>\n",
       "      <th>plan_name</th>\n",
       "      <th>revenue</th>\n",
       "    </tr>\n",
       "  </thead>\n",
       "  <tbody>\n",
       "    <tr>\n",
       "      <th>37</th>\n",
       "      <td>1009</td>\n",
       "      <td>NaN</td>\n",
       "      <td>NaN</td>\n",
       "      <td>1.0</td>\n",
       "      <td>0.0</td>\n",
       "      <td>Gerry</td>\n",
       "      <td>Little</td>\n",
       "      <td>19</td>\n",
       "      <td>San Jose-Sunnyvale-Santa Clara, CA MSA</td>\n",
       "      <td>2018-04-22</td>\n",
       "      <td>surf</td>\n",
       "      <td>20.0</td>\n",
       "    </tr>\n",
       "    <tr>\n",
       "      <th>47</th>\n",
       "      <td>1010</td>\n",
       "      <td>NaN</td>\n",
       "      <td>NaN</td>\n",
       "      <td>1.0</td>\n",
       "      <td>0.0</td>\n",
       "      <td>Wilber</td>\n",
       "      <td>Blair</td>\n",
       "      <td>52</td>\n",
       "      <td>Dallas-Fort Worth-Arlington, TX MSA</td>\n",
       "      <td>2018-03-09</td>\n",
       "      <td>surf</td>\n",
       "      <td>20.0</td>\n",
       "    </tr>\n",
       "    <tr>\n",
       "      <th>57</th>\n",
       "      <td>1012</td>\n",
       "      <td>NaN</td>\n",
       "      <td>NaN</td>\n",
       "      <td>1.0</td>\n",
       "      <td>0.0</td>\n",
       "      <td>Jonelle</td>\n",
       "      <td>Mcbride</td>\n",
       "      <td>59</td>\n",
       "      <td>Chicago-Naperville-Elgin, IL-IN-WI MSA</td>\n",
       "      <td>2018-06-28</td>\n",
       "      <td>surf</td>\n",
       "      <td>20.0</td>\n",
       "    </tr>\n",
       "    <tr>\n",
       "      <th>78</th>\n",
       "      <td>1021</td>\n",
       "      <td>NaN</td>\n",
       "      <td>NaN</td>\n",
       "      <td>1.0</td>\n",
       "      <td>0.0</td>\n",
       "      <td>Ricarda</td>\n",
       "      <td>Booker</td>\n",
       "      <td>37</td>\n",
       "      <td>Los Angeles-Long Beach-Anaheim, CA MSA</td>\n",
       "      <td>2018-12-21</td>\n",
       "      <td>surf</td>\n",
       "      <td>20.0</td>\n",
       "    </tr>\n",
       "    <tr>\n",
       "      <th>87</th>\n",
       "      <td>1022</td>\n",
       "      <td>NaN</td>\n",
       "      <td>NaN</td>\n",
       "      <td>1.0</td>\n",
       "      <td>0.0</td>\n",
       "      <td>Bo</td>\n",
       "      <td>Snow</td>\n",
       "      <td>73</td>\n",
       "      <td>New York-Newark-Jersey City, NY-NJ-PA MSA</td>\n",
       "      <td>2018-04-20</td>\n",
       "      <td>surf</td>\n",
       "      <td>20.0</td>\n",
       "    </tr>\n",
       "  </tbody>\n",
       "</table>\n",
       "</div>"
      ],
      "text/plain": [
       "    user_id  total_mb_used_internet  total_duration_calls  count_messages  \\\n",
       "37     1009                     NaN                   NaN             1.0   \n",
       "47     1010                     NaN                   NaN             1.0   \n",
       "57     1012                     NaN                   NaN             1.0   \n",
       "78     1021                     NaN                   NaN             1.0   \n",
       "87     1022                     NaN                   NaN             1.0   \n",
       "\n",
       "    month first_name last_name  age  \\\n",
       "37    0.0      Gerry    Little   19   \n",
       "47    0.0     Wilber     Blair   52   \n",
       "57    0.0    Jonelle   Mcbride   59   \n",
       "78    0.0    Ricarda    Booker   37   \n",
       "87    0.0         Bo      Snow   73   \n",
       "\n",
       "                                         city   reg_date plan_name  revenue  \n",
       "37     San Jose-Sunnyvale-Santa Clara, CA MSA 2018-04-22      surf     20.0  \n",
       "47        Dallas-Fort Worth-Arlington, TX MSA 2018-03-09      surf     20.0  \n",
       "57     Chicago-Naperville-Elgin, IL-IN-WI MSA 2018-06-28      surf     20.0  \n",
       "78     Los Angeles-Long Beach-Anaheim, CA MSA 2018-12-21      surf     20.0  \n",
       "87  New York-Newark-Jersey City, NY-NJ-PA MSA 2018-04-20      surf     20.0  "
      ]
     },
     "execution_count": 39,
     "metadata": {},
     "output_type": "execute_result"
    }
   ],
   "source": [
    "df_month_nan.head(5)"
   ]
  },
  {
   "cell_type": "code",
   "execution_count": 40,
   "id": "67d70ce5-fe7c-4b77-8de5-c9f2f0c86568",
   "metadata": {
    "tags": []
   },
   "outputs": [
    {
     "name": "stdout",
     "output_type": "stream",
     "text": [
      "<class 'pandas.core.frame.DataFrame'>\n",
      "Index: 107 entries, 37 to 2399\n",
      "Data columns (total 12 columns):\n",
      " #   Column                  Non-Null Count  Dtype         \n",
      "---  ------                  --------------  -----         \n",
      " 0   user_id                 107 non-null    int64         \n",
      " 1   total_mb_used_internet  11 non-null     float64       \n",
      " 2   total_duration_calls    19 non-null     float64       \n",
      " 3   count_messages          98 non-null     float64       \n",
      " 4   month                   107 non-null    float64       \n",
      " 5   first_name              107 non-null    object        \n",
      " 6   last_name               107 non-null    object        \n",
      " 7   age                     107 non-null    int64         \n",
      " 8   city                    107 non-null    object        \n",
      " 9   reg_date                107 non-null    datetime64[ns]\n",
      " 10  plan_name               107 non-null    object        \n",
      " 11  revenue                 107 non-null    float64       \n",
      "dtypes: datetime64[ns](1), float64(5), int64(2), object(4)\n",
      "memory usage: 10.9+ KB\n"
     ]
    }
   ],
   "source": [
    "df_month_nan.info()"
   ]
  },
  {
   "cell_type": "code",
   "execution_count": 41,
   "id": "7b4814b1-f544-4283-9e93-bc7a473b76f3",
   "metadata": {
    "tags": []
   },
   "outputs": [
    {
     "data": {
      "text/plain": [
       "4.458333333333334"
      ]
     },
     "execution_count": 41,
     "metadata": {},
     "output_type": "execute_result"
    }
   ],
   "source": [
    "(df_month_nan.shape[0] / df.shape[0]) * 100"
   ]
  },
  {
   "cell_type": "markdown",
   "id": "e577c1a2-219b-4be7-852b-8623837d950f",
   "metadata": {},
   "source": [
    "4% do nosso DataFrame não tem os meses preenchidos, podemos excluir esses dados que não afetará em nossa pesquisa."
   ]
  },
  {
   "cell_type": "code",
   "execution_count": 42,
   "id": "c97170e7-8edb-49d9-adb2-4274d37bb7f1",
   "metadata": {
    "tags": []
   },
   "outputs": [],
   "source": [
    "df = df[df['month']!=0]"
   ]
  },
  {
   "cell_type": "code",
   "execution_count": 43,
   "id": "704fc2f0-fc99-456d-b7a5-0cb5c53c8bed",
   "metadata": {
    "tags": []
   },
   "outputs": [],
   "source": [
    "df['count_messages'] = df['count_messages'].fillna(0)\n",
    "df['total_mb_used_internet'] = df['total_mb_used_internet'].fillna(0)\n",
    "df['total_duration_calls'] = df['total_duration_calls'].fillna(0)"
   ]
  },
  {
   "cell_type": "code",
   "execution_count": 44,
   "id": "02caa7c5-945b-4fb6-94de-1d0581a69854",
   "metadata": {
    "tags": []
   },
   "outputs": [],
   "source": [
    "def format_revenue(revenue):\n",
    "    formatted_revenue = round(revenue, 2)\n",
    "    if revenue * 1000 % 10 > 0:\n",
    "        formatted_revenue += 0.01\n",
    "    return round(formatted_revenue, 2)"
   ]
  },
  {
   "cell_type": "code",
   "execution_count": 45,
   "id": "294444b7-7741-425b-ac9d-fe58a9dcf23f",
   "metadata": {
    "tags": []
   },
   "outputs": [],
   "source": [
    "df['revenue'] = df['revenue'].apply(format_revenue)"
   ]
  },
  {
   "cell_type": "markdown",
   "id": "4d941bb0-7147-45fd-980d-62ad1adf86d9",
   "metadata": {},
   "source": [
    "Essa função format_revenue recebe um valor de receita e o arredonda para duas casas decimais. Se a terceira casa decimal for maior que 0, ela adiciona 0.01 ao valor arredondado."
   ]
  },
  {
   "cell_type": "code",
   "execution_count": 46,
   "id": "d16a33ea-9491-4460-910e-d9d59e6b8285",
   "metadata": {
    "tags": []
   },
   "outputs": [
    {
     "data": {
      "text/html": [
       "<div>\n",
       "<style scoped>\n",
       "    .dataframe tbody tr th:only-of-type {\n",
       "        vertical-align: middle;\n",
       "    }\n",
       "\n",
       "    .dataframe tbody tr th {\n",
       "        vertical-align: top;\n",
       "    }\n",
       "\n",
       "    .dataframe thead th {\n",
       "        text-align: right;\n",
       "    }\n",
       "</style>\n",
       "<table border=\"1\" class=\"dataframe\">\n",
       "  <thead>\n",
       "    <tr style=\"text-align: right;\">\n",
       "      <th></th>\n",
       "      <th>user_id</th>\n",
       "      <th>total_mb_used_internet</th>\n",
       "      <th>total_duration_calls</th>\n",
       "      <th>count_messages</th>\n",
       "      <th>month</th>\n",
       "      <th>first_name</th>\n",
       "      <th>last_name</th>\n",
       "      <th>age</th>\n",
       "      <th>city</th>\n",
       "      <th>reg_date</th>\n",
       "      <th>plan_name</th>\n",
       "      <th>revenue</th>\n",
       "    </tr>\n",
       "  </thead>\n",
       "  <tbody>\n",
       "    <tr>\n",
       "      <th>0</th>\n",
       "      <td>1000</td>\n",
       "      <td>1901.47</td>\n",
       "      <td>116.83</td>\n",
       "      <td>11.0</td>\n",
       "      <td>12.0</td>\n",
       "      <td>Anamaria</td>\n",
       "      <td>Bauer</td>\n",
       "      <td>45</td>\n",
       "      <td>Atlanta-Sandy Springs-Roswell, GA MSA</td>\n",
       "      <td>2018-12-24</td>\n",
       "      <td>ultimate</td>\n",
       "      <td>70.00</td>\n",
       "    </tr>\n",
       "    <tr>\n",
       "      <th>1</th>\n",
       "      <td>1001</td>\n",
       "      <td>6919.15</td>\n",
       "      <td>171.14</td>\n",
       "      <td>30.0</td>\n",
       "      <td>8.0</td>\n",
       "      <td>Mickey</td>\n",
       "      <td>Wilkerson</td>\n",
       "      <td>28</td>\n",
       "      <td>Seattle-Tacoma-Bellevue, WA MSA</td>\n",
       "      <td>2018-08-13</td>\n",
       "      <td>surf</td>\n",
       "      <td>20.00</td>\n",
       "    </tr>\n",
       "    <tr>\n",
       "      <th>2</th>\n",
       "      <td>1001</td>\n",
       "      <td>13314.82</td>\n",
       "      <td>297.69</td>\n",
       "      <td>44.0</td>\n",
       "      <td>9.0</td>\n",
       "      <td>Mickey</td>\n",
       "      <td>Wilkerson</td>\n",
       "      <td>28</td>\n",
       "      <td>Seattle-Tacoma-Bellevue, WA MSA</td>\n",
       "      <td>2018-08-13</td>\n",
       "      <td>surf</td>\n",
       "      <td>20.00</td>\n",
       "    </tr>\n",
       "    <tr>\n",
       "      <th>3</th>\n",
       "      <td>1001</td>\n",
       "      <td>22330.49</td>\n",
       "      <td>374.11</td>\n",
       "      <td>53.0</td>\n",
       "      <td>10.0</td>\n",
       "      <td>Mickey</td>\n",
       "      <td>Wilkerson</td>\n",
       "      <td>28</td>\n",
       "      <td>Seattle-Tacoma-Bellevue, WA MSA</td>\n",
       "      <td>2018-08-13</td>\n",
       "      <td>surf</td>\n",
       "      <td>98.17</td>\n",
       "    </tr>\n",
       "    <tr>\n",
       "      <th>4</th>\n",
       "      <td>1001</td>\n",
       "      <td>18504.30</td>\n",
       "      <td>404.59</td>\n",
       "      <td>36.0</td>\n",
       "      <td>11.0</td>\n",
       "      <td>Mickey</td>\n",
       "      <td>Wilkerson</td>\n",
       "      <td>28</td>\n",
       "      <td>Seattle-Tacoma-Bellevue, WA MSA</td>\n",
       "      <td>2018-08-13</td>\n",
       "      <td>surf</td>\n",
       "      <td>60.71</td>\n",
       "    </tr>\n",
       "  </tbody>\n",
       "</table>\n",
       "</div>"
      ],
      "text/plain": [
       "   user_id  total_mb_used_internet  total_duration_calls  count_messages  \\\n",
       "0     1000                 1901.47                116.83            11.0   \n",
       "1     1001                 6919.15                171.14            30.0   \n",
       "2     1001                13314.82                297.69            44.0   \n",
       "3     1001                22330.49                374.11            53.0   \n",
       "4     1001                18504.30                404.59            36.0   \n",
       "\n",
       "   month first_name  last_name  age                                   city  \\\n",
       "0   12.0   Anamaria      Bauer   45  Atlanta-Sandy Springs-Roswell, GA MSA   \n",
       "1    8.0     Mickey  Wilkerson   28        Seattle-Tacoma-Bellevue, WA MSA   \n",
       "2    9.0     Mickey  Wilkerson   28        Seattle-Tacoma-Bellevue, WA MSA   \n",
       "3   10.0     Mickey  Wilkerson   28        Seattle-Tacoma-Bellevue, WA MSA   \n",
       "4   11.0     Mickey  Wilkerson   28        Seattle-Tacoma-Bellevue, WA MSA   \n",
       "\n",
       "    reg_date plan_name  revenue  \n",
       "0 2018-12-24  ultimate    70.00  \n",
       "1 2018-08-13      surf    20.00  \n",
       "2 2018-08-13      surf    20.00  \n",
       "3 2018-08-13      surf    98.17  \n",
       "4 2018-08-13      surf    60.71  "
      ]
     },
     "execution_count": 46,
     "metadata": {},
     "output_type": "execute_result"
    }
   ],
   "source": [
    "df.head(5)"
   ]
  },
  {
   "cell_type": "code",
   "execution_count": 47,
   "id": "082a1b48-3ed2-4820-a1c9-81eaecb0ec83",
   "metadata": {
    "tags": []
   },
   "outputs": [
    {
     "name": "stdout",
     "output_type": "stream",
     "text": [
      "<class 'pandas.core.frame.DataFrame'>\n",
      "Index: 2293 entries, 0 to 2398\n",
      "Data columns (total 12 columns):\n",
      " #   Column                  Non-Null Count  Dtype         \n",
      "---  ------                  --------------  -----         \n",
      " 0   user_id                 2293 non-null   int64         \n",
      " 1   total_mb_used_internet  2293 non-null   float64       \n",
      " 2   total_duration_calls    2293 non-null   float64       \n",
      " 3   count_messages          2293 non-null   float64       \n",
      " 4   month                   2293 non-null   float64       \n",
      " 5   first_name              2293 non-null   object        \n",
      " 6   last_name               2293 non-null   object        \n",
      " 7   age                     2293 non-null   int64         \n",
      " 8   city                    2293 non-null   object        \n",
      " 9   reg_date                2293 non-null   datetime64[ns]\n",
      " 10  plan_name               2293 non-null   object        \n",
      " 11  revenue                 2293 non-null   float64       \n",
      "dtypes: datetime64[ns](1), float64(5), int64(2), object(4)\n",
      "memory usage: 232.9+ KB\n"
     ]
    }
   ],
   "source": [
    "df.info()"
   ]
  },
  {
   "cell_type": "markdown",
   "id": "21240768-2198-49c9-98cf-2b113b158050",
   "metadata": {},
   "source": [
    "Agora Podemos começar a nossa analise."
   ]
  },
  {
   "cell_type": "markdown",
   "id": "6b47179f-408c-4c94-94e7-485860fb604a",
   "metadata": {},
   "source": [
    "[Voltar ao Índice](#back)"
   ]
  },
  {
   "cell_type": "markdown",
   "id": "678cef34-bc8f-4215-943d-2356f61ace98",
   "metadata": {},
   "source": [
    "## Etapa 5. EDA <a id='eda'></a>"
   ]
  },
  {
   "cell_type": "markdown",
   "id": "5aef4433-8515-494d-a402-abb7c40e52d1",
   "metadata": {},
   "source": [
    "Há valores muito descrepantes em nosso DataFrame, pois as penalidades são muitos severas, por isso iremos eliminar os valores atipicos para realizar um pesquisa mais precisa."
   ]
  },
  {
   "cell_type": "code",
   "execution_count": 48,
   "id": "14e388a3-fd16-4281-b4d6-8ceed3daa65d",
   "metadata": {
    "tags": []
   },
   "outputs": [],
   "source": [
    "# Determine o limite inferior para valores atípicos\n",
    "Q1_calls = df['total_duration_calls'].quantile(0.25)\n",
    "Q1_internet = df['total_mb_used_internet'].quantile(0.25)\n",
    "Q1_messages = df['count_messages'].quantile(0.25)\n",
    "Q1_revenues = df['revenue'].quantile(0.25)"
   ]
  },
  {
   "cell_type": "code",
   "execution_count": 49,
   "id": "30b72f90-36ca-40fe-8aa4-eda913fd15a0",
   "metadata": {
    "tags": []
   },
   "outputs": [],
   "source": [
    "# Determine o limite superior para valores atípicos\n",
    "Q3_calls = df['total_duration_calls'].quantile(0.75)\n",
    "Q3_internet = df['total_mb_used_internet'].quantile(0.75)\n",
    "Q3_messages = df['count_messages'].quantile(0.75)\n",
    "Q3_revenues = df['revenue'].quantile(0.75)"
   ]
  },
  {
   "cell_type": "code",
   "execution_count": 50,
   "id": "5a15846d-ca13-4f81-a24d-2282e555a8a7",
   "metadata": {
    "tags": []
   },
   "outputs": [],
   "source": [
    "# Armazene os dados sem os valores atípicos em um DataFrame separado\n",
    "IQR_calls = Q3_calls - Q1_calls\n",
    "IQR_internet = Q3_internet - Q1_internet\n",
    "IQR_messages = Q3_messages - Q1_messages\n",
    "IQR_revenues = Q3_revenues - Q1_revenues\n",
    "\n",
    "limite_superior_calls = Q3_calls+(1.5*IQR_calls)\n",
    "limite_superior_internet = Q3_internet+(1.5*IQR_internet)\n",
    "limite_superior_messages = Q3_messages+(1.5*IQR_messages)\n",
    "limite_superior_revenues = Q3_revenues+(1.5*IQR_revenues)\n",
    "\n",
    "limite_inferior_calls = Q1_calls - (1.5 * IQR_calls)\n",
    "limite_inferior_internet = Q1_internet - (1.5 * IQR_internet)\n",
    "limite_inferior_messages = Q1_messages - (1.5 * IQR_messages)\n",
    "limite_inferior_revenues = Q1_revenues - (1.5 * IQR_revenues)"
   ]
  },
  {
   "cell_type": "code",
   "execution_count": 51,
   "id": "9cdc9a29-6f9f-42c4-8628-6d9fc3fd3a7e",
   "metadata": {
    "tags": []
   },
   "outputs": [],
   "source": [
    "df_limp = df[df['total_duration_calls'] > limite_inferior_calls] \n",
    "df_limp = df_limp[df_limp['total_duration_calls'] < limite_superior_calls]\n",
    "df_limp = df_limp[df_limp['total_mb_used_internet'] > limite_inferior_internet] \n",
    "df_limp = df_limp[df_limp['total_mb_used_internet'] < limite_superior_internet]\n",
    "df_limp = df_limp[df_limp['count_messages'] > limite_inferior_messages] \n",
    "df_limp = df_limp[df_limp['count_messages'] < limite_superior_messages]\n",
    "df_limp = df_limp[df_limp['revenue'] > limite_inferior_revenues] \n",
    "df_limp = df_limp[df_limp['revenue'] < limite_superior_revenues]"
   ]
  },
  {
   "cell_type": "markdown",
   "id": "a63eb7aa-9ae1-4b48-a852-993478faec1f",
   "metadata": {},
   "source": [
    "Sem os 'outliers' podemos seguir com nossa pesquisa, iremos agora seperar em dois DataFrames por planos existentes."
   ]
  },
  {
   "cell_type": "code",
   "execution_count": 52,
   "id": "534e4e22-a862-49b2-a5e0-5bec7d7b5236",
   "metadata": {
    "tags": []
   },
   "outputs": [],
   "source": [
    "df_ultimate = df_limp[df_limp['plan_name']=='ultimate']\n",
    "df_surf = df_limp[df_limp['plan_name']=='surf']"
   ]
  },
  {
   "cell_type": "code",
   "execution_count": 53,
   "id": "89801c2e-c4ef-42b9-838c-433105f4221a",
   "metadata": {
    "tags": []
   },
   "outputs": [
    {
     "data": {
      "text/html": [
       "<div>\n",
       "<style scoped>\n",
       "    .dataframe tbody tr th:only-of-type {\n",
       "        vertical-align: middle;\n",
       "    }\n",
       "\n",
       "    .dataframe tbody tr th {\n",
       "        vertical-align: top;\n",
       "    }\n",
       "\n",
       "    .dataframe thead th {\n",
       "        text-align: right;\n",
       "    }\n",
       "</style>\n",
       "<table border=\"1\" class=\"dataframe\">\n",
       "  <thead>\n",
       "    <tr style=\"text-align: right;\">\n",
       "      <th></th>\n",
       "      <th>user_id</th>\n",
       "      <th>total_mb_used_internet</th>\n",
       "      <th>total_duration_calls</th>\n",
       "      <th>count_messages</th>\n",
       "      <th>month</th>\n",
       "      <th>first_name</th>\n",
       "      <th>last_name</th>\n",
       "      <th>age</th>\n",
       "      <th>city</th>\n",
       "      <th>reg_date</th>\n",
       "      <th>plan_name</th>\n",
       "      <th>revenue</th>\n",
       "    </tr>\n",
       "  </thead>\n",
       "  <tbody>\n",
       "    <tr>\n",
       "      <th>2214</th>\n",
       "      <td>1460</td>\n",
       "      <td>33687.73</td>\n",
       "      <td>344.46</td>\n",
       "      <td>59.0</td>\n",
       "      <td>6.0</td>\n",
       "      <td>Winford</td>\n",
       "      <td>Underwood</td>\n",
       "      <td>46</td>\n",
       "      <td>Fresno, CA MSA</td>\n",
       "      <td>2018-05-28</td>\n",
       "      <td>ultimate</td>\n",
       "      <td>97.29</td>\n",
       "    </tr>\n",
       "    <tr>\n",
       "      <th>183</th>\n",
       "      <td>1043</td>\n",
       "      <td>33572.26</td>\n",
       "      <td>173.81</td>\n",
       "      <td>107.0</td>\n",
       "      <td>11.0</td>\n",
       "      <td>Carlos</td>\n",
       "      <td>Hinton</td>\n",
       "      <td>42</td>\n",
       "      <td>New York-Newark-Jersey City, NY-NJ-PA MSA</td>\n",
       "      <td>2018-06-20</td>\n",
       "      <td>ultimate</td>\n",
       "      <td>96.51</td>\n",
       "    </tr>\n",
       "    <tr>\n",
       "      <th>720</th>\n",
       "      <td>1144</td>\n",
       "      <td>33370.53</td>\n",
       "      <td>485.22</td>\n",
       "      <td>81.0</td>\n",
       "      <td>12.0</td>\n",
       "      <td>Kaycee</td>\n",
       "      <td>Peterson</td>\n",
       "      <td>65</td>\n",
       "      <td>New York-Newark-Jersey City, NY-NJ-PA MSA</td>\n",
       "      <td>2018-04-21</td>\n",
       "      <td>ultimate</td>\n",
       "      <td>95.13</td>\n",
       "    </tr>\n",
       "    <tr>\n",
       "      <th>1386</th>\n",
       "      <td>1283</td>\n",
       "      <td>33067.50</td>\n",
       "      <td>881.77</td>\n",
       "      <td>117.0</td>\n",
       "      <td>12.0</td>\n",
       "      <td>Alan</td>\n",
       "      <td>Burgess</td>\n",
       "      <td>38</td>\n",
       "      <td>Charleston-North Charleston, SC MSA</td>\n",
       "      <td>2018-06-16</td>\n",
       "      <td>ultimate</td>\n",
       "      <td>93.05</td>\n",
       "    </tr>\n",
       "    <tr>\n",
       "      <th>104</th>\n",
       "      <td>1028</td>\n",
       "      <td>32907.83</td>\n",
       "      <td>62.97</td>\n",
       "      <td>84.0</td>\n",
       "      <td>5.0</td>\n",
       "      <td>Jefferey</td>\n",
       "      <td>Rasmussen</td>\n",
       "      <td>57</td>\n",
       "      <td>Philadelphia-Camden-Wilmington, PA-NJ-DE-MD MSA</td>\n",
       "      <td>2018-02-21</td>\n",
       "      <td>ultimate</td>\n",
       "      <td>91.96</td>\n",
       "    </tr>\n",
       "    <tr>\n",
       "      <th>...</th>\n",
       "      <td>...</td>\n",
       "      <td>...</td>\n",
       "      <td>...</td>\n",
       "      <td>...</td>\n",
       "      <td>...</td>\n",
       "      <td>...</td>\n",
       "      <td>...</td>\n",
       "      <td>...</td>\n",
       "      <td>...</td>\n",
       "      <td>...</td>\n",
       "      <td>...</td>\n",
       "      <td>...</td>\n",
       "    </tr>\n",
       "    <tr>\n",
       "      <th>2312</th>\n",
       "      <td>1482</td>\n",
       "      <td>560.33</td>\n",
       "      <td>53.48</td>\n",
       "      <td>5.0</td>\n",
       "      <td>12.0</td>\n",
       "      <td>Armand</td>\n",
       "      <td>Glenn</td>\n",
       "      <td>70</td>\n",
       "      <td>New York-Newark-Jersey City, NY-NJ-PA MSA</td>\n",
       "      <td>2018-01-01</td>\n",
       "      <td>ultimate</td>\n",
       "      <td>70.00</td>\n",
       "    </tr>\n",
       "    <tr>\n",
       "      <th>1674</th>\n",
       "      <td>1347</td>\n",
       "      <td>522.18</td>\n",
       "      <td>23.22</td>\n",
       "      <td>3.0</td>\n",
       "      <td>7.0</td>\n",
       "      <td>Trey</td>\n",
       "      <td>Lynch</td>\n",
       "      <td>65</td>\n",
       "      <td>Charleston-North Charleston, SC MSA</td>\n",
       "      <td>2018-06-17</td>\n",
       "      <td>ultimate</td>\n",
       "      <td>70.00</td>\n",
       "    </tr>\n",
       "    <tr>\n",
       "      <th>1995</th>\n",
       "      <td>1407</td>\n",
       "      <td>290.06</td>\n",
       "      <td>0.00</td>\n",
       "      <td>1.0</td>\n",
       "      <td>11.0</td>\n",
       "      <td>Tristan</td>\n",
       "      <td>Daugherty</td>\n",
       "      <td>27</td>\n",
       "      <td>New York-Newark-Jersey City, NY-NJ-PA MSA</td>\n",
       "      <td>2018-11-29</td>\n",
       "      <td>ultimate</td>\n",
       "      <td>70.00</td>\n",
       "    </tr>\n",
       "    <tr>\n",
       "      <th>530</th>\n",
       "      <td>1108</td>\n",
       "      <td>233.17</td>\n",
       "      <td>0.00</td>\n",
       "      <td>0.0</td>\n",
       "      <td>12.0</td>\n",
       "      <td>Porfirio</td>\n",
       "      <td>Kane</td>\n",
       "      <td>45</td>\n",
       "      <td>Salt Lake City, UT MSA</td>\n",
       "      <td>2018-12-30</td>\n",
       "      <td>ultimate</td>\n",
       "      <td>70.00</td>\n",
       "    </tr>\n",
       "    <tr>\n",
       "      <th>2313</th>\n",
       "      <td>1482</td>\n",
       "      <td>0.00</td>\n",
       "      <td>0.00</td>\n",
       "      <td>2.0</td>\n",
       "      <td>10.0</td>\n",
       "      <td>Armand</td>\n",
       "      <td>Glenn</td>\n",
       "      <td>70</td>\n",
       "      <td>New York-Newark-Jersey City, NY-NJ-PA MSA</td>\n",
       "      <td>2018-01-01</td>\n",
       "      <td>ultimate</td>\n",
       "      <td>70.00</td>\n",
       "    </tr>\n",
       "  </tbody>\n",
       "</table>\n",
       "<p>661 rows × 12 columns</p>\n",
       "</div>"
      ],
      "text/plain": [
       "      user_id  total_mb_used_internet  total_duration_calls  count_messages  \\\n",
       "2214     1460                33687.73                344.46            59.0   \n",
       "183      1043                33572.26                173.81           107.0   \n",
       "720      1144                33370.53                485.22            81.0   \n",
       "1386     1283                33067.50                881.77           117.0   \n",
       "104      1028                32907.83                 62.97            84.0   \n",
       "...       ...                     ...                   ...             ...   \n",
       "2312     1482                  560.33                 53.48             5.0   \n",
       "1674     1347                  522.18                 23.22             3.0   \n",
       "1995     1407                  290.06                  0.00             1.0   \n",
       "530      1108                  233.17                  0.00             0.0   \n",
       "2313     1482                    0.00                  0.00             2.0   \n",
       "\n",
       "      month first_name  last_name  age  \\\n",
       "2214    6.0    Winford  Underwood   46   \n",
       "183    11.0     Carlos     Hinton   42   \n",
       "720    12.0     Kaycee   Peterson   65   \n",
       "1386   12.0       Alan    Burgess   38   \n",
       "104     5.0   Jefferey  Rasmussen   57   \n",
       "...     ...        ...        ...  ...   \n",
       "2312   12.0     Armand      Glenn   70   \n",
       "1674    7.0       Trey      Lynch   65   \n",
       "1995   11.0    Tristan  Daugherty   27   \n",
       "530    12.0   Porfirio       Kane   45   \n",
       "2313   10.0     Armand      Glenn   70   \n",
       "\n",
       "                                                 city   reg_date plan_name  \\\n",
       "2214                                   Fresno, CA MSA 2018-05-28  ultimate   \n",
       "183         New York-Newark-Jersey City, NY-NJ-PA MSA 2018-06-20  ultimate   \n",
       "720         New York-Newark-Jersey City, NY-NJ-PA MSA 2018-04-21  ultimate   \n",
       "1386              Charleston-North Charleston, SC MSA 2018-06-16  ultimate   \n",
       "104   Philadelphia-Camden-Wilmington, PA-NJ-DE-MD MSA 2018-02-21  ultimate   \n",
       "...                                               ...        ...       ...   \n",
       "2312        New York-Newark-Jersey City, NY-NJ-PA MSA 2018-01-01  ultimate   \n",
       "1674              Charleston-North Charleston, SC MSA 2018-06-17  ultimate   \n",
       "1995        New York-Newark-Jersey City, NY-NJ-PA MSA 2018-11-29  ultimate   \n",
       "530                            Salt Lake City, UT MSA 2018-12-30  ultimate   \n",
       "2313        New York-Newark-Jersey City, NY-NJ-PA MSA 2018-01-01  ultimate   \n",
       "\n",
       "      revenue  \n",
       "2214    97.29  \n",
       "183     96.51  \n",
       "720     95.13  \n",
       "1386    93.05  \n",
       "104     91.96  \n",
       "...       ...  \n",
       "2312    70.00  \n",
       "1674    70.00  \n",
       "1995    70.00  \n",
       "530     70.00  \n",
       "2313    70.00  \n",
       "\n",
       "[661 rows x 12 columns]"
      ]
     },
     "execution_count": 53,
     "metadata": {},
     "output_type": "execute_result"
    }
   ],
   "source": [
    "df_ultimate.sort_values(by='total_mb_used_internet', ascending=False)"
   ]
  },
  {
   "cell_type": "code",
   "execution_count": 54,
   "id": "3f84824c-bc7a-4ed5-b34f-4099b64d2288",
   "metadata": {
    "tags": []
   },
   "outputs": [
    {
     "data": {
      "text/html": [
       "<div>\n",
       "<style scoped>\n",
       "    .dataframe tbody tr th:only-of-type {\n",
       "        vertical-align: middle;\n",
       "    }\n",
       "\n",
       "    .dataframe tbody tr th {\n",
       "        vertical-align: top;\n",
       "    }\n",
       "\n",
       "    .dataframe thead th {\n",
       "        text-align: right;\n",
       "    }\n",
       "</style>\n",
       "<table border=\"1\" class=\"dataframe\">\n",
       "  <thead>\n",
       "    <tr style=\"text-align: right;\">\n",
       "      <th></th>\n",
       "      <th>user_id</th>\n",
       "      <th>total_mb_used_internet</th>\n",
       "      <th>total_duration_calls</th>\n",
       "      <th>count_messages</th>\n",
       "      <th>month</th>\n",
       "      <th>first_name</th>\n",
       "      <th>last_name</th>\n",
       "      <th>age</th>\n",
       "      <th>city</th>\n",
       "      <th>reg_date</th>\n",
       "      <th>plan_name</th>\n",
       "      <th>revenue</th>\n",
       "    </tr>\n",
       "  </thead>\n",
       "  <tbody>\n",
       "    <tr>\n",
       "      <th>1574</th>\n",
       "      <td>1327</td>\n",
       "      <td>26737.61</td>\n",
       "      <td>450.02</td>\n",
       "      <td>37.0</td>\n",
       "      <td>10.0</td>\n",
       "      <td>Natosha</td>\n",
       "      <td>Peck</td>\n",
       "      <td>20</td>\n",
       "      <td>New York-Newark-Jersey City, NY-NJ-PA MSA</td>\n",
       "      <td>2018-02-17</td>\n",
       "      <td>surf</td>\n",
       "      <td>141.11</td>\n",
       "    </tr>\n",
       "    <tr>\n",
       "      <th>1013</th>\n",
       "      <td>1201</td>\n",
       "      <td>26731.81</td>\n",
       "      <td>354.53</td>\n",
       "      <td>10.0</td>\n",
       "      <td>12.0</td>\n",
       "      <td>Jeanelle</td>\n",
       "      <td>Estrada</td>\n",
       "      <td>61</td>\n",
       "      <td>Bridgeport-Stamford-Norwalk, CT MSA</td>\n",
       "      <td>2018-06-04</td>\n",
       "      <td>surf</td>\n",
       "      <td>141.05</td>\n",
       "    </tr>\n",
       "    <tr>\n",
       "      <th>1036</th>\n",
       "      <td>1206</td>\n",
       "      <td>26495.94</td>\n",
       "      <td>180.41</td>\n",
       "      <td>16.0</td>\n",
       "      <td>10.0</td>\n",
       "      <td>Angelic</td>\n",
       "      <td>Singleton</td>\n",
       "      <td>21</td>\n",
       "      <td>Providence-Warwick, RI-MA MSA</td>\n",
       "      <td>2018-07-09</td>\n",
       "      <td>surf</td>\n",
       "      <td>138.75</td>\n",
       "    </tr>\n",
       "    <tr>\n",
       "      <th>627</th>\n",
       "      <td>1127</td>\n",
       "      <td>26462.44</td>\n",
       "      <td>200.56</td>\n",
       "      <td>16.0</td>\n",
       "      <td>9.0</td>\n",
       "      <td>Marchelle</td>\n",
       "      <td>Brock</td>\n",
       "      <td>28</td>\n",
       "      <td>New York-Newark-Jersey City, NY-NJ-PA MSA</td>\n",
       "      <td>2018-06-23</td>\n",
       "      <td>surf</td>\n",
       "      <td>138.43</td>\n",
       "    </tr>\n",
       "    <tr>\n",
       "      <th>1734</th>\n",
       "      <td>1359</td>\n",
       "      <td>26441.94</td>\n",
       "      <td>476.60</td>\n",
       "      <td>0.0</td>\n",
       "      <td>4.0</td>\n",
       "      <td>Sherley</td>\n",
       "      <td>Norris</td>\n",
       "      <td>33</td>\n",
       "      <td>Colorado Springs, CO MSA</td>\n",
       "      <td>2018-02-08</td>\n",
       "      <td>surf</td>\n",
       "      <td>138.22</td>\n",
       "    </tr>\n",
       "    <tr>\n",
       "      <th>...</th>\n",
       "      <td>...</td>\n",
       "      <td>...</td>\n",
       "      <td>...</td>\n",
       "      <td>...</td>\n",
       "      <td>...</td>\n",
       "      <td>...</td>\n",
       "      <td>...</td>\n",
       "      <td>...</td>\n",
       "      <td>...</td>\n",
       "      <td>...</td>\n",
       "      <td>...</td>\n",
       "      <td>...</td>\n",
       "    </tr>\n",
       "    <tr>\n",
       "      <th>1110</th>\n",
       "      <td>1222</td>\n",
       "      <td>0.00</td>\n",
       "      <td>12.50</td>\n",
       "      <td>2.0</td>\n",
       "      <td>6.0</td>\n",
       "      <td>Cleo</td>\n",
       "      <td>Anderson</td>\n",
       "      <td>18</td>\n",
       "      <td>Los Angeles-Long Beach-Anaheim, CA MSA</td>\n",
       "      <td>2018-06-27</td>\n",
       "      <td>surf</td>\n",
       "      <td>20.00</td>\n",
       "    </tr>\n",
       "    <tr>\n",
       "      <th>2355</th>\n",
       "      <td>1491</td>\n",
       "      <td>0.00</td>\n",
       "      <td>40.45</td>\n",
       "      <td>6.0</td>\n",
       "      <td>4.0</td>\n",
       "      <td>Terina</td>\n",
       "      <td>Jensen</td>\n",
       "      <td>22</td>\n",
       "      <td>Grand Rapids-Kentwood, MI MSA</td>\n",
       "      <td>2018-04-27</td>\n",
       "      <td>surf</td>\n",
       "      <td>20.00</td>\n",
       "    </tr>\n",
       "    <tr>\n",
       "      <th>1650</th>\n",
       "      <td>1340</td>\n",
       "      <td>0.00</td>\n",
       "      <td>43.28</td>\n",
       "      <td>8.0</td>\n",
       "      <td>8.0</td>\n",
       "      <td>Vanna</td>\n",
       "      <td>Stanton</td>\n",
       "      <td>65</td>\n",
       "      <td>Dallas-Fort Worth-Arlington, TX MSA</td>\n",
       "      <td>2018-07-05</td>\n",
       "      <td>surf</td>\n",
       "      <td>20.00</td>\n",
       "    </tr>\n",
       "    <tr>\n",
       "      <th>1912</th>\n",
       "      <td>1393</td>\n",
       "      <td>0.00</td>\n",
       "      <td>68.65</td>\n",
       "      <td>4.0</td>\n",
       "      <td>10.0</td>\n",
       "      <td>Wilfredo</td>\n",
       "      <td>Rosa</td>\n",
       "      <td>44</td>\n",
       "      <td>Knoxville, TN MSA</td>\n",
       "      <td>2018-10-29</td>\n",
       "      <td>surf</td>\n",
       "      <td>20.00</td>\n",
       "    </tr>\n",
       "    <tr>\n",
       "      <th>1651</th>\n",
       "      <td>1340</td>\n",
       "      <td>0.00</td>\n",
       "      <td>411.25</td>\n",
       "      <td>62.0</td>\n",
       "      <td>10.0</td>\n",
       "      <td>Vanna</td>\n",
       "      <td>Stanton</td>\n",
       "      <td>65</td>\n",
       "      <td>Dallas-Fort Worth-Arlington, TX MSA</td>\n",
       "      <td>2018-07-05</td>\n",
       "      <td>surf</td>\n",
       "      <td>20.36</td>\n",
       "    </tr>\n",
       "  </tbody>\n",
       "</table>\n",
       "<p>1397 rows × 12 columns</p>\n",
       "</div>"
      ],
      "text/plain": [
       "      user_id  total_mb_used_internet  total_duration_calls  count_messages  \\\n",
       "1574     1327                26737.61                450.02            37.0   \n",
       "1013     1201                26731.81                354.53            10.0   \n",
       "1036     1206                26495.94                180.41            16.0   \n",
       "627      1127                26462.44                200.56            16.0   \n",
       "1734     1359                26441.94                476.60             0.0   \n",
       "...       ...                     ...                   ...             ...   \n",
       "1110     1222                    0.00                 12.50             2.0   \n",
       "2355     1491                    0.00                 40.45             6.0   \n",
       "1650     1340                    0.00                 43.28             8.0   \n",
       "1912     1393                    0.00                 68.65             4.0   \n",
       "1651     1340                    0.00                411.25            62.0   \n",
       "\n",
       "      month first_name  last_name  age  \\\n",
       "1574   10.0    Natosha       Peck   20   \n",
       "1013   12.0   Jeanelle    Estrada   61   \n",
       "1036   10.0    Angelic  Singleton   21   \n",
       "627     9.0  Marchelle      Brock   28   \n",
       "1734    4.0    Sherley     Norris   33   \n",
       "...     ...        ...        ...  ...   \n",
       "1110    6.0       Cleo   Anderson   18   \n",
       "2355    4.0     Terina     Jensen   22   \n",
       "1650    8.0      Vanna    Stanton   65   \n",
       "1912   10.0   Wilfredo       Rosa   44   \n",
       "1651   10.0      Vanna    Stanton   65   \n",
       "\n",
       "                                           city   reg_date plan_name  revenue  \n",
       "1574  New York-Newark-Jersey City, NY-NJ-PA MSA 2018-02-17      surf   141.11  \n",
       "1013        Bridgeport-Stamford-Norwalk, CT MSA 2018-06-04      surf   141.05  \n",
       "1036              Providence-Warwick, RI-MA MSA 2018-07-09      surf   138.75  \n",
       "627   New York-Newark-Jersey City, NY-NJ-PA MSA 2018-06-23      surf   138.43  \n",
       "1734                   Colorado Springs, CO MSA 2018-02-08      surf   138.22  \n",
       "...                                         ...        ...       ...      ...  \n",
       "1110     Los Angeles-Long Beach-Anaheim, CA MSA 2018-06-27      surf    20.00  \n",
       "2355              Grand Rapids-Kentwood, MI MSA 2018-04-27      surf    20.00  \n",
       "1650        Dallas-Fort Worth-Arlington, TX MSA 2018-07-05      surf    20.00  \n",
       "1912                          Knoxville, TN MSA 2018-10-29      surf    20.00  \n",
       "1651        Dallas-Fort Worth-Arlington, TX MSA 2018-07-05      surf    20.36  \n",
       "\n",
       "[1397 rows x 12 columns]"
      ]
     },
     "execution_count": 54,
     "metadata": {},
     "output_type": "execute_result"
    }
   ],
   "source": [
    "df_surf.sort_values(by='total_mb_used_internet', ascending=False)"
   ]
  },
  {
   "cell_type": "code",
   "execution_count": 55,
   "id": "b56cd849-f94a-47f7-a51b-b2451270284d",
   "metadata": {
    "tags": []
   },
   "outputs": [],
   "source": [
    "def calcular_estatisticas_internet(df):\n",
    "    variancia = df['total_mb_used_internet'].var()\n",
    "    desvio_padrao = df['total_mb_used_internet'].std()\n",
    "    media = df['total_mb_used_internet'].mean()\n",
    "    return variancia, desvio_padrao, media\n",
    "\n",
    "def calcular_estatisticas_chamadas(df):\n",
    "    variancia = df['total_duration_calls'].var()\n",
    "    desvio_padrao = df['total_duration_calls'].std()\n",
    "    media = df['total_duration_calls'].mean()\n",
    "    return variancia, desvio_padrao, media\n",
    "\n",
    "def calcular_estatisticas_mensagens(df):\n",
    "    variancia = df['count_messages'].var()\n",
    "    desvio_padrao = df['count_messages'].std()\n",
    "    media = df['count_messages'].mean()\n",
    "    return variancia, desvio_padrao, media\n",
    "\n",
    "def calcular_estatisticas_revenue(df):\n",
    "    variancia = df['revenue'].var()\n",
    "    desvio_padrao = df['revenue'].std()\n",
    "    media = df['revenue'].mean()\n",
    "    return variancia, desvio_padrao, media"
   ]
  },
  {
   "cell_type": "markdown",
   "id": "ea5bf098-ccae-4459-9371-0663f7a4e427",
   "metadata": {},
   "source": [
    "### Plano Ultimate"
   ]
  },
  {
   "cell_type": "code",
   "execution_count": 56,
   "id": "5fd06fec-aa24-47e1-932f-1cee7f97a7e7",
   "metadata": {
    "tags": []
   },
   "outputs": [
    {
     "name": "stdout",
     "output_type": "stream",
     "text": [
      "Estatísticas de Internet do Plano Ultimate:\n",
      "Variância: 44483398.1031601\n",
      "Desvio Padrão: 6669.587551202855\n",
      "Média: 16103.424387291981\n"
     ]
    }
   ],
   "source": [
    "\n",
    "var, std, mean = calcular_estatisticas_internet(df_ultimate)\n",
    "\n",
    "print(\"Estatísticas de Internet do Plano Ultimate:\")\n",
    "print(\"Variância:\", var)\n",
    "print(\"Desvio Padrão:\", std)\n",
    "print(\"Média:\", mean)"
   ]
  },
  {
   "cell_type": "code",
   "execution_count": 57,
   "id": "5f02d5a9-0ee3-4ad3-8e96-ee9e31e19832",
   "metadata": {
    "tags": []
   },
   "outputs": [
    {
     "data": {
      "image/png": "[encoded data removed]",
      "text/plain": [
       "<Figure size 640x480 with 1 Axes>"
      ]
     },
     "metadata": {},
     "output_type": "display_data"
    }
   ],
   "source": [
    "sns.distplot(df_ultimate['total_mb_used_internet'])\n",
    "plt.title('Média de consumo de internet (em MB) do Plano Ultimate')\n",
    "plt.ylabel('Quantidade de usuários')\n",
    "plt.xlabel('Consumo de internet (MB)')\n",
    "\n",
    "plt.show()"
   ]
  },
  {
   "cell_type": "markdown",
   "id": "9cd45b5c-800f-484e-aa93-6765df2124ba",
   "metadata": {},
   "source": [
    "Ao analisar o consumo de internet, observamos que os usuários do Plano Surf apresentam uma variância de aproximadamente 44.483.398 MB, o que está significativamente distante da média de cerca de 16.103 MB. Isso implica em uma dispersão estatística muito alta, com um desvio padrão de aproximadamente 6.669 MB. Como resultado, identificamos vários perfis de consumo, desde aqueles que utilizam significativamente mais internet até aqueles que utilizam menos, porém todos dentro da cota estabelecida, com poucos casos de excedente."
   ]
  },
  {
   "cell_type": "code",
   "execution_count": 58,
   "id": "6c3860cd-f96a-4756-b4f7-57f5c5560bb6",
   "metadata": {
    "tags": []
   },
   "outputs": [
    {
     "name": "stdout",
     "output_type": "stream",
     "text": [
      "Estatísticas de Duração das Chamadas do Plano Ultimate :\n",
      "Variância: 39297.57966386516\n",
      "Desvio Padrão: 198.23617143161627\n",
      "Média: 390.3797276853253\n"
     ]
    }
   ],
   "source": [
    "var, std, mean = calcular_estatisticas_chamadas(df_ultimate)\n",
    "\n",
    "print(\"Estatísticas de Duração das Chamadas do Plano Ultimate :\")\n",
    "print(\"Variância:\", var)\n",
    "print(\"Desvio Padrão:\", std)\n",
    "print(\"Média:\", mean)"
   ]
  },
  {
   "cell_type": "code",
   "execution_count": 59,
   "id": "377dabb0-d3f7-406d-97b3-bdec4cd64585",
   "metadata": {
    "tags": []
   },
   "outputs": [
    {
     "data": {
      "image/png": "[encoded data removed]",
      "text/plain": [
       "<Figure size 640x480 with 1 Axes>"
      ]
     },
     "metadata": {},
     "output_type": "display_data"
    }
   ],
   "source": [
    "sns.distplot(df_ultimate['total_duration_calls'])\n",
    "plt.title('Média de consumo de minutos de Ligações Plano Ultimate')\n",
    "plt.ylabel('Quantidade de usuários')\n",
    "plt.xlabel('Minutos utilizados')\n",
    "\n",
    "plt.show()"
   ]
  },
  {
   "cell_type": "markdown",
   "id": "e4687351-3e6d-48bd-ab83-676d70b19ef0",
   "metadata": {},
   "source": [
    "Ao analisar o padrão de consumo de tempo de chamadas, observamos que os usuários do Plano Ultimate apresentam uma variância de aproximadamente 39297 minutos, significativamente distante da média de 198 minutos. Isso indica uma dispersão estatística abaixo da média, com um desvio padrão de cerca de 390 minutos. Consequentemente, os usuários tendem a utilizar menos minutos de chamada, dentro de sua cota disponível."
   ]
  },
  {
   "cell_type": "code",
   "execution_count": 60,
   "id": "d2ce080f-6697-4e63-ab08-91b3d07cf13c",
   "metadata": {
    "tags": []
   },
   "outputs": [
    {
     "name": "stdout",
     "output_type": "stream",
     "text": [
      "Estatísticas de Contagem de Mensagens do Plano Ultimate :\n",
      "Variância: 854.0491083298965\n",
      "Desvio Padrão: 29.22411860655333\n",
      "Média: 32.65960665658094\n"
     ]
    }
   ],
   "source": [
    "var, std, mean = calcular_estatisticas_mensagens(df_ultimate)\n",
    "\n",
    "print(\"Estatísticas de Contagem de Mensagens do Plano Ultimate :\")\n",
    "print(\"Variância:\", var)\n",
    "print(\"Desvio Padrão:\", std)\n",
    "print(\"Média:\", mean)"
   ]
  },
  {
   "cell_type": "code",
   "execution_count": 61,
   "id": "a11ac296-032d-4907-ac68-b67b1cd75670",
   "metadata": {
    "tags": []
   },
   "outputs": [
    {
     "data": {
      "image/png": "[encoded data removed]",
      "text/plain": [
       "<Figure size 640x480 with 1 Axes>"
      ]
     },
     "metadata": {},
     "output_type": "display_data"
    }
   ],
   "source": [
    "sns.distplot(df_ultimate['count_messages'])\n",
    "plt.title('Média de contagem de mensagens do Plano Ultimate')\n",
    "plt.ylabel('Quantidade de usuários')\n",
    "plt.xlabel('Contagem de mensagens')\n",
    "\n",
    "plt.show()"
   ]
  },
  {
   "cell_type": "markdown",
   "id": "06d6c1fb-d5c0-431e-a13b-fde34ba5a650",
   "metadata": {},
   "source": [
    "Ao analisar o consumo de mensagens, observamos que os usuários do Plano Ultimate exibem uma variância de aproximadamente 854 mensagens, o que está em estreita proximidade com a média de cerca de 32 mensagens. Isso implica em uma dispersão estatística muito baixa, com um desvio padrão de aproximadamente 29 mensagens. Como resultado, os usuários tendem a manter um padrão consistente de quantidade de mensagens, bem abaixo da cota disponível."
   ]
  },
  {
   "cell_type": "code",
   "execution_count": 62,
   "id": "6e96e91d-35cb-4276-8e99-e12f6a28bbb7",
   "metadata": {
    "tags": []
   },
   "outputs": [
    {
     "name": "stdout",
     "output_type": "stream",
     "text": [
      "Estatísticas de Renda dos Usuários do Plano Ultimate :\n",
      "Variância: 6.874128851602123\n",
      "Desvio Padrão: 2.6218559936812174\n",
      "Média: 70.3441452344932\n"
     ]
    }
   ],
   "source": [
    "var, std, mean = calcular_estatisticas_revenue(df_ultimate)\n",
    "\n",
    "print(\"Estatísticas de Renda dos Usuários do Plano Ultimate :\")\n",
    "print(\"Variância:\", var)\n",
    "print(\"Desvio Padrão:\", std)\n",
    "print(\"Média:\", mean)"
   ]
  },
  {
   "cell_type": "code",
   "execution_count": 63,
   "id": "e1458e3e-df06-4ac4-855f-9977acf067c8",
   "metadata": {
    "tags": []
   },
   "outputs": [
    {
     "data": {
      "image/png": "[encoded data removed]",
      "text/plain": [
       "<Figure size 640x480 with 1 Axes>"
      ]
     },
     "metadata": {},
     "output_type": "display_data"
    }
   ],
   "source": [
    "sns.distplot(df_ultimate['revenue'])\n",
    "plt.title('Média de Renda dos Usuários do Plano Ultimate')\n",
    "plt.ylabel('Quantidade de usuários')\n",
    "plt.xlabel('Renda')\n",
    "\n",
    "plt.show()"
   ]
  },
  {
   "cell_type": "markdown",
   "id": "ae6365f3-c0f7-4728-8580-23532a28a6bf",
   "metadata": {},
   "source": [
    "Ao analisar a receita do plano, observamos que os usuários do Plano Ultimate apresentam uma variância de aproximadamente 4 dólares, o que está significativamente distante da média de cerca de 70 dólares. Isso implica em uma dispersão estatística muito baixa, com um desvio padrão de aproximadamente 2 dólares. Como resultado, os usuários tendem a manter um padrão consistente de valor de receita."
   ]
  },
  {
   "cell_type": "code",
   "execution_count": 64,
   "id": "30bec969-ba86-4334-b29e-46809672b25f",
   "metadata": {
    "tags": []
   },
   "outputs": [
    {
     "data": {
      "text/plain": [
       "46497.48"
      ]
     },
     "execution_count": 64,
     "metadata": {},
     "output_type": "execute_result"
    }
   ],
   "source": [
    "df_ultimate['revenue'].sum()"
   ]
  },
  {
   "cell_type": "code",
   "execution_count": 65,
   "id": "6d4f29ac-0baa-424b-9beb-577c29d3b6bf",
   "metadata": {
    "tags": []
   },
   "outputs": [
    {
     "data": {
      "text/plain": [
       "52210.85"
      ]
     },
     "execution_count": 65,
     "metadata": {},
     "output_type": "execute_result"
    }
   ],
   "source": [
    "df[df['plan_name']=='ultimate']['revenue'].sum()"
   ]
  },
  {
   "cell_type": "markdown",
   "id": "6fbd1f14-1dbc-4cd5-ba84-0b531d673e6e",
   "metadata": {},
   "source": [
    "Acima podemos ver a Receita total do nosso Plano Ultimate  que é 46497.48, e com os valores atipicos 52210.85"
   ]
  },
  {
   "cell_type": "markdown",
   "id": "6756bdc9-f4b5-4a85-9962-5991e294f920",
   "metadata": {},
   "source": [
    "### Plano Surf"
   ]
  },
  {
   "cell_type": "code",
   "execution_count": 66,
   "id": "58cd90d8-524b-4e99-8ef3-4d322403e43e",
   "metadata": {
    "tags": []
   },
   "outputs": [
    {
     "name": "stdout",
     "output_type": "stream",
     "text": [
      "Estatísticas de Renda dos Usuários do Plano Surf :\n",
      "Variância: 39013423.486466\n",
      "Desvio Padrão: 6246.072644987888\n",
      "Média: 15158.159806728705\n"
     ]
    }
   ],
   "source": [
    "var, std, mean = calcular_estatisticas_internet(df_surf)\n",
    "\n",
    "print(\"Estatísticas de Renda dos Usuários do Plano Surf :\")\n",
    "print(\"Variância:\", var)\n",
    "print(\"Desvio Padrão:\", std)\n",
    "print(\"Média:\", mean)"
   ]
  },
  {
   "cell_type": "code",
   "execution_count": 67,
   "id": "cff6bc52-74a8-4f19-90fc-77a7827c8280",
   "metadata": {
    "tags": []
   },
   "outputs": [
    {
     "data": {
      "image/png": "[encoded data removed]",
      "text/plain": [
       "<Figure size 640x480 with 1 Axes>"
      ]
     },
     "metadata": {},
     "output_type": "display_data"
    }
   ],
   "source": [
    "sns.distplot(df_surf['total_mb_used_internet'])\n",
    "plt.title('Média de consumo de internet (em MB) do Plano Surf')\n",
    "plt.ylabel('Quantidade de usuários')\n",
    "plt.xlabel('Consumo de internet (MB)')\n",
    "\n",
    "plt.show()"
   ]
  },
  {
   "cell_type": "markdown",
   "id": "de8423a7-f27b-43b5-8f37-9755fe3af30b",
   "metadata": {},
   "source": [
    "Ao analisar o consumo de internet, observamos que os usuários do Plano Surf apresentam uma variância em torno de 39.013.423, significativamente distante da média de aproximadamente 15.158 MB. Isso indica uma dispersão estatística muito alta, com um desvio padrão em torno de 6.246 MB. Como resultado, os usuários tendem a exceder a cota de internet estabelecida."
   ]
  },
  {
   "cell_type": "code",
   "execution_count": 68,
   "id": "d212a03e-4ac6-4f48-ac53-840fdb1b5109",
   "metadata": {
    "tags": []
   },
   "outputs": [
    {
     "name": "stdout",
     "output_type": "stream",
     "text": [
      "Estatísticas de Duração das Chamadas do Plano Surf :\n",
      "Variância: 40230.79148311346\n",
      "Desvio Padrão: 200.57614883907175\n",
      "Média: 383.2406943450251\n"
     ]
    }
   ],
   "source": [
    "var, std, mean = calcular_estatisticas_chamadas(df_surf)\n",
    "\n",
    "print(\"Estatísticas de Duração das Chamadas do Plano Surf :\")\n",
    "print(\"Variância:\", var)\n",
    "print(\"Desvio Padrão:\", std)\n",
    "print(\"Média:\", mean)"
   ]
  },
  {
   "cell_type": "code",
   "execution_count": 69,
   "id": "d8350c66-4573-490a-941f-274f73525bc6",
   "metadata": {
    "tags": []
   },
   "outputs": [
    {
     "data": {
      "image/png": "[encoded data removed]",
      "text/plain": [
       "<Figure size 640x480 with 1 Axes>"
      ]
     },
     "metadata": {},
     "output_type": "display_data"
    }
   ],
   "source": [
    "sns.distplot(df_surf['total_duration_calls'])\n",
    "plt.title('Média de consumo de minutos de Ligações Plano Surf')\n",
    "plt.ylabel('Quantidade de usuários')\n",
    "plt.xlabel('Minutos utilizados')\n",
    "\n",
    "plt.show()"
   ]
  },
  {
   "cell_type": "markdown",
   "id": "88853229-05c1-4a9e-a1b3-20ac7e57bce4",
   "metadata": {},
   "source": [
    "Ao analisar o consumo de tempo de ligações, observamos que os usuários do Plano Surf apresentam uma variância em torno de 40.230 minutos, significativamente distante da média de aproximadamente 383 minutos. Isso implica em uma dispersão estatística menor que a média, com um desvio padrão em torno de 200 minutos. Como resultado, a maioria dos usuários tende a utilizar quase toda a cota de ligações, e muitos ultrapassam essa cota."
   ]
  },
  {
   "cell_type": "code",
   "execution_count": 70,
   "id": "9bb41c50-73d2-4584-9f35-b27784a2eee7",
   "metadata": {
    "tags": []
   },
   "outputs": [
    {
     "name": "stdout",
     "output_type": "stream",
     "text": [
      "Estatísticas de Contagem de Mensagens do Plano Surf :\n",
      "Variância: 729.4728029568037\n",
      "Desvio Padrão: 27.008754191128542\n",
      "Média: 27.084466714387975\n"
     ]
    }
   ],
   "source": [
    "var, std, mean = calcular_estatisticas_mensagens(df_surf)\n",
    "\n",
    "print(\"Estatísticas de Contagem de Mensagens do Plano Surf :\")\n",
    "print(\"Variância:\", var)\n",
    "print(\"Desvio Padrão:\", std)\n",
    "print(\"Média:\", mean)"
   ]
  },
  {
   "cell_type": "code",
   "execution_count": 71,
   "id": "f0f82539-2f5a-4e92-bf4b-b007556933ee",
   "metadata": {
    "tags": []
   },
   "outputs": [
    {
     "data": {
      "image/png": "[encoded data removed]",
      "text/plain": [
       "<Figure size 640x480 with 1 Axes>"
      ]
     },
     "metadata": {},
     "output_type": "display_data"
    }
   ],
   "source": [
    "sns.distplot(df_surf['count_messages'])\n",
    "plt.title('Média de contagem de mensagens do Plano Surf')\n",
    "plt.ylabel('Quantidade de usuários')\n",
    "plt.xlabel('Contagem de mensagens')\n",
    "\n",
    "plt.show()"
   ]
  },
  {
   "cell_type": "markdown",
   "id": "32298415-bb3c-4a17-98e1-e68e00889b70",
   "metadata": {},
   "source": [
    "Ao analisar o consumo de mensagens, observamos que os usuários do Plano Surf apresentam uma variância em torno de 729 mensagens, o que está significativamente distante da média de aproximadamente 27 mensagens. Isso implica em uma dispersão estatística muito baixa, com um desvio padrão em torno de 27 mensagens. Como resultado, os usuários tendem a manter um padrão consistente de quantidade de mensagens, bem abaixo da cota estabelecida para mensagens"
   ]
  },
  {
   "cell_type": "code",
   "execution_count": 72,
   "id": "1c1d69d6-35fd-4a99-9d4b-fd85311996b9",
   "metadata": {
    "tags": []
   },
   "outputs": [
    {
     "name": "stdout",
     "output_type": "stream",
     "text": [
      "Estatísticas de Renda dos Usuários do Plano Surf :\n",
      "Variância: 1149.9231475039574\n",
      "Desvio Padrão: 33.91051676845927\n",
      "Média: 50.126735862562626\n"
     ]
    }
   ],
   "source": [
    "var, std, mean = calcular_estatisticas_revenue(df_surf)\n",
    "\n",
    "print(\"Estatísticas de Renda dos Usuários do Plano Surf :\")\n",
    "print(\"Variância:\", var)\n",
    "print(\"Desvio Padrão:\", std)\n",
    "print(\"Média:\", mean)"
   ]
  },
  {
   "cell_type": "code",
   "execution_count": 73,
   "id": "84472526-efa3-4e8c-b678-fb41a260ad2d",
   "metadata": {
    "tags": []
   },
   "outputs": [
    {
     "data": {
      "image/png": "[encoded data removed]",
      "text/plain": [
       "<Figure size 640x480 with 1 Axes>"
      ]
     },
     "metadata": {},
     "output_type": "display_data"
    }
   ],
   "source": [
    "sns.distplot(df_surf['revenue'])\n",
    "plt.title('Média de Renda dos Usuários do Plano Surf')\n",
    "plt.ylabel('Quantidade de usuários')\n",
    "plt.xlabel('Renda')\n",
    "\n",
    "plt.show()"
   ]
  },
  {
   "cell_type": "markdown",
   "id": "a1e0f28e-c9e8-4733-8b3b-cf5ceb3e0231",
   "metadata": {},
   "source": [
    "Ao analisar a receita do plano, observamos que os usuários do Plano Surf apresentam uma variância em torno de 1149 dólares, o que está significativamente distante da média de aproximadamente 50 dólares. Isso implica em uma dispersão estatística muito alta, com um desvio padrão em torno de 34 dólares. Como resultado, os usuários tendem a incorrer em penalidades financeiras."
   ]
  },
  {
   "cell_type": "markdown",
   "id": "76259749-6e08-4870-aec5-36f40a0330bb",
   "metadata": {},
   "source": [
    "## Etapa 6. Hipóteses <a id='hypothesys'></a>"
   ]
  },
  {
   "cell_type": "code",
   "execution_count": 74,
   "id": "f39e749b-ccad-4867-8d5e-a966d560a3b1",
   "metadata": {
    "tags": []
   },
   "outputs": [],
   "source": [
    "from scipy import stats as st"
   ]
  },
  {
   "cell_type": "markdown",
   "id": "4e83a329-7921-44eb-89ae-e965b1faec0b",
   "metadata": {},
   "source": [
    "### Hipótese sobre a Igualdade das Médias "
   ]
  },
  {
   "cell_type": "markdown",
   "id": "69024690-eb0a-4571-a1be-99020f304e74",
   "metadata": {},
   "source": [
    "#### A receita média dos usuários dos planos Ultimate e Surf são iguais?"
   ]
  },
  {
   "cell_type": "code",
   "execution_count": 75,
   "id": "fb5aa088-66ad-4e54-8198-94d537947a72",
   "metadata": {
    "tags": []
   },
   "outputs": [],
   "source": [
    "alpha = 0.05"
   ]
  },
  {
   "cell_type": "code",
   "execution_count": 76,
   "id": "f679456e-f208-4513-992e-a173df4191a3",
   "metadata": {
    "tags": []
   },
   "outputs": [],
   "source": [
    "results = st.ttest_ind(df_surf['revenue'], df_ultimate['revenue'],equal_var = False)"
   ]
  },
  {
   "cell_type": "code",
   "execution_count": 77,
   "id": "70b6dd81-938f-4ce4-82d7-b961c43a6173",
   "metadata": {
    "tags": []
   },
   "outputs": [
    {
     "name": "stdout",
     "output_type": "stream",
     "text": [
      "p-value: 1.1367747233722477e-93\n"
     ]
    }
   ],
   "source": [
    "print('p-value:', results.pvalue)"
   ]
  },
  {
   "cell_type": "code",
   "execution_count": 78,
   "id": "92df2d71-8b20-470b-9623-616de09b8f2d",
   "metadata": {
    "tags": []
   },
   "outputs": [
    {
     "name": "stdout",
     "output_type": "stream",
     "text": [
      "Nós rejeitamos a hipótese nula\n"
     ]
    }
   ],
   "source": [
    "if results.pvalue < alpha:\n",
    "    print(\"Nós rejeitamos a hipótese nula\")\n",
    "else:\n",
    "    print(\"Nós não podemos rejeitar a hipótese nula\")"
   ]
  },
  {
   "cell_type": "markdown",
   "id": "33792720-872e-4bd5-9976-a8f30b149807",
   "metadata": {},
   "source": [
    "O valor-p indica que há diferença estatística entre as médias de receita dos planos, porém a análise não dispõe de dados suficientes para determinar a natureza específica dessa disparidade."
   ]
  },
  {
   "cell_type": "markdown",
   "id": "482784e7-ba95-49be-a353-0f8f1072ba1f",
   "metadata": {},
   "source": [
    "#### A receita média dos usuários da área de NY-NJ é igual dos usuários de outras regiões?"
   ]
  },
  {
   "cell_type": "code",
   "execution_count": 79,
   "id": "3379b6f4-a957-4e86-a13e-2172987b44c6",
   "metadata": {
    "tags": []
   },
   "outputs": [],
   "source": [
    "df_ny_nj = df_limp.query(\"city == 'New York-Newark-Jersey City, NY-NJ-PA MSA' \")\n",
    "df_other = df_limp.query(\"city != 'New York-Newark-Jersey City, NY-NJ-PA MSA' \")"
   ]
  },
  {
   "cell_type": "code",
   "execution_count": 80,
   "id": "b8b8e420-fd42-4523-b872-c9fe894ba29a",
   "metadata": {
    "tags": []
   },
   "outputs": [],
   "source": [
    "results_ny = st.ttest_ind(df_ny_nj['revenue'], df_other['revenue'],equal_var = False)"
   ]
  },
  {
   "cell_type": "code",
   "execution_count": 81,
   "id": "089826c8-8f0e-4da3-801e-01fbdd423991",
   "metadata": {
    "tags": []
   },
   "outputs": [
    {
     "name": "stdout",
     "output_type": "stream",
     "text": [
      "p-value: 0.0563040388468549\n"
     ]
    }
   ],
   "source": [
    "print('p-value:', results_ny.pvalue)"
   ]
  },
  {
   "cell_type": "code",
   "execution_count": 82,
   "id": "6be7ceba-9602-44c9-bbf6-67d9ca7f58fe",
   "metadata": {
    "tags": []
   },
   "outputs": [
    {
     "name": "stdout",
     "output_type": "stream",
     "text": [
      "Nós não podemos rejeitar a hipótese nula\n"
     ]
    }
   ],
   "source": [
    "if results_ny.pvalue < alpha:\n",
    "    print(\"Nós rejeitamos a hipótese nula\")\n",
    "else:\n",
    "    print(\"Nós não podemos rejeitar a hipótese nula\")"
   ]
  },
  {
   "cell_type": "markdown",
   "id": "724702af-a1e7-4edd-8548-49b94005b40d",
   "metadata": {},
   "source": [
    "O valor-p nos diz que os valores médios de receita diferem dos planos, mas não temos dados suficientes para dizer como."
   ]
  },
  {
   "cell_type": "markdown",
   "id": "618607b7-db17-480e-b7dc-55b48e384c16",
   "metadata": {},
   "source": [
    "Não podemos rejeitar a hipótese nula, pois o valor-p indica que, embora os valores médios para NY-NJ em comparação com as demais cidades sejam diferentes, essa probabilidade não é suficiente para concluir que há uma diferença significativa entre os valores médios gastos."
   ]
  },
  {
   "cell_type": "markdown",
   "id": "9cd5d1b5-d2dc-461b-97c9-0b4a43d80c46",
   "metadata": {},
   "source": [
    "[Voltar ao Índice](#back)"
   ]
  },
  {
   "cell_type": "markdown",
   "id": "1bd999e7-8a99-4524-a666-56eca359209e",
   "metadata": {},
   "source": [
    "## Conclusão geral <a id='end'></a>"
   ]
  },
  {
   "cell_type": "markdown",
   "id": "7acaa004-ec59-4429-8602-a0bb6226ef50",
   "metadata": {},
   "source": [
    "Neste projeto, foram importadas bibliotecas como \"pandas\" e \"numpy\" para a construção de gráficos visando proporcionar uma melhor visualização e compreensão do problema.\n",
    "\n",
    "Com base nos estudos, realizamos o pré-processamento dos dados. Em cada coluna, efetuamos a padronização de estilos, corrigimos valores discrepantes, substituímos valores ausentes com base em análises de outras colunas com dados devidamente preenchidos, verificamos a existência de duplicatas na base de dados e investigamos os dados coletados para determinar quais planos geram maior receita.\n",
    "\n",
    "A partir da Análise Exploratória de Dados, concluímos que o Plano Surf gera a maior receita devido à sua natureza restritiva, com penalidades rigorosas, o que resulta em uma receita mais elevada. No entanto, isso também pode gerar uma imagem negativa para novos usuários.\n",
    "\n",
    "Com base nas hipóteses levantadas, não podemos afirmar que a média dos usuários dos planos Ultimate e Surf são iguais. Da mesma forma, a receita média dos usuários da área de NY-NJ ser igual à dos usuários de outras regiões não é suficiente para concluir que há uma diferença significativa entre os valores médios gastos."
   ]
  }
 ],
 "metadata": {
  "kernelspec": {
   "display_name": "Python 3 (ipykernel)",
   "language": "python",
   "name": "python3"
  },
  "language_info": {
   "codemirror_mode": {
    "name": "ipython",
    "version": 3
   },
   "file_extension": ".py",
   "mimetype": "text/x-python",
   "name": "python",
   "nbconvert_exporter": "python",
   "pygments_lexer": "ipython3",
   "version": "3.11.5"
  }
 },
 "nbformat": 4,
 "nbformat_minor": 5
}
